{
 "cells": [
  {
   "cell_type": "code",
   "execution_count": 1,
   "id": "6d855296",
   "metadata": {},
   "outputs": [],
   "source": [
    "import os\n",
    "import pandas as pd"
   ]
  },
  {
   "cell_type": "code",
   "execution_count": 2,
   "id": "3775b58f",
   "metadata": {},
   "outputs": [],
   "source": [
    "cwd=os.getcwd()"
   ]
  },
  {
   "cell_type": "code",
   "execution_count": 3,
   "id": "dae93b7f-188c-4a03-86dd-8e345435fb72",
   "metadata": {},
   "outputs": [],
   "source": [
    "import numpy as np\n",
    "from sklearn import linear_model\n",
    "import matplotlib.pyplot as plt\n",
    "import seaborn as sns\n",
    "sns.set()\n",
    "%matplotlib inline"
   ]
  },
  {
   "cell_type": "code",
   "execution_count": 4,
   "id": "1e5128f2-7195-4a3f-9f73-893c583120f3",
   "metadata": {},
   "outputs": [],
   "source": [
    "us = pd.read_csv(cwd+\"/covid-19-data/us.csv\")\n",
    "counties_df = pd.read_csv(cwd+\"/covid-19-data/us-counties.csv\")\n",
    "states_df = pd.read_csv(cwd+\"/covid-19-data/us-states.csv\")\n",
    "counties20 = pd.read_csv(cwd+\"/covid-19-data/us-counties-2020.csv\")\n",
    "counties21 = pd.read_csv(cwd+\"/covid-19-data/us-counties-2021.csv\")\n",
    "counties22 = pd.read_csv(cwd+\"/covid-19-data/us-counties-2022.csv\")\n",
    "facilities = pd.read_csv(cwd+\"/covid-19-data/prisons/facilities.csv\")\n",
    "systems = pd.read_csv(cwd+\"/covid-19-data/prisons/systems.csv\")\n",
    "colleges =  pd.read_csv(cwd+\"/covid-19-data/colleges/colleges.csv\")\n",
    "c20_avg = pd.read_csv(cwd+\"/covid-19-data/rolling-averages/us-counties-2020.csv\")\n",
    "c21_avg = pd.read_csv(cwd+\"/covid-19-data/rolling-averages/us-counties-2021.csv\")\n",
    "c22_avg = pd.read_csv(cwd+\"/covid-19-data/rolling-averages/us-counties-2022.csv\")"
   ]
  },
  {
   "cell_type": "code",
   "execution_count": 5,
   "id": "8f67aebe-a259-4582-a53b-d0eaab8b01f3",
   "metadata": {},
   "outputs": [
    {
     "data": {
      "text/html": [
       "<div>\n",
       "<style scoped>\n",
       "    .dataframe tbody tr th:only-of-type {\n",
       "        vertical-align: middle;\n",
       "    }\n",
       "\n",
       "    .dataframe tbody tr th {\n",
       "        vertical-align: top;\n",
       "    }\n",
       "\n",
       "    .dataframe thead th {\n",
       "        text-align: right;\n",
       "    }\n",
       "</style>\n",
       "<table border=\"1\" class=\"dataframe\">\n",
       "  <thead>\n",
       "    <tr style=\"text-align: right;\">\n",
       "      <th></th>\n",
       "      <th>date</th>\n",
       "      <th>cases</th>\n",
       "      <th>deaths</th>\n",
       "    </tr>\n",
       "  </thead>\n",
       "  <tbody>\n",
       "    <tr>\n",
       "      <th>0</th>\n",
       "      <td>2020-01-21</td>\n",
       "      <td>1</td>\n",
       "      <td>0</td>\n",
       "    </tr>\n",
       "    <tr>\n",
       "      <th>1</th>\n",
       "      <td>2020-01-22</td>\n",
       "      <td>1</td>\n",
       "      <td>0</td>\n",
       "    </tr>\n",
       "    <tr>\n",
       "      <th>2</th>\n",
       "      <td>2020-01-23</td>\n",
       "      <td>1</td>\n",
       "      <td>0</td>\n",
       "    </tr>\n",
       "    <tr>\n",
       "      <th>3</th>\n",
       "      <td>2020-01-24</td>\n",
       "      <td>2</td>\n",
       "      <td>0</td>\n",
       "    </tr>\n",
       "    <tr>\n",
       "      <th>4</th>\n",
       "      <td>2020-01-25</td>\n",
       "      <td>3</td>\n",
       "      <td>0</td>\n",
       "    </tr>\n",
       "  </tbody>\n",
       "</table>\n",
       "</div>"
      ],
      "text/plain": [
       "         date  cases  deaths\n",
       "0  2020-01-21      1       0\n",
       "1  2020-01-22      1       0\n",
       "2  2020-01-23      1       0\n",
       "3  2020-01-24      2       0\n",
       "4  2020-01-25      3       0"
      ]
     },
     "execution_count": 5,
     "metadata": {},
     "output_type": "execute_result"
    }
   ],
   "source": [
    "us.head()"
   ]
  },
  {
   "cell_type": "code",
   "execution_count": 6,
   "id": "d7863703-ba51-4950-bf27-6ea4503f3845",
   "metadata": {},
   "outputs": [
    {
     "data": {
      "text/html": [
       "<div>\n",
       "<style scoped>\n",
       "    .dataframe tbody tr th:only-of-type {\n",
       "        vertical-align: middle;\n",
       "    }\n",
       "\n",
       "    .dataframe tbody tr th {\n",
       "        vertical-align: top;\n",
       "    }\n",
       "\n",
       "    .dataframe thead th {\n",
       "        text-align: right;\n",
       "    }\n",
       "</style>\n",
       "<table border=\"1\" class=\"dataframe\">\n",
       "  <thead>\n",
       "    <tr style=\"text-align: right;\">\n",
       "      <th></th>\n",
       "      <th>date</th>\n",
       "      <th>geoid</th>\n",
       "      <th>county</th>\n",
       "      <th>state</th>\n",
       "      <th>cases</th>\n",
       "      <th>cases_avg</th>\n",
       "      <th>cases_avg_per_100k</th>\n",
       "      <th>deaths</th>\n",
       "      <th>deaths_avg</th>\n",
       "      <th>deaths_avg_per_100k</th>\n",
       "    </tr>\n",
       "  </thead>\n",
       "  <tbody>\n",
       "    <tr>\n",
       "      <th>0</th>\n",
       "      <td>2020-01-21</td>\n",
       "      <td>USA-53061</td>\n",
       "      <td>Snohomish</td>\n",
       "      <td>Washington</td>\n",
       "      <td>1</td>\n",
       "      <td>0.14</td>\n",
       "      <td>0.02</td>\n",
       "      <td>0</td>\n",
       "      <td>0.0</td>\n",
       "      <td>0.0</td>\n",
       "    </tr>\n",
       "    <tr>\n",
       "      <th>1</th>\n",
       "      <td>2020-01-22</td>\n",
       "      <td>USA-53061</td>\n",
       "      <td>Snohomish</td>\n",
       "      <td>Washington</td>\n",
       "      <td>0</td>\n",
       "      <td>0.14</td>\n",
       "      <td>0.02</td>\n",
       "      <td>0</td>\n",
       "      <td>0.0</td>\n",
       "      <td>0.0</td>\n",
       "    </tr>\n",
       "    <tr>\n",
       "      <th>2</th>\n",
       "      <td>2020-01-23</td>\n",
       "      <td>USA-53061</td>\n",
       "      <td>Snohomish</td>\n",
       "      <td>Washington</td>\n",
       "      <td>0</td>\n",
       "      <td>0.14</td>\n",
       "      <td>0.02</td>\n",
       "      <td>0</td>\n",
       "      <td>0.0</td>\n",
       "      <td>0.0</td>\n",
       "    </tr>\n",
       "    <tr>\n",
       "      <th>3</th>\n",
       "      <td>2020-01-24</td>\n",
       "      <td>USA-53061</td>\n",
       "      <td>Snohomish</td>\n",
       "      <td>Washington</td>\n",
       "      <td>0</td>\n",
       "      <td>0.14</td>\n",
       "      <td>0.02</td>\n",
       "      <td>0</td>\n",
       "      <td>0.0</td>\n",
       "      <td>0.0</td>\n",
       "    </tr>\n",
       "    <tr>\n",
       "      <th>4</th>\n",
       "      <td>2020-01-24</td>\n",
       "      <td>USA-17031</td>\n",
       "      <td>Cook</td>\n",
       "      <td>Illinois</td>\n",
       "      <td>1</td>\n",
       "      <td>0.14</td>\n",
       "      <td>0.00</td>\n",
       "      <td>0</td>\n",
       "      <td>0.0</td>\n",
       "      <td>0.0</td>\n",
       "    </tr>\n",
       "  </tbody>\n",
       "</table>\n",
       "</div>"
      ],
      "text/plain": [
       "         date      geoid     county       state  cases  cases_avg  \\\n",
       "0  2020-01-21  USA-53061  Snohomish  Washington      1       0.14   \n",
       "1  2020-01-22  USA-53061  Snohomish  Washington      0       0.14   \n",
       "2  2020-01-23  USA-53061  Snohomish  Washington      0       0.14   \n",
       "3  2020-01-24  USA-53061  Snohomish  Washington      0       0.14   \n",
       "4  2020-01-24  USA-17031       Cook    Illinois      1       0.14   \n",
       "\n",
       "   cases_avg_per_100k  deaths  deaths_avg  deaths_avg_per_100k  \n",
       "0                0.02       0         0.0                  0.0  \n",
       "1                0.02       0         0.0                  0.0  \n",
       "2                0.02       0         0.0                  0.0  \n",
       "3                0.02       0         0.0                  0.0  \n",
       "4                0.00       0         0.0                  0.0  "
      ]
     },
     "execution_count": 6,
     "metadata": {},
     "output_type": "execute_result"
    }
   ],
   "source": [
    "c20_avg.head()"
   ]
  },
  {
   "cell_type": "code",
   "execution_count": 7,
   "id": "3e6aa695-e18c-4166-9497-45d46d0abc06",
   "metadata": {},
   "outputs": [
    {
     "data": {
      "text/plain": [
       "date      0\n",
       "state     0\n",
       "fips      0\n",
       "cases     0\n",
       "deaths    0\n",
       "dtype: int64"
      ]
     },
     "execution_count": 7,
     "metadata": {},
     "output_type": "execute_result"
    }
   ],
   "source": [
    "states_df.isna().sum()"
   ]
  },
  {
   "cell_type": "code",
   "execution_count": 8,
   "id": "eedaf30e-da17-48a8-aabf-ba3b27696d63",
   "metadata": {},
   "outputs": [
    {
     "data": {
      "text/plain": [
       "(44750, 5)"
      ]
     },
     "execution_count": 8,
     "metadata": {},
     "output_type": "execute_result"
    }
   ],
   "source": [
    "states_df.shape"
   ]
  },
  {
   "cell_type": "markdown",
   "id": "814f0b16-d96c-4325-8e31-f5a9222d1293",
   "metadata": {},
   "source": [
    "those are the dimentions of states dataframe\n",
    "it is clean"
   ]
  },
  {
   "cell_type": "code",
   "execution_count": 9,
   "id": "2565218e-757e-435a-b6e8-dc7fd25e6719",
   "metadata": {},
   "outputs": [
    {
     "data": {
      "text/html": [
       "<div>\n",
       "<style scoped>\n",
       "    .dataframe tbody tr th:only-of-type {\n",
       "        vertical-align: middle;\n",
       "    }\n",
       "\n",
       "    .dataframe tbody tr th {\n",
       "        vertical-align: top;\n",
       "    }\n",
       "\n",
       "    .dataframe thead th {\n",
       "        text-align: right;\n",
       "    }\n",
       "</style>\n",
       "<table border=\"1\" class=\"dataframe\">\n",
       "  <thead>\n",
       "    <tr style=\"text-align: right;\">\n",
       "      <th></th>\n",
       "      <th>date</th>\n",
       "      <th>state</th>\n",
       "      <th>county</th>\n",
       "      <th>city</th>\n",
       "      <th>ipeds_id</th>\n",
       "      <th>college</th>\n",
       "      <th>cases</th>\n",
       "      <th>cases_2021</th>\n",
       "      <th>notes</th>\n",
       "    </tr>\n",
       "  </thead>\n",
       "  <tbody>\n",
       "    <tr>\n",
       "      <th>0</th>\n",
       "      <td>2021-05-26</td>\n",
       "      <td>Alabama</td>\n",
       "      <td>Madison</td>\n",
       "      <td>Huntsville</td>\n",
       "      <td>100654</td>\n",
       "      <td>Alabama A&amp;M University</td>\n",
       "      <td>41</td>\n",
       "      <td>NaN</td>\n",
       "      <td>NaN</td>\n",
       "    </tr>\n",
       "    <tr>\n",
       "      <th>1</th>\n",
       "      <td>2021-05-26</td>\n",
       "      <td>Alabama</td>\n",
       "      <td>Montgomery</td>\n",
       "      <td>Montgomery</td>\n",
       "      <td>100724</td>\n",
       "      <td>Alabama State University</td>\n",
       "      <td>2</td>\n",
       "      <td>NaN</td>\n",
       "      <td>NaN</td>\n",
       "    </tr>\n",
       "    <tr>\n",
       "      <th>2</th>\n",
       "      <td>2021-05-26</td>\n",
       "      <td>Alabama</td>\n",
       "      <td>Limestone</td>\n",
       "      <td>Athens</td>\n",
       "      <td>100812</td>\n",
       "      <td>Athens State University</td>\n",
       "      <td>45</td>\n",
       "      <td>10.0</td>\n",
       "      <td>NaN</td>\n",
       "    </tr>\n",
       "    <tr>\n",
       "      <th>3</th>\n",
       "      <td>2021-05-26</td>\n",
       "      <td>Alabama</td>\n",
       "      <td>Lee</td>\n",
       "      <td>Auburn</td>\n",
       "      <td>100858</td>\n",
       "      <td>Auburn University</td>\n",
       "      <td>2742</td>\n",
       "      <td>567.0</td>\n",
       "      <td>NaN</td>\n",
       "    </tr>\n",
       "    <tr>\n",
       "      <th>4</th>\n",
       "      <td>2021-05-26</td>\n",
       "      <td>Alabama</td>\n",
       "      <td>Montgomery</td>\n",
       "      <td>Montgomery</td>\n",
       "      <td>100830</td>\n",
       "      <td>Auburn University at Montgomery</td>\n",
       "      <td>220</td>\n",
       "      <td>80.0</td>\n",
       "      <td>NaN</td>\n",
       "    </tr>\n",
       "  </tbody>\n",
       "</table>\n",
       "</div>"
      ],
      "text/plain": [
       "         date    state      county        city ipeds_id  \\\n",
       "0  2021-05-26  Alabama     Madison  Huntsville   100654   \n",
       "1  2021-05-26  Alabama  Montgomery  Montgomery   100724   \n",
       "2  2021-05-26  Alabama   Limestone      Athens   100812   \n",
       "3  2021-05-26  Alabama         Lee      Auburn   100858   \n",
       "4  2021-05-26  Alabama  Montgomery  Montgomery   100830   \n",
       "\n",
       "                           college  cases  cases_2021 notes  \n",
       "0           Alabama A&M University     41         NaN   NaN  \n",
       "1         Alabama State University      2         NaN   NaN  \n",
       "2          Athens State University     45        10.0   NaN  \n",
       "3                Auburn University   2742       567.0   NaN  \n",
       "4  Auburn University at Montgomery    220        80.0   NaN  "
      ]
     },
     "execution_count": 9,
     "metadata": {},
     "output_type": "execute_result"
    }
   ],
   "source": [
    "colleges.head()"
   ]
  },
  {
   "cell_type": "code",
   "execution_count": 10,
   "id": "ca8c1f31-bd94-4f88-b74d-22e66ca31205",
   "metadata": {},
   "outputs": [
    {
     "data": {
      "text/plain": [
       "(1948, 9)"
      ]
     },
     "execution_count": 10,
     "metadata": {},
     "output_type": "execute_result"
    }
   ],
   "source": [
    "colleges.shape"
   ]
  },
  {
   "cell_type": "code",
   "execution_count": 11,
   "id": "65a57fd6-cada-4328-8f5f-27b49418a8d5",
   "metadata": {},
   "outputs": [
    {
     "data": {
      "text/plain": [
       "array(['2021-05-26'], dtype=object)"
      ]
     },
     "execution_count": 11,
     "metadata": {},
     "output_type": "execute_result"
    }
   ],
   "source": [
    "colleges['date'].unique()\n"
   ]
  },
  {
   "cell_type": "markdown",
   "id": "05dc97b3-fb72-4956-a59f-42a8ad6d5942",
   "metadata": {},
   "source": [
    "we are going to attempt clustering of the states based on deaths and cases. First we have to deal with missing data"
   ]
  },
  {
   "cell_type": "code",
   "execution_count": 12,
   "id": "f6deb424-9c09-492f-8d4e-4d04050afa9f",
   "metadata": {},
   "outputs": [
    {
     "data": {
      "text/html": [
       "<div>\n",
       "<style scoped>\n",
       "    .dataframe tbody tr th:only-of-type {\n",
       "        vertical-align: middle;\n",
       "    }\n",
       "\n",
       "    .dataframe tbody tr th {\n",
       "        vertical-align: top;\n",
       "    }\n",
       "\n",
       "    .dataframe thead th {\n",
       "        text-align: right;\n",
       "    }\n",
       "</style>\n",
       "<table border=\"1\" class=\"dataframe\">\n",
       "  <thead>\n",
       "    <tr style=\"text-align: right;\">\n",
       "      <th></th>\n",
       "      <th>date</th>\n",
       "      <th>state</th>\n",
       "      <th>fips</th>\n",
       "      <th>cases</th>\n",
       "      <th>deaths</th>\n",
       "    </tr>\n",
       "  </thead>\n",
       "  <tbody>\n",
       "    <tr>\n",
       "      <th>0</th>\n",
       "      <td>2020-01-21</td>\n",
       "      <td>Washington</td>\n",
       "      <td>53</td>\n",
       "      <td>1</td>\n",
       "      <td>0</td>\n",
       "    </tr>\n",
       "    <tr>\n",
       "      <th>1</th>\n",
       "      <td>2020-01-22</td>\n",
       "      <td>Washington</td>\n",
       "      <td>53</td>\n",
       "      <td>1</td>\n",
       "      <td>0</td>\n",
       "    </tr>\n",
       "    <tr>\n",
       "      <th>2</th>\n",
       "      <td>2020-01-23</td>\n",
       "      <td>Washington</td>\n",
       "      <td>53</td>\n",
       "      <td>1</td>\n",
       "      <td>0</td>\n",
       "    </tr>\n",
       "    <tr>\n",
       "      <th>3</th>\n",
       "      <td>2020-01-24</td>\n",
       "      <td>Illinois</td>\n",
       "      <td>17</td>\n",
       "      <td>1</td>\n",
       "      <td>0</td>\n",
       "    </tr>\n",
       "    <tr>\n",
       "      <th>4</th>\n",
       "      <td>2020-01-24</td>\n",
       "      <td>Washington</td>\n",
       "      <td>53</td>\n",
       "      <td>1</td>\n",
       "      <td>0</td>\n",
       "    </tr>\n",
       "  </tbody>\n",
       "</table>\n",
       "</div>"
      ],
      "text/plain": [
       "         date       state  fips  cases  deaths\n",
       "0  2020-01-21  Washington    53      1       0\n",
       "1  2020-01-22  Washington    53      1       0\n",
       "2  2020-01-23  Washington    53      1       0\n",
       "3  2020-01-24    Illinois    17      1       0\n",
       "4  2020-01-24  Washington    53      1       0"
      ]
     },
     "execution_count": 12,
     "metadata": {},
     "output_type": "execute_result"
    }
   ],
   "source": [
    "states_df.head()"
   ]
  },
  {
   "cell_type": "code",
   "execution_count": 13,
   "id": "2dfa4f8d-24cf-4c9a-be16-a6fd8b90d281",
   "metadata": {},
   "outputs": [
    {
     "data": {
      "text/html": [
       "<div>\n",
       "<style scoped>\n",
       "    .dataframe tbody tr th:only-of-type {\n",
       "        vertical-align: middle;\n",
       "    }\n",
       "\n",
       "    .dataframe tbody tr th {\n",
       "        vertical-align: top;\n",
       "    }\n",
       "\n",
       "    .dataframe thead th {\n",
       "        text-align: right;\n",
       "    }\n",
       "</style>\n",
       "<table border=\"1\" class=\"dataframe\">\n",
       "  <thead>\n",
       "    <tr style=\"text-align: right;\">\n",
       "      <th></th>\n",
       "      <th>date</th>\n",
       "      <th>state</th>\n",
       "      <th>fips</th>\n",
       "      <th>cases</th>\n",
       "      <th>deaths</th>\n",
       "    </tr>\n",
       "  </thead>\n",
       "  <tbody>\n",
       "    <tr>\n",
       "      <th>586</th>\n",
       "      <td>2020-03-13</td>\n",
       "      <td>Alabama</td>\n",
       "      <td>1</td>\n",
       "      <td>6</td>\n",
       "      <td>0</td>\n",
       "    </tr>\n",
       "    <tr>\n",
       "      <th>637</th>\n",
       "      <td>2020-03-14</td>\n",
       "      <td>Alabama</td>\n",
       "      <td>1</td>\n",
       "      <td>12</td>\n",
       "      <td>0</td>\n",
       "    </tr>\n",
       "    <tr>\n",
       "      <th>689</th>\n",
       "      <td>2020-03-15</td>\n",
       "      <td>Alabama</td>\n",
       "      <td>1</td>\n",
       "      <td>23</td>\n",
       "      <td>0</td>\n",
       "    </tr>\n",
       "    <tr>\n",
       "      <th>742</th>\n",
       "      <td>2020-03-16</td>\n",
       "      <td>Alabama</td>\n",
       "      <td>1</td>\n",
       "      <td>29</td>\n",
       "      <td>0</td>\n",
       "    </tr>\n",
       "    <tr>\n",
       "      <th>795</th>\n",
       "      <td>2020-03-17</td>\n",
       "      <td>Alabama</td>\n",
       "      <td>1</td>\n",
       "      <td>39</td>\n",
       "      <td>0</td>\n",
       "    </tr>\n",
       "    <tr>\n",
       "      <th>...</th>\n",
       "      <td>...</td>\n",
       "      <td>...</td>\n",
       "      <td>...</td>\n",
       "      <td>...</td>\n",
       "      <td>...</td>\n",
       "    </tr>\n",
       "    <tr>\n",
       "      <th>44525</th>\n",
       "      <td>2022-05-16</td>\n",
       "      <td>Wyoming</td>\n",
       "      <td>56</td>\n",
       "      <td>157031</td>\n",
       "      <td>1817</td>\n",
       "    </tr>\n",
       "    <tr>\n",
       "      <th>44581</th>\n",
       "      <td>2022-05-17</td>\n",
       "      <td>Wyoming</td>\n",
       "      <td>56</td>\n",
       "      <td>157409</td>\n",
       "      <td>1820</td>\n",
       "    </tr>\n",
       "    <tr>\n",
       "      <th>44637</th>\n",
       "      <td>2022-05-18</td>\n",
       "      <td>Wyoming</td>\n",
       "      <td>56</td>\n",
       "      <td>157409</td>\n",
       "      <td>1820</td>\n",
       "    </tr>\n",
       "    <tr>\n",
       "      <th>44693</th>\n",
       "      <td>2022-05-19</td>\n",
       "      <td>Wyoming</td>\n",
       "      <td>56</td>\n",
       "      <td>157409</td>\n",
       "      <td>1820</td>\n",
       "    </tr>\n",
       "    <tr>\n",
       "      <th>44749</th>\n",
       "      <td>2022-05-20</td>\n",
       "      <td>Wyoming</td>\n",
       "      <td>56</td>\n",
       "      <td>157409</td>\n",
       "      <td>1820</td>\n",
       "    </tr>\n",
       "  </tbody>\n",
       "</table>\n",
       "<p>44750 rows × 5 columns</p>\n",
       "</div>"
      ],
      "text/plain": [
       "             date    state  fips   cases  deaths\n",
       "586    2020-03-13  Alabama     1       6       0\n",
       "637    2020-03-14  Alabama     1      12       0\n",
       "689    2020-03-15  Alabama     1      23       0\n",
       "742    2020-03-16  Alabama     1      29       0\n",
       "795    2020-03-17  Alabama     1      39       0\n",
       "...           ...      ...   ...     ...     ...\n",
       "44525  2022-05-16  Wyoming    56  157031    1817\n",
       "44581  2022-05-17  Wyoming    56  157409    1820\n",
       "44637  2022-05-18  Wyoming    56  157409    1820\n",
       "44693  2022-05-19  Wyoming    56  157409    1820\n",
       "44749  2022-05-20  Wyoming    56  157409    1820\n",
       "\n",
       "[44750 rows x 5 columns]"
      ]
     },
     "execution_count": 13,
     "metadata": {},
     "output_type": "execute_result"
    }
   ],
   "source": [
    "Nstates_df.sort_values(['state','date'])"
   ]
  },
  {
   "cell_type": "markdown",
   "id": "9146e752-f522-462e-8148-f2ab25bc37cc",
   "metadata": {},
   "source": [
    "counties21_clean = counties21.dropna(axis=0)\n",
    "c21_counties = pd.DataFrame(counties21_clean.groupby([\"state\", \"county\"])[[\"cases\", \"deaths\"]].max())\n",
    "c21_counties = c21_counties.astype({\"deaths\": int})\n",
    "c21_counties.head()"
   ]
  },
  {
   "cell_type": "code",
   "execution_count": 15,
   "id": "fd2a5aae-52ed-41cd-b4ff-16a78b699c68",
   "metadata": {},
   "outputs": [
    {
     "data": {
      "text/html": [
       "<div>\n",
       "<style scoped>\n",
       "    .dataframe tbody tr th:only-of-type {\n",
       "        vertical-align: middle;\n",
       "    }\n",
       "\n",
       "    .dataframe tbody tr th {\n",
       "        vertical-align: top;\n",
       "    }\n",
       "\n",
       "    .dataframe thead th {\n",
       "        text-align: right;\n",
       "    }\n",
       "</style>\n",
       "<table border=\"1\" class=\"dataframe\">\n",
       "  <thead>\n",
       "    <tr style=\"text-align: right;\">\n",
       "      <th></th>\n",
       "      <th>state</th>\n",
       "      <th>cases</th>\n",
       "      <th>deaths</th>\n",
       "    </tr>\n",
       "    <tr>\n",
       "      <th>county</th>\n",
       "      <th></th>\n",
       "      <th></th>\n",
       "      <th></th>\n",
       "    </tr>\n",
       "  </thead>\n",
       "  <tbody>\n",
       "    <tr>\n",
       "      <th>Autauga</th>\n",
       "      <td>Alabama</td>\n",
       "      <td>11018</td>\n",
       "      <td>160</td>\n",
       "    </tr>\n",
       "    <tr>\n",
       "      <th>Baldwin</th>\n",
       "      <td>Alabama</td>\n",
       "      <td>39911</td>\n",
       "      <td>593</td>\n",
       "    </tr>\n",
       "    <tr>\n",
       "      <th>Barbour</th>\n",
       "      <td>Alabama</td>\n",
       "      <td>3860</td>\n",
       "      <td>81</td>\n",
       "    </tr>\n",
       "    <tr>\n",
       "      <th>Bibb</th>\n",
       "      <td>Alabama</td>\n",
       "      <td>4533</td>\n",
       "      <td>95</td>\n",
       "    </tr>\n",
       "    <tr>\n",
       "      <th>Blount</th>\n",
       "      <td>Alabama</td>\n",
       "      <td>11256</td>\n",
       "      <td>198</td>\n",
       "    </tr>\n",
       "  </tbody>\n",
       "</table>\n",
       "</div>"
      ],
      "text/plain": [
       "           state  cases  deaths\n",
       "county                         \n",
       "Autauga  Alabama  11018     160\n",
       "Baldwin  Alabama  39911     593\n",
       "Barbour  Alabama   3860      81\n",
       "Bibb     Alabama   4533      95\n",
       "Blount   Alabama  11256     198"
      ]
     },
     "execution_count": 15,
     "metadata": {},
     "output_type": "execute_result"
    }
   ],
   "source": [
    "c21_counties = c21_counties.reset_index(level=0)\n",
    "c21_counties.head()"
   ]
  },
  {
   "cell_type": "code",
   "execution_count": 16,
   "id": "efe44e8f-e4ca-4a9e-b757-e4a34c67ce92",
   "metadata": {},
   "outputs": [
    {
     "data": {
      "text/plain": [
       "(3140, 3)"
      ]
     },
     "execution_count": 16,
     "metadata": {},
     "output_type": "execute_result"
    }
   ],
   "source": [
    "c21_counties.shape"
   ]
  },
  {
   "cell_type": "code",
   "execution_count": 17,
   "id": "fcc1028e-ac1a-45b5-bfe5-26217c055685",
   "metadata": {},
   "outputs": [
    {
     "data": {
      "image/png": "[encoded data removed]",
      "text/plain": [
       "<Figure size 720x432 with 1 Axes>"
      ]
     },
     "metadata": {
      "needs_background": "light"
     },
     "output_type": "display_data"
    }
   ],
   "source": [
    "fig, ax = plt.subplots(figsize=(10,6))\n",
    "ax.scatter(c21_counties['cases'],c21_counties['deaths'])\n",
    "ax.set_xlabel('cases')\n",
    "ax.set_ylabel('deaths');"
   ]
  },
  {
   "cell_type": "code",
   "execution_count": 18,
   "id": "c0adb3a4-fce9-4a95-84f0-2f1fec408d27",
   "metadata": {},
   "outputs": [
    {
     "data": {
      "text/html": [
       "<div>\n",
       "<style scoped>\n",
       "    .dataframe tbody tr th:only-of-type {\n",
       "        vertical-align: middle;\n",
       "    }\n",
       "\n",
       "    .dataframe tbody tr th {\n",
       "        vertical-align: top;\n",
       "    }\n",
       "\n",
       "    .dataframe thead th {\n",
       "        text-align: right;\n",
       "    }\n",
       "</style>\n",
       "<table border=\"1\" class=\"dataframe\">\n",
       "  <thead>\n",
       "    <tr style=\"text-align: right;\">\n",
       "      <th></th>\n",
       "      <th>cases</th>\n",
       "      <th>deaths</th>\n",
       "    </tr>\n",
       "    <tr>\n",
       "      <th>state</th>\n",
       "      <th></th>\n",
       "      <th></th>\n",
       "    </tr>\n",
       "  </thead>\n",
       "  <tbody>\n",
       "    <tr>\n",
       "      <th>Alabama</th>\n",
       "      <td>126583</td>\n",
       "      <td>2024</td>\n",
       "    </tr>\n",
       "    <tr>\n",
       "      <th>Alaska</th>\n",
       "      <td>63352</td>\n",
       "      <td>419</td>\n",
       "    </tr>\n",
       "    <tr>\n",
       "      <th>Arizona</th>\n",
       "      <td>870996</td>\n",
       "      <td>13675</td>\n",
       "    </tr>\n",
       "    <tr>\n",
       "      <th>Arkansas</th>\n",
       "      <td>65856</td>\n",
       "      <td>966</td>\n",
       "    </tr>\n",
       "    <tr>\n",
       "      <th>California</th>\n",
       "      <td>1697286</td>\n",
       "      <td>27637</td>\n",
       "    </tr>\n",
       "  </tbody>\n",
       "</table>\n",
       "</div>"
      ],
      "text/plain": [
       "              cases  deaths\n",
       "state                      \n",
       "Alabama      126583    2024\n",
       "Alaska        63352     419\n",
       "Arizona      870996   13675\n",
       "Arkansas      65856     966\n",
       "California  1697286   27637"
      ]
     },
     "execution_count": 18,
     "metadata": {},
     "output_type": "execute_result"
    }
   ],
   "source": [
    "c21_states = pd.DataFrame(counties21_clean.groupby([\"state\"])[[\"cases\", \"deaths\"]].max())\n",
    "c21_states = c21_states.astype({\"deaths\": int})\n",
    "c21_states.head()\n"
   ]
  },
  {
   "cell_type": "code",
   "execution_count": 19,
   "id": "e95db872-4a52-4a53-827d-0c9cf0a0c266",
   "metadata": {},
   "outputs": [
    {
     "data": {
      "text/html": [
       "<div>\n",
       "<style scoped>\n",
       "    .dataframe tbody tr th:only-of-type {\n",
       "        vertical-align: middle;\n",
       "    }\n",
       "\n",
       "    .dataframe tbody tr th {\n",
       "        vertical-align: top;\n",
       "    }\n",
       "\n",
       "    .dataframe thead th {\n",
       "        text-align: right;\n",
       "    }\n",
       "</style>\n",
       "<table border=\"1\" class=\"dataframe\">\n",
       "  <thead>\n",
       "    <tr style=\"text-align: right;\">\n",
       "      <th></th>\n",
       "      <th>state</th>\n",
       "      <th>cases</th>\n",
       "      <th>deaths</th>\n",
       "    </tr>\n",
       "  </thead>\n",
       "  <tbody>\n",
       "    <tr>\n",
       "      <th>0</th>\n",
       "      <td>Alabama</td>\n",
       "      <td>126583</td>\n",
       "      <td>2024</td>\n",
       "    </tr>\n",
       "    <tr>\n",
       "      <th>1</th>\n",
       "      <td>Alaska</td>\n",
       "      <td>63352</td>\n",
       "      <td>419</td>\n",
       "    </tr>\n",
       "    <tr>\n",
       "      <th>2</th>\n",
       "      <td>Arizona</td>\n",
       "      <td>870996</td>\n",
       "      <td>13675</td>\n",
       "    </tr>\n",
       "    <tr>\n",
       "      <th>3</th>\n",
       "      <td>Arkansas</td>\n",
       "      <td>65856</td>\n",
       "      <td>966</td>\n",
       "    </tr>\n",
       "    <tr>\n",
       "      <th>4</th>\n",
       "      <td>California</td>\n",
       "      <td>1697286</td>\n",
       "      <td>27637</td>\n",
       "    </tr>\n",
       "  </tbody>\n",
       "</table>\n",
       "</div>"
      ],
      "text/plain": [
       "        state    cases  deaths\n",
       "0     Alabama   126583    2024\n",
       "1      Alaska    63352     419\n",
       "2     Arizona   870996   13675\n",
       "3    Arkansas    65856     966\n",
       "4  California  1697286   27637"
      ]
     },
     "execution_count": 19,
     "metadata": {},
     "output_type": "execute_result"
    }
   ],
   "source": [
    "c21_states = c21_states.reset_index(level=0)\n",
    "c21_states.head()"
   ]
  },
  {
   "cell_type": "code",
   "execution_count": 20,
   "id": "a93e1724-fe8f-49bf-b4ae-9d3edb663c87",
   "metadata": {},
   "outputs": [
    {
     "data": {
      "image/png": "[encoded data removed]",
      "text/plain": [
       "<Figure size 720x432 with 1 Axes>"
      ]
     },
     "metadata": {
      "needs_background": "light"
     },
     "output_type": "display_data"
    }
   ],
   "source": [
    "fig, ax = plt.subplots(figsize=(10,6))\n",
    "ax.scatter(c21_states['cases'],c21_states['deaths'])\n",
    "ax.set_xlabel('cases')\n",
    "ax.set_ylabel('deaths');"
   ]
  },
  {
   "cell_type": "code",
   "execution_count": 21,
   "id": "4951a153-171f-4477-b1c3-0ccb1ef0b411",
   "metadata": {},
   "outputs": [],
   "source": [
    "Deaths = c21_states.values[:,-1].reshape(-1,1)\n",
    "Cases = c21_states.values[:,-2].reshape(-1,1)"
   ]
  },
  {
   "cell_type": "code",
   "execution_count": 22,
   "id": "6c095d3b-597a-43fa-a8e9-26bad8321384",
   "metadata": {},
   "outputs": [
    {
     "data": {
      "text/plain": [
       "numpy.ndarray"
      ]
     },
     "execution_count": 22,
     "metadata": {},
     "output_type": "execute_result"
    }
   ],
   "source": [
    "type(Deaths)"
   ]
  },
  {
   "cell_type": "code",
   "execution_count": 23,
   "id": "f115a810-4d34-47fe-a693-9c513cc06b50",
   "metadata": {},
   "outputs": [
    {
     "data": {
      "text/plain": [
       "LinearRegression(fit_intercept=False)"
      ]
     },
     "execution_count": 23,
     "metadata": {},
     "output_type": "execute_result"
    }
   ],
   "source": [
    "# Initialize the Linear model. The fit_intercept paramenter tell the model not to fit the intercept\n",
    "ols = linear_model.LinearRegression( fit_intercept=False)\n",
    "# Fit the model to the data\n",
    "ols.fit(Cases,Deaths)"
   ]
  },
  {
   "cell_type": "code",
   "execution_count": 24,
   "id": "3e78af20-33af-4e84-9a0c-5c752e063b45",
   "metadata": {},
   "outputs": [
    {
     "name": "stdout",
     "output_type": "stream",
     "text": [
      "R^2 score:  0.963777201490859\n"
     ]
    }
   ],
   "source": [
    "# Extract the R_Squared score\n",
    "print(\"R^2 score: \", ols.score(Cases,Deaths))"
   ]
  },
  {
   "cell_type": "markdown",
   "id": "66a6df57-b069-487f-a4fd-eebdf0cb9c51",
   "metadata": {},
   "source": [
    "ols.coef_"
   ]
  },
  {
   "cell_type": "code",
   "execution_count": 25,
   "id": "cc3ac4c1-ffc3-459e-a0d5-5fa84c0f539d",
   "metadata": {},
   "outputs": [
    {
     "data": {
      "text/plain": [
       "array([[0.01513011]])"
      ]
     },
     "execution_count": 25,
     "metadata": {},
     "output_type": "execute_result"
    }
   ],
   "source": [
    "ols.coef_"
   ]
  },
  {
   "cell_type": "markdown",
   "id": "9ebdaee7-d8b8-4666-a3a5-d5fef8c0f5c8",
   "metadata": {},
   "source": [
    "with one utin increase on cases it is expected to have increase of deaths on 1.5%"
   ]
  },
  {
   "cell_type": "code",
   "execution_count": 26,
   "id": "d13b2966-7f3c-456a-b5ed-11b03375d5da",
   "metadata": {},
   "outputs": [],
   "source": [
    "deaths_pred=ols.predict(Cases)"
   ]
  },
  {
   "cell_type": "code",
   "execution_count": 27,
   "id": "40823b14-8d4f-4685-91dd-fc44ce9c1aaf",
   "metadata": {},
   "outputs": [
    {
     "data": {
      "image/png": "[encoded data removed]",
      "text/plain": [
       "<Figure size 720x432 with 1 Axes>"
      ]
     },
     "metadata": {
      "needs_background": "light"
     },
     "output_type": "display_data"
    }
   ],
   "source": [
    "#plotthe results\n",
    "fig = plt.figure(figsize=[10,6])\n",
    "plt.scatter(Cases,Deaths,label='Observed Data',s=50)\n",
    "\n",
    "plt.plot(Cases,deaths_pred, label='Global Fit',linewidth=2)\n",
    "plt.xlabel('$Cases$',fontsize=20)\n",
    "plt.ylabel('$Deaths$',fontsize=20)\n",
    "plt.legend();"
   ]
  },
  {
   "cell_type": "markdown",
   "id": "479150c9-b079-49d0-a40b-27bbdcdc4fc9",
   "metadata": {},
   "source": [
    "we should remove the outliers that affect the fit\n"
   ]
  },
  {
   "cell_type": "markdown",
   "id": "99b22fd7-1846-4fb4-992d-2060febda1a2",
   "metadata": {},
   "source": [
    "use split training and validation and then standardize them\n"
   ]
  },
  {
   "cell_type": "code",
   "execution_count": 33,
   "id": "f9c5377b-c282-4f0a-9421-be12da69e320",
   "metadata": {},
   "outputs": [],
   "source": [
    "Deaths2 = c21_counties.values[:,-1].reshape(-1,1)\n",
    "Cases2 = c21_counties.values[:,-2].reshape(-1,1)"
   ]
  },
  {
   "cell_type": "code",
   "execution_count": 37,
   "id": "fedcc2a3-1609-4864-bbe1-119dd2eb6063",
   "metadata": {},
   "outputs": [
    {
     "data": {
      "text/plain": [
       "pandas.core.frame.DataFrame"
      ]
     },
     "execution_count": 37,
     "metadata": {},
     "output_type": "execute_result"
    }
   ],
   "source": [
    "#make it a dataframe\n",
    "cases_deaths=c21_counties[['cases','deaths']] \n",
    "type(cases_deaths)"
   ]
  },
  {
   "cell_type": "code",
   "execution_count": 40,
   "id": "984cb28b-67af-44e1-ab0f-f4884ba70f0d",
   "metadata": {},
   "outputs": [],
   "source": [
    "#standardize\n",
    "\n",
    "from sklearn.model_selection import train_test_split\n",
    "train, test = train_test_split(cases_deaths, test_size = 0.3)\n"
   ]
  },
  {
   "cell_type": "code",
   "execution_count": 43,
   "id": "07496729-8e4b-4f97-83d0-4831907ba110",
   "metadata": {},
   "outputs": [
    {
     "data": {
      "text/plain": [
       "StandardScaler()"
      ]
     },
     "execution_count": 43,
     "metadata": {},
     "output_type": "execute_result"
    }
   ],
   "source": [
    "from sklearn.preprocessing import StandardScaler\n",
    "scaler_sd = StandardScaler()\n",
    "# Get scaling parameters with the train sample exclusively, using the Scaler.fit() function\n",
    "scaler_sd.fit(train)\n"
   ]
  },
  {
   "cell_type": "code",
   "execution_count": 45,
   "id": "19fc68ff-5542-4a6c-bf26-e7fc843272bd",
   "metadata": {},
   "outputs": [],
   "source": [
    "# Scale data using Scaler.transform()\n",
    "df_train_scaled_sd = pd.DataFrame(scaler_sd.transform(train))\n",
    "df_test_scaled_sd = pd.DataFrame(scaler_sd.transform(test))"
   ]
  },
  {
   "cell_type": "code",
   "execution_count": 47,
   "id": "12cc2e24-104e-49c3-9f41-f21b014cd177",
   "metadata": {},
   "outputs": [
    {
     "data": {
      "text/html": [
       "<div>\n",
       "<style scoped>\n",
       "    .dataframe tbody tr th:only-of-type {\n",
       "        vertical-align: middle;\n",
       "    }\n",
       "\n",
       "    .dataframe tbody tr th {\n",
       "        vertical-align: top;\n",
       "    }\n",
       "\n",
       "    .dataframe thead th {\n",
       "        text-align: right;\n",
       "    }\n",
       "</style>\n",
       "<table border=\"1\" class=\"dataframe\">\n",
       "  <thead>\n",
       "    <tr style=\"text-align: right;\">\n",
       "      <th></th>\n",
       "      <th>0</th>\n",
       "      <th>1</th>\n",
       "    </tr>\n",
       "  </thead>\n",
       "  <tbody>\n",
       "    <tr>\n",
       "      <th>count</th>\n",
       "      <td>2.198000e+03</td>\n",
       "      <td>2.198000e+03</td>\n",
       "    </tr>\n",
       "    <tr>\n",
       "      <th>mean</th>\n",
       "      <td>2.427034e-17</td>\n",
       "      <td>4.419678e-18</td>\n",
       "    </tr>\n",
       "    <tr>\n",
       "      <th>std</th>\n",
       "      <td>1.000228e+00</td>\n",
       "      <td>1.000228e+00</td>\n",
       "    </tr>\n",
       "    <tr>\n",
       "      <th>min</th>\n",
       "      <td>-2.827451e-01</td>\n",
       "      <td>-2.774045e-01</td>\n",
       "    </tr>\n",
       "    <tr>\n",
       "      <th>25%</th>\n",
       "      <td>-2.499798e-01</td>\n",
       "      <td>-2.376046e-01</td>\n",
       "    </tr>\n",
       "    <tr>\n",
       "      <th>50%</th>\n",
       "      <td>-2.035153e-01</td>\n",
       "      <td>-1.875704e-01</td>\n",
       "    </tr>\n",
       "    <tr>\n",
       "      <th>75%</th>\n",
       "      <td>-7.827007e-02</td>\n",
       "      <td>-6.049483e-02</td>\n",
       "    </tr>\n",
       "    <tr>\n",
       "      <th>max</th>\n",
       "      <td>2.931787e+01</td>\n",
       "      <td>3.114977e+01</td>\n",
       "    </tr>\n",
       "  </tbody>\n",
       "</table>\n",
       "</div>"
      ],
      "text/plain": [
       "                  0             1\n",
       "count  2.198000e+03  2.198000e+03\n",
       "mean   2.427034e-17  4.419678e-18\n",
       "std    1.000228e+00  1.000228e+00\n",
       "min   -2.827451e-01 -2.774045e-01\n",
       "25%   -2.499798e-01 -2.376046e-01\n",
       "50%   -2.035153e-01 -1.875704e-01\n",
       "75%   -7.827007e-02 -6.049483e-02\n",
       "max    2.931787e+01  3.114977e+01"
      ]
     },
     "execution_count": 47,
     "metadata": {},
     "output_type": "execute_result"
    }
   ],
   "source": [
    "df_train_scaled_sd.describe()"
   ]
  },
  {
   "cell_type": "code",
   "execution_count": 48,
   "id": "949b729e-1e6f-42e3-b01e-334eb0b7a059",
   "metadata": {},
   "outputs": [
    {
     "data": {
      "text/html": [
       "<div>\n",
       "<style scoped>\n",
       "    .dataframe tbody tr th:only-of-type {\n",
       "        vertical-align: middle;\n",
       "    }\n",
       "\n",
       "    .dataframe tbody tr th {\n",
       "        vertical-align: top;\n",
       "    }\n",
       "\n",
       "    .dataframe thead th {\n",
       "        text-align: right;\n",
       "    }\n",
       "</style>\n",
       "<table border=\"1\" class=\"dataframe\">\n",
       "  <thead>\n",
       "    <tr style=\"text-align: right;\">\n",
       "      <th></th>\n",
       "      <th>0</th>\n",
       "      <th>1</th>\n",
       "    </tr>\n",
       "  </thead>\n",
       "  <tbody>\n",
       "    <tr>\n",
       "      <th>count</th>\n",
       "      <td>942.000000</td>\n",
       "      <td>942.000000</td>\n",
       "    </tr>\n",
       "    <tr>\n",
       "      <th>mean</th>\n",
       "      <td>0.030715</td>\n",
       "      <td>0.019959</td>\n",
       "    </tr>\n",
       "    <tr>\n",
       "      <th>std</th>\n",
       "      <td>0.817692</td>\n",
       "      <td>0.727205</td>\n",
       "    </tr>\n",
       "    <tr>\n",
       "      <th>min</th>\n",
       "      <td>-0.281943</td>\n",
       "      <td>-0.277405</td>\n",
       "    </tr>\n",
       "    <tr>\n",
       "      <th>25%</th>\n",
       "      <td>-0.250089</td>\n",
       "      <td>-0.242153</td>\n",
       "    </tr>\n",
       "    <tr>\n",
       "      <th>50%</th>\n",
       "      <td>-0.205233</td>\n",
       "      <td>-0.185296</td>\n",
       "    </tr>\n",
       "    <tr>\n",
       "      <th>75%</th>\n",
       "      <td>-0.075807</td>\n",
       "      <td>-0.062769</td>\n",
       "    </tr>\n",
       "    <tr>\n",
       "      <th>max</th>\n",
       "      <td>7.584099</td>\n",
       "      <td>6.603438</td>\n",
       "    </tr>\n",
       "  </tbody>\n",
       "</table>\n",
       "</div>"
      ],
      "text/plain": [
       "                0           1\n",
       "count  942.000000  942.000000\n",
       "mean     0.030715    0.019959\n",
       "std      0.817692    0.727205\n",
       "min     -0.281943   -0.277405\n",
       "25%     -0.250089   -0.242153\n",
       "50%     -0.205233   -0.185296\n",
       "75%     -0.075807   -0.062769\n",
       "max      7.584099    6.603438"
      ]
     },
     "execution_count": 48,
     "metadata": {},
     "output_type": "execute_result"
    }
   ],
   "source": [
    "df_test_scaled_sd.describe()"
   ]
  },
  {
   "cell_type": "code",
   "execution_count": 52,
   "id": "dc224585-1c3d-4ce9-8b9a-853c31886301",
   "metadata": {},
   "outputs": [],
   "source": [
    "# Create linear regression object\n",
    "regr = linear_model.LinearRegression()\n",
    "\n",
    "X_train=df_train_scaled_sd.values[:,0].reshape(-1,1)\n",
    "y_train=df_train_scaled_sd.values[:,1].reshape(-1,1)\n",
    "X_test=df_test_scaled_sd.values[:,0].reshape(-1,1)\n",
    "y_test=df_test_scaled_sd.values[:,1].reshape(-1,1)\n",
    "# Train the model using the training sets\n",
    "regr.fit(X_train, y_train)\n",
    "\n",
    "# Make predictions using the testing set\n",
    "y_pred = regr.predict(X_test)"
   ]
  },
  {
   "cell_type": "code",
   "execution_count": 54,
   "id": "c79140e9-74ca-4d3c-b535-9b800eaa3d3e",
   "metadata": {},
   "outputs": [
    {
     "name": "stdout",
     "output_type": "stream",
     "text": [
      "Interccept: \n",
      " [4.13099044e-18]\n",
      "Coefficients: \n",
      " [[0.98141019]]\n"
     ]
    }
   ],
   "source": [
    "# The intercept\n",
    "print('Interccept: \\n', regr.intercept_)\n",
    "# The coefficients\n",
    "print('Coefficients: \\n', regr.coef_)"
   ]
  },
  {
   "cell_type": "code",
   "execution_count": 58,
   "id": "ce95920f-6302-4e93-83d7-1834ebb76d76",
   "metadata": {},
   "outputs": [
    {
     "name": "stdout",
     "output_type": "stream",
     "text": [
      "MSE: 0.05\n",
      "R^2: 0.91\n"
     ]
    }
   ],
   "source": [
    "from sklearn.metrics import mean_squared_error\n",
    "from sklearn.metrics import r2_score\n",
    "\n",
    "#results on test set\n",
    "print('MSE: %.2f' % mean_squared_error(y_test, y_pred))\n",
    "print('R^2: %.2f' % r2_score(y_test, y_pred)) "
   ]
  },
  {
   "cell_type": "code",
   "execution_count": 61,
   "id": "801fed6c-d1b0-45d1-9e87-6c0b908dd6d9",
   "metadata": {},
   "outputs": [
    {
     "data": {
      "image/png": "[encoded data removed]",
      "text/plain": [
       "<Figure size 720x432 with 1 Axes>"
      ]
     },
     "metadata": {
      "needs_background": "light"
     },
     "output_type": "display_data"
    }
   ],
   "source": [
    "#plotthe results\n",
    "fig = plt.figure(figsize=[10,6])\n",
    "plt.scatter(X_test,y_test,label='Observed Test Data',s=50)\n",
    "\n",
    "plt.plot(X_test,y_pred, label='Global Fit',linewidth=2)\n",
    "plt.xlabel('$Cases$',fontsize=20)\n",
    "plt.ylabel('$Deaths$',fontsize=20)\n",
    "plt.legend();"
   ]
  },
  {
   "cell_type": "markdown",
   "id": "7c3416c9-1f59-4a0c-9be8-72e948f296e9",
   "metadata": {
    "tags": []
   },
   "source": [
    "### CLUSTERING:"
   ]
  },
  {
   "cell_type": "code",
   "execution_count": 62,
   "id": "e468149c-c79f-4605-b446-7d0cad5dd01b",
   "metadata": {},
   "outputs": [],
   "source": [
    "# import the KMeans clustering model from scikit-learn\n",
    "from sklearn.cluster import KMeans\n",
    "import matplotlib.pyplot as plt\n",
    "%matplotlib inline"
   ]
  },
  {
   "cell_type": "code",
   "execution_count": 64,
   "id": "3a6bf689-be72-4033-b9d1-a48926b776bd",
   "metadata": {},
   "outputs": [],
   "source": [
    "A = df_train_scaled_sd.values"
   ]
  },
  {
   "cell_type": "code",
   "execution_count": 67,
   "id": "f4e812ae-93bb-4b79-acf5-985bad95c766",
   "metadata": {},
   "outputs": [],
   "source": [
    "# Initialise the model for two clusters, \"n_init\" defines the number of time the k-means \n",
    "# algorithm will be run with different centroid seeds. and \"init\" defines the initialization for the clusters\n",
    "# we will use random\n",
    "k_means = KMeans(n_clusters=2, n_init=10, init='random')\n",
    "# Train the model on the data\n",
    "k_means.fit(A)\n",
    "# save the calues for the labels (list of clusters to which each element of the data belongs) \n",
    "# and the centers of the clusters\n",
    "labels = k_means.labels_\n",
    "centers = k_means.cluster_centers_"
   ]
  },
  {
   "cell_type": "code",
   "execution_count": 68,
   "id": "cd45dd63-864f-4923-b9f2-6bb29a0a0f3c",
   "metadata": {},
   "outputs": [
    {
     "data": {
      "image/png": "[encoded data removed]",
      "text/plain": [
       "<Figure size 720x720 with 1 Axes>"
      ]
     },
     "metadata": {
      "needs_background": "light"
     },
     "output_type": "display_data"
    }
   ],
   "source": [
    "fig = plt.figure(figsize=[10,10])\n",
    "# get the elemnets that belong to cluster 0\n",
    "idx_0 = labels ==0\n",
    "# Plot the cluster 0 elements in red\n",
    "plt.scatter(A[idx_0,0],A[idx_0,1],s=50,color='red')\n",
    "# get elements that belong to cluster 1\n",
    "idx_0 = labels ==1\n",
    "# Plot the elemntes of cluster 1 in blue\n",
    "plt.scatter(A[idx_0,0],A[idx_0,1],s=50,color='blue')\n",
    "plt.xlabel('$S$',fontsize=20)\n",
    "plt.ylabel('$CS$',fontsize=20);"
   ]
  },
  {
   "cell_type": "markdown",
   "id": "a4946dec-969d-4fbb-9756-d8f3e3129752",
   "metadata": {},
   "source": [
    "The method is influenced by the outliers keep only those who are close together\n"
   ]
  },
  {
   "cell_type": "code",
   "execution_count": 70,
   "id": "133bb3f3-8b68-4906-b422-c0eeb5a97de3",
   "metadata": {},
   "outputs": [
    {
     "data": {
      "text/html": [
       "<div>\n",
       "<style scoped>\n",
       "    .dataframe tbody tr th:only-of-type {\n",
       "        vertical-align: middle;\n",
       "    }\n",
       "\n",
       "    .dataframe tbody tr th {\n",
       "        vertical-align: top;\n",
       "    }\n",
       "\n",
       "    .dataframe thead th {\n",
       "        text-align: right;\n",
       "    }\n",
       "</style>\n",
       "<table border=\"1\" class=\"dataframe\">\n",
       "  <thead>\n",
       "    <tr style=\"text-align: right;\">\n",
       "      <th></th>\n",
       "      <th>0</th>\n",
       "      <th>1</th>\n",
       "    </tr>\n",
       "  </thead>\n",
       "  <tbody>\n",
       "    <tr>\n",
       "      <th>0</th>\n",
       "      <td>-0.084296</td>\n",
       "      <td>-0.162553</td>\n",
       "    </tr>\n",
       "    <tr>\n",
       "      <th>1</th>\n",
       "      <td>-0.237872</td>\n",
       "      <td>-0.222822</td>\n",
       "    </tr>\n",
       "    <tr>\n",
       "      <th>2</th>\n",
       "      <td>0.207039</td>\n",
       "      <td>0.195646</td>\n",
       "    </tr>\n",
       "    <tr>\n",
       "      <th>3</th>\n",
       "      <td>-0.154317</td>\n",
       "      <td>-0.082953</td>\n",
       "    </tr>\n",
       "    <tr>\n",
       "      <th>4</th>\n",
       "      <td>-0.223205</td>\n",
       "      <td>-0.228507</td>\n",
       "    </tr>\n",
       "  </tbody>\n",
       "</table>\n",
       "</div>"
      ],
      "text/plain": [
       "          0         1\n",
       "0 -0.084296 -0.162553\n",
       "1 -0.237872 -0.222822\n",
       "2  0.207039  0.195646\n",
       "3 -0.154317 -0.082953\n",
       "4 -0.223205 -0.228507"
      ]
     },
     "execution_count": 70,
     "metadata": {},
     "output_type": "execute_result"
    }
   ],
   "source": [
    "df_train_scaled_sd.head()"
   ]
  },
  {
   "cell_type": "code",
   "execution_count": 75,
   "id": "6e23bae8-174d-4494-bf80-ef31790685ab",
   "metadata": {},
   "outputs": [],
   "source": [
    "df_train_scaled_sd.columns = ['cases_std', 'deaths_std']"
   ]
  },
  {
   "cell_type": "code",
   "execution_count": 76,
   "id": "284638f1-24fc-4e22-845f-49fa36c9fa3e",
   "metadata": {},
   "outputs": [
    {
     "data": {
      "text/html": [
       "<div>\n",
       "<style scoped>\n",
       "    .dataframe tbody tr th:only-of-type {\n",
       "        vertical-align: middle;\n",
       "    }\n",
       "\n",
       "    .dataframe tbody tr th {\n",
       "        vertical-align: top;\n",
       "    }\n",
       "\n",
       "    .dataframe thead th {\n",
       "        text-align: right;\n",
       "    }\n",
       "</style>\n",
       "<table border=\"1\" class=\"dataframe\">\n",
       "  <thead>\n",
       "    <tr style=\"text-align: right;\">\n",
       "      <th></th>\n",
       "      <th>cases_std</th>\n",
       "      <th>deaths_std</th>\n",
       "    </tr>\n",
       "  </thead>\n",
       "  <tbody>\n",
       "    <tr>\n",
       "      <th>0</th>\n",
       "      <td>-0.084296</td>\n",
       "      <td>-0.162553</td>\n",
       "    </tr>\n",
       "    <tr>\n",
       "      <th>1</th>\n",
       "      <td>-0.237872</td>\n",
       "      <td>-0.222822</td>\n",
       "    </tr>\n",
       "    <tr>\n",
       "      <th>2</th>\n",
       "      <td>0.207039</td>\n",
       "      <td>0.195646</td>\n",
       "    </tr>\n",
       "    <tr>\n",
       "      <th>3</th>\n",
       "      <td>-0.154317</td>\n",
       "      <td>-0.082953</td>\n",
       "    </tr>\n",
       "    <tr>\n",
       "      <th>4</th>\n",
       "      <td>-0.223205</td>\n",
       "      <td>-0.228507</td>\n",
       "    </tr>\n",
       "  </tbody>\n",
       "</table>\n",
       "</div>"
      ],
      "text/plain": [
       "   cases_std  deaths_std\n",
       "0  -0.084296   -0.162553\n",
       "1  -0.237872   -0.222822\n",
       "2   0.207039    0.195646\n",
       "3  -0.154317   -0.082953\n",
       "4  -0.223205   -0.228507"
      ]
     },
     "execution_count": 76,
     "metadata": {},
     "output_type": "execute_result"
    }
   ],
   "source": [
    "df_train_scaled_sd.head()"
   ]
  },
  {
   "cell_type": "code",
   "execution_count": 77,
   "id": "9291c69d-29bd-48d1-96be-5828bd3edf45",
   "metadata": {},
   "outputs": [],
   "source": [
    "df_train_scaled_sd_new=df_train_scaled_sd[df_train_scaled_sd.cases_std<4]"
   ]
  },
  {
   "cell_type": "code",
   "execution_count": 80,
   "id": "6928c52c-7ab6-4666-a875-43a19a791432",
   "metadata": {},
   "outputs": [
    {
     "data": {
      "text/plain": [
       "(2188, 2)"
      ]
     },
     "execution_count": 80,
     "metadata": {},
     "output_type": "execute_result"
    }
   ],
   "source": [
    "df_train_scaled_sd_new.shape\n"
   ]
  },
  {
   "cell_type": "code",
   "execution_count": 81,
   "id": "7d1502f0-1d82-436b-8af3-27789f7a7286",
   "metadata": {},
   "outputs": [
    {
     "data": {
      "text/plain": [
       "(2198, 2)"
      ]
     },
     "execution_count": 81,
     "metadata": {},
     "output_type": "execute_result"
    }
   ],
   "source": [
    "df_train_scaled_sd.shape"
   ]
  },
  {
   "cell_type": "code",
   "execution_count": 83,
   "id": "14d3aa6c-528f-4cdb-bf4e-2b28998f8db0",
   "metadata": {},
   "outputs": [],
   "source": [
    "A2 = df_train_scaled_sd_new.values"
   ]
  },
  {
   "cell_type": "code",
   "execution_count": 85,
   "id": "201ed72b-1832-43ef-8d55-5079cf9205e6",
   "metadata": {},
   "outputs": [],
   "source": [
    "# Initialise the model for two clusters, \"n_init\" defines the number of time the k-means \n",
    "# algorithm will be run with different centroid seeds. and \"init\" defines the initialization for the clusters\n",
    "# we will use random\n",
    "k_means = KMeans(n_clusters=2, n_init=10, init='random')\n",
    "# Train the model on the data\n",
    "k_means.fit(A2)\n",
    "# save the calues for the labels (list of clusters to which each element of the data belongs) \n",
    "# and the centers of the clusters\n",
    "labels = k_means.labels_\n",
    "centers = k_means.cluster_centers_"
   ]
  },
  {
   "cell_type": "code",
   "execution_count": 89,
   "id": "046d616e-9468-4e33-afd9-0123315b59c7",
   "metadata": {},
   "outputs": [
    {
     "data": {
      "image/png": "[encoded data removed]",
      "text/plain": [
       "<Figure size 720x720 with 1 Axes>"
      ]
     },
     "metadata": {
      "needs_background": "light"
     },
     "output_type": "display_data"
    }
   ],
   "source": [
    "fig = plt.figure(figsize=[10,10])\n",
    "# get the elemnets that belong to cluster 0\n",
    "idx_0 = labels ==0\n",
    "# Plot the cluster 0 elements in red\n",
    "plt.scatter(A2[idx_0,0],A2[idx_0,1],s=50,color='red')\n",
    "# get elements that belong to cluster 1\n",
    "idx_0 = labels ==1\n",
    "# Plot the elemntes of cluster 1 in blue\n",
    "plt.scatter(A2[idx_0,0],A2[idx_0,1],s=50,color='blue')\n",
    "plt.xlabel('$S$',fontsize=20)\n",
    "plt.ylabel('$CS$',fontsize=20);"
   ]
  },
  {
   "cell_type": "code",
   "execution_count": 90,
   "id": "f53e1048-695a-4c56-9e56-046f63fdb717",
   "metadata": {},
   "outputs": [
    {
     "data": {
      "image/png": "[encoded data removed]",
      "text/plain": [
       "<Figure size 720x432 with 1 Axes>"
      ]
     },
     "metadata": {
      "needs_background": "light"
     },
     "output_type": "display_data"
    }
   ],
   "source": [
    "#lets do it only for states\n",
    "fig, ax = plt.subplots(figsize=(10,6))\n",
    "ax.scatter(c21_states['cases'],c21_states['deaths'])\n",
    "ax.set_xlabel('cases')\n",
    "ax.set_ylabel('deaths');"
   ]
  },
  {
   "cell_type": "code",
   "execution_count": 92,
   "id": "ea44e95b-8efc-4d51-a131-9dd5dd4ebef3",
   "metadata": {},
   "outputs": [
    {
     "data": {
      "text/plain": [
       "(53, 3)"
      ]
     },
     "execution_count": 92,
     "metadata": {},
     "output_type": "execute_result"
    }
   ],
   "source": [
    "c21_states.shape"
   ]
  },
  {
   "cell_type": "code",
   "execution_count": 94,
   "id": "44458c57-fb36-47c2-b89e-6dbb7b8f3509",
   "metadata": {},
   "outputs": [],
   "source": [
    "#standardize them to see if the outliers leave\n",
    "#make it a dataframe\n",
    "cases_deaths=c21_states[['cases','deaths']]"
   ]
  },
  {
   "cell_type": "code",
   "execution_count": 95,
   "id": "2adb993c-e3c0-40b4-9c2d-f365a5769974",
   "metadata": {},
   "outputs": [
    {
     "data": {
      "text/html": [
       "<div>\n",
       "<style scoped>\n",
       "    .dataframe tbody tr th:only-of-type {\n",
       "        vertical-align: middle;\n",
       "    }\n",
       "\n",
       "    .dataframe tbody tr th {\n",
       "        vertical-align: top;\n",
       "    }\n",
       "\n",
       "    .dataframe thead th {\n",
       "        text-align: right;\n",
       "    }\n",
       "</style>\n",
       "<table border=\"1\" class=\"dataframe\">\n",
       "  <thead>\n",
       "    <tr style=\"text-align: right;\">\n",
       "      <th></th>\n",
       "      <th>cases</th>\n",
       "      <th>deaths</th>\n",
       "    </tr>\n",
       "  </thead>\n",
       "  <tbody>\n",
       "    <tr>\n",
       "      <th>0</th>\n",
       "      <td>126583</td>\n",
       "      <td>2024</td>\n",
       "    </tr>\n",
       "    <tr>\n",
       "      <th>1</th>\n",
       "      <td>63352</td>\n",
       "      <td>419</td>\n",
       "    </tr>\n",
       "    <tr>\n",
       "      <th>2</th>\n",
       "      <td>870996</td>\n",
       "      <td>13675</td>\n",
       "    </tr>\n",
       "    <tr>\n",
       "      <th>3</th>\n",
       "      <td>65856</td>\n",
       "      <td>966</td>\n",
       "    </tr>\n",
       "    <tr>\n",
       "      <th>4</th>\n",
       "      <td>1697286</td>\n",
       "      <td>27637</td>\n",
       "    </tr>\n",
       "  </tbody>\n",
       "</table>\n",
       "</div>"
      ],
      "text/plain": [
       "     cases  deaths\n",
       "0   126583    2024\n",
       "1    63352     419\n",
       "2   870996   13675\n",
       "3    65856     966\n",
       "4  1697286   27637"
      ]
     },
     "execution_count": 95,
     "metadata": {},
     "output_type": "execute_result"
    }
   ],
   "source": [
    "cases_deaths.head()"
   ]
  },
  {
   "cell_type": "code",
   "execution_count": 100,
   "id": "93439244-62a6-4d4c-a697-528c10a1e95f",
   "metadata": {},
   "outputs": [
    {
     "data": {
      "text/plain": [
       "StandardScaler()"
      ]
     },
     "execution_count": 100,
     "metadata": {},
     "output_type": "execute_result"
    }
   ],
   "source": [
    "scaler_sd = StandardScaler()\n",
    "# Get scaling parameters with the train sample exclusively, using the Scaler.fit() function\n",
    "scaler_sd.fit(cases_deaths)"
   ]
  },
  {
   "cell_type": "code",
   "execution_count": 101,
   "id": "50093bfb-3b33-4ef4-96c0-3a9377cfaa33",
   "metadata": {},
   "outputs": [
    {
     "data": {
      "text/html": [
       "<div>\n",
       "<style scoped>\n",
       "    .dataframe tbody tr th:only-of-type {\n",
       "        vertical-align: middle;\n",
       "    }\n",
       "\n",
       "    .dataframe tbody tr th {\n",
       "        vertical-align: top;\n",
       "    }\n",
       "\n",
       "    .dataframe thead th {\n",
       "        text-align: right;\n",
       "    }\n",
       "</style>\n",
       "<table border=\"1\" class=\"dataframe\">\n",
       "  <thead>\n",
       "    <tr style=\"text-align: right;\">\n",
       "      <th></th>\n",
       "      <th>cases</th>\n",
       "      <th>deaths</th>\n",
       "    </tr>\n",
       "  </thead>\n",
       "  <tbody>\n",
       "    <tr>\n",
       "      <th>0</th>\n",
       "      <td>126583</td>\n",
       "      <td>2024</td>\n",
       "    </tr>\n",
       "    <tr>\n",
       "      <th>1</th>\n",
       "      <td>63352</td>\n",
       "      <td>419</td>\n",
       "    </tr>\n",
       "    <tr>\n",
       "      <th>2</th>\n",
       "      <td>870996</td>\n",
       "      <td>13675</td>\n",
       "    </tr>\n",
       "    <tr>\n",
       "      <th>3</th>\n",
       "      <td>65856</td>\n",
       "      <td>966</td>\n",
       "    </tr>\n",
       "    <tr>\n",
       "      <th>4</th>\n",
       "      <td>1697286</td>\n",
       "      <td>27637</td>\n",
       "    </tr>\n",
       "  </tbody>\n",
       "</table>\n",
       "</div>"
      ],
      "text/plain": [
       "     cases  deaths\n",
       "0   126583    2024\n",
       "1    63352     419\n",
       "2   870996   13675\n",
       "3    65856     966\n",
       "4  1697286   27637"
      ]
     },
     "execution_count": 101,
     "metadata": {},
     "output_type": "execute_result"
    }
   ],
   "source": [
    "cases_deaths.head()"
   ]
  },
  {
   "cell_type": "code",
   "execution_count": 102,
   "id": "d6a9ab0c-2b75-4352-96ef-4fd92fadea46",
   "metadata": {},
   "outputs": [],
   "source": [
    "# Scale data using Scaler.transform()\n",
    "df_cases_deaths_sd = pd.DataFrame(scaler_sd.transform(cases_deaths))"
   ]
  },
  {
   "cell_type": "code",
   "execution_count": 103,
   "id": "13549207-2a29-429b-be77-7298b4e1f739",
   "metadata": {},
   "outputs": [
    {
     "data": {
      "text/html": [
       "<div>\n",
       "<style scoped>\n",
       "    .dataframe tbody tr th:only-of-type {\n",
       "        vertical-align: middle;\n",
       "    }\n",
       "\n",
       "    .dataframe tbody tr th {\n",
       "        vertical-align: top;\n",
       "    }\n",
       "\n",
       "    .dataframe thead th {\n",
       "        text-align: right;\n",
       "    }\n",
       "</style>\n",
       "<table border=\"1\" class=\"dataframe\">\n",
       "  <thead>\n",
       "    <tr style=\"text-align: right;\">\n",
       "      <th></th>\n",
       "      <th>0</th>\n",
       "      <th>1</th>\n",
       "    </tr>\n",
       "  </thead>\n",
       "  <tbody>\n",
       "    <tr>\n",
       "      <th>0</th>\n",
       "      <td>-0.273352</td>\n",
       "      <td>-0.200247</td>\n",
       "    </tr>\n",
       "    <tr>\n",
       "      <th>1</th>\n",
       "      <td>-0.495539</td>\n",
       "      <td>-0.556681</td>\n",
       "    </tr>\n",
       "    <tr>\n",
       "      <th>2</th>\n",
       "      <td>2.342434</td>\n",
       "      <td>2.387175</td>\n",
       "    </tr>\n",
       "    <tr>\n",
       "      <th>3</th>\n",
       "      <td>-0.486740</td>\n",
       "      <td>-0.435204</td>\n",
       "    </tr>\n",
       "    <tr>\n",
       "      <th>4</th>\n",
       "      <td>5.245927</td>\n",
       "      <td>5.487817</td>\n",
       "    </tr>\n",
       "  </tbody>\n",
       "</table>\n",
       "</div>"
      ],
      "text/plain": [
       "          0         1\n",
       "0 -0.273352 -0.200247\n",
       "1 -0.495539 -0.556681\n",
       "2  2.342434  2.387175\n",
       "3 -0.486740 -0.435204\n",
       "4  5.245927  5.487817"
      ]
     },
     "execution_count": 103,
     "metadata": {},
     "output_type": "execute_result"
    }
   ],
   "source": [
    "df_cases_deaths_sd.head()"
   ]
  },
  {
   "cell_type": "code",
   "execution_count": 105,
   "id": "70b2ed83-562e-4e1d-a20f-75442f32c312",
   "metadata": {},
   "outputs": [],
   "source": [
    "df_cases_deaths_sd.columns = ['state_cases_std', 'state_deaths_std']"
   ]
  },
  {
   "cell_type": "code",
   "execution_count": 106,
   "id": "7115d5e1-29fb-4478-91f3-7c5b80ddc5cd",
   "metadata": {},
   "outputs": [
    {
     "data": {
      "image/png": "[encoded data removed]",
      "text/plain": [
       "<Figure size 720x432 with 1 Axes>"
      ]
     },
     "metadata": {
      "needs_background": "light"
     },
     "output_type": "display_data"
    }
   ],
   "source": [
    "fig, ax = plt.subplots(figsize=(10,6))\n",
    "ax.scatter(df_cases_deaths_sd['state_cases_std'],df_cases_deaths_sd['state_deaths_std'])\n",
    "ax.set_xlabel('cases')\n",
    "ax.set_ylabel('deaths');"
   ]
  },
  {
   "cell_type": "code",
   "execution_count": 107,
   "id": "2295436b-a352-4245-a622-f4b661113b21",
   "metadata": {},
   "outputs": [],
   "source": [
    "#remove outliers\n",
    "df_cases_deaths_sd_new=df_cases_deaths_sd[df_cases_deaths_sd.state_cases_std<1]"
   ]
  },
  {
   "cell_type": "code",
   "execution_count": 108,
   "id": "2fea7523-37cf-4903-a841-541314f8e49e",
   "metadata": {},
   "outputs": [],
   "source": [
    "A2 = df_cases_deaths_sd_new.values"
   ]
  },
  {
   "cell_type": "code",
   "execution_count": 109,
   "id": "75ee73d4-8129-4c19-acab-a802c45b6cf2",
   "metadata": {},
   "outputs": [],
   "source": [
    "# Initialise the model for two clusters, \"n_init\" defines the number of time the k-means \n",
    "# algorithm will be run with different centroid seeds. and \"init\" defines the initialization for the clusters\n",
    "# we will use random\n",
    "k_means = KMeans(n_clusters=2, n_init=10, init='random')\n",
    "# Train the model on the data\n",
    "k_means.fit(A2)\n",
    "# save the calues for the labels (list of clusters to which each element of the data belongs) \n",
    "# and the centers of the clusters\n",
    "labels = k_means.labels_\n",
    "centers = k_means.cluster_centers_"
   ]
  },
  {
   "cell_type": "code",
   "execution_count": 110,
   "id": "4c338d49-384e-4dd1-9881-34c1b9224ccd",
   "metadata": {},
   "outputs": [
    {
     "data": {
      "image/png": "[encoded data removed]",
      "text/plain": [
       "<Figure size 720x720 with 1 Axes>"
      ]
     },
     "metadata": {
      "needs_background": "light"
     },
     "output_type": "display_data"
    }
   ],
   "source": [
    "fig = plt.figure(figsize=[10,10])\n",
    "# get the elemnets that belong to cluster 0\n",
    "idx_0 = labels ==0\n",
    "# Plot the cluster 0 elements in red\n",
    "plt.scatter(A2[idx_0,0],A2[idx_0,1],s=50,color='red')\n",
    "# get elements that belong to cluster 1\n",
    "idx_0 = labels ==1\n",
    "# Plot the elemntes of cluster 1 in blue\n",
    "plt.scatter(A2[idx_0,0],A2[idx_0,1],s=50,color='blue')\n",
    "plt.xlabel('$S$',fontsize=20)\n",
    "plt.ylabel('$CS$',fontsize=20);"
   ]
  },
  {
   "cell_type": "markdown",
   "id": "9de60faf-915a-4232-8138-2a1286c9d7d2",
   "metadata": {},
   "source": [
    "using 3 clusters"
   ]
  },
  {
   "cell_type": "code",
   "execution_count": 113,
   "id": "92311c86-a7a2-4cf8-94f7-851783e91951",
   "metadata": {},
   "outputs": [
    {
     "data": {
      "image/png": "[encoded data removed]",
      "text/plain": [
       "<Figure size 720x720 with 1 Axes>"
      ]
     },
     "metadata": {
      "needs_background": "light"
     },
     "output_type": "display_data"
    }
   ],
   "source": [
    "# Initialize the model but this time w will ask for 3 clusters\n",
    "k_means = KMeans(n_clusters=3, n_init=10,init='random')\n",
    "k_means.fit(A2)\n",
    "# get labels and scores\n",
    "labels = k_means.labels_\n",
    "centers = k_means.cluster_centers_\n",
    "fig = plt.figure(figsize=[10,10])\n",
    "# Pot elements in cluster 0, 1 and 2\n",
    "idx_0 = labels ==0\n",
    "plt.scatter(A2[idx_0,0],A2[idx_0,1],s=50,color='red')\n",
    "idx_0 = labels ==1\n",
    "plt.scatter(A2[idx_0,0],A2[idx_0,1],s=50,color='blue')\n",
    "idx_2 = labels ==2\n",
    "plt.scatter(A2[idx_2,0],A2[idx_2,1],s=50,color='gray')\n",
    "plt.xlabel('$S$',fontsize=20)\n",
    "plt.ylabel('$CS$',fontsize=20);\n"
   ]
  },
  {
   "cell_type": "code",
   "execution_count": null,
   "id": "b239925d-bcda-4a0f-ad84-1ac606a06ac0",
   "metadata": {},
   "outputs": [],
   "source": []
  }
 ],
 "metadata": {
  "kernelspec": {
   "display_name": "Python 3 (ipykernel)",
   "language": "python",
   "name": "python3"
  },
  "language_info": {
   "codemirror_mode": {
    "name": "ipython",
    "version": 3
   },
   "file_extension": ".py",
   "mimetype": "text/x-python",
   "name": "python",
   "nbconvert_exporter": "python",
   "pygments_lexer": "ipython3",
   "version": "3.9.7"
  }
 },
 "nbformat": 4,
 "nbformat_minor": 5
}
