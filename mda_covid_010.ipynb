{
 "cells": [
  {
   "cell_type": "markdown",
   "id": "b1571926-ead6-4734-bdce-cddb9ac8dfb8",
   "metadata": {},
   "source": [
    "# Modern Data Analytics [G0Z39a]"
   ]
  },
  {
   "cell_type": "markdown",
   "id": "f6274ee8-b897-4b06-a1f2-636bda3935e7",
   "metadata": {},
   "source": [
    "## Project: Covid 19 in the USA"
   ]
  },
  {
   "cell_type": "markdown",
   "id": "afa6b6db-d76d-49dc-ab25-68d22a1a7da7",
   "metadata": {},
   "source": [
    "### Load packages"
   ]
  },
  {
   "cell_type": "code",
   "execution_count": 1,
   "id": "cdfb3484-5824-40a7-bd2a-ab37a3f44396",
   "metadata": {
    "ExecuteTime": {
     "end_time": "2022-06-03T10:56:59.669975Z",
     "start_time": "2022-06-03T10:56:59.605630Z"
    }
   },
   "outputs": [
    {
     "data": {
      "text/html": [
       "        <script type=\"text/javascript\">\n",
       "        window.PlotlyConfig = {MathJaxConfig: 'local'};\n",
       "        if (window.MathJax && window.MathJax.Hub && window.MathJax.Hub.Config) {window.MathJax.Hub.Config({SVG: {font: \"STIX-Web\"}});}\n",
       "        if (typeof require !== 'undefined') {\n",
       "        require.undef(\"plotly\");\n",
       "        requirejs.config({\n",
       "            paths: {\n",
       "                'plotly': ['https://cdn.plot.ly/plotly-2.12.1.min']\n",
       "            }\n",
       "        });\n",
       "        require(['plotly'], function(Plotly) {\n",
       "            window._Plotly = Plotly;\n",
       "        });\n",
       "        }\n",
       "        </script>\n",
       "        "
      ]
     },
     "metadata": {},
     "output_type": "display_data"
    }
   ],
   "source": [
    "import mda_module_010 as mda\n",
    "\n",
    "import os\n",
    "import pandas as pd\n",
    "import numpy as np\n",
    "\n",
    "import yfinance as yf\n",
    "\n",
    "import plotly.graph_objs as go\n",
    "import plotly.io as pio\n",
    "import plotly.express as px\n",
    "\n",
    "import plotly.offline as py\n",
    "py.init_notebook_mode(connected=True)\n",
    "# jupyter notebook: notebook\n",
    "#jupyter lab: plotly_mimetype\n",
    "pio.renderers.default = 'plotly_mimetype' \n",
    "  \n",
    "import matplotlib.pyplot as plt\n",
    "\n",
    "import datetime as dt\n",
    "\n",
    "import ipywidgets as widgets\n",
    "from IPython.display import display\n",
    "from IPython.display import Markdown as md\n",
    "\n",
    "from sklearn.compose import ColumnTransformer \n",
    "from sklearn.impute import SimpleImputer\n",
    "from sklearn.preprocessing import StandardScaler\n",
    "from sklearn.pipeline import Pipeline\n",
    "\n",
    "from statsmodels.tsa.seasonal import seasonal_decompose\n",
    "\n",
    "import warnings\n",
    "warnings.filterwarnings('ignore')"
   ]
  },
  {
   "cell_type": "markdown",
   "id": "db2a1889-76a2-43af-ac71-15c979f2fc54",
   "metadata": {},
   "source": [
    "### Load data"
   ]
  },
  {
   "cell_type": "code",
   "execution_count": 2,
   "id": "6fb928f1-fdb8-4d25-adcb-23bd4aafed3e",
   "metadata": {
    "ExecuteTime": {
     "end_time": "2022-06-03T10:54:38.963324Z",
     "start_time": "2022-06-03T10:54:32.603457Z"
    }
   },
   "outputs": [],
   "source": [
    "cwd = os.getcwd()\n",
    "us = pd.read_csv(cwd+\"/covid-19-data/us.csv\")\n",
    "counties_df = pd.read_csv(cwd+\"/covid-19-data/us-counties.csv\")\n",
    "states_df = pd.read_csv(cwd+\"/covid-19-data/us-states.csv\")\n",
    "counties20 = pd.read_csv(cwd+\"/covid-19-data/us-counties-2020.csv\")\n",
    "counties21 = pd.read_csv(cwd+\"/covid-19-data/us-counties-2021.csv\")\n",
    "counties22 = pd.read_csv(cwd+\"/covid-19-data/us-counties-2022.csv\")\n",
    "extra_data = pd.read_csv(cwd+\"/data/extra_data.csv\")\n",
    "dfpop = pd.read_csv(cwd+'/data/pop_usa_states.csv')"
   ]
  },
  {
   "cell_type": "markdown",
   "id": "1f2ef169-01eb-428d-a3a3-df30211b2a30",
   "metadata": {},
   "source": [
    "### Data Info"
   ]
  },
  {
   "cell_type": "code",
   "execution_count": 3,
   "id": "f99228fe-155f-481f-9347-ea298f9ff6e4",
   "metadata": {},
   "outputs": [
    {
     "data": {
      "text/plain": [
       "date      0\n",
       "cases     0\n",
       "deaths    0\n",
       "dtype: int64"
      ]
     },
     "execution_count": 3,
     "metadata": {},
     "output_type": "execute_result"
    }
   ],
   "source": [
    "us.isnull().sum()"
   ]
  },
  {
   "cell_type": "code",
   "execution_count": 4,
   "id": "81cf6309-ce74-4dda-95f2-863388d0c521",
   "metadata": {},
   "outputs": [
    {
     "data": {
      "text/plain": [
       "date      0\n",
       "state     0\n",
       "fips      0\n",
       "cases     0\n",
       "deaths    0\n",
       "dtype: int64"
      ]
     },
     "execution_count": 4,
     "metadata": {},
     "output_type": "execute_result"
    }
   ],
   "source": [
    "states_df.isnull().sum()"
   ]
  },
  {
   "cell_type": "code",
   "execution_count": 5,
   "id": "7b69747f-0031-4072-8a98-b109d2c0ba78",
   "metadata": {},
   "outputs": [
    {
     "data": {
      "text/plain": [
       "date          0\n",
       "county        0\n",
       "state         0\n",
       "fips       8266\n",
       "cases         0\n",
       "deaths    18761\n",
       "dtype: int64"
      ]
     },
     "execution_count": 5,
     "metadata": {},
     "output_type": "execute_result"
    }
   ],
   "source": [
    "counties20.isnull().sum()"
   ]
  },
  {
   "cell_type": "code",
   "execution_count": 6,
   "id": "715b9bb6-22e5-4417-9e17-62c609a645ff",
   "metadata": {},
   "outputs": [
    {
     "data": {
      "text/plain": [
       "date          0\n",
       "county        0\n",
       "state         0\n",
       "fips      10803\n",
       "cases         0\n",
       "deaths    28470\n",
       "dtype: int64"
      ]
     },
     "execution_count": 6,
     "metadata": {},
     "output_type": "execute_result"
    }
   ],
   "source": [
    "counties21.isnull().sum()"
   ]
  },
  {
   "cell_type": "code",
   "execution_count": 7,
   "id": "3c7d1abf-3191-436a-a4d9-b04c65e54e65",
   "metadata": {},
   "outputs": [
    {
     "data": {
      "text/plain": [
       "date          0\n",
       "county        0\n",
       "state         0\n",
       "fips      10803\n",
       "cases         0\n",
       "deaths    28470\n",
       "dtype: int64"
      ]
     },
     "execution_count": 7,
     "metadata": {},
     "output_type": "execute_result"
    }
   ],
   "source": [
    "counties21.isnull().sum()"
   ]
  },
  {
   "cell_type": "markdown",
   "id": "d014af72-2e23-4a83-b642-3944a6dee742",
   "metadata": {},
   "source": [
    "The US and State datasets were clean. However the county datasets for 2020, 2021 and 2022 all had missing values in the fips and deaths columns."
   ]
  },
  {
   "cell_type": "markdown",
   "id": "7a10a8f0-6eba-4859-aeae-d9c2b83d3778",
   "metadata": {
    "tags": []
   },
   "source": [
    "### Data Pre-Processing"
   ]
  },
  {
   "cell_type": "code",
   "execution_count": 8,
   "id": "ab72541e-0dbe-4d69-a463-c3d609f3be57",
   "metadata": {
    "ExecuteTime": {
     "end_time": "2022-06-03T10:54:45.809885Z",
     "start_time": "2022-06-03T10:54:39.259454Z"
    }
   },
   "outputs": [],
   "source": [
    "counties20_clean = mda.counties_preprocessing(counties20)\n",
    "counties21_clean = mda.counties_preprocessing(counties21)\n",
    "counties22_clean = mda.counties_preprocessing(counties22)"
   ]
  },
  {
   "cell_type": "markdown",
   "id": "cb9bf256-3900-4879-8e1c-9f6fe2e756b4",
   "metadata": {},
   "source": [
    "The above function clean and process the county datasets:\n",
    "1) Treats missing values: If the data were available online (FIPS) data the missing values were replaced. Otherwise rows with missing values were dropped.\n",
    "2) Splits date variable into year, month and day variables for convinience in the downstream analyses.\n",
    "3) Adds code data to each State."
   ]
  },
  {
   "cell_type": "markdown",
   "id": "dff9cf8e-7350-40a9-b33c-e76e1b54bf6f",
   "metadata": {},
   "source": [
    "### Data Statistics"
   ]
  },
  {
   "cell_type": "code",
   "execution_count": 9,
   "id": "74e37cad-25bc-40f6-b338-594805e42914",
   "metadata": {
    "ExecuteTime": {
     "end_time": "2022-06-03T10:54:46.587300Z",
     "start_time": "2022-06-03T10:54:46.132932Z"
    }
   },
   "outputs": [],
   "source": [
    "perstate20 = mda.per_state(counties20_clean)\n",
    "perstate21 = mda.per_state(counties21_clean)\n",
    "perstate22 = mda.per_state(counties22_clean)\n",
    "percounty20 = mda.per_county(counties20_clean)\n",
    "percounty21 = mda.per_county(counties21_clean)\n",
    "percounty22 = mda.per_county(counties22_clean)"
   ]
  },
  {
   "cell_type": "markdown",
   "id": "0d7b74e7-ad9d-4597-962e-a2d602cf38a1",
   "metadata": {},
   "source": [
    "The above functions group the cleaned data by state and county to be able to get summary statistics."
   ]
  },
  {
   "cell_type": "code",
   "execution_count": 10,
   "id": "8e3e8c1d-be1f-40ee-aa8d-69030a7df0c1",
   "metadata": {
    "ExecuteTime": {
     "end_time": "2022-06-03T10:54:47.638226Z",
     "start_time": "2022-06-03T10:54:46.868982Z"
    }
   },
   "outputs": [],
   "source": [
    "state_stats20 = pd.DataFrame(counties20_clean.groupby('state').describe())\n",
    "state_stats21 = pd.DataFrame(counties21_clean.groupby('state').describe())\n",
    "state_stats22 = pd.DataFrame(counties22_clean.groupby('state').describe())"
   ]
  },
  {
   "cell_type": "code",
   "execution_count": 11,
   "id": "b3b479f5-a9a3-4622-b903-81edcbbb1c5b",
   "metadata": {
    "ExecuteTime": {
     "end_time": "2022-06-03T10:54:53.633435Z",
     "start_time": "2022-06-03T10:54:48.056845Z"
    }
   },
   "outputs": [],
   "source": [
    "county_stats20 = pd.DataFrame(counties20_clean.groupby('county').describe())\n",
    "county_stats21 = pd.DataFrame(counties21_clean.groupby('county').describe())\n",
    "county_stats22 = pd.DataFrame(counties22_clean.groupby('county').describe())"
   ]
  },
  {
   "cell_type": "markdown",
   "id": "9cbac909-c681-402b-964b-cda56569eb10",
   "metadata": {
    "tags": []
   },
   "source": [
    "### Map"
   ]
  },
  {
   "cell_type": "code",
   "execution_count": 12,
   "id": "df8828cd-e845-465b-80f9-b201cbc99298",
   "metadata": {
    "ExecuteTime": {
     "end_time": "2022-06-03T10:54:57.727709Z",
     "start_time": "2022-06-03T10:54:53.994056Z"
    }
   },
   "outputs": [],
   "source": [
    "mapdf = mda.extra_data_retriever(extra_data, mda.state_per_month(states_df))"
   ]
  },
  {
   "cell_type": "markdown",
   "id": "9de11890-2ea4-42ba-88d1-e28de96de331",
   "metadata": {},
   "source": [
    "The above function creates the dataframe for the map visual below which shows how monthly cases, deaths and vaccinations changed in the US for each state."
   ]
  },
  {
   "cell_type": "code",
   "execution_count": 13,
   "id": "85adce83-ed1d-4498-8069-463092c6ed05",
   "metadata": {
    "ExecuteTime": {
     "end_time": "2022-06-03T10:54:58.436008Z",
     "start_time": "2022-06-03T10:54:58.099756Z"
    }
   },
   "outputs": [
    {
     "data": {
      "application/vnd.jupyter.widget-view+json": {
       "model_id": "98d70981e0a74ad3a2b1c7fcc78cf15e",
       "version_major": 2,
       "version_minor": 0
      },
      "text/plain": [
       "interactive(children=(Dropdown(description='Select:', options=(('Cases', 'cases'), ('Deaths', 'deaths'), ('One…"
      ]
     },
     "metadata": {},
     "output_type": "display_data"
    }
   ],
   "source": [
    "def fig_creator(s):\n",
    "    import plotly.express as px\n",
    "    \n",
    "    fig = px.scatter_geo(mapdf, locations=\"code\", locationmode=\"USA-states\", hover_name=\"state\",\n",
    "                     hover_data=[\"cases\", \"deaths\", \"1_dose\", \"complete_dose\"], size=s, size_max=20,\n",
    "                     animation_frame=\"date\", projection=\"albers usa\", title=\"Covid-19 evolution in US per state\", width=1000, height=1000)\n",
    "    fig.show()\n",
    "\n",
    "widgets.interact(fig_creator,\n",
    "                 s=widgets.Dropdown(\n",
    "                     options=[(\"Cases\", \"cases\"),\n",
    "                              (\"Deaths\", \"deaths\"),\n",
    "                              (\"One Vaccination Dose\", \"1_dose\"),\n",
    "                              (\"Complete Vaccination\", \"complete_dose\")],\n",
    "                     description='Select:'));"
   ]
  },
  {
   "cell_type": "markdown",
   "id": "c2415086-2a0a-4bf3-9610-39f79826bf97",
   "metadata": {
    "tags": []
   },
   "source": [
    "### Time Series plot"
   ]
  },
  {
   "cell_type": "code",
   "execution_count": 14,
   "id": "3825bcd6-c760-4b93-b1d7-c681cbbfb789",
   "metadata": {
    "ExecuteTime": {
     "end_time": "2022-06-03T10:55:06.956552Z",
     "start_time": "2022-06-03T10:54:58.856017Z"
    }
   },
   "outputs": [],
   "source": [
    "us_timeseries = mda.timeseries_process(us, \"us\")\n",
    "state_timeseries = mda.timeseries_process(states_df, \"state\")\n",
    "counties = pd.concat([counties20_clean, counties21_clean, counties22_clean])\n",
    "counties_timeseries = mda.timeseries_process(counties, \"county\")"
   ]
  },
  {
   "cell_type": "code",
   "execution_count": 15,
   "id": "8aacd981-ecea-4684-ad94-8edd7b74f830",
   "metadata": {
    "ExecuteTime": {
     "end_time": "2022-06-03T10:55:07.589382Z",
     "start_time": "2022-06-03T10:55:07.492797Z"
    }
   },
   "outputs": [
    {
     "data": {
      "application/vnd.jupyter.widget-view+json": {
       "model_id": "8f353d15052c4778a5c00ddb4381a8dc",
       "version_major": 2,
       "version_minor": 0
      },
      "text/plain": [
       "HBox(children=(Dropdown(options=(('Daily Cases', 'daily_cases'), ('Daily Deaths', 'daily_deaths')), value='dai…"
      ]
     },
     "metadata": {},
     "output_type": "display_data"
    },
    {
     "data": {
      "application/vnd.jupyter.widget-view+json": {
       "model_id": "9ed5371ac347414683d0b558ff7045a7",
       "version_major": 2,
       "version_minor": 0
      },
      "text/plain": [
       "Output()"
      ]
     },
     "metadata": {},
     "output_type": "display_data"
    }
   ],
   "source": [
    "dropdown_case = widgets.Dropdown(options=[(\"Daily Cases\", 'daily_cases'), (\"Daily Deaths\", 'daily_deaths')])\n",
    "dropdown_level = widgets.Dropdown(options=[('USA','us'),('State','state'), ('County','county')])\n",
    "dropdown_state = widgets.Dropdown(options=state_timeseries['state'].unique())\n",
    "dropdown_county = widgets.Dropdown(options=counties_timeseries['county'].unique())\n",
    "input_widgets = widgets.HBox([dropdown_case, dropdown_level])\n",
    "\n",
    "output = widgets.Output()\n",
    "def com_filter(case, level, state, county):\n",
    "    output.clear_output()\n",
    "    if level == 'us':\n",
    "        with output:\n",
    "            mda.plot(us_timeseries, level=\"us\", y=case)\n",
    "    elif level == \"state\":\n",
    "        with output:\n",
    "            display(dropdown_state)\n",
    "            mda.plot(state_timeseries, level=\"state\", y=case, state=state)\n",
    "    elif level == \"county\":\n",
    "        with output:\n",
    "            display(dropdown_county)\n",
    "            mda.plot(counties_timeseries, level=\"county\", y=case, county=county)\n",
    "\n",
    "def dropdown_case_eventhandler(change):\n",
    "    com_filter(change.new, dropdown_level.value, dropdown_state.value, dropdown_county.value)\n",
    "\n",
    "def dropdown_level_eventhandler(change):\n",
    "    com_filter(dropdown_case.value, change.new, dropdown_state.value, dropdown_county.value)    \n",
    "    \n",
    "def dropdown_state_eventhandler(change):\n",
    "    com_filter(dropdown_case.value, dropdown_level.value, change.new, dropdown_county.value)\n",
    "    \n",
    "def dropdown_county_eventhandler(change):\n",
    "    com_filter(dropdown_case.value, dropdown_level.value, dropdown_state.value, change.new)\n",
    "    \n",
    "dropdown_case.observe(dropdown_case_eventhandler, names='value')\n",
    "dropdown_level.observe(dropdown_level_eventhandler, names='value')\n",
    "dropdown_state.observe(dropdown_state_eventhandler, names='value')\n",
    "dropdown_county.observe(dropdown_county_eventhandler, names='value')\n",
    "display(input_widgets)\n",
    "display(output)\n",
    "\n",
    "#initial plot\n",
    "with output:\n",
    "    mda.plot(us_timeseries, level=\"us\", y='daily_cases')"
   ]
  },
  {
   "cell_type": "markdown",
   "id": "b9f5f84f",
   "metadata": {},
   "source": [
    "#### Trend and Seasonality in the US"
   ]
  },
  {
   "cell_type": "code",
   "execution_count": 16,
   "id": "b74cac4c",
   "metadata": {
    "ExecuteTime": {
     "end_time": "2022-06-03T10:58:36.167741Z",
     "start_time": "2022-06-03T10:58:36.143809Z"
    }
   },
   "outputs": [],
   "source": [
    "usa_time = us_timeseries.set_index('date')\n",
    "usa_time.dropna(inplace=True)\n",
    "decompose_result_mult = seasonal_decompose(usa_time['daily_cases'],period=365)\n",
    "trend = decompose_result_mult.trend\n",
    "seasonality = decompose_result_mult.seasonal\n",
    "residual = decompose_result_mult.resid"
   ]
  },
  {
   "cell_type": "code",
   "execution_count": 17,
   "id": "28f9d050",
   "metadata": {
    "ExecuteTime": {
     "end_time": "2022-06-03T10:59:45.961895Z",
     "start_time": "2022-06-03T10:59:45.896777Z"
    }
   },
   "outputs": [
    {
     "data": {
      "application/vnd.plotly.v1+json": {
       "config": {
        "plotlyServerURL": "https://plot.ly"
       },
       "data": [
        {
         "hovertemplate": "variable=seasonal<br>date=%{x}<br>value=%{y}<extra></extra>",
         "legendgroup": "seasonal",
         "line": {
          "color": "#636efa",
          "dash": "solid"
         },
         "marker": {
          "symbol": "circle"
         },
         "mode": "lines",
         "name": "seasonal",
         "orientation": "v",
         "showlegend": true,
         "type": "scatter",
         "x": [
          "2020-01-21T00:00:00",
          "2020-01-22T00:00:00",
          "2020-01-23T00:00:00",
          "2020-01-24T00:00:00",
          "2020-01-25T00:00:00",
          "2020-01-26T00:00:00",
          "2020-01-27T00:00:00",
          "2020-01-28T00:00:00",
          "2020-01-29T00:00:00",
          "2020-01-30T00:00:00",
          "2020-01-31T00:00:00",
          "2020-02-01T00:00:00",
          "2020-02-02T00:00:00",
          "2020-02-03T00:00:00",
          "2020-02-04T00:00:00",
          "2020-02-05T00:00:00",
          "2020-02-06T00:00:00",
          "2020-02-07T00:00:00",
          "2020-02-08T00:00:00",
          "2020-02-09T00:00:00",
          "2020-02-10T00:00:00",
          "2020-02-11T00:00:00",
          "2020-02-12T00:00:00",
          "2020-02-13T00:00:00",
          "2020-02-14T00:00:00",
          "2020-02-15T00:00:00",
          "2020-02-16T00:00:00",
          "2020-02-17T00:00:00",
          "2020-02-18T00:00:00",
          "2020-02-19T00:00:00",
          "2020-02-20T00:00:00",
          "2020-02-21T00:00:00",
          "2020-02-22T00:00:00",
          "2020-02-23T00:00:00",
          "2020-02-24T00:00:00",
          "2020-02-25T00:00:00",
          "2020-02-26T00:00:00",
          "2020-02-27T00:00:00",
          "2020-02-28T00:00:00",
          "2020-02-29T00:00:00",
          "2020-03-01T00:00:00",
          "2020-03-02T00:00:00",
          "2020-03-03T00:00:00",
          "2020-03-04T00:00:00",
          "2020-03-05T00:00:00",
          "2020-03-06T00:00:00",
          "2020-03-07T00:00:00",
          "2020-03-08T00:00:00",
          "2020-03-09T00:00:00",
          "2020-03-10T00:00:00",
          "2020-03-11T00:00:00",
          "2020-03-12T00:00:00",
          "2020-03-13T00:00:00",
          "2020-03-14T00:00:00",
          "2020-03-15T00:00:00",
          "2020-03-16T00:00:00",
          "2020-03-17T00:00:00",
          "2020-03-18T00:00:00",
          "2020-03-19T00:00:00",
          "2020-03-20T00:00:00",
          "2020-03-21T00:00:00",
          "2020-03-22T00:00:00",
          "2020-03-23T00:00:00",
          "2020-03-24T00:00:00",
          "2020-03-25T00:00:00",
          "2020-03-26T00:00:00",
          "2020-03-27T00:00:00",
          "2020-03-28T00:00:00",
          "2020-03-29T00:00:00",
          "2020-03-30T00:00:00",
          "2020-03-31T00:00:00",
          "2020-04-01T00:00:00",
          "2020-04-02T00:00:00",
          "2020-04-03T00:00:00",
          "2020-04-04T00:00:00",
          "2020-04-05T00:00:00",
          "2020-04-06T00:00:00",
          "2020-04-07T00:00:00",
          "2020-04-08T00:00:00",
          "2020-04-09T00:00:00",
          "2020-04-10T00:00:00",
          "2020-04-11T00:00:00",
          "2020-04-12T00:00:00",
          "2020-04-13T00:00:00",
          "2020-04-14T00:00:00",
          "2020-04-15T00:00:00",
          "2020-04-16T00:00:00",
          "2020-04-17T00:00:00",
          "2020-04-18T00:00:00",
          "2020-04-19T00:00:00",
          "2020-04-20T00:00:00",
          "2020-04-21T00:00:00",
          "2020-04-22T00:00:00",
          "2020-04-23T00:00:00",
          "2020-04-24T00:00:00",
          "2020-04-25T00:00:00",
          "2020-04-26T00:00:00",
          "2020-04-27T00:00:00",
          "2020-04-28T00:00:00",
          "2020-04-29T00:00:00",
          "2020-04-30T00:00:00",
          "2020-05-01T00:00:00",
          "2020-05-02T00:00:00",
          "2020-05-03T00:00:00",
          "2020-05-04T00:00:00",
          "2020-05-05T00:00:00",
          "2020-05-06T00:00:00",
          "2020-05-07T00:00:00",
          "2020-05-08T00:00:00",
          "2020-05-09T00:00:00",
          "2020-05-10T00:00:00",
          "2020-05-11T00:00:00",
          "2020-05-12T00:00:00",
          "2020-05-13T00:00:00",
          "2020-05-14T00:00:00",
          "2020-05-15T00:00:00",
          "2020-05-16T00:00:00",
          "2020-05-17T00:00:00",
          "2020-05-18T00:00:00",
          "2020-05-19T00:00:00",
          "2020-05-20T00:00:00",
          "2020-05-21T00:00:00",
          "2020-05-22T00:00:00",
          "2020-05-23T00:00:00",
          "2020-05-24T00:00:00",
          "2020-05-25T00:00:00",
          "2020-05-26T00:00:00",
          "2020-05-27T00:00:00",
          "2020-05-28T00:00:00",
          "2020-05-29T00:00:00",
          "2020-05-30T00:00:00",
          "2020-05-31T00:00:00",
          "2020-06-01T00:00:00",
          "2020-06-02T00:00:00",
          "2020-06-03T00:00:00",
          "2020-06-04T00:00:00",
          "2020-06-05T00:00:00",
          "2020-06-06T00:00:00",
          "2020-06-07T00:00:00",
          "2020-06-08T00:00:00",
          "2020-06-09T00:00:00",
          "2020-06-10T00:00:00",
          "2020-06-11T00:00:00",
          "2020-06-12T00:00:00",
          "2020-06-13T00:00:00",
          "2020-06-14T00:00:00",
          "2020-06-15T00:00:00",
          "2020-06-16T00:00:00",
          "2020-06-17T00:00:00",
          "2020-06-18T00:00:00",
          "2020-06-19T00:00:00",
          "2020-06-20T00:00:00",
          "2020-06-21T00:00:00",
          "2020-06-22T00:00:00",
          "2020-06-23T00:00:00",
          "2020-06-24T00:00:00",
          "2020-06-25T00:00:00",
          "2020-06-26T00:00:00",
          "2020-06-27T00:00:00",
          "2020-06-28T00:00:00",
          "2020-06-29T00:00:00",
          "2020-06-30T00:00:00",
          "2020-07-01T00:00:00",
          "2020-07-02T00:00:00",
          "2020-07-03T00:00:00",
          "2020-07-04T00:00:00",
          "2020-07-05T00:00:00",
          "2020-07-06T00:00:00",
          "2020-07-07T00:00:00",
          "2020-07-08T00:00:00",
          "2020-07-09T00:00:00",
          "2020-07-10T00:00:00",
          "2020-07-11T00:00:00",
          "2020-07-12T00:00:00",
          "2020-07-13T00:00:00",
          "2020-07-14T00:00:00",
          "2020-07-15T00:00:00",
          "2020-07-16T00:00:00",
          "2020-07-17T00:00:00",
          "2020-07-18T00:00:00",
          "2020-07-19T00:00:00",
          "2020-07-20T00:00:00",
          "2020-07-21T00:00:00",
          "2020-07-22T00:00:00",
          "2020-07-23T00:00:00",
          "2020-07-24T00:00:00",
          "2020-07-25T00:00:00",
          "2020-07-26T00:00:00",
          "2020-07-27T00:00:00",
          "2020-07-28T00:00:00",
          "2020-07-29T00:00:00",
          "2020-07-30T00:00:00",
          "2020-07-31T00:00:00",
          "2020-08-01T00:00:00",
          "2020-08-02T00:00:00",
          "2020-08-03T00:00:00",
          "2020-08-04T00:00:00",
          "2020-08-05T00:00:00",
          "2020-08-06T00:00:00",
          "2020-08-07T00:00:00",
          "2020-08-08T00:00:00",
          "2020-08-09T00:00:00",
          "2020-08-10T00:00:00",
          "2020-08-11T00:00:00",
          "2020-08-12T00:00:00",
          "2020-08-13T00:00:00",
          "2020-08-14T00:00:00",
          "2020-08-15T00:00:00",
          "2020-08-16T00:00:00",
          "2020-08-17T00:00:00",
          "2020-08-18T00:00:00",
          "2020-08-19T00:00:00",
          "2020-08-20T00:00:00",
          "2020-08-21T00:00:00",
          "2020-08-22T00:00:00",
          "2020-08-23T00:00:00",
          "2020-08-24T00:00:00",
          "2020-08-25T00:00:00",
          "2020-08-26T00:00:00",
          "2020-08-27T00:00:00",
          "2020-08-28T00:00:00",
          "2020-08-29T00:00:00",
          "2020-08-30T00:00:00",
          "2020-08-31T00:00:00",
          "2020-09-01T00:00:00",
          "2020-09-02T00:00:00",
          "2020-09-03T00:00:00",
          "2020-09-04T00:00:00",
          "2020-09-05T00:00:00",
          "2020-09-06T00:00:00",
          "2020-09-07T00:00:00",
          "2020-09-08T00:00:00",
          "2020-09-09T00:00:00",
          "2020-09-10T00:00:00",
          "2020-09-11T00:00:00",
          "2020-09-12T00:00:00",
          "2020-09-13T00:00:00",
          "2020-09-14T00:00:00",
          "2020-09-15T00:00:00",
          "2020-09-16T00:00:00",
          "2020-09-17T00:00:00",
          "2020-09-18T00:00:00",
          "2020-09-19T00:00:00",
          "2020-09-20T00:00:00",
          "2020-09-21T00:00:00",
          "2020-09-22T00:00:00",
          "2020-09-23T00:00:00",
          "2020-09-24T00:00:00",
          "2020-09-25T00:00:00",
          "2020-09-26T00:00:00",
          "2020-09-27T00:00:00",
          "2020-09-28T00:00:00",
          "2020-09-29T00:00:00",
          "2020-09-30T00:00:00",
          "2020-10-01T00:00:00",
          "2020-10-02T00:00:00",
          "2020-10-03T00:00:00",
          "2020-10-04T00:00:00",
          "2020-10-05T00:00:00",
          "2020-10-06T00:00:00",
          "2020-10-07T00:00:00",
          "2020-10-08T00:00:00",
          "2020-10-09T00:00:00",
          "2020-10-10T00:00:00",
          "2020-10-11T00:00:00",
          "2020-10-12T00:00:00",
          "2020-10-13T00:00:00",
          "2020-10-14T00:00:00",
          "2020-10-15T00:00:00",
          "2020-10-16T00:00:00",
          "2020-10-17T00:00:00",
          "2020-10-18T00:00:00",
          "2020-10-19T00:00:00",
          "2020-10-20T00:00:00",
          "2020-10-21T00:00:00",
          "2020-10-22T00:00:00",
          "2020-10-23T00:00:00",
          "2020-10-24T00:00:00",
          "2020-10-25T00:00:00",
          "2020-10-26T00:00:00",
          "2020-10-27T00:00:00",
          "2020-10-28T00:00:00",
          "2020-10-29T00:00:00",
          "2020-10-30T00:00:00",
          "2020-10-31T00:00:00",
          "2020-11-01T00:00:00",
          "2020-11-02T00:00:00",
          "2020-11-03T00:00:00",
          "2020-11-04T00:00:00",
          "2020-11-05T00:00:00",
          "2020-11-06T00:00:00",
          "2020-11-07T00:00:00",
          "2020-11-08T00:00:00",
          "2020-11-09T00:00:00",
          "2020-11-10T00:00:00",
          "2020-11-11T00:00:00",
          "2020-11-12T00:00:00",
          "2020-11-13T00:00:00",
          "2020-11-14T00:00:00",
          "2020-11-15T00:00:00",
          "2020-11-16T00:00:00",
          "2020-11-17T00:00:00",
          "2020-11-18T00:00:00",
          "2020-11-19T00:00:00",
          "2020-11-20T00:00:00",
          "2020-11-21T00:00:00",
          "2020-11-22T00:00:00",
          "2020-11-23T00:00:00",
          "2020-11-24T00:00:00",
          "2020-11-25T00:00:00",
          "2020-11-26T00:00:00",
          "2020-11-27T00:00:00",
          "2020-11-28T00:00:00",
          "2020-11-29T00:00:00",
          "2020-11-30T00:00:00",
          "2020-12-01T00:00:00",
          "2020-12-02T00:00:00",
          "2020-12-03T00:00:00",
          "2020-12-04T00:00:00",
          "2020-12-05T00:00:00",
          "2020-12-06T00:00:00",
          "2020-12-07T00:00:00",
          "2020-12-08T00:00:00",
          "2020-12-09T00:00:00",
          "2020-12-10T00:00:00",
          "2020-12-11T00:00:00",
          "2020-12-12T00:00:00",
          "2020-12-13T00:00:00",
          "2020-12-14T00:00:00",
          "2020-12-15T00:00:00",
          "2020-12-16T00:00:00",
          "2020-12-17T00:00:00",
          "2020-12-18T00:00:00",
          "2020-12-19T00:00:00",
          "2020-12-20T00:00:00",
          "2020-12-21T00:00:00",
          "2020-12-22T00:00:00",
          "2020-12-23T00:00:00",
          "2020-12-24T00:00:00",
          "2020-12-25T00:00:00",
          "2020-12-26T00:00:00",
          "2020-12-27T00:00:00",
          "2020-12-28T00:00:00",
          "2020-12-29T00:00:00",
          "2020-12-30T00:00:00",
          "2020-12-31T00:00:00",
          "2021-01-01T00:00:00",
          "2021-01-02T00:00:00",
          "2021-01-03T00:00:00",
          "2021-01-04T00:00:00",
          "2021-01-05T00:00:00",
          "2021-01-06T00:00:00",
          "2021-01-07T00:00:00",
          "2021-01-08T00:00:00",
          "2021-01-09T00:00:00",
          "2021-01-10T00:00:00",
          "2021-01-11T00:00:00",
          "2021-01-12T00:00:00",
          "2021-01-13T00:00:00",
          "2021-01-14T00:00:00",
          "2021-01-15T00:00:00",
          "2021-01-16T00:00:00",
          "2021-01-17T00:00:00",
          "2021-01-18T00:00:00",
          "2021-01-19T00:00:00",
          "2021-01-20T00:00:00",
          "2021-01-21T00:00:00",
          "2021-01-22T00:00:00",
          "2021-01-23T00:00:00",
          "2021-01-24T00:00:00",
          "2021-01-25T00:00:00",
          "2021-01-26T00:00:00",
          "2021-01-27T00:00:00",
          "2021-01-28T00:00:00",
          "2021-01-29T00:00:00",
          "2021-01-30T00:00:00",
          "2021-01-31T00:00:00",
          "2021-02-01T00:00:00",
          "2021-02-02T00:00:00",
          "2021-02-03T00:00:00",
          "2021-02-04T00:00:00",
          "2021-02-05T00:00:00",
          "2021-02-06T00:00:00",
          "2021-02-07T00:00:00",
          "2021-02-08T00:00:00",
          "2021-02-09T00:00:00",
          "2021-02-10T00:00:00",
          "2021-02-11T00:00:00",
          "2021-02-12T00:00:00",
          "2021-02-13T00:00:00",
          "2021-02-14T00:00:00",
          "2021-02-15T00:00:00",
          "2021-02-16T00:00:00",
          "2021-02-17T00:00:00",
          "2021-02-18T00:00:00",
          "2021-02-19T00:00:00",
          "2021-02-20T00:00:00",
          "2021-02-21T00:00:00",
          "2021-02-22T00:00:00",
          "2021-02-23T00:00:00",
          "2021-02-24T00:00:00",
          "2021-02-25T00:00:00",
          "2021-02-26T00:00:00",
          "2021-02-27T00:00:00",
          "2021-02-28T00:00:00",
          "2021-03-01T00:00:00",
          "2021-03-02T00:00:00",
          "2021-03-03T00:00:00",
          "2021-03-04T00:00:00",
          "2021-03-05T00:00:00",
          "2021-03-06T00:00:00",
          "2021-03-07T00:00:00",
          "2021-03-08T00:00:00",
          "2021-03-09T00:00:00",
          "2021-03-10T00:00:00",
          "2021-03-11T00:00:00",
          "2021-03-12T00:00:00",
          "2021-03-13T00:00:00",
          "2021-03-14T00:00:00",
          "2021-03-15T00:00:00",
          "2021-03-16T00:00:00",
          "2021-03-17T00:00:00",
          "2021-03-18T00:00:00",
          "2021-03-19T00:00:00",
          "2021-03-20T00:00:00",
          "2021-03-21T00:00:00",
          "2021-03-22T00:00:00",
          "2021-03-23T00:00:00",
          "2021-03-24T00:00:00",
          "2021-03-25T00:00:00",
          "2021-03-26T00:00:00",
          "2021-03-27T00:00:00",
          "2021-03-28T00:00:00",
          "2021-03-29T00:00:00",
          "2021-03-30T00:00:00",
          "2021-03-31T00:00:00",
          "2021-04-01T00:00:00",
          "2021-04-02T00:00:00",
          "2021-04-03T00:00:00",
          "2021-04-04T00:00:00",
          "2021-04-05T00:00:00",
          "2021-04-06T00:00:00",
          "2021-04-07T00:00:00",
          "2021-04-08T00:00:00",
          "2021-04-09T00:00:00",
          "2021-04-10T00:00:00",
          "2021-04-11T00:00:00",
          "2021-04-12T00:00:00",
          "2021-04-13T00:00:00",
          "2021-04-14T00:00:00",
          "2021-04-15T00:00:00",
          "2021-04-16T00:00:00",
          "2021-04-17T00:00:00",
          "2021-04-18T00:00:00",
          "2021-04-19T00:00:00",
          "2021-04-20T00:00:00",
          "2021-04-21T00:00:00",
          "2021-04-22T00:00:00",
          "2021-04-23T00:00:00",
          "2021-04-24T00:00:00",
          "2021-04-25T00:00:00",
          "2021-04-26T00:00:00",
          "2021-04-27T00:00:00",
          "2021-04-28T00:00:00",
          "2021-04-29T00:00:00",
          "2021-04-30T00:00:00",
          "2021-05-01T00:00:00",
          "2021-05-02T00:00:00",
          "2021-05-03T00:00:00",
          "2021-05-04T00:00:00",
          "2021-05-05T00:00:00",
          "2021-05-06T00:00:00",
          "2021-05-07T00:00:00",
          "2021-05-08T00:00:00",
          "2021-05-09T00:00:00",
          "2021-05-10T00:00:00",
          "2021-05-11T00:00:00",
          "2021-05-12T00:00:00",
          "2021-05-13T00:00:00",
          "2021-05-14T00:00:00",
          "2021-05-15T00:00:00",
          "2021-05-16T00:00:00",
          "2021-05-17T00:00:00",
          "2021-05-18T00:00:00",
          "2021-05-19T00:00:00",
          "2021-05-20T00:00:00",
          "2021-05-21T00:00:00",
          "2021-05-22T00:00:00",
          "2021-05-23T00:00:00",
          "2021-05-24T00:00:00",
          "2021-05-25T00:00:00",
          "2021-05-26T00:00:00",
          "2021-05-27T00:00:00",
          "2021-05-28T00:00:00",
          "2021-05-29T00:00:00",
          "2021-05-30T00:00:00",
          "2021-05-31T00:00:00",
          "2021-06-01T00:00:00",
          "2021-06-02T00:00:00",
          "2021-06-03T00:00:00",
          "2021-06-05T00:00:00",
          "2021-06-06T00:00:00",
          "2021-06-07T00:00:00",
          "2021-06-08T00:00:00",
          "2021-06-09T00:00:00",
          "2021-06-10T00:00:00",
          "2021-06-11T00:00:00",
          "2021-06-12T00:00:00",
          "2021-06-13T00:00:00",
          "2021-06-14T00:00:00",
          "2021-06-15T00:00:00",
          "2021-06-16T00:00:00",
          "2021-06-17T00:00:00",
          "2021-06-18T00:00:00",
          "2021-06-19T00:00:00",
          "2021-06-20T00:00:00",
          "2021-06-21T00:00:00",
          "2021-06-22T00:00:00",
          "2021-06-23T00:00:00",
          "2021-06-24T00:00:00",
          "2021-06-25T00:00:00",
          "2021-06-26T00:00:00",
          "2021-06-27T00:00:00",
          "2021-06-28T00:00:00",
          "2021-06-29T00:00:00",
          "2021-06-30T00:00:00",
          "2021-07-01T00:00:00",
          "2021-07-02T00:00:00",
          "2021-07-03T00:00:00",
          "2021-07-04T00:00:00",
          "2021-07-05T00:00:00",
          "2021-07-06T00:00:00",
          "2021-07-07T00:00:00",
          "2021-07-08T00:00:00",
          "2021-07-09T00:00:00",
          "2021-07-10T00:00:00",
          "2021-07-11T00:00:00",
          "2021-07-12T00:00:00",
          "2021-07-13T00:00:00",
          "2021-07-14T00:00:00",
          "2021-07-15T00:00:00",
          "2021-07-16T00:00:00",
          "2021-07-17T00:00:00",
          "2021-07-18T00:00:00",
          "2021-07-19T00:00:00",
          "2021-07-20T00:00:00",
          "2021-07-21T00:00:00",
          "2021-07-22T00:00:00",
          "2021-07-23T00:00:00",
          "2021-07-24T00:00:00",
          "2021-07-25T00:00:00",
          "2021-07-26T00:00:00",
          "2021-07-27T00:00:00",
          "2021-07-28T00:00:00",
          "2021-07-29T00:00:00",
          "2021-07-30T00:00:00",
          "2021-07-31T00:00:00",
          "2021-08-01T00:00:00",
          "2021-08-02T00:00:00",
          "2021-08-03T00:00:00",
          "2021-08-04T00:00:00",
          "2021-08-05T00:00:00",
          "2021-08-06T00:00:00",
          "2021-08-07T00:00:00",
          "2021-08-08T00:00:00",
          "2021-08-09T00:00:00",
          "2021-08-10T00:00:00",
          "2021-08-11T00:00:00",
          "2021-08-12T00:00:00",
          "2021-08-13T00:00:00",
          "2021-08-14T00:00:00",
          "2021-08-15T00:00:00",
          "2021-08-16T00:00:00",
          "2021-08-17T00:00:00",
          "2021-08-18T00:00:00",
          "2021-08-19T00:00:00",
          "2021-08-20T00:00:00",
          "2021-08-21T00:00:00",
          "2021-08-22T00:00:00",
          "2021-08-23T00:00:00",
          "2021-08-24T00:00:00",
          "2021-08-25T00:00:00",
          "2021-08-26T00:00:00",
          "2021-08-27T00:00:00",
          "2021-08-28T00:00:00",
          "2021-08-29T00:00:00",
          "2021-08-30T00:00:00",
          "2021-08-31T00:00:00",
          "2021-09-01T00:00:00",
          "2021-09-02T00:00:00",
          "2021-09-03T00:00:00",
          "2021-09-04T00:00:00",
          "2021-09-05T00:00:00",
          "2021-09-06T00:00:00",
          "2021-09-07T00:00:00",
          "2021-09-08T00:00:00",
          "2021-09-09T00:00:00",
          "2021-09-10T00:00:00",
          "2021-09-11T00:00:00",
          "2021-09-12T00:00:00",
          "2021-09-13T00:00:00",
          "2021-09-14T00:00:00",
          "2021-09-15T00:00:00",
          "2021-09-16T00:00:00",
          "2021-09-17T00:00:00",
          "2021-09-18T00:00:00",
          "2021-09-19T00:00:00",
          "2021-09-20T00:00:00",
          "2021-09-21T00:00:00",
          "2021-09-22T00:00:00",
          "2021-09-23T00:00:00",
          "2021-09-24T00:00:00",
          "2021-09-25T00:00:00",
          "2021-09-26T00:00:00",
          "2021-09-27T00:00:00",
          "2021-09-28T00:00:00",
          "2021-09-29T00:00:00",
          "2021-09-30T00:00:00",
          "2021-10-01T00:00:00",
          "2021-10-02T00:00:00",
          "2021-10-03T00:00:00",
          "2021-10-04T00:00:00",
          "2021-10-05T00:00:00",
          "2021-10-06T00:00:00",
          "2021-10-07T00:00:00",
          "2021-10-08T00:00:00",
          "2021-10-09T00:00:00",
          "2021-10-10T00:00:00",
          "2021-10-11T00:00:00",
          "2021-10-12T00:00:00",
          "2021-10-13T00:00:00",
          "2021-10-14T00:00:00",
          "2021-10-15T00:00:00",
          "2021-10-16T00:00:00",
          "2021-10-17T00:00:00",
          "2021-10-18T00:00:00",
          "2021-10-19T00:00:00",
          "2021-10-20T00:00:00",
          "2021-10-21T00:00:00",
          "2021-10-22T00:00:00",
          "2021-10-23T00:00:00",
          "2021-10-24T00:00:00",
          "2021-10-25T00:00:00",
          "2021-10-26T00:00:00",
          "2021-10-27T00:00:00",
          "2021-10-28T00:00:00",
          "2021-10-29T00:00:00",
          "2021-10-30T00:00:00",
          "2021-10-31T00:00:00",
          "2021-11-01T00:00:00",
          "2021-11-02T00:00:00",
          "2021-11-03T00:00:00",
          "2021-11-04T00:00:00",
          "2021-11-05T00:00:00",
          "2021-11-06T00:00:00",
          "2021-11-07T00:00:00",
          "2021-11-08T00:00:00",
          "2021-11-09T00:00:00",
          "2021-11-10T00:00:00",
          "2021-11-11T00:00:00",
          "2021-11-12T00:00:00",
          "2021-11-13T00:00:00",
          "2021-11-14T00:00:00",
          "2021-11-15T00:00:00",
          "2021-11-16T00:00:00",
          "2021-11-17T00:00:00",
          "2021-11-18T00:00:00",
          "2021-11-19T00:00:00",
          "2021-11-20T00:00:00",
          "2021-11-21T00:00:00",
          "2021-11-22T00:00:00",
          "2021-11-23T00:00:00",
          "2021-11-24T00:00:00",
          "2021-11-25T00:00:00",
          "2021-11-26T00:00:00",
          "2021-11-27T00:00:00",
          "2021-11-28T00:00:00",
          "2021-11-29T00:00:00",
          "2021-11-30T00:00:00",
          "2021-12-01T00:00:00",
          "2021-12-02T00:00:00",
          "2021-12-03T00:00:00",
          "2021-12-04T00:00:00",
          "2021-12-05T00:00:00",
          "2021-12-06T00:00:00",
          "2021-12-07T00:00:00",
          "2021-12-08T00:00:00",
          "2021-12-09T00:00:00",
          "2021-12-10T00:00:00",
          "2021-12-11T00:00:00",
          "2021-12-12T00:00:00",
          "2021-12-13T00:00:00",
          "2021-12-14T00:00:00",
          "2021-12-15T00:00:00",
          "2021-12-16T00:00:00",
          "2021-12-17T00:00:00",
          "2021-12-18T00:00:00",
          "2021-12-19T00:00:00",
          "2021-12-20T00:00:00",
          "2021-12-21T00:00:00",
          "2021-12-22T00:00:00",
          "2021-12-23T00:00:00",
          "2021-12-24T00:00:00",
          "2021-12-25T00:00:00",
          "2021-12-26T00:00:00",
          "2021-12-27T00:00:00",
          "2021-12-28T00:00:00",
          "2021-12-29T00:00:00",
          "2021-12-30T00:00:00",
          "2021-12-31T00:00:00",
          "2022-01-01T00:00:00",
          "2022-01-02T00:00:00",
          "2022-01-03T00:00:00",
          "2022-01-04T00:00:00",
          "2022-01-05T00:00:00",
          "2022-01-06T00:00:00",
          "2022-01-07T00:00:00",
          "2022-01-08T00:00:00",
          "2022-01-09T00:00:00",
          "2022-01-10T00:00:00",
          "2022-01-11T00:00:00",
          "2022-01-12T00:00:00",
          "2022-01-13T00:00:00",
          "2022-01-14T00:00:00",
          "2022-01-15T00:00:00",
          "2022-01-16T00:00:00",
          "2022-01-17T00:00:00",
          "2022-01-18T00:00:00",
          "2022-01-19T00:00:00",
          "2022-01-20T00:00:00",
          "2022-01-21T00:00:00",
          "2022-01-22T00:00:00",
          "2022-01-23T00:00:00",
          "2022-01-24T00:00:00",
          "2022-01-25T00:00:00",
          "2022-01-26T00:00:00",
          "2022-01-27T00:00:00",
          "2022-01-28T00:00:00",
          "2022-01-29T00:00:00",
          "2022-01-30T00:00:00",
          "2022-01-31T00:00:00",
          "2022-02-01T00:00:00",
          "2022-02-02T00:00:00",
          "2022-02-03T00:00:00",
          "2022-02-04T00:00:00",
          "2022-02-05T00:00:00",
          "2022-02-06T00:00:00",
          "2022-02-07T00:00:00",
          "2022-02-08T00:00:00",
          "2022-02-09T00:00:00",
          "2022-02-10T00:00:00",
          "2022-02-11T00:00:00",
          "2022-02-12T00:00:00",
          "2022-02-13T00:00:00",
          "2022-02-14T00:00:00",
          "2022-02-15T00:00:00",
          "2022-02-16T00:00:00",
          "2022-02-17T00:00:00",
          "2022-02-18T00:00:00",
          "2022-02-19T00:00:00",
          "2022-02-20T00:00:00",
          "2022-02-21T00:00:00",
          "2022-02-22T00:00:00",
          "2022-02-23T00:00:00",
          "2022-02-24T00:00:00",
          "2022-02-25T00:00:00",
          "2022-02-26T00:00:00",
          "2022-02-27T00:00:00",
          "2022-02-28T00:00:00",
          "2022-03-01T00:00:00",
          "2022-03-02T00:00:00",
          "2022-03-03T00:00:00",
          "2022-03-04T00:00:00",
          "2022-03-05T00:00:00",
          "2022-03-06T00:00:00",
          "2022-03-07T00:00:00",
          "2022-03-08T00:00:00",
          "2022-03-09T00:00:00",
          "2022-03-10T00:00:00",
          "2022-03-11T00:00:00",
          "2022-03-12T00:00:00",
          "2022-03-13T00:00:00",
          "2022-03-15T00:00:00",
          "2022-03-16T00:00:00",
          "2022-03-17T00:00:00",
          "2022-03-18T00:00:00",
          "2022-03-19T00:00:00",
          "2022-03-20T00:00:00",
          "2022-03-21T00:00:00",
          "2022-03-22T00:00:00",
          "2022-03-23T00:00:00",
          "2022-03-24T00:00:00",
          "2022-03-25T00:00:00",
          "2022-03-26T00:00:00",
          "2022-03-27T00:00:00",
          "2022-03-28T00:00:00",
          "2022-03-29T00:00:00",
          "2022-03-30T00:00:00",
          "2022-03-31T00:00:00",
          "2022-04-01T00:00:00",
          "2022-04-02T00:00:00",
          "2022-04-03T00:00:00",
          "2022-04-04T00:00:00",
          "2022-04-05T00:00:00",
          "2022-04-06T00:00:00",
          "2022-04-07T00:00:00",
          "2022-04-08T00:00:00",
          "2022-04-09T00:00:00",
          "2022-04-10T00:00:00",
          "2022-04-11T00:00:00",
          "2022-04-12T00:00:00",
          "2022-04-13T00:00:00",
          "2022-04-14T00:00:00",
          "2022-04-15T00:00:00",
          "2022-04-16T00:00:00",
          "2022-04-17T00:00:00",
          "2022-04-18T00:00:00",
          "2022-04-19T00:00:00",
          "2022-04-20T00:00:00",
          "2022-04-21T00:00:00",
          "2022-04-22T00:00:00",
          "2022-04-23T00:00:00",
          "2022-04-24T00:00:00",
          "2022-04-25T00:00:00",
          "2022-04-26T00:00:00",
          "2022-04-27T00:00:00",
          "2022-04-28T00:00:00",
          "2022-04-29T00:00:00",
          "2022-04-30T00:00:00",
          "2022-05-01T00:00:00",
          "2022-05-02T00:00:00",
          "2022-05-03T00:00:00",
          "2022-05-04T00:00:00",
          "2022-05-05T00:00:00",
          "2022-05-06T00:00:00",
          "2022-05-07T00:00:00",
          "2022-05-08T00:00:00",
          "2022-05-09T00:00:00",
          "2022-05-10T00:00:00",
          "2022-05-11T00:00:00",
          "2022-05-12T00:00:00",
          "2022-05-13T00:00:00",
          "2022-05-14T00:00:00",
          "2022-05-15T00:00:00",
          "2022-05-16T00:00:00",
          "2022-05-17T00:00:00",
          "2022-05-18T00:00:00",
          "2022-05-19T00:00:00",
          "2022-05-20T00:00:00",
          "2022-05-21T00:00:00",
          "2022-05-22T00:00:00",
          "2022-05-23T00:00:00",
          "2022-05-24T00:00:00",
          "2022-05-25T00:00:00",
          "2022-05-26T00:00:00",
          "2022-05-27T00:00:00",
          "2022-05-28T00:00:00",
          "2022-05-29T00:00:00"
         ],
         "xaxis": "x",
         "y": [
          110578.55963595421,
          115536.05826609119,
          116751.70484143366,
          93267.24456746105,
          54954.16237568023,
          81710.05004691312,
          75701.41990992682,
          80737.04182773503,
          90988.91306061174,
          89536.44730718707,
          58848.006211296684,
          38625.63086883092,
          66411.98155376242,
          39636.28292362545,
          44362.124019515846,
          49501.074704447354,
          53408.263745543256,
          28923.00073184462,
          10918.778814036403,
          16308.515800337776,
          19419.51854006379,
          17770.67744417339,
          28070.981553762427,
          22069.608951022707,
          7137.510320885722,
          -14306.407487333458,
          -23094.297898292363,
          -14174.484199662224,
          -8872.714336648536,
          -7671.73625445674,
          -1542.1389941827765,
          -9810.971870895093,
          -24956.78282979922,
          -20993.697898292357,
          -8904.319816100582,
          -7030.382829799226,
          -3755.9636517170256,
          -3427.5855695252503,
          -19059.51433664854,
          -31474.52529555265,
          -26030.98009007319,
          -25561.08419966223,
          -16953.760911991,
          -16719.462281854005,
          -18360.317076374555,
          -27449.265021580035,
          -44065.39652842935,
          9640.754156502157,
          -29408.925295552643,
          -27500.94995308689,
          -23700.686939388263,
          -22019.94721336086,
          -36607.004747607425,
          -48848.85132294989,
          -30000.84584349785,
          -32999.07324075812,
          -28915.966391443068,
          -27726.747213360864,
          -27636.404747607445,
          -33809.936254456756,
          -54497.703377744416,
          -34231.19378870333,
          -32454.7307750047,
          -9545.602007881414,
          -20602.360911991007,
          -15236.862281854013,
          -28980.11981610057,
          -45581.81570651155,
          -19566.149953086886,
          -28320.881459936205,
          -22817.544473634825,
          -13789.908857196464,
          -22387.8924188403,
          -26764.889679114272,
          -54420.13625445674,
          -14823.215706511543,
          -29619.303377744418,
          -18672.645843497838,
          -11468.780090073178,
          -10292.593788703318,
          -27018.174610621132,
          -43996.52255582661,
          -20224.517076374552,
          -14995.903377744424,
          -16661.6321448677,
          -18823.67872021018,
          -14076.522555826607,
          -38424.160911991,
          -51088.947213360865,
          -22326.03214486771,
          -31620.065021580052,
          -30207.56365171703,
          -26524.741733908795,
          -28857.615706511537,
          -41986.78009007318,
          -58937.70337774443,
          -45269.615706511555,
          -40782.15269281292,
          -37873.47598048416,
          -35128.21844623757,
          -34025.38830925127,
          -47561.5115969225,
          -62799.09515856634,
          -42494.62392568962,
          -51458.52255582661,
          -47668.96365171703,
          -44649.27872021019,
          -44605.319816100586,
          -58128.92803527867,
          -69468.38009007319,
          -55183.39652842935,
          -57613.40474760745,
          -55965.517076374555,
          -52972.45680240195,
          -50150.308857196476,
          -61648.7417339088,
          -73960.22392568963,
          -61340.75817226496,
          -62541.72803527868,
          -61470.02118596359,
          -60501.82392568962,
          -60707.60748733347,
          -70943.73899418279,
          -75074.02666541564,
          -63464.45680240195,
          -66090.8102270595,
          -65140.05680240196,
          -60425.454062675926,
          -65933.89241884032,
          -75899.56639144305,
          -80195.38556952524,
          -82060.88419966222,
          -64916.24584349785,
          -70503.54447363483,
          -67759.23762431977,
          -76344.99378870333,
          -80100.82940514167,
          -66779.18830925127,
          -71887.49241884032,
          -65256.49789829238,
          -69857.91159692251,
          -68680.17461062114,
          -76751.79104897729,
          -77574.86776130606,
          -69230.1307750047,
          -72292.58282979921,
          -69601.22940514168,
          -71669.51981610058,
          -70954.65132294991,
          -75627.94995308689,
          -78655.3307750047,
          -67172.94721336087,
          -70282.13899418278,
          -69127.68419966224,
          -68637.8705010321,
          -68249.76639144306,
          -76051.45680240195,
          -78998.69789829236,
          -68432.70885719647,
          -68878.07324075812,
          -69452.13899418278,
          -21522.262281853993,
          -66641.47598048415,
          -82892.79378870333,
          -84345.6814599362,
          -84669.35269281291,
          -64057.67050103209,
          -62154.667761306075,
          -44576.83762431977,
          -60239.78009007318,
          -88271.31707637456,
          -90526.20200788141,
          -63924.71707637457,
          -57864.43762431976,
          -64583.10337774441,
          -68371.98830925128,
          -54094.75817226496,
          -94377.05954212797,
          -98063.42666541567,
          -49305.29789829237,
          -49138.78830925128,
          -53406.24584349785,
          -20990.941733908792,
          -11109.510227059476,
          -42174.18009007319,
          -44566.44173390881,
          -9728.356802401959,
          -9841.73625445674,
          -19225.8307750047,
          -11318.219816100584,
          1943.4445674610506,
          -43793.21707637457,
          -47267.76091199099,
          2333.4294989679074,
          5980.896622255579,
          -15102.844473634836,
          -5184.07324075812,
          15163.687033214479,
          -46228.35543253894,
          -47510.460911991,
          20365.663745543254,
          8419.230868830924,
          4198.663745543254,
          -1381.1335147307145,
          23188.232238693938,
          -45795.38556952524,
          -46133.99104897729,
          57053.87333458435,
          -5005.362281853999,
          2651.2404578720198,
          2934.473334584345,
          22601.324019515847,
          -36061.47872021017,
          -54006.32118596359,
          56702.937718146,
          -7787.2157065115425,
          6501.970594858325,
          14203.432238693935,
          21228.645937324076,
          -33985.38419966222,
          -55072.330775004695,
          62925.00484143365,
          -2801.1910489773036,
          24020.68155376243,
          10081.330868830923,
          12100.43223869392,
          -43656.27872021019,
          -51631.96776130606,
          -40362.726665415656,
          65544.33634828297,
          4588.651416776123,
          -384.39241884031435,
          4622.689772940506,
          -44222.436254456756,
          -56661.63488459373,
          61791.33086883092,
          -7323.212966785515,
          3149.95278663914,
          -3389.7622818540076,
          2648.5527866391385,
          -43716.85680240196,
          -56098.017076374555,
          24441.517170200783,
          -17437.059542127983,
          579.9390880089959,
          -18046.98556952523,
          -9896.707487333453,
          -52268.93214486771,
          -56293.504747607425,
          18029.128129104884,
          -25427.26365171702,
          -17836.64310377181,
          -20834.665021580036,
          -16852.704747607433,
          -55419.56365171702,
          -61045.574610621145,
          9485.877444173402,
          -33940.10748733346,
          -6602.429405141691,
          -26672.496528429354,
          -17809.960911991,
          -53891.08419966223,
          -59769.52392568963,
          -13099.943103771813,
          -22614.838994182774,
          -23549.373240758116,
          -29184.803377744418,
          -21637.67598048414,
          -51371.48556952523,
          -54549.475980484145,
          -13485.836254456746,
          -35147.59515856633,
          -24945.577350347154,
          -29762.333514730704,
          -25256.29652842935,
          -48523.77598048415,
          -49857.215706511546,
          -9011.25269281289,
          -27580.830775004677,
          -16622.986939388244,
          -21008.307487333466,
          -15988.622555826612,
          -41235.79789829235,
          -41990.00611747043,
          2974.5500469131184,
          -25948.704747607433,
          -12186.960911990991,
          -13960.58967911427,
          -1798.197898292372,
          -25059.782829799213,
          -24365.091048977305,
          24286.532238693933,
          -8900.682829799214,
          12528.62538937887,
          -183.8650215800335,
          33751.34730718708,
          10163.184293488466,
          23.388403077504336,
          51151.64045787201,
          9960.159635954205,
          37444.23086883093,
          32775.13497841997,
          42764.76511540626,
          11088.248677050102,
          11770.333608556957,
          61921.61306061175,
          13062.226759241883,
          45894.00347157064,
          328.10073184462453,
          12037.133608556953,
          -40170.580090073185,
          128068.11306061174,
          73672.69662225558,
          58430.408951022706,
          90007.86374554326,
          106576.0199099268,
          123530.79525239256,
          140098.2089510227,
          153758.80621129667,
          128160.60347157065,
          94381.9979921186,
          126996.137718146,
          142180.40621129668,
          142190.64182773503,
          147716.1486770501,
          203045.03360855693,
          130115.28292362543,
          106830.2692249953,
          123516.15415650213,
          125799.78703321447,
          167508.57607431037,
          160426.0692249953,
          173963.17607431038,
          116751.52675924188,
          102801.85826609119,
          124446.16785513228,
          124610.19525239256,
          150791.9897729405,
          116600.33497841997,
          24114.53223869394,
          140158.0692249953,
          75459.3596359542,
          112445.50758115969,
          124529.94319759804,
          152403.5459373241,
          154559.47470444735,
          70924.75141677613,
          215435.33223869393,
          125729.75689622818,
          175828.22264965283,
          159061.06374554324,
          180024.35415650214,
          204458.436348283,
          225044.2610058172,
          176357.9979921186,
          132803.4171702008,
          150865.0281291049,
          154590.44456746106,
          154019.49662225557,
          164260.65552636515,
          164764.92127978982,
          127274.49936198161,
          95184.45552636516,
          66223.90484143366,
          112035.17059485833,
          110578.55963595421,
          115536.05826609119,
          116751.70484143366,
          93267.24456746105,
          54954.16237568023,
          81710.05004691312,
          75701.41990992682,
          80737.04182773503,
          90988.91306061174,
          89536.44730718707,
          58848.006211296684,
          38625.63086883092,
          66411.98155376242,
          39636.28292362545,
          44362.124019515846,
          49501.074704447354,
          53408.263745543256,
          28923.00073184462,
          10918.778814036403,
          16308.515800337776,
          19419.51854006379,
          17770.67744417339,
          28070.981553762427,
          22069.608951022707,
          7137.510320885722,
          -14306.407487333458,
          -23094.297898292363,
          -14174.484199662224,
          -8872.714336648536,
          -7671.73625445674,
          -1542.1389941827765,
          -9810.971870895093,
          -24956.78282979922,
          -20993.697898292357,
          -8904.319816100582,
          -7030.382829799226,
          -3755.9636517170256,
          -3427.5855695252503,
          -19059.51433664854,
          -31474.52529555265,
          -26030.98009007319,
          -25561.08419966223,
          -16953.760911991,
          -16719.462281854005,
          -18360.317076374555,
          -27449.265021580035,
          -44065.39652842935,
          9640.754156502157,
          -29408.925295552643,
          -27500.94995308689,
          -23700.686939388263,
          -22019.94721336086,
          -36607.004747607425,
          -48848.85132294989,
          -30000.84584349785,
          -32999.07324075812,
          -28915.966391443068,
          -27726.747213360864,
          -27636.404747607445,
          -33809.936254456756,
          -54497.703377744416,
          -34231.19378870333,
          -32454.7307750047,
          -9545.602007881414,
          -20602.360911991007,
          -15236.862281854013,
          -28980.11981610057,
          -45581.81570651155,
          -19566.149953086886,
          -28320.881459936205,
          -22817.544473634825,
          -13789.908857196464,
          -22387.8924188403,
          -26764.889679114272,
          -54420.13625445674,
          -14823.215706511543,
          -29619.303377744418,
          -18672.645843497838,
          -11468.780090073178,
          -10292.593788703318,
          -27018.174610621132,
          -43996.52255582661,
          -20224.517076374552,
          -14995.903377744424,
          -16661.6321448677,
          -18823.67872021018,
          -14076.522555826607,
          -38424.160911991,
          -51088.947213360865,
          -22326.03214486771,
          -31620.065021580052,
          -30207.56365171703,
          -26524.741733908795,
          -28857.615706511537,
          -41986.78009007318,
          -58937.70337774443,
          -45269.615706511555,
          -40782.15269281292,
          -37873.47598048416,
          -35128.21844623757,
          -34025.38830925127,
          -47561.5115969225,
          -62799.09515856634,
          -42494.62392568962,
          -51458.52255582661,
          -47668.96365171703,
          -44649.27872021019,
          -44605.319816100586,
          -58128.92803527867,
          -69468.38009007319,
          -55183.39652842935,
          -57613.40474760745,
          -55965.517076374555,
          -52972.45680240195,
          -50150.308857196476,
          -61648.7417339088,
          -73960.22392568963,
          -61340.75817226496,
          -62541.72803527868,
          -61470.02118596359,
          -60501.82392568962,
          -60707.60748733347,
          -70943.73899418279,
          -75074.02666541564,
          -63464.45680240195,
          -66090.8102270595,
          -65140.05680240196,
          -60425.454062675926,
          -65933.89241884032,
          -75899.56639144305,
          -80195.38556952524,
          -82060.88419966222,
          -64916.24584349785,
          -70503.54447363483,
          -67759.23762431977,
          -76344.99378870333,
          -80100.82940514167,
          -66779.18830925127,
          -71887.49241884032,
          -65256.49789829238,
          -69857.91159692251,
          -68680.17461062114,
          -76751.79104897729,
          -77574.86776130606,
          -69230.1307750047,
          -72292.58282979921,
          -69601.22940514168,
          -71669.51981610058,
          -70954.65132294991,
          -75627.94995308689,
          -78655.3307750047,
          -67172.94721336087,
          -70282.13899418278,
          -69127.68419966224,
          -68637.8705010321,
          -68249.76639144306,
          -76051.45680240195,
          -78998.69789829236,
          -68432.70885719647,
          -68878.07324075812,
          -69452.13899418278,
          -21522.262281853993,
          -66641.47598048415,
          -82892.79378870333,
          -84345.6814599362,
          -84669.35269281291,
          -64057.67050103209,
          -62154.667761306075,
          -44576.83762431977,
          -60239.78009007318,
          -88271.31707637456,
          -90526.20200788141,
          -63924.71707637457,
          -57864.43762431976,
          -64583.10337774441,
          -68371.98830925128,
          -54094.75817226496,
          -94377.05954212797,
          -98063.42666541567,
          -49305.29789829237,
          -49138.78830925128,
          -53406.24584349785,
          -20990.941733908792,
          -11109.510227059476,
          -42174.18009007319,
          -44566.44173390881,
          -9728.356802401959,
          -9841.73625445674,
          -19225.8307750047,
          -11318.219816100584,
          1943.4445674610506,
          -43793.21707637457,
          -47267.76091199099,
          2333.4294989679074,
          5980.896622255579,
          -15102.844473634836,
          -5184.07324075812,
          15163.687033214479,
          -46228.35543253894,
          -47510.460911991,
          20365.663745543254,
          8419.230868830924,
          4198.663745543254,
          -1381.1335147307145,
          23188.232238693938,
          -45795.38556952524,
          -46133.99104897729,
          57053.87333458435,
          -5005.362281853999,
          2651.2404578720198,
          2934.473334584345,
          22601.324019515847,
          -36061.47872021017,
          -54006.32118596359,
          56702.937718146,
          -7787.2157065115425,
          6501.970594858325,
          14203.432238693935,
          21228.645937324076,
          -33985.38419966222,
          -55072.330775004695,
          62925.00484143365,
          -2801.1910489773036,
          24020.68155376243,
          10081.330868830923,
          12100.43223869392,
          -43656.27872021019,
          -51631.96776130606,
          -40362.726665415656,
          65544.33634828297,
          4588.651416776123,
          -384.39241884031435,
          4622.689772940506,
          -44222.436254456756,
          -56661.63488459373,
          61791.33086883092,
          -7323.212966785515,
          3149.95278663914,
          -3389.7622818540076,
          2648.5527866391385,
          -43716.85680240196,
          -56098.017076374555,
          24441.517170200783,
          -17437.059542127983,
          579.9390880089959,
          -18046.98556952523,
          -9896.707487333453,
          -52268.93214486771,
          -56293.504747607425,
          18029.128129104884,
          -25427.26365171702,
          -17836.64310377181,
          -20834.665021580036,
          -16852.704747607433,
          -55419.56365171702,
          -61045.574610621145,
          9485.877444173402,
          -33940.10748733346,
          -6602.429405141691,
          -26672.496528429354,
          -17809.960911991,
          -53891.08419966223,
          -59769.52392568963,
          -13099.943103771813,
          -22614.838994182774,
          -23549.373240758116,
          -29184.803377744418,
          -21637.67598048414,
          -51371.48556952523,
          -54549.475980484145,
          -13485.836254456746,
          -35147.59515856633,
          -24945.577350347154,
          -29762.333514730704,
          -25256.29652842935,
          -48523.77598048415,
          -49857.215706511546,
          -9011.25269281289,
          -27580.830775004677,
          -16622.986939388244,
          -21008.307487333466,
          -15988.622555826612,
          -41235.79789829235,
          -41990.00611747043,
          2974.5500469131184,
          -25948.704747607433,
          -12186.960911990991,
          -13960.58967911427,
          -1798.197898292372,
          -25059.782829799213,
          -24365.091048977305,
          24286.532238693933,
          -8900.682829799214,
          12528.62538937887,
          -183.8650215800335,
          33751.34730718708,
          10163.184293488466,
          23.388403077504336,
          51151.64045787201,
          9960.159635954205,
          37444.23086883093,
          32775.13497841997,
          42764.76511540626,
          11088.248677050102,
          11770.333608556957,
          61921.61306061175,
          13062.226759241883,
          45894.00347157064,
          328.10073184462453,
          12037.133608556953,
          -40170.580090073185,
          128068.11306061174,
          73672.69662225558,
          58430.408951022706,
          90007.86374554326,
          106576.0199099268,
          123530.79525239256,
          140098.2089510227,
          153758.80621129667,
          128160.60347157065,
          94381.9979921186,
          126996.137718146,
          142180.40621129668,
          142190.64182773503,
          147716.1486770501,
          203045.03360855693,
          130115.28292362543,
          106830.2692249953,
          123516.15415650213,
          125799.78703321447,
          167508.57607431037,
          160426.0692249953,
          173963.17607431038,
          116751.52675924188,
          102801.85826609119,
          124446.16785513228,
          124610.19525239256,
          150791.9897729405,
          116600.33497841997,
          24114.53223869394,
          140158.0692249953,
          75459.3596359542,
          112445.50758115969,
          124529.94319759804,
          152403.5459373241,
          154559.47470444735,
          70924.75141677613,
          215435.33223869393,
          125729.75689622818,
          175828.22264965283,
          159061.06374554324,
          180024.35415650214,
          204458.436348283,
          225044.2610058172,
          176357.9979921186,
          132803.4171702008,
          150865.0281291049,
          154590.44456746106,
          154019.49662225557,
          164260.65552636515,
          164764.92127978982,
          127274.49936198161,
          95184.45552636516,
          66223.90484143366,
          112035.17059485833,
          110578.55963595421,
          115536.05826609119,
          116751.70484143366,
          93267.24456746105,
          54954.16237568023,
          81710.05004691312,
          75701.41990992682,
          80737.04182773503,
          90988.91306061174,
          89536.44730718707,
          58848.006211296684,
          38625.63086883092,
          66411.98155376242,
          39636.28292362545,
          44362.124019515846,
          49501.074704447354,
          53408.263745543256,
          28923.00073184462,
          10918.778814036403,
          16308.515800337776,
          19419.51854006379,
          17770.67744417339,
          28070.981553762427,
          22069.608951022707,
          7137.510320885722,
          -14306.407487333458,
          -23094.297898292363,
          -14174.484199662224,
          -8872.714336648536,
          -7671.73625445674,
          -1542.1389941827765,
          -9810.971870895093,
          -24956.78282979922,
          -20993.697898292357,
          -8904.319816100582,
          -7030.382829799226,
          -3755.9636517170256,
          -3427.5855695252503,
          -19059.51433664854,
          -31474.52529555265,
          -26030.98009007319,
          -25561.08419966223,
          -16953.760911991,
          -16719.462281854005,
          -18360.317076374555,
          -27449.265021580035,
          -44065.39652842935,
          9640.754156502157,
          -29408.925295552643,
          -27500.94995308689,
          -23700.686939388263,
          -22019.94721336086,
          -36607.004747607425,
          -48848.85132294989,
          -30000.84584349785,
          -32999.07324075812,
          -28915.966391443068,
          -27726.747213360864,
          -27636.404747607445,
          -33809.936254456756,
          -54497.703377744416,
          -34231.19378870333,
          -32454.7307750047,
          -9545.602007881414,
          -20602.360911991007,
          -15236.862281854013,
          -28980.11981610057,
          -45581.81570651155,
          -19566.149953086886,
          -28320.881459936205,
          -22817.544473634825,
          -13789.908857196464,
          -22387.8924188403,
          -26764.889679114272,
          -54420.13625445674,
          -14823.215706511543,
          -29619.303377744418,
          -18672.645843497838,
          -11468.780090073178,
          -10292.593788703318,
          -27018.174610621132,
          -43996.52255582661,
          -20224.517076374552,
          -14995.903377744424,
          -16661.6321448677,
          -18823.67872021018,
          -14076.522555826607,
          -38424.160911991,
          -51088.947213360865,
          -22326.03214486771,
          -31620.065021580052,
          -30207.56365171703,
          -26524.741733908795,
          -28857.615706511537,
          -41986.78009007318,
          -58937.70337774443,
          -45269.615706511555,
          -40782.15269281292,
          -37873.47598048416,
          -35128.21844623757,
          -34025.38830925127,
          -47561.5115969225,
          -62799.09515856634,
          -42494.62392568962,
          -51458.52255582661,
          -47668.96365171703,
          -44649.27872021019,
          -44605.319816100586,
          -58128.92803527867,
          -69468.38009007319,
          -55183.39652842935,
          -57613.40474760745,
          -55965.517076374555,
          -52972.45680240195,
          -50150.308857196476,
          -61648.7417339088,
          -73960.22392568963,
          -61340.75817226496,
          -62541.72803527868,
          -61470.02118596359,
          -60501.82392568962,
          -60707.60748733347,
          -70943.73899418279,
          -75074.02666541564,
          -63464.45680240195,
          -66090.8102270595,
          -65140.05680240196,
          -60425.454062675926
         ],
         "yaxis": "y"
        }
       ],
       "layout": {
        "autosize": true,
        "legend": {
         "title": {
          "text": "variable"
         },
         "tracegroupgap": 0
        },
        "margin": {
         "t": 60
        },
        "template": {
         "data": {
          "bar": [
           {
            "error_x": {
             "color": "#2a3f5f"
            },
            "error_y": {
             "color": "#2a3f5f"
            },
            "marker": {
             "line": {
              "color": "#E5ECF6",
              "width": 0.5
             },
             "pattern": {
              "fillmode": "overlay",
              "size": 10,
              "solidity": 0.2
             }
            },
            "type": "bar"
           }
          ],
          "barpolar": [
           {
            "marker": {
             "line": {
              "color": "#E5ECF6",
              "width": 0.5
             },
             "pattern": {
              "fillmode": "overlay",
              "size": 10,
              "solidity": 0.2
             }
            },
            "type": "barpolar"
           }
          ],
          "carpet": [
           {
            "aaxis": {
             "endlinecolor": "#2a3f5f",
             "gridcolor": "white",
             "linecolor": "white",
             "minorgridcolor": "white",
             "startlinecolor": "#2a3f5f"
            },
            "baxis": {
             "endlinecolor": "#2a3f5f",
             "gridcolor": "white",
             "linecolor": "white",
             "minorgridcolor": "white",
             "startlinecolor": "#2a3f5f"
            },
            "type": "carpet"
           }
          ],
          "choropleth": [
           {
            "colorbar": {
             "outlinewidth": 0,
             "ticks": ""
            },
            "type": "choropleth"
           }
          ],
          "contour": [
           {
            "colorbar": {
             "outlinewidth": 0,
             "ticks": ""
            },
            "colorscale": [
             [
              0,
              "#0d0887"
             ],
             [
              0.1111111111111111,
              "#46039f"
             ],
             [
              0.2222222222222222,
              "#7201a8"
             ],
             [
              0.3333333333333333,
              "#9c179e"
             ],
             [
              0.4444444444444444,
              "#bd3786"
             ],
             [
              0.5555555555555556,
              "#d8576b"
             ],
             [
              0.6666666666666666,
              "#ed7953"
             ],
             [
              0.7777777777777778,
              "#fb9f3a"
             ],
             [
              0.8888888888888888,
              "#fdca26"
             ],
             [
              1,
              "#f0f921"
             ]
            ],
            "type": "contour"
           }
          ],
          "contourcarpet": [
           {
            "colorbar": {
             "outlinewidth": 0,
             "ticks": ""
            },
            "type": "contourcarpet"
           }
          ],
          "heatmap": [
           {
            "colorbar": {
             "outlinewidth": 0,
             "ticks": ""
            },
            "colorscale": [
             [
              0,
              "#0d0887"
             ],
             [
              0.1111111111111111,
              "#46039f"
             ],
             [
              0.2222222222222222,
              "#7201a8"
             ],
             [
              0.3333333333333333,
              "#9c179e"
             ],
             [
              0.4444444444444444,
              "#bd3786"
             ],
             [
              0.5555555555555556,
              "#d8576b"
             ],
             [
              0.6666666666666666,
              "#ed7953"
             ],
             [
              0.7777777777777778,
              "#fb9f3a"
             ],
             [
              0.8888888888888888,
              "#fdca26"
             ],
             [
              1,
              "#f0f921"
             ]
            ],
            "type": "heatmap"
           }
          ],
          "heatmapgl": [
           {
            "colorbar": {
             "outlinewidth": 0,
             "ticks": ""
            },
            "colorscale": [
             [
              0,
              "#0d0887"
             ],
             [
              0.1111111111111111,
              "#46039f"
             ],
             [
              0.2222222222222222,
              "#7201a8"
             ],
             [
              0.3333333333333333,
              "#9c179e"
             ],
             [
              0.4444444444444444,
              "#bd3786"
             ],
             [
              0.5555555555555556,
              "#d8576b"
             ],
             [
              0.6666666666666666,
              "#ed7953"
             ],
             [
              0.7777777777777778,
              "#fb9f3a"
             ],
             [
              0.8888888888888888,
              "#fdca26"
             ],
             [
              1,
              "#f0f921"
             ]
            ],
            "type": "heatmapgl"
           }
          ],
          "histogram": [
           {
            "marker": {
             "pattern": {
              "fillmode": "overlay",
              "size": 10,
              "solidity": 0.2
             }
            },
            "type": "histogram"
           }
          ],
          "histogram2d": [
           {
            "colorbar": {
             "outlinewidth": 0,
             "ticks": ""
            },
            "colorscale": [
             [
              0,
              "#0d0887"
             ],
             [
              0.1111111111111111,
              "#46039f"
             ],
             [
              0.2222222222222222,
              "#7201a8"
             ],
             [
              0.3333333333333333,
              "#9c179e"
             ],
             [
              0.4444444444444444,
              "#bd3786"
             ],
             [
              0.5555555555555556,
              "#d8576b"
             ],
             [
              0.6666666666666666,
              "#ed7953"
             ],
             [
              0.7777777777777778,
              "#fb9f3a"
             ],
             [
              0.8888888888888888,
              "#fdca26"
             ],
             [
              1,
              "#f0f921"
             ]
            ],
            "type": "histogram2d"
           }
          ],
          "histogram2dcontour": [
           {
            "colorbar": {
             "outlinewidth": 0,
             "ticks": ""
            },
            "colorscale": [
             [
              0,
              "#0d0887"
             ],
             [
              0.1111111111111111,
              "#46039f"
             ],
             [
              0.2222222222222222,
              "#7201a8"
             ],
             [
              0.3333333333333333,
              "#9c179e"
             ],
             [
              0.4444444444444444,
              "#bd3786"
             ],
             [
              0.5555555555555556,
              "#d8576b"
             ],
             [
              0.6666666666666666,
              "#ed7953"
             ],
             [
              0.7777777777777778,
              "#fb9f3a"
             ],
             [
              0.8888888888888888,
              "#fdca26"
             ],
             [
              1,
              "#f0f921"
             ]
            ],
            "type": "histogram2dcontour"
           }
          ],
          "mesh3d": [
           {
            "colorbar": {
             "outlinewidth": 0,
             "ticks": ""
            },
            "type": "mesh3d"
           }
          ],
          "parcoords": [
           {
            "line": {
             "colorbar": {
              "outlinewidth": 0,
              "ticks": ""
             }
            },
            "type": "parcoords"
           }
          ],
          "pie": [
           {
            "automargin": true,
            "type": "pie"
           }
          ],
          "scatter": [
           {
            "fillpattern": {
             "fillmode": "overlay",
             "size": 10,
             "solidity": 0.2
            },
            "type": "scatter"
           }
          ],
          "scatter3d": [
           {
            "line": {
             "colorbar": {
              "outlinewidth": 0,
              "ticks": ""
             }
            },
            "marker": {
             "colorbar": {
              "outlinewidth": 0,
              "ticks": ""
             }
            },
            "type": "scatter3d"
           }
          ],
          "scattercarpet": [
           {
            "marker": {
             "colorbar": {
              "outlinewidth": 0,
              "ticks": ""
             }
            },
            "type": "scattercarpet"
           }
          ],
          "scattergeo": [
           {
            "marker": {
             "colorbar": {
              "outlinewidth": 0,
              "ticks": ""
             }
            },
            "type": "scattergeo"
           }
          ],
          "scattergl": [
           {
            "marker": {
             "colorbar": {
              "outlinewidth": 0,
              "ticks": ""
             }
            },
            "type": "scattergl"
           }
          ],
          "scattermapbox": [
           {
            "marker": {
             "colorbar": {
              "outlinewidth": 0,
              "ticks": ""
             }
            },
            "type": "scattermapbox"
           }
          ],
          "scatterpolar": [
           {
            "marker": {
             "colorbar": {
              "outlinewidth": 0,
              "ticks": ""
             }
            },
            "type": "scatterpolar"
           }
          ],
          "scatterpolargl": [
           {
            "marker": {
             "colorbar": {
              "outlinewidth": 0,
              "ticks": ""
             }
            },
            "type": "scatterpolargl"
           }
          ],
          "scatterternary": [
           {
            "marker": {
             "colorbar": {
              "outlinewidth": 0,
              "ticks": ""
             }
            },
            "type": "scatterternary"
           }
          ],
          "surface": [
           {
            "colorbar": {
             "outlinewidth": 0,
             "ticks": ""
            },
            "colorscale": [
             [
              0,
              "#0d0887"
             ],
             [
              0.1111111111111111,
              "#46039f"
             ],
             [
              0.2222222222222222,
              "#7201a8"
             ],
             [
              0.3333333333333333,
              "#9c179e"
             ],
             [
              0.4444444444444444,
              "#bd3786"
             ],
             [
              0.5555555555555556,
              "#d8576b"
             ],
             [
              0.6666666666666666,
              "#ed7953"
             ],
             [
              0.7777777777777778,
              "#fb9f3a"
             ],
             [
              0.8888888888888888,
              "#fdca26"
             ],
             [
              1,
              "#f0f921"
             ]
            ],
            "type": "surface"
           }
          ],
          "table": [
           {
            "cells": {
             "fill": {
              "color": "#EBF0F8"
             },
             "line": {
              "color": "white"
             }
            },
            "header": {
             "fill": {
              "color": "#C8D4E3"
             },
             "line": {
              "color": "white"
             }
            },
            "type": "table"
           }
          ]
         },
         "layout": {
          "annotationdefaults": {
           "arrowcolor": "#2a3f5f",
           "arrowhead": 0,
           "arrowwidth": 1
          },
          "autotypenumbers": "strict",
          "coloraxis": {
           "colorbar": {
            "outlinewidth": 0,
            "ticks": ""
           }
          },
          "colorscale": {
           "diverging": [
            [
             0,
             "#8e0152"
            ],
            [
             0.1,
             "#c51b7d"
            ],
            [
             0.2,
             "#de77ae"
            ],
            [
             0.3,
             "#f1b6da"
            ],
            [
             0.4,
             "#fde0ef"
            ],
            [
             0.5,
             "#f7f7f7"
            ],
            [
             0.6,
             "#e6f5d0"
            ],
            [
             0.7,
             "#b8e186"
            ],
            [
             0.8,
             "#7fbc41"
            ],
            [
             0.9,
             "#4d9221"
            ],
            [
             1,
             "#276419"
            ]
           ],
           "sequential": [
            [
             0,
             "#0d0887"
            ],
            [
             0.1111111111111111,
             "#46039f"
            ],
            [
             0.2222222222222222,
             "#7201a8"
            ],
            [
             0.3333333333333333,
             "#9c179e"
            ],
            [
             0.4444444444444444,
             "#bd3786"
            ],
            [
             0.5555555555555556,
             "#d8576b"
            ],
            [
             0.6666666666666666,
             "#ed7953"
            ],
            [
             0.7777777777777778,
             "#fb9f3a"
            ],
            [
             0.8888888888888888,
             "#fdca26"
            ],
            [
             1,
             "#f0f921"
            ]
           ],
           "sequentialminus": [
            [
             0,
             "#0d0887"
            ],
            [
             0.1111111111111111,
             "#46039f"
            ],
            [
             0.2222222222222222,
             "#7201a8"
            ],
            [
             0.3333333333333333,
             "#9c179e"
            ],
            [
             0.4444444444444444,
             "#bd3786"
            ],
            [
             0.5555555555555556,
             "#d8576b"
            ],
            [
             0.6666666666666666,
             "#ed7953"
            ],
            [
             0.7777777777777778,
             "#fb9f3a"
            ],
            [
             0.8888888888888888,
             "#fdca26"
            ],
            [
             1,
             "#f0f921"
            ]
           ]
          },
          "colorway": [
           "#636efa",
           "#EF553B",
           "#00cc96",
           "#ab63fa",
           "#FFA15A",
           "#19d3f3",
           "#FF6692",
           "#B6E880",
           "#FF97FF",
           "#FECB52"
          ],
          "font": {
           "color": "#2a3f5f"
          },
          "geo": {
           "bgcolor": "white",
           "lakecolor": "white",
           "landcolor": "#E5ECF6",
           "showlakes": true,
           "showland": true,
           "subunitcolor": "white"
          },
          "hoverlabel": {
           "align": "left"
          },
          "hovermode": "closest",
          "mapbox": {
           "style": "light"
          },
          "paper_bgcolor": "white",
          "plot_bgcolor": "#E5ECF6",
          "polar": {
           "angularaxis": {
            "gridcolor": "white",
            "linecolor": "white",
            "ticks": ""
           },
           "bgcolor": "#E5ECF6",
           "radialaxis": {
            "gridcolor": "white",
            "linecolor": "white",
            "ticks": ""
           }
          },
          "scene": {
           "xaxis": {
            "backgroundcolor": "#E5ECF6",
            "gridcolor": "white",
            "gridwidth": 2,
            "linecolor": "white",
            "showbackground": true,
            "ticks": "",
            "zerolinecolor": "white"
           },
           "yaxis": {
            "backgroundcolor": "#E5ECF6",
            "gridcolor": "white",
            "gridwidth": 2,
            "linecolor": "white",
            "showbackground": true,
            "ticks": "",
            "zerolinecolor": "white"
           },
           "zaxis": {
            "backgroundcolor": "#E5ECF6",
            "gridcolor": "white",
            "gridwidth": 2,
            "linecolor": "white",
            "showbackground": true,
            "ticks": "",
            "zerolinecolor": "white"
           }
          },
          "shapedefaults": {
           "line": {
            "color": "#2a3f5f"
           }
          },
          "ternary": {
           "aaxis": {
            "gridcolor": "white",
            "linecolor": "white",
            "ticks": ""
           },
           "baxis": {
            "gridcolor": "white",
            "linecolor": "white",
            "ticks": ""
           },
           "bgcolor": "#E5ECF6",
           "caxis": {
            "gridcolor": "white",
            "linecolor": "white",
            "ticks": ""
           }
          },
          "title": {
           "x": 0.05
          },
          "xaxis": {
           "automargin": true,
           "gridcolor": "white",
           "linecolor": "white",
           "ticks": "",
           "title": {
            "standoff": 15
           },
           "zerolinecolor": "white",
           "zerolinewidth": 2
          },
          "yaxis": {
           "automargin": true,
           "gridcolor": "white",
           "linecolor": "white",
           "ticks": "",
           "title": {
            "standoff": 15
           },
           "zerolinecolor": "white",
           "zerolinewidth": 2
          }
         }
        },
        "xaxis": {
         "anchor": "y",
         "autorange": true,
         "domain": [
          0,
          1
         ],
         "range": [
          "2020-01-21",
          "2022-05-29"
         ],
         "title": {
          "text": "date"
         },
         "type": "date"
        },
        "yaxis": {
         "anchor": "x",
         "autorange": true,
         "domain": [
          0,
          1
         ],
         "range": [
          -116013.85375826193,
          242994.6880986635
         ],
         "title": {
          "text": "value"
         },
         "type": "linear"
        }
       }
      },
      "image/png": "[encoded data removed]"
     },
     "metadata": {},
     "output_type": "display_data"
    }
   ],
   "source": [
    "px.line(seasonality)"
   ]
  },
  {
   "cell_type": "code",
   "execution_count": 18,
   "id": "c9bc8378",
   "metadata": {
    "ExecuteTime": {
     "end_time": "2022-06-03T11:00:02.827753Z",
     "start_time": "2022-06-03T11:00:02.761529Z"
    }
   },
   "outputs": [
    {
     "data": {
      "application/vnd.plotly.v1+json": {
       "config": {
        "plotlyServerURL": "https://plot.ly"
       },
       "data": [
        {
         "hovertemplate": "variable=trend<br>date=%{x}<br>value=%{y}<extra></extra>",
         "legendgroup": "trend",
         "line": {
          "color": "#636efa",
          "dash": "solid"
         },
         "marker": {
          "symbol": "circle"
         },
         "mode": "lines",
         "name": "trend",
         "orientation": "v",
         "showlegend": true,
         "type": "scatter",
         "x": [
          "2020-01-21T00:00:00",
          "2020-01-22T00:00:00",
          "2020-01-23T00:00:00",
          "2020-01-24T00:00:00",
          "2020-01-25T00:00:00",
          "2020-01-26T00:00:00",
          "2020-01-27T00:00:00",
          "2020-01-28T00:00:00",
          "2020-01-29T00:00:00",
          "2020-01-30T00:00:00",
          "2020-01-31T00:00:00",
          "2020-02-01T00:00:00",
          "2020-02-02T00:00:00",
          "2020-02-03T00:00:00",
          "2020-02-04T00:00:00",
          "2020-02-05T00:00:00",
          "2020-02-06T00:00:00",
          "2020-02-07T00:00:00",
          "2020-02-08T00:00:00",
          "2020-02-09T00:00:00",
          "2020-02-10T00:00:00",
          "2020-02-11T00:00:00",
          "2020-02-12T00:00:00",
          "2020-02-13T00:00:00",
          "2020-02-14T00:00:00",
          "2020-02-15T00:00:00",
          "2020-02-16T00:00:00",
          "2020-02-17T00:00:00",
          "2020-02-18T00:00:00",
          "2020-02-19T00:00:00",
          "2020-02-20T00:00:00",
          "2020-02-21T00:00:00",
          "2020-02-22T00:00:00",
          "2020-02-23T00:00:00",
          "2020-02-24T00:00:00",
          "2020-02-25T00:00:00",
          "2020-02-26T00:00:00",
          "2020-02-27T00:00:00",
          "2020-02-28T00:00:00",
          "2020-02-29T00:00:00",
          "2020-03-01T00:00:00",
          "2020-03-02T00:00:00",
          "2020-03-03T00:00:00",
          "2020-03-04T00:00:00",
          "2020-03-05T00:00:00",
          "2020-03-06T00:00:00",
          "2020-03-07T00:00:00",
          "2020-03-08T00:00:00",
          "2020-03-09T00:00:00",
          "2020-03-10T00:00:00",
          "2020-03-11T00:00:00",
          "2020-03-12T00:00:00",
          "2020-03-13T00:00:00",
          "2020-03-14T00:00:00",
          "2020-03-15T00:00:00",
          "2020-03-16T00:00:00",
          "2020-03-17T00:00:00",
          "2020-03-18T00:00:00",
          "2020-03-19T00:00:00",
          "2020-03-20T00:00:00",
          "2020-03-21T00:00:00",
          "2020-03-22T00:00:00",
          "2020-03-23T00:00:00",
          "2020-03-24T00:00:00",
          "2020-03-25T00:00:00",
          "2020-03-26T00:00:00",
          "2020-03-27T00:00:00",
          "2020-03-28T00:00:00",
          "2020-03-29T00:00:00",
          "2020-03-30T00:00:00",
          "2020-03-31T00:00:00",
          "2020-04-01T00:00:00",
          "2020-04-02T00:00:00",
          "2020-04-03T00:00:00",
          "2020-04-04T00:00:00",
          "2020-04-05T00:00:00",
          "2020-04-06T00:00:00",
          "2020-04-07T00:00:00",
          "2020-04-08T00:00:00",
          "2020-04-09T00:00:00",
          "2020-04-10T00:00:00",
          "2020-04-11T00:00:00",
          "2020-04-12T00:00:00",
          "2020-04-13T00:00:00",
          "2020-04-14T00:00:00",
          "2020-04-15T00:00:00",
          "2020-04-16T00:00:00",
          "2020-04-17T00:00:00",
          "2020-04-18T00:00:00",
          "2020-04-19T00:00:00",
          "2020-04-20T00:00:00",
          "2020-04-21T00:00:00",
          "2020-04-22T00:00:00",
          "2020-04-23T00:00:00",
          "2020-04-24T00:00:00",
          "2020-04-25T00:00:00",
          "2020-04-26T00:00:00",
          "2020-04-27T00:00:00",
          "2020-04-28T00:00:00",
          "2020-04-29T00:00:00",
          "2020-04-30T00:00:00",
          "2020-05-01T00:00:00",
          "2020-05-02T00:00:00",
          "2020-05-03T00:00:00",
          "2020-05-04T00:00:00",
          "2020-05-05T00:00:00",
          "2020-05-06T00:00:00",
          "2020-05-07T00:00:00",
          "2020-05-08T00:00:00",
          "2020-05-09T00:00:00",
          "2020-05-10T00:00:00",
          "2020-05-11T00:00:00",
          "2020-05-12T00:00:00",
          "2020-05-13T00:00:00",
          "2020-05-14T00:00:00",
          "2020-05-15T00:00:00",
          "2020-05-16T00:00:00",
          "2020-05-17T00:00:00",
          "2020-05-18T00:00:00",
          "2020-05-19T00:00:00",
          "2020-05-20T00:00:00",
          "2020-05-21T00:00:00",
          "2020-05-22T00:00:00",
          "2020-05-23T00:00:00",
          "2020-05-24T00:00:00",
          "2020-05-25T00:00:00",
          "2020-05-26T00:00:00",
          "2020-05-27T00:00:00",
          "2020-05-28T00:00:00",
          "2020-05-29T00:00:00",
          "2020-05-30T00:00:00",
          "2020-05-31T00:00:00",
          "2020-06-01T00:00:00",
          "2020-06-02T00:00:00",
          "2020-06-03T00:00:00",
          "2020-06-04T00:00:00",
          "2020-06-05T00:00:00",
          "2020-06-06T00:00:00",
          "2020-06-07T00:00:00",
          "2020-06-08T00:00:00",
          "2020-06-09T00:00:00",
          "2020-06-10T00:00:00",
          "2020-06-11T00:00:00",
          "2020-06-12T00:00:00",
          "2020-06-13T00:00:00",
          "2020-06-14T00:00:00",
          "2020-06-15T00:00:00",
          "2020-06-16T00:00:00",
          "2020-06-17T00:00:00",
          "2020-06-18T00:00:00",
          "2020-06-19T00:00:00",
          "2020-06-20T00:00:00",
          "2020-06-21T00:00:00",
          "2020-06-22T00:00:00",
          "2020-06-23T00:00:00",
          "2020-06-24T00:00:00",
          "2020-06-25T00:00:00",
          "2020-06-26T00:00:00",
          "2020-06-27T00:00:00",
          "2020-06-28T00:00:00",
          "2020-06-29T00:00:00",
          "2020-06-30T00:00:00",
          "2020-07-01T00:00:00",
          "2020-07-02T00:00:00",
          "2020-07-03T00:00:00",
          "2020-07-04T00:00:00",
          "2020-07-05T00:00:00",
          "2020-07-06T00:00:00",
          "2020-07-07T00:00:00",
          "2020-07-08T00:00:00",
          "2020-07-09T00:00:00",
          "2020-07-10T00:00:00",
          "2020-07-11T00:00:00",
          "2020-07-12T00:00:00",
          "2020-07-13T00:00:00",
          "2020-07-14T00:00:00",
          "2020-07-15T00:00:00",
          "2020-07-16T00:00:00",
          "2020-07-17T00:00:00",
          "2020-07-18T00:00:00",
          "2020-07-19T00:00:00",
          "2020-07-20T00:00:00",
          "2020-07-21T00:00:00",
          "2020-07-22T00:00:00",
          "2020-07-23T00:00:00",
          "2020-07-24T00:00:00",
          "2020-07-25T00:00:00",
          "2020-07-26T00:00:00",
          "2020-07-27T00:00:00",
          "2020-07-28T00:00:00",
          "2020-07-29T00:00:00",
          "2020-07-30T00:00:00",
          "2020-07-31T00:00:00",
          "2020-08-01T00:00:00",
          "2020-08-02T00:00:00",
          "2020-08-03T00:00:00",
          "2020-08-04T00:00:00",
          "2020-08-05T00:00:00",
          "2020-08-06T00:00:00",
          "2020-08-07T00:00:00",
          "2020-08-08T00:00:00",
          "2020-08-09T00:00:00",
          "2020-08-10T00:00:00",
          "2020-08-11T00:00:00",
          "2020-08-12T00:00:00",
          "2020-08-13T00:00:00",
          "2020-08-14T00:00:00",
          "2020-08-15T00:00:00",
          "2020-08-16T00:00:00",
          "2020-08-17T00:00:00",
          "2020-08-18T00:00:00",
          "2020-08-19T00:00:00",
          "2020-08-20T00:00:00",
          "2020-08-21T00:00:00",
          "2020-08-22T00:00:00",
          "2020-08-23T00:00:00",
          "2020-08-24T00:00:00",
          "2020-08-25T00:00:00",
          "2020-08-26T00:00:00",
          "2020-08-27T00:00:00",
          "2020-08-28T00:00:00",
          "2020-08-29T00:00:00",
          "2020-08-30T00:00:00",
          "2020-08-31T00:00:00",
          "2020-09-01T00:00:00",
          "2020-09-02T00:00:00",
          "2020-09-03T00:00:00",
          "2020-09-04T00:00:00",
          "2020-09-05T00:00:00",
          "2020-09-06T00:00:00",
          "2020-09-07T00:00:00",
          "2020-09-08T00:00:00",
          "2020-09-09T00:00:00",
          "2020-09-10T00:00:00",
          "2020-09-11T00:00:00",
          "2020-09-12T00:00:00",
          "2020-09-13T00:00:00",
          "2020-09-14T00:00:00",
          "2020-09-15T00:00:00",
          "2020-09-16T00:00:00",
          "2020-09-17T00:00:00",
          "2020-09-18T00:00:00",
          "2020-09-19T00:00:00",
          "2020-09-20T00:00:00",
          "2020-09-21T00:00:00",
          "2020-09-22T00:00:00",
          "2020-09-23T00:00:00",
          "2020-09-24T00:00:00",
          "2020-09-25T00:00:00",
          "2020-09-26T00:00:00",
          "2020-09-27T00:00:00",
          "2020-09-28T00:00:00",
          "2020-09-29T00:00:00",
          "2020-09-30T00:00:00",
          "2020-10-01T00:00:00",
          "2020-10-02T00:00:00",
          "2020-10-03T00:00:00",
          "2020-10-04T00:00:00",
          "2020-10-05T00:00:00",
          "2020-10-06T00:00:00",
          "2020-10-07T00:00:00",
          "2020-10-08T00:00:00",
          "2020-10-09T00:00:00",
          "2020-10-10T00:00:00",
          "2020-10-11T00:00:00",
          "2020-10-12T00:00:00",
          "2020-10-13T00:00:00",
          "2020-10-14T00:00:00",
          "2020-10-15T00:00:00",
          "2020-10-16T00:00:00",
          "2020-10-17T00:00:00",
          "2020-10-18T00:00:00",
          "2020-10-19T00:00:00",
          "2020-10-20T00:00:00",
          "2020-10-21T00:00:00",
          "2020-10-22T00:00:00",
          "2020-10-23T00:00:00",
          "2020-10-24T00:00:00",
          "2020-10-25T00:00:00",
          "2020-10-26T00:00:00",
          "2020-10-27T00:00:00",
          "2020-10-28T00:00:00",
          "2020-10-29T00:00:00",
          "2020-10-30T00:00:00",
          "2020-10-31T00:00:00",
          "2020-11-01T00:00:00",
          "2020-11-02T00:00:00",
          "2020-11-03T00:00:00",
          "2020-11-04T00:00:00",
          "2020-11-05T00:00:00",
          "2020-11-06T00:00:00",
          "2020-11-07T00:00:00",
          "2020-11-08T00:00:00",
          "2020-11-09T00:00:00",
          "2020-11-10T00:00:00",
          "2020-11-11T00:00:00",
          "2020-11-12T00:00:00",
          "2020-11-13T00:00:00",
          "2020-11-14T00:00:00",
          "2020-11-15T00:00:00",
          "2020-11-16T00:00:00",
          "2020-11-17T00:00:00",
          "2020-11-18T00:00:00",
          "2020-11-19T00:00:00",
          "2020-11-20T00:00:00",
          "2020-11-21T00:00:00",
          "2020-11-22T00:00:00",
          "2020-11-23T00:00:00",
          "2020-11-24T00:00:00",
          "2020-11-25T00:00:00",
          "2020-11-26T00:00:00",
          "2020-11-27T00:00:00",
          "2020-11-28T00:00:00",
          "2020-11-29T00:00:00",
          "2020-11-30T00:00:00",
          "2020-12-01T00:00:00",
          "2020-12-02T00:00:00",
          "2020-12-03T00:00:00",
          "2020-12-04T00:00:00",
          "2020-12-05T00:00:00",
          "2020-12-06T00:00:00",
          "2020-12-07T00:00:00",
          "2020-12-08T00:00:00",
          "2020-12-09T00:00:00",
          "2020-12-10T00:00:00",
          "2020-12-11T00:00:00",
          "2020-12-12T00:00:00",
          "2020-12-13T00:00:00",
          "2020-12-14T00:00:00",
          "2020-12-15T00:00:00",
          "2020-12-16T00:00:00",
          "2020-12-17T00:00:00",
          "2020-12-18T00:00:00",
          "2020-12-19T00:00:00",
          "2020-12-20T00:00:00",
          "2020-12-21T00:00:00",
          "2020-12-22T00:00:00",
          "2020-12-23T00:00:00",
          "2020-12-24T00:00:00",
          "2020-12-25T00:00:00",
          "2020-12-26T00:00:00",
          "2020-12-27T00:00:00",
          "2020-12-28T00:00:00",
          "2020-12-29T00:00:00",
          "2020-12-30T00:00:00",
          "2020-12-31T00:00:00",
          "2021-01-01T00:00:00",
          "2021-01-02T00:00:00",
          "2021-01-03T00:00:00",
          "2021-01-04T00:00:00",
          "2021-01-05T00:00:00",
          "2021-01-06T00:00:00",
          "2021-01-07T00:00:00",
          "2021-01-08T00:00:00",
          "2021-01-09T00:00:00",
          "2021-01-10T00:00:00",
          "2021-01-11T00:00:00",
          "2021-01-12T00:00:00",
          "2021-01-13T00:00:00",
          "2021-01-14T00:00:00",
          "2021-01-15T00:00:00",
          "2021-01-16T00:00:00",
          "2021-01-17T00:00:00",
          "2021-01-18T00:00:00",
          "2021-01-19T00:00:00",
          "2021-01-20T00:00:00",
          "2021-01-21T00:00:00",
          "2021-01-22T00:00:00",
          "2021-01-23T00:00:00",
          "2021-01-24T00:00:00",
          "2021-01-25T00:00:00",
          "2021-01-26T00:00:00",
          "2021-01-27T00:00:00",
          "2021-01-28T00:00:00",
          "2021-01-29T00:00:00",
          "2021-01-30T00:00:00",
          "2021-01-31T00:00:00",
          "2021-02-01T00:00:00",
          "2021-02-02T00:00:00",
          "2021-02-03T00:00:00",
          "2021-02-04T00:00:00",
          "2021-02-05T00:00:00",
          "2021-02-06T00:00:00",
          "2021-02-07T00:00:00",
          "2021-02-08T00:00:00",
          "2021-02-09T00:00:00",
          "2021-02-10T00:00:00",
          "2021-02-11T00:00:00",
          "2021-02-12T00:00:00",
          "2021-02-13T00:00:00",
          "2021-02-14T00:00:00",
          "2021-02-15T00:00:00",
          "2021-02-16T00:00:00",
          "2021-02-17T00:00:00",
          "2021-02-18T00:00:00",
          "2021-02-19T00:00:00",
          "2021-02-20T00:00:00",
          "2021-02-21T00:00:00",
          "2021-02-22T00:00:00",
          "2021-02-23T00:00:00",
          "2021-02-24T00:00:00",
          "2021-02-25T00:00:00",
          "2021-02-26T00:00:00",
          "2021-02-27T00:00:00",
          "2021-02-28T00:00:00",
          "2021-03-01T00:00:00",
          "2021-03-02T00:00:00",
          "2021-03-03T00:00:00",
          "2021-03-04T00:00:00",
          "2021-03-05T00:00:00",
          "2021-03-06T00:00:00",
          "2021-03-07T00:00:00",
          "2021-03-08T00:00:00",
          "2021-03-09T00:00:00",
          "2021-03-10T00:00:00",
          "2021-03-11T00:00:00",
          "2021-03-12T00:00:00",
          "2021-03-13T00:00:00",
          "2021-03-14T00:00:00",
          "2021-03-15T00:00:00",
          "2021-03-16T00:00:00",
          "2021-03-17T00:00:00",
          "2021-03-18T00:00:00",
          "2021-03-19T00:00:00",
          "2021-03-20T00:00:00",
          "2021-03-21T00:00:00",
          "2021-03-22T00:00:00",
          "2021-03-23T00:00:00",
          "2021-03-24T00:00:00",
          "2021-03-25T00:00:00",
          "2021-03-26T00:00:00",
          "2021-03-27T00:00:00",
          "2021-03-28T00:00:00",
          "2021-03-29T00:00:00",
          "2021-03-30T00:00:00",
          "2021-03-31T00:00:00",
          "2021-04-01T00:00:00",
          "2021-04-02T00:00:00",
          "2021-04-03T00:00:00",
          "2021-04-04T00:00:00",
          "2021-04-05T00:00:00",
          "2021-04-06T00:00:00",
          "2021-04-07T00:00:00",
          "2021-04-08T00:00:00",
          "2021-04-09T00:00:00",
          "2021-04-10T00:00:00",
          "2021-04-11T00:00:00",
          "2021-04-12T00:00:00",
          "2021-04-13T00:00:00",
          "2021-04-14T00:00:00",
          "2021-04-15T00:00:00",
          "2021-04-16T00:00:00",
          "2021-04-17T00:00:00",
          "2021-04-18T00:00:00",
          "2021-04-19T00:00:00",
          "2021-04-20T00:00:00",
          "2021-04-21T00:00:00",
          "2021-04-22T00:00:00",
          "2021-04-23T00:00:00",
          "2021-04-24T00:00:00",
          "2021-04-25T00:00:00",
          "2021-04-26T00:00:00",
          "2021-04-27T00:00:00",
          "2021-04-28T00:00:00",
          "2021-04-29T00:00:00",
          "2021-04-30T00:00:00",
          "2021-05-01T00:00:00",
          "2021-05-02T00:00:00",
          "2021-05-03T00:00:00",
          "2021-05-04T00:00:00",
          "2021-05-05T00:00:00",
          "2021-05-06T00:00:00",
          "2021-05-07T00:00:00",
          "2021-05-08T00:00:00",
          "2021-05-09T00:00:00",
          "2021-05-10T00:00:00",
          "2021-05-11T00:00:00",
          "2021-05-12T00:00:00",
          "2021-05-13T00:00:00",
          "2021-05-14T00:00:00",
          "2021-05-15T00:00:00",
          "2021-05-16T00:00:00",
          "2021-05-17T00:00:00",
          "2021-05-18T00:00:00",
          "2021-05-19T00:00:00",
          "2021-05-20T00:00:00",
          "2021-05-21T00:00:00",
          "2021-05-22T00:00:00",
          "2021-05-23T00:00:00",
          "2021-05-24T00:00:00",
          "2021-05-25T00:00:00",
          "2021-05-26T00:00:00",
          "2021-05-27T00:00:00",
          "2021-05-28T00:00:00",
          "2021-05-29T00:00:00",
          "2021-05-30T00:00:00",
          "2021-05-31T00:00:00",
          "2021-06-01T00:00:00",
          "2021-06-02T00:00:00",
          "2021-06-03T00:00:00",
          "2021-06-05T00:00:00",
          "2021-06-06T00:00:00",
          "2021-06-07T00:00:00",
          "2021-06-08T00:00:00",
          "2021-06-09T00:00:00",
          "2021-06-10T00:00:00",
          "2021-06-11T00:00:00",
          "2021-06-12T00:00:00",
          "2021-06-13T00:00:00",
          "2021-06-14T00:00:00",
          "2021-06-15T00:00:00",
          "2021-06-16T00:00:00",
          "2021-06-17T00:00:00",
          "2021-06-18T00:00:00",
          "2021-06-19T00:00:00",
          "2021-06-20T00:00:00",
          "2021-06-21T00:00:00",
          "2021-06-22T00:00:00",
          "2021-06-23T00:00:00",
          "2021-06-24T00:00:00",
          "2021-06-25T00:00:00",
          "2021-06-26T00:00:00",
          "2021-06-27T00:00:00",
          "2021-06-28T00:00:00",
          "2021-06-29T00:00:00",
          "2021-06-30T00:00:00",
          "2021-07-01T00:00:00",
          "2021-07-02T00:00:00",
          "2021-07-03T00:00:00",
          "2021-07-04T00:00:00",
          "2021-07-05T00:00:00",
          "2021-07-06T00:00:00",
          "2021-07-07T00:00:00",
          "2021-07-08T00:00:00",
          "2021-07-09T00:00:00",
          "2021-07-10T00:00:00",
          "2021-07-11T00:00:00",
          "2021-07-12T00:00:00",
          "2021-07-13T00:00:00",
          "2021-07-14T00:00:00",
          "2021-07-15T00:00:00",
          "2021-07-16T00:00:00",
          "2021-07-17T00:00:00",
          "2021-07-18T00:00:00",
          "2021-07-19T00:00:00",
          "2021-07-20T00:00:00",
          "2021-07-21T00:00:00",
          "2021-07-22T00:00:00",
          "2021-07-23T00:00:00",
          "2021-07-24T00:00:00",
          "2021-07-25T00:00:00",
          "2021-07-26T00:00:00",
          "2021-07-27T00:00:00",
          "2021-07-28T00:00:00",
          "2021-07-29T00:00:00",
          "2021-07-30T00:00:00",
          "2021-07-31T00:00:00",
          "2021-08-01T00:00:00",
          "2021-08-02T00:00:00",
          "2021-08-03T00:00:00",
          "2021-08-04T00:00:00",
          "2021-08-05T00:00:00",
          "2021-08-06T00:00:00",
          "2021-08-07T00:00:00",
          "2021-08-08T00:00:00",
          "2021-08-09T00:00:00",
          "2021-08-10T00:00:00",
          "2021-08-11T00:00:00",
          "2021-08-12T00:00:00",
          "2021-08-13T00:00:00",
          "2021-08-14T00:00:00",
          "2021-08-15T00:00:00",
          "2021-08-16T00:00:00",
          "2021-08-17T00:00:00",
          "2021-08-18T00:00:00",
          "2021-08-19T00:00:00",
          "2021-08-20T00:00:00",
          "2021-08-21T00:00:00",
          "2021-08-22T00:00:00",
          "2021-08-23T00:00:00",
          "2021-08-24T00:00:00",
          "2021-08-25T00:00:00",
          "2021-08-26T00:00:00",
          "2021-08-27T00:00:00",
          "2021-08-28T00:00:00",
          "2021-08-29T00:00:00",
          "2021-08-30T00:00:00",
          "2021-08-31T00:00:00",
          "2021-09-01T00:00:00",
          "2021-09-02T00:00:00",
          "2021-09-03T00:00:00",
          "2021-09-04T00:00:00",
          "2021-09-05T00:00:00",
          "2021-09-06T00:00:00",
          "2021-09-07T00:00:00",
          "2021-09-08T00:00:00",
          "2021-09-09T00:00:00",
          "2021-09-10T00:00:00",
          "2021-09-11T00:00:00",
          "2021-09-12T00:00:00",
          "2021-09-13T00:00:00",
          "2021-09-14T00:00:00",
          "2021-09-15T00:00:00",
          "2021-09-16T00:00:00",
          "2021-09-17T00:00:00",
          "2021-09-18T00:00:00",
          "2021-09-19T00:00:00",
          "2021-09-20T00:00:00",
          "2021-09-21T00:00:00",
          "2021-09-22T00:00:00",
          "2021-09-23T00:00:00",
          "2021-09-24T00:00:00",
          "2021-09-25T00:00:00",
          "2021-09-26T00:00:00",
          "2021-09-27T00:00:00",
          "2021-09-28T00:00:00",
          "2021-09-29T00:00:00",
          "2021-09-30T00:00:00",
          "2021-10-01T00:00:00",
          "2021-10-02T00:00:00",
          "2021-10-03T00:00:00",
          "2021-10-04T00:00:00",
          "2021-10-05T00:00:00",
          "2021-10-06T00:00:00",
          "2021-10-07T00:00:00",
          "2021-10-08T00:00:00",
          "2021-10-09T00:00:00",
          "2021-10-10T00:00:00",
          "2021-10-11T00:00:00",
          "2021-10-12T00:00:00",
          "2021-10-13T00:00:00",
          "2021-10-14T00:00:00",
          "2021-10-15T00:00:00",
          "2021-10-16T00:00:00",
          "2021-10-17T00:00:00",
          "2021-10-18T00:00:00",
          "2021-10-19T00:00:00",
          "2021-10-20T00:00:00",
          "2021-10-21T00:00:00",
          "2021-10-22T00:00:00",
          "2021-10-23T00:00:00",
          "2021-10-24T00:00:00",
          "2021-10-25T00:00:00",
          "2021-10-26T00:00:00",
          "2021-10-27T00:00:00",
          "2021-10-28T00:00:00",
          "2021-10-29T00:00:00",
          "2021-10-30T00:00:00",
          "2021-10-31T00:00:00",
          "2021-11-01T00:00:00",
          "2021-11-02T00:00:00",
          "2021-11-03T00:00:00",
          "2021-11-04T00:00:00",
          "2021-11-05T00:00:00",
          "2021-11-06T00:00:00",
          "2021-11-07T00:00:00",
          "2021-11-08T00:00:00",
          "2021-11-09T00:00:00",
          "2021-11-10T00:00:00",
          "2021-11-11T00:00:00",
          "2021-11-12T00:00:00",
          "2021-11-13T00:00:00",
          "2021-11-14T00:00:00",
          "2021-11-15T00:00:00",
          "2021-11-16T00:00:00",
          "2021-11-17T00:00:00",
          "2021-11-18T00:00:00",
          "2021-11-19T00:00:00",
          "2021-11-20T00:00:00",
          "2021-11-21T00:00:00",
          "2021-11-22T00:00:00",
          "2021-11-23T00:00:00",
          "2021-11-24T00:00:00",
          "2021-11-25T00:00:00",
          "2021-11-26T00:00:00",
          "2021-11-27T00:00:00",
          "2021-11-28T00:00:00",
          "2021-11-29T00:00:00",
          "2021-11-30T00:00:00",
          "2021-12-01T00:00:00",
          "2021-12-02T00:00:00",
          "2021-12-03T00:00:00",
          "2021-12-04T00:00:00",
          "2021-12-05T00:00:00",
          "2021-12-06T00:00:00",
          "2021-12-07T00:00:00",
          "2021-12-08T00:00:00",
          "2021-12-09T00:00:00",
          "2021-12-10T00:00:00",
          "2021-12-11T00:00:00",
          "2021-12-12T00:00:00",
          "2021-12-13T00:00:00",
          "2021-12-14T00:00:00",
          "2021-12-15T00:00:00",
          "2021-12-16T00:00:00",
          "2021-12-17T00:00:00",
          "2021-12-18T00:00:00",
          "2021-12-19T00:00:00",
          "2021-12-20T00:00:00",
          "2021-12-21T00:00:00",
          "2021-12-22T00:00:00",
          "2021-12-23T00:00:00",
          "2021-12-24T00:00:00",
          "2021-12-25T00:00:00",
          "2021-12-26T00:00:00",
          "2021-12-27T00:00:00",
          "2021-12-28T00:00:00",
          "2021-12-29T00:00:00",
          "2021-12-30T00:00:00",
          "2021-12-31T00:00:00",
          "2022-01-01T00:00:00",
          "2022-01-02T00:00:00",
          "2022-01-03T00:00:00",
          "2022-01-04T00:00:00",
          "2022-01-05T00:00:00",
          "2022-01-06T00:00:00",
          "2022-01-07T00:00:00",
          "2022-01-08T00:00:00",
          "2022-01-09T00:00:00",
          "2022-01-10T00:00:00",
          "2022-01-11T00:00:00",
          "2022-01-12T00:00:00",
          "2022-01-13T00:00:00",
          "2022-01-14T00:00:00",
          "2022-01-15T00:00:00",
          "2022-01-16T00:00:00",
          "2022-01-17T00:00:00",
          "2022-01-18T00:00:00",
          "2022-01-19T00:00:00",
          "2022-01-20T00:00:00",
          "2022-01-21T00:00:00",
          "2022-01-22T00:00:00",
          "2022-01-23T00:00:00",
          "2022-01-24T00:00:00",
          "2022-01-25T00:00:00",
          "2022-01-26T00:00:00",
          "2022-01-27T00:00:00",
          "2022-01-28T00:00:00",
          "2022-01-29T00:00:00",
          "2022-01-30T00:00:00",
          "2022-01-31T00:00:00",
          "2022-02-01T00:00:00",
          "2022-02-02T00:00:00",
          "2022-02-03T00:00:00",
          "2022-02-04T00:00:00",
          "2022-02-05T00:00:00",
          "2022-02-06T00:00:00",
          "2022-02-07T00:00:00",
          "2022-02-08T00:00:00",
          "2022-02-09T00:00:00",
          "2022-02-10T00:00:00",
          "2022-02-11T00:00:00",
          "2022-02-12T00:00:00",
          "2022-02-13T00:00:00",
          "2022-02-14T00:00:00",
          "2022-02-15T00:00:00",
          "2022-02-16T00:00:00",
          "2022-02-17T00:00:00",
          "2022-02-18T00:00:00",
          "2022-02-19T00:00:00",
          "2022-02-20T00:00:00",
          "2022-02-21T00:00:00",
          "2022-02-22T00:00:00",
          "2022-02-23T00:00:00",
          "2022-02-24T00:00:00",
          "2022-02-25T00:00:00",
          "2022-02-26T00:00:00",
          "2022-02-27T00:00:00",
          "2022-02-28T00:00:00",
          "2022-03-01T00:00:00",
          "2022-03-02T00:00:00",
          "2022-03-03T00:00:00",
          "2022-03-04T00:00:00",
          "2022-03-05T00:00:00",
          "2022-03-06T00:00:00",
          "2022-03-07T00:00:00",
          "2022-03-08T00:00:00",
          "2022-03-09T00:00:00",
          "2022-03-10T00:00:00",
          "2022-03-11T00:00:00",
          "2022-03-12T00:00:00",
          "2022-03-13T00:00:00",
          "2022-03-15T00:00:00",
          "2022-03-16T00:00:00",
          "2022-03-17T00:00:00",
          "2022-03-18T00:00:00",
          "2022-03-19T00:00:00",
          "2022-03-20T00:00:00",
          "2022-03-21T00:00:00",
          "2022-03-22T00:00:00",
          "2022-03-23T00:00:00",
          "2022-03-24T00:00:00",
          "2022-03-25T00:00:00",
          "2022-03-26T00:00:00",
          "2022-03-27T00:00:00",
          "2022-03-28T00:00:00",
          "2022-03-29T00:00:00",
          "2022-03-30T00:00:00",
          "2022-03-31T00:00:00",
          "2022-04-01T00:00:00",
          "2022-04-02T00:00:00",
          "2022-04-03T00:00:00",
          "2022-04-04T00:00:00",
          "2022-04-05T00:00:00",
          "2022-04-06T00:00:00",
          "2022-04-07T00:00:00",
          "2022-04-08T00:00:00",
          "2022-04-09T00:00:00",
          "2022-04-10T00:00:00",
          "2022-04-11T00:00:00",
          "2022-04-12T00:00:00",
          "2022-04-13T00:00:00",
          "2022-04-14T00:00:00",
          "2022-04-15T00:00:00",
          "2022-04-16T00:00:00",
          "2022-04-17T00:00:00",
          "2022-04-18T00:00:00",
          "2022-04-19T00:00:00",
          "2022-04-20T00:00:00",
          "2022-04-21T00:00:00",
          "2022-04-22T00:00:00",
          "2022-04-23T00:00:00",
          "2022-04-24T00:00:00",
          "2022-04-25T00:00:00",
          "2022-04-26T00:00:00",
          "2022-04-27T00:00:00",
          "2022-04-28T00:00:00",
          "2022-04-29T00:00:00",
          "2022-04-30T00:00:00",
          "2022-05-01T00:00:00",
          "2022-05-02T00:00:00",
          "2022-05-03T00:00:00",
          "2022-05-04T00:00:00",
          "2022-05-05T00:00:00",
          "2022-05-06T00:00:00",
          "2022-05-07T00:00:00",
          "2022-05-08T00:00:00",
          "2022-05-09T00:00:00",
          "2022-05-10T00:00:00",
          "2022-05-11T00:00:00",
          "2022-05-12T00:00:00",
          "2022-05-13T00:00:00",
          "2022-05-14T00:00:00",
          "2022-05-15T00:00:00",
          "2022-05-16T00:00:00",
          "2022-05-17T00:00:00",
          "2022-05-18T00:00:00",
          "2022-05-19T00:00:00",
          "2022-05-20T00:00:00",
          "2022-05-21T00:00:00",
          "2022-05-22T00:00:00",
          "2022-05-23T00:00:00",
          "2022-05-24T00:00:00",
          "2022-05-25T00:00:00",
          "2022-05-26T00:00:00",
          "2022-05-27T00:00:00",
          "2022-05-28T00:00:00",
          "2022-05-29T00:00:00"
         ],
         "xaxis": "x",
         "y": [
          null,
          null,
          null,
          null,
          null,
          null,
          null,
          null,
          null,
          null,
          null,
          null,
          null,
          null,
          null,
          null,
          null,
          null,
          null,
          null,
          null,
          null,
          null,
          null,
          null,
          null,
          null,
          null,
          null,
          null,
          null,
          null,
          null,
          null,
          null,
          null,
          null,
          null,
          null,
          null,
          null,
          null,
          null,
          null,
          null,
          null,
          null,
          null,
          null,
          null,
          null,
          null,
          null,
          null,
          null,
          null,
          null,
          null,
          null,
          null,
          null,
          null,
          null,
          null,
          null,
          null,
          null,
          null,
          null,
          null,
          null,
          null,
          null,
          null,
          null,
          null,
          null,
          null,
          null,
          null,
          null,
          null,
          null,
          null,
          null,
          null,
          null,
          null,
          null,
          null,
          null,
          null,
          null,
          null,
          null,
          null,
          null,
          null,
          null,
          null,
          null,
          null,
          null,
          null,
          null,
          null,
          null,
          null,
          null,
          null,
          null,
          null,
          null,
          null,
          null,
          null,
          null,
          null,
          null,
          null,
          null,
          null,
          null,
          null,
          null,
          null,
          null,
          null,
          null,
          null,
          null,
          null,
          null,
          null,
          null,
          null,
          null,
          null,
          null,
          null,
          null,
          null,
          null,
          null,
          null,
          null,
          null,
          null,
          null,
          null,
          null,
          null,
          null,
          null,
          null,
          null,
          null,
          null,
          null,
          null,
          null,
          null,
          null,
          null,
          null,
          null,
          null,
          null,
          null,
          null,
          null,
          null,
          null,
          null,
          null,
          null,
          null,
          null,
          null,
          null,
          null,
          null,
          66616.25205479452,
          67124.43835616438,
          67646.30684931508,
          68171.14246575342,
          68631.18630136986,
          68986.4602739726,
          69415.43013698631,
          69828.13698630138,
          70254.90410958906,
          70710.1780821918,
          71161.17534246575,
          71527.74794520548,
          71839.51232876713,
          72228.14520547945,
          72543.91506849317,
          72873.18356164385,
          73217.3890410959,
          73572.18630136986,
          73859.71232876711,
          74098.83835616439,
          74353.58356164384,
          74617.66301369864,
          74877.86849315069,
          75167.2904109589,
          75440.23835616438,
          75672.1616438356,
          75846.90136986302,
          75998.33150684932,
          76175.12602739726,
          76367.34794520549,
          76564.03561643836,
          76777.7616438356,
          76968.76712328767,
          77119.94520547945,
          77282.86575342466,
          77479.85205479452,
          77683.11780821918,
          77896.4493150685,
          78111.01917808219,
          78282.71506849315,
          78422.16712328767,
          78577.4493150685,
          78735.33424657534,
          78917.77534246576,
          79102.01095890411,
          79281.81369863014,
          79436.61369863013,
          79546.05753424657,
          79804.67123287672,
          79957.26849315068,
          80115.96712328767,
          80286.21917808219,
          80460.90684931507,
          80595.15616438356,
          80697.38904109588,
          80852.0794520548,
          80998.99452054795,
          81156.61643835617,
          81315.59178082191,
          81470.60547945206,
          81604.32054794522,
          81680.14794520548,
          81806.64383561644,
          81933.53150684931,
          82123.8602739726,
          82273.12602739726,
          82430.66301369864,
          82549.48493150686,
          82613.72876712329,
          82756.79452054793,
          82868.47945205479,
          82987.46575342465,
          83125.17260273972,
          83231.67123287672,
          83318.84383561643,
          83323.56712328768,
          83463.23287671234,
          83548.31780821917,
          83665.44931506849,
          83798.70410958905,
          83927.1506849315,
          84012.86301369863,
          84057.40273972604,
          84180.11232876712,
          84321.3506849315,
          84455.75890410959,
          84575.37808219178,
          84703.43561643836,
          84764.7095890411,
          84800.32876712328,
          84923.41369863015,
          85015.54794520547,
          85116.86575342466,
          85219.3589041096,
          85301.57260273973,
          85339.1808219178,
          85336.94246575341,
          85393.3808219178,
          85471.95616438356,
          85554.60547945206,
          85639.6109589041,
          85716.7616438356,
          85746.3205479452,
          85746.75342465754,
          85811.9698630137,
          85864.00547945205,
          85921.56712328768,
          85985.09589041096,
          86037.19178082192,
          86053.6794520548,
          86046.72054794521,
          86091.21369863013,
          86136.2,
          86172.31780821919,
          86219.69863013699,
          86258.10684931507,
          86265.81369863014,
          86246.77534246576,
          86274.701369863,
          86291.23835616438,
          86312.65479452055,
          86330.59452054795,
          86339.57534246576,
          86324.55342465754,
          86302.31232876712,
          86317.64657534246,
          86327.88767123286,
          86340.18904109587,
          86364.85479452054,
          86363.51780821919,
          86327.93424657534,
          86284.22191780822,
          86242.76712328766,
          86244.61095890412,
          86233.83561643836,
          86232.42191780821,
          86201.82465753425,
          86140.02739726027,
          86131.63287671232,
          86119.49315068492,
          86126.22465753424,
          86117.98904109589,
          86101.48219178083,
          86060.597260274,
          86009.34794520549,
          85981.36164383563,
          85961.47671232879,
          85945.84383561646,
          85911.05479452055,
          85875.56164383562,
          85819.45479452054,
          85746.10410958904,
          85701.77260273973,
          85664.46301369864,
          85619.43561643836,
          85563.64109589042,
          85503.29589041095,
          85409.09863013698,
          85295.56164383562,
          85222.27123287672,
          85157.12328767123,
          85092.68767123288,
          85138.08493150685,
          85057.15616438356,
          84915.8794520548,
          84767.29863013698,
          84642.87397260274,
          84594.40821917808,
          84547.56712328768,
          84534.27671232878,
          84468.19452054794,
          84325.36986301371,
          84153.63287671233,
          84084.21369863013,
          84043.60273972602,
          83979.18630136986,
          83898.13424657534,
          83853.97534246577,
          83680.7095890411,
          83511.13150684931,
          83502.17534246577,
          83501.72602739726,
          83501.4602739726,
          83502.07123287671,
          83538.57260273973,
          83405.92602739726,
          83242.38630136987,
          83314.46849315069,
          83458.5808219178,
          83529.2109589041,
          83625.5890410959,
          83778.71780821918,
          83671.18356164385,
          83544.62465753424,
          83762,
          84034.6493150685,
          84212.34794520547,
          84413.50684931508,
          84727.55616438357,
          84685.36712328767,
          84616.6301369863,
          84954.85205479452,
          85266.11506849315,
          85563.11232876714,
          85796.95342465753,
          86161.6493150685,
          86150.02191780822,
          86107.1205479452,
          86679.03835616438,
          86958.92876712329,
          87307.11506849315,
          87626.34520547946,
          88055.36712328767,
          88146.7698630137,
          88123.60273972602,
          88729.41369863015,
          89052.32876712328,
          89409.95068493151,
          89817.01369863015,
          90229.59452054795,
          90338.21643835618,
          90326.14520547946,
          90972.15616438357,
          91319.61095890412,
          91797.71506849315,
          92158.39178082193,
          92594.09315068493,
          92647.94794520548,
          92626.89589041096,
          92722.02739726027,
          93464.87671232877,
          93900.55616438357,
          94288.58082191781,
          94680.31780821919,
          94778.57808219179,
          94756.63561643835,
          95430.48219178081,
          95757.47671232877,
          96122.70410958905,
          96439.597260274,
          96789.37808219179,
          96852.03561643837,
          96827.56712328768,
          97283.33424657534,
          97539.82465753425,
          97793.36164383563,
          98041.23287671234,
          98310.99178082193,
          98328.49315068494,
          98272.7506849315,
          98689.44657534247,
          98897.78082191781,
          99147.51232876713,
          99346.17534246575,
          99575.53972602739,
          99569.52328767123,
          99493.5205479452,
          99835.76712328766,
          100009.84657534247,
          100183.93424657534,
          100355.27671232876,
          100519.4109589041,
          100467.22465753424,
          100368.80547945206,
          100566.15342465753,
          100749.14794520548,
          100909.53424657535,
          101004.26301369863,
          101110.3095890411,
          101023.15342465753,
          100890.79178082192,
          101080.57808219179,
          101178.66301369864,
          101236.69589041098,
          101295.19452054796,
          101358.37260273972,
          101234.24657534246,
          101047.4109589041,
          101121.33424657535,
          101197.24657534248,
          101251.78356164384,
          101284.10684931508,
          101302.8493150685,
          101135.01917808219,
          100913.14246575342,
          101023.72602739726,
          101031.25479452054,
          101006.15342465753,
          100980.59452054795,
          100935.90958904111,
          100690.95068493151,
          100387.5589041096,
          100389.01095890411,
          100333.02739726027,
          100247.03561643837,
          100041.14794520548,
          100004.08767123288,
          99723.9397260274,
          99291.37260273972,
          99262.85479452055,
          99140.38904109588,
          98997.3589041096,
          98856.65205479451,
          98712.45479452054,
          98311.2383561644,
          97852.36986301371,
          97816.65753424657,
          97685.08767123288,
          97521.44109589042,
          97118.68767123288,
          96765.08493150685,
          96550.52328767124,
          96052.19726027397,
          96230.01643835616,
          96156.51506849314,
          96078.87671232877,
          95954.17534246575,
          95822.86849315069,
          95385.62465753425,
          94846.4602739726,
          94823.8191780822,
          94665.12328767125,
          94513.1287671233,
          94249.54246575343,
          94099.80547945206,
          93623.42191780821,
          92954.49863013698,
          92941.76164383562,
          92757.21369863013,
          92604.8602739726,
          92449.1506849315,
          92247.28219178083,
          91800.58082191781,
          91310.96164383562,
          91609.57808219179,
          91635.7698630137,
          91751.31506849316,
          91925.50136986302,
          91805.39726027398,
          91435.08767123288,
          91678.32876712328,
          92573.33972602739,
          93199.70410958905,
          94021.7698630137,
          95073.89315068492,
          95670.10684931507,
          95478.42465753425,
          95860.31232876712,
          97852.98356164384,
          99727.30136986301,
          100966.298630137,
          102402.46849315069,
          104167.4109589041,
          104621.94794520548,
          104661.83287671233,
          107900.34794520549,
          109439.06849315068,
          111230.73424657533,
          112982.6191780822,
          114911.38904109588,
          115414.6904109589,
          115683.05753424659,
          117079.92876712329,
          119842.4191780822,
          121789.87671232877,
          123327.89315068492,
          125080.84383561643,
          125483.31506849316,
          125505.00273972604,
          127872.78904109591,
          128917.27397260274,
          130363.49315068494,
          131403.56438356164,
          132499.4684931507,
          132707.51780821919,
          132541.60821917807,
          133988.65479452055,
          134488.95616438356,
          134990.80547945207,
          135530.49315068492,
          136058.70410958905,
          136053.58356164384,
          135858.997260274,
          136525.22191780823,
          136818.96164383562,
          137184.3506849315,
          137395.86575342464,
          137600.9287671233,
          137486.74246575343,
          137308.00547945205,
          137641.35342465754,
          137783.08493150683,
          138018.4493150685,
          138126.1890410959,
          138234.26575342467,
          138164.18356164385,
          138022.14246575342,
          137983.61917808218,
          138169.74794520548,
          138238.45479452054,
          138242.54520547946,
          138274.85205479452,
          138130.5808219178,
          137940.90410958906,
          138064.5369863014,
          138044.4767123288,
          138048.4493150685,
          138032.26575342467,
          137985.62191780825,
          137846.8082191781,
          137685.38356164383,
          137703.10136986303,
          137686.53150684934,
          137558.2876712329,
          137509.7780821918,
          137471.91506849317,
          137330.91506849317,
          137172.62465753424,
          137169.44383561646,
          137173.298630137,
          137115.27671232878,
          137065.79178082192,
          136937.5397260274,
          136793.38356164386,
          136753.6904109589,
          136674.90684931507,
          136710.23287671234,
          136663.73972602742,
          136600.701369863,
          136414.81643835615,
          136246,
          136157.60821917807,
          136061.52054794523,
          136064.0602739726,
          135973.75342465754,
          135892.11232876714,
          135737.20547945207,
          135539.21643835618,
          135463.73972602742,
          135372.66301369862,
          135406.90958904108,
          135294.8876712329,
          135245.93698630139,
          135082.73424657536,
          134884.72602739726,
          134798.1589041096,
          134700.28493150685,
          134716.53698630136,
          134676.89589041096,
          134595.51780821919,
          134417.85479452054,
          134246.85479452054,
          134196.77808219177,
          134186.22465753424,
          134245.12328767122,
          134215.002739726,
          134234.3808219178,
          134114.9890410959,
          133967.45479452054,
          133997.1205479452,
          134008.58630136983,
          134147.9808219178,
          134219.85479452054,
          134301.92054794522,
          134212.90136986302,
          134097.24657534246,
          134199.5123287671,
          134266.8410958904,
          134473.91780821918,
          134597.21369863013,
          134745.43561643834,
          134706.09041095892,
          134607.73150684932,
          134786.25205479455,
          134950.51780821919,
          135331.90684931507,
          135547.79726027398,
          135767.79178082192,
          135739.2493150685,
          135687.19452054793,
          135985.37808219178,
          136273.16712328768,
          136690.16712328768,
          136942.09863013698,
          137247.75342465754,
          137271.07671232877,
          137250.1698630137,
          137536.01917808218,
          137848.48219178081,
          138323.49589041097,
          138594.6082191781,
          138912.17260273974,
          138885.80547945207,
          138834.56712328768,
          null,
          null,
          null,
          null,
          null,
          null,
          null,
          null,
          null,
          null,
          null,
          null,
          null,
          null,
          null,
          null,
          null,
          null,
          null,
          null,
          null,
          null,
          null,
          null,
          null,
          null,
          null,
          null,
          null,
          null,
          null,
          null,
          null,
          null,
          null,
          null,
          null,
          null,
          null,
          null,
          null,
          null,
          null,
          null,
          null,
          null,
          null,
          null,
          null,
          null,
          null,
          null,
          null,
          null,
          null,
          null,
          null,
          null,
          null,
          null,
          null,
          null,
          null,
          null,
          null,
          null,
          null,
          null,
          null,
          null,
          null,
          null,
          null,
          null,
          null,
          null,
          null,
          null,
          null,
          null,
          null,
          null,
          null,
          null,
          null,
          null,
          null,
          null,
          null,
          null,
          null,
          null,
          null,
          null,
          null,
          null,
          null,
          null,
          null,
          null,
          null,
          null,
          null,
          null,
          null,
          null,
          null,
          null,
          null,
          null,
          null,
          null,
          null,
          null,
          null,
          null,
          null,
          null,
          null,
          null,
          null,
          null,
          null,
          null,
          null,
          null,
          null,
          null,
          null,
          null,
          null,
          null,
          null,
          null,
          null,
          null,
          null,
          null,
          null,
          null,
          null,
          null,
          null,
          null,
          null,
          null,
          null,
          null,
          null,
          null,
          null,
          null,
          null,
          null,
          null,
          null,
          null,
          null,
          null,
          null,
          null,
          null,
          null,
          null,
          null,
          null,
          null,
          null,
          null,
          null,
          null,
          null,
          null,
          null,
          null,
          null,
          null,
          null,
          null,
          null,
          null,
          null
         ],
         "yaxis": "y"
        }
       ],
       "layout": {
        "autosize": true,
        "legend": {
         "title": {
          "text": "variable"
         },
         "tracegroupgap": 0
        },
        "margin": {
         "t": 60
        },
        "template": {
         "data": {
          "bar": [
           {
            "error_x": {
             "color": "#2a3f5f"
            },
            "error_y": {
             "color": "#2a3f5f"
            },
            "marker": {
             "line": {
              "color": "#E5ECF6",
              "width": 0.5
             },
             "pattern": {
              "fillmode": "overlay",
              "size": 10,
              "solidity": 0.2
             }
            },
            "type": "bar"
           }
          ],
          "barpolar": [
           {
            "marker": {
             "line": {
              "color": "#E5ECF6",
              "width": 0.5
             },
             "pattern": {
              "fillmode": "overlay",
              "size": 10,
              "solidity": 0.2
             }
            },
            "type": "barpolar"
           }
          ],
          "carpet": [
           {
            "aaxis": {
             "endlinecolor": "#2a3f5f",
             "gridcolor": "white",
             "linecolor": "white",
             "minorgridcolor": "white",
             "startlinecolor": "#2a3f5f"
            },
            "baxis": {
             "endlinecolor": "#2a3f5f",
             "gridcolor": "white",
             "linecolor": "white",
             "minorgridcolor": "white",
             "startlinecolor": "#2a3f5f"
            },
            "type": "carpet"
           }
          ],
          "choropleth": [
           {
            "colorbar": {
             "outlinewidth": 0,
             "ticks": ""
            },
            "type": "choropleth"
           }
          ],
          "contour": [
           {
            "colorbar": {
             "outlinewidth": 0,
             "ticks": ""
            },
            "colorscale": [
             [
              0,
              "#0d0887"
             ],
             [
              0.1111111111111111,
              "#46039f"
             ],
             [
              0.2222222222222222,
              "#7201a8"
             ],
             [
              0.3333333333333333,
              "#9c179e"
             ],
             [
              0.4444444444444444,
              "#bd3786"
             ],
             [
              0.5555555555555556,
              "#d8576b"
             ],
             [
              0.6666666666666666,
              "#ed7953"
             ],
             [
              0.7777777777777778,
              "#fb9f3a"
             ],
             [
              0.8888888888888888,
              "#fdca26"
             ],
             [
              1,
              "#f0f921"
             ]
            ],
            "type": "contour"
           }
          ],
          "contourcarpet": [
           {
            "colorbar": {
             "outlinewidth": 0,
             "ticks": ""
            },
            "type": "contourcarpet"
           }
          ],
          "heatmap": [
           {
            "colorbar": {
             "outlinewidth": 0,
             "ticks": ""
            },
            "colorscale": [
             [
              0,
              "#0d0887"
             ],
             [
              0.1111111111111111,
              "#46039f"
             ],
             [
              0.2222222222222222,
              "#7201a8"
             ],
             [
              0.3333333333333333,
              "#9c179e"
             ],
             [
              0.4444444444444444,
              "#bd3786"
             ],
             [
              0.5555555555555556,
              "#d8576b"
             ],
             [
              0.6666666666666666,
              "#ed7953"
             ],
             [
              0.7777777777777778,
              "#fb9f3a"
             ],
             [
              0.8888888888888888,
              "#fdca26"
             ],
             [
              1,
              "#f0f921"
             ]
            ],
            "type": "heatmap"
           }
          ],
          "heatmapgl": [
           {
            "colorbar": {
             "outlinewidth": 0,
             "ticks": ""
            },
            "colorscale": [
             [
              0,
              "#0d0887"
             ],
             [
              0.1111111111111111,
              "#46039f"
             ],
             [
              0.2222222222222222,
              "#7201a8"
             ],
             [
              0.3333333333333333,
              "#9c179e"
             ],
             [
              0.4444444444444444,
              "#bd3786"
             ],
             [
              0.5555555555555556,
              "#d8576b"
             ],
             [
              0.6666666666666666,
              "#ed7953"
             ],
             [
              0.7777777777777778,
              "#fb9f3a"
             ],
             [
              0.8888888888888888,
              "#fdca26"
             ],
             [
              1,
              "#f0f921"
             ]
            ],
            "type": "heatmapgl"
           }
          ],
          "histogram": [
           {
            "marker": {
             "pattern": {
              "fillmode": "overlay",
              "size": 10,
              "solidity": 0.2
             }
            },
            "type": "histogram"
           }
          ],
          "histogram2d": [
           {
            "colorbar": {
             "outlinewidth": 0,
             "ticks": ""
            },
            "colorscale": [
             [
              0,
              "#0d0887"
             ],
             [
              0.1111111111111111,
              "#46039f"
             ],
             [
              0.2222222222222222,
              "#7201a8"
             ],
             [
              0.3333333333333333,
              "#9c179e"
             ],
             [
              0.4444444444444444,
              "#bd3786"
             ],
             [
              0.5555555555555556,
              "#d8576b"
             ],
             [
              0.6666666666666666,
              "#ed7953"
             ],
             [
              0.7777777777777778,
              "#fb9f3a"
             ],
             [
              0.8888888888888888,
              "#fdca26"
             ],
             [
              1,
              "#f0f921"
             ]
            ],
            "type": "histogram2d"
           }
          ],
          "histogram2dcontour": [
           {
            "colorbar": {
             "outlinewidth": 0,
             "ticks": ""
            },
            "colorscale": [
             [
              0,
              "#0d0887"
             ],
             [
              0.1111111111111111,
              "#46039f"
             ],
             [
              0.2222222222222222,
              "#7201a8"
             ],
             [
              0.3333333333333333,
              "#9c179e"
             ],
             [
              0.4444444444444444,
              "#bd3786"
             ],
             [
              0.5555555555555556,
              "#d8576b"
             ],
             [
              0.6666666666666666,
              "#ed7953"
             ],
             [
              0.7777777777777778,
              "#fb9f3a"
             ],
             [
              0.8888888888888888,
              "#fdca26"
             ],
             [
              1,
              "#f0f921"
             ]
            ],
            "type": "histogram2dcontour"
           }
          ],
          "mesh3d": [
           {
            "colorbar": {
             "outlinewidth": 0,
             "ticks": ""
            },
            "type": "mesh3d"
           }
          ],
          "parcoords": [
           {
            "line": {
             "colorbar": {
              "outlinewidth": 0,
              "ticks": ""
             }
            },
            "type": "parcoords"
           }
          ],
          "pie": [
           {
            "automargin": true,
            "type": "pie"
           }
          ],
          "scatter": [
           {
            "fillpattern": {
             "fillmode": "overlay",
             "size": 10,
             "solidity": 0.2
            },
            "type": "scatter"
           }
          ],
          "scatter3d": [
           {
            "line": {
             "colorbar": {
              "outlinewidth": 0,
              "ticks": ""
             }
            },
            "marker": {
             "colorbar": {
              "outlinewidth": 0,
              "ticks": ""
             }
            },
            "type": "scatter3d"
           }
          ],
          "scattercarpet": [
           {
            "marker": {
             "colorbar": {
              "outlinewidth": 0,
              "ticks": ""
             }
            },
            "type": "scattercarpet"
           }
          ],
          "scattergeo": [
           {
            "marker": {
             "colorbar": {
              "outlinewidth": 0,
              "ticks": ""
             }
            },
            "type": "scattergeo"
           }
          ],
          "scattergl": [
           {
            "marker": {
             "colorbar": {
              "outlinewidth": 0,
              "ticks": ""
             }
            },
            "type": "scattergl"
           }
          ],
          "scattermapbox": [
           {
            "marker": {
             "colorbar": {
              "outlinewidth": 0,
              "ticks": ""
             }
            },
            "type": "scattermapbox"
           }
          ],
          "scatterpolar": [
           {
            "marker": {
             "colorbar": {
              "outlinewidth": 0,
              "ticks": ""
             }
            },
            "type": "scatterpolar"
           }
          ],
          "scatterpolargl": [
           {
            "marker": {
             "colorbar": {
              "outlinewidth": 0,
              "ticks": ""
             }
            },
            "type": "scatterpolargl"
           }
          ],
          "scatterternary": [
           {
            "marker": {
             "colorbar": {
              "outlinewidth": 0,
              "ticks": ""
             }
            },
            "type": "scatterternary"
           }
          ],
          "surface": [
           {
            "colorbar": {
             "outlinewidth": 0,
             "ticks": ""
            },
            "colorscale": [
             [
              0,
              "#0d0887"
             ],
             [
              0.1111111111111111,
              "#46039f"
             ],
             [
              0.2222222222222222,
              "#7201a8"
             ],
             [
              0.3333333333333333,
              "#9c179e"
             ],
             [
              0.4444444444444444,
              "#bd3786"
             ],
             [
              0.5555555555555556,
              "#d8576b"
             ],
             [
              0.6666666666666666,
              "#ed7953"
             ],
             [
              0.7777777777777778,
              "#fb9f3a"
             ],
             [
              0.8888888888888888,
              "#fdca26"
             ],
             [
              1,
              "#f0f921"
             ]
            ],
            "type": "surface"
           }
          ],
          "table": [
           {
            "cells": {
             "fill": {
              "color": "#EBF0F8"
             },
             "line": {
              "color": "white"
             }
            },
            "header": {
             "fill": {
              "color": "#C8D4E3"
             },
             "line": {
              "color": "white"
             }
            },
            "type": "table"
           }
          ]
         },
         "layout": {
          "annotationdefaults": {
           "arrowcolor": "#2a3f5f",
           "arrowhead": 0,
           "arrowwidth": 1
          },
          "autotypenumbers": "strict",
          "coloraxis": {
           "colorbar": {
            "outlinewidth": 0,
            "ticks": ""
           }
          },
          "colorscale": {
           "diverging": [
            [
             0,
             "#8e0152"
            ],
            [
             0.1,
             "#c51b7d"
            ],
            [
             0.2,
             "#de77ae"
            ],
            [
             0.3,
             "#f1b6da"
            ],
            [
             0.4,
             "#fde0ef"
            ],
            [
             0.5,
             "#f7f7f7"
            ],
            [
             0.6,
             "#e6f5d0"
            ],
            [
             0.7,
             "#b8e186"
            ],
            [
             0.8,
             "#7fbc41"
            ],
            [
             0.9,
             "#4d9221"
            ],
            [
             1,
             "#276419"
            ]
           ],
           "sequential": [
            [
             0,
             "#0d0887"
            ],
            [
             0.1111111111111111,
             "#46039f"
            ],
            [
             0.2222222222222222,
             "#7201a8"
            ],
            [
             0.3333333333333333,
             "#9c179e"
            ],
            [
             0.4444444444444444,
             "#bd3786"
            ],
            [
             0.5555555555555556,
             "#d8576b"
            ],
            [
             0.6666666666666666,
             "#ed7953"
            ],
            [
             0.7777777777777778,
             "#fb9f3a"
            ],
            [
             0.8888888888888888,
             "#fdca26"
            ],
            [
             1,
             "#f0f921"
            ]
           ],
           "sequentialminus": [
            [
             0,
             "#0d0887"
            ],
            [
             0.1111111111111111,
             "#46039f"
            ],
            [
             0.2222222222222222,
             "#7201a8"
            ],
            [
             0.3333333333333333,
             "#9c179e"
            ],
            [
             0.4444444444444444,
             "#bd3786"
            ],
            [
             0.5555555555555556,
             "#d8576b"
            ],
            [
             0.6666666666666666,
             "#ed7953"
            ],
            [
             0.7777777777777778,
             "#fb9f3a"
            ],
            [
             0.8888888888888888,
             "#fdca26"
            ],
            [
             1,
             "#f0f921"
            ]
           ]
          },
          "colorway": [
           "#636efa",
           "#EF553B",
           "#00cc96",
           "#ab63fa",
           "#FFA15A",
           "#19d3f3",
           "#FF6692",
           "#B6E880",
           "#FF97FF",
           "#FECB52"
          ],
          "font": {
           "color": "#2a3f5f"
          },
          "geo": {
           "bgcolor": "white",
           "lakecolor": "white",
           "landcolor": "#E5ECF6",
           "showlakes": true,
           "showland": true,
           "subunitcolor": "white"
          },
          "hoverlabel": {
           "align": "left"
          },
          "hovermode": "closest",
          "mapbox": {
           "style": "light"
          },
          "paper_bgcolor": "white",
          "plot_bgcolor": "#E5ECF6",
          "polar": {
           "angularaxis": {
            "gridcolor": "white",
            "linecolor": "white",
            "ticks": ""
           },
           "bgcolor": "#E5ECF6",
           "radialaxis": {
            "gridcolor": "white",
            "linecolor": "white",
            "ticks": ""
           }
          },
          "scene": {
           "xaxis": {
            "backgroundcolor": "#E5ECF6",
            "gridcolor": "white",
            "gridwidth": 2,
            "linecolor": "white",
            "showbackground": true,
            "ticks": "",
            "zerolinecolor": "white"
           },
           "yaxis": {
            "backgroundcolor": "#E5ECF6",
            "gridcolor": "white",
            "gridwidth": 2,
            "linecolor": "white",
            "showbackground": true,
            "ticks": "",
            "zerolinecolor": "white"
           },
           "zaxis": {
            "backgroundcolor": "#E5ECF6",
            "gridcolor": "white",
            "gridwidth": 2,
            "linecolor": "white",
            "showbackground": true,
            "ticks": "",
            "zerolinecolor": "white"
           }
          },
          "shapedefaults": {
           "line": {
            "color": "#2a3f5f"
           }
          },
          "ternary": {
           "aaxis": {
            "gridcolor": "white",
            "linecolor": "white",
            "ticks": ""
           },
           "baxis": {
            "gridcolor": "white",
            "linecolor": "white",
            "ticks": ""
           },
           "bgcolor": "#E5ECF6",
           "caxis": {
            "gridcolor": "white",
            "linecolor": "white",
            "ticks": ""
           }
          },
          "title": {
           "x": 0.05
          },
          "xaxis": {
           "automargin": true,
           "gridcolor": "white",
           "linecolor": "white",
           "ticks": "",
           "title": {
            "standoff": 15
           },
           "zerolinecolor": "white",
           "zerolinewidth": 2
          },
          "yaxis": {
           "automargin": true,
           "gridcolor": "white",
           "linecolor": "white",
           "ticks": "",
           "title": {
            "standoff": 15
           },
           "zerolinecolor": "white",
           "zerolinewidth": 2
          }
         }
        },
        "xaxis": {
         "anchor": "y",
         "autorange": true,
         "domain": [
          0,
          1
         ],
         "range": [
          "2020-01-21",
          "2022-05-29"
         ],
         "title": {
          "text": "date"
         },
         "type": "date"
        },
        "yaxis": {
         "anchor": "x",
         "autorange": true,
         "domain": [
          0,
          1
         ],
         "range": [
          62599.812024353116,
          142928.61263318115
         ],
         "title": {
          "text": "value"
         },
         "type": "linear"
        }
       }
      },
      "image/png": "[encoded data removed]"
     },
     "metadata": {},
     "output_type": "display_data"
    }
   ],
   "source": [
    "px.line(trend)"
   ]
  },
  {
   "cell_type": "markdown",
   "id": "9d16c111",
   "metadata": {},
   "source": [
    "# A look into the Case fatality ratio and the Cause-specific mortality ratio"
   ]
  },
  {
   "cell_type": "code",
   "execution_count": 19,
   "id": "874702ff",
   "metadata": {
    "ExecuteTime": {
     "end_time": "2022-06-02T16:11:42.240540Z",
     "start_time": "2022-06-02T16:11:42.233610Z"
    }
   },
   "outputs": [],
   "source": [
    "dfpop.rename(columns={\"State\":\"state\"},inplace=True)\n",
    "dfstates = pd.merge(state_timeseries, dfpop[['state','Pop']], how=\"left\", on=\"state\")"
   ]
  },
  {
   "cell_type": "code",
   "execution_count": 20,
   "id": "dbdafe8c",
   "metadata": {
    "ExecuteTime": {
     "end_time": "2022-06-02T16:11:42.625582Z",
     "start_time": "2022-06-02T16:11:42.619731Z"
    }
   },
   "outputs": [
    {
     "data": {
      "text/html": [
       "<div>\n",
       "<style scoped>\n",
       "    .dataframe tbody tr th:only-of-type {\n",
       "        vertical-align: middle;\n",
       "    }\n",
       "\n",
       "    .dataframe tbody tr th {\n",
       "        vertical-align: top;\n",
       "    }\n",
       "\n",
       "    .dataframe thead th {\n",
       "        text-align: right;\n",
       "    }\n",
       "</style>\n",
       "<table border=\"1\" class=\"dataframe\">\n",
       "  <thead>\n",
       "    <tr style=\"text-align: right;\">\n",
       "      <th></th>\n",
       "      <th>date</th>\n",
       "      <th>state</th>\n",
       "      <th>fips</th>\n",
       "      <th>cases</th>\n",
       "      <th>deaths</th>\n",
       "      <th>daily_cases</th>\n",
       "      <th>daily_deaths</th>\n",
       "      <th>Pop</th>\n",
       "    </tr>\n",
       "  </thead>\n",
       "  <tbody>\n",
       "    <tr>\n",
       "      <th>0</th>\n",
       "      <td>2020-03-13</td>\n",
       "      <td>Alabama</td>\n",
       "      <td>1</td>\n",
       "      <td>6</td>\n",
       "      <td>0</td>\n",
       "      <td>0</td>\n",
       "      <td>0</td>\n",
       "      <td>4949697.0</td>\n",
       "    </tr>\n",
       "    <tr>\n",
       "      <th>1</th>\n",
       "      <td>2020-03-14</td>\n",
       "      <td>Alabama</td>\n",
       "      <td>1</td>\n",
       "      <td>12</td>\n",
       "      <td>0</td>\n",
       "      <td>6</td>\n",
       "      <td>0</td>\n",
       "      <td>4949697.0</td>\n",
       "    </tr>\n",
       "    <tr>\n",
       "      <th>2</th>\n",
       "      <td>2020-03-15</td>\n",
       "      <td>Alabama</td>\n",
       "      <td>1</td>\n",
       "      <td>23</td>\n",
       "      <td>0</td>\n",
       "      <td>11</td>\n",
       "      <td>0</td>\n",
       "      <td>4949697.0</td>\n",
       "    </tr>\n",
       "    <tr>\n",
       "      <th>3</th>\n",
       "      <td>2020-03-16</td>\n",
       "      <td>Alabama</td>\n",
       "      <td>1</td>\n",
       "      <td>29</td>\n",
       "      <td>0</td>\n",
       "      <td>6</td>\n",
       "      <td>0</td>\n",
       "      <td>4949697.0</td>\n",
       "    </tr>\n",
       "    <tr>\n",
       "      <th>4</th>\n",
       "      <td>2020-03-17</td>\n",
       "      <td>Alabama</td>\n",
       "      <td>1</td>\n",
       "      <td>39</td>\n",
       "      <td>0</td>\n",
       "      <td>10</td>\n",
       "      <td>0</td>\n",
       "      <td>4949697.0</td>\n",
       "    </tr>\n",
       "  </tbody>\n",
       "</table>\n",
       "</div>"
      ],
      "text/plain": [
       "        date    state  fips  cases  deaths  daily_cases  daily_deaths  \\\n",
       "0 2020-03-13  Alabama     1      6       0            0             0   \n",
       "1 2020-03-14  Alabama     1     12       0            6             0   \n",
       "2 2020-03-15  Alabama     1     23       0           11             0   \n",
       "3 2020-03-16  Alabama     1     29       0            6             0   \n",
       "4 2020-03-17  Alabama     1     39       0           10             0   \n",
       "\n",
       "         Pop  \n",
       "0  4949697.0  \n",
       "1  4949697.0  \n",
       "2  4949697.0  \n",
       "3  4949697.0  \n",
       "4  4949697.0  "
      ]
     },
     "execution_count": 20,
     "metadata": {},
     "output_type": "execute_result"
    }
   ],
   "source": [
    "dfstates.head()"
   ]
  },
  {
   "cell_type": "code",
   "execution_count": 21,
   "id": "b9f4d27c",
   "metadata": {
    "ExecuteTime": {
     "end_time": "2022-06-02T16:11:43.226407Z",
     "start_time": "2022-06-02T16:11:43.012946Z"
    }
   },
   "outputs": [
    {
     "name": "stdout",
     "output_type": "stream",
     "text": [
      "Cause-specific mortality ratio per 1000 people in the US on 2020-12-15: 0.923 Per 1000 people\n"
     ]
    },
    {
     "data": {
      "application/vnd.plotly.v1+json": {
       "config": {
        "plotlyServerURL": "https://plot.ly"
       },
       "data": [
        {
         "alignmentgroup": "True",
         "hovertemplate": "x=%{x}<br>y=%{y}<extra></extra>",
         "legendgroup": "",
         "marker": {
          "color": "#636efa",
          "pattern": {
           "shape": ""
          }
         },
         "name": "",
         "offsetgroup": "",
         "orientation": "v",
         "showlegend": false,
         "textposition": "auto",
         "type": "bar",
         "x": [
          "Alabama",
          "Alaska",
          "Arizona",
          "Arkansas",
          "California",
          "Colorado",
          "Connecticut",
          "Delaware",
          "District of Columbia",
          "Florida",
          "Georgia",
          "Hawaii",
          "Idaho",
          "Illinois",
          "Indiana",
          "Iowa",
          "Kansas",
          "Kentucky",
          "Louisiana",
          "Maine",
          "Maryland",
          "Massachusetts",
          "Michigan",
          "Minnesota",
          "Mississippi",
          "Missouri",
          "Montana",
          "Nebraska",
          "Nevada",
          "New Hampshire",
          "New Jersey",
          "New Mexico",
          "New York",
          "North Carolina",
          "North Dakota",
          "Ohio",
          "Oklahoma",
          "Oregon",
          "Pennsylvania",
          "Puerto Rico",
          "Rhode Island",
          "South Carolina",
          "South Dakota",
          "Tennessee",
          "Texas",
          "Utah",
          "Vermont",
          "Virginia",
          "Washington",
          "West Virginia",
          "Wisconsin",
          "Wyoming"
         ],
         "xaxis": "x",
         "y": [
          0.8331823139881087,
          0.2386360010155904,
          0.9721500220657638,
          0.9914474508196371,
          0.5416228991596639,
          0.6929948802927254,
          1.541199598036197,
          0.8271422834935045,
          1.002289954131314,
          0.9054469616891011,
          0.9012189589915198,
          0.19404883609936155,
          0.6427114726370468,
          1.2454794352899898,
          1.018358364809931,
          1.051213668234824,
          0.7224634049505015,
          0.5569133584104057,
          1.4936832039818844,
          0.19489922974353466,
          0.8569104411722588,
          1.6531093784016917,
          1.1493503089279147,
          0.7913193900603525,
          1.4357414530838053,
          0.8017988492189697,
          0.7556373197013678,
          0.7466378347502792,
          0.805594761441746,
          0.43817362847664293,
          2.014726032995197,
          0.9511197467347339,
          1.8428261988345223,
          0.5483233805144968,
          1.5193641409391119,
          0.6526608635503063,
          0.5205657146835716,
          0.280443623433342,
          1.0097468292153415,
          0.405044082193273,
          1.4775316375285508,
          0.890238597421228,
          1.3971648964812717,
          0.7936527205921103,
          0.8238550902821713,
          0.3205297839962274,
          0.16054405168234112,
          0.5174678388528745,
          0.39591960664125664,
          0.5764033456455062,
          0.7519363383290857,
          0.5633483502309212
         ],
         "yaxis": "y"
        }
       ],
       "layout": {
        "autosize": true,
        "barmode": "relative",
        "legend": {
         "tracegroupgap": 0
        },
        "template": {
         "data": {
          "bar": [
           {
            "error_x": {
             "color": "#2a3f5f"
            },
            "error_y": {
             "color": "#2a3f5f"
            },
            "marker": {
             "line": {
              "color": "#E5ECF6",
              "width": 0.5
             },
             "pattern": {
              "fillmode": "overlay",
              "size": 10,
              "solidity": 0.2
             }
            },
            "type": "bar"
           }
          ],
          "barpolar": [
           {
            "marker": {
             "line": {
              "color": "#E5ECF6",
              "width": 0.5
             },
             "pattern": {
              "fillmode": "overlay",
              "size": 10,
              "solidity": 0.2
             }
            },
            "type": "barpolar"
           }
          ],
          "carpet": [
           {
            "aaxis": {
             "endlinecolor": "#2a3f5f",
             "gridcolor": "white",
             "linecolor": "white",
             "minorgridcolor": "white",
             "startlinecolor": "#2a3f5f"
            },
            "baxis": {
             "endlinecolor": "#2a3f5f",
             "gridcolor": "white",
             "linecolor": "white",
             "minorgridcolor": "white",
             "startlinecolor": "#2a3f5f"
            },
            "type": "carpet"
           }
          ],
          "choropleth": [
           {
            "colorbar": {
             "outlinewidth": 0,
             "ticks": ""
            },
            "type": "choropleth"
           }
          ],
          "contour": [
           {
            "colorbar": {
             "outlinewidth": 0,
             "ticks": ""
            },
            "colorscale": [
             [
              0,
              "#0d0887"
             ],
             [
              0.1111111111111111,
              "#46039f"
             ],
             [
              0.2222222222222222,
              "#7201a8"
             ],
             [
              0.3333333333333333,
              "#9c179e"
             ],
             [
              0.4444444444444444,
              "#bd3786"
             ],
             [
              0.5555555555555556,
              "#d8576b"
             ],
             [
              0.6666666666666666,
              "#ed7953"
             ],
             [
              0.7777777777777778,
              "#fb9f3a"
             ],
             [
              0.8888888888888888,
              "#fdca26"
             ],
             [
              1,
              "#f0f921"
             ]
            ],
            "type": "contour"
           }
          ],
          "contourcarpet": [
           {
            "colorbar": {
             "outlinewidth": 0,
             "ticks": ""
            },
            "type": "contourcarpet"
           }
          ],
          "heatmap": [
           {
            "colorbar": {
             "outlinewidth": 0,
             "ticks": ""
            },
            "colorscale": [
             [
              0,
              "#0d0887"
             ],
             [
              0.1111111111111111,
              "#46039f"
             ],
             [
              0.2222222222222222,
              "#7201a8"
             ],
             [
              0.3333333333333333,
              "#9c179e"
             ],
             [
              0.4444444444444444,
              "#bd3786"
             ],
             [
              0.5555555555555556,
              "#d8576b"
             ],
             [
              0.6666666666666666,
              "#ed7953"
             ],
             [
              0.7777777777777778,
              "#fb9f3a"
             ],
             [
              0.8888888888888888,
              "#fdca26"
             ],
             [
              1,
              "#f0f921"
             ]
            ],
            "type": "heatmap"
           }
          ],
          "heatmapgl": [
           {
            "colorbar": {
             "outlinewidth": 0,
             "ticks": ""
            },
            "colorscale": [
             [
              0,
              "#0d0887"
             ],
             [
              0.1111111111111111,
              "#46039f"
             ],
             [
              0.2222222222222222,
              "#7201a8"
             ],
             [
              0.3333333333333333,
              "#9c179e"
             ],
             [
              0.4444444444444444,
              "#bd3786"
             ],
             [
              0.5555555555555556,
              "#d8576b"
             ],
             [
              0.6666666666666666,
              "#ed7953"
             ],
             [
              0.7777777777777778,
              "#fb9f3a"
             ],
             [
              0.8888888888888888,
              "#fdca26"
             ],
             [
              1,
              "#f0f921"
             ]
            ],
            "type": "heatmapgl"
           }
          ],
          "histogram": [
           {
            "marker": {
             "pattern": {
              "fillmode": "overlay",
              "size": 10,
              "solidity": 0.2
             }
            },
            "type": "histogram"
           }
          ],
          "histogram2d": [
           {
            "colorbar": {
             "outlinewidth": 0,
             "ticks": ""
            },
            "colorscale": [
             [
              0,
              "#0d0887"
             ],
             [
              0.1111111111111111,
              "#46039f"
             ],
             [
              0.2222222222222222,
              "#7201a8"
             ],
             [
              0.3333333333333333,
              "#9c179e"
             ],
             [
              0.4444444444444444,
              "#bd3786"
             ],
             [
              0.5555555555555556,
              "#d8576b"
             ],
             [
              0.6666666666666666,
              "#ed7953"
             ],
             [
              0.7777777777777778,
              "#fb9f3a"
             ],
             [
              0.8888888888888888,
              "#fdca26"
             ],
             [
              1,
              "#f0f921"
             ]
            ],
            "type": "histogram2d"
           }
          ],
          "histogram2dcontour": [
           {
            "colorbar": {
             "outlinewidth": 0,
             "ticks": ""
            },
            "colorscale": [
             [
              0,
              "#0d0887"
             ],
             [
              0.1111111111111111,
              "#46039f"
             ],
             [
              0.2222222222222222,
              "#7201a8"
             ],
             [
              0.3333333333333333,
              "#9c179e"
             ],
             [
              0.4444444444444444,
              "#bd3786"
             ],
             [
              0.5555555555555556,
              "#d8576b"
             ],
             [
              0.6666666666666666,
              "#ed7953"
             ],
             [
              0.7777777777777778,
              "#fb9f3a"
             ],
             [
              0.8888888888888888,
              "#fdca26"
             ],
             [
              1,
              "#f0f921"
             ]
            ],
            "type": "histogram2dcontour"
           }
          ],
          "mesh3d": [
           {
            "colorbar": {
             "outlinewidth": 0,
             "ticks": ""
            },
            "type": "mesh3d"
           }
          ],
          "parcoords": [
           {
            "line": {
             "colorbar": {
              "outlinewidth": 0,
              "ticks": ""
             }
            },
            "type": "parcoords"
           }
          ],
          "pie": [
           {
            "automargin": true,
            "type": "pie"
           }
          ],
          "scatter": [
           {
            "fillpattern": {
             "fillmode": "overlay",
             "size": 10,
             "solidity": 0.2
            },
            "type": "scatter"
           }
          ],
          "scatter3d": [
           {
            "line": {
             "colorbar": {
              "outlinewidth": 0,
              "ticks": ""
             }
            },
            "marker": {
             "colorbar": {
              "outlinewidth": 0,
              "ticks": ""
             }
            },
            "type": "scatter3d"
           }
          ],
          "scattercarpet": [
           {
            "marker": {
             "colorbar": {
              "outlinewidth": 0,
              "ticks": ""
             }
            },
            "type": "scattercarpet"
           }
          ],
          "scattergeo": [
           {
            "marker": {
             "colorbar": {
              "outlinewidth": 0,
              "ticks": ""
             }
            },
            "type": "scattergeo"
           }
          ],
          "scattergl": [
           {
            "marker": {
             "colorbar": {
              "outlinewidth": 0,
              "ticks": ""
             }
            },
            "type": "scattergl"
           }
          ],
          "scattermapbox": [
           {
            "marker": {
             "colorbar": {
              "outlinewidth": 0,
              "ticks": ""
             }
            },
            "type": "scattermapbox"
           }
          ],
          "scatterpolar": [
           {
            "marker": {
             "colorbar": {
              "outlinewidth": 0,
              "ticks": ""
             }
            },
            "type": "scatterpolar"
           }
          ],
          "scatterpolargl": [
           {
            "marker": {
             "colorbar": {
              "outlinewidth": 0,
              "ticks": ""
             }
            },
            "type": "scatterpolargl"
           }
          ],
          "scatterternary": [
           {
            "marker": {
             "colorbar": {
              "outlinewidth": 0,
              "ticks": ""
             }
            },
            "type": "scatterternary"
           }
          ],
          "surface": [
           {
            "colorbar": {
             "outlinewidth": 0,
             "ticks": ""
            },
            "colorscale": [
             [
              0,
              "#0d0887"
             ],
             [
              0.1111111111111111,
              "#46039f"
             ],
             [
              0.2222222222222222,
              "#7201a8"
             ],
             [
              0.3333333333333333,
              "#9c179e"
             ],
             [
              0.4444444444444444,
              "#bd3786"
             ],
             [
              0.5555555555555556,
              "#d8576b"
             ],
             [
              0.6666666666666666,
              "#ed7953"
             ],
             [
              0.7777777777777778,
              "#fb9f3a"
             ],
             [
              0.8888888888888888,
              "#fdca26"
             ],
             [
              1,
              "#f0f921"
             ]
            ],
            "type": "surface"
           }
          ],
          "table": [
           {
            "cells": {
             "fill": {
              "color": "#EBF0F8"
             },
             "line": {
              "color": "white"
             }
            },
            "header": {
             "fill": {
              "color": "#C8D4E3"
             },
             "line": {
              "color": "white"
             }
            },
            "type": "table"
           }
          ]
         },
         "layout": {
          "annotationdefaults": {
           "arrowcolor": "#2a3f5f",
           "arrowhead": 0,
           "arrowwidth": 1
          },
          "autotypenumbers": "strict",
          "coloraxis": {
           "colorbar": {
            "outlinewidth": 0,
            "ticks": ""
           }
          },
          "colorscale": {
           "diverging": [
            [
             0,
             "#8e0152"
            ],
            [
             0.1,
             "#c51b7d"
            ],
            [
             0.2,
             "#de77ae"
            ],
            [
             0.3,
             "#f1b6da"
            ],
            [
             0.4,
             "#fde0ef"
            ],
            [
             0.5,
             "#f7f7f7"
            ],
            [
             0.6,
             "#e6f5d0"
            ],
            [
             0.7,
             "#b8e186"
            ],
            [
             0.8,
             "#7fbc41"
            ],
            [
             0.9,
             "#4d9221"
            ],
            [
             1,
             "#276419"
            ]
           ],
           "sequential": [
            [
             0,
             "#0d0887"
            ],
            [
             0.1111111111111111,
             "#46039f"
            ],
            [
             0.2222222222222222,
             "#7201a8"
            ],
            [
             0.3333333333333333,
             "#9c179e"
            ],
            [
             0.4444444444444444,
             "#bd3786"
            ],
            [
             0.5555555555555556,
             "#d8576b"
            ],
            [
             0.6666666666666666,
             "#ed7953"
            ],
            [
             0.7777777777777778,
             "#fb9f3a"
            ],
            [
             0.8888888888888888,
             "#fdca26"
            ],
            [
             1,
             "#f0f921"
            ]
           ],
           "sequentialminus": [
            [
             0,
             "#0d0887"
            ],
            [
             0.1111111111111111,
             "#46039f"
            ],
            [
             0.2222222222222222,
             "#7201a8"
            ],
            [
             0.3333333333333333,
             "#9c179e"
            ],
            [
             0.4444444444444444,
             "#bd3786"
            ],
            [
             0.5555555555555556,
             "#d8576b"
            ],
            [
             0.6666666666666666,
             "#ed7953"
            ],
            [
             0.7777777777777778,
             "#fb9f3a"
            ],
            [
             0.8888888888888888,
             "#fdca26"
            ],
            [
             1,
             "#f0f921"
            ]
           ]
          },
          "colorway": [
           "#636efa",
           "#EF553B",
           "#00cc96",
           "#ab63fa",
           "#FFA15A",
           "#19d3f3",
           "#FF6692",
           "#B6E880",
           "#FF97FF",
           "#FECB52"
          ],
          "font": {
           "color": "#2a3f5f"
          },
          "geo": {
           "bgcolor": "white",
           "lakecolor": "white",
           "landcolor": "#E5ECF6",
           "showlakes": true,
           "showland": true,
           "subunitcolor": "white"
          },
          "hoverlabel": {
           "align": "left"
          },
          "hovermode": "closest",
          "mapbox": {
           "style": "light"
          },
          "paper_bgcolor": "white",
          "plot_bgcolor": "#E5ECF6",
          "polar": {
           "angularaxis": {
            "gridcolor": "white",
            "linecolor": "white",
            "ticks": ""
           },
           "bgcolor": "#E5ECF6",
           "radialaxis": {
            "gridcolor": "white",
            "linecolor": "white",
            "ticks": ""
           }
          },
          "scene": {
           "xaxis": {
            "backgroundcolor": "#E5ECF6",
            "gridcolor": "white",
            "gridwidth": 2,
            "linecolor": "white",
            "showbackground": true,
            "ticks": "",
            "zerolinecolor": "white"
           },
           "yaxis": {
            "backgroundcolor": "#E5ECF6",
            "gridcolor": "white",
            "gridwidth": 2,
            "linecolor": "white",
            "showbackground": true,
            "ticks": "",
            "zerolinecolor": "white"
           },
           "zaxis": {
            "backgroundcolor": "#E5ECF6",
            "gridcolor": "white",
            "gridwidth": 2,
            "linecolor": "white",
            "showbackground": true,
            "ticks": "",
            "zerolinecolor": "white"
           }
          },
          "shapedefaults": {
           "line": {
            "color": "#2a3f5f"
           }
          },
          "ternary": {
           "aaxis": {
            "gridcolor": "white",
            "linecolor": "white",
            "ticks": ""
           },
           "baxis": {
            "gridcolor": "white",
            "linecolor": "white",
            "ticks": ""
           },
           "bgcolor": "#E5ECF6",
           "caxis": {
            "gridcolor": "white",
            "linecolor": "white",
            "ticks": ""
           }
          },
          "title": {
           "x": 0.05
          },
          "xaxis": {
           "automargin": true,
           "gridcolor": "white",
           "linecolor": "white",
           "ticks": "",
           "title": {
            "standoff": 15
           },
           "zerolinecolor": "white",
           "zerolinewidth": 2
          },
          "yaxis": {
           "automargin": true,
           "gridcolor": "white",
           "linecolor": "white",
           "ticks": "",
           "title": {
            "standoff": 15
           },
           "zerolinecolor": "white",
           "zerolinewidth": 2
          }
         }
        },
        "title": {
         "text": "Cause-specific mortality ratio per 1000 people per state on 2020-12-15"
        },
        "xaxis": {
         "anchor": "y",
         "autorange": true,
         "domain": [
          0,
          1
         ],
         "range": [
          -0.5,
          51.5
         ],
         "title": {
          "text": "x"
         },
         "type": "category"
        },
        "yaxis": {
         "anchor": "x",
         "autorange": true,
         "domain": [
          0,
          1
         ],
         "range": [
          0,
          2.120764245258102
         ],
         "title": {
          "text": "y"
         },
         "type": "linear"
        }
       }
      },
      "image/png": "[encoded data removed]"
     },
     "metadata": {},
     "output_type": "display_data"
    },
    {
     "name": "stdout",
     "output_type": "stream",
     "text": [
      "Case to fatality ratio in percent in the US on 2020-12-15: 1.813 %\n"
     ]
    },
    {
     "data": {
      "application/vnd.plotly.v1+json": {
       "config": {
        "plotlyServerURL": "https://plot.ly"
       },
       "data": [
        {
         "alignmentgroup": "True",
         "hovertemplate": "x=%{x}<br>y=%{y}<extra></extra>",
         "legendgroup": "",
         "marker": {
          "color": "#636efa",
          "pattern": {
           "shape": ""
          }
         },
         "name": "",
         "offsetgroup": "",
         "orientation": "v",
         "showlegend": false,
         "textposition": "auto",
         "type": "bar",
         "x": [
          "Alabama",
          "Alaska",
          "Arizona",
          "Arkansas",
          "California",
          "Colorado",
          "Connecticut",
          "Delaware",
          "District of Columbia",
          "Florida",
          "Georgia",
          "Hawaii",
          "Idaho",
          "Illinois",
          "Indiana",
          "Iowa",
          "Kansas",
          "Kentucky",
          "Louisiana",
          "Maine",
          "Maryland",
          "Massachusetts",
          "Michigan",
          "Minnesota",
          "Mississippi",
          "Missouri",
          "Montana",
          "Nebraska",
          "Nevada",
          "New Hampshire",
          "New Jersey",
          "New Mexico",
          "New York",
          "North Carolina",
          "North Dakota",
          "Ohio",
          "Oklahoma",
          "Oregon",
          "Pennsylvania",
          "Puerto Rico",
          "Rhode Island",
          "South Carolina",
          "South Dakota",
          "Tennessee",
          "Texas",
          "Utah",
          "Vermont",
          "Virginia",
          "Washington",
          "West Virginia",
          "Wisconsin",
          "Wyoming"
         ],
         "xaxis": "x",
         "y": [
          1.3676778329403414,
          0.4130147676791932,
          1.7390856455196537,
          1.5940971891880464,
          1.297936279503083,
          1.3976952070321225,
          3.5159717487231608,
          1.7521530694497478,
          2.841469671257745,
          1.755660586858031,
          1.8440077232791008,
          1.39194514098562,
          0.9808023429831195,
          1.8018840557935698,
          1.592638390173549,
          1.2921437505082225,
          1.0896127715636381,
          1.0804757725250447,
          2.53235687317281,
          1.581145584725537,
          2.1719358849199395,
          3.837872283337805,
          2.4075075339394014,
          1.1821260049502502,
          2.319694489907256,
          1.3371298221204793,
          1.1138079827400216,
          0.9637856235311156,
          1.3580831715328276,
          1.8558918420648334,
          4.345436950802612,
          1.6367894122734725,
          4.430611680805852,
          1.3248290308806334,
          1.3303016934197578,
          1.321119793149992,
          0.8620155295031634,
          1.2623187953336872,
          2.510635736462858,
          1.3335531875425108,
          2.0867392373433282,
          1.8482822944194,
          1.3751513102651065,
          1.2068523674460425,
          1.6387895322616035,
          0.45334690290049495,
          1.6883336147222692,
          1.5504198620230378,
          1.4587663778405773,
          1.5401473184391552,
          0.9281777254175958,
          0.8186900958466454
         ],
         "yaxis": "y"
        }
       ],
       "layout": {
        "autosize": true,
        "barmode": "relative",
        "legend": {
         "tracegroupgap": 0
        },
        "template": {
         "data": {
          "bar": [
           {
            "error_x": {
             "color": "#2a3f5f"
            },
            "error_y": {
             "color": "#2a3f5f"
            },
            "marker": {
             "line": {
              "color": "#E5ECF6",
              "width": 0.5
             },
             "pattern": {
              "fillmode": "overlay",
              "size": 10,
              "solidity": 0.2
             }
            },
            "type": "bar"
           }
          ],
          "barpolar": [
           {
            "marker": {
             "line": {
              "color": "#E5ECF6",
              "width": 0.5
             },
             "pattern": {
              "fillmode": "overlay",
              "size": 10,
              "solidity": 0.2
             }
            },
            "type": "barpolar"
           }
          ],
          "carpet": [
           {
            "aaxis": {
             "endlinecolor": "#2a3f5f",
             "gridcolor": "white",
             "linecolor": "white",
             "minorgridcolor": "white",
             "startlinecolor": "#2a3f5f"
            },
            "baxis": {
             "endlinecolor": "#2a3f5f",
             "gridcolor": "white",
             "linecolor": "white",
             "minorgridcolor": "white",
             "startlinecolor": "#2a3f5f"
            },
            "type": "carpet"
           }
          ],
          "choropleth": [
           {
            "colorbar": {
             "outlinewidth": 0,
             "ticks": ""
            },
            "type": "choropleth"
           }
          ],
          "contour": [
           {
            "colorbar": {
             "outlinewidth": 0,
             "ticks": ""
            },
            "colorscale": [
             [
              0,
              "#0d0887"
             ],
             [
              0.1111111111111111,
              "#46039f"
             ],
             [
              0.2222222222222222,
              "#7201a8"
             ],
             [
              0.3333333333333333,
              "#9c179e"
             ],
             [
              0.4444444444444444,
              "#bd3786"
             ],
             [
              0.5555555555555556,
              "#d8576b"
             ],
             [
              0.6666666666666666,
              "#ed7953"
             ],
             [
              0.7777777777777778,
              "#fb9f3a"
             ],
             [
              0.8888888888888888,
              "#fdca26"
             ],
             [
              1,
              "#f0f921"
             ]
            ],
            "type": "contour"
           }
          ],
          "contourcarpet": [
           {
            "colorbar": {
             "outlinewidth": 0,
             "ticks": ""
            },
            "type": "contourcarpet"
           }
          ],
          "heatmap": [
           {
            "colorbar": {
             "outlinewidth": 0,
             "ticks": ""
            },
            "colorscale": [
             [
              0,
              "#0d0887"
             ],
             [
              0.1111111111111111,
              "#46039f"
             ],
             [
              0.2222222222222222,
              "#7201a8"
             ],
             [
              0.3333333333333333,
              "#9c179e"
             ],
             [
              0.4444444444444444,
              "#bd3786"
             ],
             [
              0.5555555555555556,
              "#d8576b"
             ],
             [
              0.6666666666666666,
              "#ed7953"
             ],
             [
              0.7777777777777778,
              "#fb9f3a"
             ],
             [
              0.8888888888888888,
              "#fdca26"
             ],
             [
              1,
              "#f0f921"
             ]
            ],
            "type": "heatmap"
           }
          ],
          "heatmapgl": [
           {
            "colorbar": {
             "outlinewidth": 0,
             "ticks": ""
            },
            "colorscale": [
             [
              0,
              "#0d0887"
             ],
             [
              0.1111111111111111,
              "#46039f"
             ],
             [
              0.2222222222222222,
              "#7201a8"
             ],
             [
              0.3333333333333333,
              "#9c179e"
             ],
             [
              0.4444444444444444,
              "#bd3786"
             ],
             [
              0.5555555555555556,
              "#d8576b"
             ],
             [
              0.6666666666666666,
              "#ed7953"
             ],
             [
              0.7777777777777778,
              "#fb9f3a"
             ],
             [
              0.8888888888888888,
              "#fdca26"
             ],
             [
              1,
              "#f0f921"
             ]
            ],
            "type": "heatmapgl"
           }
          ],
          "histogram": [
           {
            "marker": {
             "pattern": {
              "fillmode": "overlay",
              "size": 10,
              "solidity": 0.2
             }
            },
            "type": "histogram"
           }
          ],
          "histogram2d": [
           {
            "colorbar": {
             "outlinewidth": 0,
             "ticks": ""
            },
            "colorscale": [
             [
              0,
              "#0d0887"
             ],
             [
              0.1111111111111111,
              "#46039f"
             ],
             [
              0.2222222222222222,
              "#7201a8"
             ],
             [
              0.3333333333333333,
              "#9c179e"
             ],
             [
              0.4444444444444444,
              "#bd3786"
             ],
             [
              0.5555555555555556,
              "#d8576b"
             ],
             [
              0.6666666666666666,
              "#ed7953"
             ],
             [
              0.7777777777777778,
              "#fb9f3a"
             ],
             [
              0.8888888888888888,
              "#fdca26"
             ],
             [
              1,
              "#f0f921"
             ]
            ],
            "type": "histogram2d"
           }
          ],
          "histogram2dcontour": [
           {
            "colorbar": {
             "outlinewidth": 0,
             "ticks": ""
            },
            "colorscale": [
             [
              0,
              "#0d0887"
             ],
             [
              0.1111111111111111,
              "#46039f"
             ],
             [
              0.2222222222222222,
              "#7201a8"
             ],
             [
              0.3333333333333333,
              "#9c179e"
             ],
             [
              0.4444444444444444,
              "#bd3786"
             ],
             [
              0.5555555555555556,
              "#d8576b"
             ],
             [
              0.6666666666666666,
              "#ed7953"
             ],
             [
              0.7777777777777778,
              "#fb9f3a"
             ],
             [
              0.8888888888888888,
              "#fdca26"
             ],
             [
              1,
              "#f0f921"
             ]
            ],
            "type": "histogram2dcontour"
           }
          ],
          "mesh3d": [
           {
            "colorbar": {
             "outlinewidth": 0,
             "ticks": ""
            },
            "type": "mesh3d"
           }
          ],
          "parcoords": [
           {
            "line": {
             "colorbar": {
              "outlinewidth": 0,
              "ticks": ""
             }
            },
            "type": "parcoords"
           }
          ],
          "pie": [
           {
            "automargin": true,
            "type": "pie"
           }
          ],
          "scatter": [
           {
            "fillpattern": {
             "fillmode": "overlay",
             "size": 10,
             "solidity": 0.2
            },
            "type": "scatter"
           }
          ],
          "scatter3d": [
           {
            "line": {
             "colorbar": {
              "outlinewidth": 0,
              "ticks": ""
             }
            },
            "marker": {
             "colorbar": {
              "outlinewidth": 0,
              "ticks": ""
             }
            },
            "type": "scatter3d"
           }
          ],
          "scattercarpet": [
           {
            "marker": {
             "colorbar": {
              "outlinewidth": 0,
              "ticks": ""
             }
            },
            "type": "scattercarpet"
           }
          ],
          "scattergeo": [
           {
            "marker": {
             "colorbar": {
              "outlinewidth": 0,
              "ticks": ""
             }
            },
            "type": "scattergeo"
           }
          ],
          "scattergl": [
           {
            "marker": {
             "colorbar": {
              "outlinewidth": 0,
              "ticks": ""
             }
            },
            "type": "scattergl"
           }
          ],
          "scattermapbox": [
           {
            "marker": {
             "colorbar": {
              "outlinewidth": 0,
              "ticks": ""
             }
            },
            "type": "scattermapbox"
           }
          ],
          "scatterpolar": [
           {
            "marker": {
             "colorbar": {
              "outlinewidth": 0,
              "ticks": ""
             }
            },
            "type": "scatterpolar"
           }
          ],
          "scatterpolargl": [
           {
            "marker": {
             "colorbar": {
              "outlinewidth": 0,
              "ticks": ""
             }
            },
            "type": "scatterpolargl"
           }
          ],
          "scatterternary": [
           {
            "marker": {
             "colorbar": {
              "outlinewidth": 0,
              "ticks": ""
             }
            },
            "type": "scatterternary"
           }
          ],
          "surface": [
           {
            "colorbar": {
             "outlinewidth": 0,
             "ticks": ""
            },
            "colorscale": [
             [
              0,
              "#0d0887"
             ],
             [
              0.1111111111111111,
              "#46039f"
             ],
             [
              0.2222222222222222,
              "#7201a8"
             ],
             [
              0.3333333333333333,
              "#9c179e"
             ],
             [
              0.4444444444444444,
              "#bd3786"
             ],
             [
              0.5555555555555556,
              "#d8576b"
             ],
             [
              0.6666666666666666,
              "#ed7953"
             ],
             [
              0.7777777777777778,
              "#fb9f3a"
             ],
             [
              0.8888888888888888,
              "#fdca26"
             ],
             [
              1,
              "#f0f921"
             ]
            ],
            "type": "surface"
           }
          ],
          "table": [
           {
            "cells": {
             "fill": {
              "color": "#EBF0F8"
             },
             "line": {
              "color": "white"
             }
            },
            "header": {
             "fill": {
              "color": "#C8D4E3"
             },
             "line": {
              "color": "white"
             }
            },
            "type": "table"
           }
          ]
         },
         "layout": {
          "annotationdefaults": {
           "arrowcolor": "#2a3f5f",
           "arrowhead": 0,
           "arrowwidth": 1
          },
          "autotypenumbers": "strict",
          "coloraxis": {
           "colorbar": {
            "outlinewidth": 0,
            "ticks": ""
           }
          },
          "colorscale": {
           "diverging": [
            [
             0,
             "#8e0152"
            ],
            [
             0.1,
             "#c51b7d"
            ],
            [
             0.2,
             "#de77ae"
            ],
            [
             0.3,
             "#f1b6da"
            ],
            [
             0.4,
             "#fde0ef"
            ],
            [
             0.5,
             "#f7f7f7"
            ],
            [
             0.6,
             "#e6f5d0"
            ],
            [
             0.7,
             "#b8e186"
            ],
            [
             0.8,
             "#7fbc41"
            ],
            [
             0.9,
             "#4d9221"
            ],
            [
             1,
             "#276419"
            ]
           ],
           "sequential": [
            [
             0,
             "#0d0887"
            ],
            [
             0.1111111111111111,
             "#46039f"
            ],
            [
             0.2222222222222222,
             "#7201a8"
            ],
            [
             0.3333333333333333,
             "#9c179e"
            ],
            [
             0.4444444444444444,
             "#bd3786"
            ],
            [
             0.5555555555555556,
             "#d8576b"
            ],
            [
             0.6666666666666666,
             "#ed7953"
            ],
            [
             0.7777777777777778,
             "#fb9f3a"
            ],
            [
             0.8888888888888888,
             "#fdca26"
            ],
            [
             1,
             "#f0f921"
            ]
           ],
           "sequentialminus": [
            [
             0,
             "#0d0887"
            ],
            [
             0.1111111111111111,
             "#46039f"
            ],
            [
             0.2222222222222222,
             "#7201a8"
            ],
            [
             0.3333333333333333,
             "#9c179e"
            ],
            [
             0.4444444444444444,
             "#bd3786"
            ],
            [
             0.5555555555555556,
             "#d8576b"
            ],
            [
             0.6666666666666666,
             "#ed7953"
            ],
            [
             0.7777777777777778,
             "#fb9f3a"
            ],
            [
             0.8888888888888888,
             "#fdca26"
            ],
            [
             1,
             "#f0f921"
            ]
           ]
          },
          "colorway": [
           "#636efa",
           "#EF553B",
           "#00cc96",
           "#ab63fa",
           "#FFA15A",
           "#19d3f3",
           "#FF6692",
           "#B6E880",
           "#FF97FF",
           "#FECB52"
          ],
          "font": {
           "color": "#2a3f5f"
          },
          "geo": {
           "bgcolor": "white",
           "lakecolor": "white",
           "landcolor": "#E5ECF6",
           "showlakes": true,
           "showland": true,
           "subunitcolor": "white"
          },
          "hoverlabel": {
           "align": "left"
          },
          "hovermode": "closest",
          "mapbox": {
           "style": "light"
          },
          "paper_bgcolor": "white",
          "plot_bgcolor": "#E5ECF6",
          "polar": {
           "angularaxis": {
            "gridcolor": "white",
            "linecolor": "white",
            "ticks": ""
           },
           "bgcolor": "#E5ECF6",
           "radialaxis": {
            "gridcolor": "white",
            "linecolor": "white",
            "ticks": ""
           }
          },
          "scene": {
           "xaxis": {
            "backgroundcolor": "#E5ECF6",
            "gridcolor": "white",
            "gridwidth": 2,
            "linecolor": "white",
            "showbackground": true,
            "ticks": "",
            "zerolinecolor": "white"
           },
           "yaxis": {
            "backgroundcolor": "#E5ECF6",
            "gridcolor": "white",
            "gridwidth": 2,
            "linecolor": "white",
            "showbackground": true,
            "ticks": "",
            "zerolinecolor": "white"
           },
           "zaxis": {
            "backgroundcolor": "#E5ECF6",
            "gridcolor": "white",
            "gridwidth": 2,
            "linecolor": "white",
            "showbackground": true,
            "ticks": "",
            "zerolinecolor": "white"
           }
          },
          "shapedefaults": {
           "line": {
            "color": "#2a3f5f"
           }
          },
          "ternary": {
           "aaxis": {
            "gridcolor": "white",
            "linecolor": "white",
            "ticks": ""
           },
           "baxis": {
            "gridcolor": "white",
            "linecolor": "white",
            "ticks": ""
           },
           "bgcolor": "#E5ECF6",
           "caxis": {
            "gridcolor": "white",
            "linecolor": "white",
            "ticks": ""
           }
          },
          "title": {
           "x": 0.05
          },
          "xaxis": {
           "automargin": true,
           "gridcolor": "white",
           "linecolor": "white",
           "ticks": "",
           "title": {
            "standoff": 15
           },
           "zerolinecolor": "white",
           "zerolinewidth": 2
          },
          "yaxis": {
           "automargin": true,
           "gridcolor": "white",
           "linecolor": "white",
           "ticks": "",
           "title": {
            "standoff": 15
           },
           "zerolinecolor": "white",
           "zerolinewidth": 2
          }
         }
        },
        "title": {
         "text": "Case to fatality ratio in percent per state on 2020-12-15"
        },
        "xaxis": {
         "anchor": "y",
         "autorange": true,
         "domain": [
          0,
          1
         ],
         "range": [
          -0.5,
          51.5
         ],
         "title": {
          "text": "x"
         },
         "type": "category"
        },
        "yaxis": {
         "anchor": "x",
         "autorange": true,
         "domain": [
          0,
          1
         ],
         "range": [
          0,
          4.663801769269319
         ],
         "title": {
          "text": "y"
         },
         "type": "linear"
        }
       }
      },
      "image/png": "[encoded data removed]"
     },
     "metadata": {},
     "output_type": "display_data"
    }
   ],
   "source": [
    "date = '2020-12-15'\n",
    "print('Cause-specific mortality ratio per 1000 people in the US on {}:'.format(date),\n",
    "      mda.comp_csr(us_timeseries,date,state=False), 'Per 1000 people')\n",
    "mda.comp_csr(dfstates,date)\n",
    "\n",
    "\n",
    "print('Case to fatality ratio in percent in the US on {}:'.format(date),\n",
    "      mda.comp_cfr(us_timeseries,date,state=False),'%')\n",
    "mda.comp_cfr(dfstates,date)"
   ]
  },
  {
   "cell_type": "code",
   "execution_count": 22,
   "id": "9878dd4f",
   "metadata": {
    "ExecuteTime": {
     "end_time": "2022-06-02T16:11:43.642840Z",
     "start_time": "2022-06-02T16:11:43.640046Z"
    }
   },
   "outputs": [
    {
     "name": "stdout",
     "output_type": "stream",
     "text": [
      "Cause-specific mortality ratio per 1000 people in the US on 2022-05-15: 3.03 per 1000 people\n",
      "Case to fatality ratio in percent in the US on 2022-05-15: 1.211 %\n"
     ]
    }
   ],
   "source": [
    "date = '2022-05-15'\n",
    "print('Cause-specific mortality ratio per 1000 people in the US on {}:'.format(date),\n",
    "      mda.comp_csr(us_timeseries,date,state=False),'per 1000 people')\n",
    "print('Case to fatality ratio in percent in the US on {}:'.format(date),\n",
    "      mda.comp_cfr(us_timeseries,date,state=False),'%')"
   ]
  },
  {
   "cell_type": "markdown",
   "id": "c2d1ab18",
   "metadata": {
    "ExecuteTime": {
     "end_time": "2022-06-02T15:59:00.115741Z",
     "start_time": "2022-06-02T15:59:00.106453Z"
    }
   },
   "source": [
    "We can see that even tho the cause-specific mortality ratio increased since the begining of the vaccination campaign, the case to fatality decreased of 0.5%. Thus since people have been getting vaccinated there are less covid related deaths"
   ]
  },
  {
   "cell_type": "markdown",
   "id": "d2d2c5d2",
   "metadata": {},
   "source": [
    "## Some basic numbers "
   ]
  },
  {
   "cell_type": "code",
   "execution_count": 23,
   "id": "8a9767b8",
   "metadata": {
    "ExecuteTime": {
     "end_time": "2022-06-02T16:11:44.056495Z",
     "start_time": "2022-06-02T16:11:44.051916Z"
    }
   },
   "outputs": [
    {
     "name": "stdout",
     "output_type": "stream",
     "text": [
      "The state that has the most cases as of 2022-05-28 is California with a total of 9557347 cases.\n",
      "The state that has the most deaths as of 2022-05-29 is California with a total of 91463 deaths.\n"
     ]
    }
   ],
   "source": [
    "#state with the highest total cases, deaths \n",
    "h_c_state = dfstates[dfstates['cases']==dfstates['cases'].max()]\n",
    "date = h_c_state['date'].dt.strftime('%Y-%m-%d').values[0]\n",
    "state = h_c_state['state'].values[0]\n",
    "cases = h_c_state['cases'].values[0]\n",
    "h_d_state = dfstates[dfstates['deaths']==dfstates['deaths'].max()]\n",
    "date_d = h_d_state['date'].dt.strftime('%Y-%m-%d').values[0]\n",
    "state_d = h_d_state['state'].values[0]\n",
    "deaths = h_c_state['deaths'].values[0]\n",
    "print('The state that has the most cases as of {} is {} with a total of {} cases.'.format(date,state,cases))\n",
    "print('The state that has the most deaths as of {} is {} with a total of {} deaths.'.format(date_d,state_d,deaths))"
   ]
  },
  {
   "cell_type": "code",
   "execution_count": 24,
   "id": "fd06d503",
   "metadata": {
    "ExecuteTime": {
     "end_time": "2022-06-02T16:11:44.502916Z",
     "start_time": "2022-06-02T16:11:44.499435Z"
    }
   },
   "outputs": [
    {
     "name": "stdout",
     "output_type": "stream",
     "text": [
      "As of 2022-05-29, 83931049 people were tested positive and 1003167 people died of COVID-19 in the US.\n"
     ]
    }
   ],
   "source": [
    "last_upd = us_timeseries.iloc[-1]\n",
    "tot_cases = last_upd['cases']\n",
    "tot_deaths = last_upd['deaths']\n",
    "date = last_upd['date'].strftime('%Y-%m-%d')\n",
    "print('As of {}, {} people were tested positive and {} people died of COVID-19 in the US.'.format(date,tot_cases,tot_deaths))"
   ]
  },
  {
   "cell_type": "markdown",
   "id": "c3f7dc86",
   "metadata": {},
   "source": [
    "## Let's have a look at some stocks and the impact of covid "
   ]
  },
  {
   "cell_type": "code",
   "execution_count": 25,
   "id": "f891bcff",
   "metadata": {
    "ExecuteTime": {
     "end_time": "2022-06-02T16:11:46.035594Z",
     "start_time": "2022-06-02T16:11:44.898139Z"
    }
   },
   "outputs": [],
   "source": [
    "start_date = us_timeseries['date'].min()\n",
    "end_date = us_timeseries['date'].max()\n",
    "stocks = mda.get_stocks('^GSPC','^NDX',start_date,end_date,'sp500','nasdaq')\n",
    "dfsp500 = stocks[0]\n",
    "dfndx = stocks[1]\n",
    "dfstocks = stocks[2]"
   ]
  },
  {
   "cell_type": "code",
   "execution_count": 26,
   "id": "cfb3c3d4",
   "metadata": {
    "ExecuteTime": {
     "end_time": "2022-06-02T16:11:49.987520Z",
     "start_time": "2022-06-02T16:11:49.896405Z"
    }
   },
   "outputs": [
    {
     "data": {
      "application/vnd.plotly.v1+json": {
       "config": {
        "plotlyServerURL": "https://plot.ly"
       },
       "data": [
        {
         "hovertemplate": "name=sp500<br>Date=%{x}<br>Close=%{y}<extra></extra>",
         "legendgroup": "sp500",
         "line": {
          "color": "#636efa",
          "dash": "solid"
         },
         "marker": {
          "symbol": "circle"
         },
         "mode": "lines",
         "name": "sp500",
         "showlegend": true,
         "type": "scattergl",
         "x": [
          "2020-01-21T00:00:00",
          "2020-01-22T00:00:00",
          "2020-01-23T00:00:00",
          "2020-01-24T00:00:00",
          "2020-01-27T00:00:00",
          "2020-01-28T00:00:00",
          "2020-01-29T00:00:00",
          "2020-01-30T00:00:00",
          "2020-01-31T00:00:00",
          "2020-02-03T00:00:00",
          "2020-02-04T00:00:00",
          "2020-02-05T00:00:00",
          "2020-02-06T00:00:00",
          "2020-02-07T00:00:00",
          "2020-02-10T00:00:00",
          "2020-02-11T00:00:00",
          "2020-02-12T00:00:00",
          "2020-02-13T00:00:00",
          "2020-02-14T00:00:00",
          "2020-02-18T00:00:00",
          "2020-02-19T00:00:00",
          "2020-02-20T00:00:00",
          "2020-02-21T00:00:00",
          "2020-02-24T00:00:00",
          "2020-02-25T00:00:00",
          "2020-02-26T00:00:00",
          "2020-02-27T00:00:00",
          "2020-02-28T00:00:00",
          "2020-03-02T00:00:00",
          "2020-03-03T00:00:00",
          "2020-03-04T00:00:00",
          "2020-03-05T00:00:00",
          "2020-03-06T00:00:00",
          "2020-03-09T00:00:00",
          "2020-03-10T00:00:00",
          "2020-03-11T00:00:00",
          "2020-03-12T00:00:00",
          "2020-03-13T00:00:00",
          "2020-03-16T00:00:00",
          "2020-03-17T00:00:00",
          "2020-03-18T00:00:00",
          "2020-03-19T00:00:00",
          "2020-03-20T00:00:00",
          "2020-03-23T00:00:00",
          "2020-03-24T00:00:00",
          "2020-03-25T00:00:00",
          "2020-03-26T00:00:00",
          "2020-03-27T00:00:00",
          "2020-03-30T00:00:00",
          "2020-03-31T00:00:00",
          "2020-04-01T00:00:00",
          "2020-04-02T00:00:00",
          "2020-04-03T00:00:00",
          "2020-04-06T00:00:00",
          "2020-04-07T00:00:00",
          "2020-04-08T00:00:00",
          "2020-04-09T00:00:00",
          "2020-04-13T00:00:00",
          "2020-04-14T00:00:00",
          "2020-04-15T00:00:00",
          "2020-04-16T00:00:00",
          "2020-04-17T00:00:00",
          "2020-04-20T00:00:00",
          "2020-04-21T00:00:00",
          "2020-04-22T00:00:00",
          "2020-04-23T00:00:00",
          "2020-04-24T00:00:00",
          "2020-04-27T00:00:00",
          "2020-04-28T00:00:00",
          "2020-04-29T00:00:00",
          "2020-04-30T00:00:00",
          "2020-05-01T00:00:00",
          "2020-05-04T00:00:00",
          "2020-05-05T00:00:00",
          "2020-05-06T00:00:00",
          "2020-05-07T00:00:00",
          "2020-05-08T00:00:00",
          "2020-05-11T00:00:00",
          "2020-05-12T00:00:00",
          "2020-05-13T00:00:00",
          "2020-05-14T00:00:00",
          "2020-05-15T00:00:00",
          "2020-05-18T00:00:00",
          "2020-05-19T00:00:00",
          "2020-05-20T00:00:00",
          "2020-05-21T00:00:00",
          "2020-05-22T00:00:00",
          "2020-05-26T00:00:00",
          "2020-05-27T00:00:00",
          "2020-05-28T00:00:00",
          "2020-05-29T00:00:00",
          "2020-06-01T00:00:00",
          "2020-06-02T00:00:00",
          "2020-06-03T00:00:00",
          "2020-06-04T00:00:00",
          "2020-06-05T00:00:00",
          "2020-06-08T00:00:00",
          "2020-06-09T00:00:00",
          "2020-06-10T00:00:00",
          "2020-06-11T00:00:00",
          "2020-06-12T00:00:00",
          "2020-06-15T00:00:00",
          "2020-06-16T00:00:00",
          "2020-06-17T00:00:00",
          "2020-06-18T00:00:00",
          "2020-06-19T00:00:00",
          "2020-06-22T00:00:00",
          "2020-06-23T00:00:00",
          "2020-06-24T00:00:00",
          "2020-06-25T00:00:00",
          "2020-06-26T00:00:00",
          "2020-06-29T00:00:00",
          "2020-06-30T00:00:00",
          "2020-07-01T00:00:00",
          "2020-07-02T00:00:00",
          "2020-07-06T00:00:00",
          "2020-07-07T00:00:00",
          "2020-07-08T00:00:00",
          "2020-07-09T00:00:00",
          "2020-07-10T00:00:00",
          "2020-07-13T00:00:00",
          "2020-07-14T00:00:00",
          "2020-07-15T00:00:00",
          "2020-07-16T00:00:00",
          "2020-07-17T00:00:00",
          "2020-07-20T00:00:00",
          "2020-07-21T00:00:00",
          "2020-07-22T00:00:00",
          "2020-07-23T00:00:00",
          "2020-07-24T00:00:00",
          "2020-07-27T00:00:00",
          "2020-07-28T00:00:00",
          "2020-07-29T00:00:00",
          "2020-07-30T00:00:00",
          "2020-07-31T00:00:00",
          "2020-08-03T00:00:00",
          "2020-08-04T00:00:00",
          "2020-08-05T00:00:00",
          "2020-08-06T00:00:00",
          "2020-08-07T00:00:00",
          "2020-08-10T00:00:00",
          "2020-08-11T00:00:00",
          "2020-08-12T00:00:00",
          "2020-08-13T00:00:00",
          "2020-08-14T00:00:00",
          "2020-08-17T00:00:00",
          "2020-08-18T00:00:00",
          "2020-08-19T00:00:00",
          "2020-08-20T00:00:00",
          "2020-08-21T00:00:00",
          "2020-08-24T00:00:00",
          "2020-08-25T00:00:00",
          "2020-08-26T00:00:00",
          "2020-08-27T00:00:00",
          "2020-08-28T00:00:00",
          "2020-08-31T00:00:00",
          "2020-09-01T00:00:00",
          "2020-09-02T00:00:00",
          "2020-09-03T00:00:00",
          "2020-09-04T00:00:00",
          "2020-09-08T00:00:00",
          "2020-09-09T00:00:00",
          "2020-09-10T00:00:00",
          "2020-09-11T00:00:00",
          "2020-09-14T00:00:00",
          "2020-09-15T00:00:00",
          "2020-09-16T00:00:00",
          "2020-09-17T00:00:00",
          "2020-09-18T00:00:00",
          "2020-09-21T00:00:00",
          "2020-09-22T00:00:00",
          "2020-09-23T00:00:00",
          "2020-09-24T00:00:00",
          "2020-09-25T00:00:00",
          "2020-09-28T00:00:00",
          "2020-09-29T00:00:00",
          "2020-09-30T00:00:00",
          "2020-10-01T00:00:00",
          "2020-10-02T00:00:00",
          "2020-10-05T00:00:00",
          "2020-10-06T00:00:00",
          "2020-10-07T00:00:00",
          "2020-10-08T00:00:00",
          "2020-10-09T00:00:00",
          "2020-10-12T00:00:00",
          "2020-10-13T00:00:00",
          "2020-10-14T00:00:00",
          "2020-10-15T00:00:00",
          "2020-10-16T00:00:00",
          "2020-10-19T00:00:00",
          "2020-10-20T00:00:00",
          "2020-10-21T00:00:00",
          "2020-10-22T00:00:00",
          "2020-10-23T00:00:00",
          "2020-10-26T00:00:00",
          "2020-10-27T00:00:00",
          "2020-10-28T00:00:00",
          "2020-10-29T00:00:00",
          "2020-10-30T00:00:00",
          "2020-11-02T00:00:00",
          "2020-11-03T00:00:00",
          "2020-11-04T00:00:00",
          "2020-11-05T00:00:00",
          "2020-11-06T00:00:00",
          "2020-11-09T00:00:00",
          "2020-11-10T00:00:00",
          "2020-11-11T00:00:00",
          "2020-11-12T00:00:00",
          "2020-11-13T00:00:00",
          "2020-11-16T00:00:00",
          "2020-11-17T00:00:00",
          "2020-11-18T00:00:00",
          "2020-11-19T00:00:00",
          "2020-11-20T00:00:00",
          "2020-11-23T00:00:00",
          "2020-11-24T00:00:00",
          "2020-11-25T00:00:00",
          "2020-11-27T00:00:00",
          "2020-11-30T00:00:00",
          "2020-12-01T00:00:00",
          "2020-12-02T00:00:00",
          "2020-12-03T00:00:00",
          "2020-12-04T00:00:00",
          "2020-12-07T00:00:00",
          "2020-12-08T00:00:00",
          "2020-12-09T00:00:00",
          "2020-12-10T00:00:00",
          "2020-12-11T00:00:00",
          "2020-12-14T00:00:00",
          "2020-12-15T00:00:00",
          "2020-12-16T00:00:00",
          "2020-12-17T00:00:00",
          "2020-12-18T00:00:00",
          "2020-12-21T00:00:00",
          "2020-12-22T00:00:00",
          "2020-12-23T00:00:00",
          "2020-12-24T00:00:00",
          "2020-12-28T00:00:00",
          "2020-12-29T00:00:00",
          "2020-12-30T00:00:00",
          "2020-12-31T00:00:00",
          "2021-01-04T00:00:00",
          "2021-01-05T00:00:00",
          "2021-01-06T00:00:00",
          "2021-01-07T00:00:00",
          "2021-01-08T00:00:00",
          "2021-01-11T00:00:00",
          "2021-01-12T00:00:00",
          "2021-01-13T00:00:00",
          "2021-01-14T00:00:00",
          "2021-01-15T00:00:00",
          "2021-01-19T00:00:00",
          "2021-01-20T00:00:00",
          "2021-01-21T00:00:00",
          "2021-01-22T00:00:00",
          "2021-01-25T00:00:00",
          "2021-01-26T00:00:00",
          "2021-01-27T00:00:00",
          "2021-01-28T00:00:00",
          "2021-01-29T00:00:00",
          "2021-02-01T00:00:00",
          "2021-02-02T00:00:00",
          "2021-02-03T00:00:00",
          "2021-02-04T00:00:00",
          "2021-02-05T00:00:00",
          "2021-02-08T00:00:00",
          "2021-02-09T00:00:00",
          "2021-02-10T00:00:00",
          "2021-02-11T00:00:00",
          "2021-02-12T00:00:00",
          "2021-02-16T00:00:00",
          "2021-02-17T00:00:00",
          "2021-02-18T00:00:00",
          "2021-02-19T00:00:00",
          "2021-02-22T00:00:00",
          "2021-02-23T00:00:00",
          "2021-02-24T00:00:00",
          "2021-02-25T00:00:00",
          "2021-02-26T00:00:00",
          "2021-03-01T00:00:00",
          "2021-03-02T00:00:00",
          "2021-03-03T00:00:00",
          "2021-03-04T00:00:00",
          "2021-03-05T00:00:00",
          "2021-03-08T00:00:00",
          "2021-03-09T00:00:00",
          "2021-03-10T00:00:00",
          "2021-03-11T00:00:00",
          "2021-03-12T00:00:00",
          "2021-03-15T00:00:00",
          "2021-03-16T00:00:00",
          "2021-03-17T00:00:00",
          "2021-03-18T00:00:00",
          "2021-03-19T00:00:00",
          "2021-03-22T00:00:00",
          "2021-03-23T00:00:00",
          "2021-03-24T00:00:00",
          "2021-03-25T00:00:00",
          "2021-03-26T00:00:00",
          "2021-03-29T00:00:00",
          "2021-03-30T00:00:00",
          "2021-03-31T00:00:00",
          "2021-04-01T00:00:00",
          "2021-04-05T00:00:00",
          "2021-04-06T00:00:00",
          "2021-04-07T00:00:00",
          "2021-04-08T00:00:00",
          "2021-04-09T00:00:00",
          "2021-04-12T00:00:00",
          "2021-04-13T00:00:00",
          "2021-04-14T00:00:00",
          "2021-04-15T00:00:00",
          "2021-04-16T00:00:00",
          "2021-04-19T00:00:00",
          "2021-04-20T00:00:00",
          "2021-04-21T00:00:00",
          "2021-04-22T00:00:00",
          "2021-04-23T00:00:00",
          "2021-04-26T00:00:00",
          "2021-04-27T00:00:00",
          "2021-04-28T00:00:00",
          "2021-04-29T00:00:00",
          "2021-04-30T00:00:00",
          "2021-05-03T00:00:00",
          "2021-05-04T00:00:00",
          "2021-05-05T00:00:00",
          "2021-05-06T00:00:00",
          "2021-05-07T00:00:00",
          "2021-05-10T00:00:00",
          "2021-05-11T00:00:00",
          "2021-05-12T00:00:00",
          "2021-05-13T00:00:00",
          "2021-05-14T00:00:00",
          "2021-05-17T00:00:00",
          "2021-05-18T00:00:00",
          "2021-05-19T00:00:00",
          "2021-05-20T00:00:00",
          "2021-05-21T00:00:00",
          "2021-05-24T00:00:00",
          "2021-05-25T00:00:00",
          "2021-05-26T00:00:00",
          "2021-05-27T00:00:00",
          "2021-05-28T00:00:00",
          "2021-06-01T00:00:00",
          "2021-06-02T00:00:00",
          "2021-06-03T00:00:00",
          "2021-06-04T00:00:00",
          "2021-06-07T00:00:00",
          "2021-06-08T00:00:00",
          "2021-06-09T00:00:00",
          "2021-06-10T00:00:00",
          "2021-06-11T00:00:00",
          "2021-06-14T00:00:00",
          "2021-06-15T00:00:00",
          "2021-06-16T00:00:00",
          "2021-06-17T00:00:00",
          "2021-06-18T00:00:00",
          "2021-06-21T00:00:00",
          "2021-06-22T00:00:00",
          "2021-06-23T00:00:00",
          "2021-06-24T00:00:00",
          "2021-06-25T00:00:00",
          "2021-06-28T00:00:00",
          "2021-06-29T00:00:00",
          "2021-06-30T00:00:00",
          "2021-07-01T00:00:00",
          "2021-07-02T00:00:00",
          "2021-07-06T00:00:00",
          "2021-07-07T00:00:00",
          "2021-07-08T00:00:00",
          "2021-07-09T00:00:00",
          "2021-07-12T00:00:00",
          "2021-07-13T00:00:00",
          "2021-07-14T00:00:00",
          "2021-07-15T00:00:00",
          "2021-07-16T00:00:00",
          "2021-07-19T00:00:00",
          "2021-07-20T00:00:00",
          "2021-07-21T00:00:00",
          "2021-07-22T00:00:00",
          "2021-07-23T00:00:00",
          "2021-07-26T00:00:00",
          "2021-07-27T00:00:00",
          "2021-07-28T00:00:00",
          "2021-07-29T00:00:00",
          "2021-07-30T00:00:00",
          "2021-08-02T00:00:00",
          "2021-08-03T00:00:00",
          "2021-08-04T00:00:00",
          "2021-08-05T00:00:00",
          "2021-08-06T00:00:00",
          "2021-08-09T00:00:00",
          "2021-08-10T00:00:00",
          "2021-08-11T00:00:00",
          "2021-08-12T00:00:00",
          "2021-08-13T00:00:00",
          "2021-08-16T00:00:00",
          "2021-08-17T00:00:00",
          "2021-08-18T00:00:00",
          "2021-08-19T00:00:00",
          "2021-08-20T00:00:00",
          "2021-08-23T00:00:00",
          "2021-08-24T00:00:00",
          "2021-08-25T00:00:00",
          "2021-08-26T00:00:00",
          "2021-08-27T00:00:00",
          "2021-08-30T00:00:00",
          "2021-08-31T00:00:00",
          "2021-09-01T00:00:00",
          "2021-09-02T00:00:00",
          "2021-09-03T00:00:00",
          "2021-09-07T00:00:00",
          "2021-09-08T00:00:00",
          "2021-09-09T00:00:00",
          "2021-09-10T00:00:00",
          "2021-09-13T00:00:00",
          "2021-09-14T00:00:00",
          "2021-09-15T00:00:00",
          "2021-09-16T00:00:00",
          "2021-09-17T00:00:00",
          "2021-09-20T00:00:00",
          "2021-09-21T00:00:00",
          "2021-09-22T00:00:00",
          "2021-09-23T00:00:00",
          "2021-09-24T00:00:00",
          "2021-09-27T00:00:00",
          "2021-09-28T00:00:00",
          "2021-09-29T00:00:00",
          "2021-09-30T00:00:00",
          "2021-10-01T00:00:00",
          "2021-10-04T00:00:00",
          "2021-10-05T00:00:00",
          "2021-10-06T00:00:00",
          "2021-10-07T00:00:00",
          "2021-10-08T00:00:00",
          "2021-10-11T00:00:00",
          "2021-10-12T00:00:00",
          "2021-10-13T00:00:00",
          "2021-10-14T00:00:00",
          "2021-10-15T00:00:00",
          "2021-10-18T00:00:00",
          "2021-10-19T00:00:00",
          "2021-10-20T00:00:00",
          "2021-10-21T00:00:00",
          "2021-10-22T00:00:00",
          "2021-10-25T00:00:00",
          "2021-10-26T00:00:00",
          "2021-10-27T00:00:00",
          "2021-10-28T00:00:00",
          "2021-10-29T00:00:00",
          "2021-11-01T00:00:00",
          "2021-11-02T00:00:00",
          "2021-11-03T00:00:00",
          "2021-11-04T00:00:00",
          "2021-11-05T00:00:00",
          "2021-11-08T00:00:00",
          "2021-11-09T00:00:00",
          "2021-11-10T00:00:00",
          "2021-11-11T00:00:00",
          "2021-11-12T00:00:00",
          "2021-11-15T00:00:00",
          "2021-11-16T00:00:00",
          "2021-11-17T00:00:00",
          "2021-11-18T00:00:00",
          "2021-11-19T00:00:00",
          "2021-11-22T00:00:00",
          "2021-11-23T00:00:00",
          "2021-11-24T00:00:00",
          "2021-11-26T00:00:00",
          "2021-11-29T00:00:00",
          "2021-11-30T00:00:00",
          "2021-12-01T00:00:00",
          "2021-12-02T00:00:00",
          "2021-12-03T00:00:00",
          "2021-12-06T00:00:00",
          "2021-12-07T00:00:00",
          "2021-12-08T00:00:00",
          "2021-12-09T00:00:00",
          "2021-12-10T00:00:00",
          "2021-12-13T00:00:00",
          "2021-12-14T00:00:00",
          "2021-12-15T00:00:00",
          "2021-12-16T00:00:00",
          "2021-12-17T00:00:00",
          "2021-12-20T00:00:00",
          "2021-12-21T00:00:00",
          "2021-12-22T00:00:00",
          "2021-12-23T00:00:00",
          "2021-12-27T00:00:00",
          "2021-12-28T00:00:00",
          "2021-12-29T00:00:00",
          "2021-12-30T00:00:00",
          "2021-12-31T00:00:00",
          "2022-01-03T00:00:00",
          "2022-01-04T00:00:00",
          "2022-01-05T00:00:00",
          "2022-01-06T00:00:00",
          "2022-01-07T00:00:00",
          "2022-01-10T00:00:00",
          "2022-01-11T00:00:00",
          "2022-01-12T00:00:00",
          "2022-01-13T00:00:00",
          "2022-01-14T00:00:00",
          "2022-01-18T00:00:00",
          "2022-01-19T00:00:00",
          "2022-01-20T00:00:00",
          "2022-01-21T00:00:00",
          "2022-01-24T00:00:00",
          "2022-01-25T00:00:00",
          "2022-01-26T00:00:00",
          "2022-01-27T00:00:00",
          "2022-01-28T00:00:00",
          "2022-01-31T00:00:00",
          "2022-02-01T00:00:00",
          "2022-02-02T00:00:00",
          "2022-02-03T00:00:00",
          "2022-02-04T00:00:00",
          "2022-02-07T00:00:00",
          "2022-02-08T00:00:00",
          "2022-02-09T00:00:00",
          "2022-02-10T00:00:00",
          "2022-02-11T00:00:00",
          "2022-02-14T00:00:00",
          "2022-02-15T00:00:00",
          "2022-02-16T00:00:00",
          "2022-02-17T00:00:00",
          "2022-02-18T00:00:00",
          "2022-02-22T00:00:00",
          "2022-02-23T00:00:00",
          "2022-02-24T00:00:00",
          "2022-02-25T00:00:00",
          "2022-02-28T00:00:00",
          "2022-03-01T00:00:00",
          "2022-03-02T00:00:00",
          "2022-03-03T00:00:00",
          "2022-03-04T00:00:00",
          "2022-03-07T00:00:00",
          "2022-03-08T00:00:00",
          "2022-03-09T00:00:00",
          "2022-03-10T00:00:00",
          "2022-03-11T00:00:00",
          "2022-03-14T00:00:00",
          "2022-03-15T00:00:00",
          "2022-03-16T00:00:00",
          "2022-03-17T00:00:00",
          "2022-03-18T00:00:00",
          "2022-03-21T00:00:00",
          "2022-03-22T00:00:00",
          "2022-03-23T00:00:00",
          "2022-03-24T00:00:00",
          "2022-03-25T00:00:00",
          "2022-03-28T00:00:00",
          "2022-03-29T00:00:00",
          "2022-03-30T00:00:00",
          "2022-03-31T00:00:00",
          "2022-04-01T00:00:00",
          "2022-04-04T00:00:00",
          "2022-04-05T00:00:00",
          "2022-04-06T00:00:00",
          "2022-04-07T00:00:00",
          "2022-04-08T00:00:00",
          "2022-04-11T00:00:00",
          "2022-04-12T00:00:00",
          "2022-04-13T00:00:00",
          "2022-04-14T00:00:00",
          "2022-04-18T00:00:00",
          "2022-04-19T00:00:00",
          "2022-04-20T00:00:00",
          "2022-04-21T00:00:00",
          "2022-04-22T00:00:00",
          "2022-04-25T00:00:00",
          "2022-04-26T00:00:00",
          "2022-04-27T00:00:00",
          "2022-04-28T00:00:00",
          "2022-04-29T00:00:00",
          "2022-05-02T00:00:00",
          "2022-05-03T00:00:00",
          "2022-05-04T00:00:00",
          "2022-05-05T00:00:00",
          "2022-05-06T00:00:00",
          "2022-05-09T00:00:00",
          "2022-05-10T00:00:00",
          "2022-05-11T00:00:00",
          "2022-05-12T00:00:00",
          "2022-05-13T00:00:00",
          "2022-05-16T00:00:00",
          "2022-05-17T00:00:00",
          "2022-05-18T00:00:00",
          "2022-05-19T00:00:00",
          "2022-05-20T00:00:00",
          "2022-05-23T00:00:00",
          "2022-05-24T00:00:00",
          "2022-05-25T00:00:00",
          "2022-05-26T00:00:00",
          "2022-05-27T00:00:00"
         ],
         "xaxis": "x",
         "y": [
          3320.7900390625,
          3321.75,
          3325.5400390625,
          3295.469970703125,
          3243.6298828125,
          3276.239990234375,
          3273.39990234375,
          3283.659912109375,
          3225.52001953125,
          3248.919921875,
          3297.590087890625,
          3334.68994140625,
          3345.780029296875,
          3327.7099609375,
          3352.090087890625,
          3357.75,
          3379.449951171875,
          3373.93994140625,
          3380.159912109375,
          3370.2900390625,
          3386.14990234375,
          3373.22998046875,
          3337.75,
          3225.889892578125,
          3128.2099609375,
          3116.389892578125,
          2978.760009765625,
          2954.219970703125,
          3090.22998046875,
          3003.3701171875,
          3130.1201171875,
          3023.93994140625,
          2972.3701171875,
          2746.56005859375,
          2882.22998046875,
          2741.3798828125,
          2480.639892578125,
          2711.02001953125,
          2386.1298828125,
          2529.18994140625,
          2398.10009765625,
          2409.389892578125,
          2304.919921875,
          2237.39990234375,
          2447.330078125,
          2475.56005859375,
          2630.070068359375,
          2541.469970703125,
          2626.64990234375,
          2584.590087890625,
          2470.5,
          2526.89990234375,
          2488.64990234375,
          2663.679931640625,
          2659.409912109375,
          2749.97998046875,
          2789.820068359375,
          2761.6298828125,
          2846.06005859375,
          2783.360107421875,
          2799.550048828125,
          2874.56005859375,
          2823.159912109375,
          2736.56005859375,
          2799.31005859375,
          2797.800048828125,
          2836.739990234375,
          2878.47998046875,
          2863.389892578125,
          2939.510009765625,
          2912.429931640625,
          2830.7099609375,
          2842.739990234375,
          2868.43994140625,
          2848.419921875,
          2881.18994140625,
          2929.800048828125,
          2930.18994140625,
          2870.1201171875,
          2820,
          2852.5,
          2863.699951171875,
          2953.909912109375,
          2922.93994140625,
          2971.610107421875,
          2948.510009765625,
          2955.449951171875,
          2991.77001953125,
          3036.1298828125,
          3029.72998046875,
          3044.31005859375,
          3055.72998046875,
          3080.820068359375,
          3122.8701171875,
          3112.35009765625,
          3193.929931640625,
          3232.389892578125,
          3207.179931640625,
          3190.139892578125,
          3002.10009765625,
          3041.31005859375,
          3066.590087890625,
          3124.739990234375,
          3113.489990234375,
          3115.340087890625,
          3097.739990234375,
          3117.860107421875,
          3131.2900390625,
          3050.330078125,
          3083.760009765625,
          3009.050048828125,
          3053.239990234375,
          3100.2900390625,
          3115.860107421875,
          3130.010009765625,
          3179.719970703125,
          3145.320068359375,
          3169.93994140625,
          3152.050048828125,
          3185.0400390625,
          3155.219970703125,
          3197.52001953125,
          3226.56005859375,
          3215.570068359375,
          3224.72998046875,
          3251.840087890625,
          3257.300048828125,
          3276.02001953125,
          3235.659912109375,
          3215.6298828125,
          3239.409912109375,
          3218.43994140625,
          3258.43994140625,
          3246.219970703125,
          3271.1201171875,
          3294.610107421875,
          3306.510009765625,
          3327.77001953125,
          3349.159912109375,
          3351.280029296875,
          3360.469970703125,
          3333.68994140625,
          3380.35009765625,
          3373.429931640625,
          3372.85009765625,
          3381.989990234375,
          3389.780029296875,
          3374.85009765625,
          3385.510009765625,
          3397.159912109375,
          3431.280029296875,
          3443.6201171875,
          3478.72998046875,
          3484.550048828125,
          3508.010009765625,
          3500.31005859375,
          3526.64990234375,
          3580.840087890625,
          3455.06005859375,
          3426.9599609375,
          3331.840087890625,
          3398.9599609375,
          3339.18994140625,
          3340.969970703125,
          3383.5400390625,
          3401.199951171875,
          3385.489990234375,
          3357.010009765625,
          3319.469970703125,
          3281.06005859375,
          3315.570068359375,
          3236.919921875,
          3246.590087890625,
          3298.4599609375,
          3351.60009765625,
          3335.469970703125,
          3363,
          3380.800048828125,
          3348.419921875,
          3408.60009765625,
          3360.969970703125,
          3419.43994140625,
          3446.830078125,
          3477.139892578125,
          3534.219970703125,
          3511.929931640625,
          3488.669921875,
          3483.340087890625,
          3483.81005859375,
          3426.919921875,
          3443.1201171875,
          3435.56005859375,
          3453.489990234375,
          3465.389892578125,
          3400.969970703125,
          3390.679931640625,
          3271.030029296875,
          3310.110107421875,
          3269.9599609375,
          3310.239990234375,
          3369.159912109375,
          3443.43994140625,
          3510.449951171875,
          3509.43994140625,
          3550.5,
          3545.530029296875,
          3572.659912109375,
          3537.010009765625,
          3585.14990234375,
          3626.909912109375,
          3609.530029296875,
          3567.7900390625,
          3581.8701171875,
          3557.5400390625,
          3577.590087890625,
          3635.409912109375,
          3629.64990234375,
          3638.35009765625,
          3621.6298828125,
          3662.449951171875,
          3669.010009765625,
          3666.719970703125,
          3699.1201171875,
          3691.9599609375,
          3702.25,
          3672.820068359375,
          3668.10009765625,
          3663.4599609375,
          3647.489990234375,
          3694.6201171875,
          3701.169921875,
          3722.47998046875,
          3709.409912109375,
          3694.919921875,
          3687.260009765625,
          3690.010009765625,
          3703.06005859375,
          3735.360107421875,
          3727.0400390625,
          3732.0400390625,
          3756.070068359375,
          3700.64990234375,
          3726.860107421875,
          3748.139892578125,
          3803.7900390625,
          3824.679931640625,
          3799.610107421875,
          3801.18994140625,
          3809.840087890625,
          3795.5400390625,
          3768.25,
          3798.909912109375,
          3851.85009765625,
          3853.070068359375,
          3841.469970703125,
          3855.360107421875,
          3849.6201171875,
          3750.77001953125,
          3787.3798828125,
          3714.239990234375,
          3773.860107421875,
          3826.31005859375,
          3830.169921875,
          3871.739990234375,
          3886.830078125,
          3915.590087890625,
          3911.22998046875,
          3909.8798828125,
          3916.3798828125,
          3934.830078125,
          3932.590087890625,
          3931.330078125,
          3913.969970703125,
          3906.7099609375,
          3876.5,
          3881.3701171875,
          3925.429931640625,
          3829.340087890625,
          3811.14990234375,
          3901.820068359375,
          3870.2900390625,
          3819.719970703125,
          3768.469970703125,
          3841.93994140625,
          3821.35009765625,
          3875.43994140625,
          3898.81005859375,
          3939.340087890625,
          3943.340087890625,
          3968.93994140625,
          3962.7099609375,
          3974.1201171875,
          3915.4599609375,
          3913.10009765625,
          3940.590087890625,
          3910.52001953125,
          3889.139892578125,
          3909.52001953125,
          3974.5400390625,
          3971.090087890625,
          3958.550048828125,
          3972.889892578125,
          4019.8701171875,
          4077.909912109375,
          4073.93994140625,
          4079.949951171875,
          4097.169921875,
          4128.7998046875,
          4127.990234375,
          4141.58984375,
          4124.66015625,
          4170.419921875,
          4185.47021484375,
          4163.259765625,
          4134.93994140625,
          4173.419921875,
          4134.97998046875,
          4180.169921875,
          4187.6201171875,
          4186.72021484375,
          4183.18017578125,
          4211.47021484375,
          4181.169921875,
          4192.66015625,
          4164.66015625,
          4167.58984375,
          4201.6201171875,
          4232.60009765625,
          4188.43017578125,
          4152.10009765625,
          4063.0400390625,
          4112.5,
          4173.85009765625,
          4163.2900390625,
          4127.830078125,
          4115.68017578125,
          4159.1201171875,
          4155.85986328125,
          4197.0498046875,
          4188.1298828125,
          4195.990234375,
          4200.8798828125,
          4204.10986328125,
          4202.0400390625,
          4208.1201171875,
          4192.85009765625,
          4229.89013671875,
          4226.52001953125,
          4227.259765625,
          4219.5498046875,
          4239.18017578125,
          4247.43994140625,
          4255.14990234375,
          4246.58984375,
          4223.7001953125,
          4221.85986328125,
          4166.4501953125,
          4224.7900390625,
          4246.43994140625,
          4241.83984375,
          4266.490234375,
          4280.7001953125,
          4290.60986328125,
          4291.7998046875,
          4297.5,
          4319.93994140625,
          4352.33984375,
          4343.5400390625,
          4358.1298828125,
          4320.81982421875,
          4369.5498046875,
          4384.6298828125,
          4369.2099609375,
          4374.2998046875,
          4360.02978515625,
          4327.16015625,
          4258.490234375,
          4323.06005859375,
          4358.68994140625,
          4367.47998046875,
          4411.7900390625,
          4422.2998046875,
          4401.4599609375,
          4400.64013671875,
          4419.14990234375,
          4395.259765625,
          4387.16015625,
          4423.14990234375,
          4402.66015625,
          4429.10009765625,
          4436.52001953125,
          4432.35009765625,
          4436.75,
          4442.41015625,
          4460.830078125,
          4468,
          4479.7099609375,
          4448.080078125,
          4400.27001953125,
          4405.7998046875,
          4441.669921875,
          4479.52978515625,
          4486.22998046875,
          4496.18994140625,
          4470,
          4509.3701171875,
          4528.7900390625,
          4522.68017578125,
          4524.08984375,
          4536.9501953125,
          4535.43017578125,
          4520.02978515625,
          4514.06982421875,
          4493.27978515625,
          4458.580078125,
          4468.72998046875,
          4443.0498046875,
          4480.7001953125,
          4473.75,
          4432.990234375,
          4357.72998046875,
          4354.18994140625,
          4395.64013671875,
          4448.97998046875,
          4455.47998046875,
          4443.10986328125,
          4352.6298828125,
          4359.4599609375,
          4307.5400390625,
          4357.0400390625,
          4300.4599609375,
          4345.72021484375,
          4363.5498046875,
          4399.759765625,
          4391.33984375,
          4361.18994140625,
          4350.64990234375,
          4363.7998046875,
          4438.259765625,
          4471.3701171875,
          4486.4599609375,
          4519.6298828125,
          4536.18994140625,
          4549.77978515625,
          4544.89990234375,
          4566.47998046875,
          4574.7900390625,
          4551.68017578125,
          4596.419921875,
          4605.3798828125,
          4613.669921875,
          4630.64990234375,
          4660.56982421875,
          4680.06005859375,
          4697.52978515625,
          4701.7001953125,
          4685.25,
          4646.7099609375,
          4649.27001953125,
          4682.85009765625,
          4682.7998046875,
          4700.89990234375,
          4688.669921875,
          4704.5400390625,
          4697.9599609375,
          4682.93994140625,
          4690.7001953125,
          4701.4599609375,
          4594.6201171875,
          4655.27001953125,
          4567,
          4513.0400390625,
          4577.10009765625,
          4538.43017578125,
          4591.669921875,
          4686.75,
          4701.2099609375,
          4667.4501953125,
          4712.02001953125,
          4668.97021484375,
          4634.08984375,
          4709.85009765625,
          4668.669921875,
          4620.64013671875,
          4568.02001953125,
          4649.22998046875,
          4696.56005859375,
          4725.7900390625,
          4791.18994140625,
          4786.35009765625,
          4793.06005859375,
          4778.72998046875,
          4766.18017578125,
          4796.56005859375,
          4793.5400390625,
          4700.580078125,
          4696.0498046875,
          4677.02978515625,
          4670.2900390625,
          4713.06982421875,
          4726.35009765625,
          4659.02978515625,
          4662.85009765625,
          4577.10986328125,
          4532.759765625,
          4482.72998046875,
          4397.93994140625,
          4410.1298828125,
          4356.4501953125,
          4349.93017578125,
          4326.509765625,
          4431.85009765625,
          4515.5498046875,
          4546.5400390625,
          4589.3798828125,
          4477.43994140625,
          4500.52978515625,
          4483.8701171875,
          4521.5400390625,
          4587.18017578125,
          4504.080078125,
          4418.64013671875,
          4401.669921875,
          4471.06982421875,
          4475.009765625,
          4380.259765625,
          4348.8701171875,
          4304.759765625,
          4225.5,
          4288.7001953125,
          4384.64990234375,
          4373.93994140625,
          4306.259765625,
          4386.5400390625,
          4363.490234375,
          4328.8701171875,
          4201.08984375,
          4170.7001953125,
          4277.8798828125,
          4259.52001953125,
          4204.31005859375,
          4173.10986328125,
          4262.4501953125,
          4357.85986328125,
          4411.669921875,
          4463.1201171875,
          4461.18017578125,
          4511.60986328125,
          4456.240234375,
          4520.16015625,
          4543.06005859375,
          4575.52001953125,
          4631.60009765625,
          4602.4501953125,
          4530.41015625,
          4545.85986328125,
          4582.64013671875,
          4525.1201171875,
          4481.14990234375,
          4500.2099609375,
          4488.27978515625,
          4412.52978515625,
          4397.4501953125,
          4446.58984375,
          4392.58984375,
          4391.68994140625,
          4462.2099609375,
          4459.4501953125,
          4393.66015625,
          4271.77978515625,
          4296.1201171875,
          4175.2001953125,
          4183.9599609375,
          4287.5,
          4131.93017578125,
          4155.3798828125,
          4175.47998046875,
          4300.169921875,
          4146.8701171875,
          4123.33984375,
          3991.239990234375,
          4001.050048828125,
          3935.179931640625,
          3930.080078125,
          4023.889892578125,
          4008.010009765625,
          4088.85009765625,
          3923.679931640625,
          3900.7900390625,
          3901.360107421875,
          3973.75,
          3941.47998046875,
          3978.72998046875,
          4057.840087890625,
          4158.240234375
         ],
         "yaxis": "y"
        },
        {
         "hovertemplate": "name=nasdaq<br>Date=%{x}<br>Close=%{y}<extra></extra>",
         "legendgroup": "nasdaq",
         "line": {
          "color": "#EF553B",
          "dash": "solid"
         },
         "marker": {
          "symbol": "circle"
         },
         "mode": "lines",
         "name": "nasdaq",
         "showlegend": true,
         "type": "scattergl",
         "x": [
          "2020-01-21T00:00:00",
          "2020-01-22T00:00:00",
          "2020-01-23T00:00:00",
          "2020-01-24T00:00:00",
          "2020-01-27T00:00:00",
          "2020-01-28T00:00:00",
          "2020-01-29T00:00:00",
          "2020-01-30T00:00:00",
          "2020-01-31T00:00:00",
          "2020-02-03T00:00:00",
          "2020-02-04T00:00:00",
          "2020-02-05T00:00:00",
          "2020-02-06T00:00:00",
          "2020-02-07T00:00:00",
          "2020-02-10T00:00:00",
          "2020-02-11T00:00:00",
          "2020-02-12T00:00:00",
          "2020-02-13T00:00:00",
          "2020-02-14T00:00:00",
          "2020-02-18T00:00:00",
          "2020-02-19T00:00:00",
          "2020-02-20T00:00:00",
          "2020-02-21T00:00:00",
          "2020-02-24T00:00:00",
          "2020-02-25T00:00:00",
          "2020-02-26T00:00:00",
          "2020-02-27T00:00:00",
          "2020-02-28T00:00:00",
          "2020-03-02T00:00:00",
          "2020-03-03T00:00:00",
          "2020-03-04T00:00:00",
          "2020-03-05T00:00:00",
          "2020-03-06T00:00:00",
          "2020-03-09T00:00:00",
          "2020-03-10T00:00:00",
          "2020-03-11T00:00:00",
          "2020-03-12T00:00:00",
          "2020-03-13T00:00:00",
          "2020-03-16T00:00:00",
          "2020-03-17T00:00:00",
          "2020-03-18T00:00:00",
          "2020-03-19T00:00:00",
          "2020-03-20T00:00:00",
          "2020-03-23T00:00:00",
          "2020-03-24T00:00:00",
          "2020-03-25T00:00:00",
          "2020-03-26T00:00:00",
          "2020-03-27T00:00:00",
          "2020-03-30T00:00:00",
          "2020-03-31T00:00:00",
          "2020-04-01T00:00:00",
          "2020-04-02T00:00:00",
          "2020-04-03T00:00:00",
          "2020-04-06T00:00:00",
          "2020-04-07T00:00:00",
          "2020-04-08T00:00:00",
          "2020-04-09T00:00:00",
          "2020-04-13T00:00:00",
          "2020-04-14T00:00:00",
          "2020-04-15T00:00:00",
          "2020-04-16T00:00:00",
          "2020-04-17T00:00:00",
          "2020-04-20T00:00:00",
          "2020-04-21T00:00:00",
          "2020-04-22T00:00:00",
          "2020-04-23T00:00:00",
          "2020-04-24T00:00:00",
          "2020-04-27T00:00:00",
          "2020-04-28T00:00:00",
          "2020-04-29T00:00:00",
          "2020-04-30T00:00:00",
          "2020-05-01T00:00:00",
          "2020-05-04T00:00:00",
          "2020-05-05T00:00:00",
          "2020-05-06T00:00:00",
          "2020-05-07T00:00:00",
          "2020-05-08T00:00:00",
          "2020-05-11T00:00:00",
          "2020-05-12T00:00:00",
          "2020-05-13T00:00:00",
          "2020-05-14T00:00:00",
          "2020-05-15T00:00:00",
          "2020-05-18T00:00:00",
          "2020-05-19T00:00:00",
          "2020-05-20T00:00:00",
          "2020-05-21T00:00:00",
          "2020-05-22T00:00:00",
          "2020-05-26T00:00:00",
          "2020-05-27T00:00:00",
          "2020-05-28T00:00:00",
          "2020-05-29T00:00:00",
          "2020-06-01T00:00:00",
          "2020-06-02T00:00:00",
          "2020-06-03T00:00:00",
          "2020-06-04T00:00:00",
          "2020-06-05T00:00:00",
          "2020-06-08T00:00:00",
          "2020-06-09T00:00:00",
          "2020-06-10T00:00:00",
          "2020-06-11T00:00:00",
          "2020-06-12T00:00:00",
          "2020-06-15T00:00:00",
          "2020-06-16T00:00:00",
          "2020-06-17T00:00:00",
          "2020-06-18T00:00:00",
          "2020-06-19T00:00:00",
          "2020-06-22T00:00:00",
          "2020-06-23T00:00:00",
          "2020-06-24T00:00:00",
          "2020-06-25T00:00:00",
          "2020-06-26T00:00:00",
          "2020-06-29T00:00:00",
          "2020-06-30T00:00:00",
          "2020-07-01T00:00:00",
          "2020-07-02T00:00:00",
          "2020-07-06T00:00:00",
          "2020-07-07T00:00:00",
          "2020-07-08T00:00:00",
          "2020-07-09T00:00:00",
          "2020-07-10T00:00:00",
          "2020-07-13T00:00:00",
          "2020-07-14T00:00:00",
          "2020-07-15T00:00:00",
          "2020-07-16T00:00:00",
          "2020-07-17T00:00:00",
          "2020-07-20T00:00:00",
          "2020-07-21T00:00:00",
          "2020-07-22T00:00:00",
          "2020-07-23T00:00:00",
          "2020-07-24T00:00:00",
          "2020-07-27T00:00:00",
          "2020-07-28T00:00:00",
          "2020-07-29T00:00:00",
          "2020-07-30T00:00:00",
          "2020-07-31T00:00:00",
          "2020-08-03T00:00:00",
          "2020-08-04T00:00:00",
          "2020-08-05T00:00:00",
          "2020-08-06T00:00:00",
          "2020-08-07T00:00:00",
          "2020-08-10T00:00:00",
          "2020-08-11T00:00:00",
          "2020-08-12T00:00:00",
          "2020-08-13T00:00:00",
          "2020-08-14T00:00:00",
          "2020-08-17T00:00:00",
          "2020-08-18T00:00:00",
          "2020-08-19T00:00:00",
          "2020-08-20T00:00:00",
          "2020-08-21T00:00:00",
          "2020-08-24T00:00:00",
          "2020-08-25T00:00:00",
          "2020-08-26T00:00:00",
          "2020-08-27T00:00:00",
          "2020-08-28T00:00:00",
          "2020-08-31T00:00:00",
          "2020-09-01T00:00:00",
          "2020-09-02T00:00:00",
          "2020-09-03T00:00:00",
          "2020-09-04T00:00:00",
          "2020-09-08T00:00:00",
          "2020-09-09T00:00:00",
          "2020-09-10T00:00:00",
          "2020-09-11T00:00:00",
          "2020-09-14T00:00:00",
          "2020-09-15T00:00:00",
          "2020-09-16T00:00:00",
          "2020-09-17T00:00:00",
          "2020-09-18T00:00:00",
          "2020-09-21T00:00:00",
          "2020-09-22T00:00:00",
          "2020-09-23T00:00:00",
          "2020-09-24T00:00:00",
          "2020-09-25T00:00:00",
          "2020-09-28T00:00:00",
          "2020-09-29T00:00:00",
          "2020-09-30T00:00:00",
          "2020-10-01T00:00:00",
          "2020-10-02T00:00:00",
          "2020-10-05T00:00:00",
          "2020-10-06T00:00:00",
          "2020-10-07T00:00:00",
          "2020-10-08T00:00:00",
          "2020-10-09T00:00:00",
          "2020-10-12T00:00:00",
          "2020-10-13T00:00:00",
          "2020-10-14T00:00:00",
          "2020-10-15T00:00:00",
          "2020-10-16T00:00:00",
          "2020-10-19T00:00:00",
          "2020-10-20T00:00:00",
          "2020-10-21T00:00:00",
          "2020-10-22T00:00:00",
          "2020-10-23T00:00:00",
          "2020-10-26T00:00:00",
          "2020-10-27T00:00:00",
          "2020-10-28T00:00:00",
          "2020-10-29T00:00:00",
          "2020-10-30T00:00:00",
          "2020-11-02T00:00:00",
          "2020-11-03T00:00:00",
          "2020-11-04T00:00:00",
          "2020-11-05T00:00:00",
          "2020-11-06T00:00:00",
          "2020-11-09T00:00:00",
          "2020-11-10T00:00:00",
          "2020-11-11T00:00:00",
          "2020-11-12T00:00:00",
          "2020-11-13T00:00:00",
          "2020-11-16T00:00:00",
          "2020-11-17T00:00:00",
          "2020-11-18T00:00:00",
          "2020-11-19T00:00:00",
          "2020-11-20T00:00:00",
          "2020-11-23T00:00:00",
          "2020-11-24T00:00:00",
          "2020-11-25T00:00:00",
          "2020-11-27T00:00:00",
          "2020-11-30T00:00:00",
          "2020-12-01T00:00:00",
          "2020-12-02T00:00:00",
          "2020-12-03T00:00:00",
          "2020-12-04T00:00:00",
          "2020-12-07T00:00:00",
          "2020-12-08T00:00:00",
          "2020-12-09T00:00:00",
          "2020-12-10T00:00:00",
          "2020-12-11T00:00:00",
          "2020-12-14T00:00:00",
          "2020-12-15T00:00:00",
          "2020-12-16T00:00:00",
          "2020-12-17T00:00:00",
          "2020-12-18T00:00:00",
          "2020-12-21T00:00:00",
          "2020-12-22T00:00:00",
          "2020-12-23T00:00:00",
          "2020-12-24T00:00:00",
          "2020-12-28T00:00:00",
          "2020-12-29T00:00:00",
          "2020-12-30T00:00:00",
          "2020-12-31T00:00:00",
          "2021-01-04T00:00:00",
          "2021-01-05T00:00:00",
          "2021-01-06T00:00:00",
          "2021-01-07T00:00:00",
          "2021-01-08T00:00:00",
          "2021-01-11T00:00:00",
          "2021-01-12T00:00:00",
          "2021-01-13T00:00:00",
          "2021-01-14T00:00:00",
          "2021-01-15T00:00:00",
          "2021-01-19T00:00:00",
          "2021-01-20T00:00:00",
          "2021-01-21T00:00:00",
          "2021-01-22T00:00:00",
          "2021-01-25T00:00:00",
          "2021-01-26T00:00:00",
          "2021-01-27T00:00:00",
          "2021-01-28T00:00:00",
          "2021-01-29T00:00:00",
          "2021-02-01T00:00:00",
          "2021-02-02T00:00:00",
          "2021-02-03T00:00:00",
          "2021-02-04T00:00:00",
          "2021-02-05T00:00:00",
          "2021-02-08T00:00:00",
          "2021-02-09T00:00:00",
          "2021-02-10T00:00:00",
          "2021-02-11T00:00:00",
          "2021-02-12T00:00:00",
          "2021-02-16T00:00:00",
          "2021-02-17T00:00:00",
          "2021-02-18T00:00:00",
          "2021-02-19T00:00:00",
          "2021-02-22T00:00:00",
          "2021-02-23T00:00:00",
          "2021-02-24T00:00:00",
          "2021-02-25T00:00:00",
          "2021-02-26T00:00:00",
          "2021-03-01T00:00:00",
          "2021-03-02T00:00:00",
          "2021-03-03T00:00:00",
          "2021-03-04T00:00:00",
          "2021-03-05T00:00:00",
          "2021-03-08T00:00:00",
          "2021-03-09T00:00:00",
          "2021-03-10T00:00:00",
          "2021-03-11T00:00:00",
          "2021-03-12T00:00:00",
          "2021-03-15T00:00:00",
          "2021-03-16T00:00:00",
          "2021-03-17T00:00:00",
          "2021-03-18T00:00:00",
          "2021-03-19T00:00:00",
          "2021-03-22T00:00:00",
          "2021-03-23T00:00:00",
          "2021-03-24T00:00:00",
          "2021-03-25T00:00:00",
          "2021-03-26T00:00:00",
          "2021-03-29T00:00:00",
          "2021-03-30T00:00:00",
          "2021-03-31T00:00:00",
          "2021-04-01T00:00:00",
          "2021-04-05T00:00:00",
          "2021-04-06T00:00:00",
          "2021-04-07T00:00:00",
          "2021-04-08T00:00:00",
          "2021-04-09T00:00:00",
          "2021-04-12T00:00:00",
          "2021-04-13T00:00:00",
          "2021-04-14T00:00:00",
          "2021-04-15T00:00:00",
          "2021-04-16T00:00:00",
          "2021-04-19T00:00:00",
          "2021-04-20T00:00:00",
          "2021-04-21T00:00:00",
          "2021-04-22T00:00:00",
          "2021-04-23T00:00:00",
          "2021-04-26T00:00:00",
          "2021-04-27T00:00:00",
          "2021-04-28T00:00:00",
          "2021-04-29T00:00:00",
          "2021-04-30T00:00:00",
          "2021-05-03T00:00:00",
          "2021-05-04T00:00:00",
          "2021-05-05T00:00:00",
          "2021-05-06T00:00:00",
          "2021-05-07T00:00:00",
          "2021-05-10T00:00:00",
          "2021-05-11T00:00:00",
          "2021-05-12T00:00:00",
          "2021-05-13T00:00:00",
          "2021-05-14T00:00:00",
          "2021-05-17T00:00:00",
          "2021-05-18T00:00:00",
          "2021-05-19T00:00:00",
          "2021-05-20T00:00:00",
          "2021-05-21T00:00:00",
          "2021-05-24T00:00:00",
          "2021-05-25T00:00:00",
          "2021-05-26T00:00:00",
          "2021-05-27T00:00:00",
          "2021-05-28T00:00:00",
          "2021-06-01T00:00:00",
          "2021-06-02T00:00:00",
          "2021-06-03T00:00:00",
          "2021-06-04T00:00:00",
          "2021-06-07T00:00:00",
          "2021-06-08T00:00:00",
          "2021-06-09T00:00:00",
          "2021-06-10T00:00:00",
          "2021-06-11T00:00:00",
          "2021-06-14T00:00:00",
          "2021-06-15T00:00:00",
          "2021-06-16T00:00:00",
          "2021-06-17T00:00:00",
          "2021-06-18T00:00:00",
          "2021-06-21T00:00:00",
          "2021-06-22T00:00:00",
          "2021-06-23T00:00:00",
          "2021-06-24T00:00:00",
          "2021-06-25T00:00:00",
          "2021-06-28T00:00:00",
          "2021-06-29T00:00:00",
          "2021-06-30T00:00:00",
          "2021-07-01T00:00:00",
          "2021-07-02T00:00:00",
          "2021-07-06T00:00:00",
          "2021-07-07T00:00:00",
          "2021-07-08T00:00:00",
          "2021-07-09T00:00:00",
          "2021-07-12T00:00:00",
          "2021-07-13T00:00:00",
          "2021-07-14T00:00:00",
          "2021-07-15T00:00:00",
          "2021-07-16T00:00:00",
          "2021-07-19T00:00:00",
          "2021-07-20T00:00:00",
          "2021-07-21T00:00:00",
          "2021-07-22T00:00:00",
          "2021-07-23T00:00:00",
          "2021-07-26T00:00:00",
          "2021-07-27T00:00:00",
          "2021-07-28T00:00:00",
          "2021-07-29T00:00:00",
          "2021-07-30T00:00:00",
          "2021-08-02T00:00:00",
          "2021-08-03T00:00:00",
          "2021-08-04T00:00:00",
          "2021-08-05T00:00:00",
          "2021-08-06T00:00:00",
          "2021-08-09T00:00:00",
          "2021-08-10T00:00:00",
          "2021-08-11T00:00:00",
          "2021-08-12T00:00:00",
          "2021-08-13T00:00:00",
          "2021-08-16T00:00:00",
          "2021-08-17T00:00:00",
          "2021-08-18T00:00:00",
          "2021-08-19T00:00:00",
          "2021-08-20T00:00:00",
          "2021-08-23T00:00:00",
          "2021-08-24T00:00:00",
          "2021-08-25T00:00:00",
          "2021-08-26T00:00:00",
          "2021-08-27T00:00:00",
          "2021-08-30T00:00:00",
          "2021-08-31T00:00:00",
          "2021-09-01T00:00:00",
          "2021-09-02T00:00:00",
          "2021-09-03T00:00:00",
          "2021-09-07T00:00:00",
          "2021-09-08T00:00:00",
          "2021-09-09T00:00:00",
          "2021-09-10T00:00:00",
          "2021-09-13T00:00:00",
          "2021-09-14T00:00:00",
          "2021-09-15T00:00:00",
          "2021-09-16T00:00:00",
          "2021-09-17T00:00:00",
          "2021-09-20T00:00:00",
          "2021-09-21T00:00:00",
          "2021-09-22T00:00:00",
          "2021-09-23T00:00:00",
          "2021-09-24T00:00:00",
          "2021-09-27T00:00:00",
          "2021-09-28T00:00:00",
          "2021-09-29T00:00:00",
          "2021-09-30T00:00:00",
          "2021-10-01T00:00:00",
          "2021-10-04T00:00:00",
          "2021-10-05T00:00:00",
          "2021-10-06T00:00:00",
          "2021-10-07T00:00:00",
          "2021-10-08T00:00:00",
          "2021-10-11T00:00:00",
          "2021-10-12T00:00:00",
          "2021-10-13T00:00:00",
          "2021-10-14T00:00:00",
          "2021-10-15T00:00:00",
          "2021-10-18T00:00:00",
          "2021-10-19T00:00:00",
          "2021-10-20T00:00:00",
          "2021-10-21T00:00:00",
          "2021-10-22T00:00:00",
          "2021-10-25T00:00:00",
          "2021-10-26T00:00:00",
          "2021-10-27T00:00:00",
          "2021-10-28T00:00:00",
          "2021-10-29T00:00:00",
          "2021-11-01T00:00:00",
          "2021-11-02T00:00:00",
          "2021-11-03T00:00:00",
          "2021-11-04T00:00:00",
          "2021-11-05T00:00:00",
          "2021-11-08T00:00:00",
          "2021-11-09T00:00:00",
          "2021-11-10T00:00:00",
          "2021-11-11T00:00:00",
          "2021-11-12T00:00:00",
          "2021-11-15T00:00:00",
          "2021-11-16T00:00:00",
          "2021-11-17T00:00:00",
          "2021-11-18T00:00:00",
          "2021-11-19T00:00:00",
          "2021-11-22T00:00:00",
          "2021-11-23T00:00:00",
          "2021-11-24T00:00:00",
          "2021-11-26T00:00:00",
          "2021-11-29T00:00:00",
          "2021-11-30T00:00:00",
          "2021-12-01T00:00:00",
          "2021-12-02T00:00:00",
          "2021-12-03T00:00:00",
          "2021-12-06T00:00:00",
          "2021-12-07T00:00:00",
          "2021-12-08T00:00:00",
          "2021-12-09T00:00:00",
          "2021-12-10T00:00:00",
          "2021-12-13T00:00:00",
          "2021-12-14T00:00:00",
          "2021-12-15T00:00:00",
          "2021-12-16T00:00:00",
          "2021-12-17T00:00:00",
          "2021-12-20T00:00:00",
          "2021-12-21T00:00:00",
          "2021-12-22T00:00:00",
          "2021-12-23T00:00:00",
          "2021-12-27T00:00:00",
          "2021-12-28T00:00:00",
          "2021-12-29T00:00:00",
          "2021-12-30T00:00:00",
          "2021-12-31T00:00:00",
          "2022-01-03T00:00:00",
          "2022-01-04T00:00:00",
          "2022-01-05T00:00:00",
          "2022-01-06T00:00:00",
          "2022-01-07T00:00:00",
          "2022-01-10T00:00:00",
          "2022-01-11T00:00:00",
          "2022-01-12T00:00:00",
          "2022-01-13T00:00:00",
          "2022-01-14T00:00:00",
          "2022-01-18T00:00:00",
          "2022-01-19T00:00:00",
          "2022-01-20T00:00:00",
          "2022-01-21T00:00:00",
          "2022-01-24T00:00:00",
          "2022-01-25T00:00:00",
          "2022-01-26T00:00:00",
          "2022-01-27T00:00:00",
          "2022-01-28T00:00:00",
          "2022-01-31T00:00:00",
          "2022-02-01T00:00:00",
          "2022-02-02T00:00:00",
          "2022-02-03T00:00:00",
          "2022-02-04T00:00:00",
          "2022-02-07T00:00:00",
          "2022-02-08T00:00:00",
          "2022-02-09T00:00:00",
          "2022-02-10T00:00:00",
          "2022-02-11T00:00:00",
          "2022-02-14T00:00:00",
          "2022-02-15T00:00:00",
          "2022-02-16T00:00:00",
          "2022-02-17T00:00:00",
          "2022-02-18T00:00:00",
          "2022-02-22T00:00:00",
          "2022-02-23T00:00:00",
          "2022-02-24T00:00:00",
          "2022-02-25T00:00:00",
          "2022-02-28T00:00:00",
          "2022-03-01T00:00:00",
          "2022-03-02T00:00:00",
          "2022-03-03T00:00:00",
          "2022-03-04T00:00:00",
          "2022-03-07T00:00:00",
          "2022-03-08T00:00:00",
          "2022-03-09T00:00:00",
          "2022-03-10T00:00:00",
          "2022-03-11T00:00:00",
          "2022-03-14T00:00:00",
          "2022-03-15T00:00:00",
          "2022-03-16T00:00:00",
          "2022-03-17T00:00:00",
          "2022-03-18T00:00:00",
          "2022-03-21T00:00:00",
          "2022-03-22T00:00:00",
          "2022-03-23T00:00:00",
          "2022-03-24T00:00:00",
          "2022-03-25T00:00:00",
          "2022-03-28T00:00:00",
          "2022-03-29T00:00:00",
          "2022-03-30T00:00:00",
          "2022-03-31T00:00:00",
          "2022-04-01T00:00:00",
          "2022-04-04T00:00:00",
          "2022-04-05T00:00:00",
          "2022-04-06T00:00:00",
          "2022-04-07T00:00:00",
          "2022-04-08T00:00:00",
          "2022-04-11T00:00:00",
          "2022-04-12T00:00:00",
          "2022-04-13T00:00:00",
          "2022-04-14T00:00:00",
          "2022-04-18T00:00:00",
          "2022-04-19T00:00:00",
          "2022-04-20T00:00:00",
          "2022-04-21T00:00:00",
          "2022-04-22T00:00:00",
          "2022-04-25T00:00:00",
          "2022-04-26T00:00:00",
          "2022-04-27T00:00:00",
          "2022-04-28T00:00:00",
          "2022-04-29T00:00:00",
          "2022-05-02T00:00:00",
          "2022-05-03T00:00:00",
          "2022-05-04T00:00:00",
          "2022-05-05T00:00:00",
          "2022-05-06T00:00:00",
          "2022-05-09T00:00:00",
          "2022-05-10T00:00:00",
          "2022-05-11T00:00:00",
          "2022-05-12T00:00:00",
          "2022-05-13T00:00:00",
          "2022-05-16T00:00:00",
          "2022-05-17T00:00:00",
          "2022-05-18T00:00:00",
          "2022-05-19T00:00:00",
          "2022-05-20T00:00:00",
          "2022-05-23T00:00:00",
          "2022-05-24T00:00:00",
          "2022-05-25T00:00:00",
          "2022-05-26T00:00:00",
          "2022-05-27T00:00:00"
         ],
         "xaxis": "x",
         "y": [
          9166.6298828125,
          9188.580078125,
          9216.98046875,
          9141.4697265625,
          8952.1796875,
          9090.9296875,
          9101.6103515625,
          9136.08984375,
          8991.509765625,
          9126.23046875,
          9334.0595703125,
          9367.48046875,
          9445.919921875,
          9401.099609375,
          9516.83984375,
          9517.8603515625,
          9613.2001953125,
          9595.7001953125,
          9623.580078125,
          9629.7998046875,
          9718.73046875,
          9627.830078125,
          9446.6904296875,
          9079.6298828125,
          8834.8701171875,
          8873.759765625,
          8436.669921875,
          8461.830078125,
          8877.98046875,
          8594.490234375,
          8949.2802734375,
          8671.66015625,
          8530.33984375,
          7948.02978515625,
          8372.26953125,
          8006.1201171875,
          7263.64990234375,
          7995.259765625,
          7020.3798828125,
          7473.9501953125,
          7175.18017578125,
          7288.52001953125,
          6994.2900390625,
          7006.919921875,
          7553.830078125,
          7469.6201171875,
          7897.1298828125,
          7588.3701171875,
          7889.009765625,
          7813.5,
          7486.2900390625,
          7635.66015625,
          7528.10986328125,
          8081.66015625,
          8049.31005859375,
          8229.5400390625,
          8238.5302734375,
          8332.740234375,
          8692.16015625,
          8591.9599609375,
          8757.830078125,
          8832.41015625,
          8726.509765625,
          8403,
          8664.6396484375,
          8641.5,
          8786.599609375,
          8837.66015625,
          8677.599609375,
          8982.759765625,
          9000.509765625,
          8718.1796875,
          8834.1103515625,
          8930.6201171875,
          8984.8603515625,
          9101.8798828125,
          9220.349609375,
          9298.919921875,
          9112.4501953125,
          9000.080078125,
          9094.419921875,
          9152.6396484375,
          9331.9296875,
          9298.5400390625,
          9485.01953125,
          9377.990234375,
          9413.990234375,
          9389.98046875,
          9442.0498046875,
          9416.7099609375,
          9555.5302734375,
          9598.8896484375,
          9657.3095703125,
          9704.6904296875,
          9629.66015625,
          9824.3896484375,
          9901.51953125,
          9967.169921875,
          10094.259765625,
          9588.48046875,
          9663.7802734375,
          9776.8896484375,
          9949.3701171875,
          9982.48046875,
          10012.0498046875,
          10008.6396484375,
          10130.330078125,
          10209.8203125,
          10002.7001953125,
          10101.830078125,
          9849.3603515625,
          9961.16015625,
          10156.849609375,
          10279.25,
          10341.8896484375,
          10604.0595703125,
          10524.009765625,
          10666.7001953125,
          10754.58984375,
          10836.330078125,
          10602.2099609375,
          10689.51953125,
          10701.6796875,
          10626.4599609375,
          10645.2197265625,
          10952.080078125,
          10833.0703125,
          10870.75,
          10580.58984375,
          10483.1298828125,
          10674.3798828125,
          10532.5,
          10662.98046875,
          10715.509765625,
          10905.8798828125,
          11055.080078125,
          11096.5400390625,
          11125.4404296875,
          11267.080078125,
          11139.3896484375,
          11085.169921875,
          10876.080078125,
          11157.7197265625,
          11178.3701171875,
          11164.4501953125,
          11288.5703125,
          11399.0302734375,
          11318.6396484375,
          11477.0498046875,
          11555.16015625,
          11626.169921875,
          11721.8095703125,
          11971.9404296875,
          11926.16015625,
          11995.849609375,
          12110.7001953125,
          12292.8603515625,
          12420.5400390625,
          11771.3701171875,
          11622.1298828125,
          11068.259765625,
          11395.849609375,
          11154.1201171875,
          11087.400390625,
          11277.759765625,
          11438.8701171875,
          11247.599609375,
          11080.9501953125,
          10936.98046875,
          10980.2197265625,
          11186.3701171875,
          10833.330078125,
          10896.4697265625,
          11151.1298828125,
          11364.4501953125,
          11322.9501953125,
          11418.0595703125,
          11583.2001953125,
          11255.6904296875,
          11509.0595703125,
          11291.26953125,
          11503.1904296875,
          11550.9404296875,
          11725.849609375,
          12088.1103515625,
          12083.169921875,
          11985.3603515625,
          11898.5703125,
          11852.169921875,
          11634.349609375,
          11677.83984375,
          11665.3701171875,
          11662.91015625,
          11692.5703125,
          11504.51953125,
          11598.9501953125,
          11142.759765625,
          11350.740234375,
          11052.9501953125,
          11084.759765625,
          11279.91015625,
          11777.01953125,
          12078.0703125,
          12091.349609375,
          11830.3896484375,
          11624.2900390625,
          11892.9296875,
          11827.1396484375,
          11937.83984375,
          12013.3798828125,
          11977.490234375,
          11894.7099609375,
          11985.4296875,
          11906.4404296875,
          11905.9404296875,
          12079.8095703125,
          12152.2197265625,
          12258.2099609375,
          12268.3203125,
          12455.330078125,
          12456.41015625,
          12467.1298828125,
          12528.48046875,
          12596.4697265625,
          12635.7197265625,
          12364.6396484375,
          12401.740234375,
          12375.41015625,
          12462.2099609375,
          12595.919921875,
          12668.16015625,
          12752.0595703125,
          12738.1796875,
          12690.259765625,
          12717.5595703125,
          12653.1396484375,
          12711.009765625,
          12838.8603515625,
          12843.490234375,
          12845.3603515625,
          12888.2802734375,
          12694.66015625,
          12802.3798828125,
          12623.349609375,
          12939.5703125,
          13105.2001953125,
          12902.490234375,
          12892.08984375,
          12973.6298828125,
          12898.6904296875,
          12803.9296875,
          12996.5400390625,
          13296.4501953125,
          13404.990234375,
          13366.400390625,
          13483.2900390625,
          13490.1904296875,
          13112.650390625,
          13201.5302734375,
          12925.3798828125,
          13248.900390625,
          13456.1201171875,
          13402.3701171875,
          13560.8896484375,
          13603.9599609375,
          13695.01953125,
          13687.080078125,
          13655.26953125,
          13734.349609375,
          13807.7001953125,
          13773.76953125,
          13699.7099609375,
          13637.509765625,
          13580.7802734375,
          13223.740234375,
          13194.7099609375,
          13302.1904296875,
          12828.3095703125,
          12909.4404296875,
          13282.9501953125,
          13059.9501953125,
          12683.330078125,
          12464,
          12668.509765625,
          12299.080078125,
          12794.490234375,
          12752.0703125,
          13052.900390625,
          12937.2900390625,
          13082.5400390625,
          13152.2802734375,
          13202.3798828125,
          12789.1396484375,
          12866.990234375,
          13086.509765625,
          13017.7900390625,
          12798.8798828125,
          12780.509765625,
          12979.1201171875,
          12965.740234375,
          12896.5302734375,
          13091.4404296875,
          13329.51953125,
          13598.16015625,
          13578.4599609375,
          13616.7001953125,
          13758.509765625,
          13845.0595703125,
          13819.349609375,
          13986.490234375,
          13803.91015625,
          14026.1904296875,
          14041.91015625,
          13907.669921875,
          13809.2998046875,
          13935.150390625,
          13762.3603515625,
          13941.4404296875,
          14026.16015625,
          13960.2802734375,
          13901.6201171875,
          13970.2001953125,
          13860.759765625,
          13799.7197265625,
          13544.669921875,
          13503.3701171875,
          13613.73046875,
          13719.6298828125,
          13359.080078125,
          13351.26953125,
          13001.6298828125,
          13109.150390625,
          13393.1201171875,
          13312.91015625,
          13217.6796875,
          13237.91015625,
          13494.08984375,
          13411.740234375,
          13641.75,
          13657.73046875,
          13702.740234375,
          13657.849609375,
          13686.509765625,
          13654.58984375,
          13675.7900390625,
          13529.6796875,
          13770.76953125,
          13802.8896484375,
          13810.8603515625,
          13814.9404296875,
          13960.349609375,
          13998.2998046875,
          14128.2001953125,
          14030.41015625,
          13983.009765625,
          14163.8095703125,
          14049.580078125,
          14137.23046875,
          14270.419921875,
          14274.240234375,
          14365.9599609375,
          14345.1796875,
          14524.98046875,
          14572.75,
          14554.7998046875,
          14560.0498046875,
          14727.6298828125,
          14786.3603515625,
          14810.5400390625,
          14722.1396484375,
          14826.08984375,
          14877.8896484375,
          14874.5400390625,
          14900.4404296875,
          14794.6904296875,
          14681.3798828125,
          14549.08984375,
          14728.2099609375,
          14842.6298828125,
          14940.169921875,
          15111.7900390625,
          15125.9501953125,
          14956.9697265625,
          15018.099609375,
          15048.3603515625,
          14959.900390625,
          14963.6201171875,
          15061.419921875,
          15083.3896484375,
          15181.6396484375,
          15109.3603515625,
          15133.1103515625,
          15053.580078125,
          15027.759765625,
          15088.98046875,
          15136.6796875,
          15140.76953125,
          15002.830078125,
          14857.919921875,
          14933.9404296875,
          15092.5703125,
          15312.8203125,
          15357.6796875,
          15368.919921875,
          15278.51953125,
          15432.9501953125,
          15605.08984375,
          15582.509765625,
          15611.5703125,
          15604.25,
          15652.8603515625,
          15675.759765625,
          15620.849609375,
          15561.0498046875,
          15440.75,
          15434.5,
          15382.900390625,
          15503.5302734375,
          15515.91015625,
          15333.4697265625,
          15012.1904296875,
          15027.76953125,
          15176.509765625,
          15316.580078125,
          15329.6796875,
          15204.8203125,
          14770.2998046875,
          14752.8896484375,
          14689.6201171875,
          14791.8701171875,
          14472.1201171875,
          14674.150390625,
          14766.75,
          14897.1298828125,
          14820.75,
          14713.73046875,
          14662.1103515625,
          14774.599609375,
          15052.419921875,
          15146.919921875,
          15300.8896484375,
          15410.7197265625,
          15388.7099609375,
          15489.58984375,
          15355.0703125,
          15514.1904296875,
          15559.490234375,
          15598.3896484375,
          15778.16015625,
          15850.4697265625,
          15905.2802734375,
          15972.490234375,
          16144.5,
          16346.240234375,
          16359.3798828125,
          16336.0302734375,
          16219.9404296875,
          15985.5703125,
          16032.4697265625,
          16199.8896484375,
          16189.1201171875,
          16309.76953125,
          16308.0703125,
          16482.970703125,
          16573.33984375,
          16380.98046875,
          16306.7197265625,
          16367.8095703125,
          16025.580078125,
          16399.240234375,
          16135.919921875,
          15877.7197265625,
          15990.759765625,
          15712.0400390625,
          15846.16015625,
          16325.66015625,
          16394.33984375,
          16149.5703125,
          16331.98046875,
          16082.5498046875,
          15914.900390625,
          16289.58984375,
          15863.9404296875,
          15801.4599609375,
          15627.6396484375,
          15986.2802734375,
          16180.1396484375,
          16308.2099609375,
          16567.5,
          16488.66015625,
          16491.009765625,
          16429.099609375,
          16320.080078125,
          16501.76953125,
          16279.73046875,
          15771.7802734375,
          15765.3603515625,
          15592.1904296875,
          15614.4296875,
          15844.1201171875,
          15905.099609375,
          15495.6201171875,
          15611.58984375,
          15210.759765625,
          15047.83984375,
          14846.4599609375,
          14438.400390625,
          14509.580078125,
          14149.1201171875,
          14172.759765625,
          14003.1103515625,
          14454.6103515625,
          14930.0498046875,
          15019.6796875,
          15139.740234375,
          14501.1103515625,
          14694.349609375,
          14571.25,
          14747.0302734375,
          15056.9599609375,
          14705.6396484375,
          14253.83984375,
          14268.58984375,
          14620.8203125,
          14603.6396484375,
          14171.740234375,
          14009.5400390625,
          13870.5302734375,
          13509.4296875,
          13974.669921875,
          14189.16015625,
          14237.8095703125,
          14005.990234375,
          14243.6904296875,
          14035.2099609375,
          13837.830078125,
          13319.3798828125,
          13267.6103515625,
          13742.2001953125,
          13591,
          13301.830078125,
          13046.6396484375,
          13458.5595703125,
          13956.7900390625,
          14118.599609375,
          14420.080078125,
          14376.08984375,
          14654.330078125,
          14447.5498046875,
          14765.6904296875,
          14754.3095703125,
          14987.400390625,
          15239.3203125,
          15071.5498046875,
          14838.490234375,
          14861.2099609375,
          15159.580078125,
          14820.6396484375,
          14498.8896484375,
          14531.8095703125,
          14327.259765625,
          13990.2099609375,
          13940.240234375,
          14217.2900390625,
          13893.2099609375,
          13910.759765625,
          14210.259765625,
          13998.5302734375,
          13720.4501953125,
          13356.8701171875,
          13533.2197265625,
          13009.7099609375,
          13003.3603515625,
          13456.0595703125,
          12854.7998046875,
          13075.849609375,
          13089.900390625,
          13535.7099609375,
          12850.5498046875,
          12693.5302734375,
          12187.7197265625,
          12345.8603515625,
          11967.5595703125,
          11945.5,
          12387.400390625,
          12243.580078125,
          12564.099609375,
          11928.3095703125,
          11875.6298828125,
          11835.6201171875,
          12034.2802734375,
          11769.83984375,
          11943.9296875,
          12276.7900390625,
          12681.419921875
         ],
         "yaxis": "y"
        }
       ],
       "layout": {
        "annotations": [
         {
          "arrowhead": 1,
          "showarrow": true,
          "text": "Emergency state in the USA",
          "x": "2020-03-13",
          "y": 16573.33984375
         },
         {
          "arrowhead": 1,
          "showarrow": true,
          "text": "First vaccin in the USA",
          "x": "2020-12-14",
          "y": 16573.33984375
         },
         {
          "arrowhead": 1,
          "showarrow": true,
          "text": "Delta variant",
          "x": "2021-06-01",
          "y": 16573.33984375
         },
         {
          "arrowhead": 1,
          "showarrow": true,
          "text": "Omircron variant",
          "x": "2021-11-26",
          "y": 16573.33984375
         }
        ],
        "autosize": true,
        "legend": {
         "title": {
          "text": "name"
         },
         "tracegroupgap": 0
        },
        "margin": {
         "t": 60
        },
        "shapes": [
         {
          "line": {
           "dash": "dash"
          },
          "type": "line",
          "x0": "2020-03-13",
          "x1": "2020-03-13",
          "xref": "x",
          "y0": 0,
          "y1": 1,
          "yref": "y domain"
         },
         {
          "line": {
           "dash": "dash"
          },
          "type": "line",
          "x0": "2020-12-14",
          "x1": "2020-12-14",
          "xref": "x",
          "y0": 0,
          "y1": 1,
          "yref": "y domain"
         },
         {
          "line": {
           "dash": "dash"
          },
          "type": "line",
          "x0": "2021-06-01",
          "x1": "2021-06-01",
          "xref": "x",
          "y0": 0,
          "y1": 1,
          "yref": "y domain"
         },
         {
          "line": {
           "dash": "dash"
          },
          "type": "line",
          "x0": "2021-11-26",
          "x1": "2021-11-26",
          "xref": "x",
          "y0": 0,
          "y1": 1,
          "yref": "y domain"
         }
        ],
        "template": {
         "data": {
          "bar": [
           {
            "error_x": {
             "color": "#2a3f5f"
            },
            "error_y": {
             "color": "#2a3f5f"
            },
            "marker": {
             "line": {
              "color": "#E5ECF6",
              "width": 0.5
             },
             "pattern": {
              "fillmode": "overlay",
              "size": 10,
              "solidity": 0.2
             }
            },
            "type": "bar"
           }
          ],
          "barpolar": [
           {
            "marker": {
             "line": {
              "color": "#E5ECF6",
              "width": 0.5
             },
             "pattern": {
              "fillmode": "overlay",
              "size": 10,
              "solidity": 0.2
             }
            },
            "type": "barpolar"
           }
          ],
          "carpet": [
           {
            "aaxis": {
             "endlinecolor": "#2a3f5f",
             "gridcolor": "white",
             "linecolor": "white",
             "minorgridcolor": "white",
             "startlinecolor": "#2a3f5f"
            },
            "baxis": {
             "endlinecolor": "#2a3f5f",
             "gridcolor": "white",
             "linecolor": "white",
             "minorgridcolor": "white",
             "startlinecolor": "#2a3f5f"
            },
            "type": "carpet"
           }
          ],
          "choropleth": [
           {
            "colorbar": {
             "outlinewidth": 0,
             "ticks": ""
            },
            "type": "choropleth"
           }
          ],
          "contour": [
           {
            "colorbar": {
             "outlinewidth": 0,
             "ticks": ""
            },
            "colorscale": [
             [
              0,
              "#0d0887"
             ],
             [
              0.1111111111111111,
              "#46039f"
             ],
             [
              0.2222222222222222,
              "#7201a8"
             ],
             [
              0.3333333333333333,
              "#9c179e"
             ],
             [
              0.4444444444444444,
              "#bd3786"
             ],
             [
              0.5555555555555556,
              "#d8576b"
             ],
             [
              0.6666666666666666,
              "#ed7953"
             ],
             [
              0.7777777777777778,
              "#fb9f3a"
             ],
             [
              0.8888888888888888,
              "#fdca26"
             ],
             [
              1,
              "#f0f921"
             ]
            ],
            "type": "contour"
           }
          ],
          "contourcarpet": [
           {
            "colorbar": {
             "outlinewidth": 0,
             "ticks": ""
            },
            "type": "contourcarpet"
           }
          ],
          "heatmap": [
           {
            "colorbar": {
             "outlinewidth": 0,
             "ticks": ""
            },
            "colorscale": [
             [
              0,
              "#0d0887"
             ],
             [
              0.1111111111111111,
              "#46039f"
             ],
             [
              0.2222222222222222,
              "#7201a8"
             ],
             [
              0.3333333333333333,
              "#9c179e"
             ],
             [
              0.4444444444444444,
              "#bd3786"
             ],
             [
              0.5555555555555556,
              "#d8576b"
             ],
             [
              0.6666666666666666,
              "#ed7953"
             ],
             [
              0.7777777777777778,
              "#fb9f3a"
             ],
             [
              0.8888888888888888,
              "#fdca26"
             ],
             [
              1,
              "#f0f921"
             ]
            ],
            "type": "heatmap"
           }
          ],
          "heatmapgl": [
           {
            "colorbar": {
             "outlinewidth": 0,
             "ticks": ""
            },
            "colorscale": [
             [
              0,
              "#0d0887"
             ],
             [
              0.1111111111111111,
              "#46039f"
             ],
             [
              0.2222222222222222,
              "#7201a8"
             ],
             [
              0.3333333333333333,
              "#9c179e"
             ],
             [
              0.4444444444444444,
              "#bd3786"
             ],
             [
              0.5555555555555556,
              "#d8576b"
             ],
             [
              0.6666666666666666,
              "#ed7953"
             ],
             [
              0.7777777777777778,
              "#fb9f3a"
             ],
             [
              0.8888888888888888,
              "#fdca26"
             ],
             [
              1,
              "#f0f921"
             ]
            ],
            "type": "heatmapgl"
           }
          ],
          "histogram": [
           {
            "marker": {
             "pattern": {
              "fillmode": "overlay",
              "size": 10,
              "solidity": 0.2
             }
            },
            "type": "histogram"
           }
          ],
          "histogram2d": [
           {
            "colorbar": {
             "outlinewidth": 0,
             "ticks": ""
            },
            "colorscale": [
             [
              0,
              "#0d0887"
             ],
             [
              0.1111111111111111,
              "#46039f"
             ],
             [
              0.2222222222222222,
              "#7201a8"
             ],
             [
              0.3333333333333333,
              "#9c179e"
             ],
             [
              0.4444444444444444,
              "#bd3786"
             ],
             [
              0.5555555555555556,
              "#d8576b"
             ],
             [
              0.6666666666666666,
              "#ed7953"
             ],
             [
              0.7777777777777778,
              "#fb9f3a"
             ],
             [
              0.8888888888888888,
              "#fdca26"
             ],
             [
              1,
              "#f0f921"
             ]
            ],
            "type": "histogram2d"
           }
          ],
          "histogram2dcontour": [
           {
            "colorbar": {
             "outlinewidth": 0,
             "ticks": ""
            },
            "colorscale": [
             [
              0,
              "#0d0887"
             ],
             [
              0.1111111111111111,
              "#46039f"
             ],
             [
              0.2222222222222222,
              "#7201a8"
             ],
             [
              0.3333333333333333,
              "#9c179e"
             ],
             [
              0.4444444444444444,
              "#bd3786"
             ],
             [
              0.5555555555555556,
              "#d8576b"
             ],
             [
              0.6666666666666666,
              "#ed7953"
             ],
             [
              0.7777777777777778,
              "#fb9f3a"
             ],
             [
              0.8888888888888888,
              "#fdca26"
             ],
             [
              1,
              "#f0f921"
             ]
            ],
            "type": "histogram2dcontour"
           }
          ],
          "mesh3d": [
           {
            "colorbar": {
             "outlinewidth": 0,
             "ticks": ""
            },
            "type": "mesh3d"
           }
          ],
          "parcoords": [
           {
            "line": {
             "colorbar": {
              "outlinewidth": 0,
              "ticks": ""
             }
            },
            "type": "parcoords"
           }
          ],
          "pie": [
           {
            "automargin": true,
            "type": "pie"
           }
          ],
          "scatter": [
           {
            "fillpattern": {
             "fillmode": "overlay",
             "size": 10,
             "solidity": 0.2
            },
            "type": "scatter"
           }
          ],
          "scatter3d": [
           {
            "line": {
             "colorbar": {
              "outlinewidth": 0,
              "ticks": ""
             }
            },
            "marker": {
             "colorbar": {
              "outlinewidth": 0,
              "ticks": ""
             }
            },
            "type": "scatter3d"
           }
          ],
          "scattercarpet": [
           {
            "marker": {
             "colorbar": {
              "outlinewidth": 0,
              "ticks": ""
             }
            },
            "type": "scattercarpet"
           }
          ],
          "scattergeo": [
           {
            "marker": {
             "colorbar": {
              "outlinewidth": 0,
              "ticks": ""
             }
            },
            "type": "scattergeo"
           }
          ],
          "scattergl": [
           {
            "marker": {
             "colorbar": {
              "outlinewidth": 0,
              "ticks": ""
             }
            },
            "type": "scattergl"
           }
          ],
          "scattermapbox": [
           {
            "marker": {
             "colorbar": {
              "outlinewidth": 0,
              "ticks": ""
             }
            },
            "type": "scattermapbox"
           }
          ],
          "scatterpolar": [
           {
            "marker": {
             "colorbar": {
              "outlinewidth": 0,
              "ticks": ""
             }
            },
            "type": "scatterpolar"
           }
          ],
          "scatterpolargl": [
           {
            "marker": {
             "colorbar": {
              "outlinewidth": 0,
              "ticks": ""
             }
            },
            "type": "scatterpolargl"
           }
          ],
          "scatterternary": [
           {
            "marker": {
             "colorbar": {
              "outlinewidth": 0,
              "ticks": ""
             }
            },
            "type": "scatterternary"
           }
          ],
          "surface": [
           {
            "colorbar": {
             "outlinewidth": 0,
             "ticks": ""
            },
            "colorscale": [
             [
              0,
              "#0d0887"
             ],
             [
              0.1111111111111111,
              "#46039f"
             ],
             [
              0.2222222222222222,
              "#7201a8"
             ],
             [
              0.3333333333333333,
              "#9c179e"
             ],
             [
              0.4444444444444444,
              "#bd3786"
             ],
             [
              0.5555555555555556,
              "#d8576b"
             ],
             [
              0.6666666666666666,
              "#ed7953"
             ],
             [
              0.7777777777777778,
              "#fb9f3a"
             ],
             [
              0.8888888888888888,
              "#fdca26"
             ],
             [
              1,
              "#f0f921"
             ]
            ],
            "type": "surface"
           }
          ],
          "table": [
           {
            "cells": {
             "fill": {
              "color": "#EBF0F8"
             },
             "line": {
              "color": "white"
             }
            },
            "header": {
             "fill": {
              "color": "#C8D4E3"
             },
             "line": {
              "color": "white"
             }
            },
            "type": "table"
           }
          ]
         },
         "layout": {
          "annotationdefaults": {
           "arrowcolor": "#2a3f5f",
           "arrowhead": 0,
           "arrowwidth": 1
          },
          "autotypenumbers": "strict",
          "coloraxis": {
           "colorbar": {
            "outlinewidth": 0,
            "ticks": ""
           }
          },
          "colorscale": {
           "diverging": [
            [
             0,
             "#8e0152"
            ],
            [
             0.1,
             "#c51b7d"
            ],
            [
             0.2,
             "#de77ae"
            ],
            [
             0.3,
             "#f1b6da"
            ],
            [
             0.4,
             "#fde0ef"
            ],
            [
             0.5,
             "#f7f7f7"
            ],
            [
             0.6,
             "#e6f5d0"
            ],
            [
             0.7,
             "#b8e186"
            ],
            [
             0.8,
             "#7fbc41"
            ],
            [
             0.9,
             "#4d9221"
            ],
            [
             1,
             "#276419"
            ]
           ],
           "sequential": [
            [
             0,
             "#0d0887"
            ],
            [
             0.1111111111111111,
             "#46039f"
            ],
            [
             0.2222222222222222,
             "#7201a8"
            ],
            [
             0.3333333333333333,
             "#9c179e"
            ],
            [
             0.4444444444444444,
             "#bd3786"
            ],
            [
             0.5555555555555556,
             "#d8576b"
            ],
            [
             0.6666666666666666,
             "#ed7953"
            ],
            [
             0.7777777777777778,
             "#fb9f3a"
            ],
            [
             0.8888888888888888,
             "#fdca26"
            ],
            [
             1,
             "#f0f921"
            ]
           ],
           "sequentialminus": [
            [
             0,
             "#0d0887"
            ],
            [
             0.1111111111111111,
             "#46039f"
            ],
            [
             0.2222222222222222,
             "#7201a8"
            ],
            [
             0.3333333333333333,
             "#9c179e"
            ],
            [
             0.4444444444444444,
             "#bd3786"
            ],
            [
             0.5555555555555556,
             "#d8576b"
            ],
            [
             0.6666666666666666,
             "#ed7953"
            ],
            [
             0.7777777777777778,
             "#fb9f3a"
            ],
            [
             0.8888888888888888,
             "#fdca26"
            ],
            [
             1,
             "#f0f921"
            ]
           ]
          },
          "colorway": [
           "#636efa",
           "#EF553B",
           "#00cc96",
           "#ab63fa",
           "#FFA15A",
           "#19d3f3",
           "#FF6692",
           "#B6E880",
           "#FF97FF",
           "#FECB52"
          ],
          "font": {
           "color": "#2a3f5f"
          },
          "geo": {
           "bgcolor": "white",
           "lakecolor": "white",
           "landcolor": "#E5ECF6",
           "showlakes": true,
           "showland": true,
           "subunitcolor": "white"
          },
          "hoverlabel": {
           "align": "left"
          },
          "hovermode": "closest",
          "mapbox": {
           "style": "light"
          },
          "paper_bgcolor": "white",
          "plot_bgcolor": "#E5ECF6",
          "polar": {
           "angularaxis": {
            "gridcolor": "white",
            "linecolor": "white",
            "ticks": ""
           },
           "bgcolor": "#E5ECF6",
           "radialaxis": {
            "gridcolor": "white",
            "linecolor": "white",
            "ticks": ""
           }
          },
          "scene": {
           "xaxis": {
            "backgroundcolor": "#E5ECF6",
            "gridcolor": "white",
            "gridwidth": 2,
            "linecolor": "white",
            "showbackground": true,
            "ticks": "",
            "zerolinecolor": "white"
           },
           "yaxis": {
            "backgroundcolor": "#E5ECF6",
            "gridcolor": "white",
            "gridwidth": 2,
            "linecolor": "white",
            "showbackground": true,
            "ticks": "",
            "zerolinecolor": "white"
           },
           "zaxis": {
            "backgroundcolor": "#E5ECF6",
            "gridcolor": "white",
            "gridwidth": 2,
            "linecolor": "white",
            "showbackground": true,
            "ticks": "",
            "zerolinecolor": "white"
           }
          },
          "shapedefaults": {
           "line": {
            "color": "#2a3f5f"
           }
          },
          "ternary": {
           "aaxis": {
            "gridcolor": "white",
            "linecolor": "white",
            "ticks": ""
           },
           "baxis": {
            "gridcolor": "white",
            "linecolor": "white",
            "ticks": ""
           },
           "bgcolor": "#E5ECF6",
           "caxis": {
            "gridcolor": "white",
            "linecolor": "white",
            "ticks": ""
           }
          },
          "title": {
           "x": 0.05
          },
          "xaxis": {
           "automargin": true,
           "gridcolor": "white",
           "linecolor": "white",
           "ticks": "",
           "title": {
            "standoff": 15
           },
           "zerolinecolor": "white",
           "zerolinewidth": 2
          },
          "yaxis": {
           "automargin": true,
           "gridcolor": "white",
           "linecolor": "white",
           "ticks": "",
           "title": {
            "standoff": 15
           },
           "zerolinecolor": "white",
           "zerolinewidth": 2
          }
         }
        },
        "xaxis": {
         "anchor": "y",
         "autorange": true,
         "domain": [
          0,
          1
         ],
         "range": [
          "2019-11-29 11:14:41.9277",
          "2022-05-27"
         ],
         "title": {
          "text": "Date"
         },
         "type": "date"
        },
        "yaxis": {
         "anchor": "x",
         "autorange": true,
         "domain": [
          0,
          1
         ],
         "range": [
          1307.0439179457044,
          19914.16360590662
         ],
         "title": {
          "text": "Close"
         },
         "type": "linear"
        }
       }
      },
      "image/png": "[encoded data removed]"
     },
     "metadata": {},
     "output_type": "display_data"
    }
   ],
   "source": [
    "max_y =dfstocks['Close'].max()\n",
    "fig = px.line(dfstocks,y= 'Close' ,color='name')\n",
    "fig.add_vline(x='2020-03-13',line_dash=\"dash\") #emergency state in the USA\n",
    "fig.add_vline(x='2020-12-14',line_dash=\"dash\") #first vaccine in the USA\n",
    "fig.add_vline(x='2021-06-01',line_dash=\"dash\") #delta variant\n",
    "fig.add_vline(x='2021-11-26',line_dash=\"dash\") #omicron variant\n",
    "fig.add_annotation(x='2020-03-13', y=max_y,\n",
    "            text=\"Emergency state in the USA\",\n",
    "            showarrow=True,\n",
    "            arrowhead=1)\n",
    "fig.add_annotation(x='2020-12-14', y=max_y,\n",
    "            text=\"First vaccin in the USA\",\n",
    "            showarrow=True,\n",
    "            arrowhead=1)\n",
    "fig.add_annotation(x='2021-06-01', y=max_y,\n",
    "            text=\"Delta variant\",\n",
    "            showarrow=True,\n",
    "            arrowhead=1)\n",
    "fig.add_annotation(x='2021-11-26', y=max_y,\n",
    "            text=\"Omircron variant\",\n",
    "            showarrow=True,\n",
    "            arrowhead=1)"
   ]
  },
  {
   "cell_type": "code",
   "execution_count": 27,
   "id": "1d5b906f",
   "metadata": {
    "ExecuteTime": {
     "end_time": "2022-06-02T16:12:02.328579Z",
     "start_time": "2022-06-02T16:12:02.315354Z"
    }
   },
   "outputs": [],
   "source": [
    "ndx_changes = mda.changes(dfndx,['2020-03-13','2020-12-14','2021-06-01','2021-11-26'])\n",
    "sp500_changes = mda.changes(dfsp500,['2020-03-13','2020-12-14','2021-06-01','2021-11-26'])"
   ]
  },
  {
   "cell_type": "code",
   "execution_count": 28,
   "id": "266ddb4e",
   "metadata": {
    "ExecuteTime": {
     "end_time": "2022-06-02T16:12:45.564119Z",
     "start_time": "2022-06-02T16:12:45.555270Z"
    }
   },
   "outputs": [
    {
     "data": {
      "text/markdown": [
       "The declaration of the emergency state had a big impact on both s&p500 and nasdaq stock as their values were down by  -12.52% and -14.98% respectively. Neither the first vaccin nor the arrival of the delta variant seem to have had an impact   as both stayed on the same trend. The Omicron variant has a small impact on both as their values were down by -1.96% and -1.22% after 7 days of the first case."
      ],
      "text/plain": [
       "<IPython.core.display.Markdown object>"
      ]
     },
     "execution_count": 28,
     "metadata": {},
     "output_type": "execute_result"
    }
   ],
   "source": [
    "md(\"The declaration of the emergency state had a big impact on both s&p500 and nasdaq stock as their values were down by  {}% and {}% respectively. Neither the first vaccin nor the arrival of the delta variant seem to have had an impact   as both stayed on the same trend. The Omicron variant has a small impact on both as their values were down by {}% and {}% after 7 days of the first case.\"\n",
    "   .format(round(ndx_changes[0],3),round(sp500_changes[0],3), round(ndx_changes[3],2),round(sp500_changes[3],2)))"
   ]
  },
  {
   "cell_type": "markdown",
   "id": "2cbe2d9b-72f0-4d7c-bd80-daaa61cf1a54",
   "metadata": {},
   "source": [
    "### Clustering"
   ]
  },
  {
   "cell_type": "code",
   "execution_count": 29,
   "id": "a6eaf51a-469b-4a58-bb12-80597bcfd6a9",
   "metadata": {
    "ExecuteTime": {
     "end_time": "2022-06-02T15:23:04.946316Z",
     "start_time": "2022-06-02T15:23:04.931476Z"
    }
   },
   "outputs": [],
   "source": [
    "df = mapdf.copy(deep=True)"
   ]
  },
  {
   "cell_type": "code",
   "execution_count": 30,
   "id": "e0ab7a10-5c73-4db9-8473-266ac6e71d0b",
   "metadata": {
    "ExecuteTime": {
     "end_time": "2022-06-02T15:23:15.003017Z",
     "start_time": "2022-06-02T15:23:05.659868Z"
    }
   },
   "outputs": [],
   "source": [
    "df20_processed, df21_processed, df22_processed = mda.cluster_process(df)"
   ]
  },
  {
   "cell_type": "code",
   "execution_count": 31,
   "id": "2a9f88ce-92bf-4ed2-a0c8-6a724df023b3",
   "metadata": {},
   "outputs": [],
   "source": [
    "df20_processed.drop(\"Hawaii\", inplace=True)"
   ]
  },
  {
   "cell_type": "code",
   "execution_count": 32,
   "id": "50e446a0-27c2-4250-999e-2448023dccd7",
   "metadata": {},
   "outputs": [
    {
     "data": {
      "text/html": [
       "<div>\n",
       "<style scoped>\n",
       "    .dataframe tbody tr th:only-of-type {\n",
       "        vertical-align: middle;\n",
       "    }\n",
       "\n",
       "    .dataframe tbody tr th {\n",
       "        vertical-align: top;\n",
       "    }\n",
       "\n",
       "    .dataframe thead th {\n",
       "        text-align: right;\n",
       "    }\n",
       "</style>\n",
       "<table border=\"1\" class=\"dataframe\">\n",
       "  <thead>\n",
       "    <tr style=\"text-align: right;\">\n",
       "      <th></th>\n",
       "      <th>latitude</th>\n",
       "      <th>longitude</th>\n",
       "      <th>cases</th>\n",
       "      <th>deaths</th>\n",
       "      <th>1_dose</th>\n",
       "      <th>complete_dose</th>\n",
       "      <th>population</th>\n",
       "      <th>risk_category</th>\n",
       "    </tr>\n",
       "    <tr>\n",
       "      <th>state</th>\n",
       "      <th></th>\n",
       "      <th></th>\n",
       "      <th></th>\n",
       "      <th></th>\n",
       "      <th></th>\n",
       "      <th></th>\n",
       "      <th></th>\n",
       "      <th></th>\n",
       "    </tr>\n",
       "  </thead>\n",
       "  <tbody>\n",
       "    <tr>\n",
       "      <th>Alabama</th>\n",
       "      <td>32.601011</td>\n",
       "      <td>-86.680736</td>\n",
       "      <td>361226</td>\n",
       "      <td>4827</td>\n",
       "      <td>0</td>\n",
       "      <td>0</td>\n",
       "      <td>4903185</td>\n",
       "      <td>Orange</td>\n",
       "    </tr>\n",
       "    <tr>\n",
       "      <th>Alaska</th>\n",
       "      <td>61.302501</td>\n",
       "      <td>-158.775020</td>\n",
       "      <td>46740</td>\n",
       "      <td>198</td>\n",
       "      <td>0</td>\n",
       "      <td>0</td>\n",
       "      <td>731545</td>\n",
       "      <td>Orange</td>\n",
       "    </tr>\n",
       "    <tr>\n",
       "      <th>Arizona</th>\n",
       "      <td>34.168219</td>\n",
       "      <td>-111.930907</td>\n",
       "      <td>523829</td>\n",
       "      <td>8879</td>\n",
       "      <td>26551</td>\n",
       "      <td>68</td>\n",
       "      <td>7278717</td>\n",
       "      <td>Orange</td>\n",
       "    </tr>\n",
       "    <tr>\n",
       "      <th>Arkansas</th>\n",
       "      <td>34.751928</td>\n",
       "      <td>-92.131378</td>\n",
       "      <td>225138</td>\n",
       "      <td>3676</td>\n",
       "      <td>0</td>\n",
       "      <td>0</td>\n",
       "      <td>3017804</td>\n",
       "      <td>Orange</td>\n",
       "    </tr>\n",
       "    <tr>\n",
       "      <th>California</th>\n",
       "      <td>37.271875</td>\n",
       "      <td>-119.270415</td>\n",
       "      <td>2307860</td>\n",
       "      <td>25965</td>\n",
       "      <td>87753</td>\n",
       "      <td>322</td>\n",
       "      <td>39512223</td>\n",
       "      <td>Yellow</td>\n",
       "    </tr>\n",
       "  </tbody>\n",
       "</table>\n",
       "</div>"
      ],
      "text/plain": [
       "             latitude   longitude    cases  deaths  1_dose  complete_dose  \\\n",
       "state                                                                       \n",
       "Alabama     32.601011  -86.680736   361226    4827       0              0   \n",
       "Alaska      61.302501 -158.775020    46740     198       0              0   \n",
       "Arizona     34.168219 -111.930907   523829    8879   26551             68   \n",
       "Arkansas    34.751928  -92.131378   225138    3676       0              0   \n",
       "California  37.271875 -119.270415  2307860   25965   87753            322   \n",
       "\n",
       "            population risk_category  \n",
       "state                                 \n",
       "Alabama        4903185        Orange  \n",
       "Alaska          731545        Orange  \n",
       "Arizona        7278717        Orange  \n",
       "Arkansas       3017804        Orange  \n",
       "California    39512223        Yellow  "
      ]
     },
     "execution_count": 32,
     "metadata": {},
     "output_type": "execute_result"
    }
   ],
   "source": [
    "df20_processed.head()"
   ]
  },
  {
   "cell_type": "markdown",
   "id": "c0d059ba-6d63-44c6-a1f4-928b3abfe5bf",
   "metadata": {},
   "source": [
    "#### 2020"
   ]
  },
  {
   "cell_type": "code",
   "execution_count": 33,
   "id": "cc35d05f-3c23-4e6d-8650-ba182b11c500",
   "metadata": {},
   "outputs": [
    {
     "data": {
      "application/vnd.jupyter.widget-view+json": {
       "model_id": "4df27220a72c483eadf167d3ae7aca89",
       "version_major": 2,
       "version_minor": 0
      },
      "text/plain": [
       "interactive(children=(Dropdown(description='Select:', options=(('Cases', 'cases'), ('Deaths', 'deaths'), ('1 V…"
      ]
     },
     "metadata": {},
     "output_type": "display_data"
    }
   ],
   "source": [
    "warnings.filterwarnings('ignore')\n",
    "\n",
    "clusterdf20, Z20, silhoutte20, ari20 = mda.cluster_algorithm(df20_processed, \"KMeans\")\n",
    "\n",
    "def cluster_fig20(selection):\n",
    "    import plotly.express as px\n",
    "    \n",
    "    title_dict = {\"cases\":\"Cases\",\n",
    "                  \"deaths\":\"Deaths\",\n",
    "                  \"1_dose\":\"1 Vaccination Dose\",\n",
    "                  \"complete_dose\":\"Complete Vaccinations\"}\n",
    "    \n",
    "    fig20 = go.Figure(\n",
    "    data=go.Scatter(\n",
    "        x=clusterdf20[\"PC1\"].values,\n",
    "        y=clusterdf20[\"PC2\"].values,\n",
    "        text=clusterdf20.index,\n",
    "        mode='markers',\n",
    "        marker=go.Marker(\n",
    "            size=df20_processed[selection],\n",
    "            sizemode='diameter',\n",
    "            sizeref=df20_processed[selection].max()/50,\n",
    "            opacity=1,\n",
    "            color=Z20\n",
    "            )\n",
    "        )\n",
    "    )\n",
    "\n",
    "    fig20.update_layout(\n",
    "        go.Layout(\n",
    "            title=f'US State Cluster Analysis 2020 (size represents {title_dict[selection]})',\n",
    "            xaxis=go.XAxis(title=\"PC1\", showgrid=True, zeroline=True, showticklabels=True),\n",
    "            yaxis=go.YAxis(title=\"PC2\", showgrid=True, zeroline=True, showticklabels=True),\n",
    "            hovermode='closest'\n",
    "        )\n",
    "    )\n",
    "\n",
    "    fig20.show()\n",
    "\n",
    "widgets.interact(cluster_fig20,\n",
    "                 selection=widgets.Dropdown(\n",
    "                     options=[(\"Cases\", \"cases\"),\n",
    "                              (\"Deaths\", \"deaths\"),\n",
    "                              (\"1 Vaccination Dose\", \"1_dose\"),\n",
    "                              (\"Complete Vaccinations\", \"complete_dose\")],\n",
    "                     description='Select:'));"
   ]
  },
  {
   "cell_type": "markdown",
   "id": "a6639103-41fc-4742-b1a3-6f684be70768",
   "metadata": {},
   "source": [
    "#### 2021"
   ]
  },
  {
   "cell_type": "code",
   "execution_count": 34,
   "id": "1546fe3b-de7f-4d29-b652-36e4c7976d2a",
   "metadata": {
    "ExecuteTime": {
     "end_time": "2022-06-02T14:59:30.390393Z",
     "start_time": "2022-06-02T14:59:30.348779Z"
    }
   },
   "outputs": [
    {
     "data": {
      "application/vnd.jupyter.widget-view+json": {
       "model_id": "6a5928fdd7764e92bd2f9a66fa14f591",
       "version_major": 2,
       "version_minor": 0
      },
      "text/plain": [
       "interactive(children=(Dropdown(description='Select:', options=(('Cases', 'cases'), ('Deaths', 'deaths'), ('1 V…"
      ]
     },
     "metadata": {},
     "output_type": "display_data"
    }
   ],
   "source": [
    "warnings.filterwarnings('ignore')\n",
    "\n",
    "clusterdf21, Z21, silhoutte21, ari21 = mda.cluster_algorithm(df21_processed, \"KMeans\")\n",
    "\n",
    "def cluster_fig21(selection):\n",
    "    import plotly.express as px\n",
    "    \n",
    "    title_dict = {\"cases\":\"Cases\",\n",
    "                  \"deaths\":\"Deaths\",\n",
    "                  \"1_dose\":\"1 Vaccination Dose\",\n",
    "                  \"complete_dose\":\"Complete Vaccinations\"}\n",
    "    \n",
    "    fig21 = go.Figure(\n",
    "    data=go.Scatter(\n",
    "        x=clusterdf21[\"PC1\"].values,\n",
    "        y=clusterdf21[\"PC2\"].values,\n",
    "        text=clusterdf21.index,\n",
    "        mode='markers',\n",
    "        marker=go.Marker(\n",
    "            size=df21_processed[selection],\n",
    "            sizemode='diameter',\n",
    "            sizeref=df21_processed[selection].max()/50,\n",
    "            opacity=1,\n",
    "            color=Z20\n",
    "            )\n",
    "        )\n",
    "    )\n",
    "\n",
    "    fig21.update_layout(\n",
    "        go.Layout(\n",
    "            title=f'US State Cluster Analysis 2021 (size represents {title_dict[selection]})',\n",
    "            xaxis=go.XAxis(title=\"PC1\", showgrid=True, zeroline=True, showticklabels=True),\n",
    "            yaxis=go.YAxis(title=\"PC2\", showgrid=True, zeroline=True, showticklabels=True),\n",
    "            hovermode='closest'\n",
    "        )\n",
    "    )\n",
    "\n",
    "    fig21.show()\n",
    "\n",
    "widgets.interact(cluster_fig21,\n",
    "                 selection=widgets.Dropdown(\n",
    "                     options=[(\"Cases\", \"cases\"),\n",
    "                              (\"Deaths\", \"deaths\"),\n",
    "                              (\"1 Vaccination Dose\", \"1_dose\"),\n",
    "                              (\"Complete Vaccinations\", \"complete_dose\")],\n",
    "                     description='Select:'));"
   ]
  },
  {
   "cell_type": "markdown",
   "id": "b5f4d36a-6eca-43cd-a9fd-e14742ff72cf",
   "metadata": {},
   "source": [
    "#### 2022"
   ]
  },
  {
   "cell_type": "code",
   "execution_count": 35,
   "id": "2ad01bed-9d87-4f5b-a1d8-e6e44d21c270",
   "metadata": {
    "ExecuteTime": {
     "end_time": "2022-06-02T14:59:30.434829Z",
     "start_time": "2022-06-02T14:59:30.391566Z"
    }
   },
   "outputs": [
    {
     "data": {
      "application/vnd.jupyter.widget-view+json": {
       "model_id": "d3b1b1fb3afb4006aa1434b7cdcfd734",
       "version_major": 2,
       "version_minor": 0
      },
      "text/plain": [
       "interactive(children=(Dropdown(description='Select:', options=(('Cases', 'cases'), ('Deaths', 'deaths'), ('1 V…"
      ]
     },
     "metadata": {},
     "output_type": "display_data"
    }
   ],
   "source": [
    "warnings.filterwarnings('ignore')\n",
    "\n",
    "clusterdf22, Z22, silhoutte22, ari22 = mda.cluster_algorithm(df22_processed, \"KMeans\")\n",
    "\n",
    "def cluster_fig22(selection):\n",
    "    import plotly.express as px\n",
    "    \n",
    "    title_dict = {\"cases\":\"Cases\",\n",
    "                  \"deaths\":\"Deaths\",\n",
    "                  \"1_dose\":\"1 Vaccination Dose\",\n",
    "                  \"complete_dose\":\"Complete Vaccinations\"}\n",
    "    \n",
    "    fig22 = go.Figure(\n",
    "    data=go.Scatter(\n",
    "        x=clusterdf22[\"PC1\"].values,\n",
    "        y=clusterdf22[\"PC2\"].values,\n",
    "        text=clusterdf22.index,\n",
    "        mode='markers',\n",
    "        marker=go.Marker(\n",
    "            size=df22_processed[selection],\n",
    "            sizemode='diameter',\n",
    "            sizeref=df22_processed[selection].max()/50,\n",
    "            opacity=1,\n",
    "            color=Z20\n",
    "            )\n",
    "        )\n",
    "    )\n",
    "\n",
    "    fig22.update_layout(\n",
    "        go.Layout(\n",
    "            title=f'US State Cluster Analysis 2022 (size represents {title_dict[selection]})',\n",
    "            xaxis=go.XAxis(title=\"PC1\", showgrid=True, zeroline=True, showticklabels=True),\n",
    "            yaxis=go.YAxis(title=\"PC2\", showgrid=True, zeroline=True, showticklabels=True),\n",
    "            hovermode='closest'\n",
    "        )\n",
    "    )\n",
    "\n",
    "    fig22.show()\n",
    "\n",
    "widgets.interact(cluster_fig22,\n",
    "                 selection=widgets.Dropdown(\n",
    "                     options=[(\"Cases\", \"cases\"),\n",
    "                              (\"Deaths\", \"deaths\"),\n",
    "                              (\"1 Vaccination Dose\", \"1_dose\"),\n",
    "                              (\"Complete Vaccinations\", \"complete_dose\")],\n",
    "                     description='Select:'));"
   ]
  },
  {
   "cell_type": "markdown",
   "id": "8dd9cceb-255c-49d8-b92d-73e015671f90",
   "metadata": {},
   "source": [
    "### ANOVA"
   ]
  },
  {
   "cell_type": "code",
   "execution_count": 36,
   "id": "5df02b47-6cf5-4ecb-a9cd-a1e1fda40c2d",
   "metadata": {
    "ExecuteTime": {
     "end_time": "2022-06-02T14:59:30.668656Z",
     "start_time": "2022-06-02T14:59:30.460411Z"
    }
   },
   "outputs": [],
   "source": [
    "import numpy as np\n",
    "import pandas as pd\n",
    "import statsmodels.api as sm\n",
    "import statsmodels.formula.api as smf"
   ]
  },
  {
   "cell_type": "code",
   "execution_count": null,
   "id": "75d2ec86-d318-4d2e-84b8-e987c8ba8df6",
   "metadata": {
    "ExecuteTime": {
     "end_time": "2022-06-02T14:59:41.274284Z",
     "start_time": "2022-06-02T14:59:30.669521Z"
    }
   },
   "outputs": [],
   "source": [
    "anovadf = mda.lmem_process(mapdf)"
   ]
  },
  {
   "cell_type": "code",
   "execution_count": null,
   "id": "870144f3-7fdc-4536-b956-54616828bed3",
   "metadata": {
    "ExecuteTime": {
     "end_time": "2022-06-02T14:59:41.284130Z",
     "start_time": "2022-06-02T14:59:41.281606Z"
    }
   },
   "outputs": [],
   "source": [
    "anova2020 = anovadf[anovadf[\"year\"]==2020]\n",
    "anova2021 = anovadf[anovadf[\"year\"]==2021]\n",
    "anova2022 = anovadf[anovadf[\"year\"]==2022]"
   ]
  },
  {
   "cell_type": "code",
   "execution_count": null,
   "id": "3372742a-7516-4bd0-84f0-44ad9b60e7af",
   "metadata": {
    "ExecuteTime": {
     "end_time": "2022-06-02T15:01:17.483947Z",
     "start_time": "2022-06-02T15:01:17.305646Z"
    }
   },
   "outputs": [],
   "source": [
    "temp_df = anova2021.copy(deep=True)\n",
    "temp_df[\"month\"]-=12\n",
    "month_dict = {1:\"January\", 2:\"February\", 3:\"March\", 4:\"April\", 5:\"May\", 6:\"June\", 7:\"July\", 8:\"August\", 9:\"September\", 10:\"October\", 11:\"November\", 12:\"December\"}\n",
    "temp_df[\"month\"] = temp_df[\"month\"].map(month_dict)\n",
    "\n",
    "def fig_creator2(selection):\n",
    "    import plotly.express as px\n",
    "    \n",
    "    title_dict = {\"monthly_cases\":\"Monthly Cases\",\n",
    "                  \"monthly_deaths\":\"Monthly Deaths\",\n",
    "                  \"monthly_1dose\":\"Monthly Vaccination Dose\",\n",
    "                  \"monthly_completedose\":\"Monthly Complete Vaccinations\"}\n",
    "    \n",
    "    fig = px.strip(temp_df, x='month', y=selection, color=\"state\", title=f\"{title_dict[selection]} per month in 2021\",\n",
    "                   hover_data=[\"monthly_cases\", \"monthly_deaths\", \"monthly_1dose\", \"monthly_completedose\"],\n",
    "                   labels={selection:title_dict[selection]})\n",
    "    fig.show()\n",
    "\n",
    "widgets.interact(fig_creator2,\n",
    "                 selection=widgets.Dropdown(\n",
    "                     options=[(\"Monthly Cases\", \"monthly_cases\"),\n",
    "                              (\"Monthly Deaths\", \"monthly_deaths\"),\n",
    "                              (\"Monthly Vaccination Dose\", \"monthly_1dose\"),\n",
    "                              (\"Monthly Complete Vaccinations\", \"monthly_completedose\")],\n",
    "                     description='Select:'));"
   ]
  },
  {
   "cell_type": "code",
   "execution_count": null,
   "id": "9389ef28-4692-4196-854b-8afe07638e09",
   "metadata": {
    "ExecuteTime": {
     "end_time": "2022-06-02T15:02:05.792620Z",
     "start_time": "2022-06-02T15:02:05.721967Z"
    }
   },
   "outputs": [],
   "source": [
    "temp_df = anova2021.copy(deep=True)\n",
    "temp_df[\"month\"]-=12\n",
    "\n",
    "def fig_creator3(selection1, selection2):\n",
    "    import plotly.express as px\n",
    "    \n",
    "    title_dict = {\"monthly_cases\":\"Monthly Cases\",\n",
    "                  \"monthly_deaths\":\"Monthly Deaths\",\n",
    "                  \"monthly_1dose\":\"Monthly Vaccination Dose\",\n",
    "                  \"monthly_completedose\":\"Monthly Complete Vaccinations\"}\n",
    "    \n",
    "    fig = px.scatter(temp_df[temp_df[\"state\"]==selection2], x=\"month\", y=selection1, trendline=\"ols\",\n",
    "                     title=f\"{title_dict[selection1]} in {selection2} 2021\",\n",
    "                    labels={selection1:title_dict[selection1]})\n",
    "    fig.show()\n",
    "\n",
    "selection2_options = []\n",
    "for s in anova2021[\"state\"].unique():\n",
    "    selection2_options.append((s,s))\n",
    "\n",
    "widgets.interact(fig_creator3,\n",
    "                 \n",
    "                 selection1=widgets.Dropdown(\n",
    "                     options=[(\"Monthly Cases\", \"monthly_cases\"),\n",
    "                              (\"Monthly Deaths\", \"monthly_deaths\"),\n",
    "                              (\"Monthly Vaccination Dose\", \"monthly_1dose\"),\n",
    "                              (\"Monthly Complete Vaccinations\", \"monthly_completedose\")],\n",
    "                     description='Select:'),\n",
    "                 \n",
    "                 selection2=widgets.Dropdown(\n",
    "                     options=selection2_options,\n",
    "                     description='Select:'));"
   ]
  },
  {
   "cell_type": "code",
   "execution_count": null,
   "id": "31c301a7-7dea-41bd-96fc-7382b5050dd4",
   "metadata": {
    "ExecuteTime": {
     "end_time": "2022-06-02T14:59:41.458131Z",
     "start_time": "2022-06-02T14:59:41.456479Z"
    }
   },
   "outputs": [],
   "source": [
    "import numpy as np\n",
    "import pandas as pd\n",
    "import statsmodels.api as sm\n",
    "import statsmodels.formula.api as smf"
   ]
  },
  {
   "cell_type": "code",
   "execution_count": null,
   "id": "15da622a-6e6a-4699-8868-cad481d63d08",
   "metadata": {
    "ExecuteTime": {
     "end_time": "2022-06-02T14:59:41.462581Z",
     "start_time": "2022-06-02T14:59:41.459114Z"
    }
   },
   "outputs": [],
   "source": [
    "temp_df = anova2021.copy(deep=True)\n",
    "temp_df = temp_df[[\"state\", \"year\", \"month\", \"monthly_cases\", \"monthly_deaths\"]]\n",
    "temp_df[\"month\"]-=12\n",
    "month_dict = {1:\"January\", 2:\"February\", 3:\"March\", 4:\"April\", 5:\"May\", 6:\"June\", 7:\"July\", 8:\"August\", 9:\"September\", 10:\"October\", 11:\"November\", 12:\"December\"}\n",
    "temp_df[\"month\"] = temp_df[\"month\"].map(month_dict)"
   ]
  },
  {
   "cell_type": "code",
   "execution_count": null,
   "id": "25827f83-6dd4-413c-a57d-639b83b17647",
   "metadata": {},
   "outputs": [],
   "source": [
    "tempdf_cases = temp_df[[\"month\", \"monthly_cases\"]]\n",
    "tempdf_cases[\"index\"] = list(range(49))*12\n",
    "tempdf_cases = tempdf_cases[[\"index\", \"month\", \"monthly_cases\"]]\n",
    "tempdf_deaths = temp_df[[\"month\", \"monthly_deaths\"]]\n",
    "tempdf_deaths[\"index\"] = list(range(49))*12\n",
    "tempdf_deaths = tempdf_deaths[[\"index\", \"month\", \"monthly_deaths\"]]"
   ]
  },
  {
   "cell_type": "code",
   "execution_count": null,
   "id": "47ce70e1-ea5e-4f78-bf44-8436f4fcaa6f",
   "metadata": {},
   "outputs": [],
   "source": [
    "boxplot = px.box(tempdf_cases, x=\"month\", y=\"monthly_cases\",\n",
    "                 labels={\"monthly_cases\":\"Monthly Cases\", \"month\":\"Month\"},\n",
    "                 color=\"month\", title=\"Monthly Cases in US\")\n",
    "boxplot.show()"
   ]
  },
  {
   "cell_type": "code",
   "execution_count": null,
   "id": "6abf5410-49ac-4e77-a411-7176043f73c7",
   "metadata": {},
   "outputs": [],
   "source": [
    "boxplot1 = px.box(tempdf_deaths, x=\"month\", y=\"monthly_deaths\",\n",
    "                 labels={\"monthly_deaths\":\"Monthly Deaths\", \"month\":\"Month\"},\n",
    "                 color=\"month\", title=\"Monthly Deaths in US\")\n",
    "boxplot1.show()"
   ]
  },
  {
   "cell_type": "markdown",
   "id": "f9052416-f7be-40af-aad3-a52bad7e06df",
   "metadata": {},
   "source": [
    "#### Monthly Cases"
   ]
  },
  {
   "cell_type": "code",
   "execution_count": null,
   "id": "57bf2f0c-278e-47a6-bbfa-3b38f386341c",
   "metadata": {},
   "outputs": [],
   "source": [
    "# get ANOVA table as R like output\n",
    "import statsmodels.api as sm\n",
    "from statsmodels.formula.api import ols\n",
    "\n",
    "# Ordinary Least Squares (OLS) model\n",
    "model = ols('monthly_cases ~ month', data=tempdf_cases).fit()\n",
    "anova_table = sm.stats.anova_lm(model, typ=2)\n",
    "anova_table"
   ]
  },
  {
   "cell_type": "code",
   "execution_count": null,
   "id": "08e86797-3584-42bd-b71c-eb78dbc2e734",
   "metadata": {},
   "outputs": [],
   "source": [
    "from bioinfokit.analys import stat\n",
    "# perform multiple pairwise comparison (Tukey's HSD)\n",
    "# unequal sample size data, tukey_hsd uses Tukey-Kramer test\n",
    "res = stat()\n",
    "res.tukey_hsd(df=tempdf_cases, res_var='monthly_cases', xfac_var='month', anova_model='monthly_cases ~ month')\n",
    "res.tukey_summary"
   ]
  },
  {
   "cell_type": "markdown",
   "id": "32ea89f6-03db-4b2d-8b4b-a2dd7d4d3887",
   "metadata": {},
   "source": [
    "#### Monthly Deaths"
   ]
  },
  {
   "cell_type": "code",
   "execution_count": null,
   "id": "0162975a-c6c0-4ada-8d10-904779f4aac5",
   "metadata": {},
   "outputs": [],
   "source": [
    "model = ols('monthly_deaths ~ month', data=tempdf_deaths).fit()\n",
    "anova_table = sm.stats.anova_lm(model, typ=2)\n",
    "anova_table"
   ]
  },
  {
   "cell_type": "code",
   "execution_count": null,
   "id": "c7b5be0a-b13c-4bbe-9cb2-99326574cff1",
   "metadata": {},
   "outputs": [],
   "source": [
    "from bioinfokit.analys import stat\n",
    "# perform multiple pairwise comparison (Tukey's HSD)\n",
    "# unequal sample size data, tukey_hsd uses Tukey-Kramer test\n",
    "res = stat()\n",
    "res.tukey_hsd(df=tempdf_deaths, res_var='monthly_deaths', xfac_var='month', anova_model='monthly_deaths ~ month')\n",
    "res.tukey_summary"
   ]
  },
  {
   "cell_type": "code",
   "execution_count": null,
   "id": "a5384f09-b376-4c12-9b6a-aecb185e388c",
   "metadata": {},
   "outputs": [],
   "source": []
  },
  {
   "cell_type": "code",
   "execution_count": null,
   "id": "45eff8c6-1ef9-4b9b-b5d3-c348fde882aa",
   "metadata": {},
   "outputs": [],
   "source": []
  }
 ],
 "metadata": {
  "kernelspec": {
   "display_name": "Python 3 (ipykernel)",
   "language": "python",
   "name": "python3"
  },
  "language_info": {
   "codemirror_mode": {
    "name": "ipython",
    "version": 3
   },
   "file_extension": ".py",
   "mimetype": "text/x-python",
   "name": "python",
   "nbconvert_exporter": "python",
   "pygments_lexer": "ipython3",
   "version": "3.10.0"
  },
  "toc": {
   "base_numbering": 1,
   "nav_menu": {},
   "number_sections": true,
   "sideBar": true,
   "skip_h1_title": false,
   "title_cell": "Table of Contents",
   "title_sidebar": "Contents",
   "toc_cell": false,
   "toc_position": {},
   "toc_section_display": true,
   "toc_window_display": false
  },
  "varInspector": {
   "cols": {
    "lenName": 16,
    "lenType": 16,
    "lenVar": 40
   },
   "kernels_config": {
    "python": {
     "delete_cmd_postfix": "",
     "delete_cmd_prefix": "del ",
     "library": "var_list.py",
     "varRefreshCmd": "print(var_dic_list())"
    },
    "r": {
     "delete_cmd_postfix": ") ",
     "delete_cmd_prefix": "rm(",
     "library": "var_list.r",
     "varRefreshCmd": "cat(var_dic_list()) "
    }
   },
   "types_to_exclude": [
    "module",
    "function",
    "builtin_function_or_method",
    "instance",
    "_Feature"
   ],
   "window_display": false
  }
 },
 "nbformat": 4,
 "nbformat_minor": 5
}
