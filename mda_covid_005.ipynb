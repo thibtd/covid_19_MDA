{
 "cells": [
  {
   "cell_type": "markdown",
   "id": "b1571926-ead6-4734-bdce-cddb9ac8dfb8",
   "metadata": {},
   "source": [
    "# Modern Data Analytics [G0Z39a]"
   ]
  },
  {
   "cell_type": "markdown",
   "id": "f6274ee8-b897-4b06-a1f2-636bda3935e7",
   "metadata": {},
   "source": [
    "## Project: Covid 19 in the USA"
   ]
  },
  {
   "cell_type": "markdown",
   "id": "afa6b6db-d76d-49dc-ab25-68d22a1a7da7",
   "metadata": {},
   "source": [
    "### Load packages"
   ]
  },
  {
   "cell_type": "code",
   "execution_count": 5,
   "id": "cdfb3484-5824-40a7-bd2a-ab37a3f44396",
   "metadata": {},
   "outputs": [
    {
     "data": {
      "text/html": [
       "        <script type=\"text/javascript\">\n",
       "        window.PlotlyConfig = {MathJaxConfig: 'local'};\n",
       "        if (window.MathJax && window.MathJax.Hub && window.MathJax.Hub.Config) {window.MathJax.Hub.Config({SVG: {font: \"STIX-Web\"}});}\n",
       "        if (typeof require !== 'undefined') {\n",
       "        require.undef(\"plotly\");\n",
       "        requirejs.config({\n",
       "            paths: {\n",
       "                'plotly': ['https://cdn.plot.ly/plotly-2.12.1.min']\n",
       "            }\n",
       "        });\n",
       "        require(['plotly'], function(Plotly) {\n",
       "            window._Plotly = Plotly;\n",
       "        });\n",
       "        }\n",
       "        </script>\n",
       "        "
      ]
     },
     "metadata": {},
     "output_type": "display_data"
    }
   ],
   "source": [
    "import mda_module_005 as mda\n",
    "\n",
    "import os\n",
    "import pandas as pd\n",
    "import numpy as np\n",
    "\n",
    "\n",
    "import plotly.graph_objs as go\n",
    "import plotly.io as pio\n",
    "import plotly.express as px\n",
    "\n",
    "import plotly.offline as py\n",
    "py.init_notebook_mode(connected=True)\n",
    "pio.renderers.default = 'plotly_mimetype'\n",
    "  \n",
    "import matplotlib.pyplot as plt\n",
    "\n",
    "import datetime as dt\n",
    "\n",
    "import ipywidgets as widgets\n",
    "from IPython.display import display\n",
    "\n",
    "from sklearn.compose import ColumnTransformer \n",
    "from sklearn.impute import SimpleImputer\n",
    "from sklearn.preprocessing import StandardScaler\n",
    "from sklearn.pipeline import Pipeline\n",
    "\n",
    "import warnings\n",
    "warnings.filterwarnings('ignore')"
   ]
  },
  {
   "cell_type": "markdown",
   "id": "db2a1889-76a2-43af-ac71-15c979f2fc54",
   "metadata": {},
   "source": [
    "### Load data"
   ]
  },
  {
   "cell_type": "code",
   "execution_count": 6,
   "id": "ba65458a-ab3c-4573-aab5-6862612b032e",
   "metadata": {},
   "outputs": [],
   "source": [
    "cwd = os.getcwd()"
   ]
  },
  {
   "cell_type": "code",
   "execution_count": 7,
   "id": "c987cfcd-8dc3-4316-b28a-670de980d0ed",
   "metadata": {},
   "outputs": [
    {
     "data": {
      "text/plain": [
       "'C:\\\\Users\\\\35799\\\\Desktop\\\\KU Leuven\\\\Semester 2\\\\Modern Data Analytics\\\\project'"
      ]
     },
     "execution_count": 7,
     "metadata": {},
     "output_type": "execute_result"
    }
   ],
   "source": [
    "cwd"
   ]
  },
  {
   "cell_type": "code",
   "execution_count": 8,
   "id": "6fb928f1-fdb8-4d25-adcb-23bd4aafed3e",
   "metadata": {},
   "outputs": [],
   "source": [
    "us = pd.read_csv(cwd+\"/covid-19-data/us.csv\")\n",
    "counties_df = pd.read_csv(cwd+\"/covid-19-data/us-counties.csv\")\n",
    "states_df = pd.read_csv(cwd+\"/covid-19-data/us-states.csv\")\n",
    "counties20 = pd.read_csv(cwd+\"/covid-19-data/us-counties-2020.csv\")\n",
    "counties21 = pd.read_csv(cwd+\"/covid-19-data/us-counties-2021.csv\")\n",
    "counties22 = pd.read_csv(cwd+\"/covid-19-data/us-counties-2022.csv\")\n",
    "extra_data = pd.read_csv(cwd+\"/data/extra_data.csv\")"
   ]
  },
  {
   "cell_type": "markdown",
   "id": "7a10a8f0-6eba-4859-aeae-d9c2b83d3778",
   "metadata": {
    "tags": []
   },
   "source": [
    "### Data Pre-Processing"
   ]
  },
  {
   "cell_type": "markdown",
   "id": "dff31629-43d5-41f2-9bcc-e7e77f04fe47",
   "metadata": {
    "tags": []
   },
   "source": [
    "#### County Data"
   ]
  },
  {
   "cell_type": "code",
   "execution_count": 5,
   "id": "ab72541e-0dbe-4d69-a463-c3d609f3be57",
   "metadata": {},
   "outputs": [],
   "source": [
    "counties20_clean = mda.counties_preprocessing(counties20)\n",
    "counties21_clean = mda.counties_preprocessing(counties21)\n",
    "counties22_clean = mda.counties_preprocessing(counties22)"
   ]
  },
  {
   "cell_type": "code",
   "execution_count": 6,
   "id": "b6dd3288-1a82-4e2c-a048-567eb0adeca0",
   "metadata": {},
   "outputs": [
    {
     "data": {
      "text/html": [
       "<div>\n",
       "<style scoped>\n",
       "    .dataframe tbody tr th:only-of-type {\n",
       "        vertical-align: middle;\n",
       "    }\n",
       "\n",
       "    .dataframe tbody tr th {\n",
       "        vertical-align: top;\n",
       "    }\n",
       "\n",
       "    .dataframe thead th {\n",
       "        text-align: right;\n",
       "    }\n",
       "</style>\n",
       "<table border=\"1\" class=\"dataframe\">\n",
       "  <thead>\n",
       "    <tr style=\"text-align: right;\">\n",
       "      <th></th>\n",
       "      <th>date</th>\n",
       "      <th>year</th>\n",
       "      <th>month</th>\n",
       "      <th>day</th>\n",
       "      <th>state</th>\n",
       "      <th>code</th>\n",
       "      <th>county</th>\n",
       "      <th>cases</th>\n",
       "      <th>deaths</th>\n",
       "    </tr>\n",
       "  </thead>\n",
       "  <tbody>\n",
       "    <tr>\n",
       "      <th>0</th>\n",
       "      <td>2020-01-21</td>\n",
       "      <td>2020</td>\n",
       "      <td>01</td>\n",
       "      <td>21</td>\n",
       "      <td>Washington</td>\n",
       "      <td>WA</td>\n",
       "      <td>Snohomish</td>\n",
       "      <td>1</td>\n",
       "      <td>0</td>\n",
       "    </tr>\n",
       "    <tr>\n",
       "      <th>1</th>\n",
       "      <td>2020-01-22</td>\n",
       "      <td>2020</td>\n",
       "      <td>01</td>\n",
       "      <td>22</td>\n",
       "      <td>Washington</td>\n",
       "      <td>WA</td>\n",
       "      <td>Snohomish</td>\n",
       "      <td>1</td>\n",
       "      <td>0</td>\n",
       "    </tr>\n",
       "    <tr>\n",
       "      <th>2</th>\n",
       "      <td>2020-01-23</td>\n",
       "      <td>2020</td>\n",
       "      <td>01</td>\n",
       "      <td>23</td>\n",
       "      <td>Washington</td>\n",
       "      <td>WA</td>\n",
       "      <td>Snohomish</td>\n",
       "      <td>1</td>\n",
       "      <td>0</td>\n",
       "    </tr>\n",
       "    <tr>\n",
       "      <th>3</th>\n",
       "      <td>2020-01-24</td>\n",
       "      <td>2020</td>\n",
       "      <td>01</td>\n",
       "      <td>24</td>\n",
       "      <td>Illinois</td>\n",
       "      <td>IL</td>\n",
       "      <td>Cook</td>\n",
       "      <td>1</td>\n",
       "      <td>0</td>\n",
       "    </tr>\n",
       "    <tr>\n",
       "      <th>4</th>\n",
       "      <td>2020-01-24</td>\n",
       "      <td>2020</td>\n",
       "      <td>01</td>\n",
       "      <td>24</td>\n",
       "      <td>Washington</td>\n",
       "      <td>WA</td>\n",
       "      <td>Snohomish</td>\n",
       "      <td>1</td>\n",
       "      <td>0</td>\n",
       "    </tr>\n",
       "  </tbody>\n",
       "</table>\n",
       "</div>"
      ],
      "text/plain": [
       "         date  year month day       state code     county  cases  deaths\n",
       "0  2020-01-21  2020    01  21  Washington   WA  Snohomish      1       0\n",
       "1  2020-01-22  2020    01  22  Washington   WA  Snohomish      1       0\n",
       "2  2020-01-23  2020    01  23  Washington   WA  Snohomish      1       0\n",
       "3  2020-01-24  2020    01  24    Illinois   IL       Cook      1       0\n",
       "4  2020-01-24  2020    01  24  Washington   WA  Snohomish      1       0"
      ]
     },
     "execution_count": 6,
     "metadata": {},
     "output_type": "execute_result"
    }
   ],
   "source": [
    "counties20_clean.head()"
   ]
  },
  {
   "cell_type": "code",
   "execution_count": 7,
   "id": "3afbd443-3db4-4cb1-8249-0024421a9e58",
   "metadata": {},
   "outputs": [
    {
     "data": {
      "text/html": [
       "<div>\n",
       "<style scoped>\n",
       "    .dataframe tbody tr th:only-of-type {\n",
       "        vertical-align: middle;\n",
       "    }\n",
       "\n",
       "    .dataframe tbody tr th {\n",
       "        vertical-align: top;\n",
       "    }\n",
       "\n",
       "    .dataframe thead th {\n",
       "        text-align: right;\n",
       "    }\n",
       "</style>\n",
       "<table border=\"1\" class=\"dataframe\">\n",
       "  <thead>\n",
       "    <tr style=\"text-align: right;\">\n",
       "      <th></th>\n",
       "      <th>date</th>\n",
       "      <th>year</th>\n",
       "      <th>month</th>\n",
       "      <th>day</th>\n",
       "      <th>state</th>\n",
       "      <th>code</th>\n",
       "      <th>county</th>\n",
       "      <th>cases</th>\n",
       "      <th>deaths</th>\n",
       "    </tr>\n",
       "  </thead>\n",
       "  <tbody>\n",
       "    <tr>\n",
       "      <th>0</th>\n",
       "      <td>2021-01-01</td>\n",
       "      <td>2021</td>\n",
       "      <td>01</td>\n",
       "      <td>01</td>\n",
       "      <td>Alabama</td>\n",
       "      <td>AL</td>\n",
       "      <td>Autauga</td>\n",
       "      <td>4239</td>\n",
       "      <td>50</td>\n",
       "    </tr>\n",
       "    <tr>\n",
       "      <th>1</th>\n",
       "      <td>2021-01-01</td>\n",
       "      <td>2021</td>\n",
       "      <td>01</td>\n",
       "      <td>01</td>\n",
       "      <td>Alabama</td>\n",
       "      <td>AL</td>\n",
       "      <td>Baldwin</td>\n",
       "      <td>13823</td>\n",
       "      <td>169</td>\n",
       "    </tr>\n",
       "    <tr>\n",
       "      <th>2</th>\n",
       "      <td>2021-01-01</td>\n",
       "      <td>2021</td>\n",
       "      <td>01</td>\n",
       "      <td>01</td>\n",
       "      <td>Alabama</td>\n",
       "      <td>AL</td>\n",
       "      <td>Barbour</td>\n",
       "      <td>1517</td>\n",
       "      <td>33</td>\n",
       "    </tr>\n",
       "    <tr>\n",
       "      <th>3</th>\n",
       "      <td>2021-01-01</td>\n",
       "      <td>2021</td>\n",
       "      <td>01</td>\n",
       "      <td>01</td>\n",
       "      <td>Alabama</td>\n",
       "      <td>AL</td>\n",
       "      <td>Bibb</td>\n",
       "      <td>1854</td>\n",
       "      <td>46</td>\n",
       "    </tr>\n",
       "    <tr>\n",
       "      <th>4</th>\n",
       "      <td>2021-01-01</td>\n",
       "      <td>2021</td>\n",
       "      <td>01</td>\n",
       "      <td>01</td>\n",
       "      <td>Alabama</td>\n",
       "      <td>AL</td>\n",
       "      <td>Blount</td>\n",
       "      <td>4693</td>\n",
       "      <td>63</td>\n",
       "    </tr>\n",
       "  </tbody>\n",
       "</table>\n",
       "</div>"
      ],
      "text/plain": [
       "         date  year month day    state code   county  cases  deaths\n",
       "0  2021-01-01  2021    01  01  Alabama   AL  Autauga   4239      50\n",
       "1  2021-01-01  2021    01  01  Alabama   AL  Baldwin  13823     169\n",
       "2  2021-01-01  2021    01  01  Alabama   AL  Barbour   1517      33\n",
       "3  2021-01-01  2021    01  01  Alabama   AL     Bibb   1854      46\n",
       "4  2021-01-01  2021    01  01  Alabama   AL   Blount   4693      63"
      ]
     },
     "execution_count": 7,
     "metadata": {},
     "output_type": "execute_result"
    }
   ],
   "source": [
    "counties21_clean.head()"
   ]
  },
  {
   "cell_type": "code",
   "execution_count": 8,
   "id": "04d0e1b8-0d26-45f9-803e-d13b5365de38",
   "metadata": {},
   "outputs": [
    {
     "data": {
      "text/html": [
       "<div>\n",
       "<style scoped>\n",
       "    .dataframe tbody tr th:only-of-type {\n",
       "        vertical-align: middle;\n",
       "    }\n",
       "\n",
       "    .dataframe tbody tr th {\n",
       "        vertical-align: top;\n",
       "    }\n",
       "\n",
       "    .dataframe thead th {\n",
       "        text-align: right;\n",
       "    }\n",
       "</style>\n",
       "<table border=\"1\" class=\"dataframe\">\n",
       "  <thead>\n",
       "    <tr style=\"text-align: right;\">\n",
       "      <th></th>\n",
       "      <th>date</th>\n",
       "      <th>year</th>\n",
       "      <th>month</th>\n",
       "      <th>day</th>\n",
       "      <th>state</th>\n",
       "      <th>code</th>\n",
       "      <th>county</th>\n",
       "      <th>cases</th>\n",
       "      <th>deaths</th>\n",
       "    </tr>\n",
       "  </thead>\n",
       "  <tbody>\n",
       "    <tr>\n",
       "      <th>0</th>\n",
       "      <td>2022-01-01</td>\n",
       "      <td>2022</td>\n",
       "      <td>01</td>\n",
       "      <td>01</td>\n",
       "      <td>Alabama</td>\n",
       "      <td>AL</td>\n",
       "      <td>Autauga</td>\n",
       "      <td>11018</td>\n",
       "      <td>160</td>\n",
       "    </tr>\n",
       "    <tr>\n",
       "      <th>1</th>\n",
       "      <td>2022-01-01</td>\n",
       "      <td>2022</td>\n",
       "      <td>01</td>\n",
       "      <td>01</td>\n",
       "      <td>Alabama</td>\n",
       "      <td>AL</td>\n",
       "      <td>Baldwin</td>\n",
       "      <td>39911</td>\n",
       "      <td>593</td>\n",
       "    </tr>\n",
       "    <tr>\n",
       "      <th>2</th>\n",
       "      <td>2022-01-01</td>\n",
       "      <td>2022</td>\n",
       "      <td>01</td>\n",
       "      <td>01</td>\n",
       "      <td>Alabama</td>\n",
       "      <td>AL</td>\n",
       "      <td>Barbour</td>\n",
       "      <td>3860</td>\n",
       "      <td>81</td>\n",
       "    </tr>\n",
       "    <tr>\n",
       "      <th>3</th>\n",
       "      <td>2022-01-01</td>\n",
       "      <td>2022</td>\n",
       "      <td>01</td>\n",
       "      <td>01</td>\n",
       "      <td>Alabama</td>\n",
       "      <td>AL</td>\n",
       "      <td>Bibb</td>\n",
       "      <td>4533</td>\n",
       "      <td>95</td>\n",
       "    </tr>\n",
       "    <tr>\n",
       "      <th>4</th>\n",
       "      <td>2022-01-01</td>\n",
       "      <td>2022</td>\n",
       "      <td>01</td>\n",
       "      <td>01</td>\n",
       "      <td>Alabama</td>\n",
       "      <td>AL</td>\n",
       "      <td>Blount</td>\n",
       "      <td>11256</td>\n",
       "      <td>198</td>\n",
       "    </tr>\n",
       "  </tbody>\n",
       "</table>\n",
       "</div>"
      ],
      "text/plain": [
       "         date  year month day    state code   county  cases  deaths\n",
       "0  2022-01-01  2022    01  01  Alabama   AL  Autauga  11018     160\n",
       "1  2022-01-01  2022    01  01  Alabama   AL  Baldwin  39911     593\n",
       "2  2022-01-01  2022    01  01  Alabama   AL  Barbour   3860      81\n",
       "3  2022-01-01  2022    01  01  Alabama   AL     Bibb   4533      95\n",
       "4  2022-01-01  2022    01  01  Alabama   AL   Blount  11256     198"
      ]
     },
     "execution_count": 8,
     "metadata": {},
     "output_type": "execute_result"
    }
   ],
   "source": [
    "counties22_clean.head()"
   ]
  },
  {
   "cell_type": "markdown",
   "id": "9cbac909-c681-402b-964b-cda56569eb10",
   "metadata": {
    "tags": []
   },
   "source": [
    "### Map"
   ]
  },
  {
   "cell_type": "code",
   "execution_count": 9,
   "id": "df8828cd-e845-465b-80f9-b201cbc99298",
   "metadata": {},
   "outputs": [],
   "source": [
    "mapdf = mda.extra_data_retriever(extra_data, mda.state_per_month(states_df))"
   ]
  },
  {
   "cell_type": "code",
   "execution_count": 10,
   "id": "cf450aee-6434-45b0-a1e1-76e725030400",
   "metadata": {
    "tags": []
   },
   "outputs": [
    {
     "data": {
      "text/html": [
       "<div>\n",
       "<style scoped>\n",
       "    .dataframe tbody tr th:only-of-type {\n",
       "        vertical-align: middle;\n",
       "    }\n",
       "\n",
       "    .dataframe tbody tr th {\n",
       "        vertical-align: top;\n",
       "    }\n",
       "\n",
       "    .dataframe thead th {\n",
       "        text-align: right;\n",
       "    }\n",
       "</style>\n",
       "<table border=\"1\" class=\"dataframe\">\n",
       "  <thead>\n",
       "    <tr style=\"text-align: right;\">\n",
       "      <th></th>\n",
       "      <th>date</th>\n",
       "      <th>state</th>\n",
       "      <th>code</th>\n",
       "      <th>latitude</th>\n",
       "      <th>longitude</th>\n",
       "      <th>cases</th>\n",
       "      <th>deaths</th>\n",
       "      <th>1_dose</th>\n",
       "      <th>complete_dose</th>\n",
       "    </tr>\n",
       "  </thead>\n",
       "  <tbody>\n",
       "    <tr>\n",
       "      <th>0</th>\n",
       "      <td>2020-01</td>\n",
       "      <td>Arizona</td>\n",
       "      <td>AZ</td>\n",
       "      <td>34.168219</td>\n",
       "      <td>-111.930907</td>\n",
       "      <td>1</td>\n",
       "      <td>0</td>\n",
       "      <td>0</td>\n",
       "      <td>0</td>\n",
       "    </tr>\n",
       "    <tr>\n",
       "      <th>1</th>\n",
       "      <td>2020-01</td>\n",
       "      <td>California</td>\n",
       "      <td>CA</td>\n",
       "      <td>37.271875</td>\n",
       "      <td>-119.270415</td>\n",
       "      <td>3</td>\n",
       "      <td>0</td>\n",
       "      <td>0</td>\n",
       "      <td>0</td>\n",
       "    </tr>\n",
       "    <tr>\n",
       "      <th>2</th>\n",
       "      <td>2020-01</td>\n",
       "      <td>Illinois</td>\n",
       "      <td>IL</td>\n",
       "      <td>39.739318</td>\n",
       "      <td>-89.504139</td>\n",
       "      <td>2</td>\n",
       "      <td>0</td>\n",
       "      <td>0</td>\n",
       "      <td>0</td>\n",
       "    </tr>\n",
       "    <tr>\n",
       "      <th>3</th>\n",
       "      <td>2020-01</td>\n",
       "      <td>Washington</td>\n",
       "      <td>WA</td>\n",
       "      <td>38.899349</td>\n",
       "      <td>-77.014567</td>\n",
       "      <td>1</td>\n",
       "      <td>0</td>\n",
       "      <td>0</td>\n",
       "      <td>0</td>\n",
       "    </tr>\n",
       "    <tr>\n",
       "      <th>13</th>\n",
       "      <td>2020-02</td>\n",
       "      <td>Wisconsin</td>\n",
       "      <td>WI</td>\n",
       "      <td>44.786297</td>\n",
       "      <td>-89.826705</td>\n",
       "      <td>1</td>\n",
       "      <td>0</td>\n",
       "      <td>0</td>\n",
       "      <td>0</td>\n",
       "    </tr>\n",
       "  </tbody>\n",
       "</table>\n",
       "</div>"
      ],
      "text/plain": [
       "       date       state code   latitude   longitude  cases  deaths  1_dose  \\\n",
       "0   2020-01     Arizona   AZ  34.168219 -111.930907      1       0       0   \n",
       "1   2020-01  California   CA  37.271875 -119.270415      3       0       0   \n",
       "2   2020-01    Illinois   IL  39.739318  -89.504139      2       0       0   \n",
       "3   2020-01  Washington   WA  38.899349  -77.014567      1       0       0   \n",
       "13  2020-02   Wisconsin   WI  44.786297  -89.826705      1       0       0   \n",
       "\n",
       "    complete_dose  \n",
       "0               0  \n",
       "1               0  \n",
       "2               0  \n",
       "3               0  \n",
       "13              0  "
      ]
     },
     "execution_count": 10,
     "metadata": {},
     "output_type": "execute_result"
    }
   ],
   "source": [
    "mapdf.head()"
   ]
  },
  {
   "cell_type": "code",
   "execution_count": 11,
   "id": "85adce83-ed1d-4498-8069-463092c6ed05",
   "metadata": {},
   "outputs": [],
   "source": [
    "def fig_creator(s):\n",
    "    import plotly.express as px\n",
    "    \n",
    "    fig = px.scatter_geo(mapdf, locations=\"code\", locationmode=\"USA-states\", hover_name=\"state\",\n",
    "                     hover_data=[\"cases\", \"deaths\", \"1_dose\", \"complete_dose\"], size=s, size_max=20,\n",
    "                     animation_frame=\"date\", projection=\"albers usa\", title=\"Covid-19 evolution in US per state\", width=1000, height=1000)\n",
    "    fig.show()"
   ]
  },
  {
   "cell_type": "code",
   "execution_count": 12,
   "id": "ca5cc49b-0e41-4835-b71c-fadd796b6c17",
   "metadata": {},
   "outputs": [
    {
     "data": {
      "application/vnd.jupyter.widget-view+json": {
       "model_id": "3ada57da757a4b399827d20ea2af117f",
       "version_major": 2,
       "version_minor": 0
      },
      "text/plain": [
       "interactive(children=(Dropdown(description='Select:', options=(('Cases', 'cases'), ('Deaths', 'deaths'), ('One…"
      ]
     },
     "metadata": {},
     "output_type": "display_data"
    }
   ],
   "source": [
    "widgets.interact(fig_creator, s=widgets.Dropdown(\n",
    "    options=[(\"Cases\", \"cases\"), (\"Deaths\", \"deaths\"), (\"One Vaccination Dose\", \"1_dose\"), (\"Complete Vaccination\", \"complete_dose\")],\n",
    "    description='Select:'\n",
    "));"
   ]
  },
  {
   "cell_type": "markdown",
   "id": "c2415086-2a0a-4bf3-9610-39f79826bf97",
   "metadata": {
    "tags": []
   },
   "source": [
    "### Time Series plot"
   ]
  },
  {
   "cell_type": "code",
   "execution_count": 13,
   "id": "3825bcd6-c760-4b93-b1d7-c681cbbfb789",
   "metadata": {},
   "outputs": [],
   "source": [
    "us_timeseries = mda.timeseries_process(us, \"us\")\n",
    "state_timeseries = mda.timeseries_process(states_df, \"state\")\n",
    "counties = pd.concat([counties20_clean, counties21_clean, counties22_clean])\n",
    "counties_timeseries = mda.timeseries_process(counties, \"county\")"
   ]
  },
  {
   "cell_type": "code",
   "execution_count": 14,
   "id": "8aacd981-ecea-4684-ad94-8edd7b74f830",
   "metadata": {},
   "outputs": [
    {
     "data": {
      "application/vnd.jupyter.widget-view+json": {
       "model_id": "a4fef3fcb09f45cc9716494a3431afb3",
       "version_major": 2,
       "version_minor": 0
      },
      "text/plain": [
       "HBox(children=(Dropdown(options=(('Daily Cases', 'daily_cases'), ('Daily Deaths', 'daily_deaths')), value='dai…"
      ]
     },
     "metadata": {},
     "output_type": "display_data"
    },
    {
     "data": {
      "application/vnd.jupyter.widget-view+json": {
       "model_id": "b11b3c92d61944ca995aa7e0202f8aac",
       "version_major": 2,
       "version_minor": 0
      },
      "text/plain": [
       "Output()"
      ]
     },
     "metadata": {},
     "output_type": "display_data"
    }
   ],
   "source": [
    "dropdown_case = widgets.Dropdown(options=[(\"Daily Cases\", 'daily_cases'), (\"Daily Deaths\", 'daily_deaths')])\n",
    "dropdown_level = widgets.Dropdown(options=[('USA','us'),('State','state'), ('County','county')])\n",
    "dropdown_state = widgets.Dropdown(options=state_timeseries['state'].unique())\n",
    "dropdown_county = widgets.Dropdown(options=counties_timeseries['county'].unique())\n",
    "input_widgets = widgets.HBox([dropdown_case, dropdown_level])\n",
    "\n",
    "output = widgets.Output()\n",
    "def com_filter(case, level, state, county):\n",
    "    output.clear_output()\n",
    "    if level == 'us':\n",
    "        with output:\n",
    "            mda.plot(us_timeseries, level=\"us\", y=case)\n",
    "    elif level == \"state\":\n",
    "        with output:\n",
    "            display(dropdown_state)\n",
    "            mda.plot(state_timeseries, level=\"state\", y=case, state=state)\n",
    "    elif level == \"county\":\n",
    "        with output:\n",
    "            display(dropdown_county)\n",
    "            mda.plot(counties_timeseries, level=\"county\", y=case, county=county)\n",
    "\n",
    "def dropdown_case_eventhandler(change):\n",
    "    com_filter(change.new, dropdown_level.value, dropdown_state.value, dropdown_county.value)\n",
    "\n",
    "def dropdown_level_eventhandler(change):\n",
    "    com_filter(dropdown_case.value, change.new, dropdown_state.value, dropdown_county.value)    \n",
    "    \n",
    "def dropdown_state_eventhandler(change):\n",
    "    com_filter(dropdown_case.value, dropdown_level.value, change.new, dropdown_county.value)\n",
    "    \n",
    "def dropdown_county_eventhandler(change):\n",
    "    com_filter(dropdown_case.value, dropdown_level.value, dropdown_state.value, change.new)\n",
    "    \n",
    "dropdown_case.observe(dropdown_case_eventhandler, names='value')\n",
    "dropdown_level.observe(dropdown_level_eventhandler, names='value')\n",
    "dropdown_state.observe(dropdown_state_eventhandler, names='value')\n",
    "dropdown_county.observe(dropdown_county_eventhandler, names='value')\n",
    "display(input_widgets)\n",
    "\n",
    "\n",
    "display(output)"
   ]
  },
  {
   "cell_type": "markdown",
   "id": "2cbe2d9b-72f0-4d7c-bd80-daaa61cf1a54",
   "metadata": {},
   "source": [
    "### Clustering"
   ]
  },
  {
   "cell_type": "code",
   "execution_count": 15,
   "id": "a6eaf51a-469b-4a58-bb12-80597bcfd6a9",
   "metadata": {},
   "outputs": [],
   "source": [
    "df = mapdf.copy(deep=True)"
   ]
  },
  {
   "cell_type": "code",
   "execution_count": 16,
   "id": "e0ab7a10-5c73-4db9-8473-266ac6e71d0b",
   "metadata": {},
   "outputs": [],
   "source": [
    "df20_processed, df21_processed, df22_processed = mda.cluster_process(df)"
   ]
  },
  {
   "cell_type": "markdown",
   "id": "0a4087fb-3744-4d5b-88b7-1dee9a616479",
   "metadata": {},
   "source": [
    "#### 2020"
   ]
  },
  {
   "cell_type": "code",
   "execution_count": 17,
   "id": "4ccaff9f-f025-4097-b8d8-628b858e34cc",
   "metadata": {},
   "outputs": [
    {
     "data": {
      "application/vnd.plotly.v1+json": {
       "config": {
        "plotlyServerURL": "https://plot.ly"
       },
       "data": [
        {
         "marker": {
          "color": [
           3,
           2,
           0,
           3,
           4,
           3,
           3,
           3,
           1,
           0,
           2,
           2,
           1,
           0,
           3,
           3,
           3,
           0,
           3,
           3,
           0,
           0,
           3,
           3,
           3,
           2,
           3,
           2,
           3,
           0,
           3,
           1,
           0,
           2,
           0,
           3,
           2,
           0,
           3,
           3,
           2,
           0,
           1,
           2,
           3,
           3,
           3,
           3,
           3,
           2
          ],
          "opacity": 1,
          "size": [
           4827,
           198,
           8879,
           3676,
           25965,
           4879,
           5995,
           926,
           21672,
           10588,
           286,
           1438,
           17979,
           8263,
           3891,
           2741,
           2956,
           7488,
           347,
           5895,
           12423,
           13010,
           5382,
           4787,
           5887,
           962,
           1690,
           3136,
           759,
           19042,
           2479,
           37557,
           6811,
           1299,
           8962,
           2489,
           1485,
           16020,
           1777,
           5296,
           1488,
           6846,
           28155,
           1270,
           136,
           5032,
           3523,
           1338,
           5245,
           438
          ],
          "sizemode": "diameter",
          "sizeref": 751.14
         },
         "mode": "markers",
         "text": [
          "Alabama",
          "Alaska",
          "Arizona",
          "Arkansas",
          "California",
          "Colorado",
          "Connecticut",
          "Delaware",
          "Florida",
          "Georgia",
          "Hawaii",
          "Idaho",
          "Illinois",
          "Indiana",
          "Iowa",
          "Kansas",
          "Kentucky",
          "Louisiana",
          "Maine",
          "Maryland",
          "Massachusetts",
          "Michigan",
          "Minnesota",
          "Mississippi",
          "Missouri",
          "Montana",
          "Nebraska",
          "Nevada",
          "New Hampshire",
          "New Jersey",
          "New Mexico",
          "New York",
          "North Carolina",
          "North Dakota",
          "Ohio",
          "Oklahoma",
          "Oregon",
          "Pennsylvania",
          "Rhode Island",
          "South Carolina",
          "South Dakota",
          "Tennessee",
          "Texas",
          "Utah",
          "Vermont",
          "Virginia",
          "Washington",
          "West Virginia",
          "Wisconsin",
          "Wyoming"
         ],
         "type": "scatter",
         "x": [
          -0.3072654528566902,
          -2.177788664220477,
          1.1154292027173045,
          -0.7200654770292272,
          8.577376420040633,
          -0.5028584149396148,
          -0.776279019999143,
          -1.2999501490132337,
          5.75335118255226,
          0.7021484888735748,
          -0.9067057444586009,
          -1.3806793398036727,
          3.778193876453487,
          0.425207415225633,
          -0.8576230592208316,
          -0.9024862245308832,
          -0.6119789012020781,
          0.4089182209847433,
          -1.520286927950412,
          -0.44275268957564495,
          -0.007956752146814246,
          0.2837993241874464,
          -0.6017169647823172,
          -0.602061958118518,
          -0.28765367402600633,
          -1.5501065640719014,
          -1.1825840980697473,
          -0.9000582079181385,
          -1.4412779096485948,
          0.6573533158608924,
          -0.9422828669474898,
          3.826910888694619,
          0.29794193584815326,
          -1.5479542604175514,
          0.516455141499978,
          -0.6784622076280102,
          -1.2193112292176373,
          0.9014369125157413,
          -1.2815571443301694,
          -0.3475395862379072,
          -1.4225470405912688,
          1.4316142934296512,
          4.146834424419018,
          -0.9591615451862446,
          -1.5619311691832558,
          -0.2259067578099448,
          -0.5027295148453056,
          -1.1934703162199485,
          -0.42375452548452736,
          -1.5362266856213291
         ],
         "y": [
          -0.6145940598071512,
          3.8932489296908406,
          1.0959688608262055,
          -0.24689287522408768,
          2.453184883750897,
          0.48353181347987984,
          -0.9757714570487271,
          -0.7893719408006926,
          -0.16698054639619092,
          -0.9506719499671598,
          2.389617380707345,
          1.2210426186312955,
          0.789846082702261,
          -0.24379024848691944,
          0.05915699183474141,
          0.19869540696997015,
          -0.3808437314160977,
          -0.2824322395541198,
          -0.8605370789621851,
          -0.8695355902523866,
          -1.1900710861713968,
          -0.4329766678343903,
          0.16649416438552186,
          -0.45769583657466,
          -0.17918095001991463,
          1.0873788495465169,
          0.39983743791875975,
          1.0584451345831198,
          -0.794746764144518,
          -1.302085370684977,
          0.41486181317039084,
          -1.3067231197859135,
          -0.9166025857279736,
          0.6541048376673918,
          -0.6730805396947686,
          0.10730034171392566,
          1.4577041987413941,
          -1.0748009796924218,
          -0.9084126584577903,
          -0.8599472719213882,
          0.5313445280537662,
          0.02093649359550458,
          -0.762212301823312,
          0.8883407497721716,
          -0.7391690638205728,
          -0.7840777174447877,
          -0.8229320197440843,
          -0.5901238816377172,
          -0.05247444294747928,
          0.8576934583018869
         ]
        }
       ],
       "layout": {
        "autosize": true,
        "hovermode": "closest",
        "template": {
         "data": {
          "bar": [
           {
            "error_x": {
             "color": "#2a3f5f"
            },
            "error_y": {
             "color": "#2a3f5f"
            },
            "marker": {
             "line": {
              "color": "#E5ECF6",
              "width": 0.5
             },
             "pattern": {
              "fillmode": "overlay",
              "size": 10,
              "solidity": 0.2
             }
            },
            "type": "bar"
           }
          ],
          "barpolar": [
           {
            "marker": {
             "line": {
              "color": "#E5ECF6",
              "width": 0.5
             },
             "pattern": {
              "fillmode": "overlay",
              "size": 10,
              "solidity": 0.2
             }
            },
            "type": "barpolar"
           }
          ],
          "carpet": [
           {
            "aaxis": {
             "endlinecolor": "#2a3f5f",
             "gridcolor": "white",
             "linecolor": "white",
             "minorgridcolor": "white",
             "startlinecolor": "#2a3f5f"
            },
            "baxis": {
             "endlinecolor": "#2a3f5f",
             "gridcolor": "white",
             "linecolor": "white",
             "minorgridcolor": "white",
             "startlinecolor": "#2a3f5f"
            },
            "type": "carpet"
           }
          ],
          "choropleth": [
           {
            "colorbar": {
             "outlinewidth": 0,
             "ticks": ""
            },
            "type": "choropleth"
           }
          ],
          "contour": [
           {
            "colorbar": {
             "outlinewidth": 0,
             "ticks": ""
            },
            "colorscale": [
             [
              0,
              "#0d0887"
             ],
             [
              0.1111111111111111,
              "#46039f"
             ],
             [
              0.2222222222222222,
              "#7201a8"
             ],
             [
              0.3333333333333333,
              "#9c179e"
             ],
             [
              0.4444444444444444,
              "#bd3786"
             ],
             [
              0.5555555555555556,
              "#d8576b"
             ],
             [
              0.6666666666666666,
              "#ed7953"
             ],
             [
              0.7777777777777778,
              "#fb9f3a"
             ],
             [
              0.8888888888888888,
              "#fdca26"
             ],
             [
              1,
              "#f0f921"
             ]
            ],
            "type": "contour"
           }
          ],
          "contourcarpet": [
           {
            "colorbar": {
             "outlinewidth": 0,
             "ticks": ""
            },
            "type": "contourcarpet"
           }
          ],
          "heatmap": [
           {
            "colorbar": {
             "outlinewidth": 0,
             "ticks": ""
            },
            "colorscale": [
             [
              0,
              "#0d0887"
             ],
             [
              0.1111111111111111,
              "#46039f"
             ],
             [
              0.2222222222222222,
              "#7201a8"
             ],
             [
              0.3333333333333333,
              "#9c179e"
             ],
             [
              0.4444444444444444,
              "#bd3786"
             ],
             [
              0.5555555555555556,
              "#d8576b"
             ],
             [
              0.6666666666666666,
              "#ed7953"
             ],
             [
              0.7777777777777778,
              "#fb9f3a"
             ],
             [
              0.8888888888888888,
              "#fdca26"
             ],
             [
              1,
              "#f0f921"
             ]
            ],
            "type": "heatmap"
           }
          ],
          "heatmapgl": [
           {
            "colorbar": {
             "outlinewidth": 0,
             "ticks": ""
            },
            "colorscale": [
             [
              0,
              "#0d0887"
             ],
             [
              0.1111111111111111,
              "#46039f"
             ],
             [
              0.2222222222222222,
              "#7201a8"
             ],
             [
              0.3333333333333333,
              "#9c179e"
             ],
             [
              0.4444444444444444,
              "#bd3786"
             ],
             [
              0.5555555555555556,
              "#d8576b"
             ],
             [
              0.6666666666666666,
              "#ed7953"
             ],
             [
              0.7777777777777778,
              "#fb9f3a"
             ],
             [
              0.8888888888888888,
              "#fdca26"
             ],
             [
              1,
              "#f0f921"
             ]
            ],
            "type": "heatmapgl"
           }
          ],
          "histogram": [
           {
            "marker": {
             "pattern": {
              "fillmode": "overlay",
              "size": 10,
              "solidity": 0.2
             }
            },
            "type": "histogram"
           }
          ],
          "histogram2d": [
           {
            "colorbar": {
             "outlinewidth": 0,
             "ticks": ""
            },
            "colorscale": [
             [
              0,
              "#0d0887"
             ],
             [
              0.1111111111111111,
              "#46039f"
             ],
             [
              0.2222222222222222,
              "#7201a8"
             ],
             [
              0.3333333333333333,
              "#9c179e"
             ],
             [
              0.4444444444444444,
              "#bd3786"
             ],
             [
              0.5555555555555556,
              "#d8576b"
             ],
             [
              0.6666666666666666,
              "#ed7953"
             ],
             [
              0.7777777777777778,
              "#fb9f3a"
             ],
             [
              0.8888888888888888,
              "#fdca26"
             ],
             [
              1,
              "#f0f921"
             ]
            ],
            "type": "histogram2d"
           }
          ],
          "histogram2dcontour": [
           {
            "colorbar": {
             "outlinewidth": 0,
             "ticks": ""
            },
            "colorscale": [
             [
              0,
              "#0d0887"
             ],
             [
              0.1111111111111111,
              "#46039f"
             ],
             [
              0.2222222222222222,
              "#7201a8"
             ],
             [
              0.3333333333333333,
              "#9c179e"
             ],
             [
              0.4444444444444444,
              "#bd3786"
             ],
             [
              0.5555555555555556,
              "#d8576b"
             ],
             [
              0.6666666666666666,
              "#ed7953"
             ],
             [
              0.7777777777777778,
              "#fb9f3a"
             ],
             [
              0.8888888888888888,
              "#fdca26"
             ],
             [
              1,
              "#f0f921"
             ]
            ],
            "type": "histogram2dcontour"
           }
          ],
          "mesh3d": [
           {
            "colorbar": {
             "outlinewidth": 0,
             "ticks": ""
            },
            "type": "mesh3d"
           }
          ],
          "parcoords": [
           {
            "line": {
             "colorbar": {
              "outlinewidth": 0,
              "ticks": ""
             }
            },
            "type": "parcoords"
           }
          ],
          "pie": [
           {
            "automargin": true,
            "type": "pie"
           }
          ],
          "scatter": [
           {
            "fillpattern": {
             "fillmode": "overlay",
             "size": 10,
             "solidity": 0.2
            },
            "type": "scatter"
           }
          ],
          "scatter3d": [
           {
            "line": {
             "colorbar": {
              "outlinewidth": 0,
              "ticks": ""
             }
            },
            "marker": {
             "colorbar": {
              "outlinewidth": 0,
              "ticks": ""
             }
            },
            "type": "scatter3d"
           }
          ],
          "scattercarpet": [
           {
            "marker": {
             "colorbar": {
              "outlinewidth": 0,
              "ticks": ""
             }
            },
            "type": "scattercarpet"
           }
          ],
          "scattergeo": [
           {
            "marker": {
             "colorbar": {
              "outlinewidth": 0,
              "ticks": ""
             }
            },
            "type": "scattergeo"
           }
          ],
          "scattergl": [
           {
            "marker": {
             "colorbar": {
              "outlinewidth": 0,
              "ticks": ""
             }
            },
            "type": "scattergl"
           }
          ],
          "scattermapbox": [
           {
            "marker": {
             "colorbar": {
              "outlinewidth": 0,
              "ticks": ""
             }
            },
            "type": "scattermapbox"
           }
          ],
          "scatterpolar": [
           {
            "marker": {
             "colorbar": {
              "outlinewidth": 0,
              "ticks": ""
             }
            },
            "type": "scatterpolar"
           }
          ],
          "scatterpolargl": [
           {
            "marker": {
             "colorbar": {
              "outlinewidth": 0,
              "ticks": ""
             }
            },
            "type": "scatterpolargl"
           }
          ],
          "scatterternary": [
           {
            "marker": {
             "colorbar": {
              "outlinewidth": 0,
              "ticks": ""
             }
            },
            "type": "scatterternary"
           }
          ],
          "surface": [
           {
            "colorbar": {
             "outlinewidth": 0,
             "ticks": ""
            },
            "colorscale": [
             [
              0,
              "#0d0887"
             ],
             [
              0.1111111111111111,
              "#46039f"
             ],
             [
              0.2222222222222222,
              "#7201a8"
             ],
             [
              0.3333333333333333,
              "#9c179e"
             ],
             [
              0.4444444444444444,
              "#bd3786"
             ],
             [
              0.5555555555555556,
              "#d8576b"
             ],
             [
              0.6666666666666666,
              "#ed7953"
             ],
             [
              0.7777777777777778,
              "#fb9f3a"
             ],
             [
              0.8888888888888888,
              "#fdca26"
             ],
             [
              1,
              "#f0f921"
             ]
            ],
            "type": "surface"
           }
          ],
          "table": [
           {
            "cells": {
             "fill": {
              "color": "#EBF0F8"
             },
             "line": {
              "color": "white"
             }
            },
            "header": {
             "fill": {
              "color": "#C8D4E3"
             },
             "line": {
              "color": "white"
             }
            },
            "type": "table"
           }
          ]
         },
         "layout": {
          "annotationdefaults": {
           "arrowcolor": "#2a3f5f",
           "arrowhead": 0,
           "arrowwidth": 1
          },
          "autotypenumbers": "strict",
          "coloraxis": {
           "colorbar": {
            "outlinewidth": 0,
            "ticks": ""
           }
          },
          "colorscale": {
           "diverging": [
            [
             0,
             "#8e0152"
            ],
            [
             0.1,
             "#c51b7d"
            ],
            [
             0.2,
             "#de77ae"
            ],
            [
             0.3,
             "#f1b6da"
            ],
            [
             0.4,
             "#fde0ef"
            ],
            [
             0.5,
             "#f7f7f7"
            ],
            [
             0.6,
             "#e6f5d0"
            ],
            [
             0.7,
             "#b8e186"
            ],
            [
             0.8,
             "#7fbc41"
            ],
            [
             0.9,
             "#4d9221"
            ],
            [
             1,
             "#276419"
            ]
           ],
           "sequential": [
            [
             0,
             "#0d0887"
            ],
            [
             0.1111111111111111,
             "#46039f"
            ],
            [
             0.2222222222222222,
             "#7201a8"
            ],
            [
             0.3333333333333333,
             "#9c179e"
            ],
            [
             0.4444444444444444,
             "#bd3786"
            ],
            [
             0.5555555555555556,
             "#d8576b"
            ],
            [
             0.6666666666666666,
             "#ed7953"
            ],
            [
             0.7777777777777778,
             "#fb9f3a"
            ],
            [
             0.8888888888888888,
             "#fdca26"
            ],
            [
             1,
             "#f0f921"
            ]
           ],
           "sequentialminus": [
            [
             0,
             "#0d0887"
            ],
            [
             0.1111111111111111,
             "#46039f"
            ],
            [
             0.2222222222222222,
             "#7201a8"
            ],
            [
             0.3333333333333333,
             "#9c179e"
            ],
            [
             0.4444444444444444,
             "#bd3786"
            ],
            [
             0.5555555555555556,
             "#d8576b"
            ],
            [
             0.6666666666666666,
             "#ed7953"
            ],
            [
             0.7777777777777778,
             "#fb9f3a"
            ],
            [
             0.8888888888888888,
             "#fdca26"
            ],
            [
             1,
             "#f0f921"
            ]
           ]
          },
          "colorway": [
           "#636efa",
           "#EF553B",
           "#00cc96",
           "#ab63fa",
           "#FFA15A",
           "#19d3f3",
           "#FF6692",
           "#B6E880",
           "#FF97FF",
           "#FECB52"
          ],
          "font": {
           "color": "#2a3f5f"
          },
          "geo": {
           "bgcolor": "white",
           "lakecolor": "white",
           "landcolor": "#E5ECF6",
           "showlakes": true,
           "showland": true,
           "subunitcolor": "white"
          },
          "hoverlabel": {
           "align": "left"
          },
          "hovermode": "closest",
          "mapbox": {
           "style": "light"
          },
          "paper_bgcolor": "white",
          "plot_bgcolor": "#E5ECF6",
          "polar": {
           "angularaxis": {
            "gridcolor": "white",
            "linecolor": "white",
            "ticks": ""
           },
           "bgcolor": "#E5ECF6",
           "radialaxis": {
            "gridcolor": "white",
            "linecolor": "white",
            "ticks": ""
           }
          },
          "scene": {
           "xaxis": {
            "backgroundcolor": "#E5ECF6",
            "gridcolor": "white",
            "gridwidth": 2,
            "linecolor": "white",
            "showbackground": true,
            "ticks": "",
            "zerolinecolor": "white"
           },
           "yaxis": {
            "backgroundcolor": "#E5ECF6",
            "gridcolor": "white",
            "gridwidth": 2,
            "linecolor": "white",
            "showbackground": true,
            "ticks": "",
            "zerolinecolor": "white"
           },
           "zaxis": {
            "backgroundcolor": "#E5ECF6",
            "gridcolor": "white",
            "gridwidth": 2,
            "linecolor": "white",
            "showbackground": true,
            "ticks": "",
            "zerolinecolor": "white"
           }
          },
          "shapedefaults": {
           "line": {
            "color": "#2a3f5f"
           }
          },
          "ternary": {
           "aaxis": {
            "gridcolor": "white",
            "linecolor": "white",
            "ticks": ""
           },
           "baxis": {
            "gridcolor": "white",
            "linecolor": "white",
            "ticks": ""
           },
           "bgcolor": "#E5ECF6",
           "caxis": {
            "gridcolor": "white",
            "linecolor": "white",
            "ticks": ""
           }
          },
          "title": {
           "x": 0.05
          },
          "xaxis": {
           "automargin": true,
           "gridcolor": "white",
           "linecolor": "white",
           "ticks": "",
           "title": {
            "standoff": 15
           },
           "zerolinecolor": "white",
           "zerolinewidth": 2
          },
          "yaxis": {
           "automargin": true,
           "gridcolor": "white",
           "linecolor": "white",
           "ticks": "",
           "title": {
            "standoff": 15
           },
           "zerolinecolor": "white",
           "zerolinewidth": 2
          }
         }
        },
        "title": {
         "text": "US State Cluster Analysis 2020"
        },
        "xaxis": {
         "autorange": true,
         "range": [
          -2.8210882413720126,
          9.41575946092371
         ],
         "showgrid": true,
         "showticklabels": true,
         "title": {
          "text": "PC1"
         },
         "type": "linear",
         "zeroline": true
        },
        "yaxis": {
         "autorange": true,
         "range": [
          -2.9450704778402335,
          4.3817003159430605
         ],
         "showgrid": true,
         "showticklabels": true,
         "title": {
          "text": "PC2"
         },
         "type": "linear",
         "zeroline": true
        }
       }
      },
      "image/png": "[encoded data removed]"
     },
     "metadata": {},
     "output_type": "display_data"
    }
   ],
   "source": [
    "warnings.filterwarnings('ignore')\n",
    "\n",
    "clusterdf20, Z20, silhoutte20, ari20 = mda.cluster_algorithm(df20_processed, \"kmeans\")\n",
    "\n",
    "fig20 = go.Figure(\n",
    "    data=go.Scatter(\n",
    "        x=clusterdf20[\"PC1\"].values,\n",
    "        y=clusterdf20[\"PC2\"].values,\n",
    "        text=clusterdf20.index,\n",
    "        mode='markers',\n",
    "        marker=go.Marker(\n",
    "            size=df20_processed[\"deaths\"],\n",
    "            sizemode='diameter',\n",
    "            sizeref=df20_processed[\"deaths\"].max()/50,\n",
    "            opacity=1,\n",
    "            color=Z20\n",
    "        )\n",
    "    )\n",
    ")\n",
    "\n",
    "fig20.update_layout(\n",
    "    go.Layout(\n",
    "        title='US State Cluster Analysis 2020',\n",
    "        xaxis=go.XAxis(title=\"PC1\", showgrid=True, zeroline=True, showticklabels=True),\n",
    "        yaxis=go.YAxis(title=\"PC2\", showgrid=True, zeroline=True, showticklabels=True),\n",
    "        hovermode='closest'\n",
    "    )\n",
    ")\n",
    "\n",
    "fig20.show()"
   ]
  },
  {
   "cell_type": "markdown",
   "id": "a6639103-41fc-4742-b1a3-6f684be70768",
   "metadata": {},
   "source": [
    "#### 2021"
   ]
  },
  {
   "cell_type": "code",
   "execution_count": 18,
   "id": "1546fe3b-de7f-4d29-b652-36e4c7976d2a",
   "metadata": {},
   "outputs": [
    {
     "data": {
      "application/vnd.plotly.v1+json": {
       "config": {
        "plotlyServerURL": "https://plot.ly"
       },
       "data": [
        {
         "marker": {
          "color": [
           2,
           4,
           2,
           2,
           3,
           0,
           2,
           0,
           1,
           2,
           0,
           1,
           2,
           0,
           0,
           2,
           2,
           0,
           2,
           2,
           2,
           0,
           2,
           2,
           0,
           0,
           0,
           0,
           2,
           0,
           1,
           2,
           0,
           2,
           2,
           0,
           2,
           0,
           2,
           0,
           2,
           1,
           0,
           0,
           2,
           2,
           0,
           0,
           0
          ],
          "opacity": 1,
          "size": [
           16455,
           954,
           24229,
           9148,
           76709,
           10480,
           9161,
           2286,
           62504,
           30283,
           4163,
           31017,
           19037,
           7858,
           7030,
           12149,
           14986,
           1531,
           11758,
           20273,
           28984,
           10656,
           10450,
           16223,
           2907,
           3336,
           8420,
           1961,
           29037,
           5857,
           58993,
           19436,
           2057,
           29447,
           11552,
           5655,
           36705,
           3066,
           14636,
           2486,
           20640,
           76062,
           3787,
           471,
           15587,
           9904,
           5336,
           11173,
           1526
          ],
          "sizemode": "diameter",
          "sizeref": 1534.18
         },
         "mode": "markers",
         "text": [
          "Alabama",
          "Alaska",
          "Arizona",
          "Arkansas",
          "California",
          "Colorado",
          "Connecticut",
          "Delaware",
          "Florida",
          "Georgia",
          "Idaho",
          "Illinois",
          "Indiana",
          "Iowa",
          "Kansas",
          "Kentucky",
          "Louisiana",
          "Maine",
          "Maryland",
          "Massachusetts",
          "Michigan",
          "Minnesota",
          "Mississippi",
          "Missouri",
          "Montana",
          "Nebraska",
          "Nevada",
          "New Hampshire",
          "New Jersey",
          "New Mexico",
          "New York",
          "North Carolina",
          "North Dakota",
          "Ohio",
          "Oklahoma",
          "Oregon",
          "Pennsylvania",
          "Rhode Island",
          "South Carolina",
          "South Dakota",
          "Tennessee",
          "Texas",
          "Utah",
          "Vermont",
          "Virginia",
          "Washington",
          "West Virginia",
          "Wisconsin",
          "Wyoming"
         ],
         "type": "scatter",
         "x": [
          -0.30259734828099305,
          -2.424426432035331,
          1.7169343557197894,
          -0.919939154913687,
          9.773317689394693,
          -0.5076540784718844,
          -0.7502820562586152,
          -1.4075310904668983,
          4.69416978773635,
          0.7114881634110799,
          -1.5762109070641837,
          3.085029716733057,
          -0.1528205916830692,
          -1.1324624771331664,
          -0.9593630060230657,
          -0.5626721261883388,
          -0.4011057248973132,
          -1.7309863809536825,
          -0.2602285542857405,
          0.32615338730204924,
          0.5513162066726787,
          -0.47816506618163446,
          -0.8915234093398648,
          -0.21152307822005975,
          -1.8762979046454427,
          -1.3650500161776293,
          -0.31031607595174865,
          -1.6204664338749204,
          0.47490647061140473,
          -0.9379585122119084,
          3.4502827405369625,
          0.6862837146032887,
          -1.9322095753254467,
          0.8918340353339506,
          -0.5473002383612534,
          -1.0319167101479512,
          1.3493238188291188,
          -1.4119824298254133,
          -0.4140527561667511,
          -1.7776503282519378,
          0.0831834419815861,
          5.984635598531714,
          -0.7850819837622603,
          -1.881817645994495,
          0.1651033418196825,
          0.462551852413814,
          -1.397504646202808,
          -0.5891602311073824,
          -1.8582573512263396
         ],
         "y": [
          -1.1522201159880014,
          5.120642205072877,
          0.8050487150404941,
          -0.6937657180395859,
          2.666330403797546,
          0.4426293335845771,
          -0.6317969724274016,
          -0.8643124983057834,
          -1.4105070566723439,
          -1.3923178869138801,
          1.470676905372777,
          0.7252370042147552,
          -0.37014411544578085,
          0.16989393148939538,
          0.07232888925488748,
          -0.5778114394610614,
          -1.1458355238289935,
          -0.5342593117270551,
          -0.6912569902530178,
          -0.5112936288307574,
          0.25474338764111315,
          0.8250722935597342,
          -1.0636996297683696,
          -0.20490611715703508,
          1.3629182051656563,
          0.4408895433634684,
          1.1773698333571305,
          -0.5395109224752317,
          -0.8326260151957683,
          -0.03821839979607439,
          -0.5847139127176628,
          -1.0358828507294169,
          1.0321920221687868,
          -0.4621514737207901,
          -0.25508770523875973,
          1.7263364109016837,
          -0.5238566273003548,
          -0.7617406521626409,
          -1.3243003837752343,
          0.6863397774800993,
          -0.8252125296950793,
          -0.20555129602613695,
          0.8800890216591647,
          -0.5662666988809435,
          -0.7148721007550157,
          -0.3991259323983053,
          -0.7804043713357786,
          0.377202211974905,
          0.8577087819232068
         ]
        }
       ],
       "layout": {
        "autosize": true,
        "hovermode": "closest",
        "template": {
         "data": {
          "bar": [
           {
            "error_x": {
             "color": "#2a3f5f"
            },
            "error_y": {
             "color": "#2a3f5f"
            },
            "marker": {
             "line": {
              "color": "#E5ECF6",
              "width": 0.5
             },
             "pattern": {
              "fillmode": "overlay",
              "size": 10,
              "solidity": 0.2
             }
            },
            "type": "bar"
           }
          ],
          "barpolar": [
           {
            "marker": {
             "line": {
              "color": "#E5ECF6",
              "width": 0.5
             },
             "pattern": {
              "fillmode": "overlay",
              "size": 10,
              "solidity": 0.2
             }
            },
            "type": "barpolar"
           }
          ],
          "carpet": [
           {
            "aaxis": {
             "endlinecolor": "#2a3f5f",
             "gridcolor": "white",
             "linecolor": "white",
             "minorgridcolor": "white",
             "startlinecolor": "#2a3f5f"
            },
            "baxis": {
             "endlinecolor": "#2a3f5f",
             "gridcolor": "white",
             "linecolor": "white",
             "minorgridcolor": "white",
             "startlinecolor": "#2a3f5f"
            },
            "type": "carpet"
           }
          ],
          "choropleth": [
           {
            "colorbar": {
             "outlinewidth": 0,
             "ticks": ""
            },
            "type": "choropleth"
           }
          ],
          "contour": [
           {
            "colorbar": {
             "outlinewidth": 0,
             "ticks": ""
            },
            "colorscale": [
             [
              0,
              "#0d0887"
             ],
             [
              0.1111111111111111,
              "#46039f"
             ],
             [
              0.2222222222222222,
              "#7201a8"
             ],
             [
              0.3333333333333333,
              "#9c179e"
             ],
             [
              0.4444444444444444,
              "#bd3786"
             ],
             [
              0.5555555555555556,
              "#d8576b"
             ],
             [
              0.6666666666666666,
              "#ed7953"
             ],
             [
              0.7777777777777778,
              "#fb9f3a"
             ],
             [
              0.8888888888888888,
              "#fdca26"
             ],
             [
              1,
              "#f0f921"
             ]
            ],
            "type": "contour"
           }
          ],
          "contourcarpet": [
           {
            "colorbar": {
             "outlinewidth": 0,
             "ticks": ""
            },
            "type": "contourcarpet"
           }
          ],
          "heatmap": [
           {
            "colorbar": {
             "outlinewidth": 0,
             "ticks": ""
            },
            "colorscale": [
             [
              0,
              "#0d0887"
             ],
             [
              0.1111111111111111,
              "#46039f"
             ],
             [
              0.2222222222222222,
              "#7201a8"
             ],
             [
              0.3333333333333333,
              "#9c179e"
             ],
             [
              0.4444444444444444,
              "#bd3786"
             ],
             [
              0.5555555555555556,
              "#d8576b"
             ],
             [
              0.6666666666666666,
              "#ed7953"
             ],
             [
              0.7777777777777778,
              "#fb9f3a"
             ],
             [
              0.8888888888888888,
              "#fdca26"
             ],
             [
              1,
              "#f0f921"
             ]
            ],
            "type": "heatmap"
           }
          ],
          "heatmapgl": [
           {
            "colorbar": {
             "outlinewidth": 0,
             "ticks": ""
            },
            "colorscale": [
             [
              0,
              "#0d0887"
             ],
             [
              0.1111111111111111,
              "#46039f"
             ],
             [
              0.2222222222222222,
              "#7201a8"
             ],
             [
              0.3333333333333333,
              "#9c179e"
             ],
             [
              0.4444444444444444,
              "#bd3786"
             ],
             [
              0.5555555555555556,
              "#d8576b"
             ],
             [
              0.6666666666666666,
              "#ed7953"
             ],
             [
              0.7777777777777778,
              "#fb9f3a"
             ],
             [
              0.8888888888888888,
              "#fdca26"
             ],
             [
              1,
              "#f0f921"
             ]
            ],
            "type": "heatmapgl"
           }
          ],
          "histogram": [
           {
            "marker": {
             "pattern": {
              "fillmode": "overlay",
              "size": 10,
              "solidity": 0.2
             }
            },
            "type": "histogram"
           }
          ],
          "histogram2d": [
           {
            "colorbar": {
             "outlinewidth": 0,
             "ticks": ""
            },
            "colorscale": [
             [
              0,
              "#0d0887"
             ],
             [
              0.1111111111111111,
              "#46039f"
             ],
             [
              0.2222222222222222,
              "#7201a8"
             ],
             [
              0.3333333333333333,
              "#9c179e"
             ],
             [
              0.4444444444444444,
              "#bd3786"
             ],
             [
              0.5555555555555556,
              "#d8576b"
             ],
             [
              0.6666666666666666,
              "#ed7953"
             ],
             [
              0.7777777777777778,
              "#fb9f3a"
             ],
             [
              0.8888888888888888,
              "#fdca26"
             ],
             [
              1,
              "#f0f921"
             ]
            ],
            "type": "histogram2d"
           }
          ],
          "histogram2dcontour": [
           {
            "colorbar": {
             "outlinewidth": 0,
             "ticks": ""
            },
            "colorscale": [
             [
              0,
              "#0d0887"
             ],
             [
              0.1111111111111111,
              "#46039f"
             ],
             [
              0.2222222222222222,
              "#7201a8"
             ],
             [
              0.3333333333333333,
              "#9c179e"
             ],
             [
              0.4444444444444444,
              "#bd3786"
             ],
             [
              0.5555555555555556,
              "#d8576b"
             ],
             [
              0.6666666666666666,
              "#ed7953"
             ],
             [
              0.7777777777777778,
              "#fb9f3a"
             ],
             [
              0.8888888888888888,
              "#fdca26"
             ],
             [
              1,
              "#f0f921"
             ]
            ],
            "type": "histogram2dcontour"
           }
          ],
          "mesh3d": [
           {
            "colorbar": {
             "outlinewidth": 0,
             "ticks": ""
            },
            "type": "mesh3d"
           }
          ],
          "parcoords": [
           {
            "line": {
             "colorbar": {
              "outlinewidth": 0,
              "ticks": ""
             }
            },
            "type": "parcoords"
           }
          ],
          "pie": [
           {
            "automargin": true,
            "type": "pie"
           }
          ],
          "scatter": [
           {
            "fillpattern": {
             "fillmode": "overlay",
             "size": 10,
             "solidity": 0.2
            },
            "type": "scatter"
           }
          ],
          "scatter3d": [
           {
            "line": {
             "colorbar": {
              "outlinewidth": 0,
              "ticks": ""
             }
            },
            "marker": {
             "colorbar": {
              "outlinewidth": 0,
              "ticks": ""
             }
            },
            "type": "scatter3d"
           }
          ],
          "scattercarpet": [
           {
            "marker": {
             "colorbar": {
              "outlinewidth": 0,
              "ticks": ""
             }
            },
            "type": "scattercarpet"
           }
          ],
          "scattergeo": [
           {
            "marker": {
             "colorbar": {
              "outlinewidth": 0,
              "ticks": ""
             }
            },
            "type": "scattergeo"
           }
          ],
          "scattergl": [
           {
            "marker": {
             "colorbar": {
              "outlinewidth": 0,
              "ticks": ""
             }
            },
            "type": "scattergl"
           }
          ],
          "scattermapbox": [
           {
            "marker": {
             "colorbar": {
              "outlinewidth": 0,
              "ticks": ""
             }
            },
            "type": "scattermapbox"
           }
          ],
          "scatterpolar": [
           {
            "marker": {
             "colorbar": {
              "outlinewidth": 0,
              "ticks": ""
             }
            },
            "type": "scatterpolar"
           }
          ],
          "scatterpolargl": [
           {
            "marker": {
             "colorbar": {
              "outlinewidth": 0,
              "ticks": ""
             }
            },
            "type": "scatterpolargl"
           }
          ],
          "scatterternary": [
           {
            "marker": {
             "colorbar": {
              "outlinewidth": 0,
              "ticks": ""
             }
            },
            "type": "scatterternary"
           }
          ],
          "surface": [
           {
            "colorbar": {
             "outlinewidth": 0,
             "ticks": ""
            },
            "colorscale": [
             [
              0,
              "#0d0887"
             ],
             [
              0.1111111111111111,
              "#46039f"
             ],
             [
              0.2222222222222222,
              "#7201a8"
             ],
             [
              0.3333333333333333,
              "#9c179e"
             ],
             [
              0.4444444444444444,
              "#bd3786"
             ],
             [
              0.5555555555555556,
              "#d8576b"
             ],
             [
              0.6666666666666666,
              "#ed7953"
             ],
             [
              0.7777777777777778,
              "#fb9f3a"
             ],
             [
              0.8888888888888888,
              "#fdca26"
             ],
             [
              1,
              "#f0f921"
             ]
            ],
            "type": "surface"
           }
          ],
          "table": [
           {
            "cells": {
             "fill": {
              "color": "#EBF0F8"
             },
             "line": {
              "color": "white"
             }
            },
            "header": {
             "fill": {
              "color": "#C8D4E3"
             },
             "line": {
              "color": "white"
             }
            },
            "type": "table"
           }
          ]
         },
         "layout": {
          "annotationdefaults": {
           "arrowcolor": "#2a3f5f",
           "arrowhead": 0,
           "arrowwidth": 1
          },
          "autotypenumbers": "strict",
          "coloraxis": {
           "colorbar": {
            "outlinewidth": 0,
            "ticks": ""
           }
          },
          "colorscale": {
           "diverging": [
            [
             0,
             "#8e0152"
            ],
            [
             0.1,
             "#c51b7d"
            ],
            [
             0.2,
             "#de77ae"
            ],
            [
             0.3,
             "#f1b6da"
            ],
            [
             0.4,
             "#fde0ef"
            ],
            [
             0.5,
             "#f7f7f7"
            ],
            [
             0.6,
             "#e6f5d0"
            ],
            [
             0.7,
             "#b8e186"
            ],
            [
             0.8,
             "#7fbc41"
            ],
            [
             0.9,
             "#4d9221"
            ],
            [
             1,
             "#276419"
            ]
           ],
           "sequential": [
            [
             0,
             "#0d0887"
            ],
            [
             0.1111111111111111,
             "#46039f"
            ],
            [
             0.2222222222222222,
             "#7201a8"
            ],
            [
             0.3333333333333333,
             "#9c179e"
            ],
            [
             0.4444444444444444,
             "#bd3786"
            ],
            [
             0.5555555555555556,
             "#d8576b"
            ],
            [
             0.6666666666666666,
             "#ed7953"
            ],
            [
             0.7777777777777778,
             "#fb9f3a"
            ],
            [
             0.8888888888888888,
             "#fdca26"
            ],
            [
             1,
             "#f0f921"
            ]
           ],
           "sequentialminus": [
            [
             0,
             "#0d0887"
            ],
            [
             0.1111111111111111,
             "#46039f"
            ],
            [
             0.2222222222222222,
             "#7201a8"
            ],
            [
             0.3333333333333333,
             "#9c179e"
            ],
            [
             0.4444444444444444,
             "#bd3786"
            ],
            [
             0.5555555555555556,
             "#d8576b"
            ],
            [
             0.6666666666666666,
             "#ed7953"
            ],
            [
             0.7777777777777778,
             "#fb9f3a"
            ],
            [
             0.8888888888888888,
             "#fdca26"
            ],
            [
             1,
             "#f0f921"
            ]
           ]
          },
          "colorway": [
           "#636efa",
           "#EF553B",
           "#00cc96",
           "#ab63fa",
           "#FFA15A",
           "#19d3f3",
           "#FF6692",
           "#B6E880",
           "#FF97FF",
           "#FECB52"
          ],
          "font": {
           "color": "#2a3f5f"
          },
          "geo": {
           "bgcolor": "white",
           "lakecolor": "white",
           "landcolor": "#E5ECF6",
           "showlakes": true,
           "showland": true,
           "subunitcolor": "white"
          },
          "hoverlabel": {
           "align": "left"
          },
          "hovermode": "closest",
          "mapbox": {
           "style": "light"
          },
          "paper_bgcolor": "white",
          "plot_bgcolor": "#E5ECF6",
          "polar": {
           "angularaxis": {
            "gridcolor": "white",
            "linecolor": "white",
            "ticks": ""
           },
           "bgcolor": "#E5ECF6",
           "radialaxis": {
            "gridcolor": "white",
            "linecolor": "white",
            "ticks": ""
           }
          },
          "scene": {
           "xaxis": {
            "backgroundcolor": "#E5ECF6",
            "gridcolor": "white",
            "gridwidth": 2,
            "linecolor": "white",
            "showbackground": true,
            "ticks": "",
            "zerolinecolor": "white"
           },
           "yaxis": {
            "backgroundcolor": "#E5ECF6",
            "gridcolor": "white",
            "gridwidth": 2,
            "linecolor": "white",
            "showbackground": true,
            "ticks": "",
            "zerolinecolor": "white"
           },
           "zaxis": {
            "backgroundcolor": "#E5ECF6",
            "gridcolor": "white",
            "gridwidth": 2,
            "linecolor": "white",
            "showbackground": true,
            "ticks": "",
            "zerolinecolor": "white"
           }
          },
          "shapedefaults": {
           "line": {
            "color": "#2a3f5f"
           }
          },
          "ternary": {
           "aaxis": {
            "gridcolor": "white",
            "linecolor": "white",
            "ticks": ""
           },
           "baxis": {
            "gridcolor": "white",
            "linecolor": "white",
            "ticks": ""
           },
           "bgcolor": "#E5ECF6",
           "caxis": {
            "gridcolor": "white",
            "linecolor": "white",
            "ticks": ""
           }
          },
          "title": {
           "x": 0.05
          },
          "xaxis": {
           "automargin": true,
           "gridcolor": "white",
           "linecolor": "white",
           "ticks": "",
           "title": {
            "standoff": 15
           },
           "zerolinecolor": "white",
           "zerolinewidth": 2
          },
          "yaxis": {
           "automargin": true,
           "gridcolor": "white",
           "linecolor": "white",
           "ticks": "",
           "title": {
            "standoff": 15
           },
           "zerolinecolor": "white",
           "zerolinewidth": 2
          }
         }
        },
        "title": {
         "text": "US State Cluster Analysis 2021"
        },
        "xaxis": {
         "autorange": true,
         "range": [
          -3.160937038648915,
          10.848971321873538
         ],
         "showgrid": true,
         "showticklabels": true,
         "title": {
          "text": "PC1"
         },
         "type": "linear",
         "zeroline": true
        },
        "yaxis": {
         "autorange": true,
         "range": [
          -3.0960618650403955,
          5.707549638652397
         ],
         "showgrid": true,
         "showticklabels": true,
         "title": {
          "text": "PC2"
         },
         "type": "linear",
         "zeroline": true
        }
       }
      },
      "image/png": "[encoded data removed]"
     },
     "metadata": {},
     "output_type": "display_data"
    }
   ],
   "source": [
    "warnings.filterwarnings('ignore')\n",
    "\n",
    "clusterdf21, Z21, silhoutte21, ari21 = mda.cluster_algorithm(df21_processed, \"kmeans\")\n",
    "\n",
    "fig21 = go.Figure(\n",
    "    data=go.Scatter(\n",
    "        x=clusterdf21[\"PC1\"].values,\n",
    "        y=clusterdf21[\"PC2\"].values,\n",
    "        text=clusterdf21.index,\n",
    "        mode='markers',\n",
    "        marker=go.Marker(\n",
    "            size=df21_processed[\"deaths\"],\n",
    "            sizemode='diameter',\n",
    "            sizeref=df21_processed[\"deaths\"].max()/50,\n",
    "            opacity=1,\n",
    "            color=Z21\n",
    "        )\n",
    "    )\n",
    ")\n",
    "\n",
    "fig21.update_layout(\n",
    "    go.Layout(\n",
    "        title='US State Cluster Analysis 2021',\n",
    "        xaxis=go.XAxis(title=\"PC1\", showgrid=True, zeroline=True, showticklabels=True),\n",
    "        yaxis=go.YAxis(title=\"PC2\", showgrid=True, zeroline=True, showticklabels=True),\n",
    "        hovermode='closest'\n",
    "    )\n",
    ")\n",
    "\n",
    "fig21.show()"
   ]
  },
  {
   "cell_type": "markdown",
   "id": "b5f4d36a-6eca-43cd-a9fd-e14742ff72cf",
   "metadata": {},
   "source": [
    "#### 2022"
   ]
  },
  {
   "cell_type": "code",
   "execution_count": 19,
   "id": "2ad01bed-9d87-4f5b-a1d8-e6e44d21c270",
   "metadata": {},
   "outputs": [
    {
     "data": {
      "application/vnd.plotly.v1+json": {
       "config": {
        "plotlyServerURL": "https://plot.ly"
       },
       "data": [
        {
         "marker": {
          "color": [
           2,
           4,
           2,
           2,
           3,
           0,
           2,
           0,
           1,
           2,
           0,
           1,
           2,
           0,
           0,
           2,
           2,
           0,
           2,
           2,
           2,
           0,
           2,
           2,
           0,
           0,
           0,
           0,
           2,
           0,
           1,
           2,
           0,
           2,
           2,
           0,
           2,
           0,
           2,
           0,
           2,
           1,
           0,
           0,
           2,
           2,
           0,
           0,
           0
          ],
          "opacity": 1,
          "size": [
           19658,
           1246,
           30299,
           11481,
           91464,
           12747,
           10941,
           2956,
           74466,
           36714,
           4943,
           38127,
           23692,
           9588,
           8959,
           15909,
           17325,
           2347,
           14594,
           23751,
           36357,
           12938,
           12466,
           20752,
           3401,
           4284,
           10872,
           2534,
           33694,
           7780,
           68292,
           24654,
           2328,
           38628,
           14420,
           7611,
           45169,
           3577,
           17905,
           2927,
           26165,
           88553,
           4777,
           661,
           20376,
           12967,
           6945,
           14594,
           1820
          ],
          "sizemode": "diameter",
          "sizeref": 1829.28
         },
         "mode": "markers",
         "text": [
          "Alabama",
          "Alaska",
          "Arizona",
          "Arkansas",
          "California",
          "Colorado",
          "Connecticut",
          "Delaware",
          "Florida",
          "Georgia",
          "Idaho",
          "Illinois",
          "Indiana",
          "Iowa",
          "Kansas",
          "Kentucky",
          "Louisiana",
          "Maine",
          "Maryland",
          "Massachusetts",
          "Michigan",
          "Minnesota",
          "Mississippi",
          "Missouri",
          "Montana",
          "Nebraska",
          "Nevada",
          "New Hampshire",
          "New Jersey",
          "New Mexico",
          "New York",
          "North Carolina",
          "North Dakota",
          "Ohio",
          "Oklahoma",
          "Oregon",
          "Pennsylvania",
          "Rhode Island",
          "South Carolina",
          "South Dakota",
          "Tennessee",
          "Texas",
          "Utah",
          "Vermont",
          "Virginia",
          "Washington",
          "West Virginia",
          "Wisconsin",
          "Wyoming"
         ],
         "type": "scatter",
         "x": [
          -0.3340207604497951,
          -2.399541918981797,
          1.7369836043835398,
          -0.9279452096865434,
          9.96851752664098,
          -0.5163920593675978,
          -0.7462341587689074,
          -1.4071118565875693,
          4.59062040141764,
          0.793867322921634,
          -1.563400409595404,
          3.138890800457352,
          -0.19410550777519278,
          -1.1668011147074155,
          -0.9569502790904031,
          -0.542751257211951,
          -0.4355520432368097,
          -1.719145351904476,
          -0.2661590410791199,
          0.3297520581016281,
          0.5420288208164756,
          -0.50631653806523,
          -0.9120543504783504,
          -0.22411170188258636,
          -1.8864193021915703,
          -1.3716617580767272,
          -0.2850378439229141,
          -1.6150576741086367,
          0.4368340255720324,
          -0.9288767141819354,
          3.4179232850691257,
          0.7499455880173781,
          -1.943755551356172,
          0.8535001276423504,
          -0.5527939309110194,
          -0.9946273251034894,
          1.3485449920811645,
          -1.4119183747448931,
          -0.42278465996176573,
          -1.7892958108783663,
          0.06894694606256972,
          5.852499313398399,
          -0.7882297119226994,
          -1.8793909035850833,
          0.1907711663087321,
          0.5299186710221678,
          -1.4108822296763253,
          -0.5852900773223756,
          -1.8649292231000467
         ],
         "y": [
          -1.1521756182118348,
          5.1549031731115145,
          0.7732457009071279,
          -0.6946474440859246,
          2.5776216735233466,
          0.44681792815641475,
          -0.6396651385291331,
          -0.8708589564021733,
          -1.3989770841012088,
          -1.307954300902521,
          1.492419950032487,
          0.6977697082212307,
          -0.3629562660845342,
          0.17452375694374195,
          0.07121853420215832,
          -0.58299484462057,
          -1.144023735867705,
          -0.5386727357325146,
          -0.7098868148847363,
          -0.5234263997311105,
          0.2570541289225784,
          0.8269523796070136,
          -1.0629132175262561,
          -0.20873176030666532,
          1.3756932248653382,
          0.4431460138781233,
          1.1661994817052843,
          -0.541095135695175,
          -0.8208159434678565,
          -0.046382837257964375,
          -0.5551274722861574,
          -1.031587981795077,
          1.0430467805402894,
          -0.46130801021305895,
          -0.2578471169747112,
          1.7220306218661532,
          -0.5040965394576093,
          -0.7677995459494463,
          -1.3216454398725863,
          0.6946198328725433,
          -0.8219517464474606,
          -0.19712407234168802,
          0.882036168866481,
          -0.5675235637261629,
          -0.7321695265964363,
          -0.43881624845231987,
          -0.7894292186838294,
          0.3865636348596694,
          0.8667420231229296
         ]
        }
       ],
       "layout": {
        "autosize": true,
        "hovermode": "closest",
        "template": {
         "data": {
          "bar": [
           {
            "error_x": {
             "color": "#2a3f5f"
            },
            "error_y": {
             "color": "#2a3f5f"
            },
            "marker": {
             "line": {
              "color": "#E5ECF6",
              "width": 0.5
             },
             "pattern": {
              "fillmode": "overlay",
              "size": 10,
              "solidity": 0.2
             }
            },
            "type": "bar"
           }
          ],
          "barpolar": [
           {
            "marker": {
             "line": {
              "color": "#E5ECF6",
              "width": 0.5
             },
             "pattern": {
              "fillmode": "overlay",
              "size": 10,
              "solidity": 0.2
             }
            },
            "type": "barpolar"
           }
          ],
          "carpet": [
           {
            "aaxis": {
             "endlinecolor": "#2a3f5f",
             "gridcolor": "white",
             "linecolor": "white",
             "minorgridcolor": "white",
             "startlinecolor": "#2a3f5f"
            },
            "baxis": {
             "endlinecolor": "#2a3f5f",
             "gridcolor": "white",
             "linecolor": "white",
             "minorgridcolor": "white",
             "startlinecolor": "#2a3f5f"
            },
            "type": "carpet"
           }
          ],
          "choropleth": [
           {
            "colorbar": {
             "outlinewidth": 0,
             "ticks": ""
            },
            "type": "choropleth"
           }
          ],
          "contour": [
           {
            "colorbar": {
             "outlinewidth": 0,
             "ticks": ""
            },
            "colorscale": [
             [
              0,
              "#0d0887"
             ],
             [
              0.1111111111111111,
              "#46039f"
             ],
             [
              0.2222222222222222,
              "#7201a8"
             ],
             [
              0.3333333333333333,
              "#9c179e"
             ],
             [
              0.4444444444444444,
              "#bd3786"
             ],
             [
              0.5555555555555556,
              "#d8576b"
             ],
             [
              0.6666666666666666,
              "#ed7953"
             ],
             [
              0.7777777777777778,
              "#fb9f3a"
             ],
             [
              0.8888888888888888,
              "#fdca26"
             ],
             [
              1,
              "#f0f921"
             ]
            ],
            "type": "contour"
           }
          ],
          "contourcarpet": [
           {
            "colorbar": {
             "outlinewidth": 0,
             "ticks": ""
            },
            "type": "contourcarpet"
           }
          ],
          "heatmap": [
           {
            "colorbar": {
             "outlinewidth": 0,
             "ticks": ""
            },
            "colorscale": [
             [
              0,
              "#0d0887"
             ],
             [
              0.1111111111111111,
              "#46039f"
             ],
             [
              0.2222222222222222,
              "#7201a8"
             ],
             [
              0.3333333333333333,
              "#9c179e"
             ],
             [
              0.4444444444444444,
              "#bd3786"
             ],
             [
              0.5555555555555556,
              "#d8576b"
             ],
             [
              0.6666666666666666,
              "#ed7953"
             ],
             [
              0.7777777777777778,
              "#fb9f3a"
             ],
             [
              0.8888888888888888,
              "#fdca26"
             ],
             [
              1,
              "#f0f921"
             ]
            ],
            "type": "heatmap"
           }
          ],
          "heatmapgl": [
           {
            "colorbar": {
             "outlinewidth": 0,
             "ticks": ""
            },
            "colorscale": [
             [
              0,
              "#0d0887"
             ],
             [
              0.1111111111111111,
              "#46039f"
             ],
             [
              0.2222222222222222,
              "#7201a8"
             ],
             [
              0.3333333333333333,
              "#9c179e"
             ],
             [
              0.4444444444444444,
              "#bd3786"
             ],
             [
              0.5555555555555556,
              "#d8576b"
             ],
             [
              0.6666666666666666,
              "#ed7953"
             ],
             [
              0.7777777777777778,
              "#fb9f3a"
             ],
             [
              0.8888888888888888,
              "#fdca26"
             ],
             [
              1,
              "#f0f921"
             ]
            ],
            "type": "heatmapgl"
           }
          ],
          "histogram": [
           {
            "marker": {
             "pattern": {
              "fillmode": "overlay",
              "size": 10,
              "solidity": 0.2
             }
            },
            "type": "histogram"
           }
          ],
          "histogram2d": [
           {
            "colorbar": {
             "outlinewidth": 0,
             "ticks": ""
            },
            "colorscale": [
             [
              0,
              "#0d0887"
             ],
             [
              0.1111111111111111,
              "#46039f"
             ],
             [
              0.2222222222222222,
              "#7201a8"
             ],
             [
              0.3333333333333333,
              "#9c179e"
             ],
             [
              0.4444444444444444,
              "#bd3786"
             ],
             [
              0.5555555555555556,
              "#d8576b"
             ],
             [
              0.6666666666666666,
              "#ed7953"
             ],
             [
              0.7777777777777778,
              "#fb9f3a"
             ],
             [
              0.8888888888888888,
              "#fdca26"
             ],
             [
              1,
              "#f0f921"
             ]
            ],
            "type": "histogram2d"
           }
          ],
          "histogram2dcontour": [
           {
            "colorbar": {
             "outlinewidth": 0,
             "ticks": ""
            },
            "colorscale": [
             [
              0,
              "#0d0887"
             ],
             [
              0.1111111111111111,
              "#46039f"
             ],
             [
              0.2222222222222222,
              "#7201a8"
             ],
             [
              0.3333333333333333,
              "#9c179e"
             ],
             [
              0.4444444444444444,
              "#bd3786"
             ],
             [
              0.5555555555555556,
              "#d8576b"
             ],
             [
              0.6666666666666666,
              "#ed7953"
             ],
             [
              0.7777777777777778,
              "#fb9f3a"
             ],
             [
              0.8888888888888888,
              "#fdca26"
             ],
             [
              1,
              "#f0f921"
             ]
            ],
            "type": "histogram2dcontour"
           }
          ],
          "mesh3d": [
           {
            "colorbar": {
             "outlinewidth": 0,
             "ticks": ""
            },
            "type": "mesh3d"
           }
          ],
          "parcoords": [
           {
            "line": {
             "colorbar": {
              "outlinewidth": 0,
              "ticks": ""
             }
            },
            "type": "parcoords"
           }
          ],
          "pie": [
           {
            "automargin": true,
            "type": "pie"
           }
          ],
          "scatter": [
           {
            "fillpattern": {
             "fillmode": "overlay",
             "size": 10,
             "solidity": 0.2
            },
            "type": "scatter"
           }
          ],
          "scatter3d": [
           {
            "line": {
             "colorbar": {
              "outlinewidth": 0,
              "ticks": ""
             }
            },
            "marker": {
             "colorbar": {
              "outlinewidth": 0,
              "ticks": ""
             }
            },
            "type": "scatter3d"
           }
          ],
          "scattercarpet": [
           {
            "marker": {
             "colorbar": {
              "outlinewidth": 0,
              "ticks": ""
             }
            },
            "type": "scattercarpet"
           }
          ],
          "scattergeo": [
           {
            "marker": {
             "colorbar": {
              "outlinewidth": 0,
              "ticks": ""
             }
            },
            "type": "scattergeo"
           }
          ],
          "scattergl": [
           {
            "marker": {
             "colorbar": {
              "outlinewidth": 0,
              "ticks": ""
             }
            },
            "type": "scattergl"
           }
          ],
          "scattermapbox": [
           {
            "marker": {
             "colorbar": {
              "outlinewidth": 0,
              "ticks": ""
             }
            },
            "type": "scattermapbox"
           }
          ],
          "scatterpolar": [
           {
            "marker": {
             "colorbar": {
              "outlinewidth": 0,
              "ticks": ""
             }
            },
            "type": "scatterpolar"
           }
          ],
          "scatterpolargl": [
           {
            "marker": {
             "colorbar": {
              "outlinewidth": 0,
              "ticks": ""
             }
            },
            "type": "scatterpolargl"
           }
          ],
          "scatterternary": [
           {
            "marker": {
             "colorbar": {
              "outlinewidth": 0,
              "ticks": ""
             }
            },
            "type": "scatterternary"
           }
          ],
          "surface": [
           {
            "colorbar": {
             "outlinewidth": 0,
             "ticks": ""
            },
            "colorscale": [
             [
              0,
              "#0d0887"
             ],
             [
              0.1111111111111111,
              "#46039f"
             ],
             [
              0.2222222222222222,
              "#7201a8"
             ],
             [
              0.3333333333333333,
              "#9c179e"
             ],
             [
              0.4444444444444444,
              "#bd3786"
             ],
             [
              0.5555555555555556,
              "#d8576b"
             ],
             [
              0.6666666666666666,
              "#ed7953"
             ],
             [
              0.7777777777777778,
              "#fb9f3a"
             ],
             [
              0.8888888888888888,
              "#fdca26"
             ],
             [
              1,
              "#f0f921"
             ]
            ],
            "type": "surface"
           }
          ],
          "table": [
           {
            "cells": {
             "fill": {
              "color": "#EBF0F8"
             },
             "line": {
              "color": "white"
             }
            },
            "header": {
             "fill": {
              "color": "#C8D4E3"
             },
             "line": {
              "color": "white"
             }
            },
            "type": "table"
           }
          ]
         },
         "layout": {
          "annotationdefaults": {
           "arrowcolor": "#2a3f5f",
           "arrowhead": 0,
           "arrowwidth": 1
          },
          "autotypenumbers": "strict",
          "coloraxis": {
           "colorbar": {
            "outlinewidth": 0,
            "ticks": ""
           }
          },
          "colorscale": {
           "diverging": [
            [
             0,
             "#8e0152"
            ],
            [
             0.1,
             "#c51b7d"
            ],
            [
             0.2,
             "#de77ae"
            ],
            [
             0.3,
             "#f1b6da"
            ],
            [
             0.4,
             "#fde0ef"
            ],
            [
             0.5,
             "#f7f7f7"
            ],
            [
             0.6,
             "#e6f5d0"
            ],
            [
             0.7,
             "#b8e186"
            ],
            [
             0.8,
             "#7fbc41"
            ],
            [
             0.9,
             "#4d9221"
            ],
            [
             1,
             "#276419"
            ]
           ],
           "sequential": [
            [
             0,
             "#0d0887"
            ],
            [
             0.1111111111111111,
             "#46039f"
            ],
            [
             0.2222222222222222,
             "#7201a8"
            ],
            [
             0.3333333333333333,
             "#9c179e"
            ],
            [
             0.4444444444444444,
             "#bd3786"
            ],
            [
             0.5555555555555556,
             "#d8576b"
            ],
            [
             0.6666666666666666,
             "#ed7953"
            ],
            [
             0.7777777777777778,
             "#fb9f3a"
            ],
            [
             0.8888888888888888,
             "#fdca26"
            ],
            [
             1,
             "#f0f921"
            ]
           ],
           "sequentialminus": [
            [
             0,
             "#0d0887"
            ],
            [
             0.1111111111111111,
             "#46039f"
            ],
            [
             0.2222222222222222,
             "#7201a8"
            ],
            [
             0.3333333333333333,
             "#9c179e"
            ],
            [
             0.4444444444444444,
             "#bd3786"
            ],
            [
             0.5555555555555556,
             "#d8576b"
            ],
            [
             0.6666666666666666,
             "#ed7953"
            ],
            [
             0.7777777777777778,
             "#fb9f3a"
            ],
            [
             0.8888888888888888,
             "#fdca26"
            ],
            [
             1,
             "#f0f921"
            ]
           ]
          },
          "colorway": [
           "#636efa",
           "#EF553B",
           "#00cc96",
           "#ab63fa",
           "#FFA15A",
           "#19d3f3",
           "#FF6692",
           "#B6E880",
           "#FF97FF",
           "#FECB52"
          ],
          "font": {
           "color": "#2a3f5f"
          },
          "geo": {
           "bgcolor": "white",
           "lakecolor": "white",
           "landcolor": "#E5ECF6",
           "showlakes": true,
           "showland": true,
           "subunitcolor": "white"
          },
          "hoverlabel": {
           "align": "left"
          },
          "hovermode": "closest",
          "mapbox": {
           "style": "light"
          },
          "paper_bgcolor": "white",
          "plot_bgcolor": "#E5ECF6",
          "polar": {
           "angularaxis": {
            "gridcolor": "white",
            "linecolor": "white",
            "ticks": ""
           },
           "bgcolor": "#E5ECF6",
           "radialaxis": {
            "gridcolor": "white",
            "linecolor": "white",
            "ticks": ""
           }
          },
          "scene": {
           "xaxis": {
            "backgroundcolor": "#E5ECF6",
            "gridcolor": "white",
            "gridwidth": 2,
            "linecolor": "white",
            "showbackground": true,
            "ticks": "",
            "zerolinecolor": "white"
           },
           "yaxis": {
            "backgroundcolor": "#E5ECF6",
            "gridcolor": "white",
            "gridwidth": 2,
            "linecolor": "white",
            "showbackground": true,
            "ticks": "",
            "zerolinecolor": "white"
           },
           "zaxis": {
            "backgroundcolor": "#E5ECF6",
            "gridcolor": "white",
            "gridwidth": 2,
            "linecolor": "white",
            "showbackground": true,
            "ticks": "",
            "zerolinecolor": "white"
           }
          },
          "shapedefaults": {
           "line": {
            "color": "#2a3f5f"
           }
          },
          "ternary": {
           "aaxis": {
            "gridcolor": "white",
            "linecolor": "white",
            "ticks": ""
           },
           "baxis": {
            "gridcolor": "white",
            "linecolor": "white",
            "ticks": ""
           },
           "bgcolor": "#E5ECF6",
           "caxis": {
            "gridcolor": "white",
            "linecolor": "white",
            "ticks": ""
           }
          },
          "title": {
           "x": 0.05
          },
          "xaxis": {
           "automargin": true,
           "gridcolor": "white",
           "linecolor": "white",
           "ticks": "",
           "title": {
            "standoff": 15
           },
           "zerolinecolor": "white",
           "zerolinewidth": 2
          },
          "yaxis": {
           "automargin": true,
           "gridcolor": "white",
           "linecolor": "white",
           "ticks": "",
           "title": {
            "standoff": 15
           },
           "zerolinecolor": "white",
           "zerolinewidth": 2
          }
         }
        },
        "title": {
         "text": "US State Cluster Analysis 2022"
        },
        "xaxis": {
         "autorange": true,
         "range": [
          -3.1812920673200296,
          11.295562531536127
         ],
         "showgrid": true,
         "showticklabels": true,
         "title": {
          "text": "PC1"
         },
         "type": "linear",
         "zeroline": true
        },
        "yaxis": {
         "autorange": true,
         "range": [
          -3.089118712804389,
          5.743761879248365
         ],
         "showgrid": true,
         "showticklabels": true,
         "title": {
          "text": "PC2"
         },
         "type": "linear",
         "zeroline": true
        }
       }
      },
      "image/png": "[encoded data removed]"
     },
     "metadata": {},
     "output_type": "display_data"
    }
   ],
   "source": [
    "warnings.filterwarnings('ignore')\n",
    "\n",
    "clusterdf22, Z22, silhoutte22, ari22 = mda.cluster_algorithm(df22_processed, \"kmeans\")\n",
    "\n",
    "fig22 = go.Figure(\n",
    "    data=go.Scatter(\n",
    "        x=clusterdf22[\"PC1\"].values,\n",
    "        y=clusterdf22[\"PC2\"].values,\n",
    "        text=clusterdf22.index,\n",
    "        mode='markers',\n",
    "        marker=go.Marker(\n",
    "            size=df22_processed[\"deaths\"],\n",
    "            sizemode='diameter',\n",
    "            sizeref=df22_processed[\"deaths\"].max()/50,\n",
    "            opacity=1,\n",
    "            color=Z22\n",
    "        )\n",
    "    )\n",
    ")\n",
    "\n",
    "fig22.update_layout(\n",
    "    go.Layout(\n",
    "        title='US State Cluster Analysis 2022',\n",
    "        xaxis=go.XAxis(title=\"PC1\", showgrid=True, zeroline=True, showticklabels=True),\n",
    "        yaxis=go.YAxis(title=\"PC2\", showgrid=True, zeroline=True, showticklabels=True),\n",
    "        hovermode='closest'\n",
    "    )\n",
    ")\n",
    "\n",
    "fig22.show()"
   ]
  },
  {
   "cell_type": "markdown",
   "id": "8dd9cceb-255c-49d8-b92d-73e015671f90",
   "metadata": {},
   "source": [
    "### Linear Mixed Effects Models"
   ]
  },
  {
   "cell_type": "code",
   "execution_count": 20,
   "id": "5df02b47-6cf5-4ecb-a9cd-a1e1fda40c2d",
   "metadata": {},
   "outputs": [],
   "source": [
    "import numpy as np\n",
    "import pandas as pd\n",
    "import statsmodels.api as sm\n",
    "import statsmodels.formula.api as smf"
   ]
  },
  {
   "cell_type": "code",
   "execution_count": 21,
   "id": "75d2ec86-d318-4d2e-84b8-e987c8ba8df6",
   "metadata": {},
   "outputs": [],
   "source": [
    "lmem = mda.lmem_process(mapdf)"
   ]
  },
  {
   "cell_type": "code",
   "execution_count": 22,
   "id": "18b2062b-302c-408c-988f-703057acc722",
   "metadata": {},
   "outputs": [
    {
     "data": {
      "text/html": [
       "<div>\n",
       "<style scoped>\n",
       "    .dataframe tbody tr th:only-of-type {\n",
       "        vertical-align: middle;\n",
       "    }\n",
       "\n",
       "    .dataframe tbody tr th {\n",
       "        vertical-align: top;\n",
       "    }\n",
       "\n",
       "    .dataframe thead th {\n",
       "        text-align: right;\n",
       "    }\n",
       "</style>\n",
       "<table border=\"1\" class=\"dataframe\">\n",
       "  <thead>\n",
       "    <tr style=\"text-align: right;\">\n",
       "      <th></th>\n",
       "      <th>state</th>\n",
       "      <th>month</th>\n",
       "      <th>year</th>\n",
       "      <th>latitude</th>\n",
       "      <th>longitude</th>\n",
       "      <th>cases</th>\n",
       "      <th>deaths</th>\n",
       "      <th>1_dose</th>\n",
       "      <th>complete_dose</th>\n",
       "      <th>population</th>\n",
       "    </tr>\n",
       "  </thead>\n",
       "  <tbody>\n",
       "    <tr>\n",
       "      <th>0</th>\n",
       "      <td>Alabama</td>\n",
       "      <td>3</td>\n",
       "      <td>2020</td>\n",
       "      <td>32.601011</td>\n",
       "      <td>-86.680736</td>\n",
       "      <td>999</td>\n",
       "      <td>14</td>\n",
       "      <td>0</td>\n",
       "      <td>0</td>\n",
       "      <td>4903185</td>\n",
       "    </tr>\n",
       "    <tr>\n",
       "      <th>1</th>\n",
       "      <td>Alabama</td>\n",
       "      <td>4</td>\n",
       "      <td>2020</td>\n",
       "      <td>32.601011</td>\n",
       "      <td>-86.680736</td>\n",
       "      <td>7068</td>\n",
       "      <td>272</td>\n",
       "      <td>0</td>\n",
       "      <td>0</td>\n",
       "      <td>4903185</td>\n",
       "    </tr>\n",
       "    <tr>\n",
       "      <th>2</th>\n",
       "      <td>Alabama</td>\n",
       "      <td>5</td>\n",
       "      <td>2020</td>\n",
       "      <td>32.601011</td>\n",
       "      <td>-86.680736</td>\n",
       "      <td>17952</td>\n",
       "      <td>630</td>\n",
       "      <td>0</td>\n",
       "      <td>0</td>\n",
       "      <td>4903185</td>\n",
       "    </tr>\n",
       "    <tr>\n",
       "      <th>3</th>\n",
       "      <td>Alabama</td>\n",
       "      <td>6</td>\n",
       "      <td>2020</td>\n",
       "      <td>32.601011</td>\n",
       "      <td>-86.680736</td>\n",
       "      <td>38045</td>\n",
       "      <td>950</td>\n",
       "      <td>0</td>\n",
       "      <td>0</td>\n",
       "      <td>4903185</td>\n",
       "    </tr>\n",
       "    <tr>\n",
       "      <th>4</th>\n",
       "      <td>Alabama</td>\n",
       "      <td>7</td>\n",
       "      <td>2020</td>\n",
       "      <td>32.601011</td>\n",
       "      <td>-86.680736</td>\n",
       "      <td>87723</td>\n",
       "      <td>1580</td>\n",
       "      <td>0</td>\n",
       "      <td>0</td>\n",
       "      <td>4903185</td>\n",
       "    </tr>\n",
       "    <tr>\n",
       "      <th>...</th>\n",
       "      <td>...</td>\n",
       "      <td>...</td>\n",
       "      <td>...</td>\n",
       "      <td>...</td>\n",
       "      <td>...</td>\n",
       "      <td>...</td>\n",
       "      <td>...</td>\n",
       "      <td>...</td>\n",
       "      <td>...</td>\n",
       "      <td>...</td>\n",
       "    </tr>\n",
       "    <tr>\n",
       "      <th>240</th>\n",
       "      <td>Wyoming</td>\n",
       "      <td>25</td>\n",
       "      <td>2022</td>\n",
       "      <td>43.000325</td>\n",
       "      <td>-107.554567</td>\n",
       "      <td>146505</td>\n",
       "      <td>1625</td>\n",
       "      <td>62640</td>\n",
       "      <td>54351</td>\n",
       "      <td>578759</td>\n",
       "    </tr>\n",
       "    <tr>\n",
       "      <th>241</th>\n",
       "      <td>Wyoming</td>\n",
       "      <td>26</td>\n",
       "      <td>2022</td>\n",
       "      <td>43.000325</td>\n",
       "      <td>-107.554567</td>\n",
       "      <td>155101</td>\n",
       "      <td>1718</td>\n",
       "      <td>63254</td>\n",
       "      <td>55093</td>\n",
       "      <td>578759</td>\n",
       "    </tr>\n",
       "    <tr>\n",
       "      <th>242</th>\n",
       "      <td>Wyoming</td>\n",
       "      <td>27</td>\n",
       "      <td>2022</td>\n",
       "      <td>43.000325</td>\n",
       "      <td>-107.554567</td>\n",
       "      <td>156112</td>\n",
       "      <td>1791</td>\n",
       "      <td>63619</td>\n",
       "      <td>55498</td>\n",
       "      <td>578759</td>\n",
       "    </tr>\n",
       "    <tr>\n",
       "      <th>243</th>\n",
       "      <td>Wyoming</td>\n",
       "      <td>28</td>\n",
       "      <td>2022</td>\n",
       "      <td>43.000325</td>\n",
       "      <td>-107.554567</td>\n",
       "      <td>156550</td>\n",
       "      <td>1812</td>\n",
       "      <td>64139</td>\n",
       "      <td>56324</td>\n",
       "      <td>578759</td>\n",
       "    </tr>\n",
       "    <tr>\n",
       "      <th>244</th>\n",
       "      <td>Wyoming</td>\n",
       "      <td>29</td>\n",
       "      <td>2022</td>\n",
       "      <td>43.000325</td>\n",
       "      <td>-107.554567</td>\n",
       "      <td>157861</td>\n",
       "      <td>1820</td>\n",
       "      <td>64382</td>\n",
       "      <td>56494</td>\n",
       "      <td>578759</td>\n",
       "    </tr>\n",
       "  </tbody>\n",
       "</table>\n",
       "<p>1347 rows × 10 columns</p>\n",
       "</div>"
      ],
      "text/plain": [
       "       state  month  year   latitude   longitude   cases  deaths  1_dose  \\\n",
       "0    Alabama      3  2020  32.601011  -86.680736     999      14       0   \n",
       "1    Alabama      4  2020  32.601011  -86.680736    7068     272       0   \n",
       "2    Alabama      5  2020  32.601011  -86.680736   17952     630       0   \n",
       "3    Alabama      6  2020  32.601011  -86.680736   38045     950       0   \n",
       "4    Alabama      7  2020  32.601011  -86.680736   87723    1580       0   \n",
       "..       ...    ...   ...        ...         ...     ...     ...     ...   \n",
       "240  Wyoming     25  2022  43.000325 -107.554567  146505    1625   62640   \n",
       "241  Wyoming     26  2022  43.000325 -107.554567  155101    1718   63254   \n",
       "242  Wyoming     27  2022  43.000325 -107.554567  156112    1791   63619   \n",
       "243  Wyoming     28  2022  43.000325 -107.554567  156550    1812   64139   \n",
       "244  Wyoming     29  2022  43.000325 -107.554567  157861    1820   64382   \n",
       "\n",
       "     complete_dose  population  \n",
       "0                0     4903185  \n",
       "1                0     4903185  \n",
       "2                0     4903185  \n",
       "3                0     4903185  \n",
       "4                0     4903185  \n",
       "..             ...         ...  \n",
       "240          54351      578759  \n",
       "241          55093      578759  \n",
       "242          55498      578759  \n",
       "243          56324      578759  \n",
       "244          56494      578759  \n",
       "\n",
       "[1347 rows x 10 columns]"
      ]
     },
     "execution_count": 22,
     "metadata": {},
     "output_type": "execute_result"
    }
   ],
   "source": [
    "lmem"
   ]
  },
  {
   "cell_type": "code",
   "execution_count": 23,
   "id": "b63563d3-4946-4a84-8142-93315f0275c2",
   "metadata": {},
   "outputs": [
    {
     "name": "stdout",
     "output_type": "stream",
     "text": [
      "                 Mixed Linear Model Regression Results\n",
      "=======================================================================\n",
      "Model:                 MixedLM     Dependent Variable:     deaths      \n",
      "No. Observations:      1347        Method:                 REML        \n",
      "No. Groups:            50          Scale:                  2906593.0676\n",
      "Min. group size:       10          Log-Likelihood:         -12191.0517 \n",
      "Max. group size:       29          Converged:              Yes         \n",
      "Mean group size:       26.9                                            \n",
      "-----------------------------------------------------------------------\n",
      "                     Coef.     Std.Err.   z    P>|z|   [0.025   0.975] \n",
      "-----------------------------------------------------------------------\n",
      "Intercept            -2149.895  621.497 -3.459 0.001 -3368.007 -931.782\n",
      "month                  783.519  121.739  6.436 0.000   544.916 1022.123\n",
      "Group Var         18739953.564 2329.512                                \n",
      "Group x month Cov -2081952.931  365.908                                \n",
      "month Var           738674.727   89.488                                \n",
      "=======================================================================\n",
      "\n"
     ]
    }
   ],
   "source": [
    "# Run LMER\n",
    "md = smf.mixedlm(\"deaths ~ month\", lmem, groups=lmem[\"state\"], re_formula=\"~month\")\n",
    "mdf = md.fit(method=[\"lbfgs\"])\n",
    "print(mdf.summary())"
   ]
  },
  {
   "cell_type": "markdown",
   "id": "bdb32021-3113-4c34-a918-bec09b779a21",
   "metadata": {},
   "source": [
    "### Generalized Linear Models"
   ]
  },
  {
   "cell_type": "code",
   "execution_count": 24,
   "id": "26214bfc-67d1-41e5-b9f2-f396f3b6ff66",
   "metadata": {},
   "outputs": [],
   "source": [
    "poissondf = lmem.copy(deep=True)"
   ]
  },
  {
   "cell_type": "code",
   "execution_count": 25,
   "id": "e08e3054-5f84-4b8d-8346-5286ff097ee5",
   "metadata": {},
   "outputs": [],
   "source": [
    "poissondf = poissondf[poissondf[\"year\"]==2021]"
   ]
  },
  {
   "cell_type": "markdown",
   "id": "38c09b39-e8e2-45c9-93bf-ec55c838437e",
   "metadata": {},
   "source": [
    "#### Poisson Regression 1"
   ]
  },
  {
   "cell_type": "code",
   "execution_count": 26,
   "id": "ca2a0aaa-26b1-4865-b3af-9b747c18c24c",
   "metadata": {},
   "outputs": [],
   "source": [
    "import pandas as pd\n",
    "import numpy as np\n",
    "import statsmodels.api as sm\n",
    "from sklearn.preprocessing import OrdinalEncoder"
   ]
  },
  {
   "cell_type": "code",
   "execution_count": 27,
   "id": "68b826e3-5e51-4441-aa5d-4dd4952bcb6e",
   "metadata": {},
   "outputs": [
    {
     "data": {
      "text/html": [
       "<div>\n",
       "<style scoped>\n",
       "    .dataframe tbody tr th:only-of-type {\n",
       "        vertical-align: middle;\n",
       "    }\n",
       "\n",
       "    .dataframe tbody tr th {\n",
       "        vertical-align: top;\n",
       "    }\n",
       "\n",
       "    .dataframe thead th {\n",
       "        text-align: right;\n",
       "    }\n",
       "</style>\n",
       "<table border=\"1\" class=\"dataframe\">\n",
       "  <thead>\n",
       "    <tr style=\"text-align: right;\">\n",
       "      <th></th>\n",
       "      <th>month</th>\n",
       "      <th>cases</th>\n",
       "      <th>deaths</th>\n",
       "      <th>1_dose</th>\n",
       "      <th>complete_dose</th>\n",
       "      <th>population</th>\n",
       "      <th>states</th>\n",
       "    </tr>\n",
       "  </thead>\n",
       "  <tbody>\n",
       "    <tr>\n",
       "      <th>0</th>\n",
       "      <td>1</td>\n",
       "      <td>459639</td>\n",
       "      <td>7688</td>\n",
       "      <td>44695</td>\n",
       "      <td>10398</td>\n",
       "      <td>4903185</td>\n",
       "      <td>0.0</td>\n",
       "    </tr>\n",
       "    <tr>\n",
       "      <th>1</th>\n",
       "      <td>2</td>\n",
       "      <td>493252</td>\n",
       "      <td>9930</td>\n",
       "      <td>83793</td>\n",
       "      <td>42684</td>\n",
       "      <td>4903185</td>\n",
       "      <td>0.0</td>\n",
       "    </tr>\n",
       "    <tr>\n",
       "      <th>2</th>\n",
       "      <td>3</td>\n",
       "      <td>515388</td>\n",
       "      <td>10554</td>\n",
       "      <td>164347</td>\n",
       "      <td>88181</td>\n",
       "      <td>4903185</td>\n",
       "      <td>0.0</td>\n",
       "    </tr>\n",
       "    <tr>\n",
       "      <th>3</th>\n",
       "      <td>4</td>\n",
       "      <td>527922</td>\n",
       "      <td>10896</td>\n",
       "      <td>228962</td>\n",
       "      <td>167594</td>\n",
       "      <td>4903185</td>\n",
       "      <td>0.0</td>\n",
       "    </tr>\n",
       "    <tr>\n",
       "      <th>4</th>\n",
       "      <td>5</td>\n",
       "      <td>543405</td>\n",
       "      <td>11146</td>\n",
       "      <td>256387</td>\n",
       "      <td>206749</td>\n",
       "      <td>4903185</td>\n",
       "      <td>0.0</td>\n",
       "    </tr>\n",
       "  </tbody>\n",
       "</table>\n",
       "</div>"
      ],
      "text/plain": [
       "   month   cases  deaths  1_dose  complete_dose  population  states\n",
       "0      1  459639    7688   44695          10398     4903185     0.0\n",
       "1      2  493252    9930   83793          42684     4903185     0.0\n",
       "2      3  515388   10554  164347          88181     4903185     0.0\n",
       "3      4  527922   10896  228962         167594     4903185     0.0\n",
       "4      5  543405   11146  256387         206749     4903185     0.0"
      ]
     },
     "execution_count": 27,
     "metadata": {},
     "output_type": "execute_result"
    }
   ],
   "source": [
    "poissondf2 = poissondf.copy(deep=True)\n",
    "encoder = OrdinalEncoder()\n",
    "poissondf2[\"states\"] = encoder.fit_transform(poissondf2[[\"state\"]])\n",
    "poissondf2 = poissondf2.drop([\"year\", \"latitude\", \"longitude\", \"state\"], axis=1)\n",
    "poissondf2[\"month\"]-=12\n",
    "poissondf2.head()"
   ]
  },
  {
   "cell_type": "code",
   "execution_count": 28,
   "id": "adb95e27-27c9-4b17-93f0-270732ded45e",
   "metadata": {},
   "outputs": [],
   "source": [
    "response = poissondf2[\"deaths\"].values\n",
    "regressors = poissondf2[[\"states\", \"month\", \"population\", \"cases\", \"1_dose\", \"complete_dose\"]].values\n",
    "# regressors = poissondf2[[\"month\", \"state_category\"]]\n",
    "n = poissondf2[\"population\"].values"
   ]
  },
  {
   "cell_type": "code",
   "execution_count": 29,
   "id": "ac2d2d3c-2834-4efd-abf9-f626d0d8371e",
   "metadata": {},
   "outputs": [],
   "source": [
    "poisson_model = sm.GLM(endog=response, exog=regressors, offset=n, family=sm.families.Poisson())"
   ]
  },
  {
   "cell_type": "code",
   "execution_count": 30,
   "id": "6f386597-9653-4334-941e-7339ea44db50",
   "metadata": {},
   "outputs": [],
   "source": [
    "poisson_results = poisson_model.fit()"
   ]
  },
  {
   "cell_type": "code",
   "execution_count": 31,
   "id": "3a638e33-4f9e-4da4-9775-20b9f165201a",
   "metadata": {},
   "outputs": [
    {
     "data": {
      "text/html": [
       "<table class=\"simpletable\">\n",
       "<caption>Generalized Linear Model Regression Results</caption>\n",
       "<tr>\n",
       "  <th>Dep. Variable:</th>           <td>y</td>        <th>  No. Observations:  </th>   <td>   588</td>   \n",
       "</tr>\n",
       "<tr>\n",
       "  <th>Model:</th>                  <td>GLM</td>       <th>  Df Residuals:      </th>   <td>   582</td>   \n",
       "</tr>\n",
       "<tr>\n",
       "  <th>Model Family:</th>         <td>Poisson</td>     <th>  Df Model:          </th>   <td>     5</td>   \n",
       "</tr>\n",
       "<tr>\n",
       "  <th>Link Function:</th>          <td>Log</td>       <th>  Scale:             </th>  <td>  1.0000</td>  \n",
       "</tr>\n",
       "<tr>\n",
       "  <th>Method:</th>                <td>IRLS</td>       <th>  Log-Likelihood:    </th> <td>-1.0926e+07</td>\n",
       "</tr>\n",
       "<tr>\n",
       "  <th>Date:</th>            <td>Tue, 31 May 2022</td> <th>  Deviance:          </th> <td>2.1845e+07</td> \n",
       "</tr>\n",
       "<tr>\n",
       "  <th>Time:</th>                <td>17:37:29</td>     <th>  Pearson chi2:      </th>  <td>2.86e+08</td>  \n",
       "</tr>\n",
       "<tr>\n",
       "  <th>No. Iterations:</th>         <td>100</td>       <th>  Pseudo R-squ. (CS):</th>   <td>   nan</td>   \n",
       "</tr>\n",
       "<tr>\n",
       "  <th>Covariance Type:</th>     <td>nonrobust</td>    <th>                     </th>      <td> </td>     \n",
       "</tr>\n",
       "</table>\n",
       "<table class=\"simpletable\">\n",
       "<tr>\n",
       "   <td></td>     <th>coef</th>     <th>std err</th>      <th>z</th>      <th>P>|z|</th>  <th>[0.025</th>    <th>0.975]</th>  \n",
       "</tr>\n",
       "<tr>\n",
       "  <th>x1</th> <td>    0.0435</td> <td> 3.95e-05</td> <td> 1099.329</td> <td> 0.000</td> <td>    0.043</td> <td>    0.044</td>\n",
       "</tr>\n",
       "<tr>\n",
       "  <th>x2</th> <td>    0.7390</td> <td>    0.000</td> <td> 5182.176</td> <td> 0.000</td> <td>    0.739</td> <td>    0.739</td>\n",
       "</tr>\n",
       "<tr>\n",
       "  <th>x3</th> <td>   -1.0000</td> <td> 1.22e-10</td> <td>-8.18e+09</td> <td> 0.000</td> <td>   -1.000</td> <td>   -1.000</td>\n",
       "</tr>\n",
       "<tr>\n",
       "  <th>x4</th> <td>-2.335e-06</td> <td> 1.04e-09</td> <td>-2236.376</td> <td> 0.000</td> <td>-2.34e-06</td> <td>-2.33e-06</td>\n",
       "</tr>\n",
       "<tr>\n",
       "  <th>x5</th> <td> 1.265e-06</td> <td> 2.25e-09</td> <td>  562.799</td> <td> 0.000</td> <td> 1.26e-06</td> <td> 1.27e-06</td>\n",
       "</tr>\n",
       "<tr>\n",
       "  <th>x6</th> <td>-1.784e-06</td> <td> 2.49e-09</td> <td> -715.919</td> <td> 0.000</td> <td>-1.79e-06</td> <td>-1.78e-06</td>\n",
       "</tr>\n",
       "</table>"
      ],
      "text/plain": [
       "<class 'statsmodels.iolib.summary.Summary'>\n",
       "\"\"\"\n",
       "                 Generalized Linear Model Regression Results                  \n",
       "==============================================================================\n",
       "Dep. Variable:                      y   No. Observations:                  588\n",
       "Model:                            GLM   Df Residuals:                      582\n",
       "Model Family:                 Poisson   Df Model:                            5\n",
       "Link Function:                    Log   Scale:                          1.0000\n",
       "Method:                          IRLS   Log-Likelihood:            -1.0926e+07\n",
       "Date:                Tue, 31 May 2022   Deviance:                   2.1845e+07\n",
       "Time:                        17:37:29   Pearson chi2:                 2.86e+08\n",
       "No. Iterations:                   100   Pseudo R-squ. (CS):                nan\n",
       "Covariance Type:            nonrobust                                         \n",
       "==============================================================================\n",
       "                 coef    std err          z      P>|z|      [0.025      0.975]\n",
       "------------------------------------------------------------------------------\n",
       "x1             0.0435   3.95e-05   1099.329      0.000       0.043       0.044\n",
       "x2             0.7390      0.000   5182.176      0.000       0.739       0.739\n",
       "x3            -1.0000   1.22e-10  -8.18e+09      0.000      -1.000      -1.000\n",
       "x4         -2.335e-06   1.04e-09  -2236.376      0.000   -2.34e-06   -2.33e-06\n",
       "x5          1.265e-06   2.25e-09    562.799      0.000    1.26e-06    1.27e-06\n",
       "x6         -1.784e-06   2.49e-09   -715.919      0.000   -1.79e-06   -1.78e-06\n",
       "==============================================================================\n",
       "\"\"\""
      ]
     },
     "execution_count": 31,
     "metadata": {},
     "output_type": "execute_result"
    }
   ],
   "source": [
    "poisson_results.summary()"
   ]
  },
  {
   "cell_type": "markdown",
   "id": "b29580c5-e9f2-4a65-bf78-9ffa610a02d8",
   "metadata": {},
   "source": [
    "#### Poisson Regression 2"
   ]
  },
  {
   "cell_type": "code",
   "execution_count": 32,
   "id": "4ad8d27c-fbfb-4962-8ecf-f05618e0a5eb",
   "metadata": {},
   "outputs": [],
   "source": [
    "import pandas as pd\n",
    "import statsmodels.api as sm\n",
    "from statsmodels.formula.api import poisson\n",
    "from statsmodels.formula.api import negativebinomial\n",
    "import numpy as np\n",
    "import matplotlib.pyplot as plt\n",
    "import math"
   ]
  },
  {
   "cell_type": "code",
   "execution_count": 33,
   "id": "e9764fd3-3b16-4065-8fee-2d4f3ce7400c",
   "metadata": {},
   "outputs": [
    {
     "data": {
      "text/html": [
       "<div>\n",
       "<style scoped>\n",
       "    .dataframe tbody tr th:only-of-type {\n",
       "        vertical-align: middle;\n",
       "    }\n",
       "\n",
       "    .dataframe tbody tr th {\n",
       "        vertical-align: top;\n",
       "    }\n",
       "\n",
       "    .dataframe thead th {\n",
       "        text-align: right;\n",
       "    }\n",
       "</style>\n",
       "<table border=\"1\" class=\"dataframe\">\n",
       "  <thead>\n",
       "    <tr style=\"text-align: right;\">\n",
       "      <th></th>\n",
       "      <th>state</th>\n",
       "      <th>month</th>\n",
       "      <th>cases</th>\n",
       "      <th>deaths</th>\n",
       "      <th>1_dose</th>\n",
       "      <th>complete_dose</th>\n",
       "      <th>population</th>\n",
       "    </tr>\n",
       "  </thead>\n",
       "  <tbody>\n",
       "    <tr>\n",
       "      <th>0</th>\n",
       "      <td>Alabama</td>\n",
       "      <td>January</td>\n",
       "      <td>459639</td>\n",
       "      <td>7688</td>\n",
       "      <td>44695</td>\n",
       "      <td>10398</td>\n",
       "      <td>4903185</td>\n",
       "    </tr>\n",
       "    <tr>\n",
       "      <th>1</th>\n",
       "      <td>Alabama</td>\n",
       "      <td>February</td>\n",
       "      <td>493252</td>\n",
       "      <td>9930</td>\n",
       "      <td>83793</td>\n",
       "      <td>42684</td>\n",
       "      <td>4903185</td>\n",
       "    </tr>\n",
       "    <tr>\n",
       "      <th>2</th>\n",
       "      <td>Alabama</td>\n",
       "      <td>March</td>\n",
       "      <td>515388</td>\n",
       "      <td>10554</td>\n",
       "      <td>164347</td>\n",
       "      <td>88181</td>\n",
       "      <td>4903185</td>\n",
       "    </tr>\n",
       "    <tr>\n",
       "      <th>3</th>\n",
       "      <td>Alabama</td>\n",
       "      <td>April</td>\n",
       "      <td>527922</td>\n",
       "      <td>10896</td>\n",
       "      <td>228962</td>\n",
       "      <td>167594</td>\n",
       "      <td>4903185</td>\n",
       "    </tr>\n",
       "    <tr>\n",
       "      <th>4</th>\n",
       "      <td>Alabama</td>\n",
       "      <td>May</td>\n",
       "      <td>543405</td>\n",
       "      <td>11146</td>\n",
       "      <td>256387</td>\n",
       "      <td>206749</td>\n",
       "      <td>4903185</td>\n",
       "    </tr>\n",
       "  </tbody>\n",
       "</table>\n",
       "</div>"
      ],
      "text/plain": [
       "     state     month   cases  deaths  1_dose  complete_dose  population\n",
       "0  Alabama   January  459639    7688   44695          10398     4903185\n",
       "1  Alabama  February  493252    9930   83793          42684     4903185\n",
       "2  Alabama     March  515388   10554  164347          88181     4903185\n",
       "3  Alabama     April  527922   10896  228962         167594     4903185\n",
       "4  Alabama       May  543405   11146  256387         206749     4903185"
      ]
     },
     "execution_count": 33,
     "metadata": {},
     "output_type": "execute_result"
    }
   ],
   "source": [
    "poissondf3 = poissondf.drop([\"year\", \"latitude\", \"longitude\"], axis=1)\n",
    "poissondf3[\"month\"]-=12\n",
    "poissondf3[\"month\"] = poissondf3[\"month\"].map({1:\"January\", 2:\"February\", 3:\"March\", 4:\"April\", 5:\"May\", 6:\"June\", 7:\"July\", 8:\"August\", 9:\"September\", 10:\"October\", 11:\"November\", 12:\"December\"})\n",
    "poissondf3.head()"
   ]
  },
  {
   "cell_type": "code",
   "execution_count": 34,
   "id": "30f391bb-7d76-402c-a7e8-81713f6a1b44",
   "metadata": {},
   "outputs": [
    {
     "name": "stdout",
     "output_type": "stream",
     "text": [
      "Optimization terminated successfully.\n",
      "         Current function value: 39.663045\n",
      "         Iterations 9\n"
     ]
    },
    {
     "data": {
      "text/html": [
       "<table class=\"simpletable\">\n",
       "<caption>Poisson Regression Results</caption>\n",
       "<tr>\n",
       "  <th>Dep. Variable:</th>        <td>deaths</td>      <th>  No. Observations:  </th>   <td>   588</td>   \n",
       "</tr>\n",
       "<tr>\n",
       "  <th>Model:</th>                <td>Poisson</td>     <th>  Df Residuals:      </th>   <td>   528</td>   \n",
       "</tr>\n",
       "<tr>\n",
       "  <th>Method:</th>                 <td>MLE</td>       <th>  Df Model:          </th>   <td>    59</td>   \n",
       "</tr>\n",
       "<tr>\n",
       "  <th>Date:</th>            <td>Tue, 31 May 2022</td> <th>  Pseudo R-squ.:     </th>   <td>0.9940</td>   \n",
       "</tr>\n",
       "<tr>\n",
       "  <th>Time:</th>                <td>17:37:48</td>     <th>  Log-Likelihood:    </th>  <td> -23322.</td>  \n",
       "</tr>\n",
       "<tr>\n",
       "  <th>converged:</th>             <td>True</td>       <th>  LL-Null:           </th> <td>-3.8701e+06</td>\n",
       "</tr>\n",
       "<tr>\n",
       "  <th>Covariance Type:</th>     <td>nonrobust</td>    <th>  LLR p-value:       </th>   <td> 0.000</td>   \n",
       "</tr>\n",
       "</table>\n",
       "<table class=\"simpletable\">\n",
       "<tr>\n",
       "             <td></td>                <th>coef</th>     <th>std err</th>      <th>z</th>      <th>P>|z|</th>  <th>[0.025</th>    <th>0.975]</th>  \n",
       "</tr>\n",
       "<tr>\n",
       "  <th>Intercept</th>               <td>    9.3261</td> <td>    0.003</td> <td> 3221.508</td> <td> 0.000</td> <td>    9.320</td> <td>    9.332</td>\n",
       "</tr>\n",
       "<tr>\n",
       "  <th>state[T.Alaska]</th>         <td>   -3.2472</td> <td>    0.013</td> <td> -241.539</td> <td> 0.000</td> <td>   -3.274</td> <td>   -3.221</td>\n",
       "</tr>\n",
       "<tr>\n",
       "  <th>state[T.Arizona]</th>        <td>    0.4141</td> <td>    0.003</td> <td>  123.530</td> <td> 0.000</td> <td>    0.407</td> <td>    0.421</td>\n",
       "</tr>\n",
       "<tr>\n",
       "  <th>state[T.Arkansas]</th>       <td>   -0.6097</td> <td>    0.004</td> <td> -139.105</td> <td> 0.000</td> <td>   -0.618</td> <td>   -0.601</td>\n",
       "</tr>\n",
       "<tr>\n",
       "  <th>state[T.California]</th>     <td>    1.6427</td> <td>    0.003</td> <td>  578.143</td> <td> 0.000</td> <td>    1.637</td> <td>    1.648</td>\n",
       "</tr>\n",
       "<tr>\n",
       "  <th>state[T.Colorado]</th>       <td>   -0.5140</td> <td>    0.004</td> <td> -120.898</td> <td> 0.000</td> <td>   -0.522</td> <td>   -0.506</td>\n",
       "</tr>\n",
       "<tr>\n",
       "  <th>state[T.Connecticut]</th>    <td>   -0.3982</td> <td>    0.004</td> <td>  -97.032</td> <td> 0.000</td> <td>   -0.406</td> <td>   -0.390</td>\n",
       "</tr>\n",
       "<tr>\n",
       "  <th>state[T.Delaware]</th>       <td>   -1.9386</td> <td>    0.007</td> <td> -264.372</td> <td> 0.000</td> <td>   -1.953</td> <td>   -1.924</td>\n",
       "</tr>\n",
       "<tr>\n",
       "  <th>state[T.Florida]</th>        <td>    1.2634</td> <td>    0.003</td> <td>  428.901</td> <td> 0.000</td> <td>    1.258</td> <td>    1.269</td>\n",
       "</tr>\n",
       "<tr>\n",
       "  <th>state[T.Georgia]</th>        <td>    0.5852</td> <td>    0.003</td> <td>  180.307</td> <td> 0.000</td> <td>    0.579</td> <td>    0.592</td>\n",
       "</tr>\n",
       "<tr>\n",
       "  <th>state[T.Idaho]</th>          <td>   -1.5637</td> <td>    0.006</td> <td> -250.151</td> <td> 0.000</td> <td>   -1.576</td> <td>   -1.551</td>\n",
       "</tr>\n",
       "<tr>\n",
       "  <th>state[T.Illinois]</th>       <td>    0.7464</td> <td>    0.003</td> <td>  236.377</td> <td> 0.000</td> <td>    0.740</td> <td>    0.753</td>\n",
       "</tr>\n",
       "<tr>\n",
       "  <th>state[T.Indiana]</th>        <td>    0.1619</td> <td>    0.004</td> <td>   45.773</td> <td> 0.000</td> <td>    0.155</td> <td>    0.169</td>\n",
       "</tr>\n",
       "<tr>\n",
       "  <th>state[T.Iowa]</th>           <td>   -0.6726</td> <td>    0.004</td> <td> -150.334</td> <td> 0.000</td> <td>   -0.681</td> <td>   -0.664</td>\n",
       "</tr>\n",
       "<tr>\n",
       "  <th>state[T.Kansas]</th>         <td>   -0.8079</td> <td>    0.005</td> <td> -172.489</td> <td> 0.000</td> <td>   -0.817</td> <td>   -0.799</td>\n",
       "</tr>\n",
       "<tr>\n",
       "  <th>state[T.Kentucky]</th>       <td>   -0.4652</td> <td>    0.004</td> <td> -111.085</td> <td> 0.000</td> <td>   -0.473</td> <td>   -0.457</td>\n",
       "</tr>\n",
       "<tr>\n",
       "  <th>state[T.Louisiana]</th>      <td>   -0.0406</td> <td>    0.004</td> <td>  -10.933</td> <td> 0.000</td> <td>   -0.048</td> <td>   -0.033</td>\n",
       "</tr>\n",
       "<tr>\n",
       "  <th>state[T.Maine]</th>          <td>   -2.5643</td> <td>    0.010</td> <td> -263.584</td> <td> 0.000</td> <td>   -2.583</td> <td>   -2.545</td>\n",
       "</tr>\n",
       "<tr>\n",
       "  <th>state[T.Maryland]</th>       <td>   -0.2466</td> <td>    0.004</td> <td>  -62.801</td> <td> 0.000</td> <td>   -0.254</td> <td>   -0.239</td>\n",
       "</tr>\n",
       "<tr>\n",
       "  <th>state[T.Massachusetts]</th>  <td>    0.3745</td> <td>    0.003</td> <td>  110.838</td> <td> 0.000</td> <td>    0.368</td> <td>    0.381</td>\n",
       "</tr>\n",
       "<tr>\n",
       "  <th>state[T.Michigan]</th>       <td>    0.5344</td> <td>    0.003</td> <td>  163.136</td> <td> 0.000</td> <td>    0.528</td> <td>    0.541</td>\n",
       "</tr>\n",
       "<tr>\n",
       "  <th>state[T.Minnesota]</th>      <td>   -0.4415</td> <td>    0.004</td> <td> -106.202</td> <td> 0.000</td> <td>   -0.450</td> <td>   -0.433</td>\n",
       "</tr>\n",
       "<tr>\n",
       "  <th>state[T.Mississippi]</th>    <td>   -0.4106</td> <td>    0.004</td> <td>  -99.697</td> <td> 0.000</td> <td>   -0.419</td> <td>   -0.403</td>\n",
       "</tr>\n",
       "<tr>\n",
       "  <th>state[T.Missouri]</th>       <td>   -0.1157</td> <td>    0.004</td> <td>  -30.532</td> <td> 0.000</td> <td>   -0.123</td> <td>   -0.108</td>\n",
       "</tr>\n",
       "<tr>\n",
       "  <th>state[T.Montana]</th>        <td>   -1.8907</td> <td>    0.007</td> <td> -263.278</td> <td> 0.000</td> <td>   -1.905</td> <td>   -1.877</td>\n",
       "</tr>\n",
       "<tr>\n",
       "  <th>state[T.Nebraska]</th>       <td>   -1.5502</td> <td>    0.006</td> <td> -249.381</td> <td> 0.000</td> <td>   -1.562</td> <td>   -1.538</td>\n",
       "</tr>\n",
       "<tr>\n",
       "  <th>state[T.Nevada]</th>         <td>   -0.6806</td> <td>    0.004</td> <td> -151.716</td> <td> 0.000</td> <td>   -0.689</td> <td>   -0.672</td>\n",
       "</tr>\n",
       "<tr>\n",
       "  <th>state[T.New Hampshire]</th>  <td>   -2.1617</td> <td>    0.008</td> <td> -267.060</td> <td> 0.000</td> <td>   -2.178</td> <td>   -2.146</td>\n",
       "</tr>\n",
       "<tr>\n",
       "  <th>state[T.New Jersey]</th>     <td>    0.7527</td> <td>    0.003</td> <td>  238.594</td> <td> 0.000</td> <td>    0.746</td> <td>    0.759</td>\n",
       "</tr>\n",
       "<tr>\n",
       "  <th>state[T.New Mexico]</th>     <td>   -1.0140</td> <td>    0.005</td> <td> -201.151</td> <td> 0.000</td> <td>   -1.024</td> <td>   -1.004</td>\n",
       "</tr>\n",
       "<tr>\n",
       "  <th>state[T.New York]</th>       <td>    1.4525</td> <td>    0.003</td> <td>  502.726</td> <td> 0.000</td> <td>    1.447</td> <td>    1.458</td>\n",
       "</tr>\n",
       "<tr>\n",
       "  <th>state[T.North Carolina]</th> <td>    0.1568</td> <td>    0.004</td> <td>   44.266</td> <td> 0.000</td> <td>    0.150</td> <td>    0.164</td>\n",
       "</tr>\n",
       "<tr>\n",
       "  <th>state[T.North Dakota]</th>   <td>   -2.0187</td> <td>    0.008</td> <td> -265.776</td> <td> 0.000</td> <td>   -2.034</td> <td>   -2.004</td>\n",
       "</tr>\n",
       "<tr>\n",
       "  <th>state[T.Ohio]</th>           <td>    0.5270</td> <td>    0.003</td> <td>  160.675</td> <td> 0.000</td> <td>    0.521</td> <td>    0.533</td>\n",
       "</tr>\n",
       "<tr>\n",
       "  <th>state[T.Oklahoma]</th>       <td>   -0.4767</td> <td>    0.004</td> <td> -113.425</td> <td> 0.000</td> <td>   -0.485</td> <td>   -0.468</td>\n",
       "</tr>\n",
       "<tr>\n",
       "  <th>state[T.Oregon]</th>         <td>   -1.3153</td> <td>    0.006</td> <td> -232.633</td> <td> 0.000</td> <td>   -1.326</td> <td>   -1.304</td>\n",
       "</tr>\n",
       "<tr>\n",
       "  <th>state[T.Pennsylvania]</th>   <td>    0.8307</td> <td>    0.003</td> <td>  266.549</td> <td> 0.000</td> <td>    0.825</td> <td>    0.837</td>\n",
       "</tr>\n",
       "<tr>\n",
       "  <th>state[T.Rhode Island]</th>   <td>   -1.5115</td> <td>    0.006</td> <td> -247.054</td> <td> 0.000</td> <td>   -1.524</td> <td>   -1.500</td>\n",
       "</tr>\n",
       "<tr>\n",
       "  <th>state[T.South Carolina]</th> <td>   -0.1338</td> <td>    0.004</td> <td>  -35.132</td> <td> 0.000</td> <td>   -0.141</td> <td>   -0.126</td>\n",
       "</tr>\n",
       "<tr>\n",
       "  <th>state[T.South Dakota]</th>   <td>   -1.7802</td> <td>    0.007</td> <td> -259.986</td> <td> 0.000</td> <td>   -1.794</td> <td>   -1.767</td>\n",
       "</tr>\n",
       "<tr>\n",
       "  <th>state[T.Tennessee]</th>      <td>    0.1061</td> <td>    0.004</td> <td>   29.604</td> <td> 0.000</td> <td>    0.099</td> <td>    0.113</td>\n",
       "</tr>\n",
       "<tr>\n",
       "  <th>state[T.Texas]</th>          <td>    1.5292</td> <td>    0.003</td> <td>  533.045</td> <td> 0.000</td> <td>    1.524</td> <td>    1.535</td>\n",
       "</tr>\n",
       "<tr>\n",
       "  <th>state[T.Utah]</th>           <td>   -1.5577</td> <td>    0.006</td> <td> -249.810</td> <td> 0.000</td> <td>   -1.570</td> <td>   -1.545</td>\n",
       "</tr>\n",
       "<tr>\n",
       "  <th>state[T.Vermont]</th>        <td>   -3.7548</td> <td>    0.017</td> <td> -218.324</td> <td> 0.000</td> <td>   -3.789</td> <td>   -3.721</td>\n",
       "</tr>\n",
       "<tr>\n",
       "  <th>state[T.Virginia]</th>       <td>   -0.0618</td> <td>    0.004</td> <td>  -16.549</td> <td> 0.000</td> <td>   -0.069</td> <td>   -0.055</td>\n",
       "</tr>\n",
       "<tr>\n",
       "  <th>state[T.Washington]</th>     <td>   -0.6070</td> <td>    0.004</td> <td> -138.615</td> <td> 0.000</td> <td>   -0.616</td> <td>   -0.598</td>\n",
       "</tr>\n",
       "<tr>\n",
       "  <th>state[T.West Virginia]</th>  <td>   -1.3113</td> <td>    0.006</td> <td> -232.293</td> <td> 0.000</td> <td>   -1.322</td> <td>   -1.300</td>\n",
       "</tr>\n",
       "<tr>\n",
       "  <th>state[T.Wisconsin]</th>      <td>   -0.3855</td> <td>    0.004</td> <td>  -94.304</td> <td> 0.000</td> <td>   -0.394</td> <td>   -0.377</td>\n",
       "</tr>\n",
       "<tr>\n",
       "  <th>state[T.Wyoming]</th>        <td>   -2.6075</td> <td>    0.010</td> <td> -262.694</td> <td> 0.000</td> <td>   -2.627</td> <td>   -2.588</td>\n",
       "</tr>\n",
       "<tr>\n",
       "  <th>month[T.August]</th>         <td>    0.1061</td> <td>    0.002</td> <td>   58.201</td> <td> 0.000</td> <td>    0.103</td> <td>    0.110</td>\n",
       "</tr>\n",
       "<tr>\n",
       "  <th>month[T.December]</th>       <td>    0.3586</td> <td>    0.002</td> <td>  208.071</td> <td> 0.000</td> <td>    0.355</td> <td>    0.362</td>\n",
       "</tr>\n",
       "<tr>\n",
       "  <th>month[T.February]</th>       <td>   -0.1152</td> <td>    0.002</td> <td>  -59.802</td> <td> 0.000</td> <td>   -0.119</td> <td>   -0.111</td>\n",
       "</tr>\n",
       "<tr>\n",
       "  <th>month[T.January]</th>        <td>   -0.2665</td> <td>    0.002</td> <td> -132.693</td> <td> 0.000</td> <td>   -0.270</td> <td>   -0.263</td>\n",
       "</tr>\n",
       "<tr>\n",
       "  <th>month[T.July]</th>           <td>    0.0623</td> <td>    0.002</td> <td>   33.822</td> <td> 0.000</td> <td>    0.059</td> <td>    0.066</td>\n",
       "</tr>\n",
       "<tr>\n",
       "  <th>month[T.June]</th>           <td>    0.0484</td> <td>    0.002</td> <td>   26.181</td> <td> 0.000</td> <td>    0.045</td> <td>    0.052</td>\n",
       "</tr>\n",
       "<tr>\n",
       "  <th>month[T.March]</th>          <td>   -0.0426</td> <td>    0.002</td> <td>  -22.555</td> <td> 0.000</td> <td>   -0.046</td> <td>   -0.039</td>\n",
       "</tr>\n",
       "<tr>\n",
       "  <th>month[T.May]</th>            <td>    0.0315</td> <td>    0.002</td> <td>   16.974</td> <td> 0.000</td> <td>    0.028</td> <td>    0.035</td>\n",
       "</tr>\n",
       "<tr>\n",
       "  <th>month[T.November]</th>       <td>    0.3047</td> <td>    0.002</td> <td>  174.765</td> <td> 0.000</td> <td>    0.301</td> <td>    0.308</td>\n",
       "</tr>\n",
       "<tr>\n",
       "  <th>month[T.October]</th>        <td>    0.2582</td> <td>    0.002</td> <td>  146.626</td> <td> 0.000</td> <td>    0.255</td> <td>    0.262</td>\n",
       "</tr>\n",
       "<tr>\n",
       "  <th>month[T.September]</th>      <td>    0.1920</td> <td>    0.002</td> <td>  107.472</td> <td> 0.000</td> <td>    0.189</td> <td>    0.196</td>\n",
       "</tr>\n",
       "</table>"
      ],
      "text/plain": [
       "<class 'statsmodels.iolib.summary.Summary'>\n",
       "\"\"\"\n",
       "                          Poisson Regression Results                          \n",
       "==============================================================================\n",
       "Dep. Variable:                 deaths   No. Observations:                  588\n",
       "Model:                        Poisson   Df Residuals:                      528\n",
       "Method:                           MLE   Df Model:                           59\n",
       "Date:                Tue, 31 May 2022   Pseudo R-squ.:                  0.9940\n",
       "Time:                        17:37:48   Log-Likelihood:                -23322.\n",
       "converged:                       True   LL-Null:                   -3.8701e+06\n",
       "Covariance Type:            nonrobust   LLR p-value:                     0.000\n",
       "===========================================================================================\n",
       "                              coef    std err          z      P>|z|      [0.025      0.975]\n",
       "-------------------------------------------------------------------------------------------\n",
       "Intercept                   9.3261      0.003   3221.508      0.000       9.320       9.332\n",
       "state[T.Alaska]            -3.2472      0.013   -241.539      0.000      -3.274      -3.221\n",
       "state[T.Arizona]            0.4141      0.003    123.530      0.000       0.407       0.421\n",
       "state[T.Arkansas]          -0.6097      0.004   -139.105      0.000      -0.618      -0.601\n",
       "state[T.California]         1.6427      0.003    578.143      0.000       1.637       1.648\n",
       "state[T.Colorado]          -0.5140      0.004   -120.898      0.000      -0.522      -0.506\n",
       "state[T.Connecticut]       -0.3982      0.004    -97.032      0.000      -0.406      -0.390\n",
       "state[T.Delaware]          -1.9386      0.007   -264.372      0.000      -1.953      -1.924\n",
       "state[T.Florida]            1.2634      0.003    428.901      0.000       1.258       1.269\n",
       "state[T.Georgia]            0.5852      0.003    180.307      0.000       0.579       0.592\n",
       "state[T.Idaho]             -1.5637      0.006   -250.151      0.000      -1.576      -1.551\n",
       "state[T.Illinois]           0.7464      0.003    236.377      0.000       0.740       0.753\n",
       "state[T.Indiana]            0.1619      0.004     45.773      0.000       0.155       0.169\n",
       "state[T.Iowa]              -0.6726      0.004   -150.334      0.000      -0.681      -0.664\n",
       "state[T.Kansas]            -0.8079      0.005   -172.489      0.000      -0.817      -0.799\n",
       "state[T.Kentucky]          -0.4652      0.004   -111.085      0.000      -0.473      -0.457\n",
       "state[T.Louisiana]         -0.0406      0.004    -10.933      0.000      -0.048      -0.033\n",
       "state[T.Maine]             -2.5643      0.010   -263.584      0.000      -2.583      -2.545\n",
       "state[T.Maryland]          -0.2466      0.004    -62.801      0.000      -0.254      -0.239\n",
       "state[T.Massachusetts]      0.3745      0.003    110.838      0.000       0.368       0.381\n",
       "state[T.Michigan]           0.5344      0.003    163.136      0.000       0.528       0.541\n",
       "state[T.Minnesota]         -0.4415      0.004   -106.202      0.000      -0.450      -0.433\n",
       "state[T.Mississippi]       -0.4106      0.004    -99.697      0.000      -0.419      -0.403\n",
       "state[T.Missouri]          -0.1157      0.004    -30.532      0.000      -0.123      -0.108\n",
       "state[T.Montana]           -1.8907      0.007   -263.278      0.000      -1.905      -1.877\n",
       "state[T.Nebraska]          -1.5502      0.006   -249.381      0.000      -1.562      -1.538\n",
       "state[T.Nevada]            -0.6806      0.004   -151.716      0.000      -0.689      -0.672\n",
       "state[T.New Hampshire]     -2.1617      0.008   -267.060      0.000      -2.178      -2.146\n",
       "state[T.New Jersey]         0.7527      0.003    238.594      0.000       0.746       0.759\n",
       "state[T.New Mexico]        -1.0140      0.005   -201.151      0.000      -1.024      -1.004\n",
       "state[T.New York]           1.4525      0.003    502.726      0.000       1.447       1.458\n",
       "state[T.North Carolina]     0.1568      0.004     44.266      0.000       0.150       0.164\n",
       "state[T.North Dakota]      -2.0187      0.008   -265.776      0.000      -2.034      -2.004\n",
       "state[T.Ohio]               0.5270      0.003    160.675      0.000       0.521       0.533\n",
       "state[T.Oklahoma]          -0.4767      0.004   -113.425      0.000      -0.485      -0.468\n",
       "state[T.Oregon]            -1.3153      0.006   -232.633      0.000      -1.326      -1.304\n",
       "state[T.Pennsylvania]       0.8307      0.003    266.549      0.000       0.825       0.837\n",
       "state[T.Rhode Island]      -1.5115      0.006   -247.054      0.000      -1.524      -1.500\n",
       "state[T.South Carolina]    -0.1338      0.004    -35.132      0.000      -0.141      -0.126\n",
       "state[T.South Dakota]      -1.7802      0.007   -259.986      0.000      -1.794      -1.767\n",
       "state[T.Tennessee]          0.1061      0.004     29.604      0.000       0.099       0.113\n",
       "state[T.Texas]              1.5292      0.003    533.045      0.000       1.524       1.535\n",
       "state[T.Utah]              -1.5577      0.006   -249.810      0.000      -1.570      -1.545\n",
       "state[T.Vermont]           -3.7548      0.017   -218.324      0.000      -3.789      -3.721\n",
       "state[T.Virginia]          -0.0618      0.004    -16.549      0.000      -0.069      -0.055\n",
       "state[T.Washington]        -0.6070      0.004   -138.615      0.000      -0.616      -0.598\n",
       "state[T.West Virginia]     -1.3113      0.006   -232.293      0.000      -1.322      -1.300\n",
       "state[T.Wisconsin]         -0.3855      0.004    -94.304      0.000      -0.394      -0.377\n",
       "state[T.Wyoming]           -2.6075      0.010   -262.694      0.000      -2.627      -2.588\n",
       "month[T.August]             0.1061      0.002     58.201      0.000       0.103       0.110\n",
       "month[T.December]           0.3586      0.002    208.071      0.000       0.355       0.362\n",
       "month[T.February]          -0.1152      0.002    -59.802      0.000      -0.119      -0.111\n",
       "month[T.January]           -0.2665      0.002   -132.693      0.000      -0.270      -0.263\n",
       "month[T.July]               0.0623      0.002     33.822      0.000       0.059       0.066\n",
       "month[T.June]               0.0484      0.002     26.181      0.000       0.045       0.052\n",
       "month[T.March]             -0.0426      0.002    -22.555      0.000      -0.046      -0.039\n",
       "month[T.May]                0.0315      0.002     16.974      0.000       0.028       0.035\n",
       "month[T.November]           0.3047      0.002    174.765      0.000       0.301       0.308\n",
       "month[T.October]            0.2582      0.002    146.626      0.000       0.255       0.262\n",
       "month[T.September]          0.1920      0.002    107.472      0.000       0.189       0.196\n",
       "===========================================================================================\n",
       "\"\"\""
      ]
     },
     "execution_count": 34,
     "metadata": {},
     "output_type": "execute_result"
    }
   ],
   "source": [
    "model1 = poisson('deaths ~ state+month', data=poissondf3).fit()\n",
    "model1.summary()"
   ]
  },
  {
   "cell_type": "markdown",
   "id": "431bb9cc-0791-4fb2-9e5d-5bb1f948d19d",
   "metadata": {},
   "source": [
    "#### sklearn"
   ]
  },
  {
   "cell_type": "code",
   "execution_count": 35,
   "id": "5157d44b-7642-4605-b8af-2410e3faa655",
   "metadata": {},
   "outputs": [],
   "source": [
    "poissondf4 = lmem.copy(deep=True)\n",
    "poissondf4 = poissondf[poissondf[\"year\"]==2021]"
   ]
  },
  {
   "cell_type": "code",
   "execution_count": 36,
   "id": "a6d7f400-dd26-4c9c-aaff-4614ea67e92d",
   "metadata": {},
   "outputs": [
    {
     "data": {
      "text/html": [
       "<div>\n",
       "<style scoped>\n",
       "    .dataframe tbody tr th:only-of-type {\n",
       "        vertical-align: middle;\n",
       "    }\n",
       "\n",
       "    .dataframe tbody tr th {\n",
       "        vertical-align: top;\n",
       "    }\n",
       "\n",
       "    .dataframe thead th {\n",
       "        text-align: right;\n",
       "    }\n",
       "</style>\n",
       "<table border=\"1\" class=\"dataframe\">\n",
       "  <thead>\n",
       "    <tr style=\"text-align: right;\">\n",
       "      <th></th>\n",
       "      <th>state</th>\n",
       "      <th>month</th>\n",
       "      <th>year</th>\n",
       "      <th>latitude</th>\n",
       "      <th>longitude</th>\n",
       "      <th>cases</th>\n",
       "      <th>deaths</th>\n",
       "      <th>1_dose</th>\n",
       "      <th>complete_dose</th>\n",
       "      <th>population</th>\n",
       "    </tr>\n",
       "  </thead>\n",
       "  <tbody>\n",
       "    <tr>\n",
       "      <th>0</th>\n",
       "      <td>Alabama</td>\n",
       "      <td>1</td>\n",
       "      <td>2021</td>\n",
       "      <td>32.601011</td>\n",
       "      <td>-86.680736</td>\n",
       "      <td>459639</td>\n",
       "      <td>7688</td>\n",
       "      <td>44695</td>\n",
       "      <td>10398</td>\n",
       "      <td>4903185</td>\n",
       "    </tr>\n",
       "    <tr>\n",
       "      <th>1</th>\n",
       "      <td>Alabama</td>\n",
       "      <td>2</td>\n",
       "      <td>2021</td>\n",
       "      <td>32.601011</td>\n",
       "      <td>-86.680736</td>\n",
       "      <td>493252</td>\n",
       "      <td>9930</td>\n",
       "      <td>83793</td>\n",
       "      <td>42684</td>\n",
       "      <td>4903185</td>\n",
       "    </tr>\n",
       "    <tr>\n",
       "      <th>2</th>\n",
       "      <td>Alabama</td>\n",
       "      <td>3</td>\n",
       "      <td>2021</td>\n",
       "      <td>32.601011</td>\n",
       "      <td>-86.680736</td>\n",
       "      <td>515388</td>\n",
       "      <td>10554</td>\n",
       "      <td>164347</td>\n",
       "      <td>88181</td>\n",
       "      <td>4903185</td>\n",
       "    </tr>\n",
       "    <tr>\n",
       "      <th>3</th>\n",
       "      <td>Alabama</td>\n",
       "      <td>4</td>\n",
       "      <td>2021</td>\n",
       "      <td>32.601011</td>\n",
       "      <td>-86.680736</td>\n",
       "      <td>527922</td>\n",
       "      <td>10896</td>\n",
       "      <td>228962</td>\n",
       "      <td>167594</td>\n",
       "      <td>4903185</td>\n",
       "    </tr>\n",
       "    <tr>\n",
       "      <th>4</th>\n",
       "      <td>Alabama</td>\n",
       "      <td>5</td>\n",
       "      <td>2021</td>\n",
       "      <td>32.601011</td>\n",
       "      <td>-86.680736</td>\n",
       "      <td>543405</td>\n",
       "      <td>11146</td>\n",
       "      <td>256387</td>\n",
       "      <td>206749</td>\n",
       "      <td>4903185</td>\n",
       "    </tr>\n",
       "  </tbody>\n",
       "</table>\n",
       "</div>"
      ],
      "text/plain": [
       "     state  month  year   latitude  longitude   cases  deaths  1_dose  \\\n",
       "0  Alabama      1  2021  32.601011 -86.680736  459639    7688   44695   \n",
       "1  Alabama      2  2021  32.601011 -86.680736  493252    9930   83793   \n",
       "2  Alabama      3  2021  32.601011 -86.680736  515388   10554  164347   \n",
       "3  Alabama      4  2021  32.601011 -86.680736  527922   10896  228962   \n",
       "4  Alabama      5  2021  32.601011 -86.680736  543405   11146  256387   \n",
       "\n",
       "   complete_dose  population  \n",
       "0          10398     4903185  \n",
       "1          42684     4903185  \n",
       "2          88181     4903185  \n",
       "3         167594     4903185  \n",
       "4         206749     4903185  "
      ]
     },
     "execution_count": 36,
     "metadata": {},
     "output_type": "execute_result"
    }
   ],
   "source": [
    "poissondf4[\"month\"]-=12\n",
    "poissondf4.head()"
   ]
  },
  {
   "cell_type": "code",
   "execution_count": 37,
   "id": "d605a7ab-a4ac-4c5a-9b79-819d73a51fe8",
   "metadata": {},
   "outputs": [
    {
     "data": {
      "text/html": [
       "<div>\n",
       "<style scoped>\n",
       "    .dataframe tbody tr th:only-of-type {\n",
       "        vertical-align: middle;\n",
       "    }\n",
       "\n",
       "    .dataframe tbody tr th {\n",
       "        vertical-align: top;\n",
       "    }\n",
       "\n",
       "    .dataframe thead th {\n",
       "        text-align: right;\n",
       "    }\n",
       "</style>\n",
       "<table border=\"1\" class=\"dataframe\">\n",
       "  <thead>\n",
       "    <tr style=\"text-align: right;\">\n",
       "      <th></th>\n",
       "      <th>month</th>\n",
       "      <th>year</th>\n",
       "      <th>latitude</th>\n",
       "      <th>longitude</th>\n",
       "      <th>cases</th>\n",
       "      <th>deaths</th>\n",
       "      <th>1_dose</th>\n",
       "      <th>complete_dose</th>\n",
       "      <th>population</th>\n",
       "    </tr>\n",
       "  </thead>\n",
       "  <tbody>\n",
       "    <tr>\n",
       "      <th>count</th>\n",
       "      <td>588.000000</td>\n",
       "      <td>588.0</td>\n",
       "      <td>588.000000</td>\n",
       "      <td>588.000000</td>\n",
       "      <td>5.880000e+02</td>\n",
       "      <td>588.000000</td>\n",
       "      <td>5.880000e+02</td>\n",
       "      <td>5.880000e+02</td>\n",
       "      <td>5.880000e+02</td>\n",
       "    </tr>\n",
       "    <tr>\n",
       "      <th>mean</th>\n",
       "      <td>6.500000</td>\n",
       "      <td>2021.0</td>\n",
       "      <td>39.702580</td>\n",
       "      <td>-91.800800</td>\n",
       "      <td>7.615121e+05</td>\n",
       "      <td>12802.654762</td>\n",
       "      <td>6.261514e+05</td>\n",
       "      <td>5.144728e+05</td>\n",
       "      <td>6.655467e+06</td>\n",
       "    </tr>\n",
       "    <tr>\n",
       "      <th>std</th>\n",
       "      <td>3.454992</td>\n",
       "      <td>0.0</td>\n",
       "      <td>5.506047</td>\n",
       "      <td>17.075432</td>\n",
       "      <td>8.677603e+05</td>\n",
       "      <td>14846.546181</td>\n",
       "      <td>9.816716e+05</td>\n",
       "      <td>8.328003e+05</td>\n",
       "      <td>7.358295e+06</td>\n",
       "    </tr>\n",
       "    <tr>\n",
       "      <th>min</th>\n",
       "      <td>1.000000</td>\n",
       "      <td>2021.0</td>\n",
       "      <td>27.975728</td>\n",
       "      <td>-158.775020</td>\n",
       "      <td>1.196500e+04</td>\n",
       "      <td>174.000000</td>\n",
       "      <td>0.000000e+00</td>\n",
       "      <td>0.000000e+00</td>\n",
       "      <td>5.787590e+05</td>\n",
       "    </tr>\n",
       "    <tr>\n",
       "      <th>25%</th>\n",
       "      <td>3.750000</td>\n",
       "      <td>2021.0</td>\n",
       "      <td>35.830521</td>\n",
       "      <td>-100.247164</td>\n",
       "      <td>2.078955e+05</td>\n",
       "      <td>2786.500000</td>\n",
       "      <td>1.220698e+05</td>\n",
       "      <td>8.464775e+04</td>\n",
       "      <td>1.934408e+06</td>\n",
       "    </tr>\n",
       "    <tr>\n",
       "      <th>50%</th>\n",
       "      <td>6.500000</td>\n",
       "      <td>2021.0</td>\n",
       "      <td>39.499761</td>\n",
       "      <td>-89.504139</td>\n",
       "      <td>5.027495e+05</td>\n",
       "      <td>7857.000000</td>\n",
       "      <td>3.261940e+05</td>\n",
       "      <td>2.688985e+05</td>\n",
       "      <td>4.648794e+06</td>\n",
       "    </tr>\n",
       "    <tr>\n",
       "      <th>75%</th>\n",
       "      <td>9.250000</td>\n",
       "      <td>2021.0</td>\n",
       "      <td>43.000325</td>\n",
       "      <td>-79.458786</td>\n",
       "      <td>9.185150e+05</td>\n",
       "      <td>16281.000000</td>\n",
       "      <td>6.818120e+05</td>\n",
       "      <td>5.833655e+05</td>\n",
       "      <td>7.614893e+06</td>\n",
       "    </tr>\n",
       "    <tr>\n",
       "      <th>max</th>\n",
       "      <td>12.000000</td>\n",
       "      <td>2021.0</td>\n",
       "      <td>61.302501</td>\n",
       "      <td>-69.014866</td>\n",
       "      <td>5.515613e+06</td>\n",
       "      <td>76709.000000</td>\n",
       "      <td>7.833520e+06</td>\n",
       "      <td>6.757813e+06</td>\n",
       "      <td>3.951222e+07</td>\n",
       "    </tr>\n",
       "  </tbody>\n",
       "</table>\n",
       "</div>"
      ],
      "text/plain": [
       "            month    year    latitude   longitude         cases        deaths  \\\n",
       "count  588.000000   588.0  588.000000  588.000000  5.880000e+02    588.000000   \n",
       "mean     6.500000  2021.0   39.702580  -91.800800  7.615121e+05  12802.654762   \n",
       "std      3.454992     0.0    5.506047   17.075432  8.677603e+05  14846.546181   \n",
       "min      1.000000  2021.0   27.975728 -158.775020  1.196500e+04    174.000000   \n",
       "25%      3.750000  2021.0   35.830521 -100.247164  2.078955e+05   2786.500000   \n",
       "50%      6.500000  2021.0   39.499761  -89.504139  5.027495e+05   7857.000000   \n",
       "75%      9.250000  2021.0   43.000325  -79.458786  9.185150e+05  16281.000000   \n",
       "max     12.000000  2021.0   61.302501  -69.014866  5.515613e+06  76709.000000   \n",
       "\n",
       "             1_dose  complete_dose    population  \n",
       "count  5.880000e+02   5.880000e+02  5.880000e+02  \n",
       "mean   6.261514e+05   5.144728e+05  6.655467e+06  \n",
       "std    9.816716e+05   8.328003e+05  7.358295e+06  \n",
       "min    0.000000e+00   0.000000e+00  5.787590e+05  \n",
       "25%    1.220698e+05   8.464775e+04  1.934408e+06  \n",
       "50%    3.261940e+05   2.688985e+05  4.648794e+06  \n",
       "75%    6.818120e+05   5.833655e+05  7.614893e+06  \n",
       "max    7.833520e+06   6.757813e+06  3.951222e+07  "
      ]
     },
     "execution_count": 37,
     "metadata": {},
     "output_type": "execute_result"
    }
   ],
   "source": [
    "poissondf4.describe()"
   ]
  },
  {
   "cell_type": "code",
   "execution_count": 39,
   "id": "755be309-3f84-4d69-9756-34673f01f1fb",
   "metadata": {},
   "outputs": [
    {
     "data": {
      "image/png": "[encoded data removed]",
      "text/plain": [
       "<Figure size 1152x720 with 6 Axes>"
      ]
     },
     "metadata": {
      "needs_background": "light"
     },
     "output_type": "display_data"
    }
   ],
   "source": [
    "poissondf4[\"deathFrequency\"] = poissondf4[\"deaths\"] / poissondf4[\"cases\"]\n",
    "\n",
    "fig, ((ax0, ax1, ax2), (ax3, ax4, ax5)) = plt.subplots(nrows=2, ncols=3, figsize=(16, 10))\n",
    "ax0.set_title(\"Number of Deaths\")\n",
    "_ = poissondf4[\"deaths\"].hist(ax=ax0)\n",
    "ax1.set_title(\"Population\")\n",
    "_ = poissondf4[\"population\"].hist(ax=ax1)\n",
    "ax2.set_title(\"Frequency (deaths per population)\")\n",
    "_ = poissondf4[\"deathFrequency\"].hist(ax=ax2)\n",
    "ax3.set_title(\"Number of Cases\")\n",
    "_ = poissondf4[\"cases\"].hist(ax=ax3)\n",
    "ax4.set_title(\"Number of people with 1 vaccination dose\")\n",
    "_ = poissondf4[\"1_dose\"].hist(ax=ax4)\n",
    "ax5.set_title(\"Number of people with complete vaccination\")\n",
    "_ = poissondf4[\"complete_dose\"].hist(ax=ax5)"
   ]
  },
  {
   "cell_type": "code",
   "execution_count": 41,
   "id": "5b844539-886c-4585-8502-f251498a5ef9",
   "metadata": {},
   "outputs": [],
   "source": [
    "from sklearn.preprocessing import OneHotEncoder\n",
    "from sklearn.preprocessing import StandardScaler, KBinsDiscretizer\n",
    "from sklearn.compose import ColumnTransformer\n",
    "from sklearn.pipeline import Pipeline\n",
    "from sklearn.model_selection import train_test_split\n",
    "from sklearn.linear_model import PoissonRegressor"
   ]
  },
  {
   "cell_type": "code",
   "execution_count": 42,
   "id": "dad328f9-890b-4a41-aa46-db3cbe5bc30b",
   "metadata": {},
   "outputs": [],
   "source": [
    "preprocessor = ColumnTransformer(\n",
    "        [\n",
    "            (\"drop_columns\", \"drop\", [\"year\", \"latitude\", \"longitude\", \"deaths\", \"population\", \"cases\"]),\n",
    "            (\"categorize_variables\", OrdinalEncoder(), [\"state\", \"month\"]),\n",
    "            (\"bin_variables\", KBinsDiscretizer(n_bins=10), [\"1_dose\", \"complete_dose\"])\n",
    "        ], remainder=\"passthrough\"\n",
    ")\n",
    "\n",
    "poisson_glm = Pipeline(\n",
    "    [\n",
    "        (\"preprocessor\", preprocessor),\n",
    "        (\"regressor\", PoissonRegressor(alpha=1, max_iter=100)),\n",
    "    ]\n",
    ")"
   ]
  },
  {
   "cell_type": "code",
   "execution_count": 43,
   "id": "8f5e665b-b8cc-4042-b991-361e446cf572",
   "metadata": {},
   "outputs": [],
   "source": [
    "X = poissondf4.drop(columns=['deathFrequency'])\n",
    "y = poissondf4[['deathFrequency']]"
   ]
  },
  {
   "cell_type": "code",
   "execution_count": 44,
   "id": "661eb0f6-02cd-481b-90aa-237c1d71f9d5",
   "metadata": {},
   "outputs": [],
   "source": [
    "X_train, X_test, y_train, y_test = train_test_split(X, y, train_size=0.8, test_size = 0.2, random_state=0)"
   ]
  },
  {
   "cell_type": "code",
   "execution_count": 45,
   "id": "c429bf82-8e9a-4d7f-8156-11c08e0bd814",
   "metadata": {},
   "outputs": [
    {
     "data": {
      "text/plain": [
       "Pipeline(steps=[('preprocessor',\n",
       "                 ColumnTransformer(remainder='passthrough',\n",
       "                                   transformers=[('drop_columns', 'drop',\n",
       "                                                  ['year', 'latitude',\n",
       "                                                   'longitude', 'deaths',\n",
       "                                                   'population', 'cases']),\n",
       "                                                 ('categorize_variables',\n",
       "                                                  OrdinalEncoder(),\n",
       "                                                  ['state', 'month']),\n",
       "                                                 ('bin_variables',\n",
       "                                                  KBinsDiscretizer(n_bins=10),\n",
       "                                                  ['1_dose',\n",
       "                                                   'complete_dose'])])),\n",
       "                ('regressor', PoissonRegressor(alpha=1))])"
      ]
     },
     "execution_count": 45,
     "metadata": {},
     "output_type": "execute_result"
    }
   ],
   "source": [
    "poisson_glm.fit(X_train, y_train, regressor__sample_weight=X_train[\"cases\"])"
   ]
  },
  {
   "cell_type": "code",
   "execution_count": 46,
   "id": "d21a89d6-23cd-4a53-ad74-cb92f6a6d355",
   "metadata": {},
   "outputs": [
    {
     "data": {
      "text/plain": [
       "array([-7.95991774e-04, -2.80933281e-03, -1.18685705e-05, -7.78572489e-06,\n",
       "        9.47245066e-05,  2.57325526e-05,  4.42722108e-05, -3.22879856e-05,\n",
       "       -2.46478181e-04,  5.44605451e-05,  1.79239440e-04, -6.96794848e-05,\n",
       "       -4.03771352e-05,  8.50272618e-05,  5.17465642e-05,  4.59248830e-05,\n",
       "        3.83321814e-05,  3.93824788e-06, -1.84979893e-04, -3.85510595e-05,\n",
       "        1.02996701e-04, -3.37284437e-05])"
      ]
     },
     "execution_count": 46,
     "metadata": {},
     "output_type": "execute_result"
    }
   ],
   "source": [
    "poisson_glm[1].coef_"
   ]
  },
  {
   "cell_type": "code",
   "execution_count": 47,
   "id": "bbeb013d-6aeb-455f-96a5-5627fe4eb42a",
   "metadata": {},
   "outputs": [
    {
     "data": {
      "text/plain": [
       "-4.061182909914911"
      ]
     },
     "execution_count": 47,
     "metadata": {},
     "output_type": "execute_result"
    }
   ],
   "source": [
    "poisson_glm[1].intercept_"
   ]
  },
  {
   "cell_type": "code",
   "execution_count": 48,
   "id": "bdd94a01-0304-4756-80a7-1614e81ca766",
   "metadata": {},
   "outputs": [
    {
     "data": {
      "text/plain": [
       "9"
      ]
     },
     "execution_count": 48,
     "metadata": {},
     "output_type": "execute_result"
    }
   ],
   "source": [
    "poisson_glm[1].n_iter_"
   ]
  },
  {
   "cell_type": "code",
   "execution_count": 49,
   "id": "aeffaeca-c870-45f9-8c0a-088cff63788d",
   "metadata": {},
   "outputs": [
    {
     "data": {
      "text/plain": [
       "22"
      ]
     },
     "execution_count": 49,
     "metadata": {},
     "output_type": "execute_result"
    }
   ],
   "source": [
    "poisson_glm[1].n_features_in_"
   ]
  },
  {
   "cell_type": "code",
   "execution_count": 50,
   "id": "e519a856-3d8e-4d43-96f9-a1b94b3342a7",
   "metadata": {},
   "outputs": [
    {
     "data": {
      "text/plain": [
       "array([0.01623561, 0.01619604, 0.01647068, 0.01662635, 0.01616633,\n",
       "       0.01694345, 0.0161597 , 0.01712097, 0.01698019, 0.01682172,\n",
       "       0.01687665, 0.01657376, 0.01659834, 0.01643696, 0.01708615,\n",
       "       0.01656418, 0.0164747 , 0.0165392 , 0.01678632, 0.01682997,\n",
       "       0.01628129, 0.01680408, 0.01655512, 0.01629932, 0.01697887,\n",
       "       0.01684683, 0.01672264, 0.01675656, 0.01636554, 0.01663131,\n",
       "       0.01674733, 0.01692866, 0.01661841, 0.01676027, 0.01700474,\n",
       "       0.01643498, 0.0166697 , 0.01676764, 0.01671403, 0.01633284,\n",
       "       0.01714064, 0.01637879, 0.01607941, 0.01672298, 0.01663393,\n",
       "       0.01673645, 0.01621181, 0.01718162, 0.01634517, 0.01675166,\n",
       "       0.01717558, 0.01658573, 0.01646086, 0.0163429 , 0.01656089,\n",
       "       0.01670182, 0.01662817, 0.01665342, 0.01721402, 0.01650717,\n",
       "       0.01696975, 0.01673733, 0.01649607, 0.01617001, 0.01638899,\n",
       "       0.01686451, 0.01663862, 0.01662408, 0.01658728, 0.01695069,\n",
       "       0.01664426, 0.01666714, 0.01708007, 0.01634289, 0.01707294,\n",
       "       0.01646887, 0.01687085, 0.01645192, 0.01659142, 0.01663102,\n",
       "       0.01699851, 0.01675088, 0.01670343, 0.01644267, 0.01673804,\n",
       "       0.01658194, 0.01638239, 0.01664065, 0.0164928 , 0.01678416,\n",
       "       0.016756  , 0.01619577, 0.01657031, 0.01683769, 0.01684605,\n",
       "       0.01637916, 0.01620574, 0.01658076, 0.0167699 , 0.01635267,\n",
       "       0.01653783, 0.01652186, 0.01655857, 0.01681202, 0.01654539,\n",
       "       0.01699876, 0.01667456, 0.0168746 , 0.01614455, 0.01697718,\n",
       "       0.01662616, 0.01680789, 0.01669187, 0.01695957, 0.01690487,\n",
       "       0.01675949, 0.01644198, 0.01652713])"
      ]
     },
     "execution_count": 50,
     "metadata": {},
     "output_type": "execute_result"
    }
   ],
   "source": [
    "poisson_glm.predict(X_test)"
   ]
  },
  {
   "cell_type": "code",
   "execution_count": 52,
   "id": "05002466-92e9-43fd-9249-b9789157d655",
   "metadata": {},
   "outputs": [],
   "source": [
    "obs_freq = []\n",
    "\n",
    "for i in y_test.values:\n",
    "    obs_freq.append(i[0])"
   ]
  },
  {
   "cell_type": "code",
   "execution_count": 53,
   "id": "ee6ff7ad-8c65-4f09-ad1e-2b1a669f73dc",
   "metadata": {},
   "outputs": [
    {
     "data": {
      "text/html": [
       "<div>\n",
       "<style scoped>\n",
       "    .dataframe tbody tr th:only-of-type {\n",
       "        vertical-align: middle;\n",
       "    }\n",
       "\n",
       "    .dataframe tbody tr th {\n",
       "        vertical-align: top;\n",
       "    }\n",
       "\n",
       "    .dataframe thead th {\n",
       "        text-align: right;\n",
       "    }\n",
       "</style>\n",
       "<table border=\"1\" class=\"dataframe\">\n",
       "  <thead>\n",
       "    <tr style=\"text-align: right;\">\n",
       "      <th></th>\n",
       "      <th>state</th>\n",
       "      <th>month</th>\n",
       "      <th>year</th>\n",
       "      <th>latitude</th>\n",
       "      <th>longitude</th>\n",
       "      <th>cases</th>\n",
       "      <th>deaths</th>\n",
       "      <th>1_dose</th>\n",
       "      <th>complete_dose</th>\n",
       "      <th>population</th>\n",
       "      <th>obs_freq</th>\n",
       "      <th>pred_freq</th>\n",
       "      <th>difference</th>\n",
       "    </tr>\n",
       "  </thead>\n",
       "  <tbody>\n",
       "    <tr>\n",
       "      <th>525</th>\n",
       "      <td>Vermont</td>\n",
       "      <td>10</td>\n",
       "      <td>2021</td>\n",
       "      <td>43.871755</td>\n",
       "      <td>-72.447783</td>\n",
       "      <td>40191</td>\n",
       "      <td>364</td>\n",
       "      <td>118979</td>\n",
       "      <td>106214</td>\n",
       "      <td>623989</td>\n",
       "      <td>0.009057</td>\n",
       "      <td>0.016236</td>\n",
       "      <td>0.007179</td>\n",
       "    </tr>\n",
       "    <tr>\n",
       "      <th>479</th>\n",
       "      <td>South Dakota</td>\n",
       "      <td>12</td>\n",
       "      <td>2021</td>\n",
       "      <td>44.212699</td>\n",
       "      <td>-100.247164</td>\n",
       "      <td>179204</td>\n",
       "      <td>2486</td>\n",
       "      <td>153401</td>\n",
       "      <td>120954</td>\n",
       "      <td>884659</td>\n",
       "      <td>0.013872</td>\n",
       "      <td>0.016196</td>\n",
       "      <td>0.002324</td>\n",
       "    </tr>\n",
       "    <tr>\n",
       "      <th>391</th>\n",
       "      <td>North Dakota</td>\n",
       "      <td>8</td>\n",
       "      <td>2021</td>\n",
       "      <td>47.467882</td>\n",
       "      <td>-100.302266</td>\n",
       "      <td>117529</td>\n",
       "      <td>1592</td>\n",
       "      <td>97047</td>\n",
       "      <td>86704</td>\n",
       "      <td>762062</td>\n",
       "      <td>0.013546</td>\n",
       "      <td>0.016471</td>\n",
       "      <td>0.002925</td>\n",
       "    </tr>\n",
       "    <tr>\n",
       "      <th>165</th>\n",
       "      <td>Iowa</td>\n",
       "      <td>10</td>\n",
       "      <td>2021</td>\n",
       "      <td>41.938317</td>\n",
       "      <td>-93.389798</td>\n",
       "      <td>486132</td>\n",
       "      <td>6965</td>\n",
       "      <td>317999</td>\n",
       "      <td>292772</td>\n",
       "      <td>3155070</td>\n",
       "      <td>0.014327</td>\n",
       "      <td>0.016626</td>\n",
       "      <td>0.002299</td>\n",
       "    </tr>\n",
       "    <tr>\n",
       "      <th>503</th>\n",
       "      <td>Texas</td>\n",
       "      <td>12</td>\n",
       "      <td>2021</td>\n",
       "      <td>31.169336</td>\n",
       "      <td>-100.076842</td>\n",
       "      <td>4574881</td>\n",
       "      <td>76062</td>\n",
       "      <td>3313207</td>\n",
       "      <td>2821922</td>\n",
       "      <td>28995881</td>\n",
       "      <td>0.016626</td>\n",
       "      <td>0.016166</td>\n",
       "      <td>0.000460</td>\n",
       "    </tr>\n",
       "    <tr>\n",
       "      <th>...</th>\n",
       "      <td>...</td>\n",
       "      <td>...</td>\n",
       "      <td>...</td>\n",
       "      <td>...</td>\n",
       "      <td>...</td>\n",
       "      <td>...</td>\n",
       "      <td>...</td>\n",
       "      <td>...</td>\n",
       "      <td>...</td>\n",
       "      <td>...</td>\n",
       "      <td>...</td>\n",
       "      <td>...</td>\n",
       "      <td>...</td>\n",
       "    </tr>\n",
       "    <tr>\n",
       "      <th>240</th>\n",
       "      <td>Michigan</td>\n",
       "      <td>1</td>\n",
       "      <td>2021</td>\n",
       "      <td>44.943560</td>\n",
       "      <td>-86.415805</td>\n",
       "      <td>607901</td>\n",
       "      <td>15516</td>\n",
       "      <td>106237</td>\n",
       "      <td>29775</td>\n",
       "      <td>9986857</td>\n",
       "      <td>0.025524</td>\n",
       "      <td>0.016960</td>\n",
       "      <td>0.008564</td>\n",
       "    </tr>\n",
       "    <tr>\n",
       "      <th>206</th>\n",
       "      <td>Maine</td>\n",
       "      <td>3</td>\n",
       "      <td>2021</td>\n",
       "      <td>45.218513</td>\n",
       "      <td>-69.014866</td>\n",
       "      <td>50504</td>\n",
       "      <td>743</td>\n",
       "      <td>101749</td>\n",
       "      <td>63205</td>\n",
       "      <td>1344212</td>\n",
       "      <td>0.014712</td>\n",
       "      <td>0.016905</td>\n",
       "      <td>0.002193</td>\n",
       "    </tr>\n",
       "    <tr>\n",
       "      <th>45</th>\n",
       "      <td>Arkansas</td>\n",
       "      <td>10</td>\n",
       "      <td>2021</td>\n",
       "      <td>34.751928</td>\n",
       "      <td>-92.131378</td>\n",
       "      <td>513215</td>\n",
       "      <td>8376</td>\n",
       "      <td>231680</td>\n",
       "      <td>200678</td>\n",
       "      <td>3017804</td>\n",
       "      <td>0.016321</td>\n",
       "      <td>0.016759</td>\n",
       "      <td>0.000439</td>\n",
       "    </tr>\n",
       "    <tr>\n",
       "      <th>497</th>\n",
       "      <td>Texas</td>\n",
       "      <td>6</td>\n",
       "      <td>2021</td>\n",
       "      <td>31.169336</td>\n",
       "      <td>-100.076842</td>\n",
       "      <td>2993964</td>\n",
       "      <td>52518</td>\n",
       "      <td>0</td>\n",
       "      <td>0</td>\n",
       "      <td>28995881</td>\n",
       "      <td>0.017541</td>\n",
       "      <td>0.016442</td>\n",
       "      <td>0.001099</td>\n",
       "    </tr>\n",
       "    <tr>\n",
       "      <th>542</th>\n",
       "      <td>Washington</td>\n",
       "      <td>3</td>\n",
       "      <td>2021</td>\n",
       "      <td>38.899349</td>\n",
       "      <td>-77.014567</td>\n",
       "      <td>366907</td>\n",
       "      <td>5309</td>\n",
       "      <td>682040</td>\n",
       "      <td>397453</td>\n",
       "      <td>7614893</td>\n",
       "      <td>0.014470</td>\n",
       "      <td>0.016527</td>\n",
       "      <td>0.002058</td>\n",
       "    </tr>\n",
       "  </tbody>\n",
       "</table>\n",
       "<p>118 rows × 13 columns</p>\n",
       "</div>"
      ],
      "text/plain": [
       "            state  month  year   latitude   longitude    cases  deaths  \\\n",
       "525       Vermont     10  2021  43.871755  -72.447783    40191     364   \n",
       "479  South Dakota     12  2021  44.212699 -100.247164   179204    2486   \n",
       "391  North Dakota      8  2021  47.467882 -100.302266   117529    1592   \n",
       "165          Iowa     10  2021  41.938317  -93.389798   486132    6965   \n",
       "503         Texas     12  2021  31.169336 -100.076842  4574881   76062   \n",
       "..            ...    ...   ...        ...         ...      ...     ...   \n",
       "240      Michigan      1  2021  44.943560  -86.415805   607901   15516   \n",
       "206         Maine      3  2021  45.218513  -69.014866    50504     743   \n",
       "45       Arkansas     10  2021  34.751928  -92.131378   513215    8376   \n",
       "497         Texas      6  2021  31.169336 -100.076842  2993964   52518   \n",
       "542    Washington      3  2021  38.899349  -77.014567   366907    5309   \n",
       "\n",
       "      1_dose  complete_dose  population  obs_freq  pred_freq  difference  \n",
       "525   118979         106214      623989  0.009057   0.016236    0.007179  \n",
       "479   153401         120954      884659  0.013872   0.016196    0.002324  \n",
       "391    97047          86704      762062  0.013546   0.016471    0.002925  \n",
       "165   317999         292772     3155070  0.014327   0.016626    0.002299  \n",
       "503  3313207        2821922    28995881  0.016626   0.016166    0.000460  \n",
       "..       ...            ...         ...       ...        ...         ...  \n",
       "240   106237          29775     9986857  0.025524   0.016960    0.008564  \n",
       "206   101749          63205     1344212  0.014712   0.016905    0.002193  \n",
       "45    231680         200678     3017804  0.016321   0.016759    0.000439  \n",
       "497        0              0    28995881  0.017541   0.016442    0.001099  \n",
       "542   682040         397453     7614893  0.014470   0.016527    0.002058  \n",
       "\n",
       "[118 rows x 13 columns]"
      ]
     },
     "execution_count": 53,
     "metadata": {},
     "output_type": "execute_result"
    }
   ],
   "source": [
    "poisson_glm_df = X_test.copy(deep=True)\n",
    "poisson_glm_df[\"obs_freq\"] = obs_freq\n",
    "poisson_glm_df[\"pred_freq\"] = poisson_glm.predict(X_test)\n",
    "poisson_glm_df[\"difference\"] = abs(obs_freq-poisson_glm.predict(X_test))\n",
    "poisson_glm_df"
   ]
  },
  {
   "cell_type": "code",
   "execution_count": null,
   "id": "fd1c06c4-cb89-4de3-95da-a392892b8100",
   "metadata": {},
   "outputs": [],
   "source": []
  }
 ],
 "metadata": {
  "kernelspec": {
   "display_name": "Python 3 (ipykernel)",
   "language": "python",
   "name": "python3"
  },
  "language_info": {
   "codemirror_mode": {
    "name": "ipython",
    "version": 3
   },
   "file_extension": ".py",
   "mimetype": "text/x-python",
   "name": "python",
   "nbconvert_exporter": "python",
   "pygments_lexer": "ipython3",
   "version": "3.10.0"
  }
 },
 "nbformat": 4,
 "nbformat_minor": 5
}
