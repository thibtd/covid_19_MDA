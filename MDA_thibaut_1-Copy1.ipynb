{
 "cells": [
  {
   "cell_type": "code",
   "execution_count": 2,
   "id": "700c8211",
   "metadata": {
    "ExecuteTime": {
     "end_time": "2022-05-24T17:38:57.269394Z",
     "start_time": "2022-05-24T17:38:54.691047Z"
    }
   },
   "outputs": [],
   "source": [
    "import pandas as pd \n",
    "import seaborn as sns \n",
    "import matplotlib.pyplot as plt \n",
    "import plotly.express as px \n",
    "import datetime as dt \n",
    "import ipywidgets as widgets\n",
    "from IPython.display import display\n",
    "import numpy as np"
   ]
  },
  {
   "cell_type": "code",
   "execution_count": 49,
   "id": "5a60fcb5",
   "metadata": {
    "ExecuteTime": {
     "end_time": "2022-05-24T18:04:10.055007Z",
     "start_time": "2022-05-24T18:04:08.349498Z"
    }
   },
   "outputs": [],
   "source": [
    "#load data \n",
    "dfusa = pd.read_csv('covid-19-data/us.csv')\n",
    "dfstates = pd.read_csv('covid-19-data/us-states.csv')\n",
    "dfcounties = pd.read_csv('covid-19-data/us-counties.csv')"
   ]
  },
  {
   "cell_type": "code",
   "execution_count": 50,
   "id": "64ded8d5",
   "metadata": {
    "ExecuteTime": {
     "end_time": "2022-05-24T18:04:10.098684Z",
     "start_time": "2022-05-24T18:04:10.089517Z"
    }
   },
   "outputs": [],
   "source": [
    "def preprocess(data,s):\n",
    "    data['date']=pd.to_datetime(data['date'])\n",
    "    #s is wheter it is data for state or for country s==1: state, s==2:county, s==0: country\n",
    "    #case for state\n",
    "    if s==1:\n",
    "        data.sort_values(['state','date'],inplace=True)\n",
    "        states = data['state'].unique()\n",
    "        data['daily_cases'] = np.zeros(data.shape[0])\n",
    "        data['daily_deaths'] = np.zeros(data.shape[0])\n",
    "        for s in states:\n",
    "            data['daily_cases'][data['state']==s] =data.cases[data['state']==s].diff()\n",
    "            data['daily_deaths'][data['state']==s] =data.deaths[data['state']==s].diff()\n",
    "        neg_cases = data[data['daily_cases']<0].index\n",
    "        data.drop(neg_cases, axis=0, inplace=True)\n",
    "        neg_cases = data[data['daily_deaths']<0].index\n",
    "        data.drop(neg_cases, axis=0, inplace=True) \n",
    "    #case for country \n",
    "    elif s==0:\n",
    "        data['daily_cases'] = data['cases'].diff()\n",
    "        data['daily_deaths'] = data['deaths'].diff()\n",
    "        neg_cases = data[data['daily_cases']<0].index\n",
    "        data.drop(neg_cases, axis=0, inplace=True)\n",
    "        neg_cases = data[data['daily_deaths']<0].index\n",
    "        data.drop(neg_cases, axis=0, inplace=True)\n",
    "        \n",
    "    else:\n",
    "        data.sort_values(['county','date'],inplace=True)\n",
    "        counties = data['county'].unique()\n",
    "        data['daily_cases'] = data[['county','cases']].groupby(by=[\"county\"]).diff()\n",
    "        data['daily_deaths'] = data[['county','deaths']].groupby(by=[\"county\"]).diff()\n",
    "        neg_cases = data[data['daily_cases']<0].index\n",
    "        data.drop(neg_cases, axis=0, inplace=True)\n",
    "        neg_cases = data[data['daily_deaths']<0].index\n",
    "        data.drop(neg_cases, axis=0, inplace=True) \n",
    "\n",
    "    \n",
    "    return data    \n",
    "    "
   ]
  },
  {
   "cell_type": "code",
   "execution_count": 51,
   "id": "2f663854",
   "metadata": {
    "ExecuteTime": {
     "end_time": "2022-05-24T18:04:24.454329Z",
     "start_time": "2022-05-24T18:04:19.009345Z"
    }
   },
   "outputs": [
    {
     "name": "stderr",
     "output_type": "stream",
     "text": [
      "/var/folders/07/cbtj5f0s2_v0hy9qt2t1zqgc0000gn/T/ipykernel_10743/1610212475.py:11: SettingWithCopyWarning: \n",
      "A value is trying to be set on a copy of a slice from a DataFrame\n",
      "\n",
      "See the caveats in the documentation: https://pandas.pydata.org/pandas-docs/stable/user_guide/indexing.html#returning-a-view-versus-a-copy\n",
      "  data['daily_cases'][data['state']==s] =data.cases[data['state']==s].diff()\n",
      "/var/folders/07/cbtj5f0s2_v0hy9qt2t1zqgc0000gn/T/ipykernel_10743/1610212475.py:12: SettingWithCopyWarning: \n",
      "A value is trying to be set on a copy of a slice from a DataFrame\n",
      "\n",
      "See the caveats in the documentation: https://pandas.pydata.org/pandas-docs/stable/user_guide/indexing.html#returning-a-view-versus-a-copy\n",
      "  data['daily_deaths'][data['state']==s] =data.deaths[data['state']==s].diff()\n"
     ]
    }
   ],
   "source": [
    "dfusa = preprocess(dfusa,0)\n",
    "dfstates= preprocess(dfstates,1)\n",
    "dfcounties = preprocess(dfcounties,2)"
   ]
  },
  {
   "cell_type": "code",
   "execution_count": 52,
   "id": "e07a4ab2",
   "metadata": {
    "ExecuteTime": {
     "end_time": "2022-05-24T18:04:45.749700Z",
     "start_time": "2022-05-24T18:04:45.725747Z"
    }
   },
   "outputs": [
    {
     "data": {
      "text/html": [
       "<div>\n",
       "<style scoped>\n",
       "    .dataframe tbody tr th:only-of-type {\n",
       "        vertical-align: middle;\n",
       "    }\n",
       "\n",
       "    .dataframe tbody tr th {\n",
       "        vertical-align: top;\n",
       "    }\n",
       "\n",
       "    .dataframe thead th {\n",
       "        text-align: right;\n",
       "    }\n",
       "</style>\n",
       "<table border=\"1\" class=\"dataframe\">\n",
       "  <thead>\n",
       "    <tr style=\"text-align: right;\">\n",
       "      <th></th>\n",
       "      <th>date</th>\n",
       "      <th>county</th>\n",
       "      <th>state</th>\n",
       "      <th>fips</th>\n",
       "      <th>cases</th>\n",
       "      <th>deaths</th>\n",
       "      <th>daily_cases</th>\n",
       "      <th>daily_deaths</th>\n",
       "    </tr>\n",
       "  </thead>\n",
       "  <tbody>\n",
       "    <tr>\n",
       "      <th>5000</th>\n",
       "      <td>2020-03-19</td>\n",
       "      <td>Abbeville</td>\n",
       "      <td>South Carolina</td>\n",
       "      <td>45001.0</td>\n",
       "      <td>1</td>\n",
       "      <td>0.0</td>\n",
       "      <td>NaN</td>\n",
       "      <td>NaN</td>\n",
       "    </tr>\n",
       "    <tr>\n",
       "      <th>5873</th>\n",
       "      <td>2020-03-20</td>\n",
       "      <td>Abbeville</td>\n",
       "      <td>South Carolina</td>\n",
       "      <td>45001.0</td>\n",
       "      <td>1</td>\n",
       "      <td>0.0</td>\n",
       "      <td>0.0</td>\n",
       "      <td>0.0</td>\n",
       "    </tr>\n",
       "    <tr>\n",
       "      <th>6877</th>\n",
       "      <td>2020-03-21</td>\n",
       "      <td>Abbeville</td>\n",
       "      <td>South Carolina</td>\n",
       "      <td>45001.0</td>\n",
       "      <td>1</td>\n",
       "      <td>0.0</td>\n",
       "      <td>0.0</td>\n",
       "      <td>0.0</td>\n",
       "    </tr>\n",
       "    <tr>\n",
       "      <th>7997</th>\n",
       "      <td>2020-03-22</td>\n",
       "      <td>Abbeville</td>\n",
       "      <td>South Carolina</td>\n",
       "      <td>45001.0</td>\n",
       "      <td>1</td>\n",
       "      <td>0.0</td>\n",
       "      <td>0.0</td>\n",
       "      <td>0.0</td>\n",
       "    </tr>\n",
       "    <tr>\n",
       "      <th>9208</th>\n",
       "      <td>2020-03-23</td>\n",
       "      <td>Abbeville</td>\n",
       "      <td>South Carolina</td>\n",
       "      <td>45001.0</td>\n",
       "      <td>1</td>\n",
       "      <td>0.0</td>\n",
       "      <td>0.0</td>\n",
       "      <td>0.0</td>\n",
       "    </tr>\n",
       "  </tbody>\n",
       "</table>\n",
       "</div>"
      ],
      "text/plain": [
       "           date     county           state     fips  cases  deaths  \\\n",
       "5000 2020-03-19  Abbeville  South Carolina  45001.0      1     0.0   \n",
       "5873 2020-03-20  Abbeville  South Carolina  45001.0      1     0.0   \n",
       "6877 2020-03-21  Abbeville  South Carolina  45001.0      1     0.0   \n",
       "7997 2020-03-22  Abbeville  South Carolina  45001.0      1     0.0   \n",
       "9208 2020-03-23  Abbeville  South Carolina  45001.0      1     0.0   \n",
       "\n",
       "      daily_cases  daily_deaths  \n",
       "5000          NaN           NaN  \n",
       "5873          0.0           0.0  \n",
       "6877          0.0           0.0  \n",
       "7997          0.0           0.0  \n",
       "9208          0.0           0.0  "
      ]
     },
     "execution_count": 52,
     "metadata": {},
     "output_type": "execute_result"
    }
   ],
   "source": [
    "dfcounties.head()"
   ]
  },
  {
   "cell_type": "code",
   "execution_count": 54,
   "id": "114da90d",
   "metadata": {
    "ExecuteTime": {
     "end_time": "2022-05-24T18:07:35.702929Z",
     "start_time": "2022-05-24T18:07:35.688994Z"
    }
   },
   "outputs": [],
   "source": [
    "#def to plot the data, if country=0 : plot for the whole country, country =1 plot for states if coountry =2,\n",
    "#plot for county\n",
    "\n",
    "def plot(y,data,state='Alabama',county='Autauga County',country=0):\n",
    "    if country ==0 :\n",
    "        title = '{} in the USA'.format(y)\n",
    "        ax = px.area(data, 'date', y, title =title )\n",
    "        ax.show()\n",
    "    elif country ==1:\n",
    "        title = '{} in {}'.format(y,state)\n",
    "        ax = px.area(data[data['state']==state], 'date',y,title = title)\n",
    "        ax.show()\n",
    "    else:\n",
    "        title = '{} in {}'.format(y,county)\n",
    "        ax = px.area(data[data['county']==county], 'date',y,title = title)\n",
    "        ax.show()\n",
    "        \n",
    "    "
   ]
  },
  {
   "cell_type": "code",
   "execution_count": 59,
   "id": "941bfe33",
   "metadata": {
    "ExecuteTime": {
     "end_time": "2022-05-24T18:12:11.492302Z",
     "start_time": "2022-05-24T18:12:11.326166Z"
    },
    "scrolled": true
   },
   "outputs": [
    {
     "data": {
      "application/vnd.jupyter.widget-view+json": {
       "model_id": "4d19253e78df40cfb77013f718d24584",
       "version_major": 2,
       "version_minor": 0
      },
      "text/plain": [
       "HBox(children=(Dropdown(options=('daily_cases', 'daily_deaths'), value='daily_cases'), Dropdown(options=('coun…"
      ]
     },
     "metadata": {},
     "output_type": "display_data"
    },
    {
     "data": {
      "application/vnd.jupyter.widget-view+json": {
       "model_id": "9343dd5db91d4250950cb28e2a1f59c3",
       "version_major": 2,
       "version_minor": 0
      },
      "text/plain": [
       "Output()"
      ]
     },
     "metadata": {},
     "output_type": "display_data"
    }
   ],
   "source": [
    "dropdown_case = widgets.Dropdown(options=['daily_cases','daily_deaths'])\n",
    "dropdown_country = widgets.Dropdown(options=['country','state','county'])\n",
    "dropdown_state = widgets.Dropdown(options=dfstates['state'].unique())\n",
    "dropdown_county =  widgets.Dropdown(options=dfcounties['county'].unique())\n",
    "input_widgets = widgets.HBox([dropdown_case, dropdown_country])\n",
    "output = widgets.Output()\n",
    "def com_filter(case, country, state,county):\n",
    "    output.clear_output()\n",
    "    if country == 'country':\n",
    "        with output:\n",
    "            plot(case,dfusa,country=0)\n",
    "    elif country =='state':\n",
    "        with output:\n",
    "            display(dropdown_state)\n",
    "            plot(case,dfstates,state=state, country=1)\n",
    "    else:\n",
    "        with output:\n",
    "            display(dropdown_county)\n",
    "            plot(case,dfcounties,county=county, country=2)\n",
    "\n",
    "        \n",
    "        \n",
    "def dropdown_case_eventhandler(change):\n",
    "    com_filter(change.new, dropdown_country.value,dropdown_state.value,dropdown_county.value)\n",
    "\n",
    "def dropdown_country_eventhandler(change):\n",
    "    com_filter(dropdown_case.value,change.new,dropdown_state.value,dropdown_county.value)    \n",
    "    \n",
    "def dropdown_state_eventhandler(change):\n",
    "    com_filter(dropdown_case.value,dropdown_country.value,change.new,dropdown_county.value)\n",
    "def dropdown_county_eventhandler(change):\n",
    "    com_filter(dropdown_case.value,dropdown_country.value,dropdown_state.value,change.new)\n",
    "    \n",
    "dropdown_case.observe(dropdown_case_eventhandler, names='value')\n",
    "dropdown_country.observe(dropdown_country_eventhandler, names='value')\n",
    "dropdown_state.observe(dropdown_state_eventhandler, names='value')\n",
    "dropdown_county.observe(dropdown_county_eventhandler, names='value')\n",
    "display(input_widgets)\n",
    "\n",
    "\n",
    "display(output)"
   ]
  },
  {
   "cell_type": "markdown",
   "id": "e218ff62",
   "metadata": {},
   "source": [
    "Case fatality ratio (CFR) is the proportion of individuals diagnosed with a disease who die from that disease and is therefore a measure of severity among detected cases"
   ]
  },
  {
   "cell_type": "code",
   "execution_count": 84,
   "id": "392cfa2a",
   "metadata": {
    "ExecuteTime": {
     "end_time": "2022-05-24T09:42:47.346257Z",
     "start_time": "2022-05-24T09:42:47.331272Z"
    },
    "scrolled": true
   },
   "outputs": [
    {
     "name": "stdout",
     "output_type": "stream",
     "text": [
      "0.015918426836646907 0.05464940321851015\n"
     ]
    }
   ],
   "source": [
    "#vaccination started mid december 2020 \n",
    "#let's take 15 june 2020 \n",
    "june15 = dfusa[dfusa['date']==dt.datetime.strptime('2020-06-15',\"%Y-%m-%d\")]\n",
    "#December 15 2021\n",
    "dec15 = dfusa[dfusa['date']==dt.datetime.strptime('2021-12-15',\"%Y-%m-%d\")]\n",
    "CFRjune15 = float((june15['deaths']/june15['cases']))\n",
    "CFRdec15 = float((dec15['deaths']/dec15['cases']))\n",
    "print(CFRdec15, CFRjune15)"
   ]
  },
  {
   "cell_type": "code",
   "execution_count": 18,
   "id": "4d6dcfa3",
   "metadata": {
    "ExecuteTime": {
     "end_time": "2022-05-24T08:45:57.757436Z",
     "start_time": "2022-05-24T08:45:57.744083Z"
    }
   },
   "outputs": [],
   "source": [
    "##anova for prisons \n",
    "pri = pd.read_csv('covid-19-data/prisons/systems.csv')"
   ]
  },
  {
   "cell_type": "code",
   "execution_count": 45,
   "id": "041b3f2a",
   "metadata": {
    "ExecuteTime": {
     "end_time": "2022-05-24T09:20:55.933091Z",
     "start_time": "2022-05-24T09:20:55.794686Z"
    }
   },
   "outputs": [
    {
     "ename": "KeyError",
     "evalue": "'[50 51 52 53] not found in axis'",
     "output_type": "error",
     "traceback": [
      "\u001b[0;31m---------------------------------------------------------------------------\u001b[0m",
      "\u001b[0;31mKeyError\u001b[0m                                  Traceback (most recent call last)",
      "\u001b[0;32m/var/folders/07/cbtj5f0s2_v0hy9qt2t1zqgc0000gn/T/ipykernel_6015/359270862.py\u001b[0m in \u001b[0;36m<module>\u001b[0;34m\u001b[0m\n\u001b[0;32m----> 1\u001b[0;31m \u001b[0mpri\u001b[0m\u001b[0;34m.\u001b[0m\u001b[0mdrop\u001b[0m\u001b[0;34m(\u001b[0m\u001b[0;34m[\u001b[0m\u001b[0;36m50\u001b[0m\u001b[0;34m,\u001b[0m\u001b[0;36m51\u001b[0m\u001b[0;34m,\u001b[0m\u001b[0;36m52\u001b[0m\u001b[0;34m,\u001b[0m\u001b[0;36m53\u001b[0m\u001b[0;34m]\u001b[0m\u001b[0;34m,\u001b[0m\u001b[0minplace\u001b[0m\u001b[0;34m=\u001b[0m\u001b[0;32mTrue\u001b[0m\u001b[0;34m)\u001b[0m\u001b[0;34m\u001b[0m\u001b[0;34m\u001b[0m\u001b[0m\n\u001b[0m\u001b[1;32m      2\u001b[0m \u001b[0mpri\u001b[0m\u001b[0;34m.\u001b[0m\u001b[0mtail\u001b[0m\u001b[0;34m(\u001b[0m\u001b[0;34m)\u001b[0m\u001b[0;34m\u001b[0m\u001b[0;34m\u001b[0m\u001b[0m\n",
      "\u001b[0;32m~/opt/anaconda3/lib/python3.9/site-packages/pandas/util/_decorators.py\u001b[0m in \u001b[0;36mwrapper\u001b[0;34m(*args, **kwargs)\u001b[0m\n\u001b[1;32m    309\u001b[0m                     \u001b[0mstacklevel\u001b[0m\u001b[0;34m=\u001b[0m\u001b[0mstacklevel\u001b[0m\u001b[0;34m,\u001b[0m\u001b[0;34m\u001b[0m\u001b[0;34m\u001b[0m\u001b[0m\n\u001b[1;32m    310\u001b[0m                 )\n\u001b[0;32m--> 311\u001b[0;31m             \u001b[0;32mreturn\u001b[0m \u001b[0mfunc\u001b[0m\u001b[0;34m(\u001b[0m\u001b[0;34m*\u001b[0m\u001b[0margs\u001b[0m\u001b[0;34m,\u001b[0m \u001b[0;34m**\u001b[0m\u001b[0mkwargs\u001b[0m\u001b[0;34m)\u001b[0m\u001b[0;34m\u001b[0m\u001b[0;34m\u001b[0m\u001b[0m\n\u001b[0m\u001b[1;32m    312\u001b[0m \u001b[0;34m\u001b[0m\u001b[0m\n\u001b[1;32m    313\u001b[0m         \u001b[0;32mreturn\u001b[0m \u001b[0mwrapper\u001b[0m\u001b[0;34m\u001b[0m\u001b[0;34m\u001b[0m\u001b[0m\n",
      "\u001b[0;32m~/opt/anaconda3/lib/python3.9/site-packages/pandas/core/frame.py\u001b[0m in \u001b[0;36mdrop\u001b[0;34m(self, labels, axis, index, columns, level, inplace, errors)\u001b[0m\n\u001b[1;32m   4904\u001b[0m                 \u001b[0mweight\u001b[0m  \u001b[0;36m1.0\u001b[0m     \u001b[0;36m0.8\u001b[0m\u001b[0;34m\u001b[0m\u001b[0;34m\u001b[0m\u001b[0m\n\u001b[1;32m   4905\u001b[0m         \"\"\"\n\u001b[0;32m-> 4906\u001b[0;31m         return super().drop(\n\u001b[0m\u001b[1;32m   4907\u001b[0m             \u001b[0mlabels\u001b[0m\u001b[0;34m=\u001b[0m\u001b[0mlabels\u001b[0m\u001b[0;34m,\u001b[0m\u001b[0;34m\u001b[0m\u001b[0;34m\u001b[0m\u001b[0m\n\u001b[1;32m   4908\u001b[0m             \u001b[0maxis\u001b[0m\u001b[0;34m=\u001b[0m\u001b[0maxis\u001b[0m\u001b[0;34m,\u001b[0m\u001b[0;34m\u001b[0m\u001b[0;34m\u001b[0m\u001b[0m\n",
      "\u001b[0;32m~/opt/anaconda3/lib/python3.9/site-packages/pandas/core/generic.py\u001b[0m in \u001b[0;36mdrop\u001b[0;34m(self, labels, axis, index, columns, level, inplace, errors)\u001b[0m\n\u001b[1;32m   4148\u001b[0m         \u001b[0;32mfor\u001b[0m \u001b[0maxis\u001b[0m\u001b[0;34m,\u001b[0m \u001b[0mlabels\u001b[0m \u001b[0;32min\u001b[0m \u001b[0maxes\u001b[0m\u001b[0;34m.\u001b[0m\u001b[0mitems\u001b[0m\u001b[0;34m(\u001b[0m\u001b[0;34m)\u001b[0m\u001b[0;34m:\u001b[0m\u001b[0;34m\u001b[0m\u001b[0;34m\u001b[0m\u001b[0m\n\u001b[1;32m   4149\u001b[0m             \u001b[0;32mif\u001b[0m \u001b[0mlabels\u001b[0m \u001b[0;32mis\u001b[0m \u001b[0;32mnot\u001b[0m \u001b[0;32mNone\u001b[0m\u001b[0;34m:\u001b[0m\u001b[0;34m\u001b[0m\u001b[0;34m\u001b[0m\u001b[0m\n\u001b[0;32m-> 4150\u001b[0;31m                 \u001b[0mobj\u001b[0m \u001b[0;34m=\u001b[0m \u001b[0mobj\u001b[0m\u001b[0;34m.\u001b[0m\u001b[0m_drop_axis\u001b[0m\u001b[0;34m(\u001b[0m\u001b[0mlabels\u001b[0m\u001b[0;34m,\u001b[0m \u001b[0maxis\u001b[0m\u001b[0;34m,\u001b[0m \u001b[0mlevel\u001b[0m\u001b[0;34m=\u001b[0m\u001b[0mlevel\u001b[0m\u001b[0;34m,\u001b[0m \u001b[0merrors\u001b[0m\u001b[0;34m=\u001b[0m\u001b[0merrors\u001b[0m\u001b[0;34m)\u001b[0m\u001b[0;34m\u001b[0m\u001b[0;34m\u001b[0m\u001b[0m\n\u001b[0m\u001b[1;32m   4151\u001b[0m \u001b[0;34m\u001b[0m\u001b[0m\n\u001b[1;32m   4152\u001b[0m         \u001b[0;32mif\u001b[0m \u001b[0minplace\u001b[0m\u001b[0;34m:\u001b[0m\u001b[0;34m\u001b[0m\u001b[0;34m\u001b[0m\u001b[0m\n",
      "\u001b[0;32m~/opt/anaconda3/lib/python3.9/site-packages/pandas/core/generic.py\u001b[0m in \u001b[0;36m_drop_axis\u001b[0;34m(self, labels, axis, level, errors)\u001b[0m\n\u001b[1;32m   4183\u001b[0m                 \u001b[0mnew_axis\u001b[0m \u001b[0;34m=\u001b[0m \u001b[0maxis\u001b[0m\u001b[0;34m.\u001b[0m\u001b[0mdrop\u001b[0m\u001b[0;34m(\u001b[0m\u001b[0mlabels\u001b[0m\u001b[0;34m,\u001b[0m \u001b[0mlevel\u001b[0m\u001b[0;34m=\u001b[0m\u001b[0mlevel\u001b[0m\u001b[0;34m,\u001b[0m \u001b[0merrors\u001b[0m\u001b[0;34m=\u001b[0m\u001b[0merrors\u001b[0m\u001b[0;34m)\u001b[0m\u001b[0;34m\u001b[0m\u001b[0;34m\u001b[0m\u001b[0m\n\u001b[1;32m   4184\u001b[0m             \u001b[0;32melse\u001b[0m\u001b[0;34m:\u001b[0m\u001b[0;34m\u001b[0m\u001b[0;34m\u001b[0m\u001b[0m\n\u001b[0;32m-> 4185\u001b[0;31m                 \u001b[0mnew_axis\u001b[0m \u001b[0;34m=\u001b[0m \u001b[0maxis\u001b[0m\u001b[0;34m.\u001b[0m\u001b[0mdrop\u001b[0m\u001b[0;34m(\u001b[0m\u001b[0mlabels\u001b[0m\u001b[0;34m,\u001b[0m \u001b[0merrors\u001b[0m\u001b[0;34m=\u001b[0m\u001b[0merrors\u001b[0m\u001b[0;34m)\u001b[0m\u001b[0;34m\u001b[0m\u001b[0;34m\u001b[0m\u001b[0m\n\u001b[0m\u001b[1;32m   4186\u001b[0m             \u001b[0mresult\u001b[0m \u001b[0;34m=\u001b[0m \u001b[0mself\u001b[0m\u001b[0;34m.\u001b[0m\u001b[0mreindex\u001b[0m\u001b[0;34m(\u001b[0m\u001b[0;34m**\u001b[0m\u001b[0;34m{\u001b[0m\u001b[0maxis_name\u001b[0m\u001b[0;34m:\u001b[0m \u001b[0mnew_axis\u001b[0m\u001b[0;34m}\u001b[0m\u001b[0;34m)\u001b[0m\u001b[0;34m\u001b[0m\u001b[0;34m\u001b[0m\u001b[0m\n\u001b[1;32m   4187\u001b[0m \u001b[0;34m\u001b[0m\u001b[0m\n",
      "\u001b[0;32m~/opt/anaconda3/lib/python3.9/site-packages/pandas/core/indexes/base.py\u001b[0m in \u001b[0;36mdrop\u001b[0;34m(self, labels, errors)\u001b[0m\n\u001b[1;32m   6015\u001b[0m         \u001b[0;32mif\u001b[0m \u001b[0mmask\u001b[0m\u001b[0;34m.\u001b[0m\u001b[0many\u001b[0m\u001b[0;34m(\u001b[0m\u001b[0;34m)\u001b[0m\u001b[0;34m:\u001b[0m\u001b[0;34m\u001b[0m\u001b[0;34m\u001b[0m\u001b[0m\n\u001b[1;32m   6016\u001b[0m             \u001b[0;32mif\u001b[0m \u001b[0merrors\u001b[0m \u001b[0;34m!=\u001b[0m \u001b[0;34m\"ignore\"\u001b[0m\u001b[0;34m:\u001b[0m\u001b[0;34m\u001b[0m\u001b[0;34m\u001b[0m\u001b[0m\n\u001b[0;32m-> 6017\u001b[0;31m                 \u001b[0;32mraise\u001b[0m \u001b[0mKeyError\u001b[0m\u001b[0;34m(\u001b[0m\u001b[0;34mf\"{labels[mask]} not found in axis\"\u001b[0m\u001b[0;34m)\u001b[0m\u001b[0;34m\u001b[0m\u001b[0;34m\u001b[0m\u001b[0m\n\u001b[0m\u001b[1;32m   6018\u001b[0m             \u001b[0mindexer\u001b[0m \u001b[0;34m=\u001b[0m \u001b[0mindexer\u001b[0m\u001b[0;34m[\u001b[0m\u001b[0;34m~\u001b[0m\u001b[0mmask\u001b[0m\u001b[0;34m]\u001b[0m\u001b[0;34m\u001b[0m\u001b[0;34m\u001b[0m\u001b[0m\n\u001b[1;32m   6019\u001b[0m         \u001b[0;32mreturn\u001b[0m \u001b[0mself\u001b[0m\u001b[0;34m.\u001b[0m\u001b[0mdelete\u001b[0m\u001b[0;34m(\u001b[0m\u001b[0mindexer\u001b[0m\u001b[0;34m)\u001b[0m\u001b[0;34m\u001b[0m\u001b[0;34m\u001b[0m\u001b[0m\n",
      "\u001b[0;31mKeyError\u001b[0m: '[50 51 52 53] not found in axis'"
     ]
    }
   ],
   "source": [
    "\n",
    "pri.drop([50,51,52,53],inplace=True)\n"
   ]
  },
  {
   "cell_type": "code",
   "execution_count": 54,
   "id": "7701b997",
   "metadata": {
    "ExecuteTime": {
     "end_time": "2022-05-24T09:28:13.628934Z",
     "start_time": "2022-05-24T09:28:13.595415Z"
    }
   },
   "outputs": [
    {
     "data": {
      "text/html": [
       "<div>\n",
       "<style scoped>\n",
       "    .dataframe tbody tr th:only-of-type {\n",
       "        vertical-align: middle;\n",
       "    }\n",
       "\n",
       "    .dataframe tbody tr th {\n",
       "        vertical-align: top;\n",
       "    }\n",
       "\n",
       "    .dataframe thead th {\n",
       "        text-align: right;\n",
       "    }\n",
       "</style>\n",
       "<table border=\"1\" class=\"dataframe\">\n",
       "  <thead>\n",
       "    <tr style=\"text-align: right;\">\n",
       "      <th></th>\n",
       "      <th>system</th>\n",
       "      <th>inmate_tests</th>\n",
       "      <th>total_inmate_cases</th>\n",
       "      <th>total_inmate_deaths</th>\n",
       "      <th>latest_inmate_population</th>\n",
       "      <th>max_inmate_population_2020</th>\n",
       "      <th>total_officer_cases</th>\n",
       "      <th>total_officer_deaths</th>\n",
       "      <th>total_cases</th>\n",
       "      <th>total_deaths</th>\n",
       "    </tr>\n",
       "  </thead>\n",
       "  <tbody>\n",
       "    <tr>\n",
       "      <th>0</th>\n",
       "      <td>Alabama</td>\n",
       "      <td>15505.0</td>\n",
       "      <td>1601</td>\n",
       "      <td>64</td>\n",
       "      <td>19144.0</td>\n",
       "      <td>21900.0</td>\n",
       "      <td>1019.0</td>\n",
       "      <td>3.0</td>\n",
       "      <td>2620.0</td>\n",
       "      <td>67.0</td>\n",
       "    </tr>\n",
       "    <tr>\n",
       "      <th>1</th>\n",
       "      <td>Alaska</td>\n",
       "      <td>27756.0</td>\n",
       "      <td>2428</td>\n",
       "      <td>5</td>\n",
       "      <td>5011.0</td>\n",
       "      <td>5143.0</td>\n",
       "      <td>85.0</td>\n",
       "      <td>0.0</td>\n",
       "      <td>2513.0</td>\n",
       "      <td>5.0</td>\n",
       "    </tr>\n",
       "    <tr>\n",
       "      <th>2</th>\n",
       "      <td>Arizona</td>\n",
       "      <td>43652.0</td>\n",
       "      <td>12229</td>\n",
       "      <td>44</td>\n",
       "      <td>38248.0</td>\n",
       "      <td>41674.0</td>\n",
       "      <td>2739.0</td>\n",
       "      <td>0.0</td>\n",
       "      <td>14968.0</td>\n",
       "      <td>44.0</td>\n",
       "    </tr>\n",
       "    <tr>\n",
       "      <th>3</th>\n",
       "      <td>Arkansas</td>\n",
       "      <td>0.0</td>\n",
       "      <td>11378</td>\n",
       "      <td>52</td>\n",
       "      <td>14729.0</td>\n",
       "      <td>15886.0</td>\n",
       "      <td>424.0</td>\n",
       "      <td>5.0</td>\n",
       "      <td>11802.0</td>\n",
       "      <td>57.0</td>\n",
       "    </tr>\n",
       "    <tr>\n",
       "      <th>4</th>\n",
       "      <td>California</td>\n",
       "      <td>121207.0</td>\n",
       "      <td>49511</td>\n",
       "      <td>217</td>\n",
       "      <td>110471.0</td>\n",
       "      <td>117767.0</td>\n",
       "      <td>16090.0</td>\n",
       "      <td>26.0</td>\n",
       "      <td>65601.0</td>\n",
       "      <td>243.0</td>\n",
       "    </tr>\n",
       "  </tbody>\n",
       "</table>\n",
       "</div>"
      ],
      "text/plain": [
       "       system  inmate_tests  total_inmate_cases  total_inmate_deaths  \\\n",
       "0     Alabama       15505.0                1601                   64   \n",
       "1      Alaska       27756.0                2428                    5   \n",
       "2     Arizona       43652.0               12229                   44   \n",
       "3    Arkansas           0.0               11378                   52   \n",
       "4  California      121207.0               49511                  217   \n",
       "\n",
       "   latest_inmate_population  max_inmate_population_2020  total_officer_cases  \\\n",
       "0                   19144.0                     21900.0               1019.0   \n",
       "1                    5011.0                      5143.0                 85.0   \n",
       "2                   38248.0                     41674.0               2739.0   \n",
       "3                   14729.0                     15886.0                424.0   \n",
       "4                  110471.0                    117767.0              16090.0   \n",
       "\n",
       "   total_officer_deaths  total_cases  total_deaths  \n",
       "0                   3.0       2620.0          67.0  \n",
       "1                   0.0       2513.0           5.0  \n",
       "2                   0.0      14968.0          44.0  \n",
       "3                   5.0      11802.0          57.0  \n",
       "4                  26.0      65601.0         243.0  "
      ]
     },
     "execution_count": 54,
     "metadata": {},
     "output_type": "execute_result"
    }
   ],
   "source": [
    "pri.head()"
   ]
  },
  {
   "cell_type": "code",
   "execution_count": 47,
   "id": "3ba08ded",
   "metadata": {
    "ExecuteTime": {
     "end_time": "2022-05-24T09:21:11.636959Z",
     "start_time": "2022-05-24T09:21:11.594867Z"
    }
   },
   "outputs": [
    {
     "data": {
      "text/html": [
       "<div>\n",
       "<style scoped>\n",
       "    .dataframe tbody tr th:only-of-type {\n",
       "        vertical-align: middle;\n",
       "    }\n",
       "\n",
       "    .dataframe tbody tr th {\n",
       "        vertical-align: top;\n",
       "    }\n",
       "\n",
       "    .dataframe thead th {\n",
       "        text-align: right;\n",
       "    }\n",
       "</style>\n",
       "<table border=\"1\" class=\"dataframe\">\n",
       "  <thead>\n",
       "    <tr style=\"text-align: right;\">\n",
       "      <th></th>\n",
       "      <th>inmate_tests</th>\n",
       "      <th>total_inmate_cases</th>\n",
       "      <th>total_inmate_deaths</th>\n",
       "      <th>latest_inmate_population</th>\n",
       "      <th>max_inmate_population_2020</th>\n",
       "      <th>total_officer_cases</th>\n",
       "      <th>total_officer_deaths</th>\n",
       "      <th>total_cases</th>\n",
       "      <th>total_deaths</th>\n",
       "    </tr>\n",
       "  </thead>\n",
       "  <tbody>\n",
       "    <tr>\n",
       "      <th>count</th>\n",
       "      <td>50.000000</td>\n",
       "      <td>50.000000</td>\n",
       "      <td>50.000000</td>\n",
       "      <td>50.000000</td>\n",
       "      <td>50.000000</td>\n",
       "      <td>50.000000</td>\n",
       "      <td>50.000000</td>\n",
       "      <td>50.000000</td>\n",
       "      <td>50.000000</td>\n",
       "    </tr>\n",
       "    <tr>\n",
       "      <th>mean</th>\n",
       "      <td>76442.720000</td>\n",
       "      <td>6902.400000</td>\n",
       "      <td>45.900000</td>\n",
       "      <td>20678.420000</td>\n",
       "      <td>23632.580000</td>\n",
       "      <td>1956.840000</td>\n",
       "      <td>3.480000</td>\n",
       "      <td>8859.240000</td>\n",
       "      <td>49.380000</td>\n",
       "    </tr>\n",
       "    <tr>\n",
       "      <th>std</th>\n",
       "      <td>130952.898986</td>\n",
       "      <td>8859.677962</td>\n",
       "      <td>54.334283</td>\n",
       "      <td>25759.930956</td>\n",
       "      <td>29959.091043</td>\n",
       "      <td>2892.597113</td>\n",
       "      <td>7.220266</td>\n",
       "      <td>11583.795269</td>\n",
       "      <td>59.809524</td>\n",
       "    </tr>\n",
       "    <tr>\n",
       "      <th>min</th>\n",
       "      <td>0.000000</td>\n",
       "      <td>169.000000</td>\n",
       "      <td>0.000000</td>\n",
       "      <td>0.000000</td>\n",
       "      <td>1397.000000</td>\n",
       "      <td>45.000000</td>\n",
       "      <td>0.000000</td>\n",
       "      <td>214.000000</td>\n",
       "      <td>0.000000</td>\n",
       "    </tr>\n",
       "    <tr>\n",
       "      <th>25%</th>\n",
       "      <td>12442.250000</td>\n",
       "      <td>2103.750000</td>\n",
       "      <td>9.750000</td>\n",
       "      <td>5466.250000</td>\n",
       "      <td>6053.750000</td>\n",
       "      <td>405.250000</td>\n",
       "      <td>0.000000</td>\n",
       "      <td>2536.750000</td>\n",
       "      <td>11.250000</td>\n",
       "    </tr>\n",
       "    <tr>\n",
       "      <th>50%</th>\n",
       "      <td>29985.000000</td>\n",
       "      <td>4099.000000</td>\n",
       "      <td>31.000000</td>\n",
       "      <td>13731.000000</td>\n",
       "      <td>15323.500000</td>\n",
       "      <td>1018.500000</td>\n",
       "      <td>1.500000</td>\n",
       "      <td>5573.500000</td>\n",
       "      <td>32.000000</td>\n",
       "    </tr>\n",
       "    <tr>\n",
       "      <th>75%</th>\n",
       "      <td>73595.000000</td>\n",
       "      <td>8483.750000</td>\n",
       "      <td>52.750000</td>\n",
       "      <td>24962.250000</td>\n",
       "      <td>30990.750000</td>\n",
       "      <td>2158.250000</td>\n",
       "      <td>4.000000</td>\n",
       "      <td>11288.250000</td>\n",
       "      <td>55.500000</td>\n",
       "    </tr>\n",
       "    <tr>\n",
       "      <th>max</th>\n",
       "      <td>673822.000000</td>\n",
       "      <td>49511.000000</td>\n",
       "      <td>220.000000</td>\n",
       "      <td>127814.000000</td>\n",
       "      <td>162000.000000</td>\n",
       "      <td>16090.000000</td>\n",
       "      <td>44.000000</td>\n",
       "      <td>65601.000000</td>\n",
       "      <td>250.000000</td>\n",
       "    </tr>\n",
       "  </tbody>\n",
       "</table>\n",
       "</div>"
      ],
      "text/plain": [
       "        inmate_tests  total_inmate_cases  total_inmate_deaths  \\\n",
       "count      50.000000           50.000000            50.000000   \n",
       "mean    76442.720000         6902.400000            45.900000   \n",
       "std    130952.898986         8859.677962            54.334283   \n",
       "min         0.000000          169.000000             0.000000   \n",
       "25%     12442.250000         2103.750000             9.750000   \n",
       "50%     29985.000000         4099.000000            31.000000   \n",
       "75%     73595.000000         8483.750000            52.750000   \n",
       "max    673822.000000        49511.000000           220.000000   \n",
       "\n",
       "       latest_inmate_population  max_inmate_population_2020  \\\n",
       "count                 50.000000                   50.000000   \n",
       "mean               20678.420000                23632.580000   \n",
       "std                25759.930956                29959.091043   \n",
       "min                    0.000000                 1397.000000   \n",
       "25%                 5466.250000                 6053.750000   \n",
       "50%                13731.000000                15323.500000   \n",
       "75%                24962.250000                30990.750000   \n",
       "max               127814.000000               162000.000000   \n",
       "\n",
       "       total_officer_cases  total_officer_deaths   total_cases  total_deaths  \n",
       "count            50.000000             50.000000     50.000000     50.000000  \n",
       "mean           1956.840000              3.480000   8859.240000     49.380000  \n",
       "std            2892.597113              7.220266  11583.795269     59.809524  \n",
       "min              45.000000              0.000000    214.000000      0.000000  \n",
       "25%             405.250000              0.000000   2536.750000     11.250000  \n",
       "50%            1018.500000              1.500000   5573.500000     32.000000  \n",
       "75%            2158.250000              4.000000  11288.250000     55.500000  \n",
       "max           16090.000000             44.000000  65601.000000    250.000000  "
      ]
     },
     "execution_count": 47,
     "metadata": {},
     "output_type": "execute_result"
    }
   ],
   "source": [
    "pri.describe()"
   ]
  },
  {
   "cell_type": "code",
   "execution_count": 48,
   "id": "6c75b3f2",
   "metadata": {
    "ExecuteTime": {
     "end_time": "2022-05-24T09:21:18.959329Z",
     "start_time": "2022-05-24T09:21:18.948858Z"
    }
   },
   "outputs": [],
   "source": [
    "pri['total_cases'] = pri['total_inmate_cases']+pri['total_officer_cases']\n",
    "pri['total_deaths'] = pri['total_inmate_deaths']+pri['total_officer_deaths']\n"
   ]
  },
  {
   "cell_type": "code",
   "execution_count": 55,
   "id": "d6591acb",
   "metadata": {
    "ExecuteTime": {
     "end_time": "2022-05-24T09:29:06.034363Z",
     "start_time": "2022-05-24T09:29:06.011759Z"
    }
   },
   "outputs": [],
   "source": [
    "#case fatality ratio \n",
    "pri['case_fat_r_in'] =(pri['total_inmate_deaths']/pri['total_inmate_cases'])*100\n",
    "pri['case_fat_r_of'] =(pri['total_officer_deaths']/pri['total_officer_cases'])*100"
   ]
  },
  {
   "cell_type": "code",
   "execution_count": 56,
   "id": "61a8941b",
   "metadata": {
    "ExecuteTime": {
     "end_time": "2022-05-24T09:29:12.739813Z",
     "start_time": "2022-05-24T09:29:12.704635Z"
    }
   },
   "outputs": [
    {
     "data": {
      "text/html": [
       "<div>\n",
       "<style scoped>\n",
       "    .dataframe tbody tr th:only-of-type {\n",
       "        vertical-align: middle;\n",
       "    }\n",
       "\n",
       "    .dataframe tbody tr th {\n",
       "        vertical-align: top;\n",
       "    }\n",
       "\n",
       "    .dataframe thead th {\n",
       "        text-align: right;\n",
       "    }\n",
       "</style>\n",
       "<table border=\"1\" class=\"dataframe\">\n",
       "  <thead>\n",
       "    <tr style=\"text-align: right;\">\n",
       "      <th></th>\n",
       "      <th>system</th>\n",
       "      <th>inmate_tests</th>\n",
       "      <th>total_inmate_cases</th>\n",
       "      <th>total_inmate_deaths</th>\n",
       "      <th>latest_inmate_population</th>\n",
       "      <th>max_inmate_population_2020</th>\n",
       "      <th>total_officer_cases</th>\n",
       "      <th>total_officer_deaths</th>\n",
       "      <th>total_cases</th>\n",
       "      <th>total_deaths</th>\n",
       "      <th>case_fat_r_in</th>\n",
       "      <th>case_fat_r_of</th>\n",
       "    </tr>\n",
       "  </thead>\n",
       "  <tbody>\n",
       "    <tr>\n",
       "      <th>0</th>\n",
       "      <td>Alabama</td>\n",
       "      <td>15505.0</td>\n",
       "      <td>1601</td>\n",
       "      <td>64</td>\n",
       "      <td>19144.0</td>\n",
       "      <td>21900.0</td>\n",
       "      <td>1019.0</td>\n",
       "      <td>3.0</td>\n",
       "      <td>2620.0</td>\n",
       "      <td>67.0</td>\n",
       "      <td>3.997502</td>\n",
       "      <td>0.294406</td>\n",
       "    </tr>\n",
       "    <tr>\n",
       "      <th>1</th>\n",
       "      <td>Alaska</td>\n",
       "      <td>27756.0</td>\n",
       "      <td>2428</td>\n",
       "      <td>5</td>\n",
       "      <td>5011.0</td>\n",
       "      <td>5143.0</td>\n",
       "      <td>85.0</td>\n",
       "      <td>0.0</td>\n",
       "      <td>2513.0</td>\n",
       "      <td>5.0</td>\n",
       "      <td>0.205931</td>\n",
       "      <td>0.000000</td>\n",
       "    </tr>\n",
       "    <tr>\n",
       "      <th>2</th>\n",
       "      <td>Arizona</td>\n",
       "      <td>43652.0</td>\n",
       "      <td>12229</td>\n",
       "      <td>44</td>\n",
       "      <td>38248.0</td>\n",
       "      <td>41674.0</td>\n",
       "      <td>2739.0</td>\n",
       "      <td>0.0</td>\n",
       "      <td>14968.0</td>\n",
       "      <td>44.0</td>\n",
       "      <td>0.359800</td>\n",
       "      <td>0.000000</td>\n",
       "    </tr>\n",
       "    <tr>\n",
       "      <th>3</th>\n",
       "      <td>Arkansas</td>\n",
       "      <td>0.0</td>\n",
       "      <td>11378</td>\n",
       "      <td>52</td>\n",
       "      <td>14729.0</td>\n",
       "      <td>15886.0</td>\n",
       "      <td>424.0</td>\n",
       "      <td>5.0</td>\n",
       "      <td>11802.0</td>\n",
       "      <td>57.0</td>\n",
       "      <td>0.457022</td>\n",
       "      <td>1.179245</td>\n",
       "    </tr>\n",
       "    <tr>\n",
       "      <th>4</th>\n",
       "      <td>California</td>\n",
       "      <td>121207.0</td>\n",
       "      <td>49511</td>\n",
       "      <td>217</td>\n",
       "      <td>110471.0</td>\n",
       "      <td>117767.0</td>\n",
       "      <td>16090.0</td>\n",
       "      <td>26.0</td>\n",
       "      <td>65601.0</td>\n",
       "      <td>243.0</td>\n",
       "      <td>0.438286</td>\n",
       "      <td>0.161591</td>\n",
       "    </tr>\n",
       "  </tbody>\n",
       "</table>\n",
       "</div>"
      ],
      "text/plain": [
       "       system  inmate_tests  total_inmate_cases  total_inmate_deaths  \\\n",
       "0     Alabama       15505.0                1601                   64   \n",
       "1      Alaska       27756.0                2428                    5   \n",
       "2     Arizona       43652.0               12229                   44   \n",
       "3    Arkansas           0.0               11378                   52   \n",
       "4  California      121207.0               49511                  217   \n",
       "\n",
       "   latest_inmate_population  max_inmate_population_2020  total_officer_cases  \\\n",
       "0                   19144.0                     21900.0               1019.0   \n",
       "1                    5011.0                      5143.0                 85.0   \n",
       "2                   38248.0                     41674.0               2739.0   \n",
       "3                   14729.0                     15886.0                424.0   \n",
       "4                  110471.0                    117767.0              16090.0   \n",
       "\n",
       "   total_officer_deaths  total_cases  total_deaths  case_fat_r_in  \\\n",
       "0                   3.0       2620.0          67.0       3.997502   \n",
       "1                   0.0       2513.0           5.0       0.205931   \n",
       "2                   0.0      14968.0          44.0       0.359800   \n",
       "3                   5.0      11802.0          57.0       0.457022   \n",
       "4                  26.0      65601.0         243.0       0.438286   \n",
       "\n",
       "   case_fat_r_of  \n",
       "0       0.294406  \n",
       "1       0.000000  \n",
       "2       0.000000  \n",
       "3       1.179245  \n",
       "4       0.161591  "
      ]
     },
     "execution_count": 56,
     "metadata": {},
     "output_type": "execute_result"
    }
   ],
   "source": [
    "pri.head()"
   ]
  },
  {
   "cell_type": "code",
   "execution_count": null,
   "id": "100853cc",
   "metadata": {},
   "outputs": [],
   "source": []
  }
 ],
 "metadata": {
  "kernelspec": {
   "display_name": "Python 3 (ipykernel)",
   "language": "python",
   "name": "python3"
  },
  "language_info": {
   "codemirror_mode": {
    "name": "ipython",
    "version": 3
   },
   "file_extension": ".py",
   "mimetype": "text/x-python",
   "name": "python",
   "nbconvert_exporter": "python",
   "pygments_lexer": "ipython3",
   "version": "3.9.7"
  },
  "toc": {
   "base_numbering": 1,
   "nav_menu": {},
   "number_sections": true,
   "sideBar": true,
   "skip_h1_title": false,
   "title_cell": "Table of Contents",
   "title_sidebar": "Contents",
   "toc_cell": false,
   "toc_position": {},
   "toc_section_display": true,
   "toc_window_display": false
  },
  "varInspector": {
   "cols": {
    "lenName": 16,
    "lenType": 16,
    "lenVar": 40
   },
   "kernels_config": {
    "python": {
     "delete_cmd_postfix": "",
     "delete_cmd_prefix": "del ",
     "library": "var_list.py",
     "varRefreshCmd": "print(var_dic_list())"
    },
    "r": {
     "delete_cmd_postfix": ") ",
     "delete_cmd_prefix": "rm(",
     "library": "var_list.r",
     "varRefreshCmd": "cat(var_dic_list()) "
    }
   },
   "types_to_exclude": [
    "module",
    "function",
    "builtin_function_or_method",
    "instance",
    "_Feature"
   ],
   "window_display": false
  }
 },
 "nbformat": 4,
 "nbformat_minor": 5
}
