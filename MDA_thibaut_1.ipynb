{
 "cells": [
  {
   "cell_type": "code",
   "execution_count": 110,
   "id": "700c8211",
   "metadata": {
    "ExecuteTime": {
     "end_time": "2022-05-30T14:10:52.555641Z",
     "start_time": "2022-05-30T14:10:52.550090Z"
    }
   },
   "outputs": [],
   "source": [
    "import pandas as pd \n",
    "import seaborn as sns \n",
    "import matplotlib.pyplot as plt \n",
    "import plotly.express as px \n",
    "import datetime as dt \n",
    "import ipywidgets as widgets\n",
    "from IPython.display import display \n",
    "from IPython.display import Markdown as md\n",
    "import numpy as np\n",
    "import yfinance as yf"
   ]
  },
  {
   "cell_type": "code",
   "execution_count": 111,
   "id": "5a60fcb5",
   "metadata": {
    "ExecuteTime": {
     "end_time": "2022-05-30T14:10:54.076945Z",
     "start_time": "2022-05-30T14:10:52.970320Z"
    }
   },
   "outputs": [],
   "source": [
    "#load data \n",
    "dfusa = pd.read_csv('covid-19-data/us.csv')\n",
    "dfstates = pd.read_csv('covid-19-data/us-states.csv')\n",
    "dfcounties = pd.read_csv('covid-19-data/us-counties.csv')\n",
    "dfpop = pd.read_csv('pop_usa_states.csv')"
   ]
  },
  {
   "cell_type": "code",
   "execution_count": 112,
   "id": "64ded8d5",
   "metadata": {
    "ExecuteTime": {
     "end_time": "2022-05-30T14:10:54.159429Z",
     "start_time": "2022-05-30T14:10:54.153620Z"
    }
   },
   "outputs": [],
   "source": [
    "def preprocess(data,s):\n",
    "    data['date']=pd.to_datetime(data['date'])\n",
    "    #s is wheter it is data for state or for country s==1: state, s==2:county, s==0: country\n",
    "    #case for state\n",
    "    if s==1:\n",
    "        data.sort_values(['state','date'],inplace=True)\n",
    "        states = data['state'].unique()\n",
    "        data['daily_cases'] = np.zeros(data.shape[0])\n",
    "        data['daily_deaths'] = np.zeros(data.shape[0])\n",
    "        for s in states:\n",
    "            data['daily_cases'][data['state']==s] =data.cases[data['state']==s].diff()\n",
    "            data['daily_deaths'][data['state']==s] =data.deaths[data['state']==s].diff()\n",
    "        neg_cases = data[data['daily_cases']<0].index\n",
    "        data.drop(neg_cases, axis=0, inplace=True)\n",
    "        neg_cases = data[data['daily_deaths']<0].index\n",
    "        data.drop(neg_cases, axis=0, inplace=True) \n",
    "    #case for country \n",
    "    elif s==0:\n",
    "        data['daily_cases'] = data['cases'].diff()\n",
    "        data['daily_deaths'] = data['deaths'].diff()\n",
    "        neg_cases = data[data['daily_cases']<0].index\n",
    "        data.drop(neg_cases, axis=0, inplace=True)\n",
    "        neg_cases = data[data['daily_deaths']<0].index\n",
    "        data.drop(neg_cases, axis=0, inplace=True)\n",
    "        \n",
    "    else:\n",
    "        data.sort_values(['county','date'],inplace=True)\n",
    "        counties = data['county'].unique()\n",
    "        data['daily_cases'] = data[['county','cases']].groupby(by=[\"county\"]).diff()\n",
    "        data['daily_deaths'] = data[['county','deaths']].groupby(by=[\"county\"]).diff()\n",
    "        neg_cases = data[data['daily_cases']<0].index\n",
    "        data.drop(neg_cases, axis=0, inplace=True)\n",
    "        neg_cases = data[data['daily_deaths']<0].index\n",
    "        data.drop(neg_cases, axis=0, inplace=True) \n",
    "\n",
    "    \n",
    "    return data    \n",
    "    "
   ]
  },
  {
   "cell_type": "code",
   "execution_count": 113,
   "id": "2f663854",
   "metadata": {
    "ExecuteTime": {
     "end_time": "2022-05-30T14:10:58.224860Z",
     "start_time": "2022-05-30T14:10:54.731977Z"
    }
   },
   "outputs": [
    {
     "name": "stderr",
     "output_type": "stream",
     "text": [
      "/var/folders/07/cbtj5f0s2_v0hy9qt2t1zqgc0000gn/T/ipykernel_3755/1610212475.py:11: SettingWithCopyWarning:\n",
      "\n",
      "\n",
      "A value is trying to be set on a copy of a slice from a DataFrame\n",
      "\n",
      "See the caveats in the documentation: https://pandas.pydata.org/pandas-docs/stable/user_guide/indexing.html#returning-a-view-versus-a-copy\n",
      "\n",
      "/var/folders/07/cbtj5f0s2_v0hy9qt2t1zqgc0000gn/T/ipykernel_3755/1610212475.py:12: SettingWithCopyWarning:\n",
      "\n",
      "\n",
      "A value is trying to be set on a copy of a slice from a DataFrame\n",
      "\n",
      "See the caveats in the documentation: https://pandas.pydata.org/pandas-docs/stable/user_guide/indexing.html#returning-a-view-versus-a-copy\n",
      "\n"
     ]
    }
   ],
   "source": [
    "dfusa = preprocess(dfusa,0)\n",
    "dfstates= preprocess(dfstates,1)\n",
    "dfcounties = preprocess(dfcounties,2)"
   ]
  },
  {
   "cell_type": "code",
   "execution_count": 114,
   "id": "114da90d",
   "metadata": {
    "ExecuteTime": {
     "end_time": "2022-05-30T14:10:58.310555Z",
     "start_time": "2022-05-30T14:10:58.307272Z"
    }
   },
   "outputs": [],
   "source": [
    "#def to plot the data, if country=0 : plot for the whole country, country =1 plot for states if coountry =2,\n",
    "#plot for county\n",
    "\n",
    "def plot(y,data,state='Alabama',county='Autauga County',country=0):\n",
    "    if country ==0 :\n",
    "        title = '{} in the USA'.format(y)\n",
    "        ax = px.area(data, 'date', y, title =title )\n",
    "        ax.show()\n",
    "    elif country ==1:\n",
    "        title = '{} in {}'.format(y,state)\n",
    "        ax = px.area(data[data['state']==state], 'date',y,title = title)\n",
    "        ax.show()\n",
    "    else:\n",
    "        title = '{} in {}'.format(y,county)\n",
    "        ax = px.area(data[data['county']==county], 'date',y,title = title)\n",
    "        ax.show()\n",
    "        \n",
    "    "
   ]
  },
  {
   "cell_type": "markdown",
   "id": "950a6d1c",
   "metadata": {},
   "source": [
    "# Insight into covid-19"
   ]
  },
  {
   "cell_type": "code",
   "execution_count": 115,
   "id": "941bfe33",
   "metadata": {
    "ExecuteTime": {
     "end_time": "2022-05-30T14:10:58.537163Z",
     "start_time": "2022-05-30T14:10:58.389613Z"
    }
   },
   "outputs": [
    {
     "data": {
      "application/vnd.jupyter.widget-view+json": {
       "model_id": "e6e5aa15c4c44ce381082f4b4e910de3",
       "version_major": 2,
       "version_minor": 0
      },
      "text/plain": [
       "HBox(children=(Dropdown(options=('daily_cases', 'daily_deaths'), value='daily_cases'), Dropdown(options=('coun…"
      ]
     },
     "metadata": {},
     "output_type": "display_data"
    },
    {
     "data": {
      "application/vnd.jupyter.widget-view+json": {
       "model_id": "1c80f3f67e4247ca965471ca5664d48d",
       "version_major": 2,
       "version_minor": 0
      },
      "text/plain": [
       "Output()"
      ]
     },
     "metadata": {},
     "output_type": "display_data"
    }
   ],
   "source": [
    "dropdown_case = widgets.Dropdown(options=['daily_cases','daily_deaths'])\n",
    "dropdown_country = widgets.Dropdown(options=['country','state','county'])\n",
    "dropdown_state = widgets.Dropdown(options=dfstates['state'].unique())\n",
    "dropdown_county =  widgets.Dropdown(options=dfcounties['county'].unique())\n",
    "input_widgets = widgets.HBox([dropdown_case, dropdown_country])\n",
    "output = widgets.Output()\n",
    "def com_filter(case, country, state,county):\n",
    "    output.clear_output()\n",
    "    if country == 'country':\n",
    "        with output:\n",
    "            plot(case,dfusa,country=0)\n",
    "    elif country =='state':\n",
    "        with output:\n",
    "            display(dropdown_state)\n",
    "            plot(case,dfstates,state=state, country=1)\n",
    "    else:\n",
    "        with output:\n",
    "            display(dropdown_county)\n",
    "            plot(case,dfcounties,county=county, country=2)\n",
    "\n",
    "            \n",
    "\n",
    "    \n",
    "    \n",
    "        \n",
    "        \n",
    "def dropdown_case_eventhandler(change):\n",
    "    com_filter(change.new, dropdown_country.value,dropdown_state.value,dropdown_county.value)\n",
    "\n",
    "def dropdown_country_eventhandler(change):\n",
    "    com_filter(dropdown_case.value,change.new,dropdown_state.value,dropdown_county.value)    \n",
    "    \n",
    "def dropdown_state_eventhandler(change):\n",
    "    com_filter(dropdown_case.value,dropdown_country.value,change.new,dropdown_county.value)\n",
    "def dropdown_county_eventhandler(change):\n",
    "    com_filter(dropdown_case.value,dropdown_country.value,dropdown_state.value,change.new)\n",
    "\n",
    "\n",
    "dropdown_case.observe(dropdown_case_eventhandler, names='value')\n",
    "dropdown_country.observe(dropdown_country_eventhandler, names='value')\n",
    "dropdown_state.observe(dropdown_state_eventhandler, names='value')\n",
    "dropdown_county.observe(dropdown_county_eventhandler, names='value')\n",
    "display(input_widgets)\n",
    "display(output)\n",
    "#initial plot\n",
    "with output:\n",
    "    display(plot('daily_cases',dfusa,country=0))\n"
   ]
  },
  {
   "cell_type": "markdown",
   "id": "e218ff62",
   "metadata": {},
   "source": [
    "Case fatality ratio (CFR) is the proportion of individuals diagnosed with a disease who die from that disease and is therefore a measure of severity among detected cases"
   ]
  },
  {
   "cell_type": "code",
   "execution_count": 116,
   "id": "392cfa2a",
   "metadata": {
    "ExecuteTime": {
     "end_time": "2022-05-30T14:10:59.657108Z",
     "start_time": "2022-05-30T14:10:59.646125Z"
    },
    "scrolled": true
   },
   "outputs": [
    {
     "name": "stdout",
     "output_type": "stream",
     "text": [
      "0.05464940321851015 0.015918426836646907\n"
     ]
    }
   ],
   "source": [
    "#vaccination started mid december 2020 \n",
    "#let's take 15 june 2020 \n",
    "june15 = dfusa[dfusa['date']==dt.datetime.strptime('2020-06-15',\"%Y-%m-%d\")]\n",
    "#December 15 2021\n",
    "dec15 = dfusa[dfusa['date']==dt.datetime.strptime('2021-12-15',\"%Y-%m-%d\")]\n",
    "CFRjune15 = float((june15['deaths']/june15['cases']))\n",
    "CFRdec15 = float((dec15['deaths']/dec15['cases']))\n",
    "print(CFRjune15,CFRdec15)"
   ]
  },
  {
   "cell_type": "markdown",
   "id": "c48e11c4",
   "metadata": {},
   "source": [
    "## Cause-specific mortality ratio (CSR). This measure is the mortality rate from a specified cause (COVID-19 in our case) for a population.  per state per 1000 ppl"
   ]
  },
  {
   "cell_type": "code",
   "execution_count": 117,
   "id": "1949d371",
   "metadata": {
    "ExecuteTime": {
     "end_time": "2022-05-30T14:11:00.683067Z",
     "start_time": "2022-05-30T14:11:00.659091Z"
    }
   },
   "outputs": [
    {
     "data": {
      "text/html": [
       "<div>\n",
       "<style scoped>\n",
       "    .dataframe tbody tr th:only-of-type {\n",
       "        vertical-align: middle;\n",
       "    }\n",
       "\n",
       "    .dataframe tbody tr th {\n",
       "        vertical-align: top;\n",
       "    }\n",
       "\n",
       "    .dataframe thead th {\n",
       "        text-align: right;\n",
       "    }\n",
       "</style>\n",
       "<table border=\"1\" class=\"dataframe\">\n",
       "  <thead>\n",
       "    <tr style=\"text-align: right;\">\n",
       "      <th></th>\n",
       "      <th>rank</th>\n",
       "      <th>state</th>\n",
       "      <th>Pop</th>\n",
       "      <th>Growth</th>\n",
       "      <th>Pop2021</th>\n",
       "      <th>Pop2010</th>\n",
       "      <th>growthSince2010</th>\n",
       "      <th>Percent</th>\n",
       "      <th>density</th>\n",
       "    </tr>\n",
       "  </thead>\n",
       "  <tbody>\n",
       "    <tr>\n",
       "      <th>0</th>\n",
       "      <td>1</td>\n",
       "      <td>California</td>\n",
       "      <td>39664128</td>\n",
       "      <td>0.0013</td>\n",
       "      <td>39613493</td>\n",
       "      <td>37319502</td>\n",
       "      <td>0.0628</td>\n",
       "      <td>0.1180</td>\n",
       "      <td>254.6179</td>\n",
       "    </tr>\n",
       "    <tr>\n",
       "      <th>1</th>\n",
       "      <td>2</td>\n",
       "      <td>Texas</td>\n",
       "      <td>30097526</td>\n",
       "      <td>0.0124</td>\n",
       "      <td>29730311</td>\n",
       "      <td>25241971</td>\n",
       "      <td>0.1924</td>\n",
       "      <td>0.0896</td>\n",
       "      <td>115.2138</td>\n",
       "    </tr>\n",
       "    <tr>\n",
       "      <th>2</th>\n",
       "      <td>3</td>\n",
       "      <td>Florida</td>\n",
       "      <td>22177997</td>\n",
       "      <td>0.0106</td>\n",
       "      <td>21944577</td>\n",
       "      <td>18845537</td>\n",
       "      <td>0.1768</td>\n",
       "      <td>0.0660</td>\n",
       "      <td>413.5757</td>\n",
       "    </tr>\n",
       "    <tr>\n",
       "      <th>3</th>\n",
       "      <td>4</td>\n",
       "      <td>New York</td>\n",
       "      <td>19223191</td>\n",
       "      <td>-0.0040</td>\n",
       "      <td>19299981</td>\n",
       "      <td>19399878</td>\n",
       "      <td>-0.0091</td>\n",
       "      <td>0.0572</td>\n",
       "      <td>407.9105</td>\n",
       "    </tr>\n",
       "    <tr>\n",
       "      <th>4</th>\n",
       "      <td>5</td>\n",
       "      <td>Pennsylvania</td>\n",
       "      <td>12805190</td>\n",
       "      <td>0.0001</td>\n",
       "      <td>12804123</td>\n",
       "      <td>12711160</td>\n",
       "      <td>0.0074</td>\n",
       "      <td>0.0381</td>\n",
       "      <td>286.1943</td>\n",
       "    </tr>\n",
       "  </tbody>\n",
       "</table>\n",
       "</div>"
      ],
      "text/plain": [
       "   rank         state       Pop  Growth   Pop2021   Pop2010  growthSince2010  \\\n",
       "0     1    California  39664128  0.0013  39613493  37319502           0.0628   \n",
       "1     2         Texas  30097526  0.0124  29730311  25241971           0.1924   \n",
       "2     3       Florida  22177997  0.0106  21944577  18845537           0.1768   \n",
       "3     4      New York  19223191 -0.0040  19299981  19399878          -0.0091   \n",
       "4     5  Pennsylvania  12805190  0.0001  12804123  12711160           0.0074   \n",
       "\n",
       "   Percent   density  \n",
       "0   0.1180  254.6179  \n",
       "1   0.0896  115.2138  \n",
       "2   0.0660  413.5757  \n",
       "3   0.0572  407.9105  \n",
       "4   0.0381  286.1943  "
      ]
     },
     "execution_count": 117,
     "metadata": {},
     "output_type": "execute_result"
    }
   ],
   "source": [
    "dfpop.rename(columns={\"State\":\"state\"},inplace=True)\n",
    "dfpop.head()"
   ]
  },
  {
   "cell_type": "code",
   "execution_count": 118,
   "id": "3ea9b8bd",
   "metadata": {
    "ExecuteTime": {
     "end_time": "2022-05-30T14:11:01.316302Z",
     "start_time": "2022-05-30T14:11:01.289952Z"
    }
   },
   "outputs": [],
   "source": [
    "dfstates = pd.merge(dfstates, dfpop[['state','Pop']], how=\"left\", on=\"state\")"
   ]
  },
  {
   "cell_type": "code",
   "execution_count": 148,
   "id": "ecf9738a",
   "metadata": {
    "ExecuteTime": {
     "end_time": "2022-05-30T14:16:33.277468Z",
     "start_time": "2022-05-30T14:16:33.254265Z"
    }
   },
   "outputs": [
    {
     "data": {
      "text/html": [
       "<div>\n",
       "<style scoped>\n",
       "    .dataframe tbody tr th:only-of-type {\n",
       "        vertical-align: middle;\n",
       "    }\n",
       "\n",
       "    .dataframe tbody tr th {\n",
       "        vertical-align: top;\n",
       "    }\n",
       "\n",
       "    .dataframe thead th {\n",
       "        text-align: right;\n",
       "    }\n",
       "</style>\n",
       "<table border=\"1\" class=\"dataframe\">\n",
       "  <thead>\n",
       "    <tr style=\"text-align: right;\">\n",
       "      <th></th>\n",
       "      <th>date</th>\n",
       "      <th>state</th>\n",
       "      <th>fips</th>\n",
       "      <th>cases</th>\n",
       "      <th>deaths</th>\n",
       "      <th>daily_cases</th>\n",
       "      <th>daily_deaths</th>\n",
       "      <th>Pop</th>\n",
       "    </tr>\n",
       "  </thead>\n",
       "  <tbody>\n",
       "    <tr>\n",
       "      <th>0</th>\n",
       "      <td>2020-03-13</td>\n",
       "      <td>Alabama</td>\n",
       "      <td>1</td>\n",
       "      <td>6</td>\n",
       "      <td>0</td>\n",
       "      <td>NaN</td>\n",
       "      <td>NaN</td>\n",
       "      <td>4949697.0</td>\n",
       "    </tr>\n",
       "    <tr>\n",
       "      <th>1</th>\n",
       "      <td>2020-03-14</td>\n",
       "      <td>Alabama</td>\n",
       "      <td>1</td>\n",
       "      <td>12</td>\n",
       "      <td>0</td>\n",
       "      <td>6.0</td>\n",
       "      <td>0.0</td>\n",
       "      <td>4949697.0</td>\n",
       "    </tr>\n",
       "    <tr>\n",
       "      <th>2</th>\n",
       "      <td>2020-03-15</td>\n",
       "      <td>Alabama</td>\n",
       "      <td>1</td>\n",
       "      <td>23</td>\n",
       "      <td>0</td>\n",
       "      <td>11.0</td>\n",
       "      <td>0.0</td>\n",
       "      <td>4949697.0</td>\n",
       "    </tr>\n",
       "    <tr>\n",
       "      <th>3</th>\n",
       "      <td>2020-03-16</td>\n",
       "      <td>Alabama</td>\n",
       "      <td>1</td>\n",
       "      <td>29</td>\n",
       "      <td>0</td>\n",
       "      <td>6.0</td>\n",
       "      <td>0.0</td>\n",
       "      <td>4949697.0</td>\n",
       "    </tr>\n",
       "    <tr>\n",
       "      <th>4</th>\n",
       "      <td>2020-03-17</td>\n",
       "      <td>Alabama</td>\n",
       "      <td>1</td>\n",
       "      <td>39</td>\n",
       "      <td>0</td>\n",
       "      <td>10.0</td>\n",
       "      <td>0.0</td>\n",
       "      <td>4949697.0</td>\n",
       "    </tr>\n",
       "  </tbody>\n",
       "</table>\n",
       "</div>"
      ],
      "text/plain": [
       "        date    state  fips  cases  deaths  daily_cases  daily_deaths  \\\n",
       "0 2020-03-13  Alabama     1      6       0          NaN           NaN   \n",
       "1 2020-03-14  Alabama     1     12       0          6.0           0.0   \n",
       "2 2020-03-15  Alabama     1     23       0         11.0           0.0   \n",
       "3 2020-03-16  Alabama     1     29       0          6.0           0.0   \n",
       "4 2020-03-17  Alabama     1     39       0         10.0           0.0   \n",
       "\n",
       "         Pop  \n",
       "0  4949697.0  \n",
       "1  4949697.0  \n",
       "2  4949697.0  \n",
       "3  4949697.0  \n",
       "4  4949697.0  "
      ]
     },
     "execution_count": 148,
     "metadata": {},
     "output_type": "execute_result"
    }
   ],
   "source": [
    "dfstates.head()"
   ]
  },
  {
   "cell_type": "code",
   "execution_count": 220,
   "id": "315dc1da",
   "metadata": {
    "ExecuteTime": {
     "end_time": "2022-05-30T14:55:00.228692Z",
     "start_time": "2022-05-30T14:55:00.206147Z"
    }
   },
   "outputs": [],
   "source": [
    "#compute csr \n",
    "def comp_csr(data,date_end,state=True):\n",
    "    if state:\n",
    "        date = dt.datetime.strptime(date_end,\"%Y-%m-%d\")\n",
    "        csr={}\n",
    "        data = data.dropna()\n",
    "        states = data['state'].unique()\n",
    "        for s in states:\n",
    "            time = data[(data['date']==date)&(data['state']==s)]\n",
    "            rate = (time['deaths'].values[0]/time['Pop'].values[0])*1000\n",
    "            csr[s]=rate\n",
    "        title = 'Cause-specific mortality ratio per 1000 people per state on {}'.format(date_end)\n",
    "        ax = px.bar(x = csr.keys(), y=csr.values(), title=title)\n",
    "        ax.show()\n",
    "    else :\n",
    "        date = dt.datetime.strptime(date_end,\"%Y-%m-%d\")\n",
    "        pop = 329500000 #us population in 2020 \n",
    "        time = data[data['date']==date]\n",
    "        rate = (time['deaths'].values[0]/pop)*1000\n",
    "        return round(rate,3)\n",
    "    \n",
    "    \n",
    "    \n",
    "def comp_cfr(data,date_end,state=True):\n",
    "# mucfr = death(t)/infected(t) *100 \n",
    "    if state:\n",
    "        data = data.dropna()\n",
    "        states = data['state'].unique()\n",
    "        date = dt.datetime.strptime(date_end,\"%Y-%m-%d\")\n",
    "        cfr={}\n",
    "        for s in states:\n",
    "            time = data[(data['date']==date)&(data['state']==s)]\n",
    "            rate = (time['deaths'].values[0]/time['cases'].values[0])*100\n",
    "            cfr[s]=rate\n",
    "        title = 'Case to fatality ratio in percent per state on {}'.format(date_end)\n",
    "        ax = px.bar(x = cfr.keys(), y=cfr.values(), title=title)\n",
    "        ax.show()\n",
    "    else:\n",
    "        date = dt.datetime.strptime(date_end,\"%Y-%m-%d\")\n",
    "        time = data[data['date']==date]\n",
    "        rate = (time['deaths'].values[0]/time['cases'].values[0])*100\n",
    "        return round(rate,3) "
   ]
  },
  {
   "cell_type": "code",
   "execution_count": 221,
   "id": "6b228877",
   "metadata": {
    "ExecuteTime": {
     "end_time": "2022-05-30T14:55:01.103077Z",
     "start_time": "2022-05-30T14:55:00.741959Z"
    }
   },
   "outputs": [
    {
     "name": "stdout",
     "output_type": "stream",
     "text": [
      "Cause-specific mortality ratio per 1000 people in the US on 2020-12-15: 0.923 Per 1000 people\n"
     ]
    },
    {
     "data": {
      "application/vnd.plotly.v1+json": {
       "config": {
        "plotlyServerURL": "https://plot.ly"
       },
       "data": [
        {
         "alignmentgroup": "True",
         "hovertemplate": "x=%{x}<br>y=%{y}<extra></extra>",
         "legendgroup": "",
         "marker": {
          "color": "#636efa",
          "pattern": {
           "shape": ""
          }
         },
         "name": "",
         "offsetgroup": "",
         "orientation": "v",
         "showlegend": false,
         "textposition": "auto",
         "type": "bar",
         "x": [
          "Alabama",
          "Alaska",
          "Arizona",
          "Arkansas",
          "California",
          "Colorado",
          "Connecticut",
          "Delaware",
          "District of Columbia",
          "Florida",
          "Georgia",
          "Hawaii",
          "Idaho",
          "Illinois",
          "Indiana",
          "Iowa",
          "Kansas",
          "Kentucky",
          "Louisiana",
          "Maine",
          "Maryland",
          "Massachusetts",
          "Michigan",
          "Minnesota",
          "Mississippi",
          "Missouri",
          "Montana",
          "Nebraska",
          "Nevada",
          "New Hampshire",
          "New Jersey",
          "New Mexico",
          "New York",
          "North Carolina",
          "North Dakota",
          "Ohio",
          "Oklahoma",
          "Oregon",
          "Pennsylvania",
          "Puerto Rico",
          "Rhode Island",
          "South Carolina",
          "South Dakota",
          "Tennessee",
          "Texas",
          "Utah",
          "Vermont",
          "Virginia",
          "Washington",
          "West Virginia",
          "Wisconsin",
          "Wyoming"
         ],
         "xaxis": "x",
         "y": [
          0.8331823139881087,
          0.2386360010155904,
          0.9721500220657638,
          0.9914474508196371,
          0.5416228991596639,
          0.6929948802927254,
          1.541199598036197,
          0.8271422834935045,
          1.002289954131314,
          0.9054469616891011,
          0.9012189589915198,
          0.19404883609936155,
          0.6427114726370468,
          1.2454794352899898,
          1.018358364809931,
          1.051213668234824,
          0.7224634049505015,
          0.5569133584104057,
          1.4936832039818844,
          0.19489922974353466,
          0.8569104411722588,
          1.6531093784016917,
          1.1493503089279147,
          0.7913193900603525,
          1.4357414530838053,
          0.8017988492189697,
          0.7556373197013678,
          0.7466378347502792,
          0.805594761441746,
          0.43817362847664293,
          2.014726032995197,
          0.9511197467347339,
          1.8428261988345223,
          0.5483233805144968,
          1.5193641409391119,
          0.6526608635503063,
          0.5205657146835716,
          0.280443623433342,
          1.0097468292153415,
          0.405044082193273,
          1.4775316375285508,
          0.890238597421228,
          1.3971648964812717,
          0.7936527205921103,
          0.8238550902821713,
          0.3205297839962274,
          0.16054405168234112,
          0.5174678388528745,
          0.39591960664125664,
          0.5764033456455062,
          0.7519363383290857,
          0.5633483502309212
         ],
         "yaxis": "y"
        }
       ],
       "layout": {
        "barmode": "relative",
        "legend": {
         "tracegroupgap": 0
        },
        "template": {
         "data": {
          "bar": [
           {
            "error_x": {
             "color": "#2a3f5f"
            },
            "error_y": {
             "color": "#2a3f5f"
            },
            "marker": {
             "line": {
              "color": "#E5ECF6",
              "width": 0.5
             },
             "pattern": {
              "fillmode": "overlay",
              "size": 10,
              "solidity": 0.2
             }
            },
            "type": "bar"
           }
          ],
          "barpolar": [
           {
            "marker": {
             "line": {
              "color": "#E5ECF6",
              "width": 0.5
             },
             "pattern": {
              "fillmode": "overlay",
              "size": 10,
              "solidity": 0.2
             }
            },
            "type": "barpolar"
           }
          ],
          "carpet": [
           {
            "aaxis": {
             "endlinecolor": "#2a3f5f",
             "gridcolor": "white",
             "linecolor": "white",
             "minorgridcolor": "white",
             "startlinecolor": "#2a3f5f"
            },
            "baxis": {
             "endlinecolor": "#2a3f5f",
             "gridcolor": "white",
             "linecolor": "white",
             "minorgridcolor": "white",
             "startlinecolor": "#2a3f5f"
            },
            "type": "carpet"
           }
          ],
          "choropleth": [
           {
            "colorbar": {
             "outlinewidth": 0,
             "ticks": ""
            },
            "type": "choropleth"
           }
          ],
          "contour": [
           {
            "colorbar": {
             "outlinewidth": 0,
             "ticks": ""
            },
            "colorscale": [
             [
              0,
              "#0d0887"
             ],
             [
              0.1111111111111111,
              "#46039f"
             ],
             [
              0.2222222222222222,
              "#7201a8"
             ],
             [
              0.3333333333333333,
              "#9c179e"
             ],
             [
              0.4444444444444444,
              "#bd3786"
             ],
             [
              0.5555555555555556,
              "#d8576b"
             ],
             [
              0.6666666666666666,
              "#ed7953"
             ],
             [
              0.7777777777777778,
              "#fb9f3a"
             ],
             [
              0.8888888888888888,
              "#fdca26"
             ],
             [
              1,
              "#f0f921"
             ]
            ],
            "type": "contour"
           }
          ],
          "contourcarpet": [
           {
            "colorbar": {
             "outlinewidth": 0,
             "ticks": ""
            },
            "type": "contourcarpet"
           }
          ],
          "heatmap": [
           {
            "colorbar": {
             "outlinewidth": 0,
             "ticks": ""
            },
            "colorscale": [
             [
              0,
              "#0d0887"
             ],
             [
              0.1111111111111111,
              "#46039f"
             ],
             [
              0.2222222222222222,
              "#7201a8"
             ],
             [
              0.3333333333333333,
              "#9c179e"
             ],
             [
              0.4444444444444444,
              "#bd3786"
             ],
             [
              0.5555555555555556,
              "#d8576b"
             ],
             [
              0.6666666666666666,
              "#ed7953"
             ],
             [
              0.7777777777777778,
              "#fb9f3a"
             ],
             [
              0.8888888888888888,
              "#fdca26"
             ],
             [
              1,
              "#f0f921"
             ]
            ],
            "type": "heatmap"
           }
          ],
          "heatmapgl": [
           {
            "colorbar": {
             "outlinewidth": 0,
             "ticks": ""
            },
            "colorscale": [
             [
              0,
              "#0d0887"
             ],
             [
              0.1111111111111111,
              "#46039f"
             ],
             [
              0.2222222222222222,
              "#7201a8"
             ],
             [
              0.3333333333333333,
              "#9c179e"
             ],
             [
              0.4444444444444444,
              "#bd3786"
             ],
             [
              0.5555555555555556,
              "#d8576b"
             ],
             [
              0.6666666666666666,
              "#ed7953"
             ],
             [
              0.7777777777777778,
              "#fb9f3a"
             ],
             [
              0.8888888888888888,
              "#fdca26"
             ],
             [
              1,
              "#f0f921"
             ]
            ],
            "type": "heatmapgl"
           }
          ],
          "histogram": [
           {
            "marker": {
             "pattern": {
              "fillmode": "overlay",
              "size": 10,
              "solidity": 0.2
             }
            },
            "type": "histogram"
           }
          ],
          "histogram2d": [
           {
            "colorbar": {
             "outlinewidth": 0,
             "ticks": ""
            },
            "colorscale": [
             [
              0,
              "#0d0887"
             ],
             [
              0.1111111111111111,
              "#46039f"
             ],
             [
              0.2222222222222222,
              "#7201a8"
             ],
             [
              0.3333333333333333,
              "#9c179e"
             ],
             [
              0.4444444444444444,
              "#bd3786"
             ],
             [
              0.5555555555555556,
              "#d8576b"
             ],
             [
              0.6666666666666666,
              "#ed7953"
             ],
             [
              0.7777777777777778,
              "#fb9f3a"
             ],
             [
              0.8888888888888888,
              "#fdca26"
             ],
             [
              1,
              "#f0f921"
             ]
            ],
            "type": "histogram2d"
           }
          ],
          "histogram2dcontour": [
           {
            "colorbar": {
             "outlinewidth": 0,
             "ticks": ""
            },
            "colorscale": [
             [
              0,
              "#0d0887"
             ],
             [
              0.1111111111111111,
              "#46039f"
             ],
             [
              0.2222222222222222,
              "#7201a8"
             ],
             [
              0.3333333333333333,
              "#9c179e"
             ],
             [
              0.4444444444444444,
              "#bd3786"
             ],
             [
              0.5555555555555556,
              "#d8576b"
             ],
             [
              0.6666666666666666,
              "#ed7953"
             ],
             [
              0.7777777777777778,
              "#fb9f3a"
             ],
             [
              0.8888888888888888,
              "#fdca26"
             ],
             [
              1,
              "#f0f921"
             ]
            ],
            "type": "histogram2dcontour"
           }
          ],
          "mesh3d": [
           {
            "colorbar": {
             "outlinewidth": 0,
             "ticks": ""
            },
            "type": "mesh3d"
           }
          ],
          "parcoords": [
           {
            "line": {
             "colorbar": {
              "outlinewidth": 0,
              "ticks": ""
             }
            },
            "type": "parcoords"
           }
          ],
          "pie": [
           {
            "automargin": true,
            "type": "pie"
           }
          ],
          "scatter": [
           {
            "fillpattern": {
             "fillmode": "overlay",
             "size": 10,
             "solidity": 0.2
            },
            "type": "scatter"
           }
          ],
          "scatter3d": [
           {
            "line": {
             "colorbar": {
              "outlinewidth": 0,
              "ticks": ""
             }
            },
            "marker": {
             "colorbar": {
              "outlinewidth": 0,
              "ticks": ""
             }
            },
            "type": "scatter3d"
           }
          ],
          "scattercarpet": [
           {
            "marker": {
             "colorbar": {
              "outlinewidth": 0,
              "ticks": ""
             }
            },
            "type": "scattercarpet"
           }
          ],
          "scattergeo": [
           {
            "marker": {
             "colorbar": {
              "outlinewidth": 0,
              "ticks": ""
             }
            },
            "type": "scattergeo"
           }
          ],
          "scattergl": [
           {
            "marker": {
             "colorbar": {
              "outlinewidth": 0,
              "ticks": ""
             }
            },
            "type": "scattergl"
           }
          ],
          "scattermapbox": [
           {
            "marker": {
             "colorbar": {
              "outlinewidth": 0,
              "ticks": ""
             }
            },
            "type": "scattermapbox"
           }
          ],
          "scatterpolar": [
           {
            "marker": {
             "colorbar": {
              "outlinewidth": 0,
              "ticks": ""
             }
            },
            "type": "scatterpolar"
           }
          ],
          "scatterpolargl": [
           {
            "marker": {
             "colorbar": {
              "outlinewidth": 0,
              "ticks": ""
             }
            },
            "type": "scatterpolargl"
           }
          ],
          "scatterternary": [
           {
            "marker": {
             "colorbar": {
              "outlinewidth": 0,
              "ticks": ""
             }
            },
            "type": "scatterternary"
           }
          ],
          "surface": [
           {
            "colorbar": {
             "outlinewidth": 0,
             "ticks": ""
            },
            "colorscale": [
             [
              0,
              "#0d0887"
             ],
             [
              0.1111111111111111,
              "#46039f"
             ],
             [
              0.2222222222222222,
              "#7201a8"
             ],
             [
              0.3333333333333333,
              "#9c179e"
             ],
             [
              0.4444444444444444,
              "#bd3786"
             ],
             [
              0.5555555555555556,
              "#d8576b"
             ],
             [
              0.6666666666666666,
              "#ed7953"
             ],
             [
              0.7777777777777778,
              "#fb9f3a"
             ],
             [
              0.8888888888888888,
              "#fdca26"
             ],
             [
              1,
              "#f0f921"
             ]
            ],
            "type": "surface"
           }
          ],
          "table": [
           {
            "cells": {
             "fill": {
              "color": "#EBF0F8"
             },
             "line": {
              "color": "white"
             }
            },
            "header": {
             "fill": {
              "color": "#C8D4E3"
             },
             "line": {
              "color": "white"
             }
            },
            "type": "table"
           }
          ]
         },
         "layout": {
          "annotationdefaults": {
           "arrowcolor": "#2a3f5f",
           "arrowhead": 0,
           "arrowwidth": 1
          },
          "autotypenumbers": "strict",
          "coloraxis": {
           "colorbar": {
            "outlinewidth": 0,
            "ticks": ""
           }
          },
          "colorscale": {
           "diverging": [
            [
             0,
             "#8e0152"
            ],
            [
             0.1,
             "#c51b7d"
            ],
            [
             0.2,
             "#de77ae"
            ],
            [
             0.3,
             "#f1b6da"
            ],
            [
             0.4,
             "#fde0ef"
            ],
            [
             0.5,
             "#f7f7f7"
            ],
            [
             0.6,
             "#e6f5d0"
            ],
            [
             0.7,
             "#b8e186"
            ],
            [
             0.8,
             "#7fbc41"
            ],
            [
             0.9,
             "#4d9221"
            ],
            [
             1,
             "#276419"
            ]
           ],
           "sequential": [
            [
             0,
             "#0d0887"
            ],
            [
             0.1111111111111111,
             "#46039f"
            ],
            [
             0.2222222222222222,
             "#7201a8"
            ],
            [
             0.3333333333333333,
             "#9c179e"
            ],
            [
             0.4444444444444444,
             "#bd3786"
            ],
            [
             0.5555555555555556,
             "#d8576b"
            ],
            [
             0.6666666666666666,
             "#ed7953"
            ],
            [
             0.7777777777777778,
             "#fb9f3a"
            ],
            [
             0.8888888888888888,
             "#fdca26"
            ],
            [
             1,
             "#f0f921"
            ]
           ],
           "sequentialminus": [
            [
             0,
             "#0d0887"
            ],
            [
             0.1111111111111111,
             "#46039f"
            ],
            [
             0.2222222222222222,
             "#7201a8"
            ],
            [
             0.3333333333333333,
             "#9c179e"
            ],
            [
             0.4444444444444444,
             "#bd3786"
            ],
            [
             0.5555555555555556,
             "#d8576b"
            ],
            [
             0.6666666666666666,
             "#ed7953"
            ],
            [
             0.7777777777777778,
             "#fb9f3a"
            ],
            [
             0.8888888888888888,
             "#fdca26"
            ],
            [
             1,
             "#f0f921"
            ]
           ]
          },
          "colorway": [
           "#636efa",
           "#EF553B",
           "#00cc96",
           "#ab63fa",
           "#FFA15A",
           "#19d3f3",
           "#FF6692",
           "#B6E880",
           "#FF97FF",
           "#FECB52"
          ],
          "font": {
           "color": "#2a3f5f"
          },
          "geo": {
           "bgcolor": "white",
           "lakecolor": "white",
           "landcolor": "#E5ECF6",
           "showlakes": true,
           "showland": true,
           "subunitcolor": "white"
          },
          "hoverlabel": {
           "align": "left"
          },
          "hovermode": "closest",
          "mapbox": {
           "style": "light"
          },
          "paper_bgcolor": "white",
          "plot_bgcolor": "#E5ECF6",
          "polar": {
           "angularaxis": {
            "gridcolor": "white",
            "linecolor": "white",
            "ticks": ""
           },
           "bgcolor": "#E5ECF6",
           "radialaxis": {
            "gridcolor": "white",
            "linecolor": "white",
            "ticks": ""
           }
          },
          "scene": {
           "xaxis": {
            "backgroundcolor": "#E5ECF6",
            "gridcolor": "white",
            "gridwidth": 2,
            "linecolor": "white",
            "showbackground": true,
            "ticks": "",
            "zerolinecolor": "white"
           },
           "yaxis": {
            "backgroundcolor": "#E5ECF6",
            "gridcolor": "white",
            "gridwidth": 2,
            "linecolor": "white",
            "showbackground": true,
            "ticks": "",
            "zerolinecolor": "white"
           },
           "zaxis": {
            "backgroundcolor": "#E5ECF6",
            "gridcolor": "white",
            "gridwidth": 2,
            "linecolor": "white",
            "showbackground": true,
            "ticks": "",
            "zerolinecolor": "white"
           }
          },
          "shapedefaults": {
           "line": {
            "color": "#2a3f5f"
           }
          },
          "ternary": {
           "aaxis": {
            "gridcolor": "white",
            "linecolor": "white",
            "ticks": ""
           },
           "baxis": {
            "gridcolor": "white",
            "linecolor": "white",
            "ticks": ""
           },
           "bgcolor": "#E5ECF6",
           "caxis": {
            "gridcolor": "white",
            "linecolor": "white",
            "ticks": ""
           }
          },
          "title": {
           "x": 0.05
          },
          "xaxis": {
           "automargin": true,
           "gridcolor": "white",
           "linecolor": "white",
           "ticks": "",
           "title": {
            "standoff": 15
           },
           "zerolinecolor": "white",
           "zerolinewidth": 2
          },
          "yaxis": {
           "automargin": true,
           "gridcolor": "white",
           "linecolor": "white",
           "ticks": "",
           "title": {
            "standoff": 15
           },
           "zerolinecolor": "white",
           "zerolinewidth": 2
          }
         }
        },
        "title": {
         "text": "Cause-specific mortality ratio per 1000 people per state on 2020-12-15"
        },
        "xaxis": {
         "anchor": "y",
         "domain": [
          0,
          1
         ],
         "title": {
          "text": "x"
         }
        },
        "yaxis": {
         "anchor": "x",
         "domain": [
          0,
          1
         ],
         "title": {
          "text": "y"
         }
        }
       }
      },
      "text/html": [
       "<div>                            <div id=\"33f4c6de-c3d3-46c2-90e7-b1cb73ea68e8\" class=\"plotly-graph-div\" style=\"height:525px; width:100%;\"></div>            <script type=\"text/javascript\">                require([\"plotly\"], function(Plotly) {                    window.PLOTLYENV=window.PLOTLYENV || {};                                    if (document.getElementById(\"33f4c6de-c3d3-46c2-90e7-b1cb73ea68e8\")) {                    Plotly.newPlot(                        \"33f4c6de-c3d3-46c2-90e7-b1cb73ea68e8\",                        [{\"alignmentgroup\":\"True\",\"hovertemplate\":\"x=%{x}<br>y=%{y}<extra></extra>\",\"legendgroup\":\"\",\"marker\":{\"color\":\"#636efa\",\"pattern\":{\"shape\":\"\"}},\"name\":\"\",\"offsetgroup\":\"\",\"orientation\":\"v\",\"showlegend\":false,\"textposition\":\"auto\",\"x\":[\"Alabama\",\"Alaska\",\"Arizona\",\"Arkansas\",\"California\",\"Colorado\",\"Connecticut\",\"Delaware\",\"District of Columbia\",\"Florida\",\"Georgia\",\"Hawaii\",\"Idaho\",\"Illinois\",\"Indiana\",\"Iowa\",\"Kansas\",\"Kentucky\",\"Louisiana\",\"Maine\",\"Maryland\",\"Massachusetts\",\"Michigan\",\"Minnesota\",\"Mississippi\",\"Missouri\",\"Montana\",\"Nebraska\",\"Nevada\",\"New Hampshire\",\"New Jersey\",\"New Mexico\",\"New York\",\"North Carolina\",\"North Dakota\",\"Ohio\",\"Oklahoma\",\"Oregon\",\"Pennsylvania\",\"Puerto Rico\",\"Rhode Island\",\"South Carolina\",\"South Dakota\",\"Tennessee\",\"Texas\",\"Utah\",\"Vermont\",\"Virginia\",\"Washington\",\"West Virginia\",\"Wisconsin\",\"Wyoming\"],\"xaxis\":\"x\",\"y\":[0.8331823139881087,0.2386360010155904,0.9721500220657638,0.9914474508196371,0.5416228991596639,0.6929948802927254,1.541199598036197,0.8271422834935045,1.002289954131314,0.9054469616891011,0.9012189589915198,0.19404883609936155,0.6427114726370468,1.2454794352899898,1.018358364809931,1.051213668234824,0.7224634049505015,0.5569133584104057,1.4936832039818844,0.19489922974353466,0.8569104411722588,1.6531093784016917,1.1493503089279147,0.7913193900603525,1.4357414530838053,0.8017988492189697,0.7556373197013678,0.7466378347502792,0.805594761441746,0.43817362847664293,2.014726032995197,0.9511197467347339,1.8428261988345223,0.5483233805144968,1.5193641409391119,0.6526608635503063,0.5205657146835716,0.280443623433342,1.0097468292153415,0.405044082193273,1.4775316375285508,0.890238597421228,1.3971648964812717,0.7936527205921103,0.8238550902821713,0.3205297839962274,0.16054405168234112,0.5174678388528745,0.39591960664125664,0.5764033456455062,0.7519363383290857,0.5633483502309212],\"yaxis\":\"y\",\"type\":\"bar\"}],                        {\"template\":{\"data\":{\"histogram2dcontour\":[{\"type\":\"histogram2dcontour\",\"colorbar\":{\"outlinewidth\":0,\"ticks\":\"\"},\"colorscale\":[[0.0,\"#0d0887\"],[0.1111111111111111,\"#46039f\"],[0.2222222222222222,\"#7201a8\"],[0.3333333333333333,\"#9c179e\"],[0.4444444444444444,\"#bd3786\"],[0.5555555555555556,\"#d8576b\"],[0.6666666666666666,\"#ed7953\"],[0.7777777777777778,\"#fb9f3a\"],[0.8888888888888888,\"#fdca26\"],[1.0,\"#f0f921\"]]}],\"choropleth\":[{\"type\":\"choropleth\",\"colorbar\":{\"outlinewidth\":0,\"ticks\":\"\"}}],\"histogram2d\":[{\"type\":\"histogram2d\",\"colorbar\":{\"outlinewidth\":0,\"ticks\":\"\"},\"colorscale\":[[0.0,\"#0d0887\"],[0.1111111111111111,\"#46039f\"],[0.2222222222222222,\"#7201a8\"],[0.3333333333333333,\"#9c179e\"],[0.4444444444444444,\"#bd3786\"],[0.5555555555555556,\"#d8576b\"],[0.6666666666666666,\"#ed7953\"],[0.7777777777777778,\"#fb9f3a\"],[0.8888888888888888,\"#fdca26\"],[1.0,\"#f0f921\"]]}],\"heatmap\":[{\"type\":\"heatmap\",\"colorbar\":{\"outlinewidth\":0,\"ticks\":\"\"},\"colorscale\":[[0.0,\"#0d0887\"],[0.1111111111111111,\"#46039f\"],[0.2222222222222222,\"#7201a8\"],[0.3333333333333333,\"#9c179e\"],[0.4444444444444444,\"#bd3786\"],[0.5555555555555556,\"#d8576b\"],[0.6666666666666666,\"#ed7953\"],[0.7777777777777778,\"#fb9f3a\"],[0.8888888888888888,\"#fdca26\"],[1.0,\"#f0f921\"]]}],\"heatmapgl\":[{\"type\":\"heatmapgl\",\"colorbar\":{\"outlinewidth\":0,\"ticks\":\"\"},\"colorscale\":[[0.0,\"#0d0887\"],[0.1111111111111111,\"#46039f\"],[0.2222222222222222,\"#7201a8\"],[0.3333333333333333,\"#9c179e\"],[0.4444444444444444,\"#bd3786\"],[0.5555555555555556,\"#d8576b\"],[0.6666666666666666,\"#ed7953\"],[0.7777777777777778,\"#fb9f3a\"],[0.8888888888888888,\"#fdca26\"],[1.0,\"#f0f921\"]]}],\"contourcarpet\":[{\"type\":\"contourcarpet\",\"colorbar\":{\"outlinewidth\":0,\"ticks\":\"\"}}],\"contour\":[{\"type\":\"contour\",\"colorbar\":{\"outlinewidth\":0,\"ticks\":\"\"},\"colorscale\":[[0.0,\"#0d0887\"],[0.1111111111111111,\"#46039f\"],[0.2222222222222222,\"#7201a8\"],[0.3333333333333333,\"#9c179e\"],[0.4444444444444444,\"#bd3786\"],[0.5555555555555556,\"#d8576b\"],[0.6666666666666666,\"#ed7953\"],[0.7777777777777778,\"#fb9f3a\"],[0.8888888888888888,\"#fdca26\"],[1.0,\"#f0f921\"]]}],\"surface\":[{\"type\":\"surface\",\"colorbar\":{\"outlinewidth\":0,\"ticks\":\"\"},\"colorscale\":[[0.0,\"#0d0887\"],[0.1111111111111111,\"#46039f\"],[0.2222222222222222,\"#7201a8\"],[0.3333333333333333,\"#9c179e\"],[0.4444444444444444,\"#bd3786\"],[0.5555555555555556,\"#d8576b\"],[0.6666666666666666,\"#ed7953\"],[0.7777777777777778,\"#fb9f3a\"],[0.8888888888888888,\"#fdca26\"],[1.0,\"#f0f921\"]]}],\"mesh3d\":[{\"type\":\"mesh3d\",\"colorbar\":{\"outlinewidth\":0,\"ticks\":\"\"}}],\"scatter\":[{\"fillpattern\":{\"fillmode\":\"overlay\",\"size\":10,\"solidity\":0.2},\"type\":\"scatter\"}],\"parcoords\":[{\"type\":\"parcoords\",\"line\":{\"colorbar\":{\"outlinewidth\":0,\"ticks\":\"\"}}}],\"scatterpolargl\":[{\"type\":\"scatterpolargl\",\"marker\":{\"colorbar\":{\"outlinewidth\":0,\"ticks\":\"\"}}}],\"bar\":[{\"error_x\":{\"color\":\"#2a3f5f\"},\"error_y\":{\"color\":\"#2a3f5f\"},\"marker\":{\"line\":{\"color\":\"#E5ECF6\",\"width\":0.5},\"pattern\":{\"fillmode\":\"overlay\",\"size\":10,\"solidity\":0.2}},\"type\":\"bar\"}],\"scattergeo\":[{\"type\":\"scattergeo\",\"marker\":{\"colorbar\":{\"outlinewidth\":0,\"ticks\":\"\"}}}],\"scatterpolar\":[{\"type\":\"scatterpolar\",\"marker\":{\"colorbar\":{\"outlinewidth\":0,\"ticks\":\"\"}}}],\"histogram\":[{\"marker\":{\"pattern\":{\"fillmode\":\"overlay\",\"size\":10,\"solidity\":0.2}},\"type\":\"histogram\"}],\"scattergl\":[{\"type\":\"scattergl\",\"marker\":{\"colorbar\":{\"outlinewidth\":0,\"ticks\":\"\"}}}],\"scatter3d\":[{\"type\":\"scatter3d\",\"line\":{\"colorbar\":{\"outlinewidth\":0,\"ticks\":\"\"}},\"marker\":{\"colorbar\":{\"outlinewidth\":0,\"ticks\":\"\"}}}],\"scattermapbox\":[{\"type\":\"scattermapbox\",\"marker\":{\"colorbar\":{\"outlinewidth\":0,\"ticks\":\"\"}}}],\"scatterternary\":[{\"type\":\"scatterternary\",\"marker\":{\"colorbar\":{\"outlinewidth\":0,\"ticks\":\"\"}}}],\"scattercarpet\":[{\"type\":\"scattercarpet\",\"marker\":{\"colorbar\":{\"outlinewidth\":0,\"ticks\":\"\"}}}],\"carpet\":[{\"aaxis\":{\"endlinecolor\":\"#2a3f5f\",\"gridcolor\":\"white\",\"linecolor\":\"white\",\"minorgridcolor\":\"white\",\"startlinecolor\":\"#2a3f5f\"},\"baxis\":{\"endlinecolor\":\"#2a3f5f\",\"gridcolor\":\"white\",\"linecolor\":\"white\",\"minorgridcolor\":\"white\",\"startlinecolor\":\"#2a3f5f\"},\"type\":\"carpet\"}],\"table\":[{\"cells\":{\"fill\":{\"color\":\"#EBF0F8\"},\"line\":{\"color\":\"white\"}},\"header\":{\"fill\":{\"color\":\"#C8D4E3\"},\"line\":{\"color\":\"white\"}},\"type\":\"table\"}],\"barpolar\":[{\"marker\":{\"line\":{\"color\":\"#E5ECF6\",\"width\":0.5},\"pattern\":{\"fillmode\":\"overlay\",\"size\":10,\"solidity\":0.2}},\"type\":\"barpolar\"}],\"pie\":[{\"automargin\":true,\"type\":\"pie\"}]},\"layout\":{\"autotypenumbers\":\"strict\",\"colorway\":[\"#636efa\",\"#EF553B\",\"#00cc96\",\"#ab63fa\",\"#FFA15A\",\"#19d3f3\",\"#FF6692\",\"#B6E880\",\"#FF97FF\",\"#FECB52\"],\"font\":{\"color\":\"#2a3f5f\"},\"hovermode\":\"closest\",\"hoverlabel\":{\"align\":\"left\"},\"paper_bgcolor\":\"white\",\"plot_bgcolor\":\"#E5ECF6\",\"polar\":{\"bgcolor\":\"#E5ECF6\",\"angularaxis\":{\"gridcolor\":\"white\",\"linecolor\":\"white\",\"ticks\":\"\"},\"radialaxis\":{\"gridcolor\":\"white\",\"linecolor\":\"white\",\"ticks\":\"\"}},\"ternary\":{\"bgcolor\":\"#E5ECF6\",\"aaxis\":{\"gridcolor\":\"white\",\"linecolor\":\"white\",\"ticks\":\"\"},\"baxis\":{\"gridcolor\":\"white\",\"linecolor\":\"white\",\"ticks\":\"\"},\"caxis\":{\"gridcolor\":\"white\",\"linecolor\":\"white\",\"ticks\":\"\"}},\"coloraxis\":{\"colorbar\":{\"outlinewidth\":0,\"ticks\":\"\"}},\"colorscale\":{\"sequential\":[[0.0,\"#0d0887\"],[0.1111111111111111,\"#46039f\"],[0.2222222222222222,\"#7201a8\"],[0.3333333333333333,\"#9c179e\"],[0.4444444444444444,\"#bd3786\"],[0.5555555555555556,\"#d8576b\"],[0.6666666666666666,\"#ed7953\"],[0.7777777777777778,\"#fb9f3a\"],[0.8888888888888888,\"#fdca26\"],[1.0,\"#f0f921\"]],\"sequentialminus\":[[0.0,\"#0d0887\"],[0.1111111111111111,\"#46039f\"],[0.2222222222222222,\"#7201a8\"],[0.3333333333333333,\"#9c179e\"],[0.4444444444444444,\"#bd3786\"],[0.5555555555555556,\"#d8576b\"],[0.6666666666666666,\"#ed7953\"],[0.7777777777777778,\"#fb9f3a\"],[0.8888888888888888,\"#fdca26\"],[1.0,\"#f0f921\"]],\"diverging\":[[0,\"#8e0152\"],[0.1,\"#c51b7d\"],[0.2,\"#de77ae\"],[0.3,\"#f1b6da\"],[0.4,\"#fde0ef\"],[0.5,\"#f7f7f7\"],[0.6,\"#e6f5d0\"],[0.7,\"#b8e186\"],[0.8,\"#7fbc41\"],[0.9,\"#4d9221\"],[1,\"#276419\"]]},\"xaxis\":{\"gridcolor\":\"white\",\"linecolor\":\"white\",\"ticks\":\"\",\"title\":{\"standoff\":15},\"zerolinecolor\":\"white\",\"automargin\":true,\"zerolinewidth\":2},\"yaxis\":{\"gridcolor\":\"white\",\"linecolor\":\"white\",\"ticks\":\"\",\"title\":{\"standoff\":15},\"zerolinecolor\":\"white\",\"automargin\":true,\"zerolinewidth\":2},\"scene\":{\"xaxis\":{\"backgroundcolor\":\"#E5ECF6\",\"gridcolor\":\"white\",\"linecolor\":\"white\",\"showbackground\":true,\"ticks\":\"\",\"zerolinecolor\":\"white\",\"gridwidth\":2},\"yaxis\":{\"backgroundcolor\":\"#E5ECF6\",\"gridcolor\":\"white\",\"linecolor\":\"white\",\"showbackground\":true,\"ticks\":\"\",\"zerolinecolor\":\"white\",\"gridwidth\":2},\"zaxis\":{\"backgroundcolor\":\"#E5ECF6\",\"gridcolor\":\"white\",\"linecolor\":\"white\",\"showbackground\":true,\"ticks\":\"\",\"zerolinecolor\":\"white\",\"gridwidth\":2}},\"shapedefaults\":{\"line\":{\"color\":\"#2a3f5f\"}},\"annotationdefaults\":{\"arrowcolor\":\"#2a3f5f\",\"arrowhead\":0,\"arrowwidth\":1},\"geo\":{\"bgcolor\":\"white\",\"landcolor\":\"#E5ECF6\",\"subunitcolor\":\"white\",\"showland\":true,\"showlakes\":true,\"lakecolor\":\"white\"},\"title\":{\"x\":0.05},\"mapbox\":{\"style\":\"light\"}}},\"xaxis\":{\"anchor\":\"y\",\"domain\":[0.0,1.0],\"title\":{\"text\":\"x\"}},\"yaxis\":{\"anchor\":\"x\",\"domain\":[0.0,1.0],\"title\":{\"text\":\"y\"}},\"legend\":{\"tracegroupgap\":0},\"title\":{\"text\":\"Cause-specific mortality ratio per 1000 people per state on 2020-12-15\"},\"barmode\":\"relative\"},                        {\"responsive\": true}                    ).then(function(){\n",
       "                            \n",
       "var gd = document.getElementById('33f4c6de-c3d3-46c2-90e7-b1cb73ea68e8');\n",
       "var x = new MutationObserver(function (mutations, observer) {{\n",
       "        var display = window.getComputedStyle(gd).display;\n",
       "        if (!display || display === 'none') {{\n",
       "            console.log([gd, 'removed!']);\n",
       "            Plotly.purge(gd);\n",
       "            observer.disconnect();\n",
       "        }}\n",
       "}});\n",
       "\n",
       "// Listen for the removal of the full notebook cells\n",
       "var notebookContainer = gd.closest('#notebook-container');\n",
       "if (notebookContainer) {{\n",
       "    x.observe(notebookContainer, {childList: true});\n",
       "}}\n",
       "\n",
       "// Listen for the clearing of the current output cell\n",
       "var outputEl = gd.closest('.output');\n",
       "if (outputEl) {{\n",
       "    x.observe(outputEl, {childList: true});\n",
       "}}\n",
       "\n",
       "                        })                };                });            </script>        </div>"
      ]
     },
     "metadata": {},
     "output_type": "display_data"
    },
    {
     "name": "stdout",
     "output_type": "stream",
     "text": [
      "Case to fatality ratio in percent in the US on 2020-12-15: 1.813 %\n"
     ]
    },
    {
     "data": {
      "application/vnd.plotly.v1+json": {
       "config": {
        "plotlyServerURL": "https://plot.ly"
       },
       "data": [
        {
         "alignmentgroup": "True",
         "hovertemplate": "x=%{x}<br>y=%{y}<extra></extra>",
         "legendgroup": "",
         "marker": {
          "color": "#636efa",
          "pattern": {
           "shape": ""
          }
         },
         "name": "",
         "offsetgroup": "",
         "orientation": "v",
         "showlegend": false,
         "textposition": "auto",
         "type": "bar",
         "x": [
          "Alabama",
          "Alaska",
          "Arizona",
          "Arkansas",
          "California",
          "Colorado",
          "Connecticut",
          "Delaware",
          "District of Columbia",
          "Florida",
          "Georgia",
          "Hawaii",
          "Idaho",
          "Illinois",
          "Indiana",
          "Iowa",
          "Kansas",
          "Kentucky",
          "Louisiana",
          "Maine",
          "Maryland",
          "Massachusetts",
          "Michigan",
          "Minnesota",
          "Mississippi",
          "Missouri",
          "Montana",
          "Nebraska",
          "Nevada",
          "New Hampshire",
          "New Jersey",
          "New Mexico",
          "New York",
          "North Carolina",
          "North Dakota",
          "Ohio",
          "Oklahoma",
          "Oregon",
          "Pennsylvania",
          "Puerto Rico",
          "Rhode Island",
          "South Carolina",
          "South Dakota",
          "Tennessee",
          "Texas",
          "Utah",
          "Vermont",
          "Virginia",
          "Washington",
          "West Virginia",
          "Wisconsin",
          "Wyoming"
         ],
         "xaxis": "x",
         "y": [
          1.3676778329403414,
          0.4130147676791932,
          1.7390856455196537,
          1.5940971891880464,
          1.297936279503083,
          1.3976952070321225,
          3.5159717487231608,
          1.7521530694497478,
          2.841469671257745,
          1.755660586858031,
          1.8440077232791008,
          1.39194514098562,
          0.9808023429831195,
          1.8018840557935698,
          1.592638390173549,
          1.2921437505082225,
          1.0896127715636381,
          1.0804757725250447,
          2.53235687317281,
          1.581145584725537,
          2.1719358849199395,
          3.837872283337805,
          2.4075075339394014,
          1.1821260049502502,
          2.319694489907256,
          1.3371298221204793,
          1.1138079827400216,
          0.9637856235311156,
          1.3580831715328276,
          1.8558918420648334,
          4.345436950802612,
          1.6367894122734725,
          4.430611680805852,
          1.3248290308806334,
          1.3303016934197578,
          1.321119793149992,
          0.8620155295031634,
          1.2623187953336872,
          2.510635736462858,
          1.3335531875425108,
          2.0867392373433282,
          1.8482822944194,
          1.3751513102651065,
          1.2068523674460425,
          1.6387895322616035,
          0.45334690290049495,
          1.6883336147222692,
          1.5504198620230378,
          1.4587663778405773,
          1.5401473184391552,
          0.9281777254175958,
          0.8186900958466454
         ],
         "yaxis": "y"
        }
       ],
       "layout": {
        "barmode": "relative",
        "legend": {
         "tracegroupgap": 0
        },
        "template": {
         "data": {
          "bar": [
           {
            "error_x": {
             "color": "#2a3f5f"
            },
            "error_y": {
             "color": "#2a3f5f"
            },
            "marker": {
             "line": {
              "color": "#E5ECF6",
              "width": 0.5
             },
             "pattern": {
              "fillmode": "overlay",
              "size": 10,
              "solidity": 0.2
             }
            },
            "type": "bar"
           }
          ],
          "barpolar": [
           {
            "marker": {
             "line": {
              "color": "#E5ECF6",
              "width": 0.5
             },
             "pattern": {
              "fillmode": "overlay",
              "size": 10,
              "solidity": 0.2
             }
            },
            "type": "barpolar"
           }
          ],
          "carpet": [
           {
            "aaxis": {
             "endlinecolor": "#2a3f5f",
             "gridcolor": "white",
             "linecolor": "white",
             "minorgridcolor": "white",
             "startlinecolor": "#2a3f5f"
            },
            "baxis": {
             "endlinecolor": "#2a3f5f",
             "gridcolor": "white",
             "linecolor": "white",
             "minorgridcolor": "white",
             "startlinecolor": "#2a3f5f"
            },
            "type": "carpet"
           }
          ],
          "choropleth": [
           {
            "colorbar": {
             "outlinewidth": 0,
             "ticks": ""
            },
            "type": "choropleth"
           }
          ],
          "contour": [
           {
            "colorbar": {
             "outlinewidth": 0,
             "ticks": ""
            },
            "colorscale": [
             [
              0,
              "#0d0887"
             ],
             [
              0.1111111111111111,
              "#46039f"
             ],
             [
              0.2222222222222222,
              "#7201a8"
             ],
             [
              0.3333333333333333,
              "#9c179e"
             ],
             [
              0.4444444444444444,
              "#bd3786"
             ],
             [
              0.5555555555555556,
              "#d8576b"
             ],
             [
              0.6666666666666666,
              "#ed7953"
             ],
             [
              0.7777777777777778,
              "#fb9f3a"
             ],
             [
              0.8888888888888888,
              "#fdca26"
             ],
             [
              1,
              "#f0f921"
             ]
            ],
            "type": "contour"
           }
          ],
          "contourcarpet": [
           {
            "colorbar": {
             "outlinewidth": 0,
             "ticks": ""
            },
            "type": "contourcarpet"
           }
          ],
          "heatmap": [
           {
            "colorbar": {
             "outlinewidth": 0,
             "ticks": ""
            },
            "colorscale": [
             [
              0,
              "#0d0887"
             ],
             [
              0.1111111111111111,
              "#46039f"
             ],
             [
              0.2222222222222222,
              "#7201a8"
             ],
             [
              0.3333333333333333,
              "#9c179e"
             ],
             [
              0.4444444444444444,
              "#bd3786"
             ],
             [
              0.5555555555555556,
              "#d8576b"
             ],
             [
              0.6666666666666666,
              "#ed7953"
             ],
             [
              0.7777777777777778,
              "#fb9f3a"
             ],
             [
              0.8888888888888888,
              "#fdca26"
             ],
             [
              1,
              "#f0f921"
             ]
            ],
            "type": "heatmap"
           }
          ],
          "heatmapgl": [
           {
            "colorbar": {
             "outlinewidth": 0,
             "ticks": ""
            },
            "colorscale": [
             [
              0,
              "#0d0887"
             ],
             [
              0.1111111111111111,
              "#46039f"
             ],
             [
              0.2222222222222222,
              "#7201a8"
             ],
             [
              0.3333333333333333,
              "#9c179e"
             ],
             [
              0.4444444444444444,
              "#bd3786"
             ],
             [
              0.5555555555555556,
              "#d8576b"
             ],
             [
              0.6666666666666666,
              "#ed7953"
             ],
             [
              0.7777777777777778,
              "#fb9f3a"
             ],
             [
              0.8888888888888888,
              "#fdca26"
             ],
             [
              1,
              "#f0f921"
             ]
            ],
            "type": "heatmapgl"
           }
          ],
          "histogram": [
           {
            "marker": {
             "pattern": {
              "fillmode": "overlay",
              "size": 10,
              "solidity": 0.2
             }
            },
            "type": "histogram"
           }
          ],
          "histogram2d": [
           {
            "colorbar": {
             "outlinewidth": 0,
             "ticks": ""
            },
            "colorscale": [
             [
              0,
              "#0d0887"
             ],
             [
              0.1111111111111111,
              "#46039f"
             ],
             [
              0.2222222222222222,
              "#7201a8"
             ],
             [
              0.3333333333333333,
              "#9c179e"
             ],
             [
              0.4444444444444444,
              "#bd3786"
             ],
             [
              0.5555555555555556,
              "#d8576b"
             ],
             [
              0.6666666666666666,
              "#ed7953"
             ],
             [
              0.7777777777777778,
              "#fb9f3a"
             ],
             [
              0.8888888888888888,
              "#fdca26"
             ],
             [
              1,
              "#f0f921"
             ]
            ],
            "type": "histogram2d"
           }
          ],
          "histogram2dcontour": [
           {
            "colorbar": {
             "outlinewidth": 0,
             "ticks": ""
            },
            "colorscale": [
             [
              0,
              "#0d0887"
             ],
             [
              0.1111111111111111,
              "#46039f"
             ],
             [
              0.2222222222222222,
              "#7201a8"
             ],
             [
              0.3333333333333333,
              "#9c179e"
             ],
             [
              0.4444444444444444,
              "#bd3786"
             ],
             [
              0.5555555555555556,
              "#d8576b"
             ],
             [
              0.6666666666666666,
              "#ed7953"
             ],
             [
              0.7777777777777778,
              "#fb9f3a"
             ],
             [
              0.8888888888888888,
              "#fdca26"
             ],
             [
              1,
              "#f0f921"
             ]
            ],
            "type": "histogram2dcontour"
           }
          ],
          "mesh3d": [
           {
            "colorbar": {
             "outlinewidth": 0,
             "ticks": ""
            },
            "type": "mesh3d"
           }
          ],
          "parcoords": [
           {
            "line": {
             "colorbar": {
              "outlinewidth": 0,
              "ticks": ""
             }
            },
            "type": "parcoords"
           }
          ],
          "pie": [
           {
            "automargin": true,
            "type": "pie"
           }
          ],
          "scatter": [
           {
            "fillpattern": {
             "fillmode": "overlay",
             "size": 10,
             "solidity": 0.2
            },
            "type": "scatter"
           }
          ],
          "scatter3d": [
           {
            "line": {
             "colorbar": {
              "outlinewidth": 0,
              "ticks": ""
             }
            },
            "marker": {
             "colorbar": {
              "outlinewidth": 0,
              "ticks": ""
             }
            },
            "type": "scatter3d"
           }
          ],
          "scattercarpet": [
           {
            "marker": {
             "colorbar": {
              "outlinewidth": 0,
              "ticks": ""
             }
            },
            "type": "scattercarpet"
           }
          ],
          "scattergeo": [
           {
            "marker": {
             "colorbar": {
              "outlinewidth": 0,
              "ticks": ""
             }
            },
            "type": "scattergeo"
           }
          ],
          "scattergl": [
           {
            "marker": {
             "colorbar": {
              "outlinewidth": 0,
              "ticks": ""
             }
            },
            "type": "scattergl"
           }
          ],
          "scattermapbox": [
           {
            "marker": {
             "colorbar": {
              "outlinewidth": 0,
              "ticks": ""
             }
            },
            "type": "scattermapbox"
           }
          ],
          "scatterpolar": [
           {
            "marker": {
             "colorbar": {
              "outlinewidth": 0,
              "ticks": ""
             }
            },
            "type": "scatterpolar"
           }
          ],
          "scatterpolargl": [
           {
            "marker": {
             "colorbar": {
              "outlinewidth": 0,
              "ticks": ""
             }
            },
            "type": "scatterpolargl"
           }
          ],
          "scatterternary": [
           {
            "marker": {
             "colorbar": {
              "outlinewidth": 0,
              "ticks": ""
             }
            },
            "type": "scatterternary"
           }
          ],
          "surface": [
           {
            "colorbar": {
             "outlinewidth": 0,
             "ticks": ""
            },
            "colorscale": [
             [
              0,
              "#0d0887"
             ],
             [
              0.1111111111111111,
              "#46039f"
             ],
             [
              0.2222222222222222,
              "#7201a8"
             ],
             [
              0.3333333333333333,
              "#9c179e"
             ],
             [
              0.4444444444444444,
              "#bd3786"
             ],
             [
              0.5555555555555556,
              "#d8576b"
             ],
             [
              0.6666666666666666,
              "#ed7953"
             ],
             [
              0.7777777777777778,
              "#fb9f3a"
             ],
             [
              0.8888888888888888,
              "#fdca26"
             ],
             [
              1,
              "#f0f921"
             ]
            ],
            "type": "surface"
           }
          ],
          "table": [
           {
            "cells": {
             "fill": {
              "color": "#EBF0F8"
             },
             "line": {
              "color": "white"
             }
            },
            "header": {
             "fill": {
              "color": "#C8D4E3"
             },
             "line": {
              "color": "white"
             }
            },
            "type": "table"
           }
          ]
         },
         "layout": {
          "annotationdefaults": {
           "arrowcolor": "#2a3f5f",
           "arrowhead": 0,
           "arrowwidth": 1
          },
          "autotypenumbers": "strict",
          "coloraxis": {
           "colorbar": {
            "outlinewidth": 0,
            "ticks": ""
           }
          },
          "colorscale": {
           "diverging": [
            [
             0,
             "#8e0152"
            ],
            [
             0.1,
             "#c51b7d"
            ],
            [
             0.2,
             "#de77ae"
            ],
            [
             0.3,
             "#f1b6da"
            ],
            [
             0.4,
             "#fde0ef"
            ],
            [
             0.5,
             "#f7f7f7"
            ],
            [
             0.6,
             "#e6f5d0"
            ],
            [
             0.7,
             "#b8e186"
            ],
            [
             0.8,
             "#7fbc41"
            ],
            [
             0.9,
             "#4d9221"
            ],
            [
             1,
             "#276419"
            ]
           ],
           "sequential": [
            [
             0,
             "#0d0887"
            ],
            [
             0.1111111111111111,
             "#46039f"
            ],
            [
             0.2222222222222222,
             "#7201a8"
            ],
            [
             0.3333333333333333,
             "#9c179e"
            ],
            [
             0.4444444444444444,
             "#bd3786"
            ],
            [
             0.5555555555555556,
             "#d8576b"
            ],
            [
             0.6666666666666666,
             "#ed7953"
            ],
            [
             0.7777777777777778,
             "#fb9f3a"
            ],
            [
             0.8888888888888888,
             "#fdca26"
            ],
            [
             1,
             "#f0f921"
            ]
           ],
           "sequentialminus": [
            [
             0,
             "#0d0887"
            ],
            [
             0.1111111111111111,
             "#46039f"
            ],
            [
             0.2222222222222222,
             "#7201a8"
            ],
            [
             0.3333333333333333,
             "#9c179e"
            ],
            [
             0.4444444444444444,
             "#bd3786"
            ],
            [
             0.5555555555555556,
             "#d8576b"
            ],
            [
             0.6666666666666666,
             "#ed7953"
            ],
            [
             0.7777777777777778,
             "#fb9f3a"
            ],
            [
             0.8888888888888888,
             "#fdca26"
            ],
            [
             1,
             "#f0f921"
            ]
           ]
          },
          "colorway": [
           "#636efa",
           "#EF553B",
           "#00cc96",
           "#ab63fa",
           "#FFA15A",
           "#19d3f3",
           "#FF6692",
           "#B6E880",
           "#FF97FF",
           "#FECB52"
          ],
          "font": {
           "color": "#2a3f5f"
          },
          "geo": {
           "bgcolor": "white",
           "lakecolor": "white",
           "landcolor": "#E5ECF6",
           "showlakes": true,
           "showland": true,
           "subunitcolor": "white"
          },
          "hoverlabel": {
           "align": "left"
          },
          "hovermode": "closest",
          "mapbox": {
           "style": "light"
          },
          "paper_bgcolor": "white",
          "plot_bgcolor": "#E5ECF6",
          "polar": {
           "angularaxis": {
            "gridcolor": "white",
            "linecolor": "white",
            "ticks": ""
           },
           "bgcolor": "#E5ECF6",
           "radialaxis": {
            "gridcolor": "white",
            "linecolor": "white",
            "ticks": ""
           }
          },
          "scene": {
           "xaxis": {
            "backgroundcolor": "#E5ECF6",
            "gridcolor": "white",
            "gridwidth": 2,
            "linecolor": "white",
            "showbackground": true,
            "ticks": "",
            "zerolinecolor": "white"
           },
           "yaxis": {
            "backgroundcolor": "#E5ECF6",
            "gridcolor": "white",
            "gridwidth": 2,
            "linecolor": "white",
            "showbackground": true,
            "ticks": "",
            "zerolinecolor": "white"
           },
           "zaxis": {
            "backgroundcolor": "#E5ECF6",
            "gridcolor": "white",
            "gridwidth": 2,
            "linecolor": "white",
            "showbackground": true,
            "ticks": "",
            "zerolinecolor": "white"
           }
          },
          "shapedefaults": {
           "line": {
            "color": "#2a3f5f"
           }
          },
          "ternary": {
           "aaxis": {
            "gridcolor": "white",
            "linecolor": "white",
            "ticks": ""
           },
           "baxis": {
            "gridcolor": "white",
            "linecolor": "white",
            "ticks": ""
           },
           "bgcolor": "#E5ECF6",
           "caxis": {
            "gridcolor": "white",
            "linecolor": "white",
            "ticks": ""
           }
          },
          "title": {
           "x": 0.05
          },
          "xaxis": {
           "automargin": true,
           "gridcolor": "white",
           "linecolor": "white",
           "ticks": "",
           "title": {
            "standoff": 15
           },
           "zerolinecolor": "white",
           "zerolinewidth": 2
          },
          "yaxis": {
           "automargin": true,
           "gridcolor": "white",
           "linecolor": "white",
           "ticks": "",
           "title": {
            "standoff": 15
           },
           "zerolinecolor": "white",
           "zerolinewidth": 2
          }
         }
        },
        "title": {
         "text": "Case to fatality ratio in percent per state on 2020-12-15"
        },
        "xaxis": {
         "anchor": "y",
         "domain": [
          0,
          1
         ],
         "title": {
          "text": "x"
         }
        },
        "yaxis": {
         "anchor": "x",
         "domain": [
          0,
          1
         ],
         "title": {
          "text": "y"
         }
        }
       }
      },
      "text/html": [
       "<div>                            <div id=\"3125365a-db1b-45d7-ab39-4dbfbfa32be0\" class=\"plotly-graph-div\" style=\"height:525px; width:100%;\"></div>            <script type=\"text/javascript\">                require([\"plotly\"], function(Plotly) {                    window.PLOTLYENV=window.PLOTLYENV || {};                                    if (document.getElementById(\"3125365a-db1b-45d7-ab39-4dbfbfa32be0\")) {                    Plotly.newPlot(                        \"3125365a-db1b-45d7-ab39-4dbfbfa32be0\",                        [{\"alignmentgroup\":\"True\",\"hovertemplate\":\"x=%{x}<br>y=%{y}<extra></extra>\",\"legendgroup\":\"\",\"marker\":{\"color\":\"#636efa\",\"pattern\":{\"shape\":\"\"}},\"name\":\"\",\"offsetgroup\":\"\",\"orientation\":\"v\",\"showlegend\":false,\"textposition\":\"auto\",\"x\":[\"Alabama\",\"Alaska\",\"Arizona\",\"Arkansas\",\"California\",\"Colorado\",\"Connecticut\",\"Delaware\",\"District of Columbia\",\"Florida\",\"Georgia\",\"Hawaii\",\"Idaho\",\"Illinois\",\"Indiana\",\"Iowa\",\"Kansas\",\"Kentucky\",\"Louisiana\",\"Maine\",\"Maryland\",\"Massachusetts\",\"Michigan\",\"Minnesota\",\"Mississippi\",\"Missouri\",\"Montana\",\"Nebraska\",\"Nevada\",\"New Hampshire\",\"New Jersey\",\"New Mexico\",\"New York\",\"North Carolina\",\"North Dakota\",\"Ohio\",\"Oklahoma\",\"Oregon\",\"Pennsylvania\",\"Puerto Rico\",\"Rhode Island\",\"South Carolina\",\"South Dakota\",\"Tennessee\",\"Texas\",\"Utah\",\"Vermont\",\"Virginia\",\"Washington\",\"West Virginia\",\"Wisconsin\",\"Wyoming\"],\"xaxis\":\"x\",\"y\":[1.3676778329403414,0.4130147676791932,1.7390856455196537,1.5940971891880464,1.297936279503083,1.3976952070321225,3.5159717487231608,1.7521530694497478,2.841469671257745,1.755660586858031,1.8440077232791008,1.39194514098562,0.9808023429831195,1.8018840557935698,1.592638390173549,1.2921437505082225,1.0896127715636381,1.0804757725250447,2.53235687317281,1.581145584725537,2.1719358849199395,3.837872283337805,2.4075075339394014,1.1821260049502502,2.319694489907256,1.3371298221204793,1.1138079827400216,0.9637856235311156,1.3580831715328276,1.8558918420648334,4.345436950802612,1.6367894122734725,4.430611680805852,1.3248290308806334,1.3303016934197578,1.321119793149992,0.8620155295031634,1.2623187953336872,2.510635736462858,1.3335531875425108,2.0867392373433282,1.8482822944194,1.3751513102651065,1.2068523674460425,1.6387895322616035,0.45334690290049495,1.6883336147222692,1.5504198620230378,1.4587663778405773,1.5401473184391552,0.9281777254175958,0.8186900958466454],\"yaxis\":\"y\",\"type\":\"bar\"}],                        {\"template\":{\"data\":{\"histogram2dcontour\":[{\"type\":\"histogram2dcontour\",\"colorbar\":{\"outlinewidth\":0,\"ticks\":\"\"},\"colorscale\":[[0.0,\"#0d0887\"],[0.1111111111111111,\"#46039f\"],[0.2222222222222222,\"#7201a8\"],[0.3333333333333333,\"#9c179e\"],[0.4444444444444444,\"#bd3786\"],[0.5555555555555556,\"#d8576b\"],[0.6666666666666666,\"#ed7953\"],[0.7777777777777778,\"#fb9f3a\"],[0.8888888888888888,\"#fdca26\"],[1.0,\"#f0f921\"]]}],\"choropleth\":[{\"type\":\"choropleth\",\"colorbar\":{\"outlinewidth\":0,\"ticks\":\"\"}}],\"histogram2d\":[{\"type\":\"histogram2d\",\"colorbar\":{\"outlinewidth\":0,\"ticks\":\"\"},\"colorscale\":[[0.0,\"#0d0887\"],[0.1111111111111111,\"#46039f\"],[0.2222222222222222,\"#7201a8\"],[0.3333333333333333,\"#9c179e\"],[0.4444444444444444,\"#bd3786\"],[0.5555555555555556,\"#d8576b\"],[0.6666666666666666,\"#ed7953\"],[0.7777777777777778,\"#fb9f3a\"],[0.8888888888888888,\"#fdca26\"],[1.0,\"#f0f921\"]]}],\"heatmap\":[{\"type\":\"heatmap\",\"colorbar\":{\"outlinewidth\":0,\"ticks\":\"\"},\"colorscale\":[[0.0,\"#0d0887\"],[0.1111111111111111,\"#46039f\"],[0.2222222222222222,\"#7201a8\"],[0.3333333333333333,\"#9c179e\"],[0.4444444444444444,\"#bd3786\"],[0.5555555555555556,\"#d8576b\"],[0.6666666666666666,\"#ed7953\"],[0.7777777777777778,\"#fb9f3a\"],[0.8888888888888888,\"#fdca26\"],[1.0,\"#f0f921\"]]}],\"heatmapgl\":[{\"type\":\"heatmapgl\",\"colorbar\":{\"outlinewidth\":0,\"ticks\":\"\"},\"colorscale\":[[0.0,\"#0d0887\"],[0.1111111111111111,\"#46039f\"],[0.2222222222222222,\"#7201a8\"],[0.3333333333333333,\"#9c179e\"],[0.4444444444444444,\"#bd3786\"],[0.5555555555555556,\"#d8576b\"],[0.6666666666666666,\"#ed7953\"],[0.7777777777777778,\"#fb9f3a\"],[0.8888888888888888,\"#fdca26\"],[1.0,\"#f0f921\"]]}],\"contourcarpet\":[{\"type\":\"contourcarpet\",\"colorbar\":{\"outlinewidth\":0,\"ticks\":\"\"}}],\"contour\":[{\"type\":\"contour\",\"colorbar\":{\"outlinewidth\":0,\"ticks\":\"\"},\"colorscale\":[[0.0,\"#0d0887\"],[0.1111111111111111,\"#46039f\"],[0.2222222222222222,\"#7201a8\"],[0.3333333333333333,\"#9c179e\"],[0.4444444444444444,\"#bd3786\"],[0.5555555555555556,\"#d8576b\"],[0.6666666666666666,\"#ed7953\"],[0.7777777777777778,\"#fb9f3a\"],[0.8888888888888888,\"#fdca26\"],[1.0,\"#f0f921\"]]}],\"surface\":[{\"type\":\"surface\",\"colorbar\":{\"outlinewidth\":0,\"ticks\":\"\"},\"colorscale\":[[0.0,\"#0d0887\"],[0.1111111111111111,\"#46039f\"],[0.2222222222222222,\"#7201a8\"],[0.3333333333333333,\"#9c179e\"],[0.4444444444444444,\"#bd3786\"],[0.5555555555555556,\"#d8576b\"],[0.6666666666666666,\"#ed7953\"],[0.7777777777777778,\"#fb9f3a\"],[0.8888888888888888,\"#fdca26\"],[1.0,\"#f0f921\"]]}],\"mesh3d\":[{\"type\":\"mesh3d\",\"colorbar\":{\"outlinewidth\":0,\"ticks\":\"\"}}],\"scatter\":[{\"fillpattern\":{\"fillmode\":\"overlay\",\"size\":10,\"solidity\":0.2},\"type\":\"scatter\"}],\"parcoords\":[{\"type\":\"parcoords\",\"line\":{\"colorbar\":{\"outlinewidth\":0,\"ticks\":\"\"}}}],\"scatterpolargl\":[{\"type\":\"scatterpolargl\",\"marker\":{\"colorbar\":{\"outlinewidth\":0,\"ticks\":\"\"}}}],\"bar\":[{\"error_x\":{\"color\":\"#2a3f5f\"},\"error_y\":{\"color\":\"#2a3f5f\"},\"marker\":{\"line\":{\"color\":\"#E5ECF6\",\"width\":0.5},\"pattern\":{\"fillmode\":\"overlay\",\"size\":10,\"solidity\":0.2}},\"type\":\"bar\"}],\"scattergeo\":[{\"type\":\"scattergeo\",\"marker\":{\"colorbar\":{\"outlinewidth\":0,\"ticks\":\"\"}}}],\"scatterpolar\":[{\"type\":\"scatterpolar\",\"marker\":{\"colorbar\":{\"outlinewidth\":0,\"ticks\":\"\"}}}],\"histogram\":[{\"marker\":{\"pattern\":{\"fillmode\":\"overlay\",\"size\":10,\"solidity\":0.2}},\"type\":\"histogram\"}],\"scattergl\":[{\"type\":\"scattergl\",\"marker\":{\"colorbar\":{\"outlinewidth\":0,\"ticks\":\"\"}}}],\"scatter3d\":[{\"type\":\"scatter3d\",\"line\":{\"colorbar\":{\"outlinewidth\":0,\"ticks\":\"\"}},\"marker\":{\"colorbar\":{\"outlinewidth\":0,\"ticks\":\"\"}}}],\"scattermapbox\":[{\"type\":\"scattermapbox\",\"marker\":{\"colorbar\":{\"outlinewidth\":0,\"ticks\":\"\"}}}],\"scatterternary\":[{\"type\":\"scatterternary\",\"marker\":{\"colorbar\":{\"outlinewidth\":0,\"ticks\":\"\"}}}],\"scattercarpet\":[{\"type\":\"scattercarpet\",\"marker\":{\"colorbar\":{\"outlinewidth\":0,\"ticks\":\"\"}}}],\"carpet\":[{\"aaxis\":{\"endlinecolor\":\"#2a3f5f\",\"gridcolor\":\"white\",\"linecolor\":\"white\",\"minorgridcolor\":\"white\",\"startlinecolor\":\"#2a3f5f\"},\"baxis\":{\"endlinecolor\":\"#2a3f5f\",\"gridcolor\":\"white\",\"linecolor\":\"white\",\"minorgridcolor\":\"white\",\"startlinecolor\":\"#2a3f5f\"},\"type\":\"carpet\"}],\"table\":[{\"cells\":{\"fill\":{\"color\":\"#EBF0F8\"},\"line\":{\"color\":\"white\"}},\"header\":{\"fill\":{\"color\":\"#C8D4E3\"},\"line\":{\"color\":\"white\"}},\"type\":\"table\"}],\"barpolar\":[{\"marker\":{\"line\":{\"color\":\"#E5ECF6\",\"width\":0.5},\"pattern\":{\"fillmode\":\"overlay\",\"size\":10,\"solidity\":0.2}},\"type\":\"barpolar\"}],\"pie\":[{\"automargin\":true,\"type\":\"pie\"}]},\"layout\":{\"autotypenumbers\":\"strict\",\"colorway\":[\"#636efa\",\"#EF553B\",\"#00cc96\",\"#ab63fa\",\"#FFA15A\",\"#19d3f3\",\"#FF6692\",\"#B6E880\",\"#FF97FF\",\"#FECB52\"],\"font\":{\"color\":\"#2a3f5f\"},\"hovermode\":\"closest\",\"hoverlabel\":{\"align\":\"left\"},\"paper_bgcolor\":\"white\",\"plot_bgcolor\":\"#E5ECF6\",\"polar\":{\"bgcolor\":\"#E5ECF6\",\"angularaxis\":{\"gridcolor\":\"white\",\"linecolor\":\"white\",\"ticks\":\"\"},\"radialaxis\":{\"gridcolor\":\"white\",\"linecolor\":\"white\",\"ticks\":\"\"}},\"ternary\":{\"bgcolor\":\"#E5ECF6\",\"aaxis\":{\"gridcolor\":\"white\",\"linecolor\":\"white\",\"ticks\":\"\"},\"baxis\":{\"gridcolor\":\"white\",\"linecolor\":\"white\",\"ticks\":\"\"},\"caxis\":{\"gridcolor\":\"white\",\"linecolor\":\"white\",\"ticks\":\"\"}},\"coloraxis\":{\"colorbar\":{\"outlinewidth\":0,\"ticks\":\"\"}},\"colorscale\":{\"sequential\":[[0.0,\"#0d0887\"],[0.1111111111111111,\"#46039f\"],[0.2222222222222222,\"#7201a8\"],[0.3333333333333333,\"#9c179e\"],[0.4444444444444444,\"#bd3786\"],[0.5555555555555556,\"#d8576b\"],[0.6666666666666666,\"#ed7953\"],[0.7777777777777778,\"#fb9f3a\"],[0.8888888888888888,\"#fdca26\"],[1.0,\"#f0f921\"]],\"sequentialminus\":[[0.0,\"#0d0887\"],[0.1111111111111111,\"#46039f\"],[0.2222222222222222,\"#7201a8\"],[0.3333333333333333,\"#9c179e\"],[0.4444444444444444,\"#bd3786\"],[0.5555555555555556,\"#d8576b\"],[0.6666666666666666,\"#ed7953\"],[0.7777777777777778,\"#fb9f3a\"],[0.8888888888888888,\"#fdca26\"],[1.0,\"#f0f921\"]],\"diverging\":[[0,\"#8e0152\"],[0.1,\"#c51b7d\"],[0.2,\"#de77ae\"],[0.3,\"#f1b6da\"],[0.4,\"#fde0ef\"],[0.5,\"#f7f7f7\"],[0.6,\"#e6f5d0\"],[0.7,\"#b8e186\"],[0.8,\"#7fbc41\"],[0.9,\"#4d9221\"],[1,\"#276419\"]]},\"xaxis\":{\"gridcolor\":\"white\",\"linecolor\":\"white\",\"ticks\":\"\",\"title\":{\"standoff\":15},\"zerolinecolor\":\"white\",\"automargin\":true,\"zerolinewidth\":2},\"yaxis\":{\"gridcolor\":\"white\",\"linecolor\":\"white\",\"ticks\":\"\",\"title\":{\"standoff\":15},\"zerolinecolor\":\"white\",\"automargin\":true,\"zerolinewidth\":2},\"scene\":{\"xaxis\":{\"backgroundcolor\":\"#E5ECF6\",\"gridcolor\":\"white\",\"linecolor\":\"white\",\"showbackground\":true,\"ticks\":\"\",\"zerolinecolor\":\"white\",\"gridwidth\":2},\"yaxis\":{\"backgroundcolor\":\"#E5ECF6\",\"gridcolor\":\"white\",\"linecolor\":\"white\",\"showbackground\":true,\"ticks\":\"\",\"zerolinecolor\":\"white\",\"gridwidth\":2},\"zaxis\":{\"backgroundcolor\":\"#E5ECF6\",\"gridcolor\":\"white\",\"linecolor\":\"white\",\"showbackground\":true,\"ticks\":\"\",\"zerolinecolor\":\"white\",\"gridwidth\":2}},\"shapedefaults\":{\"line\":{\"color\":\"#2a3f5f\"}},\"annotationdefaults\":{\"arrowcolor\":\"#2a3f5f\",\"arrowhead\":0,\"arrowwidth\":1},\"geo\":{\"bgcolor\":\"white\",\"landcolor\":\"#E5ECF6\",\"subunitcolor\":\"white\",\"showland\":true,\"showlakes\":true,\"lakecolor\":\"white\"},\"title\":{\"x\":0.05},\"mapbox\":{\"style\":\"light\"}}},\"xaxis\":{\"anchor\":\"y\",\"domain\":[0.0,1.0],\"title\":{\"text\":\"x\"}},\"yaxis\":{\"anchor\":\"x\",\"domain\":[0.0,1.0],\"title\":{\"text\":\"y\"}},\"legend\":{\"tracegroupgap\":0},\"title\":{\"text\":\"Case to fatality ratio in percent per state on 2020-12-15\"},\"barmode\":\"relative\"},                        {\"responsive\": true}                    ).then(function(){\n",
       "                            \n",
       "var gd = document.getElementById('3125365a-db1b-45d7-ab39-4dbfbfa32be0');\n",
       "var x = new MutationObserver(function (mutations, observer) {{\n",
       "        var display = window.getComputedStyle(gd).display;\n",
       "        if (!display || display === 'none') {{\n",
       "            console.log([gd, 'removed!']);\n",
       "            Plotly.purge(gd);\n",
       "            observer.disconnect();\n",
       "        }}\n",
       "}});\n",
       "\n",
       "// Listen for the removal of the full notebook cells\n",
       "var notebookContainer = gd.closest('#notebook-container');\n",
       "if (notebookContainer) {{\n",
       "    x.observe(notebookContainer, {childList: true});\n",
       "}}\n",
       "\n",
       "// Listen for the clearing of the current output cell\n",
       "var outputEl = gd.closest('.output');\n",
       "if (outputEl) {{\n",
       "    x.observe(outputEl, {childList: true});\n",
       "}}\n",
       "\n",
       "                        })                };                });            </script>        </div>"
      ]
     },
     "metadata": {},
     "output_type": "display_data"
    }
   ],
   "source": [
    "date = '2020-12-15'\n",
    "print('Cause-specific mortality ratio per 1000 people in the US on {}:'.format(date),\n",
    "      comp_csr(dfusa,date,state=False), 'Per 1000 people')\n",
    "comp_csr(dfstates,date)\n",
    "\n",
    "\n",
    "print('Case to fatality ratio in percent in the US on {}:'.format(date),\n",
    "      comp_cfr(dfusa,date,state=False),'%')\n",
    "comp_cfr(dfstates,date)\n"
   ]
  },
  {
   "cell_type": "code",
   "execution_count": 222,
   "id": "32aad212",
   "metadata": {
    "ExecuteTime": {
     "end_time": "2022-05-30T14:58:56.904743Z",
     "start_time": "2022-05-30T14:58:56.873499Z"
    }
   },
   "outputs": [
    {
     "name": "stdout",
     "output_type": "stream",
     "text": [
      "Cause-specific mortality ratio per 1000 people in the US on 2022-05-15: 3.03 per 1000 people\n",
      "Case to fatality ratio in percent in the US on 2022-05-15: 1.211 %\n"
     ]
    }
   ],
   "source": [
    "date = '2022-05-15'\n",
    "print('Cause-specific mortality ratio per 1000 people in the US on {}:'.format(date),\n",
    "      comp_csr(dfusa,date,state=False),'per 1000 people')\n",
    "print('Case to fatality ratio in percent in the US on {}:'.format(date),\n",
    "      comp_cfr(dfusa,date,state=False),'%')"
   ]
  },
  {
   "cell_type": "markdown",
   "id": "8dcc1719",
   "metadata": {},
   "source": [
    "We can see that even tho the cause-specific mortality ratio increased since the begining of the vaccination campaign, the case to fatality decreased of 0.5%. Thus since people have been getting vaccinated there are less covid related deaths"
   ]
  },
  {
   "cell_type": "code",
   "execution_count": 93,
   "id": "021dbdfa",
   "metadata": {
    "ExecuteTime": {
     "end_time": "2022-05-25T08:07:22.174229Z",
     "start_time": "2022-05-25T08:07:22.157550Z"
    }
   },
   "outputs": [
    {
     "name": "stdout",
     "output_type": "stream",
     "text": [
      "The state that has the most cases as of 2022-05-23 is California with a total of 9461626 cases.\n",
      "The state that has the most deaths as of 2022-05-23 is California with a total of 91231 deaths.\n"
     ]
    }
   ],
   "source": [
    "#state with the highest total cases, deaths \n",
    "h_c_state = dfstates[dfstates['cases']==dfstates['cases'].max()]\n",
    "date = h_c_state['date'].dt.strftime('%Y-%m-%d').values[0]\n",
    "state = h_c_state['state'].values[0]\n",
    "cases = h_c_state['cases'].values[0]\n",
    "h_d_state = dfstates[dfstates['deaths']==dfstates['deaths'].max()]\n",
    "date_d = h_d_state['date'].dt.strftime('%Y-%m-%d').values[0]\n",
    "state_d = h_d_state['state'].values[0]\n",
    "deaths = h_c_state['deaths'].values[0]\n",
    "print('The state that has the most cases as of {} is {} with a total of {} cases.'.format(date,state,cases))\n",
    "print('The state that has the most deaths as of {} is {} with a total of {} deaths.'.format(date_d,state_d,deaths))"
   ]
  },
  {
   "cell_type": "code",
   "execution_count": 230,
   "id": "f3d98c26",
   "metadata": {
    "ExecuteTime": {
     "end_time": "2022-05-30T15:03:55.688344Z",
     "start_time": "2022-05-30T15:03:55.680620Z"
    }
   },
   "outputs": [
    {
     "name": "stdout",
     "output_type": "stream",
     "text": [
      "As of 2022-05-23, 83325014 people were tested positive and 1000826 people died of COVID-19 in the US\n"
     ]
    }
   ],
   "source": [
    "last_upd = dfusa.iloc[-1]\n",
    "tot_cases = last_upd['cases']\n",
    "tot_deaths = last_upd['deaths']\n",
    "date = last_upd['date'].strftime('%Y-%m-%d')\n",
    "print('As of {}, {} people were tested positive and {} people died of COVID-19 in the US.'.format(date,tot_cases,tot_deaths))"
   ]
  },
  {
   "cell_type": "code",
   "execution_count": null,
   "id": "6cc4a8a1",
   "metadata": {},
   "outputs": [],
   "source": []
  },
  {
   "cell_type": "code",
   "execution_count": null,
   "id": "b3cea44a",
   "metadata": {},
   "outputs": [],
   "source": []
  },
  {
   "cell_type": "code",
   "execution_count": null,
   "id": "5568f910",
   "metadata": {},
   "outputs": [],
   "source": []
  },
  {
   "cell_type": "code",
   "execution_count": null,
   "id": "df641f3e",
   "metadata": {},
   "outputs": [],
   "source": []
  },
  {
   "cell_type": "code",
   "execution_count": null,
   "id": "175d6853",
   "metadata": {},
   "outputs": [],
   "source": []
  },
  {
   "cell_type": "markdown",
   "id": "44f94d27",
   "metadata": {},
   "source": [
    "# Economic effect of Covid-19 on Nasdaq and S&P500"
   ]
  },
  {
   "cell_type": "code",
   "execution_count": 112,
   "id": "62813ea0",
   "metadata": {
    "ExecuteTime": {
     "end_time": "2022-05-25T08:39:29.916868Z",
     "start_time": "2022-05-25T08:39:29.911043Z"
    }
   },
   "outputs": [],
   "source": [
    "sp500='^GSPC'\n",
    "nasdaq = '^NDX'\n",
    "start_date = dfusa['date'].min()\n",
    "end_date = dfusa['date'].max()\n"
   ]
  },
  {
   "cell_type": "code",
   "execution_count": 230,
   "id": "8d329011",
   "metadata": {
    "ExecuteTime": {
     "end_time": "2022-05-25T10:02:46.552272Z",
     "start_time": "2022-05-25T10:02:45.794345Z"
    }
   },
   "outputs": [
    {
     "data": {
      "text/html": [
       "<div>\n",
       "<style scoped>\n",
       "    .dataframe tbody tr th:only-of-type {\n",
       "        vertical-align: middle;\n",
       "    }\n",
       "\n",
       "    .dataframe tbody tr th {\n",
       "        vertical-align: top;\n",
       "    }\n",
       "\n",
       "    .dataframe thead th {\n",
       "        text-align: right;\n",
       "    }\n",
       "</style>\n",
       "<table border=\"1\" class=\"dataframe\">\n",
       "  <thead>\n",
       "    <tr style=\"text-align: right;\">\n",
       "      <th></th>\n",
       "      <th>Open</th>\n",
       "      <th>High</th>\n",
       "      <th>Low</th>\n",
       "      <th>Close</th>\n",
       "      <th>Volume</th>\n",
       "      <th>Dividends</th>\n",
       "      <th>Stock Splits</th>\n",
       "      <th>name</th>\n",
       "    </tr>\n",
       "    <tr>\n",
       "      <th>Date</th>\n",
       "      <th></th>\n",
       "      <th></th>\n",
       "      <th></th>\n",
       "      <th></th>\n",
       "      <th></th>\n",
       "      <th></th>\n",
       "      <th></th>\n",
       "      <th></th>\n",
       "    </tr>\n",
       "  </thead>\n",
       "  <tbody>\n",
       "    <tr>\n",
       "      <th>2020-01-21</th>\n",
       "      <td>3321.030029</td>\n",
       "      <td>3329.790039</td>\n",
       "      <td>3316.610107</td>\n",
       "      <td>3320.790039</td>\n",
       "      <td>4105340000</td>\n",
       "      <td>0</td>\n",
       "      <td>0</td>\n",
       "      <td>sp500</td>\n",
       "    </tr>\n",
       "    <tr>\n",
       "      <th>2020-01-22</th>\n",
       "      <td>3330.020020</td>\n",
       "      <td>3337.770020</td>\n",
       "      <td>3320.040039</td>\n",
       "      <td>3321.750000</td>\n",
       "      <td>3619850000</td>\n",
       "      <td>0</td>\n",
       "      <td>0</td>\n",
       "      <td>sp500</td>\n",
       "    </tr>\n",
       "    <tr>\n",
       "      <th>2020-01-23</th>\n",
       "      <td>3315.770020</td>\n",
       "      <td>3326.879883</td>\n",
       "      <td>3301.870117</td>\n",
       "      <td>3325.540039</td>\n",
       "      <td>3764860000</td>\n",
       "      <td>0</td>\n",
       "      <td>0</td>\n",
       "      <td>sp500</td>\n",
       "    </tr>\n",
       "    <tr>\n",
       "      <th>2020-01-24</th>\n",
       "      <td>3333.100098</td>\n",
       "      <td>3333.179932</td>\n",
       "      <td>3281.530029</td>\n",
       "      <td>3295.469971</td>\n",
       "      <td>3707130000</td>\n",
       "      <td>0</td>\n",
       "      <td>0</td>\n",
       "      <td>sp500</td>\n",
       "    </tr>\n",
       "    <tr>\n",
       "      <th>2020-01-27</th>\n",
       "      <td>3247.159912</td>\n",
       "      <td>3258.850098</td>\n",
       "      <td>3234.500000</td>\n",
       "      <td>3243.629883</td>\n",
       "      <td>3823100000</td>\n",
       "      <td>0</td>\n",
       "      <td>0</td>\n",
       "      <td>sp500</td>\n",
       "    </tr>\n",
       "  </tbody>\n",
       "</table>\n",
       "</div>"
      ],
      "text/plain": [
       "                   Open         High          Low        Close      Volume  \\\n",
       "Date                                                                         \n",
       "2020-01-21  3321.030029  3329.790039  3316.610107  3320.790039  4105340000   \n",
       "2020-01-22  3330.020020  3337.770020  3320.040039  3321.750000  3619850000   \n",
       "2020-01-23  3315.770020  3326.879883  3301.870117  3325.540039  3764860000   \n",
       "2020-01-24  3333.100098  3333.179932  3281.530029  3295.469971  3707130000   \n",
       "2020-01-27  3247.159912  3258.850098  3234.500000  3243.629883  3823100000   \n",
       "\n",
       "            Dividends  Stock Splits   name  \n",
       "Date                                        \n",
       "2020-01-21          0             0  sp500  \n",
       "2020-01-22          0             0  sp500  \n",
       "2020-01-23          0             0  sp500  \n",
       "2020-01-24          0             0  sp500  \n",
       "2020-01-27          0             0  sp500  "
      ]
     },
     "execution_count": 230,
     "metadata": {},
     "output_type": "execute_result"
    }
   ],
   "source": [
    "ticker = yf.Ticker(sp500)\n",
    "dfsp500 = ticker.history(start=start_date, end=end_date)\n",
    "dfsp500['name'] = 'sp500'\n",
    "dfsp500.head()"
   ]
  },
  {
   "cell_type": "code",
   "execution_count": 231,
   "id": "f80aff2d",
   "metadata": {
    "ExecuteTime": {
     "end_time": "2022-05-25T10:02:46.978034Z",
     "start_time": "2022-05-25T10:02:46.689397Z"
    }
   },
   "outputs": [
    {
     "data": {
      "text/html": [
       "<div>\n",
       "<style scoped>\n",
       "    .dataframe tbody tr th:only-of-type {\n",
       "        vertical-align: middle;\n",
       "    }\n",
       "\n",
       "    .dataframe tbody tr th {\n",
       "        vertical-align: top;\n",
       "    }\n",
       "\n",
       "    .dataframe thead th {\n",
       "        text-align: right;\n",
       "    }\n",
       "</style>\n",
       "<table border=\"1\" class=\"dataframe\">\n",
       "  <thead>\n",
       "    <tr style=\"text-align: right;\">\n",
       "      <th></th>\n",
       "      <th>Open</th>\n",
       "      <th>High</th>\n",
       "      <th>Low</th>\n",
       "      <th>Close</th>\n",
       "      <th>Volume</th>\n",
       "      <th>Dividends</th>\n",
       "      <th>Stock Splits</th>\n",
       "      <th>name</th>\n",
       "    </tr>\n",
       "    <tr>\n",
       "      <th>Date</th>\n",
       "      <th></th>\n",
       "      <th></th>\n",
       "      <th></th>\n",
       "      <th></th>\n",
       "      <th></th>\n",
       "      <th></th>\n",
       "      <th></th>\n",
       "      <th></th>\n",
       "    </tr>\n",
       "  </thead>\n",
       "  <tbody>\n",
       "    <tr>\n",
       "      <th>2020-01-21</th>\n",
       "      <td>9145.639648</td>\n",
       "      <td>9187.419922</td>\n",
       "      <td>9141.780273</td>\n",
       "      <td>9166.629883</td>\n",
       "      <td>2684540000</td>\n",
       "      <td>0</td>\n",
       "      <td>0</td>\n",
       "      <td>nasdaq</td>\n",
       "    </tr>\n",
       "    <tr>\n",
       "      <th>2020-01-22</th>\n",
       "      <td>9212.349609</td>\n",
       "      <td>9242.480469</td>\n",
       "      <td>9179.269531</td>\n",
       "      <td>9188.580078</td>\n",
       "      <td>2449390000</td>\n",
       "      <td>0</td>\n",
       "      <td>0</td>\n",
       "      <td>nasdaq</td>\n",
       "    </tr>\n",
       "    <tr>\n",
       "      <th>2020-01-23</th>\n",
       "      <td>9186.139648</td>\n",
       "      <td>9221.129883</td>\n",
       "      <td>9145.230469</td>\n",
       "      <td>9216.980469</td>\n",
       "      <td>2460050000</td>\n",
       "      <td>0</td>\n",
       "      <td>0</td>\n",
       "      <td>nasdaq</td>\n",
       "    </tr>\n",
       "    <tr>\n",
       "      <th>2020-01-24</th>\n",
       "      <td>9266.349609</td>\n",
       "      <td>9272.370117</td>\n",
       "      <td>9101.440430</td>\n",
       "      <td>9141.469727</td>\n",
       "      <td>2611710000</td>\n",
       "      <td>0</td>\n",
       "      <td>0</td>\n",
       "      <td>nasdaq</td>\n",
       "    </tr>\n",
       "    <tr>\n",
       "      <th>2020-01-27</th>\n",
       "      <td>8913.160156</td>\n",
       "      <td>9001.440430</td>\n",
       "      <td>8910.969727</td>\n",
       "      <td>8952.179688</td>\n",
       "      <td>2583330000</td>\n",
       "      <td>0</td>\n",
       "      <td>0</td>\n",
       "      <td>nasdaq</td>\n",
       "    </tr>\n",
       "  </tbody>\n",
       "</table>\n",
       "</div>"
      ],
      "text/plain": [
       "                   Open         High          Low        Close      Volume  \\\n",
       "Date                                                                         \n",
       "2020-01-21  9145.639648  9187.419922  9141.780273  9166.629883  2684540000   \n",
       "2020-01-22  9212.349609  9242.480469  9179.269531  9188.580078  2449390000   \n",
       "2020-01-23  9186.139648  9221.129883  9145.230469  9216.980469  2460050000   \n",
       "2020-01-24  9266.349609  9272.370117  9101.440430  9141.469727  2611710000   \n",
       "2020-01-27  8913.160156  9001.440430  8910.969727  8952.179688  2583330000   \n",
       "\n",
       "            Dividends  Stock Splits    name  \n",
       "Date                                         \n",
       "2020-01-21          0             0  nasdaq  \n",
       "2020-01-22          0             0  nasdaq  \n",
       "2020-01-23          0             0  nasdaq  \n",
       "2020-01-24          0             0  nasdaq  \n",
       "2020-01-27          0             0  nasdaq  "
      ]
     },
     "execution_count": 231,
     "metadata": {},
     "output_type": "execute_result"
    }
   ],
   "source": [
    "ticker = yf.Ticker(nasdaq)\n",
    "dfndx = ticker.history(start=start_date, end=end_date)\n",
    "dfndx['name'] = 'nasdaq'\n",
    "dfndx.head()"
   ]
  },
  {
   "cell_type": "code",
   "execution_count": 239,
   "id": "41951f7e",
   "metadata": {
    "ExecuteTime": {
     "end_time": "2022-05-25T10:07:49.696293Z",
     "start_time": "2022-05-25T10:07:49.680946Z"
    }
   },
   "outputs": [],
   "source": [
    "dfstocks = dfsp500.append(dfndx)"
   ]
  },
  {
   "cell_type": "code",
   "execution_count": 240,
   "id": "0ba84039",
   "metadata": {
    "ExecuteTime": {
     "end_time": "2022-05-25T10:07:50.919962Z",
     "start_time": "2022-05-25T10:07:50.788408Z"
    }
   },
   "outputs": [
    {
     "data": {
      "application/vnd.plotly.v1+json": {
       "config": {
        "plotlyServerURL": "https://plot.ly"
       },
       "data": [
        {
         "hovertemplate": "name=sp500<br>Date=%{x}<br>Close=%{y}<extra></extra>",
         "legendgroup": "sp500",
         "line": {
          "color": "#636efa",
          "dash": "solid"
         },
         "marker": {
          "symbol": "circle"
         },
         "mode": "lines",
         "name": "sp500",
         "showlegend": true,
         "type": "scattergl",
         "x": [
          "2020-01-21T00:00:00",
          "2020-01-22T00:00:00",
          "2020-01-23T00:00:00",
          "2020-01-24T00:00:00",
          "2020-01-27T00:00:00",
          "2020-01-28T00:00:00",
          "2020-01-29T00:00:00",
          "2020-01-30T00:00:00",
          "2020-01-31T00:00:00",
          "2020-02-03T00:00:00",
          "2020-02-04T00:00:00",
          "2020-02-05T00:00:00",
          "2020-02-06T00:00:00",
          "2020-02-07T00:00:00",
          "2020-02-10T00:00:00",
          "2020-02-11T00:00:00",
          "2020-02-12T00:00:00",
          "2020-02-13T00:00:00",
          "2020-02-14T00:00:00",
          "2020-02-18T00:00:00",
          "2020-02-19T00:00:00",
          "2020-02-20T00:00:00",
          "2020-02-21T00:00:00",
          "2020-02-24T00:00:00",
          "2020-02-25T00:00:00",
          "2020-02-26T00:00:00",
          "2020-02-27T00:00:00",
          "2020-02-28T00:00:00",
          "2020-03-02T00:00:00",
          "2020-03-03T00:00:00",
          "2020-03-04T00:00:00",
          "2020-03-05T00:00:00",
          "2020-03-06T00:00:00",
          "2020-03-09T00:00:00",
          "2020-03-10T00:00:00",
          "2020-03-11T00:00:00",
          "2020-03-12T00:00:00",
          "2020-03-13T00:00:00",
          "2020-03-16T00:00:00",
          "2020-03-17T00:00:00",
          "2020-03-18T00:00:00",
          "2020-03-19T00:00:00",
          "2020-03-20T00:00:00",
          "2020-03-23T00:00:00",
          "2020-03-24T00:00:00",
          "2020-03-25T00:00:00",
          "2020-03-26T00:00:00",
          "2020-03-27T00:00:00",
          "2020-03-30T00:00:00",
          "2020-03-31T00:00:00",
          "2020-04-01T00:00:00",
          "2020-04-02T00:00:00",
          "2020-04-03T00:00:00",
          "2020-04-06T00:00:00",
          "2020-04-07T00:00:00",
          "2020-04-08T00:00:00",
          "2020-04-09T00:00:00",
          "2020-04-13T00:00:00",
          "2020-04-14T00:00:00",
          "2020-04-15T00:00:00",
          "2020-04-16T00:00:00",
          "2020-04-17T00:00:00",
          "2020-04-20T00:00:00",
          "2020-04-21T00:00:00",
          "2020-04-22T00:00:00",
          "2020-04-23T00:00:00",
          "2020-04-24T00:00:00",
          "2020-04-27T00:00:00",
          "2020-04-28T00:00:00",
          "2020-04-29T00:00:00",
          "2020-04-30T00:00:00",
          "2020-05-01T00:00:00",
          "2020-05-04T00:00:00",
          "2020-05-05T00:00:00",
          "2020-05-06T00:00:00",
          "2020-05-07T00:00:00",
          "2020-05-08T00:00:00",
          "2020-05-11T00:00:00",
          "2020-05-12T00:00:00",
          "2020-05-13T00:00:00",
          "2020-05-14T00:00:00",
          "2020-05-15T00:00:00",
          "2020-05-18T00:00:00",
          "2020-05-19T00:00:00",
          "2020-05-20T00:00:00",
          "2020-05-21T00:00:00",
          "2020-05-22T00:00:00",
          "2020-05-26T00:00:00",
          "2020-05-27T00:00:00",
          "2020-05-28T00:00:00",
          "2020-05-29T00:00:00",
          "2020-06-01T00:00:00",
          "2020-06-02T00:00:00",
          "2020-06-03T00:00:00",
          "2020-06-04T00:00:00",
          "2020-06-05T00:00:00",
          "2020-06-08T00:00:00",
          "2020-06-09T00:00:00",
          "2020-06-10T00:00:00",
          "2020-06-11T00:00:00",
          "2020-06-12T00:00:00",
          "2020-06-15T00:00:00",
          "2020-06-16T00:00:00",
          "2020-06-17T00:00:00",
          "2020-06-18T00:00:00",
          "2020-06-19T00:00:00",
          "2020-06-22T00:00:00",
          "2020-06-23T00:00:00",
          "2020-06-24T00:00:00",
          "2020-06-25T00:00:00",
          "2020-06-26T00:00:00",
          "2020-06-29T00:00:00",
          "2020-06-30T00:00:00",
          "2020-07-01T00:00:00",
          "2020-07-02T00:00:00",
          "2020-07-06T00:00:00",
          "2020-07-07T00:00:00",
          "2020-07-08T00:00:00",
          "2020-07-09T00:00:00",
          "2020-07-10T00:00:00",
          "2020-07-13T00:00:00",
          "2020-07-14T00:00:00",
          "2020-07-15T00:00:00",
          "2020-07-16T00:00:00",
          "2020-07-17T00:00:00",
          "2020-07-20T00:00:00",
          "2020-07-21T00:00:00",
          "2020-07-22T00:00:00",
          "2020-07-23T00:00:00",
          "2020-07-24T00:00:00",
          "2020-07-27T00:00:00",
          "2020-07-28T00:00:00",
          "2020-07-29T00:00:00",
          "2020-07-30T00:00:00",
          "2020-07-31T00:00:00",
          "2020-08-03T00:00:00",
          "2020-08-04T00:00:00",
          "2020-08-05T00:00:00",
          "2020-08-06T00:00:00",
          "2020-08-07T00:00:00",
          "2020-08-10T00:00:00",
          "2020-08-11T00:00:00",
          "2020-08-12T00:00:00",
          "2020-08-13T00:00:00",
          "2020-08-14T00:00:00",
          "2020-08-17T00:00:00",
          "2020-08-18T00:00:00",
          "2020-08-19T00:00:00",
          "2020-08-20T00:00:00",
          "2020-08-21T00:00:00",
          "2020-08-24T00:00:00",
          "2020-08-25T00:00:00",
          "2020-08-26T00:00:00",
          "2020-08-27T00:00:00",
          "2020-08-28T00:00:00",
          "2020-08-31T00:00:00",
          "2020-09-01T00:00:00",
          "2020-09-02T00:00:00",
          "2020-09-03T00:00:00",
          "2020-09-04T00:00:00",
          "2020-09-08T00:00:00",
          "2020-09-09T00:00:00",
          "2020-09-10T00:00:00",
          "2020-09-11T00:00:00",
          "2020-09-14T00:00:00",
          "2020-09-15T00:00:00",
          "2020-09-16T00:00:00",
          "2020-09-17T00:00:00",
          "2020-09-18T00:00:00",
          "2020-09-21T00:00:00",
          "2020-09-22T00:00:00",
          "2020-09-23T00:00:00",
          "2020-09-24T00:00:00",
          "2020-09-25T00:00:00",
          "2020-09-28T00:00:00",
          "2020-09-29T00:00:00",
          "2020-09-30T00:00:00",
          "2020-10-01T00:00:00",
          "2020-10-02T00:00:00",
          "2020-10-05T00:00:00",
          "2020-10-06T00:00:00",
          "2020-10-07T00:00:00",
          "2020-10-08T00:00:00",
          "2020-10-09T00:00:00",
          "2020-10-12T00:00:00",
          "2020-10-13T00:00:00",
          "2020-10-14T00:00:00",
          "2020-10-15T00:00:00",
          "2020-10-16T00:00:00",
          "2020-10-19T00:00:00",
          "2020-10-20T00:00:00",
          "2020-10-21T00:00:00",
          "2020-10-22T00:00:00",
          "2020-10-23T00:00:00",
          "2020-10-26T00:00:00",
          "2020-10-27T00:00:00",
          "2020-10-28T00:00:00",
          "2020-10-29T00:00:00",
          "2020-10-30T00:00:00",
          "2020-11-02T00:00:00",
          "2020-11-03T00:00:00",
          "2020-11-04T00:00:00",
          "2020-11-05T00:00:00",
          "2020-11-06T00:00:00",
          "2020-11-09T00:00:00",
          "2020-11-10T00:00:00",
          "2020-11-11T00:00:00",
          "2020-11-12T00:00:00",
          "2020-11-13T00:00:00",
          "2020-11-16T00:00:00",
          "2020-11-17T00:00:00",
          "2020-11-18T00:00:00",
          "2020-11-19T00:00:00",
          "2020-11-20T00:00:00",
          "2020-11-23T00:00:00",
          "2020-11-24T00:00:00",
          "2020-11-25T00:00:00",
          "2020-11-27T00:00:00",
          "2020-11-30T00:00:00",
          "2020-12-01T00:00:00",
          "2020-12-02T00:00:00",
          "2020-12-03T00:00:00",
          "2020-12-04T00:00:00",
          "2020-12-07T00:00:00",
          "2020-12-08T00:00:00",
          "2020-12-09T00:00:00",
          "2020-12-10T00:00:00",
          "2020-12-11T00:00:00",
          "2020-12-14T00:00:00",
          "2020-12-15T00:00:00",
          "2020-12-16T00:00:00",
          "2020-12-17T00:00:00",
          "2020-12-18T00:00:00",
          "2020-12-21T00:00:00",
          "2020-12-22T00:00:00",
          "2020-12-23T00:00:00",
          "2020-12-24T00:00:00",
          "2020-12-28T00:00:00",
          "2020-12-29T00:00:00",
          "2020-12-30T00:00:00",
          "2020-12-31T00:00:00",
          "2021-01-04T00:00:00",
          "2021-01-05T00:00:00",
          "2021-01-06T00:00:00",
          "2021-01-07T00:00:00",
          "2021-01-08T00:00:00",
          "2021-01-11T00:00:00",
          "2021-01-12T00:00:00",
          "2021-01-13T00:00:00",
          "2021-01-14T00:00:00",
          "2021-01-15T00:00:00",
          "2021-01-19T00:00:00",
          "2021-01-20T00:00:00",
          "2021-01-21T00:00:00",
          "2021-01-22T00:00:00",
          "2021-01-25T00:00:00",
          "2021-01-26T00:00:00",
          "2021-01-27T00:00:00",
          "2021-01-28T00:00:00",
          "2021-01-29T00:00:00",
          "2021-02-01T00:00:00",
          "2021-02-02T00:00:00",
          "2021-02-03T00:00:00",
          "2021-02-04T00:00:00",
          "2021-02-05T00:00:00",
          "2021-02-08T00:00:00",
          "2021-02-09T00:00:00",
          "2021-02-10T00:00:00",
          "2021-02-11T00:00:00",
          "2021-02-12T00:00:00",
          "2021-02-16T00:00:00",
          "2021-02-17T00:00:00",
          "2021-02-18T00:00:00",
          "2021-02-19T00:00:00",
          "2021-02-22T00:00:00",
          "2021-02-23T00:00:00",
          "2021-02-24T00:00:00",
          "2021-02-25T00:00:00",
          "2021-02-26T00:00:00",
          "2021-03-01T00:00:00",
          "2021-03-02T00:00:00",
          "2021-03-03T00:00:00",
          "2021-03-04T00:00:00",
          "2021-03-05T00:00:00",
          "2021-03-08T00:00:00",
          "2021-03-09T00:00:00",
          "2021-03-10T00:00:00",
          "2021-03-11T00:00:00",
          "2021-03-12T00:00:00",
          "2021-03-15T00:00:00",
          "2021-03-16T00:00:00",
          "2021-03-17T00:00:00",
          "2021-03-18T00:00:00",
          "2021-03-19T00:00:00",
          "2021-03-22T00:00:00",
          "2021-03-23T00:00:00",
          "2021-03-24T00:00:00",
          "2021-03-25T00:00:00",
          "2021-03-26T00:00:00",
          "2021-03-29T00:00:00",
          "2021-03-30T00:00:00",
          "2021-03-31T00:00:00",
          "2021-04-01T00:00:00",
          "2021-04-05T00:00:00",
          "2021-04-06T00:00:00",
          "2021-04-07T00:00:00",
          "2021-04-08T00:00:00",
          "2021-04-09T00:00:00",
          "2021-04-12T00:00:00",
          "2021-04-13T00:00:00",
          "2021-04-14T00:00:00",
          "2021-04-15T00:00:00",
          "2021-04-16T00:00:00",
          "2021-04-19T00:00:00",
          "2021-04-20T00:00:00",
          "2021-04-21T00:00:00",
          "2021-04-22T00:00:00",
          "2021-04-23T00:00:00",
          "2021-04-26T00:00:00",
          "2021-04-27T00:00:00",
          "2021-04-28T00:00:00",
          "2021-04-29T00:00:00",
          "2021-04-30T00:00:00",
          "2021-05-03T00:00:00",
          "2021-05-04T00:00:00",
          "2021-05-05T00:00:00",
          "2021-05-06T00:00:00",
          "2021-05-07T00:00:00",
          "2021-05-10T00:00:00",
          "2021-05-11T00:00:00",
          "2021-05-12T00:00:00",
          "2021-05-13T00:00:00",
          "2021-05-14T00:00:00",
          "2021-05-17T00:00:00",
          "2021-05-18T00:00:00",
          "2021-05-19T00:00:00",
          "2021-05-20T00:00:00",
          "2021-05-21T00:00:00",
          "2021-05-24T00:00:00",
          "2021-05-25T00:00:00",
          "2021-05-26T00:00:00",
          "2021-05-27T00:00:00",
          "2021-05-28T00:00:00",
          "2021-06-01T00:00:00",
          "2021-06-02T00:00:00",
          "2021-06-03T00:00:00",
          "2021-06-04T00:00:00",
          "2021-06-07T00:00:00",
          "2021-06-08T00:00:00",
          "2021-06-09T00:00:00",
          "2021-06-10T00:00:00",
          "2021-06-11T00:00:00",
          "2021-06-14T00:00:00",
          "2021-06-15T00:00:00",
          "2021-06-16T00:00:00",
          "2021-06-17T00:00:00",
          "2021-06-18T00:00:00",
          "2021-06-21T00:00:00",
          "2021-06-22T00:00:00",
          "2021-06-23T00:00:00",
          "2021-06-24T00:00:00",
          "2021-06-25T00:00:00",
          "2021-06-28T00:00:00",
          "2021-06-29T00:00:00",
          "2021-06-30T00:00:00",
          "2021-07-01T00:00:00",
          "2021-07-02T00:00:00",
          "2021-07-06T00:00:00",
          "2021-07-07T00:00:00",
          "2021-07-08T00:00:00",
          "2021-07-09T00:00:00",
          "2021-07-12T00:00:00",
          "2021-07-13T00:00:00",
          "2021-07-14T00:00:00",
          "2021-07-15T00:00:00",
          "2021-07-16T00:00:00",
          "2021-07-19T00:00:00",
          "2021-07-20T00:00:00",
          "2021-07-21T00:00:00",
          "2021-07-22T00:00:00",
          "2021-07-23T00:00:00",
          "2021-07-26T00:00:00",
          "2021-07-27T00:00:00",
          "2021-07-28T00:00:00",
          "2021-07-29T00:00:00",
          "2021-07-30T00:00:00",
          "2021-08-02T00:00:00",
          "2021-08-03T00:00:00",
          "2021-08-04T00:00:00",
          "2021-08-05T00:00:00",
          "2021-08-06T00:00:00",
          "2021-08-09T00:00:00",
          "2021-08-10T00:00:00",
          "2021-08-11T00:00:00",
          "2021-08-12T00:00:00",
          "2021-08-13T00:00:00",
          "2021-08-16T00:00:00",
          "2021-08-17T00:00:00",
          "2021-08-18T00:00:00",
          "2021-08-19T00:00:00",
          "2021-08-20T00:00:00",
          "2021-08-23T00:00:00",
          "2021-08-24T00:00:00",
          "2021-08-25T00:00:00",
          "2021-08-26T00:00:00",
          "2021-08-27T00:00:00",
          "2021-08-30T00:00:00",
          "2021-08-31T00:00:00",
          "2021-09-01T00:00:00",
          "2021-09-02T00:00:00",
          "2021-09-03T00:00:00",
          "2021-09-07T00:00:00",
          "2021-09-08T00:00:00",
          "2021-09-09T00:00:00",
          "2021-09-10T00:00:00",
          "2021-09-13T00:00:00",
          "2021-09-14T00:00:00",
          "2021-09-15T00:00:00",
          "2021-09-16T00:00:00",
          "2021-09-17T00:00:00",
          "2021-09-20T00:00:00",
          "2021-09-21T00:00:00",
          "2021-09-22T00:00:00",
          "2021-09-23T00:00:00",
          "2021-09-24T00:00:00",
          "2021-09-27T00:00:00",
          "2021-09-28T00:00:00",
          "2021-09-29T00:00:00",
          "2021-09-30T00:00:00",
          "2021-10-01T00:00:00",
          "2021-10-04T00:00:00",
          "2021-10-05T00:00:00",
          "2021-10-06T00:00:00",
          "2021-10-07T00:00:00",
          "2021-10-08T00:00:00",
          "2021-10-11T00:00:00",
          "2021-10-12T00:00:00",
          "2021-10-13T00:00:00",
          "2021-10-14T00:00:00",
          "2021-10-15T00:00:00",
          "2021-10-18T00:00:00",
          "2021-10-19T00:00:00",
          "2021-10-20T00:00:00",
          "2021-10-21T00:00:00",
          "2021-10-22T00:00:00",
          "2021-10-25T00:00:00",
          "2021-10-26T00:00:00",
          "2021-10-27T00:00:00",
          "2021-10-28T00:00:00",
          "2021-10-29T00:00:00",
          "2021-11-01T00:00:00",
          "2021-11-02T00:00:00",
          "2021-11-03T00:00:00",
          "2021-11-04T00:00:00",
          "2021-11-05T00:00:00",
          "2021-11-08T00:00:00",
          "2021-11-09T00:00:00",
          "2021-11-10T00:00:00",
          "2021-11-11T00:00:00",
          "2021-11-12T00:00:00",
          "2021-11-15T00:00:00",
          "2021-11-16T00:00:00",
          "2021-11-17T00:00:00",
          "2021-11-18T00:00:00",
          "2021-11-19T00:00:00",
          "2021-11-22T00:00:00",
          "2021-11-23T00:00:00",
          "2021-11-24T00:00:00",
          "2021-11-26T00:00:00",
          "2021-11-29T00:00:00",
          "2021-11-30T00:00:00",
          "2021-12-01T00:00:00",
          "2021-12-02T00:00:00",
          "2021-12-03T00:00:00",
          "2021-12-06T00:00:00",
          "2021-12-07T00:00:00",
          "2021-12-08T00:00:00",
          "2021-12-09T00:00:00",
          "2021-12-10T00:00:00",
          "2021-12-13T00:00:00",
          "2021-12-14T00:00:00",
          "2021-12-15T00:00:00",
          "2021-12-16T00:00:00",
          "2021-12-17T00:00:00",
          "2021-12-20T00:00:00",
          "2021-12-21T00:00:00",
          "2021-12-22T00:00:00",
          "2021-12-23T00:00:00",
          "2021-12-27T00:00:00",
          "2021-12-28T00:00:00",
          "2021-12-29T00:00:00",
          "2021-12-30T00:00:00",
          "2021-12-31T00:00:00",
          "2022-01-03T00:00:00",
          "2022-01-04T00:00:00",
          "2022-01-05T00:00:00",
          "2022-01-06T00:00:00",
          "2022-01-07T00:00:00",
          "2022-01-10T00:00:00",
          "2022-01-11T00:00:00",
          "2022-01-12T00:00:00",
          "2022-01-13T00:00:00",
          "2022-01-14T00:00:00",
          "2022-01-18T00:00:00",
          "2022-01-19T00:00:00",
          "2022-01-20T00:00:00",
          "2022-01-21T00:00:00",
          "2022-01-24T00:00:00",
          "2022-01-25T00:00:00",
          "2022-01-26T00:00:00",
          "2022-01-27T00:00:00",
          "2022-01-28T00:00:00",
          "2022-01-31T00:00:00",
          "2022-02-01T00:00:00",
          "2022-02-02T00:00:00",
          "2022-02-03T00:00:00",
          "2022-02-04T00:00:00",
          "2022-02-07T00:00:00",
          "2022-02-08T00:00:00",
          "2022-02-09T00:00:00",
          "2022-02-10T00:00:00",
          "2022-02-11T00:00:00",
          "2022-02-14T00:00:00",
          "2022-02-15T00:00:00",
          "2022-02-16T00:00:00",
          "2022-02-17T00:00:00",
          "2022-02-18T00:00:00",
          "2022-02-22T00:00:00",
          "2022-02-23T00:00:00",
          "2022-02-24T00:00:00",
          "2022-02-25T00:00:00",
          "2022-02-28T00:00:00",
          "2022-03-01T00:00:00",
          "2022-03-02T00:00:00",
          "2022-03-03T00:00:00",
          "2022-03-04T00:00:00",
          "2022-03-07T00:00:00",
          "2022-03-08T00:00:00",
          "2022-03-09T00:00:00",
          "2022-03-10T00:00:00",
          "2022-03-11T00:00:00",
          "2022-03-14T00:00:00",
          "2022-03-15T00:00:00",
          "2022-03-16T00:00:00",
          "2022-03-17T00:00:00",
          "2022-03-18T00:00:00",
          "2022-03-21T00:00:00",
          "2022-03-22T00:00:00",
          "2022-03-23T00:00:00",
          "2022-03-24T00:00:00",
          "2022-03-25T00:00:00",
          "2022-03-28T00:00:00",
          "2022-03-29T00:00:00",
          "2022-03-30T00:00:00",
          "2022-03-31T00:00:00",
          "2022-04-01T00:00:00",
          "2022-04-04T00:00:00",
          "2022-04-05T00:00:00",
          "2022-04-06T00:00:00",
          "2022-04-07T00:00:00",
          "2022-04-08T00:00:00",
          "2022-04-11T00:00:00",
          "2022-04-12T00:00:00",
          "2022-04-13T00:00:00",
          "2022-04-14T00:00:00",
          "2022-04-18T00:00:00",
          "2022-04-19T00:00:00",
          "2022-04-20T00:00:00",
          "2022-04-21T00:00:00",
          "2022-04-22T00:00:00",
          "2022-04-25T00:00:00",
          "2022-04-26T00:00:00",
          "2022-04-27T00:00:00",
          "2022-04-28T00:00:00",
          "2022-04-29T00:00:00",
          "2022-05-02T00:00:00",
          "2022-05-03T00:00:00",
          "2022-05-04T00:00:00",
          "2022-05-05T00:00:00",
          "2022-05-06T00:00:00",
          "2022-05-09T00:00:00",
          "2022-05-10T00:00:00",
          "2022-05-11T00:00:00",
          "2022-05-12T00:00:00",
          "2022-05-13T00:00:00",
          "2022-05-16T00:00:00",
          "2022-05-17T00:00:00",
          "2022-05-18T00:00:00",
          "2022-05-19T00:00:00",
          "2022-05-20T00:00:00"
         ],
         "xaxis": "x",
         "y": [
          3320.7900390625,
          3321.75,
          3325.5400390625,
          3295.469970703125,
          3243.6298828125,
          3276.239990234375,
          3273.39990234375,
          3283.659912109375,
          3225.52001953125,
          3248.919921875,
          3297.590087890625,
          3334.68994140625,
          3345.780029296875,
          3327.7099609375,
          3352.090087890625,
          3357.75,
          3379.449951171875,
          3373.93994140625,
          3380.159912109375,
          3370.2900390625,
          3386.14990234375,
          3373.22998046875,
          3337.75,
          3225.889892578125,
          3128.2099609375,
          3116.389892578125,
          2978.760009765625,
          2954.219970703125,
          3090.22998046875,
          3003.3701171875,
          3130.1201171875,
          3023.93994140625,
          2972.3701171875,
          2746.56005859375,
          2882.22998046875,
          2741.3798828125,
          2480.639892578125,
          2711.02001953125,
          2386.1298828125,
          2529.18994140625,
          2398.10009765625,
          2409.389892578125,
          2304.919921875,
          2237.39990234375,
          2447.330078125,
          2475.56005859375,
          2630.070068359375,
          2541.469970703125,
          2626.64990234375,
          2584.590087890625,
          2470.5,
          2526.89990234375,
          2488.64990234375,
          2663.679931640625,
          2659.409912109375,
          2749.97998046875,
          2789.820068359375,
          2761.6298828125,
          2846.06005859375,
          2783.360107421875,
          2799.550048828125,
          2874.56005859375,
          2823.159912109375,
          2736.56005859375,
          2799.31005859375,
          2797.800048828125,
          2836.739990234375,
          2878.47998046875,
          2863.389892578125,
          2939.510009765625,
          2912.429931640625,
          2830.7099609375,
          2842.739990234375,
          2868.43994140625,
          2848.419921875,
          2881.18994140625,
          2929.800048828125,
          2930.18994140625,
          2870.1201171875,
          2820,
          2852.5,
          2863.699951171875,
          2953.909912109375,
          2922.93994140625,
          2971.610107421875,
          2948.510009765625,
          2955.449951171875,
          2991.77001953125,
          3036.1298828125,
          3029.72998046875,
          3044.31005859375,
          3055.72998046875,
          3080.820068359375,
          3122.8701171875,
          3112.35009765625,
          3193.929931640625,
          3232.389892578125,
          3207.179931640625,
          3190.139892578125,
          3002.10009765625,
          3041.31005859375,
          3066.590087890625,
          3124.739990234375,
          3113.489990234375,
          3115.340087890625,
          3097.739990234375,
          3117.860107421875,
          3131.2900390625,
          3050.330078125,
          3083.760009765625,
          3009.050048828125,
          3053.239990234375,
          3100.2900390625,
          3115.860107421875,
          3130.010009765625,
          3179.719970703125,
          3145.320068359375,
          3169.93994140625,
          3152.050048828125,
          3185.0400390625,
          3155.219970703125,
          3197.52001953125,
          3226.56005859375,
          3215.570068359375,
          3224.72998046875,
          3251.840087890625,
          3257.300048828125,
          3276.02001953125,
          3235.659912109375,
          3215.6298828125,
          3239.409912109375,
          3218.43994140625,
          3258.43994140625,
          3246.219970703125,
          3271.1201171875,
          3294.610107421875,
          3306.510009765625,
          3327.77001953125,
          3349.159912109375,
          3351.280029296875,
          3360.469970703125,
          3333.68994140625,
          3380.35009765625,
          3373.429931640625,
          3372.85009765625,
          3381.989990234375,
          3389.780029296875,
          3374.85009765625,
          3385.510009765625,
          3397.159912109375,
          3431.280029296875,
          3443.6201171875,
          3478.72998046875,
          3484.550048828125,
          3508.010009765625,
          3500.31005859375,
          3526.64990234375,
          3580.840087890625,
          3455.06005859375,
          3426.9599609375,
          3331.840087890625,
          3398.9599609375,
          3339.18994140625,
          3340.969970703125,
          3383.5400390625,
          3401.199951171875,
          3385.489990234375,
          3357.010009765625,
          3319.469970703125,
          3281.06005859375,
          3315.570068359375,
          3236.919921875,
          3246.590087890625,
          3298.4599609375,
          3351.60009765625,
          3335.469970703125,
          3363,
          3380.800048828125,
          3348.419921875,
          3408.60009765625,
          3360.969970703125,
          3419.43994140625,
          3446.830078125,
          3477.139892578125,
          3534.219970703125,
          3511.929931640625,
          3488.669921875,
          3483.340087890625,
          3483.81005859375,
          3426.919921875,
          3443.1201171875,
          3435.56005859375,
          3453.489990234375,
          3465.389892578125,
          3400.969970703125,
          3390.679931640625,
          3271.030029296875,
          3310.110107421875,
          3269.9599609375,
          3310.239990234375,
          3369.159912109375,
          3443.43994140625,
          3510.449951171875,
          3509.43994140625,
          3550.5,
          3545.530029296875,
          3572.659912109375,
          3537.010009765625,
          3585.14990234375,
          3626.909912109375,
          3609.530029296875,
          3567.7900390625,
          3581.8701171875,
          3557.5400390625,
          3577.590087890625,
          3635.409912109375,
          3629.64990234375,
          3638.35009765625,
          3621.6298828125,
          3662.449951171875,
          3669.010009765625,
          3666.719970703125,
          3699.1201171875,
          3691.9599609375,
          3702.25,
          3672.820068359375,
          3668.10009765625,
          3663.4599609375,
          3647.489990234375,
          3694.6201171875,
          3701.169921875,
          3722.47998046875,
          3709.409912109375,
          3694.919921875,
          3687.260009765625,
          3690.010009765625,
          3703.06005859375,
          3735.360107421875,
          3727.0400390625,
          3732.0400390625,
          3756.070068359375,
          3700.64990234375,
          3726.860107421875,
          3748.139892578125,
          3803.7900390625,
          3824.679931640625,
          3799.610107421875,
          3801.18994140625,
          3809.840087890625,
          3795.5400390625,
          3768.25,
          3798.909912109375,
          3851.85009765625,
          3853.070068359375,
          3841.469970703125,
          3855.360107421875,
          3849.6201171875,
          3750.77001953125,
          3787.3798828125,
          3714.239990234375,
          3773.860107421875,
          3826.31005859375,
          3830.169921875,
          3871.739990234375,
          3886.830078125,
          3915.590087890625,
          3911.22998046875,
          3909.8798828125,
          3916.3798828125,
          3934.830078125,
          3932.590087890625,
          3931.330078125,
          3913.969970703125,
          3906.7099609375,
          3876.5,
          3881.3701171875,
          3925.429931640625,
          3829.340087890625,
          3811.14990234375,
          3901.820068359375,
          3870.2900390625,
          3819.719970703125,
          3768.469970703125,
          3841.93994140625,
          3821.35009765625,
          3875.43994140625,
          3898.81005859375,
          3939.340087890625,
          3943.340087890625,
          3968.93994140625,
          3962.7099609375,
          3974.1201171875,
          3915.4599609375,
          3913.10009765625,
          3940.590087890625,
          3910.52001953125,
          3889.139892578125,
          3909.52001953125,
          3974.5400390625,
          3971.090087890625,
          3958.550048828125,
          3972.889892578125,
          4019.8701171875,
          4077.909912109375,
          4073.93994140625,
          4079.949951171875,
          4097.169921875,
          4128.7998046875,
          4127.990234375,
          4141.58984375,
          4124.66015625,
          4170.419921875,
          4185.47021484375,
          4163.259765625,
          4134.93994140625,
          4173.419921875,
          4134.97998046875,
          4180.169921875,
          4187.6201171875,
          4186.72021484375,
          4183.18017578125,
          4211.47021484375,
          4181.169921875,
          4192.66015625,
          4164.66015625,
          4167.58984375,
          4201.6201171875,
          4232.60009765625,
          4188.43017578125,
          4152.10009765625,
          4063.0400390625,
          4112.5,
          4173.85009765625,
          4163.2900390625,
          4127.830078125,
          4115.68017578125,
          4159.1201171875,
          4155.85986328125,
          4197.0498046875,
          4188.1298828125,
          4195.990234375,
          4200.8798828125,
          4204.10986328125,
          4202.0400390625,
          4208.1201171875,
          4192.85009765625,
          4229.89013671875,
          4226.52001953125,
          4227.259765625,
          4219.5498046875,
          4239.18017578125,
          4247.43994140625,
          4255.14990234375,
          4246.58984375,
          4223.7001953125,
          4221.85986328125,
          4166.4501953125,
          4224.7900390625,
          4246.43994140625,
          4241.83984375,
          4266.490234375,
          4280.7001953125,
          4290.60986328125,
          4291.7998046875,
          4297.5,
          4319.93994140625,
          4352.33984375,
          4343.5400390625,
          4358.1298828125,
          4320.81982421875,
          4369.5498046875,
          4384.6298828125,
          4369.2099609375,
          4374.2998046875,
          4360.02978515625,
          4327.16015625,
          4258.490234375,
          4323.06005859375,
          4358.68994140625,
          4367.47998046875,
          4411.7900390625,
          4422.2998046875,
          4401.4599609375,
          4400.64013671875,
          4419.14990234375,
          4395.259765625,
          4387.16015625,
          4423.14990234375,
          4402.66015625,
          4429.10009765625,
          4436.52001953125,
          4432.35009765625,
          4436.75,
          4442.41015625,
          4460.830078125,
          4468,
          4479.7099609375,
          4448.080078125,
          4400.27001953125,
          4405.7998046875,
          4441.669921875,
          4479.52978515625,
          4486.22998046875,
          4496.18994140625,
          4470,
          4509.3701171875,
          4528.7900390625,
          4522.68017578125,
          4524.08984375,
          4536.9501953125,
          4535.43017578125,
          4520.02978515625,
          4514.06982421875,
          4493.27978515625,
          4458.580078125,
          4468.72998046875,
          4443.0498046875,
          4480.7001953125,
          4473.75,
          4432.990234375,
          4357.72998046875,
          4354.18994140625,
          4395.64013671875,
          4448.97998046875,
          4455.47998046875,
          4443.10986328125,
          4352.6298828125,
          4359.4599609375,
          4307.5400390625,
          4357.0400390625,
          4300.4599609375,
          4345.72021484375,
          4363.5498046875,
          4399.759765625,
          4391.33984375,
          4361.18994140625,
          4350.64990234375,
          4363.7998046875,
          4438.259765625,
          4471.3701171875,
          4486.4599609375,
          4519.6298828125,
          4536.18994140625,
          4549.77978515625,
          4544.89990234375,
          4566.47998046875,
          4574.7900390625,
          4551.68017578125,
          4596.419921875,
          4605.3798828125,
          4613.669921875,
          4630.64990234375,
          4660.56982421875,
          4680.06005859375,
          4697.52978515625,
          4701.7001953125,
          4685.25,
          4646.7099609375,
          4649.27001953125,
          4682.85009765625,
          4682.7998046875,
          4700.89990234375,
          4688.669921875,
          4704.5400390625,
          4697.9599609375,
          4682.93994140625,
          4690.7001953125,
          4701.4599609375,
          4594.6201171875,
          4655.27001953125,
          4567,
          4513.0400390625,
          4577.10009765625,
          4538.43017578125,
          4591.669921875,
          4686.75,
          4701.2099609375,
          4667.4501953125,
          4712.02001953125,
          4668.97021484375,
          4634.08984375,
          4709.85009765625,
          4668.669921875,
          4620.64013671875,
          4568.02001953125,
          4649.22998046875,
          4696.56005859375,
          4725.7900390625,
          4791.18994140625,
          4786.35009765625,
          4793.06005859375,
          4778.72998046875,
          4766.18017578125,
          4796.56005859375,
          4793.5400390625,
          4700.580078125,
          4696.0498046875,
          4677.02978515625,
          4670.2900390625,
          4713.06982421875,
          4726.35009765625,
          4659.02978515625,
          4662.85009765625,
          4577.10986328125,
          4532.759765625,
          4482.72998046875,
          4397.93994140625,
          4410.1298828125,
          4356.4501953125,
          4349.93017578125,
          4326.509765625,
          4431.85009765625,
          4515.5498046875,
          4546.5400390625,
          4589.3798828125,
          4477.43994140625,
          4500.52978515625,
          4483.8701171875,
          4521.5400390625,
          4587.18017578125,
          4504.080078125,
          4418.64013671875,
          4401.669921875,
          4471.06982421875,
          4475.009765625,
          4380.259765625,
          4348.8701171875,
          4304.759765625,
          4225.5,
          4288.7001953125,
          4384.64990234375,
          4373.93994140625,
          4306.259765625,
          4386.5400390625,
          4363.490234375,
          4328.8701171875,
          4201.08984375,
          4170.7001953125,
          4277.8798828125,
          4259.52001953125,
          4204.31005859375,
          4173.10986328125,
          4262.4501953125,
          4357.85986328125,
          4411.669921875,
          4463.1201171875,
          4461.18017578125,
          4511.60986328125,
          4456.240234375,
          4520.16015625,
          4543.06005859375,
          4575.52001953125,
          4631.60009765625,
          4602.4501953125,
          4530.41015625,
          4545.85986328125,
          4582.64013671875,
          4525.1201171875,
          4481.14990234375,
          4500.2099609375,
          4488.27978515625,
          4412.52978515625,
          4397.4501953125,
          4446.58984375,
          4392.58984375,
          4391.68994140625,
          4462.2099609375,
          4459.4501953125,
          4393.66015625,
          4271.77978515625,
          4296.1201171875,
          4175.2001953125,
          4183.9599609375,
          4287.5,
          4131.93017578125,
          4155.3798828125,
          4175.47998046875,
          4300.169921875,
          4146.8701171875,
          4123.33984375,
          3991.239990234375,
          4001.050048828125,
          3935.179931640625,
          3930.080078125,
          4023.889892578125,
          4008.010009765625,
          4088.85009765625,
          3923.679931640625,
          3900.7900390625,
          3901.360107421875
         ],
         "yaxis": "y"
        },
        {
         "hovertemplate": "name=nasdaq<br>Date=%{x}<br>Close=%{y}<extra></extra>",
         "legendgroup": "nasdaq",
         "line": {
          "color": "#EF553B",
          "dash": "solid"
         },
         "marker": {
          "symbol": "circle"
         },
         "mode": "lines",
         "name": "nasdaq",
         "showlegend": true,
         "type": "scattergl",
         "x": [
          "2020-01-21T00:00:00",
          "2020-01-22T00:00:00",
          "2020-01-23T00:00:00",
          "2020-01-24T00:00:00",
          "2020-01-27T00:00:00",
          "2020-01-28T00:00:00",
          "2020-01-29T00:00:00",
          "2020-01-30T00:00:00",
          "2020-01-31T00:00:00",
          "2020-02-03T00:00:00",
          "2020-02-04T00:00:00",
          "2020-02-05T00:00:00",
          "2020-02-06T00:00:00",
          "2020-02-07T00:00:00",
          "2020-02-10T00:00:00",
          "2020-02-11T00:00:00",
          "2020-02-12T00:00:00",
          "2020-02-13T00:00:00",
          "2020-02-14T00:00:00",
          "2020-02-18T00:00:00",
          "2020-02-19T00:00:00",
          "2020-02-20T00:00:00",
          "2020-02-21T00:00:00",
          "2020-02-24T00:00:00",
          "2020-02-25T00:00:00",
          "2020-02-26T00:00:00",
          "2020-02-27T00:00:00",
          "2020-02-28T00:00:00",
          "2020-03-02T00:00:00",
          "2020-03-03T00:00:00",
          "2020-03-04T00:00:00",
          "2020-03-05T00:00:00",
          "2020-03-06T00:00:00",
          "2020-03-09T00:00:00",
          "2020-03-10T00:00:00",
          "2020-03-11T00:00:00",
          "2020-03-12T00:00:00",
          "2020-03-13T00:00:00",
          "2020-03-16T00:00:00",
          "2020-03-17T00:00:00",
          "2020-03-18T00:00:00",
          "2020-03-19T00:00:00",
          "2020-03-20T00:00:00",
          "2020-03-23T00:00:00",
          "2020-03-24T00:00:00",
          "2020-03-25T00:00:00",
          "2020-03-26T00:00:00",
          "2020-03-27T00:00:00",
          "2020-03-30T00:00:00",
          "2020-03-31T00:00:00",
          "2020-04-01T00:00:00",
          "2020-04-02T00:00:00",
          "2020-04-03T00:00:00",
          "2020-04-06T00:00:00",
          "2020-04-07T00:00:00",
          "2020-04-08T00:00:00",
          "2020-04-09T00:00:00",
          "2020-04-13T00:00:00",
          "2020-04-14T00:00:00",
          "2020-04-15T00:00:00",
          "2020-04-16T00:00:00",
          "2020-04-17T00:00:00",
          "2020-04-20T00:00:00",
          "2020-04-21T00:00:00",
          "2020-04-22T00:00:00",
          "2020-04-23T00:00:00",
          "2020-04-24T00:00:00",
          "2020-04-27T00:00:00",
          "2020-04-28T00:00:00",
          "2020-04-29T00:00:00",
          "2020-04-30T00:00:00",
          "2020-05-01T00:00:00",
          "2020-05-04T00:00:00",
          "2020-05-05T00:00:00",
          "2020-05-06T00:00:00",
          "2020-05-07T00:00:00",
          "2020-05-08T00:00:00",
          "2020-05-11T00:00:00",
          "2020-05-12T00:00:00",
          "2020-05-13T00:00:00",
          "2020-05-14T00:00:00",
          "2020-05-15T00:00:00",
          "2020-05-18T00:00:00",
          "2020-05-19T00:00:00",
          "2020-05-20T00:00:00",
          "2020-05-21T00:00:00",
          "2020-05-22T00:00:00",
          "2020-05-26T00:00:00",
          "2020-05-27T00:00:00",
          "2020-05-28T00:00:00",
          "2020-05-29T00:00:00",
          "2020-06-01T00:00:00",
          "2020-06-02T00:00:00",
          "2020-06-03T00:00:00",
          "2020-06-04T00:00:00",
          "2020-06-05T00:00:00",
          "2020-06-08T00:00:00",
          "2020-06-09T00:00:00",
          "2020-06-10T00:00:00",
          "2020-06-11T00:00:00",
          "2020-06-12T00:00:00",
          "2020-06-15T00:00:00",
          "2020-06-16T00:00:00",
          "2020-06-17T00:00:00",
          "2020-06-18T00:00:00",
          "2020-06-19T00:00:00",
          "2020-06-22T00:00:00",
          "2020-06-23T00:00:00",
          "2020-06-24T00:00:00",
          "2020-06-25T00:00:00",
          "2020-06-26T00:00:00",
          "2020-06-29T00:00:00",
          "2020-06-30T00:00:00",
          "2020-07-01T00:00:00",
          "2020-07-02T00:00:00",
          "2020-07-06T00:00:00",
          "2020-07-07T00:00:00",
          "2020-07-08T00:00:00",
          "2020-07-09T00:00:00",
          "2020-07-10T00:00:00",
          "2020-07-13T00:00:00",
          "2020-07-14T00:00:00",
          "2020-07-15T00:00:00",
          "2020-07-16T00:00:00",
          "2020-07-17T00:00:00",
          "2020-07-20T00:00:00",
          "2020-07-21T00:00:00",
          "2020-07-22T00:00:00",
          "2020-07-23T00:00:00",
          "2020-07-24T00:00:00",
          "2020-07-27T00:00:00",
          "2020-07-28T00:00:00",
          "2020-07-29T00:00:00",
          "2020-07-30T00:00:00",
          "2020-07-31T00:00:00",
          "2020-08-03T00:00:00",
          "2020-08-04T00:00:00",
          "2020-08-05T00:00:00",
          "2020-08-06T00:00:00",
          "2020-08-07T00:00:00",
          "2020-08-10T00:00:00",
          "2020-08-11T00:00:00",
          "2020-08-12T00:00:00",
          "2020-08-13T00:00:00",
          "2020-08-14T00:00:00",
          "2020-08-17T00:00:00",
          "2020-08-18T00:00:00",
          "2020-08-19T00:00:00",
          "2020-08-20T00:00:00",
          "2020-08-21T00:00:00",
          "2020-08-24T00:00:00",
          "2020-08-25T00:00:00",
          "2020-08-26T00:00:00",
          "2020-08-27T00:00:00",
          "2020-08-28T00:00:00",
          "2020-08-31T00:00:00",
          "2020-09-01T00:00:00",
          "2020-09-02T00:00:00",
          "2020-09-03T00:00:00",
          "2020-09-04T00:00:00",
          "2020-09-08T00:00:00",
          "2020-09-09T00:00:00",
          "2020-09-10T00:00:00",
          "2020-09-11T00:00:00",
          "2020-09-14T00:00:00",
          "2020-09-15T00:00:00",
          "2020-09-16T00:00:00",
          "2020-09-17T00:00:00",
          "2020-09-18T00:00:00",
          "2020-09-21T00:00:00",
          "2020-09-22T00:00:00",
          "2020-09-23T00:00:00",
          "2020-09-24T00:00:00",
          "2020-09-25T00:00:00",
          "2020-09-28T00:00:00",
          "2020-09-29T00:00:00",
          "2020-09-30T00:00:00",
          "2020-10-01T00:00:00",
          "2020-10-02T00:00:00",
          "2020-10-05T00:00:00",
          "2020-10-06T00:00:00",
          "2020-10-07T00:00:00",
          "2020-10-08T00:00:00",
          "2020-10-09T00:00:00",
          "2020-10-12T00:00:00",
          "2020-10-13T00:00:00",
          "2020-10-14T00:00:00",
          "2020-10-15T00:00:00",
          "2020-10-16T00:00:00",
          "2020-10-19T00:00:00",
          "2020-10-20T00:00:00",
          "2020-10-21T00:00:00",
          "2020-10-22T00:00:00",
          "2020-10-23T00:00:00",
          "2020-10-26T00:00:00",
          "2020-10-27T00:00:00",
          "2020-10-28T00:00:00",
          "2020-10-29T00:00:00",
          "2020-10-30T00:00:00",
          "2020-11-02T00:00:00",
          "2020-11-03T00:00:00",
          "2020-11-04T00:00:00",
          "2020-11-05T00:00:00",
          "2020-11-06T00:00:00",
          "2020-11-09T00:00:00",
          "2020-11-10T00:00:00",
          "2020-11-11T00:00:00",
          "2020-11-12T00:00:00",
          "2020-11-13T00:00:00",
          "2020-11-16T00:00:00",
          "2020-11-17T00:00:00",
          "2020-11-18T00:00:00",
          "2020-11-19T00:00:00",
          "2020-11-20T00:00:00",
          "2020-11-23T00:00:00",
          "2020-11-24T00:00:00",
          "2020-11-25T00:00:00",
          "2020-11-27T00:00:00",
          "2020-11-30T00:00:00",
          "2020-12-01T00:00:00",
          "2020-12-02T00:00:00",
          "2020-12-03T00:00:00",
          "2020-12-04T00:00:00",
          "2020-12-07T00:00:00",
          "2020-12-08T00:00:00",
          "2020-12-09T00:00:00",
          "2020-12-10T00:00:00",
          "2020-12-11T00:00:00",
          "2020-12-14T00:00:00",
          "2020-12-15T00:00:00",
          "2020-12-16T00:00:00",
          "2020-12-17T00:00:00",
          "2020-12-18T00:00:00",
          "2020-12-21T00:00:00",
          "2020-12-22T00:00:00",
          "2020-12-23T00:00:00",
          "2020-12-24T00:00:00",
          "2020-12-28T00:00:00",
          "2020-12-29T00:00:00",
          "2020-12-30T00:00:00",
          "2020-12-31T00:00:00",
          "2021-01-04T00:00:00",
          "2021-01-05T00:00:00",
          "2021-01-06T00:00:00",
          "2021-01-07T00:00:00",
          "2021-01-08T00:00:00",
          "2021-01-11T00:00:00",
          "2021-01-12T00:00:00",
          "2021-01-13T00:00:00",
          "2021-01-14T00:00:00",
          "2021-01-15T00:00:00",
          "2021-01-19T00:00:00",
          "2021-01-20T00:00:00",
          "2021-01-21T00:00:00",
          "2021-01-22T00:00:00",
          "2021-01-25T00:00:00",
          "2021-01-26T00:00:00",
          "2021-01-27T00:00:00",
          "2021-01-28T00:00:00",
          "2021-01-29T00:00:00",
          "2021-02-01T00:00:00",
          "2021-02-02T00:00:00",
          "2021-02-03T00:00:00",
          "2021-02-04T00:00:00",
          "2021-02-05T00:00:00",
          "2021-02-08T00:00:00",
          "2021-02-09T00:00:00",
          "2021-02-10T00:00:00",
          "2021-02-11T00:00:00",
          "2021-02-12T00:00:00",
          "2021-02-16T00:00:00",
          "2021-02-17T00:00:00",
          "2021-02-18T00:00:00",
          "2021-02-19T00:00:00",
          "2021-02-22T00:00:00",
          "2021-02-23T00:00:00",
          "2021-02-24T00:00:00",
          "2021-02-25T00:00:00",
          "2021-02-26T00:00:00",
          "2021-03-01T00:00:00",
          "2021-03-02T00:00:00",
          "2021-03-03T00:00:00",
          "2021-03-04T00:00:00",
          "2021-03-05T00:00:00",
          "2021-03-08T00:00:00",
          "2021-03-09T00:00:00",
          "2021-03-10T00:00:00",
          "2021-03-11T00:00:00",
          "2021-03-12T00:00:00",
          "2021-03-15T00:00:00",
          "2021-03-16T00:00:00",
          "2021-03-17T00:00:00",
          "2021-03-18T00:00:00",
          "2021-03-19T00:00:00",
          "2021-03-22T00:00:00",
          "2021-03-23T00:00:00",
          "2021-03-24T00:00:00",
          "2021-03-25T00:00:00",
          "2021-03-26T00:00:00",
          "2021-03-29T00:00:00",
          "2021-03-30T00:00:00",
          "2021-03-31T00:00:00",
          "2021-04-01T00:00:00",
          "2021-04-05T00:00:00",
          "2021-04-06T00:00:00",
          "2021-04-07T00:00:00",
          "2021-04-08T00:00:00",
          "2021-04-09T00:00:00",
          "2021-04-12T00:00:00",
          "2021-04-13T00:00:00",
          "2021-04-14T00:00:00",
          "2021-04-15T00:00:00",
          "2021-04-16T00:00:00",
          "2021-04-19T00:00:00",
          "2021-04-20T00:00:00",
          "2021-04-21T00:00:00",
          "2021-04-22T00:00:00",
          "2021-04-23T00:00:00",
          "2021-04-26T00:00:00",
          "2021-04-27T00:00:00",
          "2021-04-28T00:00:00",
          "2021-04-29T00:00:00",
          "2021-04-30T00:00:00",
          "2021-05-03T00:00:00",
          "2021-05-04T00:00:00",
          "2021-05-05T00:00:00",
          "2021-05-06T00:00:00",
          "2021-05-07T00:00:00",
          "2021-05-10T00:00:00",
          "2021-05-11T00:00:00",
          "2021-05-12T00:00:00",
          "2021-05-13T00:00:00",
          "2021-05-14T00:00:00",
          "2021-05-17T00:00:00",
          "2021-05-18T00:00:00",
          "2021-05-19T00:00:00",
          "2021-05-20T00:00:00",
          "2021-05-21T00:00:00",
          "2021-05-24T00:00:00",
          "2021-05-25T00:00:00",
          "2021-05-26T00:00:00",
          "2021-05-27T00:00:00",
          "2021-05-28T00:00:00",
          "2021-06-01T00:00:00",
          "2021-06-02T00:00:00",
          "2021-06-03T00:00:00",
          "2021-06-04T00:00:00",
          "2021-06-07T00:00:00",
          "2021-06-08T00:00:00",
          "2021-06-09T00:00:00",
          "2021-06-10T00:00:00",
          "2021-06-11T00:00:00",
          "2021-06-14T00:00:00",
          "2021-06-15T00:00:00",
          "2021-06-16T00:00:00",
          "2021-06-17T00:00:00",
          "2021-06-18T00:00:00",
          "2021-06-21T00:00:00",
          "2021-06-22T00:00:00",
          "2021-06-23T00:00:00",
          "2021-06-24T00:00:00",
          "2021-06-25T00:00:00",
          "2021-06-28T00:00:00",
          "2021-06-29T00:00:00",
          "2021-06-30T00:00:00",
          "2021-07-01T00:00:00",
          "2021-07-02T00:00:00",
          "2021-07-06T00:00:00",
          "2021-07-07T00:00:00",
          "2021-07-08T00:00:00",
          "2021-07-09T00:00:00",
          "2021-07-12T00:00:00",
          "2021-07-13T00:00:00",
          "2021-07-14T00:00:00",
          "2021-07-15T00:00:00",
          "2021-07-16T00:00:00",
          "2021-07-19T00:00:00",
          "2021-07-20T00:00:00",
          "2021-07-21T00:00:00",
          "2021-07-22T00:00:00",
          "2021-07-23T00:00:00",
          "2021-07-26T00:00:00",
          "2021-07-27T00:00:00",
          "2021-07-28T00:00:00",
          "2021-07-29T00:00:00",
          "2021-07-30T00:00:00",
          "2021-08-02T00:00:00",
          "2021-08-03T00:00:00",
          "2021-08-04T00:00:00",
          "2021-08-05T00:00:00",
          "2021-08-06T00:00:00",
          "2021-08-09T00:00:00",
          "2021-08-10T00:00:00",
          "2021-08-11T00:00:00",
          "2021-08-12T00:00:00",
          "2021-08-13T00:00:00",
          "2021-08-16T00:00:00",
          "2021-08-17T00:00:00",
          "2021-08-18T00:00:00",
          "2021-08-19T00:00:00",
          "2021-08-20T00:00:00",
          "2021-08-23T00:00:00",
          "2021-08-24T00:00:00",
          "2021-08-25T00:00:00",
          "2021-08-26T00:00:00",
          "2021-08-27T00:00:00",
          "2021-08-30T00:00:00",
          "2021-08-31T00:00:00",
          "2021-09-01T00:00:00",
          "2021-09-02T00:00:00",
          "2021-09-03T00:00:00",
          "2021-09-07T00:00:00",
          "2021-09-08T00:00:00",
          "2021-09-09T00:00:00",
          "2021-09-10T00:00:00",
          "2021-09-13T00:00:00",
          "2021-09-14T00:00:00",
          "2021-09-15T00:00:00",
          "2021-09-16T00:00:00",
          "2021-09-17T00:00:00",
          "2021-09-20T00:00:00",
          "2021-09-21T00:00:00",
          "2021-09-22T00:00:00",
          "2021-09-23T00:00:00",
          "2021-09-24T00:00:00",
          "2021-09-27T00:00:00",
          "2021-09-28T00:00:00",
          "2021-09-29T00:00:00",
          "2021-09-30T00:00:00",
          "2021-10-01T00:00:00",
          "2021-10-04T00:00:00",
          "2021-10-05T00:00:00",
          "2021-10-06T00:00:00",
          "2021-10-07T00:00:00",
          "2021-10-08T00:00:00",
          "2021-10-11T00:00:00",
          "2021-10-12T00:00:00",
          "2021-10-13T00:00:00",
          "2021-10-14T00:00:00",
          "2021-10-15T00:00:00",
          "2021-10-18T00:00:00",
          "2021-10-19T00:00:00",
          "2021-10-20T00:00:00",
          "2021-10-21T00:00:00",
          "2021-10-22T00:00:00",
          "2021-10-25T00:00:00",
          "2021-10-26T00:00:00",
          "2021-10-27T00:00:00",
          "2021-10-28T00:00:00",
          "2021-10-29T00:00:00",
          "2021-11-01T00:00:00",
          "2021-11-02T00:00:00",
          "2021-11-03T00:00:00",
          "2021-11-04T00:00:00",
          "2021-11-05T00:00:00",
          "2021-11-08T00:00:00",
          "2021-11-09T00:00:00",
          "2021-11-10T00:00:00",
          "2021-11-11T00:00:00",
          "2021-11-12T00:00:00",
          "2021-11-15T00:00:00",
          "2021-11-16T00:00:00",
          "2021-11-17T00:00:00",
          "2021-11-18T00:00:00",
          "2021-11-19T00:00:00",
          "2021-11-22T00:00:00",
          "2021-11-23T00:00:00",
          "2021-11-24T00:00:00",
          "2021-11-26T00:00:00",
          "2021-11-29T00:00:00",
          "2021-11-30T00:00:00",
          "2021-12-01T00:00:00",
          "2021-12-02T00:00:00",
          "2021-12-03T00:00:00",
          "2021-12-06T00:00:00",
          "2021-12-07T00:00:00",
          "2021-12-08T00:00:00",
          "2021-12-09T00:00:00",
          "2021-12-10T00:00:00",
          "2021-12-13T00:00:00",
          "2021-12-14T00:00:00",
          "2021-12-15T00:00:00",
          "2021-12-16T00:00:00",
          "2021-12-17T00:00:00",
          "2021-12-20T00:00:00",
          "2021-12-21T00:00:00",
          "2021-12-22T00:00:00",
          "2021-12-23T00:00:00",
          "2021-12-27T00:00:00",
          "2021-12-28T00:00:00",
          "2021-12-29T00:00:00",
          "2021-12-30T00:00:00",
          "2021-12-31T00:00:00",
          "2022-01-03T00:00:00",
          "2022-01-04T00:00:00",
          "2022-01-05T00:00:00",
          "2022-01-06T00:00:00",
          "2022-01-07T00:00:00",
          "2022-01-10T00:00:00",
          "2022-01-11T00:00:00",
          "2022-01-12T00:00:00",
          "2022-01-13T00:00:00",
          "2022-01-14T00:00:00",
          "2022-01-18T00:00:00",
          "2022-01-19T00:00:00",
          "2022-01-20T00:00:00",
          "2022-01-21T00:00:00",
          "2022-01-24T00:00:00",
          "2022-01-25T00:00:00",
          "2022-01-26T00:00:00",
          "2022-01-27T00:00:00",
          "2022-01-28T00:00:00",
          "2022-01-31T00:00:00",
          "2022-02-01T00:00:00",
          "2022-02-02T00:00:00",
          "2022-02-03T00:00:00",
          "2022-02-04T00:00:00",
          "2022-02-07T00:00:00",
          "2022-02-08T00:00:00",
          "2022-02-09T00:00:00",
          "2022-02-10T00:00:00",
          "2022-02-11T00:00:00",
          "2022-02-14T00:00:00",
          "2022-02-15T00:00:00",
          "2022-02-16T00:00:00",
          "2022-02-17T00:00:00",
          "2022-02-18T00:00:00",
          "2022-02-22T00:00:00",
          "2022-02-23T00:00:00",
          "2022-02-24T00:00:00",
          "2022-02-25T00:00:00",
          "2022-02-28T00:00:00",
          "2022-03-01T00:00:00",
          "2022-03-02T00:00:00",
          "2022-03-03T00:00:00",
          "2022-03-04T00:00:00",
          "2022-03-07T00:00:00",
          "2022-03-08T00:00:00",
          "2022-03-09T00:00:00",
          "2022-03-10T00:00:00",
          "2022-03-11T00:00:00",
          "2022-03-14T00:00:00",
          "2022-03-15T00:00:00",
          "2022-03-16T00:00:00",
          "2022-03-17T00:00:00",
          "2022-03-18T00:00:00",
          "2022-03-21T00:00:00",
          "2022-03-22T00:00:00",
          "2022-03-23T00:00:00",
          "2022-03-24T00:00:00",
          "2022-03-25T00:00:00",
          "2022-03-28T00:00:00",
          "2022-03-29T00:00:00",
          "2022-03-30T00:00:00",
          "2022-03-31T00:00:00",
          "2022-04-01T00:00:00",
          "2022-04-04T00:00:00",
          "2022-04-05T00:00:00",
          "2022-04-06T00:00:00",
          "2022-04-07T00:00:00",
          "2022-04-08T00:00:00",
          "2022-04-11T00:00:00",
          "2022-04-12T00:00:00",
          "2022-04-13T00:00:00",
          "2022-04-14T00:00:00",
          "2022-04-18T00:00:00",
          "2022-04-19T00:00:00",
          "2022-04-20T00:00:00",
          "2022-04-21T00:00:00",
          "2022-04-22T00:00:00",
          "2022-04-25T00:00:00",
          "2022-04-26T00:00:00",
          "2022-04-27T00:00:00",
          "2022-04-28T00:00:00",
          "2022-04-29T00:00:00",
          "2022-05-02T00:00:00",
          "2022-05-03T00:00:00",
          "2022-05-04T00:00:00",
          "2022-05-05T00:00:00",
          "2022-05-06T00:00:00",
          "2022-05-09T00:00:00",
          "2022-05-10T00:00:00",
          "2022-05-11T00:00:00",
          "2022-05-12T00:00:00",
          "2022-05-13T00:00:00",
          "2022-05-16T00:00:00",
          "2022-05-17T00:00:00",
          "2022-05-18T00:00:00",
          "2022-05-19T00:00:00",
          "2022-05-20T00:00:00"
         ],
         "xaxis": "x",
         "y": [
          9166.6298828125,
          9188.580078125,
          9216.98046875,
          9141.4697265625,
          8952.1796875,
          9090.9296875,
          9101.6103515625,
          9136.08984375,
          8991.509765625,
          9126.23046875,
          9334.0595703125,
          9367.48046875,
          9445.919921875,
          9401.099609375,
          9516.83984375,
          9517.8603515625,
          9613.2001953125,
          9595.7001953125,
          9623.580078125,
          9629.7998046875,
          9718.73046875,
          9627.830078125,
          9446.6904296875,
          9079.6298828125,
          8834.8701171875,
          8873.759765625,
          8436.669921875,
          8461.830078125,
          8877.98046875,
          8594.490234375,
          8949.2802734375,
          8671.66015625,
          8530.33984375,
          7948.02978515625,
          8372.26953125,
          8006.1201171875,
          7263.64990234375,
          7995.259765625,
          7020.3798828125,
          7473.9501953125,
          7175.18017578125,
          7288.52001953125,
          6994.2900390625,
          7006.919921875,
          7553.830078125,
          7469.6201171875,
          7897.1298828125,
          7588.3701171875,
          7889.009765625,
          7813.5,
          7486.2900390625,
          7635.66015625,
          7528.10986328125,
          8081.66015625,
          8049.31005859375,
          8229.5400390625,
          8238.5302734375,
          8332.740234375,
          8692.16015625,
          8591.9599609375,
          8757.830078125,
          8832.41015625,
          8726.509765625,
          8403,
          8664.6396484375,
          8641.5,
          8786.599609375,
          8837.66015625,
          8677.599609375,
          8982.759765625,
          9000.509765625,
          8718.1796875,
          8834.1103515625,
          8930.6201171875,
          8984.8603515625,
          9101.8798828125,
          9220.349609375,
          9298.919921875,
          9112.4501953125,
          9000.080078125,
          9094.419921875,
          9152.6396484375,
          9331.9296875,
          9298.5400390625,
          9485.01953125,
          9377.990234375,
          9413.990234375,
          9389.98046875,
          9442.0498046875,
          9416.7099609375,
          9555.5302734375,
          9598.8896484375,
          9657.3095703125,
          9704.6904296875,
          9629.66015625,
          9824.3896484375,
          9901.51953125,
          9967.169921875,
          10094.259765625,
          9588.48046875,
          9663.7802734375,
          9776.8896484375,
          9949.3701171875,
          9982.48046875,
          10012.0498046875,
          10008.6396484375,
          10130.330078125,
          10209.8203125,
          10002.7001953125,
          10101.830078125,
          9849.3603515625,
          9961.16015625,
          10156.849609375,
          10279.25,
          10341.8896484375,
          10604.0595703125,
          10524.009765625,
          10666.7001953125,
          10754.58984375,
          10836.330078125,
          10602.2099609375,
          10689.51953125,
          10701.6796875,
          10626.4599609375,
          10645.2197265625,
          10952.080078125,
          10833.0703125,
          10870.75,
          10580.58984375,
          10483.1298828125,
          10674.3798828125,
          10532.5,
          10662.98046875,
          10715.509765625,
          10905.8798828125,
          11055.080078125,
          11096.5400390625,
          11125.4404296875,
          11267.080078125,
          11139.3896484375,
          11085.169921875,
          10876.080078125,
          11157.7197265625,
          11178.3701171875,
          11164.4501953125,
          11288.5703125,
          11399.0302734375,
          11318.6396484375,
          11477.0498046875,
          11555.16015625,
          11626.169921875,
          11721.8095703125,
          11971.9404296875,
          11926.16015625,
          11995.849609375,
          12110.7001953125,
          12292.8603515625,
          12420.5400390625,
          11771.3701171875,
          11622.1298828125,
          11068.259765625,
          11395.849609375,
          11154.1201171875,
          11087.400390625,
          11277.759765625,
          11438.8701171875,
          11247.599609375,
          11080.9501953125,
          10936.98046875,
          10980.2197265625,
          11186.3701171875,
          10833.330078125,
          10896.4697265625,
          11151.1298828125,
          11364.4501953125,
          11322.9501953125,
          11418.0595703125,
          11583.2001953125,
          11255.6904296875,
          11509.0595703125,
          11291.26953125,
          11503.1904296875,
          11550.9404296875,
          11725.849609375,
          12088.1103515625,
          12083.169921875,
          11985.3603515625,
          11898.5703125,
          11852.169921875,
          11634.349609375,
          11677.83984375,
          11665.3701171875,
          11662.91015625,
          11692.5703125,
          11504.51953125,
          11598.9501953125,
          11142.759765625,
          11350.740234375,
          11052.9501953125,
          11084.759765625,
          11279.91015625,
          11777.01953125,
          12078.0703125,
          12091.349609375,
          11830.3896484375,
          11624.2900390625,
          11892.9296875,
          11827.1396484375,
          11937.83984375,
          12013.3798828125,
          11977.490234375,
          11894.7099609375,
          11985.4296875,
          11906.4404296875,
          11905.9404296875,
          12079.8095703125,
          12152.2197265625,
          12258.2099609375,
          12268.3203125,
          12455.330078125,
          12456.41015625,
          12467.1298828125,
          12528.48046875,
          12596.4697265625,
          12635.7197265625,
          12364.6396484375,
          12401.740234375,
          12375.41015625,
          12462.2099609375,
          12595.919921875,
          12668.16015625,
          12752.0595703125,
          12738.1796875,
          12690.259765625,
          12717.5595703125,
          12653.1396484375,
          12711.009765625,
          12838.8603515625,
          12843.490234375,
          12845.3603515625,
          12888.2802734375,
          12694.66015625,
          12802.3798828125,
          12623.349609375,
          12939.5703125,
          13105.2001953125,
          12902.490234375,
          12892.08984375,
          12973.6298828125,
          12898.6904296875,
          12803.9296875,
          12996.5400390625,
          13296.4501953125,
          13404.990234375,
          13366.400390625,
          13483.2900390625,
          13490.1904296875,
          13112.650390625,
          13201.5302734375,
          12925.3798828125,
          13248.900390625,
          13456.1201171875,
          13402.3701171875,
          13560.8896484375,
          13603.9599609375,
          13695.01953125,
          13687.080078125,
          13655.26953125,
          13734.349609375,
          13807.7001953125,
          13773.76953125,
          13699.7099609375,
          13637.509765625,
          13580.7802734375,
          13223.740234375,
          13194.7099609375,
          13302.1904296875,
          12828.3095703125,
          12909.4404296875,
          13282.9501953125,
          13059.9501953125,
          12683.330078125,
          12464,
          12668.509765625,
          12299.080078125,
          12794.490234375,
          12752.0703125,
          13052.900390625,
          12937.2900390625,
          13082.5400390625,
          13152.2802734375,
          13202.3798828125,
          12789.1396484375,
          12866.990234375,
          13086.509765625,
          13017.7900390625,
          12798.8798828125,
          12780.509765625,
          12979.1201171875,
          12965.740234375,
          12896.5302734375,
          13091.4404296875,
          13329.51953125,
          13598.16015625,
          13578.4599609375,
          13616.7001953125,
          13758.509765625,
          13845.0595703125,
          13819.349609375,
          13986.490234375,
          13803.91015625,
          14026.1904296875,
          14041.91015625,
          13907.669921875,
          13809.2998046875,
          13935.150390625,
          13762.3603515625,
          13941.4404296875,
          14026.16015625,
          13960.2802734375,
          13901.6201171875,
          13970.2001953125,
          13860.759765625,
          13799.7197265625,
          13544.669921875,
          13503.3701171875,
          13613.73046875,
          13719.6298828125,
          13359.080078125,
          13351.26953125,
          13001.6298828125,
          13109.150390625,
          13393.1201171875,
          13312.91015625,
          13217.6796875,
          13237.91015625,
          13494.08984375,
          13411.740234375,
          13641.75,
          13657.73046875,
          13702.740234375,
          13657.849609375,
          13686.509765625,
          13654.58984375,
          13675.7900390625,
          13529.6796875,
          13770.76953125,
          13802.8896484375,
          13810.8603515625,
          13814.9404296875,
          13960.349609375,
          13998.2998046875,
          14128.2001953125,
          14030.41015625,
          13983.009765625,
          14163.8095703125,
          14049.580078125,
          14137.23046875,
          14270.419921875,
          14274.240234375,
          14365.9599609375,
          14345.1796875,
          14524.98046875,
          14572.75,
          14554.7998046875,
          14560.0498046875,
          14727.6298828125,
          14786.3603515625,
          14810.5400390625,
          14722.1396484375,
          14826.08984375,
          14877.8896484375,
          14874.5400390625,
          14900.4404296875,
          14794.6904296875,
          14681.3798828125,
          14549.08984375,
          14728.2099609375,
          14842.6298828125,
          14940.169921875,
          15111.7900390625,
          15125.9501953125,
          14956.9697265625,
          15018.099609375,
          15048.3603515625,
          14959.900390625,
          14963.6201171875,
          15061.419921875,
          15083.3896484375,
          15181.6396484375,
          15109.3603515625,
          15133.1103515625,
          15053.580078125,
          15027.759765625,
          15088.98046875,
          15136.6796875,
          15140.76953125,
          15002.830078125,
          14857.919921875,
          14933.9404296875,
          15092.5703125,
          15312.8203125,
          15357.6796875,
          15368.919921875,
          15278.51953125,
          15432.9501953125,
          15605.08984375,
          15582.509765625,
          15611.5703125,
          15604.25,
          15652.8603515625,
          15675.759765625,
          15620.849609375,
          15561.0498046875,
          15440.75,
          15434.5,
          15382.900390625,
          15503.5302734375,
          15515.91015625,
          15333.4697265625,
          15012.1904296875,
          15027.76953125,
          15176.509765625,
          15316.580078125,
          15329.6796875,
          15204.8203125,
          14770.2998046875,
          14752.8896484375,
          14689.6201171875,
          14791.8701171875,
          14472.1201171875,
          14674.150390625,
          14766.75,
          14897.1298828125,
          14820.75,
          14713.73046875,
          14662.1103515625,
          14774.599609375,
          15052.419921875,
          15146.919921875,
          15300.8896484375,
          15410.7197265625,
          15388.7099609375,
          15489.58984375,
          15355.0703125,
          15514.1904296875,
          15559.490234375,
          15598.3896484375,
          15778.16015625,
          15850.4697265625,
          15905.2802734375,
          15972.490234375,
          16144.5,
          16346.240234375,
          16359.3798828125,
          16336.0302734375,
          16219.9404296875,
          15985.5703125,
          16032.4697265625,
          16199.8896484375,
          16189.1201171875,
          16309.76953125,
          16308.0703125,
          16482.970703125,
          16573.33984375,
          16380.98046875,
          16306.7197265625,
          16367.8095703125,
          16025.580078125,
          16399.240234375,
          16135.919921875,
          15877.7197265625,
          15990.759765625,
          15712.0400390625,
          15846.16015625,
          16325.66015625,
          16394.33984375,
          16149.5703125,
          16331.98046875,
          16082.5498046875,
          15914.900390625,
          16289.58984375,
          15863.9404296875,
          15801.4599609375,
          15627.6396484375,
          15986.2802734375,
          16180.1396484375,
          16308.2099609375,
          16567.5,
          16488.66015625,
          16491.009765625,
          16429.099609375,
          16320.080078125,
          16501.76953125,
          16279.73046875,
          15771.7802734375,
          15765.3603515625,
          15592.1904296875,
          15614.4296875,
          15844.1201171875,
          15905.099609375,
          15495.6201171875,
          15611.58984375,
          15210.759765625,
          15047.83984375,
          14846.4599609375,
          14438.400390625,
          14509.580078125,
          14149.1201171875,
          14172.759765625,
          14003.1103515625,
          14454.6103515625,
          14930.0498046875,
          15019.6796875,
          15139.740234375,
          14501.1103515625,
          14694.349609375,
          14571.25,
          14747.0302734375,
          15056.9599609375,
          14705.6396484375,
          14253.83984375,
          14268.58984375,
          14620.8203125,
          14603.6396484375,
          14171.740234375,
          14009.5400390625,
          13870.5302734375,
          13509.4296875,
          13974.669921875,
          14189.16015625,
          14237.8095703125,
          14005.990234375,
          14243.6904296875,
          14035.2099609375,
          13837.830078125,
          13319.3798828125,
          13267.6103515625,
          13742.2001953125,
          13591,
          13301.830078125,
          13046.6396484375,
          13458.5595703125,
          13956.7900390625,
          14118.599609375,
          14420.080078125,
          14376.08984375,
          14654.330078125,
          14447.5498046875,
          14765.6904296875,
          14754.3095703125,
          14987.400390625,
          15239.3203125,
          15071.5498046875,
          14838.490234375,
          14861.2099609375,
          15159.580078125,
          14820.6396484375,
          14498.8896484375,
          14531.8095703125,
          14327.259765625,
          13990.2099609375,
          13940.240234375,
          14217.2900390625,
          13893.2099609375,
          13910.759765625,
          14210.259765625,
          13998.5302734375,
          13720.4501953125,
          13356.8701171875,
          13533.2197265625,
          13009.7099609375,
          13003.3603515625,
          13456.0595703125,
          12854.7998046875,
          13075.849609375,
          13089.900390625,
          13535.7099609375,
          12850.5498046875,
          12693.5302734375,
          12187.7197265625,
          12345.8603515625,
          11967.5595703125,
          11945.5,
          12387.400390625,
          12243.580078125,
          12564.099609375,
          11928.3095703125,
          11875.6298828125,
          11835.6201171875
         ],
         "yaxis": "y"
        }
       ],
       "layout": {
        "annotations": [
         {
          "arrowhead": 1,
          "showarrow": true,
          "text": "Emergency state in the USA",
          "x": "2020-03-13",
          "y": 16573.33984375
         },
         {
          "arrowhead": 1,
          "showarrow": true,
          "text": "First vaccin in the USA",
          "x": "2020-12-14",
          "y": 16573.33984375
         },
         {
          "arrowhead": 1,
          "showarrow": true,
          "text": "Delta variant",
          "x": "2021-06-01",
          "y": 16573.33984375
         },
         {
          "arrowhead": 1,
          "showarrow": true,
          "text": "Omircron variant",
          "x": "2021-11-26",
          "y": 16573.33984375
         }
        ],
        "legend": {
         "title": {
          "text": "name"
         },
         "tracegroupgap": 0
        },
        "margin": {
         "t": 60
        },
        "shapes": [
         {
          "line": {
           "dash": "dash"
          },
          "type": "line",
          "x0": "2020-03-13",
          "x1": "2020-03-13",
          "xref": "x",
          "y0": 0,
          "y1": 1,
          "yref": "y domain"
         },
         {
          "line": {
           "dash": "dash"
          },
          "type": "line",
          "x0": "2020-12-14",
          "x1": "2020-12-14",
          "xref": "x",
          "y0": 0,
          "y1": 1,
          "yref": "y domain"
         },
         {
          "line": {
           "dash": "dash"
          },
          "type": "line",
          "x0": "2021-06-01",
          "x1": "2021-06-01",
          "xref": "x",
          "y0": 0,
          "y1": 1,
          "yref": "y domain"
         },
         {
          "line": {
           "dash": "dash"
          },
          "type": "line",
          "x0": "2021-11-26",
          "x1": "2021-11-26",
          "xref": "x",
          "y0": 0,
          "y1": 1,
          "yref": "y domain"
         }
        ],
        "template": {
         "data": {
          "bar": [
           {
            "error_x": {
             "color": "#2a3f5f"
            },
            "error_y": {
             "color": "#2a3f5f"
            },
            "marker": {
             "line": {
              "color": "#E5ECF6",
              "width": 0.5
             },
             "pattern": {
              "fillmode": "overlay",
              "size": 10,
              "solidity": 0.2
             }
            },
            "type": "bar"
           }
          ],
          "barpolar": [
           {
            "marker": {
             "line": {
              "color": "#E5ECF6",
              "width": 0.5
             },
             "pattern": {
              "fillmode": "overlay",
              "size": 10,
              "solidity": 0.2
             }
            },
            "type": "barpolar"
           }
          ],
          "carpet": [
           {
            "aaxis": {
             "endlinecolor": "#2a3f5f",
             "gridcolor": "white",
             "linecolor": "white",
             "minorgridcolor": "white",
             "startlinecolor": "#2a3f5f"
            },
            "baxis": {
             "endlinecolor": "#2a3f5f",
             "gridcolor": "white",
             "linecolor": "white",
             "minorgridcolor": "white",
             "startlinecolor": "#2a3f5f"
            },
            "type": "carpet"
           }
          ],
          "choropleth": [
           {
            "colorbar": {
             "outlinewidth": 0,
             "ticks": ""
            },
            "type": "choropleth"
           }
          ],
          "contour": [
           {
            "colorbar": {
             "outlinewidth": 0,
             "ticks": ""
            },
            "colorscale": [
             [
              0,
              "#0d0887"
             ],
             [
              0.1111111111111111,
              "#46039f"
             ],
             [
              0.2222222222222222,
              "#7201a8"
             ],
             [
              0.3333333333333333,
              "#9c179e"
             ],
             [
              0.4444444444444444,
              "#bd3786"
             ],
             [
              0.5555555555555556,
              "#d8576b"
             ],
             [
              0.6666666666666666,
              "#ed7953"
             ],
             [
              0.7777777777777778,
              "#fb9f3a"
             ],
             [
              0.8888888888888888,
              "#fdca26"
             ],
             [
              1,
              "#f0f921"
             ]
            ],
            "type": "contour"
           }
          ],
          "contourcarpet": [
           {
            "colorbar": {
             "outlinewidth": 0,
             "ticks": ""
            },
            "type": "contourcarpet"
           }
          ],
          "heatmap": [
           {
            "colorbar": {
             "outlinewidth": 0,
             "ticks": ""
            },
            "colorscale": [
             [
              0,
              "#0d0887"
             ],
             [
              0.1111111111111111,
              "#46039f"
             ],
             [
              0.2222222222222222,
              "#7201a8"
             ],
             [
              0.3333333333333333,
              "#9c179e"
             ],
             [
              0.4444444444444444,
              "#bd3786"
             ],
             [
              0.5555555555555556,
              "#d8576b"
             ],
             [
              0.6666666666666666,
              "#ed7953"
             ],
             [
              0.7777777777777778,
              "#fb9f3a"
             ],
             [
              0.8888888888888888,
              "#fdca26"
             ],
             [
              1,
              "#f0f921"
             ]
            ],
            "type": "heatmap"
           }
          ],
          "heatmapgl": [
           {
            "colorbar": {
             "outlinewidth": 0,
             "ticks": ""
            },
            "colorscale": [
             [
              0,
              "#0d0887"
             ],
             [
              0.1111111111111111,
              "#46039f"
             ],
             [
              0.2222222222222222,
              "#7201a8"
             ],
             [
              0.3333333333333333,
              "#9c179e"
             ],
             [
              0.4444444444444444,
              "#bd3786"
             ],
             [
              0.5555555555555556,
              "#d8576b"
             ],
             [
              0.6666666666666666,
              "#ed7953"
             ],
             [
              0.7777777777777778,
              "#fb9f3a"
             ],
             [
              0.8888888888888888,
              "#fdca26"
             ],
             [
              1,
              "#f0f921"
             ]
            ],
            "type": "heatmapgl"
           }
          ],
          "histogram": [
           {
            "marker": {
             "pattern": {
              "fillmode": "overlay",
              "size": 10,
              "solidity": 0.2
             }
            },
            "type": "histogram"
           }
          ],
          "histogram2d": [
           {
            "colorbar": {
             "outlinewidth": 0,
             "ticks": ""
            },
            "colorscale": [
             [
              0,
              "#0d0887"
             ],
             [
              0.1111111111111111,
              "#46039f"
             ],
             [
              0.2222222222222222,
              "#7201a8"
             ],
             [
              0.3333333333333333,
              "#9c179e"
             ],
             [
              0.4444444444444444,
              "#bd3786"
             ],
             [
              0.5555555555555556,
              "#d8576b"
             ],
             [
              0.6666666666666666,
              "#ed7953"
             ],
             [
              0.7777777777777778,
              "#fb9f3a"
             ],
             [
              0.8888888888888888,
              "#fdca26"
             ],
             [
              1,
              "#f0f921"
             ]
            ],
            "type": "histogram2d"
           }
          ],
          "histogram2dcontour": [
           {
            "colorbar": {
             "outlinewidth": 0,
             "ticks": ""
            },
            "colorscale": [
             [
              0,
              "#0d0887"
             ],
             [
              0.1111111111111111,
              "#46039f"
             ],
             [
              0.2222222222222222,
              "#7201a8"
             ],
             [
              0.3333333333333333,
              "#9c179e"
             ],
             [
              0.4444444444444444,
              "#bd3786"
             ],
             [
              0.5555555555555556,
              "#d8576b"
             ],
             [
              0.6666666666666666,
              "#ed7953"
             ],
             [
              0.7777777777777778,
              "#fb9f3a"
             ],
             [
              0.8888888888888888,
              "#fdca26"
             ],
             [
              1,
              "#f0f921"
             ]
            ],
            "type": "histogram2dcontour"
           }
          ],
          "mesh3d": [
           {
            "colorbar": {
             "outlinewidth": 0,
             "ticks": ""
            },
            "type": "mesh3d"
           }
          ],
          "parcoords": [
           {
            "line": {
             "colorbar": {
              "outlinewidth": 0,
              "ticks": ""
             }
            },
            "type": "parcoords"
           }
          ],
          "pie": [
           {
            "automargin": true,
            "type": "pie"
           }
          ],
          "scatter": [
           {
            "fillpattern": {
             "fillmode": "overlay",
             "size": 10,
             "solidity": 0.2
            },
            "type": "scatter"
           }
          ],
          "scatter3d": [
           {
            "line": {
             "colorbar": {
              "outlinewidth": 0,
              "ticks": ""
             }
            },
            "marker": {
             "colorbar": {
              "outlinewidth": 0,
              "ticks": ""
             }
            },
            "type": "scatter3d"
           }
          ],
          "scattercarpet": [
           {
            "marker": {
             "colorbar": {
              "outlinewidth": 0,
              "ticks": ""
             }
            },
            "type": "scattercarpet"
           }
          ],
          "scattergeo": [
           {
            "marker": {
             "colorbar": {
              "outlinewidth": 0,
              "ticks": ""
             }
            },
            "type": "scattergeo"
           }
          ],
          "scattergl": [
           {
            "marker": {
             "colorbar": {
              "outlinewidth": 0,
              "ticks": ""
             }
            },
            "type": "scattergl"
           }
          ],
          "scattermapbox": [
           {
            "marker": {
             "colorbar": {
              "outlinewidth": 0,
              "ticks": ""
             }
            },
            "type": "scattermapbox"
           }
          ],
          "scatterpolar": [
           {
            "marker": {
             "colorbar": {
              "outlinewidth": 0,
              "ticks": ""
             }
            },
            "type": "scatterpolar"
           }
          ],
          "scatterpolargl": [
           {
            "marker": {
             "colorbar": {
              "outlinewidth": 0,
              "ticks": ""
             }
            },
            "type": "scatterpolargl"
           }
          ],
          "scatterternary": [
           {
            "marker": {
             "colorbar": {
              "outlinewidth": 0,
              "ticks": ""
             }
            },
            "type": "scatterternary"
           }
          ],
          "surface": [
           {
            "colorbar": {
             "outlinewidth": 0,
             "ticks": ""
            },
            "colorscale": [
             [
              0,
              "#0d0887"
             ],
             [
              0.1111111111111111,
              "#46039f"
             ],
             [
              0.2222222222222222,
              "#7201a8"
             ],
             [
              0.3333333333333333,
              "#9c179e"
             ],
             [
              0.4444444444444444,
              "#bd3786"
             ],
             [
              0.5555555555555556,
              "#d8576b"
             ],
             [
              0.6666666666666666,
              "#ed7953"
             ],
             [
              0.7777777777777778,
              "#fb9f3a"
             ],
             [
              0.8888888888888888,
              "#fdca26"
             ],
             [
              1,
              "#f0f921"
             ]
            ],
            "type": "surface"
           }
          ],
          "table": [
           {
            "cells": {
             "fill": {
              "color": "#EBF0F8"
             },
             "line": {
              "color": "white"
             }
            },
            "header": {
             "fill": {
              "color": "#C8D4E3"
             },
             "line": {
              "color": "white"
             }
            },
            "type": "table"
           }
          ]
         },
         "layout": {
          "annotationdefaults": {
           "arrowcolor": "#2a3f5f",
           "arrowhead": 0,
           "arrowwidth": 1
          },
          "autotypenumbers": "strict",
          "coloraxis": {
           "colorbar": {
            "outlinewidth": 0,
            "ticks": ""
           }
          },
          "colorscale": {
           "diverging": [
            [
             0,
             "#8e0152"
            ],
            [
             0.1,
             "#c51b7d"
            ],
            [
             0.2,
             "#de77ae"
            ],
            [
             0.3,
             "#f1b6da"
            ],
            [
             0.4,
             "#fde0ef"
            ],
            [
             0.5,
             "#f7f7f7"
            ],
            [
             0.6,
             "#e6f5d0"
            ],
            [
             0.7,
             "#b8e186"
            ],
            [
             0.8,
             "#7fbc41"
            ],
            [
             0.9,
             "#4d9221"
            ],
            [
             1,
             "#276419"
            ]
           ],
           "sequential": [
            [
             0,
             "#0d0887"
            ],
            [
             0.1111111111111111,
             "#46039f"
            ],
            [
             0.2222222222222222,
             "#7201a8"
            ],
            [
             0.3333333333333333,
             "#9c179e"
            ],
            [
             0.4444444444444444,
             "#bd3786"
            ],
            [
             0.5555555555555556,
             "#d8576b"
            ],
            [
             0.6666666666666666,
             "#ed7953"
            ],
            [
             0.7777777777777778,
             "#fb9f3a"
            ],
            [
             0.8888888888888888,
             "#fdca26"
            ],
            [
             1,
             "#f0f921"
            ]
           ],
           "sequentialminus": [
            [
             0,
             "#0d0887"
            ],
            [
             0.1111111111111111,
             "#46039f"
            ],
            [
             0.2222222222222222,
             "#7201a8"
            ],
            [
             0.3333333333333333,
             "#9c179e"
            ],
            [
             0.4444444444444444,
             "#bd3786"
            ],
            [
             0.5555555555555556,
             "#d8576b"
            ],
            [
             0.6666666666666666,
             "#ed7953"
            ],
            [
             0.7777777777777778,
             "#fb9f3a"
            ],
            [
             0.8888888888888888,
             "#fdca26"
            ],
            [
             1,
             "#f0f921"
            ]
           ]
          },
          "colorway": [
           "#636efa",
           "#EF553B",
           "#00cc96",
           "#ab63fa",
           "#FFA15A",
           "#19d3f3",
           "#FF6692",
           "#B6E880",
           "#FF97FF",
           "#FECB52"
          ],
          "font": {
           "color": "#2a3f5f"
          },
          "geo": {
           "bgcolor": "white",
           "lakecolor": "white",
           "landcolor": "#E5ECF6",
           "showlakes": true,
           "showland": true,
           "subunitcolor": "white"
          },
          "hoverlabel": {
           "align": "left"
          },
          "hovermode": "closest",
          "mapbox": {
           "style": "light"
          },
          "paper_bgcolor": "white",
          "plot_bgcolor": "#E5ECF6",
          "polar": {
           "angularaxis": {
            "gridcolor": "white",
            "linecolor": "white",
            "ticks": ""
           },
           "bgcolor": "#E5ECF6",
           "radialaxis": {
            "gridcolor": "white",
            "linecolor": "white",
            "ticks": ""
           }
          },
          "scene": {
           "xaxis": {
            "backgroundcolor": "#E5ECF6",
            "gridcolor": "white",
            "gridwidth": 2,
            "linecolor": "white",
            "showbackground": true,
            "ticks": "",
            "zerolinecolor": "white"
           },
           "yaxis": {
            "backgroundcolor": "#E5ECF6",
            "gridcolor": "white",
            "gridwidth": 2,
            "linecolor": "white",
            "showbackground": true,
            "ticks": "",
            "zerolinecolor": "white"
           },
           "zaxis": {
            "backgroundcolor": "#E5ECF6",
            "gridcolor": "white",
            "gridwidth": 2,
            "linecolor": "white",
            "showbackground": true,
            "ticks": "",
            "zerolinecolor": "white"
           }
          },
          "shapedefaults": {
           "line": {
            "color": "#2a3f5f"
           }
          },
          "ternary": {
           "aaxis": {
            "gridcolor": "white",
            "linecolor": "white",
            "ticks": ""
           },
           "baxis": {
            "gridcolor": "white",
            "linecolor": "white",
            "ticks": ""
           },
           "bgcolor": "#E5ECF6",
           "caxis": {
            "gridcolor": "white",
            "linecolor": "white",
            "ticks": ""
           }
          },
          "title": {
           "x": 0.05
          },
          "xaxis": {
           "automargin": true,
           "gridcolor": "white",
           "linecolor": "white",
           "ticks": "",
           "title": {
            "standoff": 15
           },
           "zerolinecolor": "white",
           "zerolinewidth": 2
          },
          "yaxis": {
           "automargin": true,
           "gridcolor": "white",
           "linecolor": "white",
           "ticks": "",
           "title": {
            "standoff": 15
           },
           "zerolinecolor": "white",
           "zerolinewidth": 2
          }
         }
        },
        "xaxis": {
         "anchor": "y",
         "domain": [
          0,
          1
         ],
         "title": {
          "text": "Date"
         }
        },
        "yaxis": {
         "anchor": "x",
         "domain": [
          0,
          1
         ],
         "title": {
          "text": "Close"
         }
        }
       }
      },
      "text/html": [
       "<div>                            <div id=\"6feffe87-3d94-48d5-9a5b-c6d0a25f2b7b\" class=\"plotly-graph-div\" style=\"height:525px; width:100%;\"></div>            <script type=\"text/javascript\">                require([\"plotly\"], function(Plotly) {                    window.PLOTLYENV=window.PLOTLYENV || {};                                    if (document.getElementById(\"6feffe87-3d94-48d5-9a5b-c6d0a25f2b7b\")) {                    Plotly.newPlot(                        \"6feffe87-3d94-48d5-9a5b-c6d0a25f2b7b\",                        [{\"hovertemplate\":\"name=sp500<br>Date=%{x}<br>Close=%{y}<extra></extra>\",\"legendgroup\":\"sp500\",\"line\":{\"color\":\"#636efa\",\"dash\":\"solid\"},\"marker\":{\"symbol\":\"circle\"},\"mode\":\"lines\",\"name\":\"sp500\",\"showlegend\":true,\"x\":[\"2020-01-21T00:00:00\",\"2020-01-22T00:00:00\",\"2020-01-23T00:00:00\",\"2020-01-24T00:00:00\",\"2020-01-27T00:00:00\",\"2020-01-28T00:00:00\",\"2020-01-29T00:00:00\",\"2020-01-30T00:00:00\",\"2020-01-31T00:00:00\",\"2020-02-03T00:00:00\",\"2020-02-04T00:00:00\",\"2020-02-05T00:00:00\",\"2020-02-06T00:00:00\",\"2020-02-07T00:00:00\",\"2020-02-10T00:00:00\",\"2020-02-11T00:00:00\",\"2020-02-12T00:00:00\",\"2020-02-13T00:00:00\",\"2020-02-14T00:00:00\",\"2020-02-18T00:00:00\",\"2020-02-19T00:00:00\",\"2020-02-20T00:00:00\",\"2020-02-21T00:00:00\",\"2020-02-24T00:00:00\",\"2020-02-25T00:00:00\",\"2020-02-26T00:00:00\",\"2020-02-27T00:00:00\",\"2020-02-28T00:00:00\",\"2020-03-02T00:00:00\",\"2020-03-03T00:00:00\",\"2020-03-04T00:00:00\",\"2020-03-05T00:00:00\",\"2020-03-06T00:00:00\",\"2020-03-09T00:00:00\",\"2020-03-10T00:00:00\",\"2020-03-11T00:00:00\",\"2020-03-12T00:00:00\",\"2020-03-13T00:00:00\",\"2020-03-16T00:00:00\",\"2020-03-17T00:00:00\",\"2020-03-18T00:00:00\",\"2020-03-19T00:00:00\",\"2020-03-20T00:00:00\",\"2020-03-23T00:00:00\",\"2020-03-24T00:00:00\",\"2020-03-25T00:00:00\",\"2020-03-26T00:00:00\",\"2020-03-27T00:00:00\",\"2020-03-30T00:00:00\",\"2020-03-31T00:00:00\",\"2020-04-01T00:00:00\",\"2020-04-02T00:00:00\",\"2020-04-03T00:00:00\",\"2020-04-06T00:00:00\",\"2020-04-07T00:00:00\",\"2020-04-08T00:00:00\",\"2020-04-09T00:00:00\",\"2020-04-13T00:00:00\",\"2020-04-14T00:00:00\",\"2020-04-15T00:00:00\",\"2020-04-16T00:00:00\",\"2020-04-17T00:00:00\",\"2020-04-20T00:00:00\",\"2020-04-21T00:00:00\",\"2020-04-22T00:00:00\",\"2020-04-23T00:00:00\",\"2020-04-24T00:00:00\",\"2020-04-27T00:00:00\",\"2020-04-28T00:00:00\",\"2020-04-29T00:00:00\",\"2020-04-30T00:00:00\",\"2020-05-01T00:00:00\",\"2020-05-04T00:00:00\",\"2020-05-05T00:00:00\",\"2020-05-06T00:00:00\",\"2020-05-07T00:00:00\",\"2020-05-08T00:00:00\",\"2020-05-11T00:00:00\",\"2020-05-12T00:00:00\",\"2020-05-13T00:00:00\",\"2020-05-14T00:00:00\",\"2020-05-15T00:00:00\",\"2020-05-18T00:00:00\",\"2020-05-19T00:00:00\",\"2020-05-20T00:00:00\",\"2020-05-21T00:00:00\",\"2020-05-22T00:00:00\",\"2020-05-26T00:00:00\",\"2020-05-27T00:00:00\",\"2020-05-28T00:00:00\",\"2020-05-29T00:00:00\",\"2020-06-01T00:00:00\",\"2020-06-02T00:00:00\",\"2020-06-03T00:00:00\",\"2020-06-04T00:00:00\",\"2020-06-05T00:00:00\",\"2020-06-08T00:00:00\",\"2020-06-09T00:00:00\",\"2020-06-10T00:00:00\",\"2020-06-11T00:00:00\",\"2020-06-12T00:00:00\",\"2020-06-15T00:00:00\",\"2020-06-16T00:00:00\",\"2020-06-17T00:00:00\",\"2020-06-18T00:00:00\",\"2020-06-19T00:00:00\",\"2020-06-22T00:00:00\",\"2020-06-23T00:00:00\",\"2020-06-24T00:00:00\",\"2020-06-25T00:00:00\",\"2020-06-26T00:00:00\",\"2020-06-29T00:00:00\",\"2020-06-30T00:00:00\",\"2020-07-01T00:00:00\",\"2020-07-02T00:00:00\",\"2020-07-06T00:00:00\",\"2020-07-07T00:00:00\",\"2020-07-08T00:00:00\",\"2020-07-09T00:00:00\",\"2020-07-10T00:00:00\",\"2020-07-13T00:00:00\",\"2020-07-14T00:00:00\",\"2020-07-15T00:00:00\",\"2020-07-16T00:00:00\",\"2020-07-17T00:00:00\",\"2020-07-20T00:00:00\",\"2020-07-21T00:00:00\",\"2020-07-22T00:00:00\",\"2020-07-23T00:00:00\",\"2020-07-24T00:00:00\",\"2020-07-27T00:00:00\",\"2020-07-28T00:00:00\",\"2020-07-29T00:00:00\",\"2020-07-30T00:00:00\",\"2020-07-31T00:00:00\",\"2020-08-03T00:00:00\",\"2020-08-04T00:00:00\",\"2020-08-05T00:00:00\",\"2020-08-06T00:00:00\",\"2020-08-07T00:00:00\",\"2020-08-10T00:00:00\",\"2020-08-11T00:00:00\",\"2020-08-12T00:00:00\",\"2020-08-13T00:00:00\",\"2020-08-14T00:00:00\",\"2020-08-17T00:00:00\",\"2020-08-18T00:00:00\",\"2020-08-19T00:00:00\",\"2020-08-20T00:00:00\",\"2020-08-21T00:00:00\",\"2020-08-24T00:00:00\",\"2020-08-25T00:00:00\",\"2020-08-26T00:00:00\",\"2020-08-27T00:00:00\",\"2020-08-28T00:00:00\",\"2020-08-31T00:00:00\",\"2020-09-01T00:00:00\",\"2020-09-02T00:00:00\",\"2020-09-03T00:00:00\",\"2020-09-04T00:00:00\",\"2020-09-08T00:00:00\",\"2020-09-09T00:00:00\",\"2020-09-10T00:00:00\",\"2020-09-11T00:00:00\",\"2020-09-14T00:00:00\",\"2020-09-15T00:00:00\",\"2020-09-16T00:00:00\",\"2020-09-17T00:00:00\",\"2020-09-18T00:00:00\",\"2020-09-21T00:00:00\",\"2020-09-22T00:00:00\",\"2020-09-23T00:00:00\",\"2020-09-24T00:00:00\",\"2020-09-25T00:00:00\",\"2020-09-28T00:00:00\",\"2020-09-29T00:00:00\",\"2020-09-30T00:00:00\",\"2020-10-01T00:00:00\",\"2020-10-02T00:00:00\",\"2020-10-05T00:00:00\",\"2020-10-06T00:00:00\",\"2020-10-07T00:00:00\",\"2020-10-08T00:00:00\",\"2020-10-09T00:00:00\",\"2020-10-12T00:00:00\",\"2020-10-13T00:00:00\",\"2020-10-14T00:00:00\",\"2020-10-15T00:00:00\",\"2020-10-16T00:00:00\",\"2020-10-19T00:00:00\",\"2020-10-20T00:00:00\",\"2020-10-21T00:00:00\",\"2020-10-22T00:00:00\",\"2020-10-23T00:00:00\",\"2020-10-26T00:00:00\",\"2020-10-27T00:00:00\",\"2020-10-28T00:00:00\",\"2020-10-29T00:00:00\",\"2020-10-30T00:00:00\",\"2020-11-02T00:00:00\",\"2020-11-03T00:00:00\",\"2020-11-04T00:00:00\",\"2020-11-05T00:00:00\",\"2020-11-06T00:00:00\",\"2020-11-09T00:00:00\",\"2020-11-10T00:00:00\",\"2020-11-11T00:00:00\",\"2020-11-12T00:00:00\",\"2020-11-13T00:00:00\",\"2020-11-16T00:00:00\",\"2020-11-17T00:00:00\",\"2020-11-18T00:00:00\",\"2020-11-19T00:00:00\",\"2020-11-20T00:00:00\",\"2020-11-23T00:00:00\",\"2020-11-24T00:00:00\",\"2020-11-25T00:00:00\",\"2020-11-27T00:00:00\",\"2020-11-30T00:00:00\",\"2020-12-01T00:00:00\",\"2020-12-02T00:00:00\",\"2020-12-03T00:00:00\",\"2020-12-04T00:00:00\",\"2020-12-07T00:00:00\",\"2020-12-08T00:00:00\",\"2020-12-09T00:00:00\",\"2020-12-10T00:00:00\",\"2020-12-11T00:00:00\",\"2020-12-14T00:00:00\",\"2020-12-15T00:00:00\",\"2020-12-16T00:00:00\",\"2020-12-17T00:00:00\",\"2020-12-18T00:00:00\",\"2020-12-21T00:00:00\",\"2020-12-22T00:00:00\",\"2020-12-23T00:00:00\",\"2020-12-24T00:00:00\",\"2020-12-28T00:00:00\",\"2020-12-29T00:00:00\",\"2020-12-30T00:00:00\",\"2020-12-31T00:00:00\",\"2021-01-04T00:00:00\",\"2021-01-05T00:00:00\",\"2021-01-06T00:00:00\",\"2021-01-07T00:00:00\",\"2021-01-08T00:00:00\",\"2021-01-11T00:00:00\",\"2021-01-12T00:00:00\",\"2021-01-13T00:00:00\",\"2021-01-14T00:00:00\",\"2021-01-15T00:00:00\",\"2021-01-19T00:00:00\",\"2021-01-20T00:00:00\",\"2021-01-21T00:00:00\",\"2021-01-22T00:00:00\",\"2021-01-25T00:00:00\",\"2021-01-26T00:00:00\",\"2021-01-27T00:00:00\",\"2021-01-28T00:00:00\",\"2021-01-29T00:00:00\",\"2021-02-01T00:00:00\",\"2021-02-02T00:00:00\",\"2021-02-03T00:00:00\",\"2021-02-04T00:00:00\",\"2021-02-05T00:00:00\",\"2021-02-08T00:00:00\",\"2021-02-09T00:00:00\",\"2021-02-10T00:00:00\",\"2021-02-11T00:00:00\",\"2021-02-12T00:00:00\",\"2021-02-16T00:00:00\",\"2021-02-17T00:00:00\",\"2021-02-18T00:00:00\",\"2021-02-19T00:00:00\",\"2021-02-22T00:00:00\",\"2021-02-23T00:00:00\",\"2021-02-24T00:00:00\",\"2021-02-25T00:00:00\",\"2021-02-26T00:00:00\",\"2021-03-01T00:00:00\",\"2021-03-02T00:00:00\",\"2021-03-03T00:00:00\",\"2021-03-04T00:00:00\",\"2021-03-05T00:00:00\",\"2021-03-08T00:00:00\",\"2021-03-09T00:00:00\",\"2021-03-10T00:00:00\",\"2021-03-11T00:00:00\",\"2021-03-12T00:00:00\",\"2021-03-15T00:00:00\",\"2021-03-16T00:00:00\",\"2021-03-17T00:00:00\",\"2021-03-18T00:00:00\",\"2021-03-19T00:00:00\",\"2021-03-22T00:00:00\",\"2021-03-23T00:00:00\",\"2021-03-24T00:00:00\",\"2021-03-25T00:00:00\",\"2021-03-26T00:00:00\",\"2021-03-29T00:00:00\",\"2021-03-30T00:00:00\",\"2021-03-31T00:00:00\",\"2021-04-01T00:00:00\",\"2021-04-05T00:00:00\",\"2021-04-06T00:00:00\",\"2021-04-07T00:00:00\",\"2021-04-08T00:00:00\",\"2021-04-09T00:00:00\",\"2021-04-12T00:00:00\",\"2021-04-13T00:00:00\",\"2021-04-14T00:00:00\",\"2021-04-15T00:00:00\",\"2021-04-16T00:00:00\",\"2021-04-19T00:00:00\",\"2021-04-20T00:00:00\",\"2021-04-21T00:00:00\",\"2021-04-22T00:00:00\",\"2021-04-23T00:00:00\",\"2021-04-26T00:00:00\",\"2021-04-27T00:00:00\",\"2021-04-28T00:00:00\",\"2021-04-29T00:00:00\",\"2021-04-30T00:00:00\",\"2021-05-03T00:00:00\",\"2021-05-04T00:00:00\",\"2021-05-05T00:00:00\",\"2021-05-06T00:00:00\",\"2021-05-07T00:00:00\",\"2021-05-10T00:00:00\",\"2021-05-11T00:00:00\",\"2021-05-12T00:00:00\",\"2021-05-13T00:00:00\",\"2021-05-14T00:00:00\",\"2021-05-17T00:00:00\",\"2021-05-18T00:00:00\",\"2021-05-19T00:00:00\",\"2021-05-20T00:00:00\",\"2021-05-21T00:00:00\",\"2021-05-24T00:00:00\",\"2021-05-25T00:00:00\",\"2021-05-26T00:00:00\",\"2021-05-27T00:00:00\",\"2021-05-28T00:00:00\",\"2021-06-01T00:00:00\",\"2021-06-02T00:00:00\",\"2021-06-03T00:00:00\",\"2021-06-04T00:00:00\",\"2021-06-07T00:00:00\",\"2021-06-08T00:00:00\",\"2021-06-09T00:00:00\",\"2021-06-10T00:00:00\",\"2021-06-11T00:00:00\",\"2021-06-14T00:00:00\",\"2021-06-15T00:00:00\",\"2021-06-16T00:00:00\",\"2021-06-17T00:00:00\",\"2021-06-18T00:00:00\",\"2021-06-21T00:00:00\",\"2021-06-22T00:00:00\",\"2021-06-23T00:00:00\",\"2021-06-24T00:00:00\",\"2021-06-25T00:00:00\",\"2021-06-28T00:00:00\",\"2021-06-29T00:00:00\",\"2021-06-30T00:00:00\",\"2021-07-01T00:00:00\",\"2021-07-02T00:00:00\",\"2021-07-06T00:00:00\",\"2021-07-07T00:00:00\",\"2021-07-08T00:00:00\",\"2021-07-09T00:00:00\",\"2021-07-12T00:00:00\",\"2021-07-13T00:00:00\",\"2021-07-14T00:00:00\",\"2021-07-15T00:00:00\",\"2021-07-16T00:00:00\",\"2021-07-19T00:00:00\",\"2021-07-20T00:00:00\",\"2021-07-21T00:00:00\",\"2021-07-22T00:00:00\",\"2021-07-23T00:00:00\",\"2021-07-26T00:00:00\",\"2021-07-27T00:00:00\",\"2021-07-28T00:00:00\",\"2021-07-29T00:00:00\",\"2021-07-30T00:00:00\",\"2021-08-02T00:00:00\",\"2021-08-03T00:00:00\",\"2021-08-04T00:00:00\",\"2021-08-05T00:00:00\",\"2021-08-06T00:00:00\",\"2021-08-09T00:00:00\",\"2021-08-10T00:00:00\",\"2021-08-11T00:00:00\",\"2021-08-12T00:00:00\",\"2021-08-13T00:00:00\",\"2021-08-16T00:00:00\",\"2021-08-17T00:00:00\",\"2021-08-18T00:00:00\",\"2021-08-19T00:00:00\",\"2021-08-20T00:00:00\",\"2021-08-23T00:00:00\",\"2021-08-24T00:00:00\",\"2021-08-25T00:00:00\",\"2021-08-26T00:00:00\",\"2021-08-27T00:00:00\",\"2021-08-30T00:00:00\",\"2021-08-31T00:00:00\",\"2021-09-01T00:00:00\",\"2021-09-02T00:00:00\",\"2021-09-03T00:00:00\",\"2021-09-07T00:00:00\",\"2021-09-08T00:00:00\",\"2021-09-09T00:00:00\",\"2021-09-10T00:00:00\",\"2021-09-13T00:00:00\",\"2021-09-14T00:00:00\",\"2021-09-15T00:00:00\",\"2021-09-16T00:00:00\",\"2021-09-17T00:00:00\",\"2021-09-20T00:00:00\",\"2021-09-21T00:00:00\",\"2021-09-22T00:00:00\",\"2021-09-23T00:00:00\",\"2021-09-24T00:00:00\",\"2021-09-27T00:00:00\",\"2021-09-28T00:00:00\",\"2021-09-29T00:00:00\",\"2021-09-30T00:00:00\",\"2021-10-01T00:00:00\",\"2021-10-04T00:00:00\",\"2021-10-05T00:00:00\",\"2021-10-06T00:00:00\",\"2021-10-07T00:00:00\",\"2021-10-08T00:00:00\",\"2021-10-11T00:00:00\",\"2021-10-12T00:00:00\",\"2021-10-13T00:00:00\",\"2021-10-14T00:00:00\",\"2021-10-15T00:00:00\",\"2021-10-18T00:00:00\",\"2021-10-19T00:00:00\",\"2021-10-20T00:00:00\",\"2021-10-21T00:00:00\",\"2021-10-22T00:00:00\",\"2021-10-25T00:00:00\",\"2021-10-26T00:00:00\",\"2021-10-27T00:00:00\",\"2021-10-28T00:00:00\",\"2021-10-29T00:00:00\",\"2021-11-01T00:00:00\",\"2021-11-02T00:00:00\",\"2021-11-03T00:00:00\",\"2021-11-04T00:00:00\",\"2021-11-05T00:00:00\",\"2021-11-08T00:00:00\",\"2021-11-09T00:00:00\",\"2021-11-10T00:00:00\",\"2021-11-11T00:00:00\",\"2021-11-12T00:00:00\",\"2021-11-15T00:00:00\",\"2021-11-16T00:00:00\",\"2021-11-17T00:00:00\",\"2021-11-18T00:00:00\",\"2021-11-19T00:00:00\",\"2021-11-22T00:00:00\",\"2021-11-23T00:00:00\",\"2021-11-24T00:00:00\",\"2021-11-26T00:00:00\",\"2021-11-29T00:00:00\",\"2021-11-30T00:00:00\",\"2021-12-01T00:00:00\",\"2021-12-02T00:00:00\",\"2021-12-03T00:00:00\",\"2021-12-06T00:00:00\",\"2021-12-07T00:00:00\",\"2021-12-08T00:00:00\",\"2021-12-09T00:00:00\",\"2021-12-10T00:00:00\",\"2021-12-13T00:00:00\",\"2021-12-14T00:00:00\",\"2021-12-15T00:00:00\",\"2021-12-16T00:00:00\",\"2021-12-17T00:00:00\",\"2021-12-20T00:00:00\",\"2021-12-21T00:00:00\",\"2021-12-22T00:00:00\",\"2021-12-23T00:00:00\",\"2021-12-27T00:00:00\",\"2021-12-28T00:00:00\",\"2021-12-29T00:00:00\",\"2021-12-30T00:00:00\",\"2021-12-31T00:00:00\",\"2022-01-03T00:00:00\",\"2022-01-04T00:00:00\",\"2022-01-05T00:00:00\",\"2022-01-06T00:00:00\",\"2022-01-07T00:00:00\",\"2022-01-10T00:00:00\",\"2022-01-11T00:00:00\",\"2022-01-12T00:00:00\",\"2022-01-13T00:00:00\",\"2022-01-14T00:00:00\",\"2022-01-18T00:00:00\",\"2022-01-19T00:00:00\",\"2022-01-20T00:00:00\",\"2022-01-21T00:00:00\",\"2022-01-24T00:00:00\",\"2022-01-25T00:00:00\",\"2022-01-26T00:00:00\",\"2022-01-27T00:00:00\",\"2022-01-28T00:00:00\",\"2022-01-31T00:00:00\",\"2022-02-01T00:00:00\",\"2022-02-02T00:00:00\",\"2022-02-03T00:00:00\",\"2022-02-04T00:00:00\",\"2022-02-07T00:00:00\",\"2022-02-08T00:00:00\",\"2022-02-09T00:00:00\",\"2022-02-10T00:00:00\",\"2022-02-11T00:00:00\",\"2022-02-14T00:00:00\",\"2022-02-15T00:00:00\",\"2022-02-16T00:00:00\",\"2022-02-17T00:00:00\",\"2022-02-18T00:00:00\",\"2022-02-22T00:00:00\",\"2022-02-23T00:00:00\",\"2022-02-24T00:00:00\",\"2022-02-25T00:00:00\",\"2022-02-28T00:00:00\",\"2022-03-01T00:00:00\",\"2022-03-02T00:00:00\",\"2022-03-03T00:00:00\",\"2022-03-04T00:00:00\",\"2022-03-07T00:00:00\",\"2022-03-08T00:00:00\",\"2022-03-09T00:00:00\",\"2022-03-10T00:00:00\",\"2022-03-11T00:00:00\",\"2022-03-14T00:00:00\",\"2022-03-15T00:00:00\",\"2022-03-16T00:00:00\",\"2022-03-17T00:00:00\",\"2022-03-18T00:00:00\",\"2022-03-21T00:00:00\",\"2022-03-22T00:00:00\",\"2022-03-23T00:00:00\",\"2022-03-24T00:00:00\",\"2022-03-25T00:00:00\",\"2022-03-28T00:00:00\",\"2022-03-29T00:00:00\",\"2022-03-30T00:00:00\",\"2022-03-31T00:00:00\",\"2022-04-01T00:00:00\",\"2022-04-04T00:00:00\",\"2022-04-05T00:00:00\",\"2022-04-06T00:00:00\",\"2022-04-07T00:00:00\",\"2022-04-08T00:00:00\",\"2022-04-11T00:00:00\",\"2022-04-12T00:00:00\",\"2022-04-13T00:00:00\",\"2022-04-14T00:00:00\",\"2022-04-18T00:00:00\",\"2022-04-19T00:00:00\",\"2022-04-20T00:00:00\",\"2022-04-21T00:00:00\",\"2022-04-22T00:00:00\",\"2022-04-25T00:00:00\",\"2022-04-26T00:00:00\",\"2022-04-27T00:00:00\",\"2022-04-28T00:00:00\",\"2022-04-29T00:00:00\",\"2022-05-02T00:00:00\",\"2022-05-03T00:00:00\",\"2022-05-04T00:00:00\",\"2022-05-05T00:00:00\",\"2022-05-06T00:00:00\",\"2022-05-09T00:00:00\",\"2022-05-10T00:00:00\",\"2022-05-11T00:00:00\",\"2022-05-12T00:00:00\",\"2022-05-13T00:00:00\",\"2022-05-16T00:00:00\",\"2022-05-17T00:00:00\",\"2022-05-18T00:00:00\",\"2022-05-19T00:00:00\",\"2022-05-20T00:00:00\"],\"xaxis\":\"x\",\"y\":[3320.7900390625,3321.75,3325.5400390625,3295.469970703125,3243.6298828125,3276.239990234375,3273.39990234375,3283.659912109375,3225.52001953125,3248.919921875,3297.590087890625,3334.68994140625,3345.780029296875,3327.7099609375,3352.090087890625,3357.75,3379.449951171875,3373.93994140625,3380.159912109375,3370.2900390625,3386.14990234375,3373.22998046875,3337.75,3225.889892578125,3128.2099609375,3116.389892578125,2978.760009765625,2954.219970703125,3090.22998046875,3003.3701171875,3130.1201171875,3023.93994140625,2972.3701171875,2746.56005859375,2882.22998046875,2741.3798828125,2480.639892578125,2711.02001953125,2386.1298828125,2529.18994140625,2398.10009765625,2409.389892578125,2304.919921875,2237.39990234375,2447.330078125,2475.56005859375,2630.070068359375,2541.469970703125,2626.64990234375,2584.590087890625,2470.5,2526.89990234375,2488.64990234375,2663.679931640625,2659.409912109375,2749.97998046875,2789.820068359375,2761.6298828125,2846.06005859375,2783.360107421875,2799.550048828125,2874.56005859375,2823.159912109375,2736.56005859375,2799.31005859375,2797.800048828125,2836.739990234375,2878.47998046875,2863.389892578125,2939.510009765625,2912.429931640625,2830.7099609375,2842.739990234375,2868.43994140625,2848.419921875,2881.18994140625,2929.800048828125,2930.18994140625,2870.1201171875,2820.0,2852.5,2863.699951171875,2953.909912109375,2922.93994140625,2971.610107421875,2948.510009765625,2955.449951171875,2991.77001953125,3036.1298828125,3029.72998046875,3044.31005859375,3055.72998046875,3080.820068359375,3122.8701171875,3112.35009765625,3193.929931640625,3232.389892578125,3207.179931640625,3190.139892578125,3002.10009765625,3041.31005859375,3066.590087890625,3124.739990234375,3113.489990234375,3115.340087890625,3097.739990234375,3117.860107421875,3131.2900390625,3050.330078125,3083.760009765625,3009.050048828125,3053.239990234375,3100.2900390625,3115.860107421875,3130.010009765625,3179.719970703125,3145.320068359375,3169.93994140625,3152.050048828125,3185.0400390625,3155.219970703125,3197.52001953125,3226.56005859375,3215.570068359375,3224.72998046875,3251.840087890625,3257.300048828125,3276.02001953125,3235.659912109375,3215.6298828125,3239.409912109375,3218.43994140625,3258.43994140625,3246.219970703125,3271.1201171875,3294.610107421875,3306.510009765625,3327.77001953125,3349.159912109375,3351.280029296875,3360.469970703125,3333.68994140625,3380.35009765625,3373.429931640625,3372.85009765625,3381.989990234375,3389.780029296875,3374.85009765625,3385.510009765625,3397.159912109375,3431.280029296875,3443.6201171875,3478.72998046875,3484.550048828125,3508.010009765625,3500.31005859375,3526.64990234375,3580.840087890625,3455.06005859375,3426.9599609375,3331.840087890625,3398.9599609375,3339.18994140625,3340.969970703125,3383.5400390625,3401.199951171875,3385.489990234375,3357.010009765625,3319.469970703125,3281.06005859375,3315.570068359375,3236.919921875,3246.590087890625,3298.4599609375,3351.60009765625,3335.469970703125,3363.0,3380.800048828125,3348.419921875,3408.60009765625,3360.969970703125,3419.43994140625,3446.830078125,3477.139892578125,3534.219970703125,3511.929931640625,3488.669921875,3483.340087890625,3483.81005859375,3426.919921875,3443.1201171875,3435.56005859375,3453.489990234375,3465.389892578125,3400.969970703125,3390.679931640625,3271.030029296875,3310.110107421875,3269.9599609375,3310.239990234375,3369.159912109375,3443.43994140625,3510.449951171875,3509.43994140625,3550.5,3545.530029296875,3572.659912109375,3537.010009765625,3585.14990234375,3626.909912109375,3609.530029296875,3567.7900390625,3581.8701171875,3557.5400390625,3577.590087890625,3635.409912109375,3629.64990234375,3638.35009765625,3621.6298828125,3662.449951171875,3669.010009765625,3666.719970703125,3699.1201171875,3691.9599609375,3702.25,3672.820068359375,3668.10009765625,3663.4599609375,3647.489990234375,3694.6201171875,3701.169921875,3722.47998046875,3709.409912109375,3694.919921875,3687.260009765625,3690.010009765625,3703.06005859375,3735.360107421875,3727.0400390625,3732.0400390625,3756.070068359375,3700.64990234375,3726.860107421875,3748.139892578125,3803.7900390625,3824.679931640625,3799.610107421875,3801.18994140625,3809.840087890625,3795.5400390625,3768.25,3798.909912109375,3851.85009765625,3853.070068359375,3841.469970703125,3855.360107421875,3849.6201171875,3750.77001953125,3787.3798828125,3714.239990234375,3773.860107421875,3826.31005859375,3830.169921875,3871.739990234375,3886.830078125,3915.590087890625,3911.22998046875,3909.8798828125,3916.3798828125,3934.830078125,3932.590087890625,3931.330078125,3913.969970703125,3906.7099609375,3876.5,3881.3701171875,3925.429931640625,3829.340087890625,3811.14990234375,3901.820068359375,3870.2900390625,3819.719970703125,3768.469970703125,3841.93994140625,3821.35009765625,3875.43994140625,3898.81005859375,3939.340087890625,3943.340087890625,3968.93994140625,3962.7099609375,3974.1201171875,3915.4599609375,3913.10009765625,3940.590087890625,3910.52001953125,3889.139892578125,3909.52001953125,3974.5400390625,3971.090087890625,3958.550048828125,3972.889892578125,4019.8701171875,4077.909912109375,4073.93994140625,4079.949951171875,4097.169921875,4128.7998046875,4127.990234375,4141.58984375,4124.66015625,4170.419921875,4185.47021484375,4163.259765625,4134.93994140625,4173.419921875,4134.97998046875,4180.169921875,4187.6201171875,4186.72021484375,4183.18017578125,4211.47021484375,4181.169921875,4192.66015625,4164.66015625,4167.58984375,4201.6201171875,4232.60009765625,4188.43017578125,4152.10009765625,4063.0400390625,4112.5,4173.85009765625,4163.2900390625,4127.830078125,4115.68017578125,4159.1201171875,4155.85986328125,4197.0498046875,4188.1298828125,4195.990234375,4200.8798828125,4204.10986328125,4202.0400390625,4208.1201171875,4192.85009765625,4229.89013671875,4226.52001953125,4227.259765625,4219.5498046875,4239.18017578125,4247.43994140625,4255.14990234375,4246.58984375,4223.7001953125,4221.85986328125,4166.4501953125,4224.7900390625,4246.43994140625,4241.83984375,4266.490234375,4280.7001953125,4290.60986328125,4291.7998046875,4297.5,4319.93994140625,4352.33984375,4343.5400390625,4358.1298828125,4320.81982421875,4369.5498046875,4384.6298828125,4369.2099609375,4374.2998046875,4360.02978515625,4327.16015625,4258.490234375,4323.06005859375,4358.68994140625,4367.47998046875,4411.7900390625,4422.2998046875,4401.4599609375,4400.64013671875,4419.14990234375,4395.259765625,4387.16015625,4423.14990234375,4402.66015625,4429.10009765625,4436.52001953125,4432.35009765625,4436.75,4442.41015625,4460.830078125,4468.0,4479.7099609375,4448.080078125,4400.27001953125,4405.7998046875,4441.669921875,4479.52978515625,4486.22998046875,4496.18994140625,4470.0,4509.3701171875,4528.7900390625,4522.68017578125,4524.08984375,4536.9501953125,4535.43017578125,4520.02978515625,4514.06982421875,4493.27978515625,4458.580078125,4468.72998046875,4443.0498046875,4480.7001953125,4473.75,4432.990234375,4357.72998046875,4354.18994140625,4395.64013671875,4448.97998046875,4455.47998046875,4443.10986328125,4352.6298828125,4359.4599609375,4307.5400390625,4357.0400390625,4300.4599609375,4345.72021484375,4363.5498046875,4399.759765625,4391.33984375,4361.18994140625,4350.64990234375,4363.7998046875,4438.259765625,4471.3701171875,4486.4599609375,4519.6298828125,4536.18994140625,4549.77978515625,4544.89990234375,4566.47998046875,4574.7900390625,4551.68017578125,4596.419921875,4605.3798828125,4613.669921875,4630.64990234375,4660.56982421875,4680.06005859375,4697.52978515625,4701.7001953125,4685.25,4646.7099609375,4649.27001953125,4682.85009765625,4682.7998046875,4700.89990234375,4688.669921875,4704.5400390625,4697.9599609375,4682.93994140625,4690.7001953125,4701.4599609375,4594.6201171875,4655.27001953125,4567.0,4513.0400390625,4577.10009765625,4538.43017578125,4591.669921875,4686.75,4701.2099609375,4667.4501953125,4712.02001953125,4668.97021484375,4634.08984375,4709.85009765625,4668.669921875,4620.64013671875,4568.02001953125,4649.22998046875,4696.56005859375,4725.7900390625,4791.18994140625,4786.35009765625,4793.06005859375,4778.72998046875,4766.18017578125,4796.56005859375,4793.5400390625,4700.580078125,4696.0498046875,4677.02978515625,4670.2900390625,4713.06982421875,4726.35009765625,4659.02978515625,4662.85009765625,4577.10986328125,4532.759765625,4482.72998046875,4397.93994140625,4410.1298828125,4356.4501953125,4349.93017578125,4326.509765625,4431.85009765625,4515.5498046875,4546.5400390625,4589.3798828125,4477.43994140625,4500.52978515625,4483.8701171875,4521.5400390625,4587.18017578125,4504.080078125,4418.64013671875,4401.669921875,4471.06982421875,4475.009765625,4380.259765625,4348.8701171875,4304.759765625,4225.5,4288.7001953125,4384.64990234375,4373.93994140625,4306.259765625,4386.5400390625,4363.490234375,4328.8701171875,4201.08984375,4170.7001953125,4277.8798828125,4259.52001953125,4204.31005859375,4173.10986328125,4262.4501953125,4357.85986328125,4411.669921875,4463.1201171875,4461.18017578125,4511.60986328125,4456.240234375,4520.16015625,4543.06005859375,4575.52001953125,4631.60009765625,4602.4501953125,4530.41015625,4545.85986328125,4582.64013671875,4525.1201171875,4481.14990234375,4500.2099609375,4488.27978515625,4412.52978515625,4397.4501953125,4446.58984375,4392.58984375,4391.68994140625,4462.2099609375,4459.4501953125,4393.66015625,4271.77978515625,4296.1201171875,4175.2001953125,4183.9599609375,4287.5,4131.93017578125,4155.3798828125,4175.47998046875,4300.169921875,4146.8701171875,4123.33984375,3991.239990234375,4001.050048828125,3935.179931640625,3930.080078125,4023.889892578125,4008.010009765625,4088.85009765625,3923.679931640625,3900.7900390625,3901.360107421875],\"yaxis\":\"y\",\"type\":\"scattergl\"},{\"hovertemplate\":\"name=nasdaq<br>Date=%{x}<br>Close=%{y}<extra></extra>\",\"legendgroup\":\"nasdaq\",\"line\":{\"color\":\"#EF553B\",\"dash\":\"solid\"},\"marker\":{\"symbol\":\"circle\"},\"mode\":\"lines\",\"name\":\"nasdaq\",\"showlegend\":true,\"x\":[\"2020-01-21T00:00:00\",\"2020-01-22T00:00:00\",\"2020-01-23T00:00:00\",\"2020-01-24T00:00:00\",\"2020-01-27T00:00:00\",\"2020-01-28T00:00:00\",\"2020-01-29T00:00:00\",\"2020-01-30T00:00:00\",\"2020-01-31T00:00:00\",\"2020-02-03T00:00:00\",\"2020-02-04T00:00:00\",\"2020-02-05T00:00:00\",\"2020-02-06T00:00:00\",\"2020-02-07T00:00:00\",\"2020-02-10T00:00:00\",\"2020-02-11T00:00:00\",\"2020-02-12T00:00:00\",\"2020-02-13T00:00:00\",\"2020-02-14T00:00:00\",\"2020-02-18T00:00:00\",\"2020-02-19T00:00:00\",\"2020-02-20T00:00:00\",\"2020-02-21T00:00:00\",\"2020-02-24T00:00:00\",\"2020-02-25T00:00:00\",\"2020-02-26T00:00:00\",\"2020-02-27T00:00:00\",\"2020-02-28T00:00:00\",\"2020-03-02T00:00:00\",\"2020-03-03T00:00:00\",\"2020-03-04T00:00:00\",\"2020-03-05T00:00:00\",\"2020-03-06T00:00:00\",\"2020-03-09T00:00:00\",\"2020-03-10T00:00:00\",\"2020-03-11T00:00:00\",\"2020-03-12T00:00:00\",\"2020-03-13T00:00:00\",\"2020-03-16T00:00:00\",\"2020-03-17T00:00:00\",\"2020-03-18T00:00:00\",\"2020-03-19T00:00:00\",\"2020-03-20T00:00:00\",\"2020-03-23T00:00:00\",\"2020-03-24T00:00:00\",\"2020-03-25T00:00:00\",\"2020-03-26T00:00:00\",\"2020-03-27T00:00:00\",\"2020-03-30T00:00:00\",\"2020-03-31T00:00:00\",\"2020-04-01T00:00:00\",\"2020-04-02T00:00:00\",\"2020-04-03T00:00:00\",\"2020-04-06T00:00:00\",\"2020-04-07T00:00:00\",\"2020-04-08T00:00:00\",\"2020-04-09T00:00:00\",\"2020-04-13T00:00:00\",\"2020-04-14T00:00:00\",\"2020-04-15T00:00:00\",\"2020-04-16T00:00:00\",\"2020-04-17T00:00:00\",\"2020-04-20T00:00:00\",\"2020-04-21T00:00:00\",\"2020-04-22T00:00:00\",\"2020-04-23T00:00:00\",\"2020-04-24T00:00:00\",\"2020-04-27T00:00:00\",\"2020-04-28T00:00:00\",\"2020-04-29T00:00:00\",\"2020-04-30T00:00:00\",\"2020-05-01T00:00:00\",\"2020-05-04T00:00:00\",\"2020-05-05T00:00:00\",\"2020-05-06T00:00:00\",\"2020-05-07T00:00:00\",\"2020-05-08T00:00:00\",\"2020-05-11T00:00:00\",\"2020-05-12T00:00:00\",\"2020-05-13T00:00:00\",\"2020-05-14T00:00:00\",\"2020-05-15T00:00:00\",\"2020-05-18T00:00:00\",\"2020-05-19T00:00:00\",\"2020-05-20T00:00:00\",\"2020-05-21T00:00:00\",\"2020-05-22T00:00:00\",\"2020-05-26T00:00:00\",\"2020-05-27T00:00:00\",\"2020-05-28T00:00:00\",\"2020-05-29T00:00:00\",\"2020-06-01T00:00:00\",\"2020-06-02T00:00:00\",\"2020-06-03T00:00:00\",\"2020-06-04T00:00:00\",\"2020-06-05T00:00:00\",\"2020-06-08T00:00:00\",\"2020-06-09T00:00:00\",\"2020-06-10T00:00:00\",\"2020-06-11T00:00:00\",\"2020-06-12T00:00:00\",\"2020-06-15T00:00:00\",\"2020-06-16T00:00:00\",\"2020-06-17T00:00:00\",\"2020-06-18T00:00:00\",\"2020-06-19T00:00:00\",\"2020-06-22T00:00:00\",\"2020-06-23T00:00:00\",\"2020-06-24T00:00:00\",\"2020-06-25T00:00:00\",\"2020-06-26T00:00:00\",\"2020-06-29T00:00:00\",\"2020-06-30T00:00:00\",\"2020-07-01T00:00:00\",\"2020-07-02T00:00:00\",\"2020-07-06T00:00:00\",\"2020-07-07T00:00:00\",\"2020-07-08T00:00:00\",\"2020-07-09T00:00:00\",\"2020-07-10T00:00:00\",\"2020-07-13T00:00:00\",\"2020-07-14T00:00:00\",\"2020-07-15T00:00:00\",\"2020-07-16T00:00:00\",\"2020-07-17T00:00:00\",\"2020-07-20T00:00:00\",\"2020-07-21T00:00:00\",\"2020-07-22T00:00:00\",\"2020-07-23T00:00:00\",\"2020-07-24T00:00:00\",\"2020-07-27T00:00:00\",\"2020-07-28T00:00:00\",\"2020-07-29T00:00:00\",\"2020-07-30T00:00:00\",\"2020-07-31T00:00:00\",\"2020-08-03T00:00:00\",\"2020-08-04T00:00:00\",\"2020-08-05T00:00:00\",\"2020-08-06T00:00:00\",\"2020-08-07T00:00:00\",\"2020-08-10T00:00:00\",\"2020-08-11T00:00:00\",\"2020-08-12T00:00:00\",\"2020-08-13T00:00:00\",\"2020-08-14T00:00:00\",\"2020-08-17T00:00:00\",\"2020-08-18T00:00:00\",\"2020-08-19T00:00:00\",\"2020-08-20T00:00:00\",\"2020-08-21T00:00:00\",\"2020-08-24T00:00:00\",\"2020-08-25T00:00:00\",\"2020-08-26T00:00:00\",\"2020-08-27T00:00:00\",\"2020-08-28T00:00:00\",\"2020-08-31T00:00:00\",\"2020-09-01T00:00:00\",\"2020-09-02T00:00:00\",\"2020-09-03T00:00:00\",\"2020-09-04T00:00:00\",\"2020-09-08T00:00:00\",\"2020-09-09T00:00:00\",\"2020-09-10T00:00:00\",\"2020-09-11T00:00:00\",\"2020-09-14T00:00:00\",\"2020-09-15T00:00:00\",\"2020-09-16T00:00:00\",\"2020-09-17T00:00:00\",\"2020-09-18T00:00:00\",\"2020-09-21T00:00:00\",\"2020-09-22T00:00:00\",\"2020-09-23T00:00:00\",\"2020-09-24T00:00:00\",\"2020-09-25T00:00:00\",\"2020-09-28T00:00:00\",\"2020-09-29T00:00:00\",\"2020-09-30T00:00:00\",\"2020-10-01T00:00:00\",\"2020-10-02T00:00:00\",\"2020-10-05T00:00:00\",\"2020-10-06T00:00:00\",\"2020-10-07T00:00:00\",\"2020-10-08T00:00:00\",\"2020-10-09T00:00:00\",\"2020-10-12T00:00:00\",\"2020-10-13T00:00:00\",\"2020-10-14T00:00:00\",\"2020-10-15T00:00:00\",\"2020-10-16T00:00:00\",\"2020-10-19T00:00:00\",\"2020-10-20T00:00:00\",\"2020-10-21T00:00:00\",\"2020-10-22T00:00:00\",\"2020-10-23T00:00:00\",\"2020-10-26T00:00:00\",\"2020-10-27T00:00:00\",\"2020-10-28T00:00:00\",\"2020-10-29T00:00:00\",\"2020-10-30T00:00:00\",\"2020-11-02T00:00:00\",\"2020-11-03T00:00:00\",\"2020-11-04T00:00:00\",\"2020-11-05T00:00:00\",\"2020-11-06T00:00:00\",\"2020-11-09T00:00:00\",\"2020-11-10T00:00:00\",\"2020-11-11T00:00:00\",\"2020-11-12T00:00:00\",\"2020-11-13T00:00:00\",\"2020-11-16T00:00:00\",\"2020-11-17T00:00:00\",\"2020-11-18T00:00:00\",\"2020-11-19T00:00:00\",\"2020-11-20T00:00:00\",\"2020-11-23T00:00:00\",\"2020-11-24T00:00:00\",\"2020-11-25T00:00:00\",\"2020-11-27T00:00:00\",\"2020-11-30T00:00:00\",\"2020-12-01T00:00:00\",\"2020-12-02T00:00:00\",\"2020-12-03T00:00:00\",\"2020-12-04T00:00:00\",\"2020-12-07T00:00:00\",\"2020-12-08T00:00:00\",\"2020-12-09T00:00:00\",\"2020-12-10T00:00:00\",\"2020-12-11T00:00:00\",\"2020-12-14T00:00:00\",\"2020-12-15T00:00:00\",\"2020-12-16T00:00:00\",\"2020-12-17T00:00:00\",\"2020-12-18T00:00:00\",\"2020-12-21T00:00:00\",\"2020-12-22T00:00:00\",\"2020-12-23T00:00:00\",\"2020-12-24T00:00:00\",\"2020-12-28T00:00:00\",\"2020-12-29T00:00:00\",\"2020-12-30T00:00:00\",\"2020-12-31T00:00:00\",\"2021-01-04T00:00:00\",\"2021-01-05T00:00:00\",\"2021-01-06T00:00:00\",\"2021-01-07T00:00:00\",\"2021-01-08T00:00:00\",\"2021-01-11T00:00:00\",\"2021-01-12T00:00:00\",\"2021-01-13T00:00:00\",\"2021-01-14T00:00:00\",\"2021-01-15T00:00:00\",\"2021-01-19T00:00:00\",\"2021-01-20T00:00:00\",\"2021-01-21T00:00:00\",\"2021-01-22T00:00:00\",\"2021-01-25T00:00:00\",\"2021-01-26T00:00:00\",\"2021-01-27T00:00:00\",\"2021-01-28T00:00:00\",\"2021-01-29T00:00:00\",\"2021-02-01T00:00:00\",\"2021-02-02T00:00:00\",\"2021-02-03T00:00:00\",\"2021-02-04T00:00:00\",\"2021-02-05T00:00:00\",\"2021-02-08T00:00:00\",\"2021-02-09T00:00:00\",\"2021-02-10T00:00:00\",\"2021-02-11T00:00:00\",\"2021-02-12T00:00:00\",\"2021-02-16T00:00:00\",\"2021-02-17T00:00:00\",\"2021-02-18T00:00:00\",\"2021-02-19T00:00:00\",\"2021-02-22T00:00:00\",\"2021-02-23T00:00:00\",\"2021-02-24T00:00:00\",\"2021-02-25T00:00:00\",\"2021-02-26T00:00:00\",\"2021-03-01T00:00:00\",\"2021-03-02T00:00:00\",\"2021-03-03T00:00:00\",\"2021-03-04T00:00:00\",\"2021-03-05T00:00:00\",\"2021-03-08T00:00:00\",\"2021-03-09T00:00:00\",\"2021-03-10T00:00:00\",\"2021-03-11T00:00:00\",\"2021-03-12T00:00:00\",\"2021-03-15T00:00:00\",\"2021-03-16T00:00:00\",\"2021-03-17T00:00:00\",\"2021-03-18T00:00:00\",\"2021-03-19T00:00:00\",\"2021-03-22T00:00:00\",\"2021-03-23T00:00:00\",\"2021-03-24T00:00:00\",\"2021-03-25T00:00:00\",\"2021-03-26T00:00:00\",\"2021-03-29T00:00:00\",\"2021-03-30T00:00:00\",\"2021-03-31T00:00:00\",\"2021-04-01T00:00:00\",\"2021-04-05T00:00:00\",\"2021-04-06T00:00:00\",\"2021-04-07T00:00:00\",\"2021-04-08T00:00:00\",\"2021-04-09T00:00:00\",\"2021-04-12T00:00:00\",\"2021-04-13T00:00:00\",\"2021-04-14T00:00:00\",\"2021-04-15T00:00:00\",\"2021-04-16T00:00:00\",\"2021-04-19T00:00:00\",\"2021-04-20T00:00:00\",\"2021-04-21T00:00:00\",\"2021-04-22T00:00:00\",\"2021-04-23T00:00:00\",\"2021-04-26T00:00:00\",\"2021-04-27T00:00:00\",\"2021-04-28T00:00:00\",\"2021-04-29T00:00:00\",\"2021-04-30T00:00:00\",\"2021-05-03T00:00:00\",\"2021-05-04T00:00:00\",\"2021-05-05T00:00:00\",\"2021-05-06T00:00:00\",\"2021-05-07T00:00:00\",\"2021-05-10T00:00:00\",\"2021-05-11T00:00:00\",\"2021-05-12T00:00:00\",\"2021-05-13T00:00:00\",\"2021-05-14T00:00:00\",\"2021-05-17T00:00:00\",\"2021-05-18T00:00:00\",\"2021-05-19T00:00:00\",\"2021-05-20T00:00:00\",\"2021-05-21T00:00:00\",\"2021-05-24T00:00:00\",\"2021-05-25T00:00:00\",\"2021-05-26T00:00:00\",\"2021-05-27T00:00:00\",\"2021-05-28T00:00:00\",\"2021-06-01T00:00:00\",\"2021-06-02T00:00:00\",\"2021-06-03T00:00:00\",\"2021-06-04T00:00:00\",\"2021-06-07T00:00:00\",\"2021-06-08T00:00:00\",\"2021-06-09T00:00:00\",\"2021-06-10T00:00:00\",\"2021-06-11T00:00:00\",\"2021-06-14T00:00:00\",\"2021-06-15T00:00:00\",\"2021-06-16T00:00:00\",\"2021-06-17T00:00:00\",\"2021-06-18T00:00:00\",\"2021-06-21T00:00:00\",\"2021-06-22T00:00:00\",\"2021-06-23T00:00:00\",\"2021-06-24T00:00:00\",\"2021-06-25T00:00:00\",\"2021-06-28T00:00:00\",\"2021-06-29T00:00:00\",\"2021-06-30T00:00:00\",\"2021-07-01T00:00:00\",\"2021-07-02T00:00:00\",\"2021-07-06T00:00:00\",\"2021-07-07T00:00:00\",\"2021-07-08T00:00:00\",\"2021-07-09T00:00:00\",\"2021-07-12T00:00:00\",\"2021-07-13T00:00:00\",\"2021-07-14T00:00:00\",\"2021-07-15T00:00:00\",\"2021-07-16T00:00:00\",\"2021-07-19T00:00:00\",\"2021-07-20T00:00:00\",\"2021-07-21T00:00:00\",\"2021-07-22T00:00:00\",\"2021-07-23T00:00:00\",\"2021-07-26T00:00:00\",\"2021-07-27T00:00:00\",\"2021-07-28T00:00:00\",\"2021-07-29T00:00:00\",\"2021-07-30T00:00:00\",\"2021-08-02T00:00:00\",\"2021-08-03T00:00:00\",\"2021-08-04T00:00:00\",\"2021-08-05T00:00:00\",\"2021-08-06T00:00:00\",\"2021-08-09T00:00:00\",\"2021-08-10T00:00:00\",\"2021-08-11T00:00:00\",\"2021-08-12T00:00:00\",\"2021-08-13T00:00:00\",\"2021-08-16T00:00:00\",\"2021-08-17T00:00:00\",\"2021-08-18T00:00:00\",\"2021-08-19T00:00:00\",\"2021-08-20T00:00:00\",\"2021-08-23T00:00:00\",\"2021-08-24T00:00:00\",\"2021-08-25T00:00:00\",\"2021-08-26T00:00:00\",\"2021-08-27T00:00:00\",\"2021-08-30T00:00:00\",\"2021-08-31T00:00:00\",\"2021-09-01T00:00:00\",\"2021-09-02T00:00:00\",\"2021-09-03T00:00:00\",\"2021-09-07T00:00:00\",\"2021-09-08T00:00:00\",\"2021-09-09T00:00:00\",\"2021-09-10T00:00:00\",\"2021-09-13T00:00:00\",\"2021-09-14T00:00:00\",\"2021-09-15T00:00:00\",\"2021-09-16T00:00:00\",\"2021-09-17T00:00:00\",\"2021-09-20T00:00:00\",\"2021-09-21T00:00:00\",\"2021-09-22T00:00:00\",\"2021-09-23T00:00:00\",\"2021-09-24T00:00:00\",\"2021-09-27T00:00:00\",\"2021-09-28T00:00:00\",\"2021-09-29T00:00:00\",\"2021-09-30T00:00:00\",\"2021-10-01T00:00:00\",\"2021-10-04T00:00:00\",\"2021-10-05T00:00:00\",\"2021-10-06T00:00:00\",\"2021-10-07T00:00:00\",\"2021-10-08T00:00:00\",\"2021-10-11T00:00:00\",\"2021-10-12T00:00:00\",\"2021-10-13T00:00:00\",\"2021-10-14T00:00:00\",\"2021-10-15T00:00:00\",\"2021-10-18T00:00:00\",\"2021-10-19T00:00:00\",\"2021-10-20T00:00:00\",\"2021-10-21T00:00:00\",\"2021-10-22T00:00:00\",\"2021-10-25T00:00:00\",\"2021-10-26T00:00:00\",\"2021-10-27T00:00:00\",\"2021-10-28T00:00:00\",\"2021-10-29T00:00:00\",\"2021-11-01T00:00:00\",\"2021-11-02T00:00:00\",\"2021-11-03T00:00:00\",\"2021-11-04T00:00:00\",\"2021-11-05T00:00:00\",\"2021-11-08T00:00:00\",\"2021-11-09T00:00:00\",\"2021-11-10T00:00:00\",\"2021-11-11T00:00:00\",\"2021-11-12T00:00:00\",\"2021-11-15T00:00:00\",\"2021-11-16T00:00:00\",\"2021-11-17T00:00:00\",\"2021-11-18T00:00:00\",\"2021-11-19T00:00:00\",\"2021-11-22T00:00:00\",\"2021-11-23T00:00:00\",\"2021-11-24T00:00:00\",\"2021-11-26T00:00:00\",\"2021-11-29T00:00:00\",\"2021-11-30T00:00:00\",\"2021-12-01T00:00:00\",\"2021-12-02T00:00:00\",\"2021-12-03T00:00:00\",\"2021-12-06T00:00:00\",\"2021-12-07T00:00:00\",\"2021-12-08T00:00:00\",\"2021-12-09T00:00:00\",\"2021-12-10T00:00:00\",\"2021-12-13T00:00:00\",\"2021-12-14T00:00:00\",\"2021-12-15T00:00:00\",\"2021-12-16T00:00:00\",\"2021-12-17T00:00:00\",\"2021-12-20T00:00:00\",\"2021-12-21T00:00:00\",\"2021-12-22T00:00:00\",\"2021-12-23T00:00:00\",\"2021-12-27T00:00:00\",\"2021-12-28T00:00:00\",\"2021-12-29T00:00:00\",\"2021-12-30T00:00:00\",\"2021-12-31T00:00:00\",\"2022-01-03T00:00:00\",\"2022-01-04T00:00:00\",\"2022-01-05T00:00:00\",\"2022-01-06T00:00:00\",\"2022-01-07T00:00:00\",\"2022-01-10T00:00:00\",\"2022-01-11T00:00:00\",\"2022-01-12T00:00:00\",\"2022-01-13T00:00:00\",\"2022-01-14T00:00:00\",\"2022-01-18T00:00:00\",\"2022-01-19T00:00:00\",\"2022-01-20T00:00:00\",\"2022-01-21T00:00:00\",\"2022-01-24T00:00:00\",\"2022-01-25T00:00:00\",\"2022-01-26T00:00:00\",\"2022-01-27T00:00:00\",\"2022-01-28T00:00:00\",\"2022-01-31T00:00:00\",\"2022-02-01T00:00:00\",\"2022-02-02T00:00:00\",\"2022-02-03T00:00:00\",\"2022-02-04T00:00:00\",\"2022-02-07T00:00:00\",\"2022-02-08T00:00:00\",\"2022-02-09T00:00:00\",\"2022-02-10T00:00:00\",\"2022-02-11T00:00:00\",\"2022-02-14T00:00:00\",\"2022-02-15T00:00:00\",\"2022-02-16T00:00:00\",\"2022-02-17T00:00:00\",\"2022-02-18T00:00:00\",\"2022-02-22T00:00:00\",\"2022-02-23T00:00:00\",\"2022-02-24T00:00:00\",\"2022-02-25T00:00:00\",\"2022-02-28T00:00:00\",\"2022-03-01T00:00:00\",\"2022-03-02T00:00:00\",\"2022-03-03T00:00:00\",\"2022-03-04T00:00:00\",\"2022-03-07T00:00:00\",\"2022-03-08T00:00:00\",\"2022-03-09T00:00:00\",\"2022-03-10T00:00:00\",\"2022-03-11T00:00:00\",\"2022-03-14T00:00:00\",\"2022-03-15T00:00:00\",\"2022-03-16T00:00:00\",\"2022-03-17T00:00:00\",\"2022-03-18T00:00:00\",\"2022-03-21T00:00:00\",\"2022-03-22T00:00:00\",\"2022-03-23T00:00:00\",\"2022-03-24T00:00:00\",\"2022-03-25T00:00:00\",\"2022-03-28T00:00:00\",\"2022-03-29T00:00:00\",\"2022-03-30T00:00:00\",\"2022-03-31T00:00:00\",\"2022-04-01T00:00:00\",\"2022-04-04T00:00:00\",\"2022-04-05T00:00:00\",\"2022-04-06T00:00:00\",\"2022-04-07T00:00:00\",\"2022-04-08T00:00:00\",\"2022-04-11T00:00:00\",\"2022-04-12T00:00:00\",\"2022-04-13T00:00:00\",\"2022-04-14T00:00:00\",\"2022-04-18T00:00:00\",\"2022-04-19T00:00:00\",\"2022-04-20T00:00:00\",\"2022-04-21T00:00:00\",\"2022-04-22T00:00:00\",\"2022-04-25T00:00:00\",\"2022-04-26T00:00:00\",\"2022-04-27T00:00:00\",\"2022-04-28T00:00:00\",\"2022-04-29T00:00:00\",\"2022-05-02T00:00:00\",\"2022-05-03T00:00:00\",\"2022-05-04T00:00:00\",\"2022-05-05T00:00:00\",\"2022-05-06T00:00:00\",\"2022-05-09T00:00:00\",\"2022-05-10T00:00:00\",\"2022-05-11T00:00:00\",\"2022-05-12T00:00:00\",\"2022-05-13T00:00:00\",\"2022-05-16T00:00:00\",\"2022-05-17T00:00:00\",\"2022-05-18T00:00:00\",\"2022-05-19T00:00:00\",\"2022-05-20T00:00:00\"],\"xaxis\":\"x\",\"y\":[9166.6298828125,9188.580078125,9216.98046875,9141.4697265625,8952.1796875,9090.9296875,9101.6103515625,9136.08984375,8991.509765625,9126.23046875,9334.0595703125,9367.48046875,9445.919921875,9401.099609375,9516.83984375,9517.8603515625,9613.2001953125,9595.7001953125,9623.580078125,9629.7998046875,9718.73046875,9627.830078125,9446.6904296875,9079.6298828125,8834.8701171875,8873.759765625,8436.669921875,8461.830078125,8877.98046875,8594.490234375,8949.2802734375,8671.66015625,8530.33984375,7948.02978515625,8372.26953125,8006.1201171875,7263.64990234375,7995.259765625,7020.3798828125,7473.9501953125,7175.18017578125,7288.52001953125,6994.2900390625,7006.919921875,7553.830078125,7469.6201171875,7897.1298828125,7588.3701171875,7889.009765625,7813.5,7486.2900390625,7635.66015625,7528.10986328125,8081.66015625,8049.31005859375,8229.5400390625,8238.5302734375,8332.740234375,8692.16015625,8591.9599609375,8757.830078125,8832.41015625,8726.509765625,8403.0,8664.6396484375,8641.5,8786.599609375,8837.66015625,8677.599609375,8982.759765625,9000.509765625,8718.1796875,8834.1103515625,8930.6201171875,8984.8603515625,9101.8798828125,9220.349609375,9298.919921875,9112.4501953125,9000.080078125,9094.419921875,9152.6396484375,9331.9296875,9298.5400390625,9485.01953125,9377.990234375,9413.990234375,9389.98046875,9442.0498046875,9416.7099609375,9555.5302734375,9598.8896484375,9657.3095703125,9704.6904296875,9629.66015625,9824.3896484375,9901.51953125,9967.169921875,10094.259765625,9588.48046875,9663.7802734375,9776.8896484375,9949.3701171875,9982.48046875,10012.0498046875,10008.6396484375,10130.330078125,10209.8203125,10002.7001953125,10101.830078125,9849.3603515625,9961.16015625,10156.849609375,10279.25,10341.8896484375,10604.0595703125,10524.009765625,10666.7001953125,10754.58984375,10836.330078125,10602.2099609375,10689.51953125,10701.6796875,10626.4599609375,10645.2197265625,10952.080078125,10833.0703125,10870.75,10580.58984375,10483.1298828125,10674.3798828125,10532.5,10662.98046875,10715.509765625,10905.8798828125,11055.080078125,11096.5400390625,11125.4404296875,11267.080078125,11139.3896484375,11085.169921875,10876.080078125,11157.7197265625,11178.3701171875,11164.4501953125,11288.5703125,11399.0302734375,11318.6396484375,11477.0498046875,11555.16015625,11626.169921875,11721.8095703125,11971.9404296875,11926.16015625,11995.849609375,12110.7001953125,12292.8603515625,12420.5400390625,11771.3701171875,11622.1298828125,11068.259765625,11395.849609375,11154.1201171875,11087.400390625,11277.759765625,11438.8701171875,11247.599609375,11080.9501953125,10936.98046875,10980.2197265625,11186.3701171875,10833.330078125,10896.4697265625,11151.1298828125,11364.4501953125,11322.9501953125,11418.0595703125,11583.2001953125,11255.6904296875,11509.0595703125,11291.26953125,11503.1904296875,11550.9404296875,11725.849609375,12088.1103515625,12083.169921875,11985.3603515625,11898.5703125,11852.169921875,11634.349609375,11677.83984375,11665.3701171875,11662.91015625,11692.5703125,11504.51953125,11598.9501953125,11142.759765625,11350.740234375,11052.9501953125,11084.759765625,11279.91015625,11777.01953125,12078.0703125,12091.349609375,11830.3896484375,11624.2900390625,11892.9296875,11827.1396484375,11937.83984375,12013.3798828125,11977.490234375,11894.7099609375,11985.4296875,11906.4404296875,11905.9404296875,12079.8095703125,12152.2197265625,12258.2099609375,12268.3203125,12455.330078125,12456.41015625,12467.1298828125,12528.48046875,12596.4697265625,12635.7197265625,12364.6396484375,12401.740234375,12375.41015625,12462.2099609375,12595.919921875,12668.16015625,12752.0595703125,12738.1796875,12690.259765625,12717.5595703125,12653.1396484375,12711.009765625,12838.8603515625,12843.490234375,12845.3603515625,12888.2802734375,12694.66015625,12802.3798828125,12623.349609375,12939.5703125,13105.2001953125,12902.490234375,12892.08984375,12973.6298828125,12898.6904296875,12803.9296875,12996.5400390625,13296.4501953125,13404.990234375,13366.400390625,13483.2900390625,13490.1904296875,13112.650390625,13201.5302734375,12925.3798828125,13248.900390625,13456.1201171875,13402.3701171875,13560.8896484375,13603.9599609375,13695.01953125,13687.080078125,13655.26953125,13734.349609375,13807.7001953125,13773.76953125,13699.7099609375,13637.509765625,13580.7802734375,13223.740234375,13194.7099609375,13302.1904296875,12828.3095703125,12909.4404296875,13282.9501953125,13059.9501953125,12683.330078125,12464.0,12668.509765625,12299.080078125,12794.490234375,12752.0703125,13052.900390625,12937.2900390625,13082.5400390625,13152.2802734375,13202.3798828125,12789.1396484375,12866.990234375,13086.509765625,13017.7900390625,12798.8798828125,12780.509765625,12979.1201171875,12965.740234375,12896.5302734375,13091.4404296875,13329.51953125,13598.16015625,13578.4599609375,13616.7001953125,13758.509765625,13845.0595703125,13819.349609375,13986.490234375,13803.91015625,14026.1904296875,14041.91015625,13907.669921875,13809.2998046875,13935.150390625,13762.3603515625,13941.4404296875,14026.16015625,13960.2802734375,13901.6201171875,13970.2001953125,13860.759765625,13799.7197265625,13544.669921875,13503.3701171875,13613.73046875,13719.6298828125,13359.080078125,13351.26953125,13001.6298828125,13109.150390625,13393.1201171875,13312.91015625,13217.6796875,13237.91015625,13494.08984375,13411.740234375,13641.75,13657.73046875,13702.740234375,13657.849609375,13686.509765625,13654.58984375,13675.7900390625,13529.6796875,13770.76953125,13802.8896484375,13810.8603515625,13814.9404296875,13960.349609375,13998.2998046875,14128.2001953125,14030.41015625,13983.009765625,14163.8095703125,14049.580078125,14137.23046875,14270.419921875,14274.240234375,14365.9599609375,14345.1796875,14524.98046875,14572.75,14554.7998046875,14560.0498046875,14727.6298828125,14786.3603515625,14810.5400390625,14722.1396484375,14826.08984375,14877.8896484375,14874.5400390625,14900.4404296875,14794.6904296875,14681.3798828125,14549.08984375,14728.2099609375,14842.6298828125,14940.169921875,15111.7900390625,15125.9501953125,14956.9697265625,15018.099609375,15048.3603515625,14959.900390625,14963.6201171875,15061.419921875,15083.3896484375,15181.6396484375,15109.3603515625,15133.1103515625,15053.580078125,15027.759765625,15088.98046875,15136.6796875,15140.76953125,15002.830078125,14857.919921875,14933.9404296875,15092.5703125,15312.8203125,15357.6796875,15368.919921875,15278.51953125,15432.9501953125,15605.08984375,15582.509765625,15611.5703125,15604.25,15652.8603515625,15675.759765625,15620.849609375,15561.0498046875,15440.75,15434.5,15382.900390625,15503.5302734375,15515.91015625,15333.4697265625,15012.1904296875,15027.76953125,15176.509765625,15316.580078125,15329.6796875,15204.8203125,14770.2998046875,14752.8896484375,14689.6201171875,14791.8701171875,14472.1201171875,14674.150390625,14766.75,14897.1298828125,14820.75,14713.73046875,14662.1103515625,14774.599609375,15052.419921875,15146.919921875,15300.8896484375,15410.7197265625,15388.7099609375,15489.58984375,15355.0703125,15514.1904296875,15559.490234375,15598.3896484375,15778.16015625,15850.4697265625,15905.2802734375,15972.490234375,16144.5,16346.240234375,16359.3798828125,16336.0302734375,16219.9404296875,15985.5703125,16032.4697265625,16199.8896484375,16189.1201171875,16309.76953125,16308.0703125,16482.970703125,16573.33984375,16380.98046875,16306.7197265625,16367.8095703125,16025.580078125,16399.240234375,16135.919921875,15877.7197265625,15990.759765625,15712.0400390625,15846.16015625,16325.66015625,16394.33984375,16149.5703125,16331.98046875,16082.5498046875,15914.900390625,16289.58984375,15863.9404296875,15801.4599609375,15627.6396484375,15986.2802734375,16180.1396484375,16308.2099609375,16567.5,16488.66015625,16491.009765625,16429.099609375,16320.080078125,16501.76953125,16279.73046875,15771.7802734375,15765.3603515625,15592.1904296875,15614.4296875,15844.1201171875,15905.099609375,15495.6201171875,15611.58984375,15210.759765625,15047.83984375,14846.4599609375,14438.400390625,14509.580078125,14149.1201171875,14172.759765625,14003.1103515625,14454.6103515625,14930.0498046875,15019.6796875,15139.740234375,14501.1103515625,14694.349609375,14571.25,14747.0302734375,15056.9599609375,14705.6396484375,14253.83984375,14268.58984375,14620.8203125,14603.6396484375,14171.740234375,14009.5400390625,13870.5302734375,13509.4296875,13974.669921875,14189.16015625,14237.8095703125,14005.990234375,14243.6904296875,14035.2099609375,13837.830078125,13319.3798828125,13267.6103515625,13742.2001953125,13591.0,13301.830078125,13046.6396484375,13458.5595703125,13956.7900390625,14118.599609375,14420.080078125,14376.08984375,14654.330078125,14447.5498046875,14765.6904296875,14754.3095703125,14987.400390625,15239.3203125,15071.5498046875,14838.490234375,14861.2099609375,15159.580078125,14820.6396484375,14498.8896484375,14531.8095703125,14327.259765625,13990.2099609375,13940.240234375,14217.2900390625,13893.2099609375,13910.759765625,14210.259765625,13998.5302734375,13720.4501953125,13356.8701171875,13533.2197265625,13009.7099609375,13003.3603515625,13456.0595703125,12854.7998046875,13075.849609375,13089.900390625,13535.7099609375,12850.5498046875,12693.5302734375,12187.7197265625,12345.8603515625,11967.5595703125,11945.5,12387.400390625,12243.580078125,12564.099609375,11928.3095703125,11875.6298828125,11835.6201171875],\"yaxis\":\"y\",\"type\":\"scattergl\"}],                        {\"template\":{\"data\":{\"histogram2dcontour\":[{\"type\":\"histogram2dcontour\",\"colorbar\":{\"outlinewidth\":0,\"ticks\":\"\"},\"colorscale\":[[0.0,\"#0d0887\"],[0.1111111111111111,\"#46039f\"],[0.2222222222222222,\"#7201a8\"],[0.3333333333333333,\"#9c179e\"],[0.4444444444444444,\"#bd3786\"],[0.5555555555555556,\"#d8576b\"],[0.6666666666666666,\"#ed7953\"],[0.7777777777777778,\"#fb9f3a\"],[0.8888888888888888,\"#fdca26\"],[1.0,\"#f0f921\"]]}],\"choropleth\":[{\"type\":\"choropleth\",\"colorbar\":{\"outlinewidth\":0,\"ticks\":\"\"}}],\"histogram2d\":[{\"type\":\"histogram2d\",\"colorbar\":{\"outlinewidth\":0,\"ticks\":\"\"},\"colorscale\":[[0.0,\"#0d0887\"],[0.1111111111111111,\"#46039f\"],[0.2222222222222222,\"#7201a8\"],[0.3333333333333333,\"#9c179e\"],[0.4444444444444444,\"#bd3786\"],[0.5555555555555556,\"#d8576b\"],[0.6666666666666666,\"#ed7953\"],[0.7777777777777778,\"#fb9f3a\"],[0.8888888888888888,\"#fdca26\"],[1.0,\"#f0f921\"]]}],\"heatmap\":[{\"type\":\"heatmap\",\"colorbar\":{\"outlinewidth\":0,\"ticks\":\"\"},\"colorscale\":[[0.0,\"#0d0887\"],[0.1111111111111111,\"#46039f\"],[0.2222222222222222,\"#7201a8\"],[0.3333333333333333,\"#9c179e\"],[0.4444444444444444,\"#bd3786\"],[0.5555555555555556,\"#d8576b\"],[0.6666666666666666,\"#ed7953\"],[0.7777777777777778,\"#fb9f3a\"],[0.8888888888888888,\"#fdca26\"],[1.0,\"#f0f921\"]]}],\"heatmapgl\":[{\"type\":\"heatmapgl\",\"colorbar\":{\"outlinewidth\":0,\"ticks\":\"\"},\"colorscale\":[[0.0,\"#0d0887\"],[0.1111111111111111,\"#46039f\"],[0.2222222222222222,\"#7201a8\"],[0.3333333333333333,\"#9c179e\"],[0.4444444444444444,\"#bd3786\"],[0.5555555555555556,\"#d8576b\"],[0.6666666666666666,\"#ed7953\"],[0.7777777777777778,\"#fb9f3a\"],[0.8888888888888888,\"#fdca26\"],[1.0,\"#f0f921\"]]}],\"contourcarpet\":[{\"type\":\"contourcarpet\",\"colorbar\":{\"outlinewidth\":0,\"ticks\":\"\"}}],\"contour\":[{\"type\":\"contour\",\"colorbar\":{\"outlinewidth\":0,\"ticks\":\"\"},\"colorscale\":[[0.0,\"#0d0887\"],[0.1111111111111111,\"#46039f\"],[0.2222222222222222,\"#7201a8\"],[0.3333333333333333,\"#9c179e\"],[0.4444444444444444,\"#bd3786\"],[0.5555555555555556,\"#d8576b\"],[0.6666666666666666,\"#ed7953\"],[0.7777777777777778,\"#fb9f3a\"],[0.8888888888888888,\"#fdca26\"],[1.0,\"#f0f921\"]]}],\"surface\":[{\"type\":\"surface\",\"colorbar\":{\"outlinewidth\":0,\"ticks\":\"\"},\"colorscale\":[[0.0,\"#0d0887\"],[0.1111111111111111,\"#46039f\"],[0.2222222222222222,\"#7201a8\"],[0.3333333333333333,\"#9c179e\"],[0.4444444444444444,\"#bd3786\"],[0.5555555555555556,\"#d8576b\"],[0.6666666666666666,\"#ed7953\"],[0.7777777777777778,\"#fb9f3a\"],[0.8888888888888888,\"#fdca26\"],[1.0,\"#f0f921\"]]}],\"mesh3d\":[{\"type\":\"mesh3d\",\"colorbar\":{\"outlinewidth\":0,\"ticks\":\"\"}}],\"scatter\":[{\"fillpattern\":{\"fillmode\":\"overlay\",\"size\":10,\"solidity\":0.2},\"type\":\"scatter\"}],\"parcoords\":[{\"type\":\"parcoords\",\"line\":{\"colorbar\":{\"outlinewidth\":0,\"ticks\":\"\"}}}],\"scatterpolargl\":[{\"type\":\"scatterpolargl\",\"marker\":{\"colorbar\":{\"outlinewidth\":0,\"ticks\":\"\"}}}],\"bar\":[{\"error_x\":{\"color\":\"#2a3f5f\"},\"error_y\":{\"color\":\"#2a3f5f\"},\"marker\":{\"line\":{\"color\":\"#E5ECF6\",\"width\":0.5},\"pattern\":{\"fillmode\":\"overlay\",\"size\":10,\"solidity\":0.2}},\"type\":\"bar\"}],\"scattergeo\":[{\"type\":\"scattergeo\",\"marker\":{\"colorbar\":{\"outlinewidth\":0,\"ticks\":\"\"}}}],\"scatterpolar\":[{\"type\":\"scatterpolar\",\"marker\":{\"colorbar\":{\"outlinewidth\":0,\"ticks\":\"\"}}}],\"histogram\":[{\"marker\":{\"pattern\":{\"fillmode\":\"overlay\",\"size\":10,\"solidity\":0.2}},\"type\":\"histogram\"}],\"scattergl\":[{\"type\":\"scattergl\",\"marker\":{\"colorbar\":{\"outlinewidth\":0,\"ticks\":\"\"}}}],\"scatter3d\":[{\"type\":\"scatter3d\",\"line\":{\"colorbar\":{\"outlinewidth\":0,\"ticks\":\"\"}},\"marker\":{\"colorbar\":{\"outlinewidth\":0,\"ticks\":\"\"}}}],\"scattermapbox\":[{\"type\":\"scattermapbox\",\"marker\":{\"colorbar\":{\"outlinewidth\":0,\"ticks\":\"\"}}}],\"scatterternary\":[{\"type\":\"scatterternary\",\"marker\":{\"colorbar\":{\"outlinewidth\":0,\"ticks\":\"\"}}}],\"scattercarpet\":[{\"type\":\"scattercarpet\",\"marker\":{\"colorbar\":{\"outlinewidth\":0,\"ticks\":\"\"}}}],\"carpet\":[{\"aaxis\":{\"endlinecolor\":\"#2a3f5f\",\"gridcolor\":\"white\",\"linecolor\":\"white\",\"minorgridcolor\":\"white\",\"startlinecolor\":\"#2a3f5f\"},\"baxis\":{\"endlinecolor\":\"#2a3f5f\",\"gridcolor\":\"white\",\"linecolor\":\"white\",\"minorgridcolor\":\"white\",\"startlinecolor\":\"#2a3f5f\"},\"type\":\"carpet\"}],\"table\":[{\"cells\":{\"fill\":{\"color\":\"#EBF0F8\"},\"line\":{\"color\":\"white\"}},\"header\":{\"fill\":{\"color\":\"#C8D4E3\"},\"line\":{\"color\":\"white\"}},\"type\":\"table\"}],\"barpolar\":[{\"marker\":{\"line\":{\"color\":\"#E5ECF6\",\"width\":0.5},\"pattern\":{\"fillmode\":\"overlay\",\"size\":10,\"solidity\":0.2}},\"type\":\"barpolar\"}],\"pie\":[{\"automargin\":true,\"type\":\"pie\"}]},\"layout\":{\"autotypenumbers\":\"strict\",\"colorway\":[\"#636efa\",\"#EF553B\",\"#00cc96\",\"#ab63fa\",\"#FFA15A\",\"#19d3f3\",\"#FF6692\",\"#B6E880\",\"#FF97FF\",\"#FECB52\"],\"font\":{\"color\":\"#2a3f5f\"},\"hovermode\":\"closest\",\"hoverlabel\":{\"align\":\"left\"},\"paper_bgcolor\":\"white\",\"plot_bgcolor\":\"#E5ECF6\",\"polar\":{\"bgcolor\":\"#E5ECF6\",\"angularaxis\":{\"gridcolor\":\"white\",\"linecolor\":\"white\",\"ticks\":\"\"},\"radialaxis\":{\"gridcolor\":\"white\",\"linecolor\":\"white\",\"ticks\":\"\"}},\"ternary\":{\"bgcolor\":\"#E5ECF6\",\"aaxis\":{\"gridcolor\":\"white\",\"linecolor\":\"white\",\"ticks\":\"\"},\"baxis\":{\"gridcolor\":\"white\",\"linecolor\":\"white\",\"ticks\":\"\"},\"caxis\":{\"gridcolor\":\"white\",\"linecolor\":\"white\",\"ticks\":\"\"}},\"coloraxis\":{\"colorbar\":{\"outlinewidth\":0,\"ticks\":\"\"}},\"colorscale\":{\"sequential\":[[0.0,\"#0d0887\"],[0.1111111111111111,\"#46039f\"],[0.2222222222222222,\"#7201a8\"],[0.3333333333333333,\"#9c179e\"],[0.4444444444444444,\"#bd3786\"],[0.5555555555555556,\"#d8576b\"],[0.6666666666666666,\"#ed7953\"],[0.7777777777777778,\"#fb9f3a\"],[0.8888888888888888,\"#fdca26\"],[1.0,\"#f0f921\"]],\"sequentialminus\":[[0.0,\"#0d0887\"],[0.1111111111111111,\"#46039f\"],[0.2222222222222222,\"#7201a8\"],[0.3333333333333333,\"#9c179e\"],[0.4444444444444444,\"#bd3786\"],[0.5555555555555556,\"#d8576b\"],[0.6666666666666666,\"#ed7953\"],[0.7777777777777778,\"#fb9f3a\"],[0.8888888888888888,\"#fdca26\"],[1.0,\"#f0f921\"]],\"diverging\":[[0,\"#8e0152\"],[0.1,\"#c51b7d\"],[0.2,\"#de77ae\"],[0.3,\"#f1b6da\"],[0.4,\"#fde0ef\"],[0.5,\"#f7f7f7\"],[0.6,\"#e6f5d0\"],[0.7,\"#b8e186\"],[0.8,\"#7fbc41\"],[0.9,\"#4d9221\"],[1,\"#276419\"]]},\"xaxis\":{\"gridcolor\":\"white\",\"linecolor\":\"white\",\"ticks\":\"\",\"title\":{\"standoff\":15},\"zerolinecolor\":\"white\",\"automargin\":true,\"zerolinewidth\":2},\"yaxis\":{\"gridcolor\":\"white\",\"linecolor\":\"white\",\"ticks\":\"\",\"title\":{\"standoff\":15},\"zerolinecolor\":\"white\",\"automargin\":true,\"zerolinewidth\":2},\"scene\":{\"xaxis\":{\"backgroundcolor\":\"#E5ECF6\",\"gridcolor\":\"white\",\"linecolor\":\"white\",\"showbackground\":true,\"ticks\":\"\",\"zerolinecolor\":\"white\",\"gridwidth\":2},\"yaxis\":{\"backgroundcolor\":\"#E5ECF6\",\"gridcolor\":\"white\",\"linecolor\":\"white\",\"showbackground\":true,\"ticks\":\"\",\"zerolinecolor\":\"white\",\"gridwidth\":2},\"zaxis\":{\"backgroundcolor\":\"#E5ECF6\",\"gridcolor\":\"white\",\"linecolor\":\"white\",\"showbackground\":true,\"ticks\":\"\",\"zerolinecolor\":\"white\",\"gridwidth\":2}},\"shapedefaults\":{\"line\":{\"color\":\"#2a3f5f\"}},\"annotationdefaults\":{\"arrowcolor\":\"#2a3f5f\",\"arrowhead\":0,\"arrowwidth\":1},\"geo\":{\"bgcolor\":\"white\",\"landcolor\":\"#E5ECF6\",\"subunitcolor\":\"white\",\"showland\":true,\"showlakes\":true,\"lakecolor\":\"white\"},\"title\":{\"x\":0.05},\"mapbox\":{\"style\":\"light\"}}},\"xaxis\":{\"anchor\":\"y\",\"domain\":[0.0,1.0],\"title\":{\"text\":\"Date\"}},\"yaxis\":{\"anchor\":\"x\",\"domain\":[0.0,1.0],\"title\":{\"text\":\"Close\"}},\"legend\":{\"title\":{\"text\":\"name\"},\"tracegroupgap\":0},\"margin\":{\"t\":60},\"shapes\":[{\"line\":{\"dash\":\"dash\"},\"type\":\"line\",\"x0\":\"2020-03-13\",\"x1\":\"2020-03-13\",\"xref\":\"x\",\"y0\":0,\"y1\":1,\"yref\":\"y domain\"},{\"line\":{\"dash\":\"dash\"},\"type\":\"line\",\"x0\":\"2020-12-14\",\"x1\":\"2020-12-14\",\"xref\":\"x\",\"y0\":0,\"y1\":1,\"yref\":\"y domain\"},{\"line\":{\"dash\":\"dash\"},\"type\":\"line\",\"x0\":\"2021-06-01\",\"x1\":\"2021-06-01\",\"xref\":\"x\",\"y0\":0,\"y1\":1,\"yref\":\"y domain\"},{\"line\":{\"dash\":\"dash\"},\"type\":\"line\",\"x0\":\"2021-11-26\",\"x1\":\"2021-11-26\",\"xref\":\"x\",\"y0\":0,\"y1\":1,\"yref\":\"y domain\"}],\"annotations\":[{\"arrowhead\":1,\"showarrow\":true,\"text\":\"Emergency state in the USA\",\"x\":\"2020-03-13\",\"y\":16573.33984375},{\"arrowhead\":1,\"showarrow\":true,\"text\":\"First vaccin in the USA\",\"x\":\"2020-12-14\",\"y\":16573.33984375},{\"arrowhead\":1,\"showarrow\":true,\"text\":\"Delta variant\",\"x\":\"2021-06-01\",\"y\":16573.33984375},{\"arrowhead\":1,\"showarrow\":true,\"text\":\"Omircron variant\",\"x\":\"2021-11-26\",\"y\":16573.33984375}]},                        {\"responsive\": true}                    ).then(function(){\n",
       "                            \n",
       "var gd = document.getElementById('6feffe87-3d94-48d5-9a5b-c6d0a25f2b7b');\n",
       "var x = new MutationObserver(function (mutations, observer) {{\n",
       "        var display = window.getComputedStyle(gd).display;\n",
       "        if (!display || display === 'none') {{\n",
       "            console.log([gd, 'removed!']);\n",
       "            Plotly.purge(gd);\n",
       "            observer.disconnect();\n",
       "        }}\n",
       "}});\n",
       "\n",
       "// Listen for the removal of the full notebook cells\n",
       "var notebookContainer = gd.closest('#notebook-container');\n",
       "if (notebookContainer) {{\n",
       "    x.observe(notebookContainer, {childList: true});\n",
       "}}\n",
       "\n",
       "// Listen for the clearing of the current output cell\n",
       "var outputEl = gd.closest('.output');\n",
       "if (outputEl) {{\n",
       "    x.observe(outputEl, {childList: true});\n",
       "}}\n",
       "\n",
       "                        })                };                });            </script>        </div>"
      ]
     },
     "metadata": {},
     "output_type": "display_data"
    }
   ],
   "source": [
    "max_y =dfstocks['Close'].max()\n",
    "fig = px.line(dfstocks,y= 'Close' ,color='name')\n",
    "fig.add_vline(x='2020-03-13',line_dash=\"dash\") #emergency state in the USA\n",
    "fig.add_vline(x='2020-12-14',line_dash=\"dash\") #first vaccine in the USA\n",
    "fig.add_vline(x='2021-06-01',line_dash=\"dash\") #delta variant\n",
    "fig.add_vline(x='2021-11-26',line_dash=\"dash\") #omicron variant\n",
    "fig.add_annotation(x='2020-03-13', y=max_y,\n",
    "            text=\"Emergency state in the USA\",\n",
    "            showarrow=True,\n",
    "            arrowhead=1)\n",
    "fig.add_annotation(x='2020-12-14', y=max_y,\n",
    "            text=\"First vaccin in the USA\",\n",
    "            showarrow=True,\n",
    "            arrowhead=1)\n",
    "fig.add_annotation(x='2021-06-01', y=max_y,\n",
    "            text=\"Delta variant\",\n",
    "            showarrow=True,\n",
    "            arrowhead=1)\n",
    "fig.add_annotation(x='2021-11-26', y=max_y,\n",
    "            text=\"Omircron variant\",\n",
    "            showarrow=True,\n",
    "            arrowhead=1)\n",
    "\n",
    "\n"
   ]
  },
  {
   "cell_type": "code",
   "execution_count": 210,
   "id": "070021d0",
   "metadata": {
    "ExecuteTime": {
     "end_time": "2022-05-25T09:44:26.075640Z",
     "start_time": "2022-05-25T09:44:26.066119Z"
    }
   },
   "outputs": [],
   "source": [
    "#compute changes over 7 days in % after each of those events\n",
    "def changes(data,events):\n",
    "    changes= list()\n",
    "    for e in events:\n",
    "        e_start = data['Close'][(data.index ==e)].values[0]\n",
    "        e_end_d = dt.datetime.strptime(e, \"%Y-%m-%d\")+ dt.timedelta(days=7)\n",
    "        e_end = data['Close'][(data.index ==e_end_d)].values[0]\n",
    "        e_change=((e_end-e_start)/e_start)*100\n",
    "        changes.append(e_change)\n",
    "    return changes"
   ]
  },
  {
   "cell_type": "code",
   "execution_count": 233,
   "id": "5ff09be9",
   "metadata": {
    "ExecuteTime": {
     "end_time": "2022-05-25T10:03:13.474746Z",
     "start_time": "2022-05-25T10:03:13.427888Z"
    }
   },
   "outputs": [],
   "source": [
    "ndx_changes = changes(dfndx,['2020-03-13','2020-12-14','2021-06-01','2021-11-26'])\n",
    "sp500_changes = changes(dfsp500,['2020-03-13','2020-12-14','2021-06-01','2021-11-26'])"
   ]
  },
  {
   "cell_type": "code",
   "execution_count": 238,
   "id": "e5520472",
   "metadata": {
    "ExecuteTime": {
     "end_time": "2022-05-25T10:05:28.490463Z",
     "start_time": "2022-05-25T10:05:28.422872Z"
    }
   },
   "outputs": [
    {
     "data": {
      "text/markdown": [
       "#### The declaration of the emergency state had a big impact on both s&p500 and nasdaq stock as their values were down by  -12.52% and -14.98% respectively. Neither the first vaccin nor the arrival of the delta variant seem to have had an impact   as both stayed on the same trend. The Omicron variant has a small impact on both as their values were down by -1.96% and -1.22% after 7 days of the first case."
      ],
      "text/plain": [
       "<IPython.core.display.Markdown object>"
      ]
     },
     "execution_count": 238,
     "metadata": {},
     "output_type": "execute_result"
    }
   ],
   "source": [
    "md(\"#### The declaration of the emergency state had a big impact on both s&p500 and nasdaq stock as their values were down by  {}% and {}% respectively. Neither the first vaccin nor the arrival of the delta variant seem to have had an impact   as both stayed on the same trend. The Omicron variant has a small impact on both as their values were down by {}% and {}% after 7 days of the first case.\"\n",
    "   .format(round(ndx_changes[0],3),round(sp500_changes[0],3), round(ndx_changes[3],2),round(sp500_changes[3],2)))"
   ]
  },
  {
   "cell_type": "code",
   "execution_count": null,
   "id": "957b545b",
   "metadata": {},
   "outputs": [],
   "source": []
  },
  {
   "cell_type": "code",
   "execution_count": null,
   "id": "756f84be",
   "metadata": {},
   "outputs": [],
   "source": []
  },
  {
   "cell_type": "code",
   "execution_count": null,
   "id": "ac9ef8a7",
   "metadata": {},
   "outputs": [],
   "source": []
  },
  {
   "cell_type": "code",
   "execution_count": null,
   "id": "beebf9aa",
   "metadata": {},
   "outputs": [],
   "source": []
  },
  {
   "cell_type": "code",
   "execution_count": 18,
   "id": "4d6dcfa3",
   "metadata": {
    "ExecuteTime": {
     "end_time": "2022-05-24T08:45:57.757436Z",
     "start_time": "2022-05-24T08:45:57.744083Z"
    }
   },
   "outputs": [],
   "source": [
    "##anova for prisons \n",
    "pri = pd.read_csv('covid-19-data/prisons/systems.csv')"
   ]
  },
  {
   "cell_type": "code",
   "execution_count": 45,
   "id": "041b3f2a",
   "metadata": {
    "ExecuteTime": {
     "end_time": "2022-05-24T09:20:55.933091Z",
     "start_time": "2022-05-24T09:20:55.794686Z"
    },
    "collapsed": true
   },
   "outputs": [
    {
     "ename": "KeyError",
     "evalue": "'[50 51 52 53] not found in axis'",
     "output_type": "error",
     "traceback": [
      "\u001b[0;31m---------------------------------------------------------------------------\u001b[0m",
      "\u001b[0;31mKeyError\u001b[0m                                  Traceback (most recent call last)",
      "\u001b[0;32m/var/folders/07/cbtj5f0s2_v0hy9qt2t1zqgc0000gn/T/ipykernel_6015/359270862.py\u001b[0m in \u001b[0;36m<module>\u001b[0;34m\u001b[0m\n\u001b[0;32m----> 1\u001b[0;31m \u001b[0mpri\u001b[0m\u001b[0;34m.\u001b[0m\u001b[0mdrop\u001b[0m\u001b[0;34m(\u001b[0m\u001b[0;34m[\u001b[0m\u001b[0;36m50\u001b[0m\u001b[0;34m,\u001b[0m\u001b[0;36m51\u001b[0m\u001b[0;34m,\u001b[0m\u001b[0;36m52\u001b[0m\u001b[0;34m,\u001b[0m\u001b[0;36m53\u001b[0m\u001b[0;34m]\u001b[0m\u001b[0;34m,\u001b[0m\u001b[0minplace\u001b[0m\u001b[0;34m=\u001b[0m\u001b[0;32mTrue\u001b[0m\u001b[0;34m)\u001b[0m\u001b[0;34m\u001b[0m\u001b[0;34m\u001b[0m\u001b[0m\n\u001b[0m\u001b[1;32m      2\u001b[0m \u001b[0mpri\u001b[0m\u001b[0;34m.\u001b[0m\u001b[0mtail\u001b[0m\u001b[0;34m(\u001b[0m\u001b[0;34m)\u001b[0m\u001b[0;34m\u001b[0m\u001b[0;34m\u001b[0m\u001b[0m\n",
      "\u001b[0;32m~/opt/anaconda3/lib/python3.9/site-packages/pandas/util/_decorators.py\u001b[0m in \u001b[0;36mwrapper\u001b[0;34m(*args, **kwargs)\u001b[0m\n\u001b[1;32m    309\u001b[0m                     \u001b[0mstacklevel\u001b[0m\u001b[0;34m=\u001b[0m\u001b[0mstacklevel\u001b[0m\u001b[0;34m,\u001b[0m\u001b[0;34m\u001b[0m\u001b[0;34m\u001b[0m\u001b[0m\n\u001b[1;32m    310\u001b[0m                 )\n\u001b[0;32m--> 311\u001b[0;31m             \u001b[0;32mreturn\u001b[0m \u001b[0mfunc\u001b[0m\u001b[0;34m(\u001b[0m\u001b[0;34m*\u001b[0m\u001b[0margs\u001b[0m\u001b[0;34m,\u001b[0m \u001b[0;34m**\u001b[0m\u001b[0mkwargs\u001b[0m\u001b[0;34m)\u001b[0m\u001b[0;34m\u001b[0m\u001b[0;34m\u001b[0m\u001b[0m\n\u001b[0m\u001b[1;32m    312\u001b[0m \u001b[0;34m\u001b[0m\u001b[0m\n\u001b[1;32m    313\u001b[0m         \u001b[0;32mreturn\u001b[0m \u001b[0mwrapper\u001b[0m\u001b[0;34m\u001b[0m\u001b[0;34m\u001b[0m\u001b[0m\n",
      "\u001b[0;32m~/opt/anaconda3/lib/python3.9/site-packages/pandas/core/frame.py\u001b[0m in \u001b[0;36mdrop\u001b[0;34m(self, labels, axis, index, columns, level, inplace, errors)\u001b[0m\n\u001b[1;32m   4904\u001b[0m                 \u001b[0mweight\u001b[0m  \u001b[0;36m1.0\u001b[0m     \u001b[0;36m0.8\u001b[0m\u001b[0;34m\u001b[0m\u001b[0;34m\u001b[0m\u001b[0m\n\u001b[1;32m   4905\u001b[0m         \"\"\"\n\u001b[0;32m-> 4906\u001b[0;31m         return super().drop(\n\u001b[0m\u001b[1;32m   4907\u001b[0m             \u001b[0mlabels\u001b[0m\u001b[0;34m=\u001b[0m\u001b[0mlabels\u001b[0m\u001b[0;34m,\u001b[0m\u001b[0;34m\u001b[0m\u001b[0;34m\u001b[0m\u001b[0m\n\u001b[1;32m   4908\u001b[0m             \u001b[0maxis\u001b[0m\u001b[0;34m=\u001b[0m\u001b[0maxis\u001b[0m\u001b[0;34m,\u001b[0m\u001b[0;34m\u001b[0m\u001b[0;34m\u001b[0m\u001b[0m\n",
      "\u001b[0;32m~/opt/anaconda3/lib/python3.9/site-packages/pandas/core/generic.py\u001b[0m in \u001b[0;36mdrop\u001b[0;34m(self, labels, axis, index, columns, level, inplace, errors)\u001b[0m\n\u001b[1;32m   4148\u001b[0m         \u001b[0;32mfor\u001b[0m \u001b[0maxis\u001b[0m\u001b[0;34m,\u001b[0m \u001b[0mlabels\u001b[0m \u001b[0;32min\u001b[0m \u001b[0maxes\u001b[0m\u001b[0;34m.\u001b[0m\u001b[0mitems\u001b[0m\u001b[0;34m(\u001b[0m\u001b[0;34m)\u001b[0m\u001b[0;34m:\u001b[0m\u001b[0;34m\u001b[0m\u001b[0;34m\u001b[0m\u001b[0m\n\u001b[1;32m   4149\u001b[0m             \u001b[0;32mif\u001b[0m \u001b[0mlabels\u001b[0m \u001b[0;32mis\u001b[0m \u001b[0;32mnot\u001b[0m \u001b[0;32mNone\u001b[0m\u001b[0;34m:\u001b[0m\u001b[0;34m\u001b[0m\u001b[0;34m\u001b[0m\u001b[0m\n\u001b[0;32m-> 4150\u001b[0;31m                 \u001b[0mobj\u001b[0m \u001b[0;34m=\u001b[0m \u001b[0mobj\u001b[0m\u001b[0;34m.\u001b[0m\u001b[0m_drop_axis\u001b[0m\u001b[0;34m(\u001b[0m\u001b[0mlabels\u001b[0m\u001b[0;34m,\u001b[0m \u001b[0maxis\u001b[0m\u001b[0;34m,\u001b[0m \u001b[0mlevel\u001b[0m\u001b[0;34m=\u001b[0m\u001b[0mlevel\u001b[0m\u001b[0;34m,\u001b[0m \u001b[0merrors\u001b[0m\u001b[0;34m=\u001b[0m\u001b[0merrors\u001b[0m\u001b[0;34m)\u001b[0m\u001b[0;34m\u001b[0m\u001b[0;34m\u001b[0m\u001b[0m\n\u001b[0m\u001b[1;32m   4151\u001b[0m \u001b[0;34m\u001b[0m\u001b[0m\n\u001b[1;32m   4152\u001b[0m         \u001b[0;32mif\u001b[0m \u001b[0minplace\u001b[0m\u001b[0;34m:\u001b[0m\u001b[0;34m\u001b[0m\u001b[0;34m\u001b[0m\u001b[0m\n",
      "\u001b[0;32m~/opt/anaconda3/lib/python3.9/site-packages/pandas/core/generic.py\u001b[0m in \u001b[0;36m_drop_axis\u001b[0;34m(self, labels, axis, level, errors)\u001b[0m\n\u001b[1;32m   4183\u001b[0m                 \u001b[0mnew_axis\u001b[0m \u001b[0;34m=\u001b[0m \u001b[0maxis\u001b[0m\u001b[0;34m.\u001b[0m\u001b[0mdrop\u001b[0m\u001b[0;34m(\u001b[0m\u001b[0mlabels\u001b[0m\u001b[0;34m,\u001b[0m \u001b[0mlevel\u001b[0m\u001b[0;34m=\u001b[0m\u001b[0mlevel\u001b[0m\u001b[0;34m,\u001b[0m \u001b[0merrors\u001b[0m\u001b[0;34m=\u001b[0m\u001b[0merrors\u001b[0m\u001b[0;34m)\u001b[0m\u001b[0;34m\u001b[0m\u001b[0;34m\u001b[0m\u001b[0m\n\u001b[1;32m   4184\u001b[0m             \u001b[0;32melse\u001b[0m\u001b[0;34m:\u001b[0m\u001b[0;34m\u001b[0m\u001b[0;34m\u001b[0m\u001b[0m\n\u001b[0;32m-> 4185\u001b[0;31m                 \u001b[0mnew_axis\u001b[0m \u001b[0;34m=\u001b[0m \u001b[0maxis\u001b[0m\u001b[0;34m.\u001b[0m\u001b[0mdrop\u001b[0m\u001b[0;34m(\u001b[0m\u001b[0mlabels\u001b[0m\u001b[0;34m,\u001b[0m \u001b[0merrors\u001b[0m\u001b[0;34m=\u001b[0m\u001b[0merrors\u001b[0m\u001b[0;34m)\u001b[0m\u001b[0;34m\u001b[0m\u001b[0;34m\u001b[0m\u001b[0m\n\u001b[0m\u001b[1;32m   4186\u001b[0m             \u001b[0mresult\u001b[0m \u001b[0;34m=\u001b[0m \u001b[0mself\u001b[0m\u001b[0;34m.\u001b[0m\u001b[0mreindex\u001b[0m\u001b[0;34m(\u001b[0m\u001b[0;34m**\u001b[0m\u001b[0;34m{\u001b[0m\u001b[0maxis_name\u001b[0m\u001b[0;34m:\u001b[0m \u001b[0mnew_axis\u001b[0m\u001b[0;34m}\u001b[0m\u001b[0;34m)\u001b[0m\u001b[0;34m\u001b[0m\u001b[0;34m\u001b[0m\u001b[0m\n\u001b[1;32m   4187\u001b[0m \u001b[0;34m\u001b[0m\u001b[0m\n",
      "\u001b[0;32m~/opt/anaconda3/lib/python3.9/site-packages/pandas/core/indexes/base.py\u001b[0m in \u001b[0;36mdrop\u001b[0;34m(self, labels, errors)\u001b[0m\n\u001b[1;32m   6015\u001b[0m         \u001b[0;32mif\u001b[0m \u001b[0mmask\u001b[0m\u001b[0;34m.\u001b[0m\u001b[0many\u001b[0m\u001b[0;34m(\u001b[0m\u001b[0;34m)\u001b[0m\u001b[0;34m:\u001b[0m\u001b[0;34m\u001b[0m\u001b[0;34m\u001b[0m\u001b[0m\n\u001b[1;32m   6016\u001b[0m             \u001b[0;32mif\u001b[0m \u001b[0merrors\u001b[0m \u001b[0;34m!=\u001b[0m \u001b[0;34m\"ignore\"\u001b[0m\u001b[0;34m:\u001b[0m\u001b[0;34m\u001b[0m\u001b[0;34m\u001b[0m\u001b[0m\n\u001b[0;32m-> 6017\u001b[0;31m                 \u001b[0;32mraise\u001b[0m \u001b[0mKeyError\u001b[0m\u001b[0;34m(\u001b[0m\u001b[0;34mf\"{labels[mask]} not found in axis\"\u001b[0m\u001b[0;34m)\u001b[0m\u001b[0;34m\u001b[0m\u001b[0;34m\u001b[0m\u001b[0m\n\u001b[0m\u001b[1;32m   6018\u001b[0m             \u001b[0mindexer\u001b[0m \u001b[0;34m=\u001b[0m \u001b[0mindexer\u001b[0m\u001b[0;34m[\u001b[0m\u001b[0;34m~\u001b[0m\u001b[0mmask\u001b[0m\u001b[0;34m]\u001b[0m\u001b[0;34m\u001b[0m\u001b[0;34m\u001b[0m\u001b[0m\n\u001b[1;32m   6019\u001b[0m         \u001b[0;32mreturn\u001b[0m \u001b[0mself\u001b[0m\u001b[0;34m.\u001b[0m\u001b[0mdelete\u001b[0m\u001b[0;34m(\u001b[0m\u001b[0mindexer\u001b[0m\u001b[0;34m)\u001b[0m\u001b[0;34m\u001b[0m\u001b[0;34m\u001b[0m\u001b[0m\n",
      "\u001b[0;31mKeyError\u001b[0m: '[50 51 52 53] not found in axis'"
     ]
    }
   ],
   "source": [
    "pri.drop([50,51,52,53],inplace=True)"
   ]
  },
  {
   "cell_type": "code",
   "execution_count": 54,
   "id": "7701b997",
   "metadata": {
    "ExecuteTime": {
     "end_time": "2022-05-24T09:28:13.628934Z",
     "start_time": "2022-05-24T09:28:13.595415Z"
    }
   },
   "outputs": [
    {
     "data": {
      "text/html": [
       "<div>\n",
       "<style scoped>\n",
       "    .dataframe tbody tr th:only-of-type {\n",
       "        vertical-align: middle;\n",
       "    }\n",
       "\n",
       "    .dataframe tbody tr th {\n",
       "        vertical-align: top;\n",
       "    }\n",
       "\n",
       "    .dataframe thead th {\n",
       "        text-align: right;\n",
       "    }\n",
       "</style>\n",
       "<table border=\"1\" class=\"dataframe\">\n",
       "  <thead>\n",
       "    <tr style=\"text-align: right;\">\n",
       "      <th></th>\n",
       "      <th>system</th>\n",
       "      <th>inmate_tests</th>\n",
       "      <th>total_inmate_cases</th>\n",
       "      <th>total_inmate_deaths</th>\n",
       "      <th>latest_inmate_population</th>\n",
       "      <th>max_inmate_population_2020</th>\n",
       "      <th>total_officer_cases</th>\n",
       "      <th>total_officer_deaths</th>\n",
       "      <th>total_cases</th>\n",
       "      <th>total_deaths</th>\n",
       "    </tr>\n",
       "  </thead>\n",
       "  <tbody>\n",
       "    <tr>\n",
       "      <th>0</th>\n",
       "      <td>Alabama</td>\n",
       "      <td>15505.0</td>\n",
       "      <td>1601</td>\n",
       "      <td>64</td>\n",
       "      <td>19144.0</td>\n",
       "      <td>21900.0</td>\n",
       "      <td>1019.0</td>\n",
       "      <td>3.0</td>\n",
       "      <td>2620.0</td>\n",
       "      <td>67.0</td>\n",
       "    </tr>\n",
       "    <tr>\n",
       "      <th>1</th>\n",
       "      <td>Alaska</td>\n",
       "      <td>27756.0</td>\n",
       "      <td>2428</td>\n",
       "      <td>5</td>\n",
       "      <td>5011.0</td>\n",
       "      <td>5143.0</td>\n",
       "      <td>85.0</td>\n",
       "      <td>0.0</td>\n",
       "      <td>2513.0</td>\n",
       "      <td>5.0</td>\n",
       "    </tr>\n",
       "    <tr>\n",
       "      <th>2</th>\n",
       "      <td>Arizona</td>\n",
       "      <td>43652.0</td>\n",
       "      <td>12229</td>\n",
       "      <td>44</td>\n",
       "      <td>38248.0</td>\n",
       "      <td>41674.0</td>\n",
       "      <td>2739.0</td>\n",
       "      <td>0.0</td>\n",
       "      <td>14968.0</td>\n",
       "      <td>44.0</td>\n",
       "    </tr>\n",
       "    <tr>\n",
       "      <th>3</th>\n",
       "      <td>Arkansas</td>\n",
       "      <td>0.0</td>\n",
       "      <td>11378</td>\n",
       "      <td>52</td>\n",
       "      <td>14729.0</td>\n",
       "      <td>15886.0</td>\n",
       "      <td>424.0</td>\n",
       "      <td>5.0</td>\n",
       "      <td>11802.0</td>\n",
       "      <td>57.0</td>\n",
       "    </tr>\n",
       "    <tr>\n",
       "      <th>4</th>\n",
       "      <td>California</td>\n",
       "      <td>121207.0</td>\n",
       "      <td>49511</td>\n",
       "      <td>217</td>\n",
       "      <td>110471.0</td>\n",
       "      <td>117767.0</td>\n",
       "      <td>16090.0</td>\n",
       "      <td>26.0</td>\n",
       "      <td>65601.0</td>\n",
       "      <td>243.0</td>\n",
       "    </tr>\n",
       "  </tbody>\n",
       "</table>\n",
       "</div>"
      ],
      "text/plain": [
       "       system  inmate_tests  total_inmate_cases  total_inmate_deaths  \\\n",
       "0     Alabama       15505.0                1601                   64   \n",
       "1      Alaska       27756.0                2428                    5   \n",
       "2     Arizona       43652.0               12229                   44   \n",
       "3    Arkansas           0.0               11378                   52   \n",
       "4  California      121207.0               49511                  217   \n",
       "\n",
       "   latest_inmate_population  max_inmate_population_2020  total_officer_cases  \\\n",
       "0                   19144.0                     21900.0               1019.0   \n",
       "1                    5011.0                      5143.0                 85.0   \n",
       "2                   38248.0                     41674.0               2739.0   \n",
       "3                   14729.0                     15886.0                424.0   \n",
       "4                  110471.0                    117767.0              16090.0   \n",
       "\n",
       "   total_officer_deaths  total_cases  total_deaths  \n",
       "0                   3.0       2620.0          67.0  \n",
       "1                   0.0       2513.0           5.0  \n",
       "2                   0.0      14968.0          44.0  \n",
       "3                   5.0      11802.0          57.0  \n",
       "4                  26.0      65601.0         243.0  "
      ]
     },
     "execution_count": 54,
     "metadata": {},
     "output_type": "execute_result"
    }
   ],
   "source": [
    "pri.head()"
   ]
  },
  {
   "cell_type": "code",
   "execution_count": 47,
   "id": "3ba08ded",
   "metadata": {
    "ExecuteTime": {
     "end_time": "2022-05-24T09:21:11.636959Z",
     "start_time": "2022-05-24T09:21:11.594867Z"
    }
   },
   "outputs": [
    {
     "data": {
      "text/html": [
       "<div>\n",
       "<style scoped>\n",
       "    .dataframe tbody tr th:only-of-type {\n",
       "        vertical-align: middle;\n",
       "    }\n",
       "\n",
       "    .dataframe tbody tr th {\n",
       "        vertical-align: top;\n",
       "    }\n",
       "\n",
       "    .dataframe thead th {\n",
       "        text-align: right;\n",
       "    }\n",
       "</style>\n",
       "<table border=\"1\" class=\"dataframe\">\n",
       "  <thead>\n",
       "    <tr style=\"text-align: right;\">\n",
       "      <th></th>\n",
       "      <th>inmate_tests</th>\n",
       "      <th>total_inmate_cases</th>\n",
       "      <th>total_inmate_deaths</th>\n",
       "      <th>latest_inmate_population</th>\n",
       "      <th>max_inmate_population_2020</th>\n",
       "      <th>total_officer_cases</th>\n",
       "      <th>total_officer_deaths</th>\n",
       "      <th>total_cases</th>\n",
       "      <th>total_deaths</th>\n",
       "    </tr>\n",
       "  </thead>\n",
       "  <tbody>\n",
       "    <tr>\n",
       "      <th>count</th>\n",
       "      <td>50.000000</td>\n",
       "      <td>50.000000</td>\n",
       "      <td>50.000000</td>\n",
       "      <td>50.000000</td>\n",
       "      <td>50.000000</td>\n",
       "      <td>50.000000</td>\n",
       "      <td>50.000000</td>\n",
       "      <td>50.000000</td>\n",
       "      <td>50.000000</td>\n",
       "    </tr>\n",
       "    <tr>\n",
       "      <th>mean</th>\n",
       "      <td>76442.720000</td>\n",
       "      <td>6902.400000</td>\n",
       "      <td>45.900000</td>\n",
       "      <td>20678.420000</td>\n",
       "      <td>23632.580000</td>\n",
       "      <td>1956.840000</td>\n",
       "      <td>3.480000</td>\n",
       "      <td>8859.240000</td>\n",
       "      <td>49.380000</td>\n",
       "    </tr>\n",
       "    <tr>\n",
       "      <th>std</th>\n",
       "      <td>130952.898986</td>\n",
       "      <td>8859.677962</td>\n",
       "      <td>54.334283</td>\n",
       "      <td>25759.930956</td>\n",
       "      <td>29959.091043</td>\n",
       "      <td>2892.597113</td>\n",
       "      <td>7.220266</td>\n",
       "      <td>11583.795269</td>\n",
       "      <td>59.809524</td>\n",
       "    </tr>\n",
       "    <tr>\n",
       "      <th>min</th>\n",
       "      <td>0.000000</td>\n",
       "      <td>169.000000</td>\n",
       "      <td>0.000000</td>\n",
       "      <td>0.000000</td>\n",
       "      <td>1397.000000</td>\n",
       "      <td>45.000000</td>\n",
       "      <td>0.000000</td>\n",
       "      <td>214.000000</td>\n",
       "      <td>0.000000</td>\n",
       "    </tr>\n",
       "    <tr>\n",
       "      <th>25%</th>\n",
       "      <td>12442.250000</td>\n",
       "      <td>2103.750000</td>\n",
       "      <td>9.750000</td>\n",
       "      <td>5466.250000</td>\n",
       "      <td>6053.750000</td>\n",
       "      <td>405.250000</td>\n",
       "      <td>0.000000</td>\n",
       "      <td>2536.750000</td>\n",
       "      <td>11.250000</td>\n",
       "    </tr>\n",
       "    <tr>\n",
       "      <th>50%</th>\n",
       "      <td>29985.000000</td>\n",
       "      <td>4099.000000</td>\n",
       "      <td>31.000000</td>\n",
       "      <td>13731.000000</td>\n",
       "      <td>15323.500000</td>\n",
       "      <td>1018.500000</td>\n",
       "      <td>1.500000</td>\n",
       "      <td>5573.500000</td>\n",
       "      <td>32.000000</td>\n",
       "    </tr>\n",
       "    <tr>\n",
       "      <th>75%</th>\n",
       "      <td>73595.000000</td>\n",
       "      <td>8483.750000</td>\n",
       "      <td>52.750000</td>\n",
       "      <td>24962.250000</td>\n",
       "      <td>30990.750000</td>\n",
       "      <td>2158.250000</td>\n",
       "      <td>4.000000</td>\n",
       "      <td>11288.250000</td>\n",
       "      <td>55.500000</td>\n",
       "    </tr>\n",
       "    <tr>\n",
       "      <th>max</th>\n",
       "      <td>673822.000000</td>\n",
       "      <td>49511.000000</td>\n",
       "      <td>220.000000</td>\n",
       "      <td>127814.000000</td>\n",
       "      <td>162000.000000</td>\n",
       "      <td>16090.000000</td>\n",
       "      <td>44.000000</td>\n",
       "      <td>65601.000000</td>\n",
       "      <td>250.000000</td>\n",
       "    </tr>\n",
       "  </tbody>\n",
       "</table>\n",
       "</div>"
      ],
      "text/plain": [
       "        inmate_tests  total_inmate_cases  total_inmate_deaths  \\\n",
       "count      50.000000           50.000000            50.000000   \n",
       "mean    76442.720000         6902.400000            45.900000   \n",
       "std    130952.898986         8859.677962            54.334283   \n",
       "min         0.000000          169.000000             0.000000   \n",
       "25%     12442.250000         2103.750000             9.750000   \n",
       "50%     29985.000000         4099.000000            31.000000   \n",
       "75%     73595.000000         8483.750000            52.750000   \n",
       "max    673822.000000        49511.000000           220.000000   \n",
       "\n",
       "       latest_inmate_population  max_inmate_population_2020  \\\n",
       "count                 50.000000                   50.000000   \n",
       "mean               20678.420000                23632.580000   \n",
       "std                25759.930956                29959.091043   \n",
       "min                    0.000000                 1397.000000   \n",
       "25%                 5466.250000                 6053.750000   \n",
       "50%                13731.000000                15323.500000   \n",
       "75%                24962.250000                30990.750000   \n",
       "max               127814.000000               162000.000000   \n",
       "\n",
       "       total_officer_cases  total_officer_deaths   total_cases  total_deaths  \n",
       "count            50.000000             50.000000     50.000000     50.000000  \n",
       "mean           1956.840000              3.480000   8859.240000     49.380000  \n",
       "std            2892.597113              7.220266  11583.795269     59.809524  \n",
       "min              45.000000              0.000000    214.000000      0.000000  \n",
       "25%             405.250000              0.000000   2536.750000     11.250000  \n",
       "50%            1018.500000              1.500000   5573.500000     32.000000  \n",
       "75%            2158.250000              4.000000  11288.250000     55.500000  \n",
       "max           16090.000000             44.000000  65601.000000    250.000000  "
      ]
     },
     "execution_count": 47,
     "metadata": {},
     "output_type": "execute_result"
    }
   ],
   "source": [
    "pri.describe()"
   ]
  },
  {
   "cell_type": "code",
   "execution_count": 48,
   "id": "6c75b3f2",
   "metadata": {
    "ExecuteTime": {
     "end_time": "2022-05-24T09:21:18.959329Z",
     "start_time": "2022-05-24T09:21:18.948858Z"
    }
   },
   "outputs": [],
   "source": [
    "pri['total_cases'] = pri['total_inmate_cases']+pri['total_officer_cases']\n",
    "pri['total_deaths'] = pri['total_inmate_deaths']+pri['total_officer_deaths']\n"
   ]
  },
  {
   "cell_type": "code",
   "execution_count": 55,
   "id": "d6591acb",
   "metadata": {
    "ExecuteTime": {
     "end_time": "2022-05-24T09:29:06.034363Z",
     "start_time": "2022-05-24T09:29:06.011759Z"
    }
   },
   "outputs": [],
   "source": [
    "#case fatality ratio \n",
    "pri['case_fat_r_in'] =(pri['total_inmate_deaths']/pri['total_inmate_cases'])*100\n",
    "pri['case_fat_r_of'] =(pri['total_officer_deaths']/pri['total_officer_cases'])*100"
   ]
  },
  {
   "cell_type": "code",
   "execution_count": 56,
   "id": "61a8941b",
   "metadata": {
    "ExecuteTime": {
     "end_time": "2022-05-24T09:29:12.739813Z",
     "start_time": "2022-05-24T09:29:12.704635Z"
    }
   },
   "outputs": [
    {
     "data": {
      "text/html": [
       "<div>\n",
       "<style scoped>\n",
       "    .dataframe tbody tr th:only-of-type {\n",
       "        vertical-align: middle;\n",
       "    }\n",
       "\n",
       "    .dataframe tbody tr th {\n",
       "        vertical-align: top;\n",
       "    }\n",
       "\n",
       "    .dataframe thead th {\n",
       "        text-align: right;\n",
       "    }\n",
       "</style>\n",
       "<table border=\"1\" class=\"dataframe\">\n",
       "  <thead>\n",
       "    <tr style=\"text-align: right;\">\n",
       "      <th></th>\n",
       "      <th>system</th>\n",
       "      <th>inmate_tests</th>\n",
       "      <th>total_inmate_cases</th>\n",
       "      <th>total_inmate_deaths</th>\n",
       "      <th>latest_inmate_population</th>\n",
       "      <th>max_inmate_population_2020</th>\n",
       "      <th>total_officer_cases</th>\n",
       "      <th>total_officer_deaths</th>\n",
       "      <th>total_cases</th>\n",
       "      <th>total_deaths</th>\n",
       "      <th>case_fat_r_in</th>\n",
       "      <th>case_fat_r_of</th>\n",
       "    </tr>\n",
       "  </thead>\n",
       "  <tbody>\n",
       "    <tr>\n",
       "      <th>0</th>\n",
       "      <td>Alabama</td>\n",
       "      <td>15505.0</td>\n",
       "      <td>1601</td>\n",
       "      <td>64</td>\n",
       "      <td>19144.0</td>\n",
       "      <td>21900.0</td>\n",
       "      <td>1019.0</td>\n",
       "      <td>3.0</td>\n",
       "      <td>2620.0</td>\n",
       "      <td>67.0</td>\n",
       "      <td>3.997502</td>\n",
       "      <td>0.294406</td>\n",
       "    </tr>\n",
       "    <tr>\n",
       "      <th>1</th>\n",
       "      <td>Alaska</td>\n",
       "      <td>27756.0</td>\n",
       "      <td>2428</td>\n",
       "      <td>5</td>\n",
       "      <td>5011.0</td>\n",
       "      <td>5143.0</td>\n",
       "      <td>85.0</td>\n",
       "      <td>0.0</td>\n",
       "      <td>2513.0</td>\n",
       "      <td>5.0</td>\n",
       "      <td>0.205931</td>\n",
       "      <td>0.000000</td>\n",
       "    </tr>\n",
       "    <tr>\n",
       "      <th>2</th>\n",
       "      <td>Arizona</td>\n",
       "      <td>43652.0</td>\n",
       "      <td>12229</td>\n",
       "      <td>44</td>\n",
       "      <td>38248.0</td>\n",
       "      <td>41674.0</td>\n",
       "      <td>2739.0</td>\n",
       "      <td>0.0</td>\n",
       "      <td>14968.0</td>\n",
       "      <td>44.0</td>\n",
       "      <td>0.359800</td>\n",
       "      <td>0.000000</td>\n",
       "    </tr>\n",
       "    <tr>\n",
       "      <th>3</th>\n",
       "      <td>Arkansas</td>\n",
       "      <td>0.0</td>\n",
       "      <td>11378</td>\n",
       "      <td>52</td>\n",
       "      <td>14729.0</td>\n",
       "      <td>15886.0</td>\n",
       "      <td>424.0</td>\n",
       "      <td>5.0</td>\n",
       "      <td>11802.0</td>\n",
       "      <td>57.0</td>\n",
       "      <td>0.457022</td>\n",
       "      <td>1.179245</td>\n",
       "    </tr>\n",
       "    <tr>\n",
       "      <th>4</th>\n",
       "      <td>California</td>\n",
       "      <td>121207.0</td>\n",
       "      <td>49511</td>\n",
       "      <td>217</td>\n",
       "      <td>110471.0</td>\n",
       "      <td>117767.0</td>\n",
       "      <td>16090.0</td>\n",
       "      <td>26.0</td>\n",
       "      <td>65601.0</td>\n",
       "      <td>243.0</td>\n",
       "      <td>0.438286</td>\n",
       "      <td>0.161591</td>\n",
       "    </tr>\n",
       "  </tbody>\n",
       "</table>\n",
       "</div>"
      ],
      "text/plain": [
       "       system  inmate_tests  total_inmate_cases  total_inmate_deaths  \\\n",
       "0     Alabama       15505.0                1601                   64   \n",
       "1      Alaska       27756.0                2428                    5   \n",
       "2     Arizona       43652.0               12229                   44   \n",
       "3    Arkansas           0.0               11378                   52   \n",
       "4  California      121207.0               49511                  217   \n",
       "\n",
       "   latest_inmate_population  max_inmate_population_2020  total_officer_cases  \\\n",
       "0                   19144.0                     21900.0               1019.0   \n",
       "1                    5011.0                      5143.0                 85.0   \n",
       "2                   38248.0                     41674.0               2739.0   \n",
       "3                   14729.0                     15886.0                424.0   \n",
       "4                  110471.0                    117767.0              16090.0   \n",
       "\n",
       "   total_officer_deaths  total_cases  total_deaths  case_fat_r_in  \\\n",
       "0                   3.0       2620.0          67.0       3.997502   \n",
       "1                   0.0       2513.0           5.0       0.205931   \n",
       "2                   0.0      14968.0          44.0       0.359800   \n",
       "3                   5.0      11802.0          57.0       0.457022   \n",
       "4                  26.0      65601.0         243.0       0.438286   \n",
       "\n",
       "   case_fat_r_of  \n",
       "0       0.294406  \n",
       "1       0.000000  \n",
       "2       0.000000  \n",
       "3       1.179245  \n",
       "4       0.161591  "
      ]
     },
     "execution_count": 56,
     "metadata": {},
     "output_type": "execute_result"
    }
   ],
   "source": [
    "pri.head()"
   ]
  },
  {
   "cell_type": "code",
   "execution_count": null,
   "id": "100853cc",
   "metadata": {},
   "outputs": [],
   "source": []
  }
 ],
 "metadata": {
  "kernelspec": {
   "display_name": "Python 3 (ipykernel)",
   "language": "python",
   "name": "python3"
  },
  "language_info": {
   "codemirror_mode": {
    "name": "ipython",
    "version": 3
   },
   "file_extension": ".py",
   "mimetype": "text/x-python",
   "name": "python",
   "nbconvert_exporter": "python",
   "pygments_lexer": "ipython3",
   "version": "3.9.7"
  },
  "toc": {
   "base_numbering": 1,
   "nav_menu": {},
   "number_sections": true,
   "sideBar": true,
   "skip_h1_title": false,
   "title_cell": "Table of Contents",
   "title_sidebar": "Contents",
   "toc_cell": false,
   "toc_position": {},
   "toc_section_display": true,
   "toc_window_display": false
  },
  "varInspector": {
   "cols": {
    "lenName": 16,
    "lenType": 16,
    "lenVar": 40
   },
   "kernels_config": {
    "python": {
     "delete_cmd_postfix": "",
     "delete_cmd_prefix": "del ",
     "library": "var_list.py",
     "varRefreshCmd": "print(var_dic_list())"
    },
    "r": {
     "delete_cmd_postfix": ") ",
     "delete_cmd_prefix": "rm(",
     "library": "var_list.r",
     "varRefreshCmd": "cat(var_dic_list()) "
    }
   },
   "types_to_exclude": [
    "module",
    "function",
    "builtin_function_or_method",
    "instance",
    "_Feature"
   ],
   "window_display": false
  }
 },
 "nbformat": 4,
 "nbformat_minor": 5
}
